{
  "metadata": {
    "kernelspec": {
      "language": "python",
      "display_name": "Python 3",
      "name": "python3"
    },
    "language_info": {
      "pygments_lexer": "ipython3",
      "nbconvert_exporter": "python",
      "version": "3.6.4",
      "file_extension": ".py",
      "codemirror_mode": {
        "name": "ipython",
        "version": 3
      },
      "name": "python",
      "mimetype": "text/x-python"
    },
    "kaggle": {
      "accelerator": "gpu",
      "dataSources": [
        {
          "sourceId": 8240,
          "sourceType": "datasetVersion",
          "datasetId": 5504
        },
        {
          "sourceId": 2510329,
          "sourceType": "datasetVersion",
          "datasetId": 1520310
        }
      ],
      "dockerImageVersionId": 30559,
      "isInternetEnabled": true,
      "language": "python",
      "sourceType": "notebook",
      "isGpuEnabled": true
    },
    "colab": {
      "provenance": [],
      "include_colab_link": true
    }
  },
  "nbformat_minor": 0,
  "nbformat": 4,
  "cells": [
    {
      "cell_type": "markdown",
      "metadata": {
        "id": "view-in-github",
        "colab_type": "text"
      },
      "source": [
        "<a href=\"https://colab.research.google.com/github/mdaffaalghiffari23/KomputasiIntelegensia/blob/main/TaskWeek6__Muhammad_Daffa_Alghiffari.ipynb\" target=\"_parent\"><img src=\"https://colab.research.google.com/assets/colab-badge.svg\" alt=\"Open In Colab\"/></a>"
      ]
    },
    {
      "cell_type": "markdown",
      "source": [
        "Nama: Muhammad Daffa Alghiffari\n",
        "\n",
        "NPM: 2106726075\n",
        "\n",
        "Original Code: https://www.kaggle.com/code/payamamanat/bi-directional-lstm/input"
      ],
      "metadata": {
        "id": "FjWnwJqbkdgJ"
      }
    },
    {
      "source": [
        "import kagglehub\n",
        "thanakomsn_glove6b300dtxt_path = kagglehub.dataset_download('thanakomsn/glove6b300dtxt')\n",
        "jp797498e_twitter_entity_sentiment_analysis_path = kagglehub.dataset_download('jp797498e/twitter-entity-sentiment-analysis')\n",
        "\n",
        "print('Data source import complete.')\n"
      ],
      "metadata": {
        "id": "eTtrA-K0j3_5",
        "outputId": "92ecc7f6-9af9-42f3-fc80-ddb40e00387d",
        "colab": {
          "base_uri": "https://localhost:8080/"
        }
      },
      "cell_type": "code",
      "outputs": [
        {
          "output_type": "stream",
          "name": "stdout",
          "text": [
            "Downloading from https://www.kaggle.com/api/v1/datasets/download/thanakomsn/glove6b300dtxt?dataset_version_number=1...\n"
          ]
        },
        {
          "output_type": "stream",
          "name": "stderr",
          "text": [
            "100%|██████████| 386M/386M [00:07<00:00, 51.5MB/s]"
          ]
        },
        {
          "output_type": "stream",
          "name": "stdout",
          "text": [
            "Extracting files...\n"
          ]
        },
        {
          "output_type": "stream",
          "name": "stderr",
          "text": [
            "\n"
          ]
        },
        {
          "output_type": "stream",
          "name": "stdout",
          "text": [
            "Downloading from https://www.kaggle.com/api/v1/datasets/download/jp797498e/twitter-entity-sentiment-analysis?dataset_version_number=2...\n"
          ]
        },
        {
          "output_type": "stream",
          "name": "stderr",
          "text": [
            "100%|██████████| 1.99M/1.99M [00:00<00:00, 28.5MB/s]"
          ]
        },
        {
          "output_type": "stream",
          "name": "stdout",
          "text": [
            "Extracting files...\n"
          ]
        },
        {
          "output_type": "stream",
          "name": "stderr",
          "text": [
            "\n"
          ]
        },
        {
          "output_type": "stream",
          "name": "stdout",
          "text": [
            "Data source import complete.\n"
          ]
        }
      ],
      "execution_count": null
    },
    {
      "cell_type": "markdown",
      "source": [
        "<a id=\"1\"></a>\n",
        "# <div style=\"padding:20px;color:white;margin:0;font-size:30px;font-family:Georgia;text-align:center;display:fill;border-radius:5px;background-color:#254E58;overflow:hidden\"><b> Twitter (Text classification) </b></div>"
      ],
      "metadata": {
        "id": "0MGfTFj8j3_7"
      }
    },
    {
      "cell_type": "markdown",
      "source": [
        "<center>\n",
        "<img src=\"https://ai-marketplace.orange-business.com/r/img/Twitter_Sentiment_Analysis.png\" width=800 height=500 />\n",
        "</center>"
      ],
      "metadata": {
        "id": "dR0ASRiTj3_9"
      }
    },
    {
      "cell_type": "markdown",
      "source": [
        "<div style=\"border-radius:10px;border:black solid;padding: 15px;background-color:white;font-size:110%;text-align:left\">\n",
        "<div style=\"font-family:Georgia;background-color:'#DEB887'; padding:30px; font-size:17px\">\n",
        "\n",
        "   \n",
        "\n",
        "<h3 align=\"left\"><font color=purple>📝 Project Description:</font></h3><br>\n",
        "\n",
        "Dataset : The dataset is a combination of  74,681 views from different people in Twitter media which includes 4 columns<br>\n",
        "\n",
        "1-Index : which indicates a number for each sample (not important)<br>\n",
        "2-Borderlands : which indicates a number of areas  for each sample <br>\n",
        "3-Mode : The feeling of that person about the text which has shared<br>\n",
        "4-Text : The texture that view that person has shared.<br>\n",
        "\n",
        "Note:In the dataset , columns have wrong names. The names I mentioned above were right <br>\n",
        "\n",
        "Goals: The goal of this notebook is : <br>\n",
        "1-Importing necessary libraries<br>\n",
        "2-Quick scan of dataset<br>\n",
        "3-EDA(Explatory Data Analysis)<br>\n",
        "4-Data cleaning for text<br>\n",
        "5-Introducing a number of methods in NLP:<br>\n",
        "CounterVectorizer <br>\n",
        "TF-IDF <br>\n",
        "N-Grams <br>\n",
        "POS(Part Of Speech)<br>\n",
        "NER(Named Entity Recognition)<br>\n",
        "Stopwords <br>\n",
        "Lemmas and Stems<br>\n",
        "Tokenization<br>\n",
        "Showing common used words and punctuations <br>\n",
        "Wordcloud illustration <br>\n",
        "\n",
        "6-Preparing dataset  by Pytorch and Keras libraries <br>\n",
        "7-Using Bi-directional LSTM to classify the texts<br>\n",
        "\n",
        "Where we can use of text classification ?Why we use ?<br>\n",
        "Actually, there are varous places which we are able to use of text classification ,but, most importantly<br>\n",
        "in social apps such as Twitter , Instegram ...  and different websites etc ... to avoid sharing inappropriate reviws , discrimination and ... .\n",
        "\n",
        "How we can make better acuracy ?<br>\n",
        "There are vatious ways but the best way increasing more data instead 75K\n",
        "\n",
        "<br> </div>"
      ],
      "metadata": {
        "id": "llvAXD-fj3_9"
      }
    },
    {
      "cell_type": "markdown",
      "source": [
        "<a id=\"1\"></a>\n",
        "# <div style=\"padding:20px;color:white;margin:0;font-size:30px;font-family:Georgia;text-align:center;display:fill;border-radius:5px;background-color:#254E58;overflow:hidden\"><b> Importing Libraries</b></div>"
      ],
      "metadata": {
        "id": "kI1qjnw9j3_-"
      }
    },
    {
      "cell_type": "code",
      "source": [
        "import pandas as pd\n",
        "import numpy as np\n",
        "import matplotlib.pyplot as plt\n",
        "import seaborn as sns\n",
        "import spacy\n",
        "import warnings\n",
        "import re\n",
        "import string\n",
        "import random\n",
        "\n",
        "\n",
        "from wordcloud import WordCloud\n",
        "import matplotlib.pyplot as plt\n",
        "from nltk.tokenize import RegexpTokenizer , TweetTokenizer\n",
        "from nltk.stem import WordNetLemmatizer ,PorterStemmer\n",
        "from nltk.corpus import stopwords\n",
        "from collections import defaultdict\n",
        "from collections import Counter\n",
        "from tensorflow.keras.preprocessing.text import one_hot\n",
        "from tensorflow.keras.preprocessing.sequence import pad_sequences\n",
        "import torch\n",
        "import torch.nn as nn\n",
        "import torch.optim as optim\n",
        "import torch.nn.functional as F\n",
        "from torch.utils.data import DataLoader, Dataset\n",
        "import tensorflow as tf\n",
        "\n",
        "from sklearn.feature_extraction.text import CountVectorizer\n",
        "from sklearn.model_selection import train_test_split\n",
        "\n",
        "\n",
        "nlp = spacy.load(\"en_core_web_sm\")\n",
        "warnings.filterwarnings('ignore')"
      ],
      "metadata": {
        "execution": {
          "iopub.status.busy": "2023-11-03T10:40:34.328818Z",
          "iopub.execute_input": "2023-11-03T10:40:34.329379Z",
          "iopub.status.idle": "2023-11-03T10:40:51.649059Z",
          "shell.execute_reply.started": "2023-11-03T10:40:34.329348Z",
          "shell.execute_reply": "2023-11-03T10:40:51.648216Z"
        },
        "trusted": true,
        "id": "KIHJnbSEj3_-"
      },
      "execution_count": null,
      "outputs": []
    },
    {
      "cell_type": "markdown",
      "source": [
        "<div style=\"font-family:Georgia;background-color:aliceblue; padding:30px; font-size:17px ; color:#034914\">\n",
        "\n",
        "**Description**<br>\n",
        "* First we load the dataset and show 7 random samples of it<br>\n",
        "\n",
        "</div>"
      ],
      "metadata": {
        "id": "iILuXYgMj3_-"
      }
    },
    {
      "cell_type": "code",
      "source": [
        "df = pd.read_csv('/kaggle/input/twitter-entity-sentiment-analysis/twitter_training.csv')"
      ],
      "metadata": {
        "execution": {
          "iopub.status.busy": "2023-11-03T10:41:41.05419Z",
          "iopub.execute_input": "2023-11-03T10:41:41.055304Z",
          "iopub.status.idle": "2023-11-03T10:41:41.418374Z",
          "shell.execute_reply.started": "2023-11-03T10:41:41.055272Z",
          "shell.execute_reply": "2023-11-03T10:41:41.417521Z"
        },
        "trusted": true,
        "id": "o9mYqzJij3__",
        "outputId": "78cc5060-34f1-4486-9f4f-47380ba6c7e2",
        "colab": {
          "base_uri": "https://localhost:8080/",
          "height": 304
        }
      },
      "execution_count": null,
      "outputs": [
        {
          "output_type": "error",
          "ename": "FileNotFoundError",
          "evalue": "[Errno 2] No such file or directory: '/kaggle/input/twitter-entity-sentiment-analysis/twitter_training.csv'",
          "traceback": [
            "\u001b[0;31m---------------------------------------------------------------------------\u001b[0m",
            "\u001b[0;31mFileNotFoundError\u001b[0m                         Traceback (most recent call last)",
            "\u001b[0;32m<ipython-input-3-a737379aa2ae>\u001b[0m in \u001b[0;36m<cell line: 1>\u001b[0;34m()\u001b[0m\n\u001b[0;32m----> 1\u001b[0;31m \u001b[0mdf\u001b[0m \u001b[0;34m=\u001b[0m \u001b[0mpd\u001b[0m\u001b[0;34m.\u001b[0m\u001b[0mread_csv\u001b[0m\u001b[0;34m(\u001b[0m\u001b[0;34m'/kaggle/input/twitter-entity-sentiment-analysis/twitter_training.csv'\u001b[0m\u001b[0;34m)\u001b[0m\u001b[0;34m\u001b[0m\u001b[0;34m\u001b[0m\u001b[0m\n\u001b[0m",
            "\u001b[0;32m/usr/local/lib/python3.10/dist-packages/pandas/io/parsers/readers.py\u001b[0m in \u001b[0;36mread_csv\u001b[0;34m(filepath_or_buffer, sep, delimiter, header, names, index_col, usecols, dtype, engine, converters, true_values, false_values, skipinitialspace, skiprows, skipfooter, nrows, na_values, keep_default_na, na_filter, verbose, skip_blank_lines, parse_dates, infer_datetime_format, keep_date_col, date_parser, date_format, dayfirst, cache_dates, iterator, chunksize, compression, thousands, decimal, lineterminator, quotechar, quoting, doublequote, escapechar, comment, encoding, encoding_errors, dialect, on_bad_lines, delim_whitespace, low_memory, memory_map, float_precision, storage_options, dtype_backend)\u001b[0m\n\u001b[1;32m   1024\u001b[0m     \u001b[0mkwds\u001b[0m\u001b[0;34m.\u001b[0m\u001b[0mupdate\u001b[0m\u001b[0;34m(\u001b[0m\u001b[0mkwds_defaults\u001b[0m\u001b[0;34m)\u001b[0m\u001b[0;34m\u001b[0m\u001b[0;34m\u001b[0m\u001b[0m\n\u001b[1;32m   1025\u001b[0m \u001b[0;34m\u001b[0m\u001b[0m\n\u001b[0;32m-> 1026\u001b[0;31m     \u001b[0;32mreturn\u001b[0m \u001b[0m_read\u001b[0m\u001b[0;34m(\u001b[0m\u001b[0mfilepath_or_buffer\u001b[0m\u001b[0;34m,\u001b[0m \u001b[0mkwds\u001b[0m\u001b[0;34m)\u001b[0m\u001b[0;34m\u001b[0m\u001b[0;34m\u001b[0m\u001b[0m\n\u001b[0m\u001b[1;32m   1027\u001b[0m \u001b[0;34m\u001b[0m\u001b[0m\n\u001b[1;32m   1028\u001b[0m \u001b[0;34m\u001b[0m\u001b[0m\n",
            "\u001b[0;32m/usr/local/lib/python3.10/dist-packages/pandas/io/parsers/readers.py\u001b[0m in \u001b[0;36m_read\u001b[0;34m(filepath_or_buffer, kwds)\u001b[0m\n\u001b[1;32m    618\u001b[0m \u001b[0;34m\u001b[0m\u001b[0m\n\u001b[1;32m    619\u001b[0m     \u001b[0;31m# Create the parser.\u001b[0m\u001b[0;34m\u001b[0m\u001b[0;34m\u001b[0m\u001b[0m\n\u001b[0;32m--> 620\u001b[0;31m     \u001b[0mparser\u001b[0m \u001b[0;34m=\u001b[0m \u001b[0mTextFileReader\u001b[0m\u001b[0;34m(\u001b[0m\u001b[0mfilepath_or_buffer\u001b[0m\u001b[0;34m,\u001b[0m \u001b[0;34m**\u001b[0m\u001b[0mkwds\u001b[0m\u001b[0;34m)\u001b[0m\u001b[0;34m\u001b[0m\u001b[0;34m\u001b[0m\u001b[0m\n\u001b[0m\u001b[1;32m    621\u001b[0m \u001b[0;34m\u001b[0m\u001b[0m\n\u001b[1;32m    622\u001b[0m     \u001b[0;32mif\u001b[0m \u001b[0mchunksize\u001b[0m \u001b[0;32mor\u001b[0m \u001b[0miterator\u001b[0m\u001b[0;34m:\u001b[0m\u001b[0;34m\u001b[0m\u001b[0;34m\u001b[0m\u001b[0m\n",
            "\u001b[0;32m/usr/local/lib/python3.10/dist-packages/pandas/io/parsers/readers.py\u001b[0m in \u001b[0;36m__init__\u001b[0;34m(self, f, engine, **kwds)\u001b[0m\n\u001b[1;32m   1618\u001b[0m \u001b[0;34m\u001b[0m\u001b[0m\n\u001b[1;32m   1619\u001b[0m         \u001b[0mself\u001b[0m\u001b[0;34m.\u001b[0m\u001b[0mhandles\u001b[0m\u001b[0;34m:\u001b[0m \u001b[0mIOHandles\u001b[0m \u001b[0;34m|\u001b[0m \u001b[0;32mNone\u001b[0m \u001b[0;34m=\u001b[0m \u001b[0;32mNone\u001b[0m\u001b[0;34m\u001b[0m\u001b[0;34m\u001b[0m\u001b[0m\n\u001b[0;32m-> 1620\u001b[0;31m         \u001b[0mself\u001b[0m\u001b[0;34m.\u001b[0m\u001b[0m_engine\u001b[0m \u001b[0;34m=\u001b[0m \u001b[0mself\u001b[0m\u001b[0;34m.\u001b[0m\u001b[0m_make_engine\u001b[0m\u001b[0;34m(\u001b[0m\u001b[0mf\u001b[0m\u001b[0;34m,\u001b[0m \u001b[0mself\u001b[0m\u001b[0;34m.\u001b[0m\u001b[0mengine\u001b[0m\u001b[0;34m)\u001b[0m\u001b[0;34m\u001b[0m\u001b[0;34m\u001b[0m\u001b[0m\n\u001b[0m\u001b[1;32m   1621\u001b[0m \u001b[0;34m\u001b[0m\u001b[0m\n\u001b[1;32m   1622\u001b[0m     \u001b[0;32mdef\u001b[0m \u001b[0mclose\u001b[0m\u001b[0;34m(\u001b[0m\u001b[0mself\u001b[0m\u001b[0;34m)\u001b[0m \u001b[0;34m->\u001b[0m \u001b[0;32mNone\u001b[0m\u001b[0;34m:\u001b[0m\u001b[0;34m\u001b[0m\u001b[0;34m\u001b[0m\u001b[0m\n",
            "\u001b[0;32m/usr/local/lib/python3.10/dist-packages/pandas/io/parsers/readers.py\u001b[0m in \u001b[0;36m_make_engine\u001b[0;34m(self, f, engine)\u001b[0m\n\u001b[1;32m   1878\u001b[0m                 \u001b[0;32mif\u001b[0m \u001b[0;34m\"b\"\u001b[0m \u001b[0;32mnot\u001b[0m \u001b[0;32min\u001b[0m \u001b[0mmode\u001b[0m\u001b[0;34m:\u001b[0m\u001b[0;34m\u001b[0m\u001b[0;34m\u001b[0m\u001b[0m\n\u001b[1;32m   1879\u001b[0m                     \u001b[0mmode\u001b[0m \u001b[0;34m+=\u001b[0m \u001b[0;34m\"b\"\u001b[0m\u001b[0;34m\u001b[0m\u001b[0;34m\u001b[0m\u001b[0m\n\u001b[0;32m-> 1880\u001b[0;31m             self.handles = get_handle(\n\u001b[0m\u001b[1;32m   1881\u001b[0m                 \u001b[0mf\u001b[0m\u001b[0;34m,\u001b[0m\u001b[0;34m\u001b[0m\u001b[0;34m\u001b[0m\u001b[0m\n\u001b[1;32m   1882\u001b[0m                 \u001b[0mmode\u001b[0m\u001b[0;34m,\u001b[0m\u001b[0;34m\u001b[0m\u001b[0;34m\u001b[0m\u001b[0m\n",
            "\u001b[0;32m/usr/local/lib/python3.10/dist-packages/pandas/io/common.py\u001b[0m in \u001b[0;36mget_handle\u001b[0;34m(path_or_buf, mode, encoding, compression, memory_map, is_text, errors, storage_options)\u001b[0m\n\u001b[1;32m    871\u001b[0m         \u001b[0;32mif\u001b[0m \u001b[0mioargs\u001b[0m\u001b[0;34m.\u001b[0m\u001b[0mencoding\u001b[0m \u001b[0;32mand\u001b[0m \u001b[0;34m\"b\"\u001b[0m \u001b[0;32mnot\u001b[0m \u001b[0;32min\u001b[0m \u001b[0mioargs\u001b[0m\u001b[0;34m.\u001b[0m\u001b[0mmode\u001b[0m\u001b[0;34m:\u001b[0m\u001b[0;34m\u001b[0m\u001b[0;34m\u001b[0m\u001b[0m\n\u001b[1;32m    872\u001b[0m             \u001b[0;31m# Encoding\u001b[0m\u001b[0;34m\u001b[0m\u001b[0;34m\u001b[0m\u001b[0m\n\u001b[0;32m--> 873\u001b[0;31m             handle = open(\n\u001b[0m\u001b[1;32m    874\u001b[0m                 \u001b[0mhandle\u001b[0m\u001b[0;34m,\u001b[0m\u001b[0;34m\u001b[0m\u001b[0;34m\u001b[0m\u001b[0m\n\u001b[1;32m    875\u001b[0m                 \u001b[0mioargs\u001b[0m\u001b[0;34m.\u001b[0m\u001b[0mmode\u001b[0m\u001b[0;34m,\u001b[0m\u001b[0;34m\u001b[0m\u001b[0;34m\u001b[0m\u001b[0m\n",
            "\u001b[0;31mFileNotFoundError\u001b[0m: [Errno 2] No such file or directory: '/kaggle/input/twitter-entity-sentiment-analysis/twitter_training.csv'"
          ]
        }
      ]
    },
    {
      "cell_type": "code",
      "source": [
        "df.sample(7)"
      ],
      "metadata": {
        "execution": {
          "iopub.status.busy": "2023-11-03T10:41:43.273649Z",
          "iopub.execute_input": "2023-11-03T10:41:43.274515Z",
          "iopub.status.idle": "2023-11-03T10:41:43.30511Z",
          "shell.execute_reply.started": "2023-11-03T10:41:43.274474Z",
          "shell.execute_reply": "2023-11-03T10:41:43.304153Z"
        },
        "trusted": true,
        "id": "BWoIvYdHj3__",
        "outputId": "2260f7c1-c394-4934-b6cf-7101a32f3c87",
        "colab": {
          "base_uri": "https://localhost:8080/",
          "height": 141
        }
      },
      "execution_count": null,
      "outputs": [
        {
          "output_type": "error",
          "ename": "NameError",
          "evalue": "name 'df' is not defined",
          "traceback": [
            "\u001b[0;31m---------------------------------------------------------------------------\u001b[0m",
            "\u001b[0;31mNameError\u001b[0m                                 Traceback (most recent call last)",
            "\u001b[0;32m<ipython-input-4-85a679c07417>\u001b[0m in \u001b[0;36m<cell line: 1>\u001b[0;34m()\u001b[0m\n\u001b[0;32m----> 1\u001b[0;31m \u001b[0mdf\u001b[0m\u001b[0;34m.\u001b[0m\u001b[0msample\u001b[0m\u001b[0;34m(\u001b[0m\u001b[0;36m7\u001b[0m\u001b[0;34m)\u001b[0m\u001b[0;34m\u001b[0m\u001b[0;34m\u001b[0m\u001b[0m\n\u001b[0m",
            "\u001b[0;31mNameError\u001b[0m: name 'df' is not defined"
          ]
        }
      ]
    },
    {
      "cell_type": "markdown",
      "source": [
        "<div style=\"font-family:Georgia;background-color:aliceblue; padding:30px; font-size:17px ; color:#034914\">\n",
        "\n",
        "**Description**<br>\n",
        "* Then , a qucik view of shape , names of columns and types of dataset : <br>\n",
        "shape is : 74681 rows and 4 columns <br>\n",
        "Name of columns are not good and must be changed<br>\n",
        "types of columns are in the right situation.\n",
        "\n",
        "</div>"
      ],
      "metadata": {
        "id": "aNFv9tL9j3__"
      }
    },
    {
      "cell_type": "code",
      "source": [
        "print(f'The shape of the dataset is : {df.shape}')"
      ],
      "metadata": {
        "execution": {
          "iopub.status.busy": "2023-11-03T10:41:45.877739Z",
          "iopub.execute_input": "2023-11-03T10:41:45.87866Z",
          "iopub.status.idle": "2023-11-03T10:41:45.884804Z",
          "shell.execute_reply.started": "2023-11-03T10:41:45.878621Z",
          "shell.execute_reply": "2023-11-03T10:41:45.882941Z"
        },
        "trusted": true,
        "id": "3aj_LU9Sj4AA"
      },
      "execution_count": null,
      "outputs": []
    },
    {
      "cell_type": "code",
      "source": [
        "print(f'The columns are :{df.columns}')"
      ],
      "metadata": {
        "execution": {
          "iopub.status.busy": "2023-11-03T10:41:48.219781Z",
          "iopub.execute_input": "2023-11-03T10:41:48.220674Z",
          "iopub.status.idle": "2023-11-03T10:41:48.225418Z",
          "shell.execute_reply.started": "2023-11-03T10:41:48.22064Z",
          "shell.execute_reply": "2023-11-03T10:41:48.224475Z"
        },
        "trusted": true,
        "id": "e9x_vvD4j4AA"
      },
      "execution_count": null,
      "outputs": []
    },
    {
      "cell_type": "code",
      "source": [
        "print(f'The dtypes of the dataset : \\n\\n{df.dtypes}')"
      ],
      "metadata": {
        "execution": {
          "iopub.status.busy": "2023-11-03T10:41:50.170534Z",
          "iopub.execute_input": "2023-11-03T10:41:50.171363Z",
          "iopub.status.idle": "2023-11-03T10:41:50.176567Z",
          "shell.execute_reply.started": "2023-11-03T10:41:50.17133Z",
          "shell.execute_reply": "2023-11-03T10:41:50.175703Z"
        },
        "trusted": true,
        "id": "s6HviiNSj4AA"
      },
      "execution_count": null,
      "outputs": []
    },
    {
      "cell_type": "markdown",
      "source": [
        "<div style=\"font-family:Georgia;background-color:aliceblue; padding:30px; font-size:17px ; color:#034914\">\n",
        "\n",
        "**Description**<br>\n",
        "* In a quick review we can observe basic information <br>\n",
        "* But we are going to create a function to show of more details such as<br>\n",
        "Volume of null values and its percentage , Volume of duplicated and percentage of duplicated values\n",
        "\n",
        "</div>"
      ],
      "metadata": {
        "id": "A08balFSj4AA"
      }
    },
    {
      "cell_type": "code",
      "source": [
        "df.describe(include='all')"
      ],
      "metadata": {
        "execution": {
          "iopub.status.busy": "2023-11-03T10:41:52.346016Z",
          "iopub.execute_input": "2023-11-03T10:41:52.346863Z",
          "iopub.status.idle": "2023-11-03T10:41:52.456573Z",
          "shell.execute_reply.started": "2023-11-03T10:41:52.346833Z",
          "shell.execute_reply": "2023-11-03T10:41:52.455602Z"
        },
        "trusted": true,
        "id": "vKHIoUsqj4AA"
      },
      "execution_count": null,
      "outputs": []
    },
    {
      "cell_type": "markdown",
      "source": [
        "<a id=\"1\"></a>\n",
        "# <div style=\"padding:20px;color:white;margin:0;font-size:30px;font-family:Georgia;text-align:center;display:fill;border-radius:5px;background-color:#254E58;overflow:hidden\"><b> EDA</b></div>"
      ],
      "metadata": {
        "id": "Tx9GnDIWj4AA"
      }
    },
    {
      "cell_type": "code",
      "source": [
        "def show_details(dataset):\n",
        "    missed_values = dataset.isnull().sum()\n",
        "    missed_values_percent = (dataset.isnull().sum()) / len(dataset)\n",
        "    duplicated_values = dataset.duplicated().sum()\n",
        "    duplicated_values_percent = (dataset.duplicated().sum()) / len(dataset)\n",
        "    info_frame = pd.DataFrame({'Missed_Values' : missed_values ,\n",
        "                              'Missed_Values %' :missed_values_percent,\n",
        "                              'Duplicated values' :duplicated_values,\n",
        "                              'Duplicated values %':duplicated_values_percent})\n",
        "    return info_frame.T"
      ],
      "metadata": {
        "execution": {
          "iopub.status.busy": "2023-11-03T10:41:55.426505Z",
          "iopub.execute_input": "2023-11-03T10:41:55.42718Z",
          "iopub.status.idle": "2023-11-03T10:41:55.432678Z",
          "shell.execute_reply.started": "2023-11-03T10:41:55.427149Z",
          "shell.execute_reply": "2023-11-03T10:41:55.431768Z"
        },
        "trusted": true,
        "id": "UjRRR4FPj4AA"
      },
      "execution_count": null,
      "outputs": []
    },
    {
      "cell_type": "markdown",
      "source": [
        "<div style=\"font-family:Georgia;background-color:aliceblue; padding:30px; font-size:17px ; color:#034914\">\n",
        "\n",
        "**Description**<br>\n",
        "* We can see that very small number of data are missed and duplicated which can easily be dropped.\n",
        "\n",
        "</div>"
      ],
      "metadata": {
        "id": "TeFugC-Pj4AB"
      }
    },
    {
      "cell_type": "code",
      "source": [
        "show_details(df)"
      ],
      "metadata": {
        "execution": {
          "iopub.status.busy": "2023-11-03T10:41:58.088837Z",
          "iopub.execute_input": "2023-11-03T10:41:58.089197Z",
          "iopub.status.idle": "2023-11-03T10:41:58.216925Z",
          "shell.execute_reply.started": "2023-11-03T10:41:58.089169Z",
          "shell.execute_reply": "2023-11-03T10:41:58.216018Z"
        },
        "trusted": true,
        "id": "-ZOXK6Nsj4AB"
      },
      "execution_count": null,
      "outputs": []
    },
    {
      "cell_type": "code",
      "source": [
        "df.drop_duplicates(inplace=True)\n",
        "df.dropna(inplace=True)\n",
        "show_details(df)"
      ],
      "metadata": {
        "execution": {
          "iopub.status.busy": "2023-11-03T10:42:00.296808Z",
          "iopub.execute_input": "2023-11-03T10:42:00.297178Z",
          "iopub.status.idle": "2023-11-03T10:42:00.508758Z",
          "shell.execute_reply.started": "2023-11-03T10:42:00.29715Z",
          "shell.execute_reply": "2023-11-03T10:42:00.507794Z"
        },
        "trusted": true,
        "id": "nsiQ5qJij4AB"
      },
      "execution_count": null,
      "outputs": []
    },
    {
      "cell_type": "markdown",
      "source": [
        "<div style=\"font-family:Georgia;background-color:aliceblue; padding:30px; font-size:17px ; color:#034914\">\n",
        "\n",
        "**Description**<br>\n",
        "* Here we change the name of columns to  appropriate names:<br>\n",
        "'2401' : 'Index' , 'Borderlands': 'Land' , 'Positive' : 'Mode' , \"im getting on borderlands and i will murder you all ,\": 'Text'\n",
        "\n",
        "</div>"
      ],
      "metadata": {
        "id": "pKR1iWkHj4AB"
      }
    },
    {
      "cell_type": "code",
      "source": [
        "df.rename(columns={'2401' : 'Index' , 'Borderlands': 'Land' , 'Positive' : 'Mode'\n",
        "                   , \"im getting on borderlands and i will murder you all ,\": 'Text'}, inplace=True)"
      ],
      "metadata": {
        "execution": {
          "iopub.status.busy": "2023-11-03T10:42:03.403886Z",
          "iopub.execute_input": "2023-11-03T10:42:03.40474Z",
          "iopub.status.idle": "2023-11-03T10:42:03.409603Z",
          "shell.execute_reply.started": "2023-11-03T10:42:03.404703Z",
          "shell.execute_reply": "2023-11-03T10:42:03.408647Z"
        },
        "trusted": true,
        "id": "dK5G3CK_j4AB"
      },
      "execution_count": null,
      "outputs": []
    },
    {
      "cell_type": "code",
      "source": [
        "df.columns"
      ],
      "metadata": {
        "execution": {
          "iopub.status.busy": "2023-11-03T10:42:05.84438Z",
          "iopub.execute_input": "2023-11-03T10:42:05.845215Z",
          "iopub.status.idle": "2023-11-03T10:42:05.851128Z",
          "shell.execute_reply.started": "2023-11-03T10:42:05.845181Z",
          "shell.execute_reply": "2023-11-03T10:42:05.850306Z"
        },
        "trusted": true,
        "id": "GwSyROjYj4AB"
      },
      "execution_count": null,
      "outputs": []
    },
    {
      "cell_type": "markdown",
      "source": [
        "<div style=\"font-family:Georgia;background-color:aliceblue; padding:30px; font-size:17px ; color:#034914\">\n",
        "\n",
        "**Description**<br>\n",
        "* Here , we check Lands column , the number of unique values which is 32  and its names\n",
        "* And  show the number of each values by dataframe and a Barchart\n",
        "</div>"
      ],
      "metadata": {
        "id": "cI69jOC7j4AB"
      }
    },
    {
      "cell_type": "code",
      "source": [
        "print(f'The number of unique lands : {len(df.Land.unique())}')\n",
        "print('**' * 40)\n",
        "df.Land.unique()"
      ],
      "metadata": {
        "execution": {
          "iopub.status.busy": "2023-11-03T10:42:08.076359Z",
          "iopub.execute_input": "2023-11-03T10:42:08.076953Z",
          "iopub.status.idle": "2023-11-03T10:42:08.094743Z",
          "shell.execute_reply.started": "2023-11-03T10:42:08.076911Z",
          "shell.execute_reply": "2023-11-03T10:42:08.093748Z"
        },
        "trusted": true,
        "id": "RjfVHtDCj4AB"
      },
      "execution_count": null,
      "outputs": []
    },
    {
      "cell_type": "code",
      "source": [
        "lands =df.Land.value_counts()\n",
        "lands.to_frame()"
      ],
      "metadata": {
        "execution": {
          "iopub.status.busy": "2023-11-03T10:42:10.311295Z",
          "iopub.execute_input": "2023-11-03T10:42:10.312016Z",
          "iopub.status.idle": "2023-11-03T10:42:10.329825Z",
          "shell.execute_reply.started": "2023-11-03T10:42:10.311988Z",
          "shell.execute_reply": "2023-11-03T10:42:10.328894Z"
        },
        "trusted": true,
        "id": "UOyovJsHj4AB"
      },
      "execution_count": null,
      "outputs": []
    },
    {
      "cell_type": "markdown",
      "source": [
        "<div style=\"font-family:Georgia;background-color:aliceblue; padding:30px; font-size:17px ; color:#034914\">\n",
        "\n",
        "**Description**<br>\n",
        "* We can see that distribution is quite the same for each area .<br>\n",
        "* between the range 2150 to 2328 changeably\n",
        "* Now we just show 10 of the hihest ones\n",
        "</div>"
      ],
      "metadata": {
        "id": "zjdh7-gKj4AB"
      }
    },
    {
      "cell_type": "code",
      "source": [
        "sns.set_style('darkgrid')\n",
        "plt.figure(figsize=(10,6))\n",
        "bar = sns.barplot(x=lands.values[:10] ,y=lands.index[:10] , palette='rocket')\n",
        "bar.bar_label(bar.containers[0])\n",
        "plt.title('Top 10 Lands')\n",
        "plt.xlabel('Count')\n",
        "plt.ylabel('Land')\n",
        "plt.xlim(0 , 2500)\n",
        "plt.show()"
      ],
      "metadata": {
        "execution": {
          "iopub.status.busy": "2023-11-03T10:42:13.343867Z",
          "iopub.execute_input": "2023-11-03T10:42:13.344594Z",
          "iopub.status.idle": "2023-11-03T10:42:13.72941Z",
          "shell.execute_reply.started": "2023-11-03T10:42:13.344562Z",
          "shell.execute_reply": "2023-11-03T10:42:13.728492Z"
        },
        "trusted": true,
        "id": "Qt_44vkSj4AB"
      },
      "execution_count": null,
      "outputs": []
    },
    {
      "cell_type": "markdown",
      "source": [
        "<div style=\"font-family:Georgia;background-color:aliceblue; padding:30px; font-size:17px ; color:#034914\">\n",
        "\n",
        "**Description**<br>\n",
        "* column Mode , which consists of 4 modes as  : Positive ,Neutral ,Negative and Irrelevant<br>\n",
        "Negative with highest common reviws : 21698 <br>\n",
        "Positive the second : 19712<br>\n",
        "Neutral the third : 17708<br>\n",
        "Irrelevant : 12537<br>\n",
        "* Lets depict the values by a pie chart\n",
        "</div>"
      ],
      "metadata": {
        "id": "fQiWZPJRj4AB"
      }
    },
    {
      "cell_type": "code",
      "source": [
        "print(f'The unique values of Mode : {len(df.Mode.unique())}')\n",
        "print('**' * 20)\n",
        "print(df.Mode.unique())"
      ],
      "metadata": {
        "execution": {
          "iopub.status.busy": "2023-11-03T10:42:16.909737Z",
          "iopub.execute_input": "2023-11-03T10:42:16.910337Z",
          "iopub.status.idle": "2023-11-03T10:42:16.926529Z",
          "shell.execute_reply.started": "2023-11-03T10:42:16.910304Z",
          "shell.execute_reply": "2023-11-03T10:42:16.925566Z"
        },
        "trusted": true,
        "id": "f8CKK1Hbj4AB"
      },
      "execution_count": null,
      "outputs": []
    },
    {
      "cell_type": "code",
      "source": [
        "mode = df.Mode.value_counts()\n",
        "mode.to_frame().T"
      ],
      "metadata": {
        "execution": {
          "iopub.status.busy": "2023-11-03T10:42:19.296625Z",
          "iopub.execute_input": "2023-11-03T10:42:19.297622Z",
          "iopub.status.idle": "2023-11-03T10:42:19.316269Z",
          "shell.execute_reply.started": "2023-11-03T10:42:19.297581Z",
          "shell.execute_reply": "2023-11-03T10:42:19.315286Z"
        },
        "trusted": true,
        "id": "R_KGjzV9j4AB"
      },
      "execution_count": null,
      "outputs": []
    },
    {
      "cell_type": "markdown",
      "source": [
        "<div style=\"font-family:Georgia;background-color:aliceblue; padding:30px; font-size:17px ; color:#034914\">\n",
        "\n",
        "**Description**<br>\n",
        "\n",
        "Negative : 30.3 % <br>\n",
        "Positive : 27.5%<br>\n",
        "Neutral : 24.7%<br>\n",
        "Irrelevant : 17.5%<br>\n",
        "\n",
        "</div>"
      ],
      "metadata": {
        "id": "Ahs0eiWgj4AB"
      }
    },
    {
      "cell_type": "code",
      "source": [
        "plt.figure(figsize=(6,6))\n",
        "plt.pie(x = mode.values , labels=mode.keys() ,autopct=\"%1.1f%%\" ,\n",
        "textprops={\"fontsize\":10,\"fontweight\":\"black\"},colors=sns.color_palette(\"rocket\"))\n",
        "plt.title('Mode Distribution')\n",
        "plt.show()"
      ],
      "metadata": {
        "execution": {
          "iopub.status.busy": "2023-11-03T10:42:22.512936Z",
          "iopub.execute_input": "2023-11-03T10:42:22.513393Z",
          "iopub.status.idle": "2023-11-03T10:42:22.724605Z",
          "shell.execute_reply.started": "2023-11-03T10:42:22.513356Z",
          "shell.execute_reply": "2023-11-03T10:42:22.72334Z"
        },
        "trusted": true,
        "id": "PCcISnj9j4AC"
      },
      "execution_count": null,
      "outputs": []
    },
    {
      "cell_type": "markdown",
      "source": [
        "<div style=\"font-family:Georgia;background-color:aliceblue; padding:30px; font-size:17px ; color:#034914\">\n",
        "\n",
        "**Description**<br>\n",
        "* we can also take a look at each land with its mode and scan them : <br>\n",
        "\n",
        "Irrelevant : Battlefield  has highest with 907 , TomClancysGhostRecon with 92 Lowest<br>\n",
        "\n",
        "Negative :   MaddenNFL  has highest with 1665 , RedDeadRedemption(RDR) with 290 Lowest<br>\n",
        "\n",
        "Neutral :    Amazon  has highest with 1197 , AssassinsCreed with 153 Lowest<br>\n",
        "\n",
        "Positive :   AssassinsCreed  has highest with 1382 , Facebook\t with 154 Lowest<br>\n",
        "\n",
        "\n",
        "</div>"
      ],
      "metadata": {
        "id": "hSSd-B0Aj4AC"
      }
    },
    {
      "cell_type": "code",
      "source": [
        "pd.crosstab(df.Mode , df.Land).T.style.background_gradient( subset=['Negative'],cmap='Reds')\\\n",
        ".background_gradient(subset=['Positive'] , cmap='Greens')\\\n",
        ".background_gradient(subset=['Irrelevant'] , cmap='BuGn')\n"
      ],
      "metadata": {
        "execution": {
          "iopub.status.busy": "2023-11-03T10:42:27.665531Z",
          "iopub.execute_input": "2023-11-03T10:42:27.665998Z",
          "iopub.status.idle": "2023-11-03T10:42:27.781925Z",
          "shell.execute_reply.started": "2023-11-03T10:42:27.665961Z",
          "shell.execute_reply": "2023-11-03T10:42:27.781113Z"
        },
        "trusted": true,
        "id": "LrCNKzwwj4AC"
      },
      "execution_count": null,
      "outputs": []
    },
    {
      "cell_type": "markdown",
      "source": [
        "<div style=\"font-family:Georgia;background-color:aliceblue; padding:30px; font-size:17px ; color:#034914\">\n",
        "\n",
        "**Description**<br>\n",
        "* Here with re library we can replace a number of grammatically problems , verbal expressions , ... <br>\n",
        "* However we can deal with various emojis which are used from people to show off their emotion about the post(replace or delete them) <br>\n",
        "* Needless to say , emojis can play important role in determining the class in the views<br>\n",
        "* in the last part of text_clear function we have replaced more than 1 punctuations(those we have allowed to be) to just 1<br>\n",
        "* Finally , all texts become lower mode and instead more than 1 space be just 1 space<br>\n",
        "\n",
        "</div>"
      ],
      "metadata": {
        "id": "LK2T-XBUj4AC"
      }
    },
    {
      "cell_type": "code",
      "source": [
        "def clean_emoji(tx):\n",
        "    emoji_pattern = re.compile(\"[\"\n",
        "                           u\"\\U0001F600-\\U0001F64F\"  # emoticons\n",
        "                           u\"\\U0001F300-\\U0001F5FF\"  # symbols\n",
        "                           u\"\\U0001F680-\\U0001F6FF\"  # transport\n",
        "                           u\"\\U0001F1E0-\\U0001F1FF\"  # flags\n",
        "                           u\"\\U00002702-\\U000027B0\"\n",
        "                           u\"\\U000024C2-\\U0001F251\"\n",
        "                           \"]+\", flags=re.UNICODE)\n",
        "\n",
        "    return emoji_pattern.sub(r'', tx)\n",
        "def text_cleaner(tx):\n",
        "\n",
        "    text = re.sub(r\"won\\'t\", \"would not\", tx)\n",
        "    text = re.sub(r\"im\", \"i am\", tx)\n",
        "    text = re.sub(r\"Im\", \"I am\", tx)\n",
        "    text = re.sub(r\"can\\'t\", \"can not\", text)\n",
        "    text = re.sub(r\"don\\'t\", \"do not\", text)\n",
        "    text = re.sub(r\"shouldn\\'t\", \"should not\", text)\n",
        "    text = re.sub(r\"needn\\'t\", \"need not\", text)\n",
        "    text = re.sub(r\"hasn\\'t\", \"has not\", text)\n",
        "    text = re.sub(r\"haven\\'t\", \"have not\", text)\n",
        "    text = re.sub(r\"weren\\'t\", \"were not\", text)\n",
        "    text = re.sub(r\"mightn\\'t\", \"might not\", text)\n",
        "    text = re.sub(r\"didn\\'t\", \"did not\", text)\n",
        "    text = re.sub(r\"n\\'t\", \" not\", text)\n",
        "    text = re.sub(r\"\\'re\", \" are\", text)\n",
        "    text = re.sub(r\"\\'s\", \" is\", text)\n",
        "    text = re.sub(r\"\\'d\", \" would\", text)\n",
        "    text = re.sub(r\"\\'ll\", \" will\", text)\n",
        "    text = re.sub(r\"\\'t\", \" not\", text)\n",
        "    text = re.sub(r\"\\'ve\", \" have\", text)\n",
        "    text = re.sub(r\"\\'m\", \" am\", text)\n",
        "    text = re.sub('https?://\\S+|www\\.\\S+', '', text)\n",
        "    text = re.sub(r'[^a-zA-Z0-9\\!\\?\\.\\@]',' ' , text)\n",
        "    text = re.sub(r'[!]+' , '!' , text)\n",
        "    text = re.sub(r'[?]+' , '?' , text)\n",
        "    text = re.sub(r'[.]+' , '.' , text)\n",
        "    text = re.sub(r'[@]+' , '@' , text)\n",
        "    text = re.sub(r'unk' , ' ' , text)\n",
        "    text = re.sub('\\n', '', text)\n",
        "    text = text.lower()\n",
        "    text = re.sub(r'[ ]+' , ' ' , text)\n",
        "\n",
        "    return text\n"
      ],
      "metadata": {
        "execution": {
          "iopub.status.busy": "2023-11-03T10:42:31.886036Z",
          "iopub.execute_input": "2023-11-03T10:42:31.886921Z",
          "iopub.status.idle": "2023-11-03T10:42:31.898522Z",
          "shell.execute_reply.started": "2023-11-03T10:42:31.886889Z",
          "shell.execute_reply": "2023-11-03T10:42:31.897502Z"
        },
        "trusted": true,
        "id": "Kt8Qg8wej4AC"
      },
      "execution_count": null,
      "outputs": []
    },
    {
      "cell_type": "markdown",
      "source": [
        "<div style=\"font-family:Georgia;background-color:aliceblue; padding:30px; font-size:17px ; color:#034914\">\n",
        "\n",
        "**Description**<br>\n",
        "* Now , before replacing all dataset , I want to go through a copule of common methods which are familiar in NLP<br>\n",
        "for that I need to have a random example from dataset which I am using of random.choice to get one sample and clean with the function<br>\n",
        "\n",
        "</div>"
      ],
      "metadata": {
        "id": "POMcFKxZj4AC"
      }
    },
    {
      "cell_type": "code",
      "source": [
        "random.seed(99)\n",
        "test_text =text_cleaner( random.choice(df['Text']))\n",
        "test_text = clean_emoji(test_text)\n",
        "test_text"
      ],
      "metadata": {
        "execution": {
          "iopub.status.busy": "2023-11-03T10:42:35.109742Z",
          "iopub.execute_input": "2023-11-03T10:42:35.110122Z",
          "iopub.status.idle": "2023-11-03T10:42:35.123415Z",
          "shell.execute_reply.started": "2023-11-03T10:42:35.110077Z",
          "shell.execute_reply": "2023-11-03T10:42:35.1225Z"
        },
        "trusted": true,
        "id": "0sEXAaYZj4AC"
      },
      "execution_count": null,
      "outputs": []
    },
    {
      "cell_type": "markdown",
      "source": [
        "POS => Part Of Speech"
      ],
      "metadata": {
        "id": "iOW-Pqnmj4AG"
      }
    },
    {
      "cell_type": "markdown",
      "source": [
        "<div style=\"font-family:Georgia;background-color:aliceblue; padding:30px; font-size:17px ; color:#034914\">\n",
        "\n",
        "**POS:**<br>\n",
        "\n",
        "POS or Part Of Speech ,  the part of speech indicates how the word functions in meaning as well as grammatically within the sentence.<br>\n",
        "There are 8 parts in English (noun, pronoun, verb, adjective, adverb, preposition, conjunction, and interjection)<br>\n",
        "Understanding parts of speech is essential for determining the correct definition of a word when using the dictionary.\n",
        "\n",
        "\n",
        "**Description**<br>\n",
        "with using of Spacy library and its amazing features (nlp = spacy.load(\"en_core_web_sm\")) which is used for English language<br>\n",
        "I am going to show you POS in the particular sample <br>\n",
        "\n",
        "</div>"
      ],
      "metadata": {
        "id": "Q7QMNM5Wj4AG"
      }
    },
    {
      "cell_type": "code",
      "source": [
        "doc = nlp(test_text)\n",
        "for token in doc :\n",
        "    print(f'{token} => {token.pos_}')"
      ],
      "metadata": {
        "execution": {
          "iopub.status.busy": "2023-11-03T10:42:38.783388Z",
          "iopub.execute_input": "2023-11-03T10:42:38.783725Z",
          "iopub.status.idle": "2023-11-03T10:42:38.813283Z",
          "shell.execute_reply.started": "2023-11-03T10:42:38.783698Z",
          "shell.execute_reply": "2023-11-03T10:42:38.812286Z"
        },
        "trusted": true,
        "id": "1cfX9thDj4AG"
      },
      "execution_count": null,
      "outputs": []
    },
    {
      "cell_type": "markdown",
      "source": [
        "Named Entity Recognition"
      ],
      "metadata": {
        "id": "m8dj13ERj4AG"
      }
    },
    {
      "cell_type": "markdown",
      "source": [
        "<div style=\"font-family:Georgia;background-color:aliceblue; padding:30px; font-size:17px ; color:#034914\">\n",
        "\n",
        "**NER:**<br>\n",
        "\n",
        "\n",
        "NER or Named Entity Recognition , identifies, categorizes and extracts(named entities in text) the most important pieces of information from<br> unstructured text without\n",
        "requiring time-consuming human analysis. It's particularly useful for quickly extracting key information from large <br>amounts of data because it\n",
        "automates the extraction process<br>\n",
        "Furthermore , Named entities are specific terms that represent real-world objects, such as people, organizations, locations, and dates.\n",
        "\n",
        "\n",
        "**Description**<br>\n",
        "like the previous exmple and spacy library features Im showing NER on our sample <br>\n",
        "\n",
        "</div>"
      ],
      "metadata": {
        "id": "k4sqAfgYj4AG"
      }
    },
    {
      "cell_type": "code",
      "source": [
        "doc = nlp(test_text)\n",
        "for chunk in doc.ents:\n",
        "    print(f'{chunk} => {chunk.label_}')\n"
      ],
      "metadata": {
        "execution": {
          "iopub.status.busy": "2023-11-03T10:42:44.170735Z",
          "iopub.execute_input": "2023-11-03T10:42:44.171445Z",
          "iopub.status.idle": "2023-11-03T10:42:44.188897Z",
          "shell.execute_reply.started": "2023-11-03T10:42:44.171414Z",
          "shell.execute_reply": "2023-11-03T10:42:44.187876Z"
        },
        "trusted": true,
        "id": "DHMcwJjXj4AG"
      },
      "execution_count": null,
      "outputs": []
    },
    {
      "cell_type": "markdown",
      "source": [
        "<div style=\"font-family:Georgia;background-color:aliceblue; padding:30px; font-size:17px ; color:#034914\">\n",
        "\n",
        "**Chunking:**<br>\n",
        "Converting a text to a smaller peices for having better undrestanding or the process of grouping similar words together based on <br>the nature of the word.<br>\n",
        "Noun Groups, Verbs, verb groups, etc. <br>\n",
        "\n",
        "NP stands for : Noun Chunks<br>\n",
        "VP : Verp Chunks\n",
        "</div>"
      ],
      "metadata": {
        "id": "6nKfNwCjj4AG"
      }
    },
    {
      "cell_type": "code",
      "source": [
        "doc = nlp(test_text)\n",
        "for chunk in doc.noun_chunks:\n",
        "    print(f'{chunk} => {chunk.label_}')"
      ],
      "metadata": {
        "execution": {
          "iopub.status.busy": "2023-11-03T10:42:47.855978Z",
          "iopub.execute_input": "2023-11-03T10:42:47.856335Z",
          "iopub.status.idle": "2023-11-03T10:42:47.872335Z",
          "shell.execute_reply.started": "2023-11-03T10:42:47.856307Z",
          "shell.execute_reply": "2023-11-03T10:42:47.87128Z"
        },
        "trusted": true,
        "id": "wI8LTjz8j4AG"
      },
      "execution_count": null,
      "outputs": []
    },
    {
      "cell_type": "markdown",
      "source": [
        "<div style=\"font-family:Georgia;background-color:aliceblue; padding:30px; font-size:17px ; color:#034914\">\n",
        "\n",
        "**Tokenization :**<br>\n",
        "\n",
        "Tokenization is breaking text into smaller parts for easier machine analysis, helping machines understand human language.<br>\n",
        "These smaller parts known as tokens <br>\n",
        "\n",
        "Note : <br>\n",
        "There are various types of tokenizations such as : RegexpTokenizaton , TweetTokenization and etc...<br>\n",
        "which each one has different method for breaking a text into tokens <br>\n",
        "\n",
        "**Description**<br>\n",
        "Here we are using Regexp tokenization which splits a string into substrings using a regular expression. base on space<br>\n",
        "\n",
        "</div>"
      ],
      "metadata": {
        "id": "5RtF8appj4AG"
      }
    },
    {
      "cell_type": "code",
      "source": [
        "# Tokenizer = TweetTokenizer()\n",
        "Tokenizer=RegexpTokenizer(r'\\w+')\n",
        "test_text_tokenized = Tokenizer.tokenize(test_text)\n",
        "test_text_tokenized\n",
        "\n",
        "# df['Text']=df['Text'].apply(lambda x : Tokenizer.tokenize(x))"
      ],
      "metadata": {
        "execution": {
          "iopub.status.busy": "2023-11-03T10:42:50.395154Z",
          "iopub.execute_input": "2023-11-03T10:42:50.395505Z",
          "iopub.status.idle": "2023-11-03T10:42:50.402362Z",
          "shell.execute_reply.started": "2023-11-03T10:42:50.395477Z",
          "shell.execute_reply": "2023-11-03T10:42:50.401507Z"
        },
        "trusted": true,
        "id": "nYVCvFU2j4AG"
      },
      "execution_count": null,
      "outputs": []
    },
    {
      "cell_type": "markdown",
      "source": [
        " Counter vectorizer"
      ],
      "metadata": {
        "id": "kNFG1g-2j4AG"
      }
    },
    {
      "cell_type": "markdown",
      "source": [
        "<div style=\"font-family:Georgia;background-color:aliceblue; padding:30px; font-size:17px ; color:#034914\">\n",
        "\n",
        "**CountVectorizer:**<br>\n",
        "\n",
        "Count Vectorizer is used to convert documents, text into vectors of term or token counts, it involves counting the number of occurences of words<br> appears in a document.For example , in our sentence we can see that is has come 2 times and other words have come just once.So,there will be a<br>\n",
        "vector which depicts the number of times which each word comes in the sentence.For better understanding , Im going to show in a heatmap chart.\n",
        "\n",
        "</div>"
      ],
      "metadata": {
        "id": "b8NTXhPlj4AH"
      }
    },
    {
      "cell_type": "code",
      "source": [
        "\n",
        "words  = ['ghost','of','tsushima','now','graphically','is','best','open','world','red','dead','redemption','2','one','second','ahead']\n",
        "counter_vectorizer = CountVectorizer()\n",
        "transform = counter_vectorizer.fit_transform([test_text]).toarray()\n",
        "sns.heatmap(transform, annot=True,xticklabels=words,\n",
        "        cbar=False)\n",
        "transform"
      ],
      "metadata": {
        "execution": {
          "iopub.status.busy": "2023-11-03T10:42:53.312846Z",
          "iopub.execute_input": "2023-11-03T10:42:53.313636Z",
          "iopub.status.idle": "2023-11-03T10:42:53.786092Z",
          "shell.execute_reply.started": "2023-11-03T10:42:53.313605Z",
          "shell.execute_reply": "2023-11-03T10:42:53.785051Z"
        },
        "trusted": true,
        "id": "9_ql0b5jj4AH"
      },
      "execution_count": null,
      "outputs": []
    },
    {
      "cell_type": "markdown",
      "source": [
        "<div style=\"font-family:Georgia;background-color:aliceblue; padding:30px; font-size:17px ; color:#034914\">\n",
        "\n",
        "**TF-IDF:**<br>\n",
        "\n",
        "Tf_IDF : Actually , TF-IDF is composed of two parts.Firtsly , Tf which stands for Term Frequancy is how many times a word appears in a document.<br>\n",
        "(counting the number of words and divide it to the number of all words in the sentence)<br>\n",
        "\n",
        "IDF : which stands for Inverse Document Frequancy , is how common a word is found in a corpus or how uncommon a word is found in a corpus.<br>\n",
        "(measure of how important a term is across all documents in the corpus)<br>\n",
        "Result is actually a number between 0 and 1 , It is calculated by taking the logarithm of the total number of documents in the corpus divided<br>\n",
        "by number the of documents in which the term appears<br>\n",
        "\n",
        "However , it can not be a perfect manner to show just a single example to describe TF-IDF , but I will show it for better understanding <br>\n",
        "\n",
        "\n",
        "</div>"
      ],
      "metadata": {
        "id": "enfCGMRqj4AH"
      }
    },
    {
      "cell_type": "code",
      "source": [
        "from sklearn.feature_extraction.text import TfidfVectorizer\n",
        "words  = ['ghost','of','tsushima','now','graphically','is','best','open','world','red','dead','redemption','2','one','second','ahead']\n",
        "TF_IDF = TfidfVectorizer()\n",
        "transform = TF_IDF.fit_transform([test_text]).toarray()\n",
        "sns.heatmap(transform, annot=True,xticklabels=words,\n",
        "        cbar=False)\n",
        "transform"
      ],
      "metadata": {
        "execution": {
          "iopub.status.busy": "2023-11-03T10:42:56.961249Z",
          "iopub.execute_input": "2023-11-03T10:42:56.961602Z",
          "iopub.status.idle": "2023-11-03T10:42:57.432426Z",
          "shell.execute_reply.started": "2023-11-03T10:42:56.961573Z",
          "shell.execute_reply": "2023-11-03T10:42:57.431537Z"
        },
        "trusted": true,
        "id": "kUCJIWL5j4AH"
      },
      "execution_count": null,
      "outputs": []
    },
    {
      "cell_type": "markdown",
      "source": [
        "<div style=\"font-family:Georgia;background-color:aliceblue; padding:30px; font-size:17px ; color:#034914\">\n",
        "\n",
        "**N-grams:**<br>\n",
        "\n",
        "In a nutshell , N-gram means a sequence of N words.a collection of n successive items in a text document that may include words, numbers, symbols,<br>  and punctuation.If 2 , it is based on just the word and the next word after that.3 grams , itself and with 2 words after that and so on. <br>\n",
        "\n",
        "</div>"
      ],
      "metadata": {
        "id": "ivvDBK_bj4AH"
      }
    },
    {
      "cell_type": "markdown",
      "source": [
        "N-grams => 3-grams"
      ],
      "metadata": {
        "id": "FFtp316Sj4AH"
      }
    },
    {
      "cell_type": "code",
      "source": [
        "def n_grams(text, n):\n",
        "\n",
        "    return [text[i:i+n] for i in range(len(text)-n+1)]\n",
        "cleaned = test_text_tokenized\n",
        "n_grams(cleaned, 3)\n"
      ],
      "metadata": {
        "execution": {
          "iopub.status.busy": "2023-11-03T10:43:00.418714Z",
          "iopub.execute_input": "2023-11-03T10:43:00.419168Z",
          "iopub.status.idle": "2023-11-03T10:43:00.429546Z",
          "shell.execute_reply.started": "2023-11-03T10:43:00.41913Z",
          "shell.execute_reply": "2023-11-03T10:43:00.428522Z"
        },
        "trusted": true,
        "id": "0PFA9mo1j4AH"
      },
      "execution_count": null,
      "outputs": []
    },
    {
      "cell_type": "markdown",
      "source": [
        "<div style=\"font-family:Georgia;background-color:aliceblue; padding:30px; font-size:17px ; color:#034914\">\n",
        "\n",
        "**Stop words:**<br>\n",
        "\n",
        "Stop words are words which are very common in a language. In many projects , they are deleted because they can not affect and they <br>\n",
        "can easily increase the volume of texts without any assistance.<br>\n",
        "\n",
        "Actually , there is a package which contains all stopwords(in NLTK library) in English which are commonly used for NLP projects.<br>\n",
        "First we have to determine our language and download the words for that language.<br>\n",
        "As you can see , there are 179 stopwords in English and I have shown 20 of them .\n",
        "\n",
        "\n",
        "</div>"
      ],
      "metadata": {
        "id": "_IwFeAiuj4AH"
      }
    },
    {
      "cell_type": "code",
      "source": [
        "stopwords_list = stopwords.words('english')\n",
        "print(f'There are {len(stopwords_list) } stop words')\n",
        "print('**' * 20 , '\\n20 of them are as follows:\\n')\n",
        "for inx , value in enumerate(stopwords_list[:20]):\n",
        "    print(f'{inx+1}:{value}')\n"
      ],
      "metadata": {
        "execution": {
          "iopub.status.busy": "2023-11-03T10:43:03.594812Z",
          "iopub.execute_input": "2023-11-03T10:43:03.595568Z",
          "iopub.status.idle": "2023-11-03T10:43:03.605563Z",
          "shell.execute_reply.started": "2023-11-03T10:43:03.595537Z",
          "shell.execute_reply": "2023-11-03T10:43:03.604537Z"
        },
        "trusted": true,
        "id": "3xTgUoX6j4AH"
      },
      "execution_count": null,
      "outputs": []
    },
    {
      "cell_type": "markdown",
      "source": [
        "<div style=\"font-family:Georgia;background-color:aliceblue; padding:30px; font-size:17px ; color:#034914\">\n",
        "\n",
        "**Punctuation count**<br>\n",
        "\n",
        "Now I want to show what punctuations are mostly used in each Mode of views.First, I create a function to read words of each sample for each <br>\n",
        "Mode and then using defaultdict to count each stop words which exists in the whole samples.Using sorted to adjust them with highest one to lowest<br>\n",
        "(for 10 most commons , I have used Bar chart to depict)<br>\n",
        "\n",
        "You can see that , (the , to , and , a) are come the same amount in each Mode with same distribution respectively .\n",
        "</div>"
      ],
      "metadata": {
        "id": "ubnOQCHqj4AH"
      }
    },
    {
      "cell_type": "code",
      "source": [
        "def make_corpus(kind):\n",
        "    corpus = []\n",
        "    for text in df.loc[df['Mode']==kind]['Text'].str.split():\n",
        "        for word in text:\n",
        "            corpus.append(word)\n",
        "    return corpus"
      ],
      "metadata": {
        "execution": {
          "iopub.status.busy": "2023-11-03T10:43:07.300387Z",
          "iopub.execute_input": "2023-11-03T10:43:07.301226Z",
          "iopub.status.idle": "2023-11-03T10:43:07.307448Z",
          "shell.execute_reply.started": "2023-11-03T10:43:07.301186Z",
          "shell.execute_reply": "2023-11-03T10:43:07.306541Z"
        },
        "trusted": true,
        "id": "wz2AwmlPj4AI"
      },
      "execution_count": null,
      "outputs": []
    },
    {
      "cell_type": "code",
      "source": [
        "%%time\n",
        "stop = stopwords.words('english')\n",
        "sentiments = list(df.Mode.unique())\n",
        "\n",
        "\n",
        "\n",
        "for inx , value in enumerate(sentiments):\n",
        "\n",
        "    corpus = make_corpus(value)\n",
        "\n",
        "    dic = defaultdict(int)\n",
        "\n",
        "    for word in corpus:\n",
        "        if word in stop:\n",
        "            dic[word] += 1\n",
        "\n",
        "    top = sorted(dic.items(), key=lambda x: x[1], reverse=True)[:10]\n",
        "\n",
        "    x, y = zip(*top)\n",
        "    plt.title(f'{value} ')\n",
        "    plt.bar(x , y)\n",
        "    plt.show()"
      ],
      "metadata": {
        "execution": {
          "iopub.status.busy": "2023-11-03T10:43:09.417014Z",
          "iopub.execute_input": "2023-11-03T10:43:09.417731Z",
          "iopub.status.idle": "2023-11-03T10:43:14.00019Z",
          "shell.execute_reply.started": "2023-11-03T10:43:09.4177Z",
          "shell.execute_reply": "2023-11-03T10:43:13.999164Z"
        },
        "trusted": true,
        "id": "ie6nADVcj4AI"
      },
      "execution_count": null,
      "outputs": []
    },
    {
      "cell_type": "markdown",
      "source": [
        "<div style=\"font-family:Georgia;background-color:aliceblue; padding:30px; font-size:17px ; color:#034914\">\n",
        "\n",
        "**Descripton**<br>\n",
        "\n",
        "Here , I just do the previous techniques on the dataset to prepare them for the next steps.<br>\n",
        "clear them with text_clearer , and tokenize them .\n",
        "</div>"
      ],
      "metadata": {
        "id": "90_v83yej4AJ"
      }
    },
    {
      "cell_type": "code",
      "source": [
        "# df['Text'] = df['Text'].apply(lambda x : clean_emoji(x))\n",
        "df['Text'] = df['Text'].apply(lambda x : text_cleaner(x))\n",
        "df['Text']= df['Text'].apply(lambda x : Tokenizer.tokenize(x))\n",
        "df['Text'].to_frame()\n"
      ],
      "metadata": {
        "execution": {
          "iopub.status.busy": "2023-11-03T10:43:17.26629Z",
          "iopub.execute_input": "2023-11-03T10:43:17.266989Z",
          "iopub.status.idle": "2023-11-03T10:43:22.845625Z",
          "shell.execute_reply.started": "2023-11-03T10:43:17.266957Z",
          "shell.execute_reply": "2023-11-03T10:43:22.844735Z"
        },
        "trusted": true,
        "id": "jXnltIBvj4AK"
      },
      "execution_count": null,
      "outputs": []
    },
    {
      "cell_type": "markdown",
      "source": [
        "Lemmas and Stems"
      ],
      "metadata": {
        "id": "drET_TXaj4AK"
      }
    },
    {
      "cell_type": "markdown",
      "source": [
        "<div style=\"font-family:Georgia;background-color:aliceblue; padding:30px; font-size:17px ; color:#034914\">\n",
        "\n",
        "**Lemmatization :**<br>\n",
        "\n",
        "Lemmatization is a text pre-processing technique used in natural language processing (NLP) models to break a word down to its root meaning to <br>\n",
        "identify similarities. For example, a lemmatization algorithm would reduce the word better to its root word, or lemme, good. <br>\n",
        "\n",
        "**Stemming :**<br>\n",
        "Stemming is a natural language processing technique that is used to reduce words to their base form, also known as the root form.The word <br>\n",
        "after stemming is called stem of that word. <br>\n",
        "\n",
        "**Difference :**<br>\n",
        "The most important different between Lemmatization and  stemming  is that , Lemmatization is more accurate and it brings a word to the <br>\n",
        "language root of that word and stemming can be anything which means for computer and is not readable for humans(sometimes not readable)<br>\n",
        "However , stemming is also faster and is a great way for huge corpus.\n",
        "\n",
        "**Sample**:<br>\n",
        "In the example I have shown the lemma of each word\n",
        "\n",
        "**Dataset**<br>\n",
        "for the all dataset , we can afford either , which I have commented lemmatization method , if we want Lemmatization we can uncomment it and use<br>\n",
        "instead of stemming technique.\n",
        "\n",
        "**Note**<br>\n",
        "In the following code , before stemming , we are deleting all stopwords from each sample and then afford its stemmig for each word.\n",
        "</div>"
      ],
      "metadata": {
        "id": "gTXh6-vFj4AK"
      }
    },
    {
      "cell_type": "code",
      "source": [
        "nlp = spacy.load(\"en_core_web_sm\")\n",
        "doc = nlp(test_text)\n",
        "for token in doc :\n",
        "    print(f'{token} => {token.lemma_}')"
      ],
      "metadata": {
        "execution": {
          "iopub.status.busy": "2023-11-03T10:43:28.151872Z",
          "iopub.execute_input": "2023-11-03T10:43:28.152572Z",
          "iopub.status.idle": "2023-11-03T10:43:29.135678Z",
          "shell.execute_reply.started": "2023-11-03T10:43:28.152542Z",
          "shell.execute_reply": "2023-11-03T10:43:29.134778Z"
        },
        "trusted": true,
        "id": "jTt421CZj4AK"
      },
      "execution_count": null,
      "outputs": []
    },
    {
      "cell_type": "code",
      "source": [
        "# lemmatizer = WordNetLemmatizer()\n",
        "Stemmer = PorterStemmer()\n",
        "def stopwords_cleaner(text):\n",
        "#     word = [lemmatizer.lemmatize(letter) for letter in text if letter not in stopwords_list]\n",
        "    word = [Stemmer.stem(letter) for letter in text if letter not in stopwords_list]\n",
        "    peasting = ' '.join(word)\n",
        "    return peasting\n",
        "df['Text'] = df['Text'].apply(lambda x : stopwords_cleaner(x))\n",
        "# stopwords_cleaner(Tokenizer.tokenize(df.Text[100]))"
      ],
      "metadata": {
        "execution": {
          "iopub.status.busy": "2023-11-03T10:43:33.190461Z",
          "iopub.execute_input": "2023-11-03T10:43:33.190796Z",
          "iopub.status.idle": "2023-11-03T10:44:01.680602Z",
          "shell.execute_reply.started": "2023-11-03T10:43:33.190771Z",
          "shell.execute_reply": "2023-11-03T10:44:01.679796Z"
        },
        "trusted": true,
        "id": "PN20aQG2j4AK"
      },
      "execution_count": null,
      "outputs": []
    },
    {
      "cell_type": "code",
      "source": [
        "df['Text'][:10].to_frame()"
      ],
      "metadata": {
        "execution": {
          "iopub.status.busy": "2023-11-03T10:44:10.215821Z",
          "iopub.execute_input": "2023-11-03T10:44:10.216453Z",
          "iopub.status.idle": "2023-11-03T10:44:10.225877Z",
          "shell.execute_reply.started": "2023-11-03T10:44:10.216423Z",
          "shell.execute_reply": "2023-11-03T10:44:10.224923Z"
        },
        "trusted": true,
        "id": "WT745bfCj4AK"
      },
      "execution_count": null,
      "outputs": []
    },
    {
      "cell_type": "markdown",
      "source": [
        "<div style=\"font-family:Georgia;background-color:aliceblue; padding:30px; font-size:17px ; color:#034914\">\n",
        "\n",
        "**WordCloud**<br>\n",
        "\n",
        "word Cloud is just a data visualization technique used for representing text data in which the size of each word indicates its frequency or <br>  importance.Now , I will show the most important words(common ones) exclude stopwords for each Mode.<br>\n",
        "\n",
        "</div>"
      ],
      "metadata": {
        "id": "nTfP9w4Kj4AK"
      }
    },
    {
      "cell_type": "code",
      "source": [
        "%%time\n",
        "positive_reviews = df[df['Mode'] == 'Positive']['Text']\n",
        "pos = ' '.join(map(str, positive_reviews))\n",
        "pos_wordcloud = WordCloud(width=1500, height=800,\n",
        "                          background_color='black',\n",
        "                         stopwords=stopwords_list,\n",
        "                          min_font_size=15).generate(pos)\n",
        "plt.figure(figsize=(10, 10))\n",
        "plt.imshow(pos_wordcloud)\n",
        "plt.title('Word Cloud for Positive Reviews')\n",
        "plt.axis('off')\n",
        "plt.show()\n"
      ],
      "metadata": {
        "execution": {
          "iopub.status.busy": "2023-11-03T10:44:13.675579Z",
          "iopub.execute_input": "2023-11-03T10:44:13.675906Z",
          "iopub.status.idle": "2023-11-03T10:44:17.050507Z",
          "shell.execute_reply.started": "2023-11-03T10:44:13.675872Z",
          "shell.execute_reply": "2023-11-03T10:44:17.049588Z"
        },
        "trusted": true,
        "id": "9cJVrfALj4AK"
      },
      "execution_count": null,
      "outputs": []
    },
    {
      "cell_type": "code",
      "source": [
        "%%time\n",
        "positive_reviews = df[df['Mode'] == 'Negative']['Text']\n",
        "neg = ' '.join(map(str, positive_reviews))\n",
        "pos_wordcloud = WordCloud(width=1500, height=800,\n",
        "                          background_color='black',\n",
        "                         stopwords=stopwords_list,\n",
        "                          min_font_size=15).generate(neg)\n",
        "plt.figure(figsize=(10, 10))\n",
        "plt.imshow(pos_wordcloud)\n",
        "plt.title('Word Cloud for Negative Reviews')\n",
        "plt.axis('off')\n",
        "plt.show()"
      ],
      "metadata": {
        "execution": {
          "iopub.status.busy": "2023-11-03T10:44:25.525439Z",
          "iopub.execute_input": "2023-11-03T10:44:25.526124Z",
          "iopub.status.idle": "2023-11-03T10:44:29.44454Z",
          "shell.execute_reply.started": "2023-11-03T10:44:25.526073Z",
          "shell.execute_reply": "2023-11-03T10:44:29.44365Z"
        },
        "trusted": true,
        "id": "23hrm0xZj4AL"
      },
      "execution_count": null,
      "outputs": []
    },
    {
      "cell_type": "code",
      "source": [
        "%%time\n",
        "positive_reviews = df[df['Mode'] == 'Neutral']['Text']\n",
        "Neutral = ' '.join(map(str, positive_reviews))\n",
        "pos_wordcloud = WordCloud(width=1500, height=800,\n",
        "                          background_color='black',\n",
        "                         stopwords=stopwords_list,\n",
        "                          min_font_size=15).generate(Neutral)\n",
        "plt.figure(figsize=(10, 10))\n",
        "plt.imshow(pos_wordcloud)\n",
        "plt.title('Word Cloud for Neutral Reviews')\n",
        "plt.axis('off')\n",
        "plt.show()"
      ],
      "metadata": {
        "execution": {
          "iopub.status.busy": "2023-11-03T10:44:46.308579Z",
          "iopub.execute_input": "2023-11-03T10:44:46.308968Z",
          "iopub.status.idle": "2023-11-03T10:44:49.796485Z",
          "shell.execute_reply.started": "2023-11-03T10:44:46.308936Z",
          "shell.execute_reply": "2023-11-03T10:44:49.795611Z"
        },
        "trusted": true,
        "id": "HgEpIgwZj4AL"
      },
      "execution_count": null,
      "outputs": []
    },
    {
      "cell_type": "code",
      "source": [
        "%%time\n",
        "positive_reviews = df[df['Mode'] == 'Irrelevant']['Text']\n",
        "Irrelevant  = ' '.join(map(str, positive_reviews))\n",
        "pos_wordcloud = WordCloud(width=1500, height=800,\n",
        "                          background_color='black',\n",
        "                         stopwords=stopwords_list,\n",
        "                          min_font_size=15).generate(Irrelevant )\n",
        "plt.figure(figsize=(10, 10))\n",
        "plt.imshow(pos_wordcloud)\n",
        "plt.title('Word Cloud for Irrelevant Reviews')\n",
        "plt.axis('off')\n",
        "plt.show()\n"
      ],
      "metadata": {
        "execution": {
          "iopub.status.busy": "2023-11-03T10:44:53.875406Z",
          "iopub.execute_input": "2023-11-03T10:44:53.876313Z",
          "iopub.status.idle": "2023-11-03T10:44:56.901124Z",
          "shell.execute_reply.started": "2023-11-03T10:44:53.876276Z",
          "shell.execute_reply": "2023-11-03T10:44:56.900089Z"
        },
        "trusted": true,
        "id": "VZEnqzDaj4AL"
      },
      "execution_count": null,
      "outputs": []
    },
    {
      "cell_type": "markdown",
      "source": [
        "<div style=\"font-family:Georgia;background-color:aliceblue; padding:30px; font-size:17px ; color:#034914\">\n",
        "\n",
        "**Descripton**<br>\n",
        "A number of fundamental statistics are shown below to know about corpus .such as , maximum , minimum length of texts , <br>\n",
        "mean of length , std and the last calculation which is momentous is the number of words which we are required to have for each sample <br>\n",
        "we should not allow all words of each sample be in the review).For example, someone has a review with 797 words. so it is computiationally expensive and furthermore , it dosent allow our model to learn perfectly.Instead of all words , we are going to use a formula to keep 95% of data , but <br>\n",
        "with a samller amount of data for learning better and instead of those additional words we use a special character namely PAD becuase all sample <br>\n",
        "should have the same length. here , Mew + 2 sigma is 165.7 which we are going to use 166 words of each sample.\n",
        "</div>"
      ],
      "metadata": {
        "id": "pcqG25Utj4AL"
      }
    },
    {
      "cell_type": "code",
      "source": [
        "len_text = [len(tx) for tx in df['Text'].to_list()]\n",
        "print(f'Max Length : {np.max(len_text)}')\n",
        "print(f'Min Length : {np.min(len_text)}')\n",
        "print(f'Mean Length : {round(np.mean(len_text),2)}')\n",
        "print(f'Std Length : {round(np.std(len_text),2)}')\n",
        "print(f'Mew + 2sigma : {round(np.mean(len_text)+ 2 *np.std(len_text),2)}')\n"
      ],
      "metadata": {
        "execution": {
          "iopub.status.busy": "2023-11-03T10:45:06.131309Z",
          "iopub.execute_input": "2023-11-03T10:45:06.13225Z",
          "iopub.status.idle": "2023-11-03T10:45:06.199897Z",
          "shell.execute_reply.started": "2023-11-03T10:45:06.132215Z",
          "shell.execute_reply": "2023-11-03T10:45:06.198995Z"
        },
        "trusted": true,
        "id": "YqsNcWatj4AL"
      },
      "execution_count": null,
      "outputs": []
    },
    {
      "cell_type": "markdown",
      "source": [
        "<div style=\"font-family:Georgia;background-color:aliceblue; padding:30px; font-size:17px ; color:#034914\">\n",
        "\n",
        "**Descripton**<br>\n",
        "\n",
        "Now , after removing all stop words we want to see what words are most common for each mode in our corpus.Like wordcloud <br>\n",
        "but in a barchart to have better insights. (either wordcloud or this way is enough for representing)\n",
        "\n",
        "</div>"
      ],
      "metadata": {
        "id": "GQf2I7LKj4AL"
      }
    },
    {
      "cell_type": "code",
      "source": [
        "%%time\n",
        "for inx , value in enumerate(sentiments):\n",
        "\n",
        "    counter = Counter(make_corpus(value))\n",
        "    most_common = counter.most_common()\n",
        "\n",
        "    x = []\n",
        "    y = []\n",
        "\n",
        "    for word, count in most_common[:40]:\n",
        "         if word not in stop:\n",
        "            x.append(word)\n",
        "            y.append(count)\n",
        "\n",
        "    sns.barplot(x=y, y=x, orient='h')\n",
        "    plt.title(f'{value} most used words')\n",
        "    plt.show()"
      ],
      "metadata": {
        "execution": {
          "iopub.status.busy": "2023-11-03T10:45:10.244737Z",
          "iopub.execute_input": "2023-11-03T10:45:10.245378Z",
          "iopub.status.idle": "2023-11-03T10:45:12.818214Z",
          "shell.execute_reply.started": "2023-11-03T10:45:10.245344Z",
          "shell.execute_reply": "2023-11-03T10:45:12.817313Z"
        },
        "trusted": true,
        "id": "E8kNIM-Tj4AL"
      },
      "execution_count": null,
      "outputs": []
    },
    {
      "cell_type": "markdown",
      "source": [
        "<div style=\"font-family:Georgia;background-color:aliceblue; padding:30px; font-size:17px ; color:#034914\">\n",
        "\n",
        "**Descripton**<br>\n",
        "\n",
        "we are going to create a column namely sentiments and instead of Positive , Negative we put 1 and 0 , instead of Neutral and <br>\n",
        "Irrelevant we put 2. It means that underestanding Positive and Negative reviews is much more important for use rather that neutral and <br>\n",
        "Irrelevant ones.(Just for decreasing the calsses and increasing the accuracy for finding Positive and Negative ones) however , we are able to<br>\n",
        " classify each one of them without mixing , but of curse the accuracy will decrease noticeably.<br>\n",
        "</div>"
      ],
      "metadata": {
        "id": "QuduBXNNj4AL"
      }
    },
    {
      "cell_type": "code",
      "source": [
        "df['sentiments'] = df['Mode'].replace({'Positive' : 1 ,  'Negative' : 0 ,'Neutral':2 , 'Irrelevant' : 2 })"
      ],
      "metadata": {
        "execution": {
          "iopub.status.busy": "2023-11-03T10:45:18.183278Z",
          "iopub.execute_input": "2023-11-03T10:45:18.183967Z",
          "iopub.status.idle": "2023-11-03T10:45:18.243737Z",
          "shell.execute_reply.started": "2023-11-03T10:45:18.183931Z",
          "shell.execute_reply": "2023-11-03T10:45:18.242794Z"
        },
        "trusted": true,
        "id": "JofIlKmcj4AL"
      },
      "execution_count": null,
      "outputs": []
    },
    {
      "cell_type": "code",
      "source": [
        "df.sample(10)"
      ],
      "metadata": {
        "execution": {
          "iopub.status.busy": "2023-11-03T10:45:21.955595Z",
          "iopub.execute_input": "2023-11-03T10:45:21.956431Z",
          "iopub.status.idle": "2023-11-03T10:45:21.970222Z",
          "shell.execute_reply.started": "2023-11-03T10:45:21.956397Z",
          "shell.execute_reply": "2023-11-03T10:45:21.969024Z"
        },
        "trusted": true,
        "id": "q1eEgObPj4AL"
      },
      "execution_count": null,
      "outputs": []
    },
    {
      "cell_type": "markdown",
      "source": [
        "<div style=\"font-family:Georgia;background-color:aliceblue; padding:30px; font-size:17px ; color:#034914\">\n",
        "\n",
        "**Descripton**<br>\n",
        "Now , we are going to create a customer class to show  len and item.\n",
        "</div>"
      ],
      "metadata": {
        "id": "wTUg_0Xyj4AL"
      }
    },
    {
      "cell_type": "code",
      "source": [
        "class Dataset:\n",
        "    def __init__(self,text,sentiment):\n",
        "        self.text = text\n",
        "        self.sentiment = sentiment\n",
        "\n",
        "    def __len__(self):\n",
        "        return len(self.text)\n",
        "\n",
        "    def __getitem__(self,item):\n",
        "        text = self.text[item,:]\n",
        "        target = self.sentiment[item]\n",
        "        return {\n",
        "            \"text\": torch.tensor(text,dtype = torch.long),\n",
        "            \"target\": torch.tensor(target,dtype = torch.long)\n",
        "        }"
      ],
      "metadata": {
        "execution": {
          "iopub.status.busy": "2023-11-03T10:45:25.014944Z",
          "iopub.execute_input": "2023-11-03T10:45:25.015886Z",
          "iopub.status.idle": "2023-11-03T10:45:25.023571Z",
          "shell.execute_reply.started": "2023-11-03T10:45:25.015838Z",
          "shell.execute_reply": "2023-11-03T10:45:25.02238Z"
        },
        "trusted": true,
        "id": "Z_05Ix9Dj4AL"
      },
      "execution_count": null,
      "outputs": []
    },
    {
      "cell_type": "markdown",
      "source": [
        "<div style=\"font-family:Georgia;background-color:aliceblue; padding:30px; font-size:17px ; color:#034914\">\n",
        "\n",
        "**Descripton**<br>\n",
        "\n",
        "We require helper functions to help us reading word vectors(we have a vord vector to give our model to understand the distant meaning of each words<br>\n",
        "and by that we can improve our model accuracy. There are many word vectors whcih I will use glove.6B.300d 300 is the dimention.you can use less <br>\n",
        "ones. More is better understanding but computationally higher.)and them another function to help us create embedding matrix for our corpus words.\n",
        "</div>"
      ],
      "metadata": {
        "id": "bw9YFioDj4AL"
      }
    },
    {
      "cell_type": "code",
      "source": [
        "def load_vectors(fname):\n",
        "    fin = open(fname , encoding=\"utf8\")\n",
        "    data = {}\n",
        "    for line in fin:\n",
        "        tokens = line.split()\n",
        "        data[tokens[0]] = np.array([float(value) for value in tokens[1:]])\n",
        "\n",
        "    return data"
      ],
      "metadata": {
        "execution": {
          "iopub.status.busy": "2023-11-03T10:45:28.449814Z",
          "iopub.execute_input": "2023-11-03T10:45:28.450458Z",
          "iopub.status.idle": "2023-11-03T10:45:28.45594Z",
          "shell.execute_reply.started": "2023-11-03T10:45:28.450427Z",
          "shell.execute_reply": "2023-11-03T10:45:28.454946Z"
        },
        "trusted": true,
        "id": "aeGdj6Q4j4AL"
      },
      "execution_count": null,
      "outputs": []
    },
    {
      "cell_type": "code",
      "source": [
        "def create_embedding_matrix(word_index,embedding_dict):\n",
        "\n",
        "    embedding_matrix = np.zeros((len(word_index)+1,300))\n",
        "    for word, i in word_index.items():\n",
        "        if word in embedding_dict:\n",
        "            embedding_matrix[i] = embedding_dict[word]\n",
        "\n",
        "    return embedding_matrix"
      ],
      "metadata": {
        "execution": {
          "iopub.status.busy": "2023-11-03T10:45:31.152777Z",
          "iopub.execute_input": "2023-11-03T10:45:31.153149Z",
          "iopub.status.idle": "2023-11-03T10:45:31.15848Z",
          "shell.execute_reply.started": "2023-11-03T10:45:31.153118Z",
          "shell.execute_reply": "2023-11-03T10:45:31.157507Z"
        },
        "trusted": true,
        "id": "gDCcHM6Mj4AM"
      },
      "execution_count": null,
      "outputs": []
    },
    {
      "cell_type": "markdown",
      "source": [
        "<div style=\"font-family:Georgia;background-color:aliceblue; padding:30px; font-size:17px ; color:#034914\">\n",
        "\n",
        "**Descripton**<br>\n",
        "Creating our Model with the help of sentimentBiLSTM from nn.Module.Described each part in the code\n",
        "\n",
        "</div>\n"
      ],
      "metadata": {
        "id": "TxpW11Kaj4AM"
      }
    },
    {
      "cell_type": "markdown",
      "source": [
        "<a id=\"1\"></a>\n",
        "# <div style=\"padding:20px;color:white;margin:0;font-size:30px;font-family:Georgia;text-align:center;display:fill;border-radius:5px;background-color:#254E58;overflow:hidden\"><b> Model </b></div>"
      ],
      "metadata": {
        "id": "eoMW8IzZj4AM"
      }
    },
    {
      "cell_type": "markdown",
      "source": [
        "<center>\n",
        "<img src=\"https://miro.medium.com/v2/resize:fit:764/1*6QnPUSv_t9BY9Fv8_aLb-Q.png\" width=800 height=500 />\n",
        "</center>"
      ],
      "metadata": {
        "id": "TTj9fBMVj4AM"
      }
    },
    {
      "cell_type": "markdown",
      "source": [
        "\n",
        "Bidirectional LSTM (BiLSTM) is a recurrent neural network used primarily on natural language processing. Unlike standard LSTM, the input flows in both directions, and it’s capable of utilizing information from both sides. It’s also a powerful tool for modeling the sequential dependencies between words and phrases in both directions of the sequence.\n",
        "\n",
        "In summary, BiLSTM adds one more LSTM layer, which reverses the direction of information flow. Briefly, it means that the input sequence flows backward in the additional LSTM layer. Then we combine the outputs from both LSTM layers in several ways, such as average, sum, multiplication, or concatenation."
      ],
      "metadata": {
        "id": "mqu-yDBoj4AM"
      }
    },
    {
      "cell_type": "code",
      "source": [
        "class sentimentBiLSTM(nn.Module):\n",
        "#inherited from nn.Module\n",
        "\n",
        "    def __init__(self, embedding_matrix, hidden_dim, output_size):\n",
        "\n",
        "        #initializing the params by initialization method\n",
        "        super(sentimentBiLSTM, self).__init__()\n",
        "        self.embedding_matrix = embedding_matrix\n",
        "        self.hidden_dim = hidden_dim\n",
        "        num_words = self.embedding_matrix.shape[0]\n",
        "        embed_dim = self.embedding_matrix.shape[1]\n",
        "        # craetinh embedding layer\n",
        "        self.embedding = nn.Embedding(num_embeddings=num_words,embedding_dim=embed_dim)\n",
        "\n",
        "        ## initializes the weights of the embedding layer to the pretrained embeddings in\n",
        "        ## embedding_matrix. It first converts embedding_matrix to a PyTorch tensor and\n",
        "        ## wraps it in an nn.Parameter object, which makes it a learnable parameter of the model.\n",
        "        self.embedding.weight = nn.Parameter(torch.tensor(embedding_matrix,dtype=torch.float32))\n",
        "        self.embedding.weight.requires_grad = False\n",
        "        self.lstm = nn.LSTM(embed_dim,hidden_dim,bidirectional=True,batch_first=True)\n",
        "\n",
        "        #it is multuplied by 2 becuase it is bi_directional if one-sided it didnt need.\n",
        "        self.fc = nn.Linear(hidden_dim*2, output_size)\n",
        "\n",
        "\n",
        "    #we need a forward function to model calculate the cost and know how bad the params is .\n",
        "    # However , it can be written in a line of code but if we want to track it it is easier way.\n",
        "    def forward(self, x):\n",
        "\n",
        "\n",
        "        embeds = self.embedding(x)\n",
        "        lstm_out,_ = self.lstm(embeds)\n",
        "        lstm_out = lstm_out[:, -1]\n",
        "        out = self.fc(lstm_out)\n",
        "\n",
        "        return out"
      ],
      "metadata": {
        "execution": {
          "iopub.status.busy": "2023-11-03T10:45:35.165385Z",
          "iopub.execute_input": "2023-11-03T10:45:35.166181Z",
          "iopub.status.idle": "2023-11-03T10:45:35.176155Z",
          "shell.execute_reply.started": "2023-11-03T10:45:35.166146Z",
          "shell.execute_reply": "2023-11-03T10:45:35.174995Z"
        },
        "trusted": true,
        "id": "40Z0SWobj4AM"
      },
      "execution_count": null,
      "outputs": []
    },
    {
      "cell_type": "markdown",
      "source": [
        "<div style=\"font-family:Georgia;background-color:aliceblue; padding:30px; font-size:17px ; color:#034914\">\n",
        "\n",
        "**Descripton**<br>\n",
        "spliting data to train and test => 80% for train and 20% for test\n",
        "\n",
        "</div>"
      ],
      "metadata": {
        "id": "wNKvwY5Wj4AM"
      }
    },
    {
      "cell_type": "code",
      "source": [
        "y = df.sentiments.values\n",
        "train_df,test_df = train_test_split(df,test_size = 0.2, stratify = y)"
      ],
      "metadata": {
        "execution": {
          "iopub.status.busy": "2023-11-03T10:45:47.085155Z",
          "iopub.execute_input": "2023-11-03T10:45:47.08553Z",
          "iopub.status.idle": "2023-11-03T10:45:47.133106Z",
          "shell.execute_reply.started": "2023-11-03T10:45:47.085501Z",
          "shell.execute_reply": "2023-11-03T10:45:47.132339Z"
        },
        "trusted": true,
        "id": "k3q-YTVlj4AM"
      },
      "execution_count": null,
      "outputs": []
    },
    {
      "cell_type": "markdown",
      "source": [
        "<div style=\"font-family:Georgia;background-color:aliceblue; padding:30px; font-size:17px ; color:#034914\">\n",
        "\n",
        "**Descripton**<br>\n",
        "Max_length as mew + 2sigma = 167 <br>\n",
        "Batch size is a number that detremined based on your system 16-32-64...<br>\n",
        "Hidden_dimention for the model will be 64<br>\n",
        "output is the number of classes which we have (len(classes))<br>\n",
        "Also check if Cuda is available we put our system on GPU else CPU\n",
        "\n",
        "</div>"
      ],
      "metadata": {
        "id": "K_Ykfhzmj4AM"
      }
    },
    {
      "cell_type": "code",
      "source": [
        "MAX_LEN = 167\n",
        "BATCH_SIZE = 32\n",
        "hidden_dim = 64\n",
        "output_size = 3\n",
        "\n",
        "\n",
        "if torch.cuda.is_available():\n",
        "\n",
        "       device = torch.device(\"cuda\")\n",
        "\n",
        "else:\n",
        "       device = torch.device(\"cpu\")\n",
        "\n",
        "\n",
        "print(f'Current device is {device}')\n"
      ],
      "metadata": {
        "execution": {
          "iopub.status.busy": "2023-11-03T10:45:49.536587Z",
          "iopub.execute_input": "2023-11-03T10:45:49.537283Z",
          "iopub.status.idle": "2023-11-03T10:45:49.543156Z",
          "shell.execute_reply.started": "2023-11-03T10:45:49.537252Z",
          "shell.execute_reply": "2023-11-03T10:45:49.542121Z"
        },
        "trusted": true,
        "id": "JwyMuxmTj4AM"
      },
      "execution_count": null,
      "outputs": []
    },
    {
      "cell_type": "markdown",
      "source": [
        "<div style=\"font-family:Georgia;background-color:aliceblue; padding:30px; font-size:17px ; color:#034914\">\n",
        "\n",
        "**Descripton**<br>\n",
        "now , we need to convert each sample to a readable way and deleting all extra words more than 167 and put PAD character instead <br>\n",
        "we use texts_to_sequences function to do that.and then using DataLoader to read data for both Train and Test.\n",
        "\n",
        "</div>"
      ],
      "metadata": {
        "id": "Zi_PGQ1fj4AM"
      }
    },
    {
      "cell_type": "code",
      "source": [
        "tokenizer = tf.keras.preprocessing.text.Tokenizer()\n",
        "tokenizer.fit_on_texts(df.Text.values.tolist())\n",
        "\n",
        "xtrain = tokenizer.texts_to_sequences(train_df.Text.values)\n",
        "xtest = tokenizer.texts_to_sequences(test_df.Text.values)\n",
        "xtrain = tf.keras.preprocessing.sequence.pad_sequences(xtrain,maxlen = MAX_LEN)\n",
        "xtest = tf.keras.preprocessing.sequence.pad_sequences(xtest,maxlen = MAX_LEN)\n",
        "train_dataset = Dataset(text=xtrain,sentiment=train_df.sentiments.values)\n",
        "train_loader = torch.utils.data.DataLoader(train_dataset,batch_size=BATCH_SIZE,drop_last=True)\n",
        "valid_dataset = Dataset(text=xtest,sentiment=test_df.sentiments.values)\n",
        "valid_loader = torch.utils.data.DataLoader(valid_dataset,batch_size=BATCH_SIZE,drop_last=True)\n"
      ],
      "metadata": {
        "execution": {
          "iopub.status.busy": "2023-11-03T10:45:53.093007Z",
          "iopub.execute_input": "2023-11-03T10:45:53.093661Z",
          "iopub.status.idle": "2023-11-03T10:45:56.21421Z",
          "shell.execute_reply.started": "2023-11-03T10:45:53.093631Z",
          "shell.execute_reply": "2023-11-03T10:45:56.213397Z"
        },
        "trusted": true,
        "id": "KXlQf3qmj4AM"
      },
      "execution_count": null,
      "outputs": []
    },
    {
      "cell_type": "code",
      "source": [
        "# check a batch of data\n",
        "one_batch = next(iter(train_loader))\n",
        "one_batch"
      ],
      "metadata": {
        "execution": {
          "iopub.status.busy": "2023-11-03T10:46:10.760599Z",
          "iopub.execute_input": "2023-11-03T10:46:10.760953Z",
          "iopub.status.idle": "2023-11-03T10:46:10.834092Z",
          "shell.execute_reply.started": "2023-11-03T10:46:10.760923Z",
          "shell.execute_reply": "2023-11-03T10:46:10.833237Z"
        },
        "trusted": true,
        "id": "Zc0CRNDGj4AM"
      },
      "execution_count": null,
      "outputs": []
    },
    {
      "cell_type": "markdown",
      "source": [
        "<div style=\"font-family:Georgia;background-color:aliceblue; padding:30px; font-size:17px ; color:#034914\">\n",
        "\n",
        "**Descripton**<br>\n",
        "As I said , we need a word vector (glove.6B.300d) which Im using and now load it and tokenize it\n",
        "\n",
        "</div>"
      ],
      "metadata": {
        "id": "UMUsdYiOj4AN"
      }
    },
    {
      "cell_type": "code",
      "source": [
        "embedding_dict = load_vectors('/kaggle/input/glove6b300dtxt/glove.6B.300d.txt')\n",
        "embedding_matrix = create_embedding_matrix(tokenizer.word_index,embedding_dict)"
      ],
      "metadata": {
        "execution": {
          "iopub.status.busy": "2023-11-03T10:46:14.017545Z",
          "iopub.execute_input": "2023-11-03T10:46:14.017904Z",
          "iopub.status.idle": "2023-11-03T10:47:28.451628Z",
          "shell.execute_reply.started": "2023-11-03T10:46:14.017875Z",
          "shell.execute_reply": "2023-11-03T10:47:28.45073Z"
        },
        "trusted": true,
        "id": "8WOPvzBoj4AN"
      },
      "execution_count": null,
      "outputs": []
    },
    {
      "cell_type": "markdown",
      "source": [
        "<div style=\"font-family:Georgia;background-color:aliceblue; padding:30px; font-size:17px ; color:#034914\">\n",
        "\n",
        "**Descripton**<br>\n",
        "Now create a object of the model (embedding_matrix, hidden_dim=64, output_size=3) and put the model on device.\n",
        "\n",
        "</div>"
      ],
      "metadata": {
        "id": "gtOtTop2j4AN"
      }
    },
    {
      "cell_type": "code",
      "source": [
        "model = sentimentBiLSTM(embedding_matrix ,  hidden_dim, output_size)\n",
        "model = model.to(device)\n",
        "print(model)"
      ],
      "metadata": {
        "execution": {
          "iopub.status.busy": "2023-11-03T10:47:42.558195Z",
          "iopub.execute_input": "2023-11-03T10:47:42.558532Z",
          "iopub.status.idle": "2023-11-03T10:47:49.793354Z",
          "shell.execute_reply.started": "2023-11-03T10:47:42.558507Z",
          "shell.execute_reply": "2023-11-03T10:47:49.792389Z"
        },
        "trusted": true,
        "id": "MBf1DVelj4AN"
      },
      "execution_count": null,
      "outputs": []
    },
    {
      "cell_type": "markdown",
      "source": [
        "<div style=\"font-family:Georgia;background-color:aliceblue; padding:30px; font-size:17px ; color:#034914\">\n",
        "\n",
        "**Descripton**<br>\n",
        "manual_seed : for reproductivity<br>\n",
        "Optimizer : can be either SGD and Adam or any others . But I prefer Adam as defualt. with lr = 0.001<br>\n",
        "cost_function = CrossEntropyLoss() cause we have 3 classes => BCELoss() if it was just 2 <br>\n",
        "schedul_learning: also we can use a schedul_learning to decrease the lr after a number of epochs but I tried and i didnt go well<br>\n",
        "acc : acc function is used  to show the accuray<br>\n",
        "The number of epochs will be = 9\n",
        "</div>"
      ],
      "metadata": {
        "id": "_hWy9SSHj4AN"
      }
    },
    {
      "cell_type": "code",
      "source": [
        "torch.manual_seed(42)\n",
        "torch.cuda.manual_seed(42)\n",
        "\n",
        "optimizer = optim.Adam(model.parameters(), lr=0.001)\n",
        "\n",
        "criterion = nn.CrossEntropyLoss()\n",
        "# schedul_learning = torch.optim.lr_scheduler.MultiStepLR(optimizer=optimizer , milestones=[6] ,\n",
        "#                                                         gamma=0.055)\n",
        "\n",
        "def acc(pred,label):\n",
        "    pred = pred.argmax(1)\n",
        "    return torch.sum(pred == label.squeeze()).item()"
      ],
      "metadata": {
        "execution": {
          "iopub.status.busy": "2023-11-03T10:47:57.82136Z",
          "iopub.execute_input": "2023-11-03T10:47:57.822059Z",
          "iopub.status.idle": "2023-11-03T10:47:57.82926Z",
          "shell.execute_reply.started": "2023-11-03T10:47:57.82203Z",
          "shell.execute_reply": "2023-11-03T10:47:57.828464Z"
        },
        "trusted": true,
        "id": "mmd8tQgaj4AN"
      },
      "execution_count": null,
      "outputs": []
    },
    {
      "cell_type": "code",
      "source": [
        "clip = 5\n",
        "epochs = 9\n",
        "valid_loss_min = np.Inf\n",
        "# train for some number of epochs\n",
        "epoch_tr_loss,epoch_vl_loss = [],[]\n",
        "epoch_tr_acc,epoch_vl_acc = [],[]\n",
        "\n",
        "for epoch in range(epochs):\n",
        "    # for getting loss and accuracy for train\n",
        "    train_losses = []\n",
        "    train_acc = 0.0\n",
        "\n",
        "    #put model on train mode\n",
        "    model.train()\n",
        "    correct = 0\n",
        "\n",
        "    # initialize hidden state\n",
        "    for data in train_loader:\n",
        "\n",
        "        #get text and target\n",
        "        inputs = data['text']\n",
        "        labels = data['target']\n",
        "\n",
        "        #put them on GPU and right dtypes\n",
        "        inputs = inputs.to(device,dtype=torch.long)\n",
        "        labels = labels.to(device,dtype=torch.float)\n",
        "\n",
        "         #gradient becomes zero=> avoid accumulating\n",
        "        model.zero_grad()\n",
        "        output = model(inputs)\n",
        "          # calculate the loss and perform backprop\n",
        "        loss = criterion(output, labels.long())\n",
        "        loss.backward()\n",
        "        train_losses.append(loss.item())\n",
        "        # accuracy\n",
        "        accuracy = acc(output,labels)\n",
        "        train_acc += accuracy\n",
        "        #`clip_grad_norm` helps prevent the exploding gradient problem in LSTMs\n",
        "        nn.utils.clip_grad_norm_(model.parameters(), clip)\n",
        "        optimizer.step()\n",
        "\n",
        "    # for getting loss and accuracy for valiadtion\n",
        "    val_losses = []\n",
        "    val_acc = 0.0\n",
        "\n",
        "    #put model on evaluation mode\n",
        "    model.eval()\n",
        "    for data in valid_loader:\n",
        "\n",
        "        #get text and target\n",
        "        inputs = data['text']\n",
        "        labels = data['target']\n",
        "\n",
        "        #put them on GPU and right dtypes\n",
        "        inputs = inputs.to(device,dtype=torch.long)\n",
        "        labels = labels.to(device,dtype=torch.float)\n",
        "\n",
        "        #gradient becomes zero=> avoid accumulating\n",
        "        model.zero_grad()\n",
        "        output = model(inputs)\n",
        "\n",
        "        output = model(inputs)\n",
        "        #Loss calculating\n",
        "        val_loss = criterion(output, labels.long())\n",
        "        #append Loss to the above list\n",
        "        val_losses.append(val_loss.item())\n",
        "\n",
        "        # calculating accuracy\n",
        "        accuracy = acc(output,labels)\n",
        "        val_acc += accuracy\n",
        "        epoch_train_loss = np.mean(train_losses)\n",
        "\n",
        "        #using schedule lr if you need\n",
        "#         schedul_learning.step()\n",
        "#         schedul_learning\n",
        "\n",
        "    #appending all accuracy and loss to the above lists and variables\n",
        "    epoch_val_loss = np.mean(val_losses)\n",
        "    epoch_train_acc = train_acc/len(train_loader.dataset)\n",
        "    epoch_val_acc = val_acc/len(valid_loader.dataset)\n",
        "    epoch_tr_loss.append(epoch_train_loss)\n",
        "    epoch_vl_loss.append(epoch_val_loss)\n",
        "    epoch_tr_acc.append(epoch_train_acc)\n",
        "    epoch_vl_acc.append(epoch_val_acc)\n",
        "    print(f'Epoch {epoch+1}')\n",
        "    print(f'train_loss : {epoch_train_loss} val_loss : {epoch_val_loss}')\n",
        "    print(f'train_accuracy : {epoch_train_acc*100} val_accuracy : {epoch_val_acc*100}')\n",
        "    if epoch_val_loss <= valid_loss_min:\n",
        "        #each time that model(params) get better you can save the model(you have to enter a path ou you pc and save with pt file)\n",
        "        # torch.save(model.state_dict(), r'C:\\Users\\payama\\Desktop\\Projects kaggle\\NLP\\vectors features\\BidirectionalLSTM.pt')\n",
        "#         print('Validation loss decreased ({:.6f} --> {:.6f}).  Saving model ...'.format(valid_loss_min,epoch_val_loss))\n",
        "        print(f'Validation loss decreased ({valid_loss_min} --> {epoch_val_loss})  Saving model ...')\n",
        "        # save model if better result happends\n",
        "        valid_loss_min = epoch_val_loss\n",
        "    print(30 * '==' , '>')"
      ],
      "metadata": {
        "execution": {
          "iopub.status.busy": "2023-11-03T10:48:02.795773Z",
          "iopub.execute_input": "2023-11-03T10:48:02.796142Z",
          "iopub.status.idle": "2023-11-03T10:49:28.84848Z",
          "shell.execute_reply.started": "2023-11-03T10:48:02.796113Z",
          "shell.execute_reply": "2023-11-03T10:49:28.847478Z"
        },
        "trusted": true,
        "id": "nCPGttccj4AN"
      },
      "execution_count": null,
      "outputs": []
    },
    {
      "cell_type": "markdown",
      "source": [
        "<div style=\"font-family:Georgia;background-color:aliceblue; padding:30px; font-size:17px ; color:#034914\">\n",
        "\n",
        "**Descripton**<br>\n",
        "    \n",
        "The result after 10 epochs is :<br>\n",
        "    \n",
        "train_accuracy : 92.44121135998884 <br>\n",
        "val_accuracy : 82.91117158607216<br>\n",
        "    \n",
        "train_loss : 0.18834395279212413<br>\n",
        "val_loss : 0.5528476672784594<br>  \n",
        "\n",
        "\n",
        "Lets plot it for better understanding =>\n",
        "</div>"
      ],
      "metadata": {
        "id": "ZewY5uwgj4AN"
      }
    },
    {
      "cell_type": "code",
      "source": [
        "plt.figure(figsize=(7,5))\n",
        "plt.plot(range(1,10),epoch_tr_acc , label='train accuracy')\n",
        "plt.scatter(range(1,10),epoch_tr_acc)\n",
        "plt.plot(range(1,10),epoch_vl_acc , label='val accuracy')\n",
        "plt.scatter(range(1,10),epoch_vl_acc)\n",
        "plt.title('Accuracy')\n",
        "plt.xlabel('Epochs')\n",
        "plt.ylabel('accuracy')\n",
        "plt.legend()\n",
        "plt.show()"
      ],
      "metadata": {
        "execution": {
          "iopub.status.busy": "2023-11-03T10:49:46.051349Z",
          "iopub.execute_input": "2023-11-03T10:49:46.05202Z",
          "iopub.status.idle": "2023-11-03T10:49:46.475309Z",
          "shell.execute_reply.started": "2023-11-03T10:49:46.051986Z",
          "shell.execute_reply": "2023-11-03T10:49:46.474378Z"
        },
        "trusted": true,
        "id": "mERa-7A8j4AN"
      },
      "execution_count": null,
      "outputs": []
    },
    {
      "cell_type": "code",
      "source": [
        "plt.figure(figsize=(7,5))\n",
        "plt.plot(range(1,10),epoch_tr_loss , label='train loss')\n",
        "plt.scatter(range(1,10),epoch_tr_loss )\n",
        "plt.plot(range(1,10),epoch_vl_loss , label='val loss')\n",
        "plt.scatter(range(1,10),epoch_vl_loss)\n",
        "plt.title('Loss')\n",
        "plt.xlabel('Epochs')\n",
        "plt.ylabel('Loss')\n",
        "plt.legend()\n",
        "plt.show()"
      ],
      "metadata": {
        "execution": {
          "iopub.status.busy": "2023-11-03T10:49:50.295814Z",
          "iopub.execute_input": "2023-11-03T10:49:50.296186Z",
          "iopub.status.idle": "2023-11-03T10:49:50.646944Z",
          "shell.execute_reply.started": "2023-11-03T10:49:50.296156Z",
          "shell.execute_reply": "2023-11-03T10:49:50.646032Z"
        },
        "trusted": true,
        "id": "iZkcr8wCj4AN"
      },
      "execution_count": null,
      "outputs": []
    },
    {
      "cell_type": "markdown",
      "source": [
        "<a id=\"1\"></a>\n",
        "# <div style=\"padding:20px;color:white;margin:0;font-size:30px;font-family:Georgia;text-align:center;display:fill;border-radius:5px;background-color:#254E58;overflow:hidden\"><b> End </b></div>"
      ],
      "metadata": {
        "id": "B1zEp2Ggj4AN"
      }
    }
  ]
}