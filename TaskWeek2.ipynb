{
  "cells": [
    {
      "cell_type": "markdown",
      "metadata": {
        "id": "view-in-github",
        "colab_type": "text"
      },
      "source": [
        "<a href=\"https://colab.research.google.com/github/mdaffaalghiffari23/KomputasiIntelegensia/blob/main/TaskWeek2.ipynb\" target=\"_parent\"><img src=\"https://colab.research.google.com/assets/colab-badge.svg\" alt=\"Open In Colab\"/></a>"
      ]
    },
    {
      "cell_type": "markdown",
      "source": [
        "Nama: Muhammad Daffa Alghiffari\n",
        "\n",
        "NPM: 2106726075"
      ],
      "metadata": {
        "id": "Qe2KzQklkXEF"
      },
      "id": "Qe2KzQklkXEF"
    },
    {
      "cell_type": "code",
      "execution_count": 1,
      "id": "dce62645",
      "metadata": {
        "id": "dce62645",
        "colab": {
          "base_uri": "https://localhost:8080/"
        },
        "outputId": "89a8a83a-5656-4175-c7e2-2382ce868141"
      },
      "outputs": [
        {
          "output_type": "stream",
          "name": "stdout",
          "text": [
            "Requirement already satisfied: d2l in /usr/local/lib/python3.10/dist-packages (1.0.3)\n",
            "Requirement already satisfied: jupyter==1.0.0 in /usr/local/lib/python3.10/dist-packages (from d2l) (1.0.0)\n",
            "Requirement already satisfied: numpy==1.23.5 in /usr/local/lib/python3.10/dist-packages (from d2l) (1.23.5)\n",
            "Requirement already satisfied: matplotlib==3.7.2 in /usr/local/lib/python3.10/dist-packages (from d2l) (3.7.2)\n",
            "Requirement already satisfied: matplotlib-inline==0.1.6 in /usr/local/lib/python3.10/dist-packages (from d2l) (0.1.6)\n",
            "Requirement already satisfied: requests==2.31.0 in /usr/local/lib/python3.10/dist-packages (from d2l) (2.31.0)\n",
            "Requirement already satisfied: pandas==2.0.3 in /usr/local/lib/python3.10/dist-packages (from d2l) (2.0.3)\n",
            "Requirement already satisfied: scipy==1.10.1 in /usr/local/lib/python3.10/dist-packages (from d2l) (1.10.1)\n",
            "Requirement already satisfied: notebook in /usr/local/lib/python3.10/dist-packages (from jupyter==1.0.0->d2l) (6.5.5)\n",
            "Requirement already satisfied: qtconsole in /usr/local/lib/python3.10/dist-packages (from jupyter==1.0.0->d2l) (5.6.0)\n",
            "Requirement already satisfied: jupyter-console in /usr/local/lib/python3.10/dist-packages (from jupyter==1.0.0->d2l) (6.1.0)\n",
            "Requirement already satisfied: nbconvert in /usr/local/lib/python3.10/dist-packages (from jupyter==1.0.0->d2l) (6.5.4)\n",
            "Requirement already satisfied: ipykernel in /usr/local/lib/python3.10/dist-packages (from jupyter==1.0.0->d2l) (5.5.6)\n",
            "Requirement already satisfied: ipywidgets in /usr/local/lib/python3.10/dist-packages (from jupyter==1.0.0->d2l) (7.7.1)\n",
            "Requirement already satisfied: contourpy>=1.0.1 in /usr/local/lib/python3.10/dist-packages (from matplotlib==3.7.2->d2l) (1.3.0)\n",
            "Requirement already satisfied: cycler>=0.10 in /usr/local/lib/python3.10/dist-packages (from matplotlib==3.7.2->d2l) (0.12.1)\n",
            "Requirement already satisfied: fonttools>=4.22.0 in /usr/local/lib/python3.10/dist-packages (from matplotlib==3.7.2->d2l) (4.53.1)\n",
            "Requirement already satisfied: kiwisolver>=1.0.1 in /usr/local/lib/python3.10/dist-packages (from matplotlib==3.7.2->d2l) (1.4.7)\n",
            "Requirement already satisfied: packaging>=20.0 in /usr/local/lib/python3.10/dist-packages (from matplotlib==3.7.2->d2l) (24.1)\n",
            "Requirement already satisfied: pillow>=6.2.0 in /usr/local/lib/python3.10/dist-packages (from matplotlib==3.7.2->d2l) (9.4.0)\n",
            "Requirement already satisfied: pyparsing<3.1,>=2.3.1 in /usr/local/lib/python3.10/dist-packages (from matplotlib==3.7.2->d2l) (3.0.9)\n",
            "Requirement already satisfied: python-dateutil>=2.7 in /usr/local/lib/python3.10/dist-packages (from matplotlib==3.7.2->d2l) (2.8.2)\n",
            "Requirement already satisfied: traitlets in /usr/local/lib/python3.10/dist-packages (from matplotlib-inline==0.1.6->d2l) (5.7.1)\n",
            "Requirement already satisfied: pytz>=2020.1 in /usr/local/lib/python3.10/dist-packages (from pandas==2.0.3->d2l) (2024.2)\n",
            "Requirement already satisfied: tzdata>=2022.1 in /usr/local/lib/python3.10/dist-packages (from pandas==2.0.3->d2l) (2024.1)\n",
            "Requirement already satisfied: charset-normalizer<4,>=2 in /usr/local/lib/python3.10/dist-packages (from requests==2.31.0->d2l) (3.3.2)\n",
            "Requirement already satisfied: idna<4,>=2.5 in /usr/local/lib/python3.10/dist-packages (from requests==2.31.0->d2l) (3.8)\n",
            "Requirement already satisfied: urllib3<3,>=1.21.1 in /usr/local/lib/python3.10/dist-packages (from requests==2.31.0->d2l) (2.0.7)\n",
            "Requirement already satisfied: certifi>=2017.4.17 in /usr/local/lib/python3.10/dist-packages (from requests==2.31.0->d2l) (2024.8.30)\n",
            "Requirement already satisfied: six>=1.5 in /usr/local/lib/python3.10/dist-packages (from python-dateutil>=2.7->matplotlib==3.7.2->d2l) (1.16.0)\n",
            "Requirement already satisfied: ipython-genutils in /usr/local/lib/python3.10/dist-packages (from ipykernel->jupyter==1.0.0->d2l) (0.2.0)\n",
            "Requirement already satisfied: ipython>=5.0.0 in /usr/local/lib/python3.10/dist-packages (from ipykernel->jupyter==1.0.0->d2l) (7.34.0)\n",
            "Requirement already satisfied: jupyter-client in /usr/local/lib/python3.10/dist-packages (from ipykernel->jupyter==1.0.0->d2l) (6.1.12)\n",
            "Requirement already satisfied: tornado>=4.2 in /usr/local/lib/python3.10/dist-packages (from ipykernel->jupyter==1.0.0->d2l) (6.3.3)\n",
            "Requirement already satisfied: widgetsnbextension~=3.6.0 in /usr/local/lib/python3.10/dist-packages (from ipywidgets->jupyter==1.0.0->d2l) (3.6.9)\n",
            "Requirement already satisfied: jupyterlab-widgets>=1.0.0 in /usr/local/lib/python3.10/dist-packages (from ipywidgets->jupyter==1.0.0->d2l) (3.0.13)\n",
            "Requirement already satisfied: prompt-toolkit!=3.0.0,!=3.0.1,<3.1.0,>=2.0.0 in /usr/local/lib/python3.10/dist-packages (from jupyter-console->jupyter==1.0.0->d2l) (3.0.47)\n",
            "Requirement already satisfied: pygments in /usr/local/lib/python3.10/dist-packages (from jupyter-console->jupyter==1.0.0->d2l) (2.16.1)\n",
            "Requirement already satisfied: lxml in /usr/local/lib/python3.10/dist-packages (from nbconvert->jupyter==1.0.0->d2l) (4.9.4)\n",
            "Requirement already satisfied: beautifulsoup4 in /usr/local/lib/python3.10/dist-packages (from nbconvert->jupyter==1.0.0->d2l) (4.12.3)\n",
            "Requirement already satisfied: bleach in /usr/local/lib/python3.10/dist-packages (from nbconvert->jupyter==1.0.0->d2l) (6.1.0)\n",
            "Requirement already satisfied: defusedxml in /usr/local/lib/python3.10/dist-packages (from nbconvert->jupyter==1.0.0->d2l) (0.7.1)\n",
            "Requirement already satisfied: entrypoints>=0.2.2 in /usr/local/lib/python3.10/dist-packages (from nbconvert->jupyter==1.0.0->d2l) (0.4)\n",
            "Requirement already satisfied: jinja2>=3.0 in /usr/local/lib/python3.10/dist-packages (from nbconvert->jupyter==1.0.0->d2l) (3.1.4)\n",
            "Requirement already satisfied: jupyter-core>=4.7 in /usr/local/lib/python3.10/dist-packages (from nbconvert->jupyter==1.0.0->d2l) (5.7.2)\n",
            "Requirement already satisfied: jupyterlab-pygments in /usr/local/lib/python3.10/dist-packages (from nbconvert->jupyter==1.0.0->d2l) (0.3.0)\n",
            "Requirement already satisfied: MarkupSafe>=2.0 in /usr/local/lib/python3.10/dist-packages (from nbconvert->jupyter==1.0.0->d2l) (2.1.5)\n",
            "Requirement already satisfied: mistune<2,>=0.8.1 in /usr/local/lib/python3.10/dist-packages (from nbconvert->jupyter==1.0.0->d2l) (0.8.4)\n",
            "Requirement already satisfied: nbclient>=0.5.0 in /usr/local/lib/python3.10/dist-packages (from nbconvert->jupyter==1.0.0->d2l) (0.10.0)\n",
            "Requirement already satisfied: nbformat>=5.1 in /usr/local/lib/python3.10/dist-packages (from nbconvert->jupyter==1.0.0->d2l) (5.10.4)\n",
            "Requirement already satisfied: pandocfilters>=1.4.1 in /usr/local/lib/python3.10/dist-packages (from nbconvert->jupyter==1.0.0->d2l) (1.5.1)\n",
            "Requirement already satisfied: tinycss2 in /usr/local/lib/python3.10/dist-packages (from nbconvert->jupyter==1.0.0->d2l) (1.3.0)\n",
            "Requirement already satisfied: pyzmq<25,>=17 in /usr/local/lib/python3.10/dist-packages (from notebook->jupyter==1.0.0->d2l) (24.0.1)\n",
            "Requirement already satisfied: argon2-cffi in /usr/local/lib/python3.10/dist-packages (from notebook->jupyter==1.0.0->d2l) (23.1.0)\n",
            "Requirement already satisfied: nest-asyncio>=1.5 in /usr/local/lib/python3.10/dist-packages (from notebook->jupyter==1.0.0->d2l) (1.6.0)\n",
            "Requirement already satisfied: Send2Trash>=1.8.0 in /usr/local/lib/python3.10/dist-packages (from notebook->jupyter==1.0.0->d2l) (1.8.3)\n",
            "Requirement already satisfied: terminado>=0.8.3 in /usr/local/lib/python3.10/dist-packages (from notebook->jupyter==1.0.0->d2l) (0.18.1)\n",
            "Requirement already satisfied: prometheus-client in /usr/local/lib/python3.10/dist-packages (from notebook->jupyter==1.0.0->d2l) (0.20.0)\n",
            "Requirement already satisfied: nbclassic>=0.4.7 in /usr/local/lib/python3.10/dist-packages (from notebook->jupyter==1.0.0->d2l) (1.1.0)\n",
            "Requirement already satisfied: qtpy>=2.4.0 in /usr/local/lib/python3.10/dist-packages (from qtconsole->jupyter==1.0.0->d2l) (2.4.1)\n",
            "Requirement already satisfied: setuptools>=18.5 in /usr/local/lib/python3.10/dist-packages (from ipython>=5.0.0->ipykernel->jupyter==1.0.0->d2l) (71.0.4)\n",
            "Requirement already satisfied: jedi>=0.16 in /usr/local/lib/python3.10/dist-packages (from ipython>=5.0.0->ipykernel->jupyter==1.0.0->d2l) (0.19.1)\n",
            "Requirement already satisfied: decorator in /usr/local/lib/python3.10/dist-packages (from ipython>=5.0.0->ipykernel->jupyter==1.0.0->d2l) (4.4.2)\n",
            "Requirement already satisfied: pickleshare in /usr/local/lib/python3.10/dist-packages (from ipython>=5.0.0->ipykernel->jupyter==1.0.0->d2l) (0.7.5)\n",
            "Requirement already satisfied: backcall in /usr/local/lib/python3.10/dist-packages (from ipython>=5.0.0->ipykernel->jupyter==1.0.0->d2l) (0.2.0)\n",
            "Requirement already satisfied: pexpect>4.3 in /usr/local/lib/python3.10/dist-packages (from ipython>=5.0.0->ipykernel->jupyter==1.0.0->d2l) (4.9.0)\n",
            "Requirement already satisfied: platformdirs>=2.5 in /usr/local/lib/python3.10/dist-packages (from jupyter-core>=4.7->nbconvert->jupyter==1.0.0->d2l) (4.3.2)\n",
            "Requirement already satisfied: notebook-shim>=0.2.3 in /usr/local/lib/python3.10/dist-packages (from nbclassic>=0.4.7->notebook->jupyter==1.0.0->d2l) (0.2.4)\n",
            "Requirement already satisfied: fastjsonschema>=2.15 in /usr/local/lib/python3.10/dist-packages (from nbformat>=5.1->nbconvert->jupyter==1.0.0->d2l) (2.20.0)\n",
            "Requirement already satisfied: jsonschema>=2.6 in /usr/local/lib/python3.10/dist-packages (from nbformat>=5.1->nbconvert->jupyter==1.0.0->d2l) (4.23.0)\n",
            "Requirement already satisfied: wcwidth in /usr/local/lib/python3.10/dist-packages (from prompt-toolkit!=3.0.0,!=3.0.1,<3.1.0,>=2.0.0->jupyter-console->jupyter==1.0.0->d2l) (0.2.13)\n",
            "Requirement already satisfied: ptyprocess in /usr/local/lib/python3.10/dist-packages (from terminado>=0.8.3->notebook->jupyter==1.0.0->d2l) (0.7.0)\n",
            "Requirement already satisfied: argon2-cffi-bindings in /usr/local/lib/python3.10/dist-packages (from argon2-cffi->notebook->jupyter==1.0.0->d2l) (21.2.0)\n",
            "Requirement already satisfied: soupsieve>1.2 in /usr/local/lib/python3.10/dist-packages (from beautifulsoup4->nbconvert->jupyter==1.0.0->d2l) (2.6)\n",
            "Requirement already satisfied: webencodings in /usr/local/lib/python3.10/dist-packages (from bleach->nbconvert->jupyter==1.0.0->d2l) (0.5.1)\n",
            "Requirement already satisfied: parso<0.9.0,>=0.8.3 in /usr/local/lib/python3.10/dist-packages (from jedi>=0.16->ipython>=5.0.0->ipykernel->jupyter==1.0.0->d2l) (0.8.4)\n",
            "Requirement already satisfied: attrs>=22.2.0 in /usr/local/lib/python3.10/dist-packages (from jsonschema>=2.6->nbformat>=5.1->nbconvert->jupyter==1.0.0->d2l) (24.2.0)\n",
            "Requirement already satisfied: jsonschema-specifications>=2023.03.6 in /usr/local/lib/python3.10/dist-packages (from jsonschema>=2.6->nbformat>=5.1->nbconvert->jupyter==1.0.0->d2l) (2023.12.1)\n",
            "Requirement already satisfied: referencing>=0.28.4 in /usr/local/lib/python3.10/dist-packages (from jsonschema>=2.6->nbformat>=5.1->nbconvert->jupyter==1.0.0->d2l) (0.35.1)\n",
            "Requirement already satisfied: rpds-py>=0.7.1 in /usr/local/lib/python3.10/dist-packages (from jsonschema>=2.6->nbformat>=5.1->nbconvert->jupyter==1.0.0->d2l) (0.20.0)\n",
            "Requirement already satisfied: jupyter-server<3,>=1.8 in /usr/local/lib/python3.10/dist-packages (from notebook-shim>=0.2.3->nbclassic>=0.4.7->notebook->jupyter==1.0.0->d2l) (1.24.0)\n",
            "Requirement already satisfied: cffi>=1.0.1 in /usr/local/lib/python3.10/dist-packages (from argon2-cffi-bindings->argon2-cffi->notebook->jupyter==1.0.0->d2l) (1.17.1)\n",
            "Requirement already satisfied: pycparser in /usr/local/lib/python3.10/dist-packages (from cffi>=1.0.1->argon2-cffi-bindings->argon2-cffi->notebook->jupyter==1.0.0->d2l) (2.22)\n",
            "Requirement already satisfied: anyio<4,>=3.1.0 in /usr/local/lib/python3.10/dist-packages (from jupyter-server<3,>=1.8->notebook-shim>=0.2.3->nbclassic>=0.4.7->notebook->jupyter==1.0.0->d2l) (3.7.1)\n",
            "Requirement already satisfied: websocket-client in /usr/local/lib/python3.10/dist-packages (from jupyter-server<3,>=1.8->notebook-shim>=0.2.3->nbclassic>=0.4.7->notebook->jupyter==1.0.0->d2l) (1.8.0)\n",
            "Requirement already satisfied: sniffio>=1.1 in /usr/local/lib/python3.10/dist-packages (from anyio<4,>=3.1.0->jupyter-server<3,>=1.8->notebook-shim>=0.2.3->nbclassic>=0.4.7->notebook->jupyter==1.0.0->d2l) (1.3.1)\n",
            "Requirement already satisfied: exceptiongroup in /usr/local/lib/python3.10/dist-packages (from anyio<4,>=3.1.0->jupyter-server<3,>=1.8->notebook-shim>=0.2.3->nbclassic>=0.4.7->notebook->jupyter==1.0.0->d2l) (1.2.2)\n"
          ]
        }
      ],
      "source": [
        "!pip install d2l\n"
      ]
    },
    {
      "cell_type": "markdown",
      "id": "cad96bd9",
      "metadata": {
        "id": "cad96bd9",
        "origin_pos": 1
      },
      "source": [
        "# Multilayer Perceptrons\n",
        ":label:`sec_mlp`\n",
        "\n",
        "In :numref:`sec_softmax`, we introduced\n",
        "softmax regression,\n",
        "implementing the algorithm from scratch\n",
        "(:numref:`sec_softmax_scratch`) and using high-level APIs\n",
        "(:numref:`sec_softmax_concise`). This allowed us to\n",
        "train classifiers capable of recognizing\n",
        "10 categories of clothing from low-resolution images.\n",
        "Along the way, we learned how to wrangle data,\n",
        "coerce our outputs into a valid probability distribution,\n",
        "apply an appropriate loss function,\n",
        "and minimize it with respect to our model's parameters.\n",
        "Now that we have mastered these mechanics\n",
        "in the context of simple linear models,\n",
        "we can launch our exploration of deep neural networks,\n",
        "the comparatively rich class of models\n",
        "with which this book is primarily concerned.\n"
      ]
    },
    {
      "cell_type": "code",
      "execution_count": 2,
      "id": "cec00ab5",
      "metadata": {
        "execution": {
          "iopub.execute_input": "2023-08-18T19:38:40.016291Z",
          "iopub.status.busy": "2023-08-18T19:38:40.015244Z",
          "iopub.status.idle": "2023-08-18T19:38:43.744461Z",
          "shell.execute_reply": "2023-08-18T19:38:43.741144Z"
        },
        "id": "cec00ab5",
        "origin_pos": 3,
        "tab": [
          "pytorch"
        ]
      },
      "outputs": [],
      "source": [
        "%matplotlib inline\n",
        "import torch\n",
        "from d2l import torch as d2l"
      ]
    },
    {
      "cell_type": "markdown",
      "id": "77e62e41",
      "metadata": {
        "id": "77e62e41",
        "origin_pos": 6
      },
      "source": [
        "## Hidden Layers\n",
        "\n",
        "We described affine transformations in\n",
        ":numref:`subsec_linear_model` as\n",
        "linear transformations with added bias.\n",
        "To begin, recall the model architecture\n",
        "corresponding to our softmax regression example,\n",
        "illustrated in  :numref:`fig_softmaxreg`.\n",
        "This model maps inputs directly to outputs\n",
        "via a single affine transformation,\n",
        "followed by a softmax operation.\n",
        "If our labels truly were related\n",
        "to the input data by a simple affine transformation,\n",
        "then this approach would be sufficient.\n",
        "However, linearity (in affine transformations) is a *strong* assumption.\n",
        "\n",
        "### Limitations of Linear Models\n",
        "\n",
        "For example, linearity implies the *weaker*\n",
        "assumption of *monotonicity*, i.e.,\n",
        "that any increase in our feature must\n",
        "either always cause an increase in our model's output\n",
        "(if the corresponding weight is positive),\n",
        "or always cause a decrease in our model's output\n",
        "(if the corresponding weight is negative).\n",
        "Sometimes that makes sense.\n",
        "For example, if we were trying to predict\n",
        "whether an individual will repay a loan,\n",
        "we might reasonably assume that all other things being equal,\n",
        "an applicant with a higher income\n",
        "would always be more likely to repay\n",
        "than one with a lower income.\n",
        "While monotonic, this relationship likely\n",
        "is not linearly associated with the probability of\n",
        "repayment. An increase in income from \\$0 to \\$50,000\n",
        "likely corresponds to a bigger increase\n",
        "in likelihood of repayment\n",
        "than an increase from \\$1 million to \\$1.05 million.\n",
        "One way to handle this might be to postprocess our outcome\n",
        "such that linearity becomes more plausible,\n",
        "by using the logistic map (and thus the logarithm of the probability of outcome).\n",
        "\n",
        "Note that we can easily come up with examples\n",
        "that violate monotonicity.\n",
        "Say for example that we want to predict health as a function\n",
        "of body temperature.\n",
        "For individuals with a normal body temperature\n",
        "above 37°C (98.6°F),\n",
        "higher temperatures indicate greater risk.\n",
        "However, if the body temperatures drops\n",
        "below 37°C, lower temperatures indicate greater risk!\n",
        "Again, we might resolve the problem\n",
        "with some clever preprocessing, such as using the distance from 37°C\n",
        "as a feature.\n",
        "\n",
        "\n",
        "But what about classifying images of cats and dogs?\n",
        "Should increasing the intensity\n",
        "of the pixel at location (13, 17)\n",
        "always increase (or always decrease)\n",
        "the likelihood that the image depicts a dog?\n",
        "Reliance on a linear model corresponds to the implicit\n",
        "assumption that the only requirement\n",
        "for differentiating cats and dogs is to assess\n",
        "the brightness of individual pixels.\n",
        "This approach is doomed to fail in a world\n",
        "where inverting an image preserves the category.\n",
        "\n",
        "And yet despite the apparent absurdity of linearity here,\n",
        "as compared with our previous examples,\n",
        "it is less obvious that we could address the problem\n",
        "with a simple preprocessing fix.\n",
        "That is, because the significance of any pixel\n",
        "depends in complex ways on its context\n",
        "(the values of the surrounding pixels).\n",
        "While there might exist a representation of our data\n",
        "that would take into account\n",
        "the relevant interactions among our features,\n",
        "on top of which a linear model would be suitable,\n",
        "we simply do not know how to calculate it by hand.\n",
        "With deep neural networks, we used observational data\n",
        "to jointly learn both a representation via hidden layers\n",
        "and a linear predictor that acts upon that representation.\n",
        "\n",
        "This problem of nonlinearity has been studied for at least a\n",
        "century :cite:`Fisher.1928`. For instance, decision trees\n",
        "in their most basic form use a sequence of binary decisions to\n",
        "decide upon class membership :cite:`quinlan2014c4`. Likewise, kernel\n",
        "methods have been used for many decades to model nonlinear dependencies\n",
        ":cite:`Aronszajn.1950`. This has found its way into\n",
        "nonparametric spline models :cite:`Wahba.1990` and kernel methods\n",
        ":cite:`Scholkopf.Smola.2002`. It is also something that the brain solves\n",
        "quite naturally. After all, neurons feed into other neurons which,\n",
        "in turn, feed into other neurons again :cite:`Cajal.Azoulay.1894`.\n",
        "Consequently we have a sequence of relatively simple transformations.\n",
        "\n",
        "### Incorporating Hidden Layers\n",
        "\n",
        "We can overcome the limitations of linear models\n",
        "by incorporating one or more hidden layers.\n",
        "The easiest way to do this is to stack\n",
        "many fully connected layers on top of one another.\n",
        "Each layer feeds into the layer above it,\n",
        "until we generate outputs.\n",
        "We can think of the first $L-1$ layers\n",
        "as our representation and the final layer\n",
        "as our linear predictor.\n",
        "This architecture is commonly called\n",
        "a *multilayer perceptron*,\n",
        "often abbreviated as *MLP* (:numref:`fig_mlp`).\n",
        "\n",
        "![An MLP with a hidden layer of five hidden units.](http://d2l.ai/_images/mlp.svg)\n",
        ":label:`fig_mlp`\n",
        "\n",
        "This MLP has four inputs, three outputs,\n",
        "and its hidden layer contains five hidden units.\n",
        "Since the input layer does not involve any calculations,\n",
        "producing outputs with this network\n",
        "requires implementing the computations\n",
        "for both the hidden and output layers;\n",
        "thus, the number of layers in this MLP is two.\n",
        "Note that both layers are fully connected.\n",
        "Every input influences every neuron in the hidden layer,\n",
        "and each of these in turn influences\n",
        "every neuron in the output layer. Alas, we are not quite\n",
        "done yet.\n",
        "\n",
        "### From Linear to Nonlinear\n",
        "\n",
        "As before, we denote by the matrix $\\mathbf{X} \\in \\mathbb{R}^{n \\times d}$\n",
        "a minibatch of $n$ examples where each example has $d$ inputs (features).\n",
        "For a one-hidden-layer MLP whose hidden layer has $h$ hidden units,\n",
        "we denote by $\\mathbf{H} \\in \\mathbb{R}^{n \\times h}$\n",
        "the outputs of the hidden layer, which are\n",
        "*hidden representations*.\n",
        "Since the hidden and output layers are both fully connected,\n",
        "we have hidden-layer weights $\\mathbf{W}^{(1)} \\in \\mathbb{R}^{d \\times h}$ and biases $\\mathbf{b}^{(1)} \\in \\mathbb{R}^{1 \\times h}$\n",
        "and output-layer weights $\\mathbf{W}^{(2)} \\in \\mathbb{R}^{h \\times q}$ and biases $\\mathbf{b}^{(2)} \\in \\mathbb{R}^{1 \\times q}$.\n",
        "This allows us to calculate the outputs $\\mathbf{O} \\in \\mathbb{R}^{n \\times q}$\n",
        "of the one-hidden-layer MLP as follows:\n",
        "\n",
        "$$\n",
        "\\begin{aligned}\n",
        "    \\mathbf{H} & = \\mathbf{X} \\mathbf{W}^{(1)} + \\mathbf{b}^{(1)}, \\\\\n",
        "    \\mathbf{O} & = \\mathbf{H}\\mathbf{W}^{(2)} + \\mathbf{b}^{(2)}.\n",
        "\\end{aligned}\n",
        "$$\n",
        "\n",
        "Note that after adding the hidden layer,\n",
        "our model now requires us to track and update\n",
        "additional sets of parameters.\n",
        "So what have we gained in exchange?\n",
        "You might be surprised to find out\n",
        "that---in the model defined above---*we\n",
        "gain nothing for our troubles*!\n",
        "The reason is plain.\n",
        "The hidden units above are given by\n",
        "an affine function of the inputs,\n",
        "and the outputs (pre-softmax) are just\n",
        "an affine function of the hidden units.\n",
        "An affine function of an affine function\n",
        "is itself an affine function.\n",
        "Moreover, our linear model was already\n",
        "capable of representing any affine function.\n",
        "\n",
        "To see this formally we can just collapse out the hidden layer in the above definition,\n",
        "yielding an equivalent single-layer model with parameters\n",
        "$\\mathbf{W} = \\mathbf{W}^{(1)}\\mathbf{W}^{(2)}$ and $\\mathbf{b} = \\mathbf{b}^{(1)} \\mathbf{W}^{(2)} + \\mathbf{b}^{(2)}$:\n",
        "\n",
        "$$\n",
        "\\mathbf{O} = (\\mathbf{X} \\mathbf{W}^{(1)} + \\mathbf{b}^{(1)})\\mathbf{W}^{(2)} + \\mathbf{b}^{(2)} = \\mathbf{X} \\mathbf{W}^{(1)}\\mathbf{W}^{(2)} + \\mathbf{b}^{(1)} \\mathbf{W}^{(2)} + \\mathbf{b}^{(2)} = \\mathbf{X} \\mathbf{W} + \\mathbf{b}.\n",
        "$$\n",
        "\n",
        "In order to realize the potential of multilayer architectures,\n",
        "we need one more key ingredient: a\n",
        "nonlinear *activation function* $\\sigma$\n",
        "to be applied to each hidden unit\n",
        "following the affine transformation. For instance, a popular\n",
        "choice is the ReLU (rectified linear unit) activation function :cite:`Nair.Hinton.2010`\n",
        "$\\sigma(x) = \\mathrm{max}(0, x)$ operating on its arguments elementwise.\n",
        "The outputs of activation functions $\\sigma(\\cdot)$\n",
        "are called *activations*.\n",
        "In general, with activation functions in place,\n",
        "it is no longer possible to collapse our MLP into a linear model:\n",
        "\n",
        "$$\n",
        "\\begin{aligned}\n",
        "    \\mathbf{H} & = \\sigma(\\mathbf{X} \\mathbf{W}^{(1)} + \\mathbf{b}^{(1)}), \\\\\n",
        "    \\mathbf{O} & = \\mathbf{H}\\mathbf{W}^{(2)} + \\mathbf{b}^{(2)}.\\\\\n",
        "\\end{aligned}\n",
        "$$\n",
        "\n",
        "Since each row in $\\mathbf{X}$ corresponds to an example in the minibatch,\n",
        "with some abuse of notation, we define the nonlinearity\n",
        "$\\sigma$ to apply to its inputs in a rowwise fashion,\n",
        "i.e., one example at a time.\n",
        "Note that we used the same notation for softmax\n",
        "when we denoted a rowwise operation in :numref:`subsec_softmax_vectorization`.\n",
        "Quite frequently the activation functions we use apply not merely rowwise but\n",
        "elementwise. That means that after computing the linear portion of the layer,\n",
        "we can calculate each activation\n",
        "without looking at the values taken by the other hidden units.\n",
        "\n",
        "To build more general MLPs, we can continue stacking\n",
        "such hidden layers,\n",
        "e.g., $\\mathbf{H}^{(1)} = \\sigma_1(\\mathbf{X} \\mathbf{W}^{(1)} + \\mathbf{b}^{(1)})$\n",
        "and $\\mathbf{H}^{(2)} = \\sigma_2(\\mathbf{H}^{(1)} \\mathbf{W}^{(2)} + \\mathbf{b}^{(2)})$,\n",
        "one atop another, yielding ever more expressive models.\n",
        "\n",
        "### Universal Approximators\n",
        "\n",
        "We know that the brain is capable of very sophisticated statistical analysis. As such,\n",
        "it is worth asking, just *how powerful* a deep network could be. This question\n",
        "has been answered multiple times, e.g., in :citet:`Cybenko.1989` in the context\n",
        "of MLPs, and in :citet:`micchelli1984interpolation` in the context of reproducing kernel\n",
        "Hilbert spaces in a way that could be seen as radial basis function (RBF) networks with a single hidden layer.\n",
        "These (and related results) suggest that even with a single-hidden-layer network,\n",
        "given enough nodes (possibly absurdly many),\n",
        "and the right set of weights,\n",
        "we can model any function.\n",
        "Actually learning that function is the hard part, though.\n",
        "You might think of your neural network\n",
        "as being a bit like the C programming language.\n",
        "The language, like any other modern language,\n",
        "is capable of expressing any computable program.\n",
        "But actually coming up with a program\n",
        "that meets your specifications is the hard part.\n",
        "\n",
        "Moreover, just because a single-hidden-layer network\n",
        "*can* learn any function\n",
        "does not mean that you should try\n",
        "to solve all of your problems\n",
        "with one. In fact, in this case kernel methods\n",
        "are way more effective, since they are capable of solving the problem\n",
        "*exactly* even in infinite dimensional spaces :cite:`Kimeldorf.Wahba.1971,Scholkopf.Herbrich.Smola.2001`.\n",
        "In fact, we can approximate many functions\n",
        "much more compactly by using deeper (rather than wider) networks :cite:`Simonyan.Zisserman.2014`.\n",
        "We will touch upon more rigorous arguments in subsequent chapters.\n",
        "\n",
        "\n",
        "## Activation Functions\n",
        ":label:`subsec_activation-functions`\n",
        "\n",
        "Activation functions decide whether a neuron should be activated or not by\n",
        "calculating the weighted sum and further adding bias to it.\n",
        "They are differentiable operators for transforming input signals to outputs,\n",
        "while most of them add nonlinearity.\n",
        "Because activation functions are fundamental to deep learning,\n",
        "(**let's briefly survey some common ones**).\n",
        "\n",
        "### ReLU Function\n",
        "\n",
        "The most popular choice,\n",
        "due to both simplicity of implementation and\n",
        "its good performance on a variety of predictive tasks,\n",
        "is the *rectified linear unit* (*ReLU*) :cite:`Nair.Hinton.2010`.\n",
        "[**ReLU provides a very simple nonlinear transformation**].\n",
        "Given an element $x$, the function is defined\n",
        "as the maximum of that element and $0$:\n",
        "\n",
        "$$\\operatorname{ReLU}(x) = \\max(x, 0).$$\n",
        "\n",
        "Informally, the ReLU function retains only positive\n",
        "elements and discards all negative elements\n",
        "by setting the corresponding activations to 0.\n",
        "To gain some intuition, we can plot the function.\n",
        "As you can see, the activation function is piecewise linear.\n"
      ]
    },
    {
      "cell_type": "code",
      "execution_count": null,
      "id": "5881b40d",
      "metadata": {
        "execution": {
          "iopub.execute_input": "2023-08-18T19:38:43.749925Z",
          "iopub.status.busy": "2023-08-18T19:38:43.748740Z",
          "iopub.status.idle": "2023-08-18T19:38:44.145067Z",
          "shell.execute_reply": "2023-08-18T19:38:44.143027Z"
        },
        "id": "5881b40d",
        "origin_pos": 8,
        "outputId": "10f22c36-1f78-4d76-aa14-98d5fa90bed0",
        "tab": [
          "pytorch"
        ],
        "colab": {
          "base_uri": "https://localhost:8080/",
          "height": 266
        }
      },
      "outputs": [
        {
          "output_type": "display_data",
          "data": {
            "text/plain": [
              "<Figure size 500x250 with 1 Axes>"
            ],
            "image/svg+xml": "<?xml version=\"1.0\" encoding=\"utf-8\" standalone=\"no\"?>\n<!DOCTYPE svg PUBLIC \"-//W3C//DTD SVG 1.1//EN\"\n  \"http://www.w3.org/Graphics/SVG/1.1/DTD/svg11.dtd\">\n<svg xmlns:xlink=\"http://www.w3.org/1999/xlink\" width=\"320.440625pt\" height=\"183.35625pt\" viewBox=\"0 0 320.440625 183.35625\" xmlns=\"http://www.w3.org/2000/svg\" version=\"1.1\">\n <metadata>\n  <rdf:RDF xmlns:dc=\"http://purl.org/dc/elements/1.1/\" xmlns:cc=\"http://creativecommons.org/ns#\" xmlns:rdf=\"http://www.w3.org/1999/02/22-rdf-syntax-ns#\">\n   <cc:Work>\n    <dc:type rdf:resource=\"http://purl.org/dc/dcmitype/StillImage\"/>\n    <dc:date>2024-09-13T08:32:23.450253</dc:date>\n    <dc:format>image/svg+xml</dc:format>\n    <dc:creator>\n     <cc:Agent>\n      <dc:title>Matplotlib v3.7.2, https://matplotlib.org/</dc:title>\n     </cc:Agent>\n    </dc:creator>\n   </cc:Work>\n  </rdf:RDF>\n </metadata>\n <defs>\n  <style type=\"text/css\">*{stroke-linejoin: round; stroke-linecap: butt}</style>\n </defs>\n <g id=\"figure_1\">\n  <g id=\"patch_1\">\n   <path d=\"M 0 183.35625 \nL 320.440625 183.35625 \nL 320.440625 0 \nL 0 0 \nz\n\" style=\"fill: #ffffff\"/>\n  </g>\n  <g id=\"axes_1\">\n   <g id=\"patch_2\">\n    <path d=\"M 34.240625 145.8 \nL 313.240625 145.8 \nL 313.240625 7.2 \nL 34.240625 7.2 \nz\n\" style=\"fill: #ffffff\"/>\n   </g>\n   <g id=\"matplotlib.axis_1\">\n    <g id=\"xtick_1\">\n     <g id=\"line2d_1\">\n      <path d=\"M 46.922443 145.8 \nL 46.922443 7.2 \n\" clip-path=\"url(#p163bcf9e67)\" style=\"fill: none; stroke: #b0b0b0; stroke-width: 0.8; stroke-linecap: square\"/>\n     </g>\n     <g id=\"line2d_2\">\n      <defs>\n       <path id=\"mde91363b8a\" d=\"M 0 0 \nL 0 3.5 \n\" style=\"stroke: #000000; stroke-width: 0.8\"/>\n      </defs>\n      <g>\n       <use xlink:href=\"#mde91363b8a\" x=\"46.922443\" y=\"145.8\" style=\"stroke: #000000; stroke-width: 0.8\"/>\n      </g>\n     </g>\n     <g id=\"text_1\">\n      <!-- −8 -->\n      <g transform=\"translate(39.551349 160.398438) scale(0.1 -0.1)\">\n       <defs>\n        <path id=\"DejaVuSans-2212\" d=\"M 678 2272 \nL 4684 2272 \nL 4684 1741 \nL 678 1741 \nL 678 2272 \nz\n\" transform=\"scale(0.015625)\"/>\n        <path id=\"DejaVuSans-38\" d=\"M 2034 2216 \nQ 1584 2216 1326 1975 \nQ 1069 1734 1069 1313 \nQ 1069 891 1326 650 \nQ 1584 409 2034 409 \nQ 2484 409 2743 651 \nQ 3003 894 3003 1313 \nQ 3003 1734 2745 1975 \nQ 2488 2216 2034 2216 \nz\nM 1403 2484 \nQ 997 2584 770 2862 \nQ 544 3141 544 3541 \nQ 544 4100 942 4425 \nQ 1341 4750 2034 4750 \nQ 2731 4750 3128 4425 \nQ 3525 4100 3525 3541 \nQ 3525 3141 3298 2862 \nQ 3072 2584 2669 2484 \nQ 3125 2378 3379 2068 \nQ 3634 1759 3634 1313 \nQ 3634 634 3220 271 \nQ 2806 -91 2034 -91 \nQ 1263 -91 848 271 \nQ 434 634 434 1313 \nQ 434 1759 690 2068 \nQ 947 2378 1403 2484 \nz\nM 1172 3481 \nQ 1172 3119 1398 2916 \nQ 1625 2713 2034 2713 \nQ 2441 2713 2670 2916 \nQ 2900 3119 2900 3481 \nQ 2900 3844 2670 4047 \nQ 2441 4250 2034 4250 \nQ 1625 4250 1398 4047 \nQ 1172 3844 1172 3481 \nz\n\" transform=\"scale(0.015625)\"/>\n       </defs>\n       <use xlink:href=\"#DejaVuSans-2212\"/>\n       <use xlink:href=\"#DejaVuSans-38\" x=\"83.789062\"/>\n      </g>\n     </g>\n    </g>\n    <g id=\"xtick_2\">\n     <g id=\"line2d_3\">\n      <path d=\"M 78.826389 145.8 \nL 78.826389 7.2 \n\" clip-path=\"url(#p163bcf9e67)\" style=\"fill: none; stroke: #b0b0b0; stroke-width: 0.8; stroke-linecap: square\"/>\n     </g>\n     <g id=\"line2d_4\">\n      <g>\n       <use xlink:href=\"#mde91363b8a\" x=\"78.826389\" y=\"145.8\" style=\"stroke: #000000; stroke-width: 0.8\"/>\n      </g>\n     </g>\n     <g id=\"text_2\">\n      <!-- −6 -->\n      <g transform=\"translate(71.455295 160.398438) scale(0.1 -0.1)\">\n       <defs>\n        <path id=\"DejaVuSans-36\" d=\"M 2113 2584 \nQ 1688 2584 1439 2293 \nQ 1191 2003 1191 1497 \nQ 1191 994 1439 701 \nQ 1688 409 2113 409 \nQ 2538 409 2786 701 \nQ 3034 994 3034 1497 \nQ 3034 2003 2786 2293 \nQ 2538 2584 2113 2584 \nz\nM 3366 4563 \nL 3366 3988 \nQ 3128 4100 2886 4159 \nQ 2644 4219 2406 4219 \nQ 1781 4219 1451 3797 \nQ 1122 3375 1075 2522 \nQ 1259 2794 1537 2939 \nQ 1816 3084 2150 3084 \nQ 2853 3084 3261 2657 \nQ 3669 2231 3669 1497 \nQ 3669 778 3244 343 \nQ 2819 -91 2113 -91 \nQ 1303 -91 875 529 \nQ 447 1150 447 2328 \nQ 447 3434 972 4092 \nQ 1497 4750 2381 4750 \nQ 2619 4750 2861 4703 \nQ 3103 4656 3366 4563 \nz\n\" transform=\"scale(0.015625)\"/>\n       </defs>\n       <use xlink:href=\"#DejaVuSans-2212\"/>\n       <use xlink:href=\"#DejaVuSans-36\" x=\"83.789062\"/>\n      </g>\n     </g>\n    </g>\n    <g id=\"xtick_3\">\n     <g id=\"line2d_5\">\n      <path d=\"M 110.730335 145.8 \nL 110.730335 7.2 \n\" clip-path=\"url(#p163bcf9e67)\" style=\"fill: none; stroke: #b0b0b0; stroke-width: 0.8; stroke-linecap: square\"/>\n     </g>\n     <g id=\"line2d_6\">\n      <g>\n       <use xlink:href=\"#mde91363b8a\" x=\"110.730335\" y=\"145.8\" style=\"stroke: #000000; stroke-width: 0.8\"/>\n      </g>\n     </g>\n     <g id=\"text_3\">\n      <!-- −4 -->\n      <g transform=\"translate(103.359241 160.398438) scale(0.1 -0.1)\">\n       <defs>\n        <path id=\"DejaVuSans-34\" d=\"M 2419 4116 \nL 825 1625 \nL 2419 1625 \nL 2419 4116 \nz\nM 2253 4666 \nL 3047 4666 \nL 3047 1625 \nL 3713 1625 \nL 3713 1100 \nL 3047 1100 \nL 3047 0 \nL 2419 0 \nL 2419 1100 \nL 313 1100 \nL 313 1709 \nL 2253 4666 \nz\n\" transform=\"scale(0.015625)\"/>\n       </defs>\n       <use xlink:href=\"#DejaVuSans-2212\"/>\n       <use xlink:href=\"#DejaVuSans-34\" x=\"83.789062\"/>\n      </g>\n     </g>\n    </g>\n    <g id=\"xtick_4\">\n     <g id=\"line2d_7\">\n      <path d=\"M 142.634281 145.8 \nL 142.634281 7.2 \n\" clip-path=\"url(#p163bcf9e67)\" style=\"fill: none; stroke: #b0b0b0; stroke-width: 0.8; stroke-linecap: square\"/>\n     </g>\n     <g id=\"line2d_8\">\n      <g>\n       <use xlink:href=\"#mde91363b8a\" x=\"142.634281\" y=\"145.8\" style=\"stroke: #000000; stroke-width: 0.8\"/>\n      </g>\n     </g>\n     <g id=\"text_4\">\n      <!-- −2 -->\n      <g transform=\"translate(135.263187 160.398438) scale(0.1 -0.1)\">\n       <defs>\n        <path id=\"DejaVuSans-32\" d=\"M 1228 531 \nL 3431 531 \nL 3431 0 \nL 469 0 \nL 469 531 \nQ 828 903 1448 1529 \nQ 2069 2156 2228 2338 \nQ 2531 2678 2651 2914 \nQ 2772 3150 2772 3378 \nQ 2772 3750 2511 3984 \nQ 2250 4219 1831 4219 \nQ 1534 4219 1204 4116 \nQ 875 4013 500 3803 \nL 500 4441 \nQ 881 4594 1212 4672 \nQ 1544 4750 1819 4750 \nQ 2544 4750 2975 4387 \nQ 3406 4025 3406 3419 \nQ 3406 3131 3298 2873 \nQ 3191 2616 2906 2266 \nQ 2828 2175 2409 1742 \nQ 1991 1309 1228 531 \nz\n\" transform=\"scale(0.015625)\"/>\n       </defs>\n       <use xlink:href=\"#DejaVuSans-2212\"/>\n       <use xlink:href=\"#DejaVuSans-32\" x=\"83.789062\"/>\n      </g>\n     </g>\n    </g>\n    <g id=\"xtick_5\">\n     <g id=\"line2d_9\">\n      <path d=\"M 174.538227 145.8 \nL 174.538227 7.2 \n\" clip-path=\"url(#p163bcf9e67)\" style=\"fill: none; stroke: #b0b0b0; stroke-width: 0.8; stroke-linecap: square\"/>\n     </g>\n     <g id=\"line2d_10\">\n      <g>\n       <use xlink:href=\"#mde91363b8a\" x=\"174.538227\" y=\"145.8\" style=\"stroke: #000000; stroke-width: 0.8\"/>\n      </g>\n     </g>\n     <g id=\"text_5\">\n      <!-- 0 -->\n      <g transform=\"translate(171.356977 160.398438) scale(0.1 -0.1)\">\n       <defs>\n        <path id=\"DejaVuSans-30\" d=\"M 2034 4250 \nQ 1547 4250 1301 3770 \nQ 1056 3291 1056 2328 \nQ 1056 1369 1301 889 \nQ 1547 409 2034 409 \nQ 2525 409 2770 889 \nQ 3016 1369 3016 2328 \nQ 3016 3291 2770 3770 \nQ 2525 4250 2034 4250 \nz\nM 2034 4750 \nQ 2819 4750 3233 4129 \nQ 3647 3509 3647 2328 \nQ 3647 1150 3233 529 \nQ 2819 -91 2034 -91 \nQ 1250 -91 836 529 \nQ 422 1150 422 2328 \nQ 422 3509 836 4129 \nQ 1250 4750 2034 4750 \nz\n\" transform=\"scale(0.015625)\"/>\n       </defs>\n       <use xlink:href=\"#DejaVuSans-30\"/>\n      </g>\n     </g>\n    </g>\n    <g id=\"xtick_6\">\n     <g id=\"line2d_11\">\n      <path d=\"M 206.442173 145.8 \nL 206.442173 7.2 \n\" clip-path=\"url(#p163bcf9e67)\" style=\"fill: none; stroke: #b0b0b0; stroke-width: 0.8; stroke-linecap: square\"/>\n     </g>\n     <g id=\"line2d_12\">\n      <g>\n       <use xlink:href=\"#mde91363b8a\" x=\"206.442173\" y=\"145.8\" style=\"stroke: #000000; stroke-width: 0.8\"/>\n      </g>\n     </g>\n     <g id=\"text_6\">\n      <!-- 2 -->\n      <g transform=\"translate(203.260923 160.398438) scale(0.1 -0.1)\">\n       <use xlink:href=\"#DejaVuSans-32\"/>\n      </g>\n     </g>\n    </g>\n    <g id=\"xtick_7\">\n     <g id=\"line2d_13\">\n      <path d=\"M 238.346118 145.8 \nL 238.346118 7.2 \n\" clip-path=\"url(#p163bcf9e67)\" style=\"fill: none; stroke: #b0b0b0; stroke-width: 0.8; stroke-linecap: square\"/>\n     </g>\n     <g id=\"line2d_14\">\n      <g>\n       <use xlink:href=\"#mde91363b8a\" x=\"238.346118\" y=\"145.8\" style=\"stroke: #000000; stroke-width: 0.8\"/>\n      </g>\n     </g>\n     <g id=\"text_7\">\n      <!-- 4 -->\n      <g transform=\"translate(235.164868 160.398438) scale(0.1 -0.1)\">\n       <use xlink:href=\"#DejaVuSans-34\"/>\n      </g>\n     </g>\n    </g>\n    <g id=\"xtick_8\">\n     <g id=\"line2d_15\">\n      <path d=\"M 270.250064 145.8 \nL 270.250064 7.2 \n\" clip-path=\"url(#p163bcf9e67)\" style=\"fill: none; stroke: #b0b0b0; stroke-width: 0.8; stroke-linecap: square\"/>\n     </g>\n     <g id=\"line2d_16\">\n      <g>\n       <use xlink:href=\"#mde91363b8a\" x=\"270.250064\" y=\"145.8\" style=\"stroke: #000000; stroke-width: 0.8\"/>\n      </g>\n     </g>\n     <g id=\"text_8\">\n      <!-- 6 -->\n      <g transform=\"translate(267.068814 160.398438) scale(0.1 -0.1)\">\n       <use xlink:href=\"#DejaVuSans-36\"/>\n      </g>\n     </g>\n    </g>\n    <g id=\"xtick_9\">\n     <g id=\"line2d_17\">\n      <path d=\"M 302.15401 145.8 \nL 302.15401 7.2 \n\" clip-path=\"url(#p163bcf9e67)\" style=\"fill: none; stroke: #b0b0b0; stroke-width: 0.8; stroke-linecap: square\"/>\n     </g>\n     <g id=\"line2d_18\">\n      <g>\n       <use xlink:href=\"#mde91363b8a\" x=\"302.15401\" y=\"145.8\" style=\"stroke: #000000; stroke-width: 0.8\"/>\n      </g>\n     </g>\n     <g id=\"text_9\">\n      <!-- 8 -->\n      <g transform=\"translate(298.97276 160.398438) scale(0.1 -0.1)\">\n       <use xlink:href=\"#DejaVuSans-38\"/>\n      </g>\n     </g>\n    </g>\n    <g id=\"text_10\">\n     <!-- x -->\n     <g transform=\"translate(170.78125 174.076563) scale(0.1 -0.1)\">\n      <defs>\n       <path id=\"DejaVuSans-78\" d=\"M 3513 3500 \nL 2247 1797 \nL 3578 0 \nL 2900 0 \nL 1881 1375 \nL 863 0 \nL 184 0 \nL 1544 1831 \nL 300 3500 \nL 978 3500 \nL 1906 2253 \nL 2834 3500 \nL 3513 3500 \nz\n\" transform=\"scale(0.015625)\"/>\n      </defs>\n      <use xlink:href=\"#DejaVuSans-78\"/>\n     </g>\n    </g>\n   </g>\n   <g id=\"matplotlib.axis_2\">\n    <g id=\"ytick_1\">\n     <g id=\"line2d_19\">\n      <path d=\"M 34.240625 139.5 \nL 313.240625 139.5 \n\" clip-path=\"url(#p163bcf9e67)\" style=\"fill: none; stroke: #b0b0b0; stroke-width: 0.8; stroke-linecap: square\"/>\n     </g>\n     <g id=\"line2d_20\">\n      <defs>\n       <path id=\"m471171bcc7\" d=\"M 0 0 \nL -3.5 0 \n\" style=\"stroke: #000000; stroke-width: 0.8\"/>\n      </defs>\n      <g>\n       <use xlink:href=\"#m471171bcc7\" x=\"34.240625\" y=\"139.5\" style=\"stroke: #000000; stroke-width: 0.8\"/>\n      </g>\n     </g>\n     <g id=\"text_11\">\n      <!-- 0 -->\n      <g transform=\"translate(20.878125 143.299219) scale(0.1 -0.1)\">\n       <use xlink:href=\"#DejaVuSans-30\"/>\n      </g>\n     </g>\n    </g>\n    <g id=\"ytick_2\">\n     <g id=\"line2d_21\">\n      <path d=\"M 34.240625 107.601264 \nL 313.240625 107.601264 \n\" clip-path=\"url(#p163bcf9e67)\" style=\"fill: none; stroke: #b0b0b0; stroke-width: 0.8; stroke-linecap: square\"/>\n     </g>\n     <g id=\"line2d_22\">\n      <g>\n       <use xlink:href=\"#m471171bcc7\" x=\"34.240625\" y=\"107.601264\" style=\"stroke: #000000; stroke-width: 0.8\"/>\n      </g>\n     </g>\n     <g id=\"text_12\">\n      <!-- 2 -->\n      <g transform=\"translate(20.878125 111.400483) scale(0.1 -0.1)\">\n       <use xlink:href=\"#DejaVuSans-32\"/>\n      </g>\n     </g>\n    </g>\n    <g id=\"ytick_3\">\n     <g id=\"line2d_23\">\n      <path d=\"M 34.240625 75.702529 \nL 313.240625 75.702529 \n\" clip-path=\"url(#p163bcf9e67)\" style=\"fill: none; stroke: #b0b0b0; stroke-width: 0.8; stroke-linecap: square\"/>\n     </g>\n     <g id=\"line2d_24\">\n      <g>\n       <use xlink:href=\"#m471171bcc7\" x=\"34.240625\" y=\"75.702529\" style=\"stroke: #000000; stroke-width: 0.8\"/>\n      </g>\n     </g>\n     <g id=\"text_13\">\n      <!-- 4 -->\n      <g transform=\"translate(20.878125 79.501747) scale(0.1 -0.1)\">\n       <use xlink:href=\"#DejaVuSans-34\"/>\n      </g>\n     </g>\n    </g>\n    <g id=\"ytick_4\">\n     <g id=\"line2d_25\">\n      <path d=\"M 34.240625 43.803793 \nL 313.240625 43.803793 \n\" clip-path=\"url(#p163bcf9e67)\" style=\"fill: none; stroke: #b0b0b0; stroke-width: 0.8; stroke-linecap: square\"/>\n     </g>\n     <g id=\"line2d_26\">\n      <g>\n       <use xlink:href=\"#m471171bcc7\" x=\"34.240625\" y=\"43.803793\" style=\"stroke: #000000; stroke-width: 0.8\"/>\n      </g>\n     </g>\n     <g id=\"text_14\">\n      <!-- 6 -->\n      <g transform=\"translate(20.878125 47.603012) scale(0.1 -0.1)\">\n       <use xlink:href=\"#DejaVuSans-36\"/>\n      </g>\n     </g>\n    </g>\n    <g id=\"ytick_5\">\n     <g id=\"line2d_27\">\n      <path d=\"M 34.240625 11.905057 \nL 313.240625 11.905057 \n\" clip-path=\"url(#p163bcf9e67)\" style=\"fill: none; stroke: #b0b0b0; stroke-width: 0.8; stroke-linecap: square\"/>\n     </g>\n     <g id=\"line2d_28\">\n      <g>\n       <use xlink:href=\"#m471171bcc7\" x=\"34.240625\" y=\"11.905057\" style=\"stroke: #000000; stroke-width: 0.8\"/>\n      </g>\n     </g>\n     <g id=\"text_15\">\n      <!-- 8 -->\n      <g transform=\"translate(20.878125 15.704276) scale(0.1 -0.1)\">\n       <use xlink:href=\"#DejaVuSans-38\"/>\n      </g>\n     </g>\n    </g>\n    <g id=\"text_16\">\n     <!-- relu(x) -->\n     <g transform=\"translate(14.798438 92.938281) rotate(-90) scale(0.1 -0.1)\">\n      <defs>\n       <path id=\"DejaVuSans-72\" d=\"M 2631 2963 \nQ 2534 3019 2420 3045 \nQ 2306 3072 2169 3072 \nQ 1681 3072 1420 2755 \nQ 1159 2438 1159 1844 \nL 1159 0 \nL 581 0 \nL 581 3500 \nL 1159 3500 \nL 1159 2956 \nQ 1341 3275 1631 3429 \nQ 1922 3584 2338 3584 \nQ 2397 3584 2469 3576 \nQ 2541 3569 2628 3553 \nL 2631 2963 \nz\n\" transform=\"scale(0.015625)\"/>\n       <path id=\"DejaVuSans-65\" d=\"M 3597 1894 \nL 3597 1613 \nL 953 1613 \nQ 991 1019 1311 708 \nQ 1631 397 2203 397 \nQ 2534 397 2845 478 \nQ 3156 559 3463 722 \nL 3463 178 \nQ 3153 47 2828 -22 \nQ 2503 -91 2169 -91 \nQ 1331 -91 842 396 \nQ 353 884 353 1716 \nQ 353 2575 817 3079 \nQ 1281 3584 2069 3584 \nQ 2775 3584 3186 3129 \nQ 3597 2675 3597 1894 \nz\nM 3022 2063 \nQ 3016 2534 2758 2815 \nQ 2500 3097 2075 3097 \nQ 1594 3097 1305 2825 \nQ 1016 2553 972 2059 \nL 3022 2063 \nz\n\" transform=\"scale(0.015625)\"/>\n       <path id=\"DejaVuSans-6c\" d=\"M 603 4863 \nL 1178 4863 \nL 1178 0 \nL 603 0 \nL 603 4863 \nz\n\" transform=\"scale(0.015625)\"/>\n       <path id=\"DejaVuSans-75\" d=\"M 544 1381 \nL 544 3500 \nL 1119 3500 \nL 1119 1403 \nQ 1119 906 1312 657 \nQ 1506 409 1894 409 \nQ 2359 409 2629 706 \nQ 2900 1003 2900 1516 \nL 2900 3500 \nL 3475 3500 \nL 3475 0 \nL 2900 0 \nL 2900 538 \nQ 2691 219 2414 64 \nQ 2138 -91 1772 -91 \nQ 1169 -91 856 284 \nQ 544 659 544 1381 \nz\nM 1991 3584 \nL 1991 3584 \nz\n\" transform=\"scale(0.015625)\"/>\n       <path id=\"DejaVuSans-28\" d=\"M 1984 4856 \nQ 1566 4138 1362 3434 \nQ 1159 2731 1159 2009 \nQ 1159 1288 1364 580 \nQ 1569 -128 1984 -844 \nL 1484 -844 \nQ 1016 -109 783 600 \nQ 550 1309 550 2009 \nQ 550 2706 781 3412 \nQ 1013 4119 1484 4856 \nL 1984 4856 \nz\n\" transform=\"scale(0.015625)\"/>\n       <path id=\"DejaVuSans-29\" d=\"M 513 4856 \nL 1013 4856 \nQ 1481 4119 1714 3412 \nQ 1947 2706 1947 2009 \nQ 1947 1309 1714 600 \nQ 1481 -109 1013 -844 \nL 513 -844 \nQ 928 -128 1133 580 \nQ 1338 1288 1338 2009 \nQ 1338 2731 1133 3434 \nQ 928 4138 513 4856 \nz\n\" transform=\"scale(0.015625)\"/>\n      </defs>\n      <use xlink:href=\"#DejaVuSans-72\"/>\n      <use xlink:href=\"#DejaVuSans-65\" x=\"38.863281\"/>\n      <use xlink:href=\"#DejaVuSans-6c\" x=\"100.386719\"/>\n      <use xlink:href=\"#DejaVuSans-75\" x=\"128.169922\"/>\n      <use xlink:href=\"#DejaVuSans-28\" x=\"191.548828\"/>\n      <use xlink:href=\"#DejaVuSans-78\" x=\"230.5625\"/>\n      <use xlink:href=\"#DejaVuSans-29\" x=\"289.742188\"/>\n     </g>\n    </g>\n   </g>\n   <g id=\"line2d_29\">\n    <path d=\"M 46.922443 139.5 \nL 174.538227 139.5 \nL 300.558807 13.5 \nL 300.558807 13.5 \n\" clip-path=\"url(#p163bcf9e67)\" style=\"fill: none; stroke: #1f77b4; stroke-width: 1.5; stroke-linecap: square\"/>\n   </g>\n   <g id=\"patch_3\">\n    <path d=\"M 34.240625 145.8 \nL 34.240625 7.2 \n\" style=\"fill: none; stroke: #000000; stroke-width: 0.8; stroke-linejoin: miter; stroke-linecap: square\"/>\n   </g>\n   <g id=\"patch_4\">\n    <path d=\"M 313.240625 145.8 \nL 313.240625 7.2 \n\" style=\"fill: none; stroke: #000000; stroke-width: 0.8; stroke-linejoin: miter; stroke-linecap: square\"/>\n   </g>\n   <g id=\"patch_5\">\n    <path d=\"M 34.240625 145.8 \nL 313.240625 145.8 \n\" style=\"fill: none; stroke: #000000; stroke-width: 0.8; stroke-linejoin: miter; stroke-linecap: square\"/>\n   </g>\n   <g id=\"patch_6\">\n    <path d=\"M 34.240625 7.2 \nL 313.240625 7.2 \n\" style=\"fill: none; stroke: #000000; stroke-width: 0.8; stroke-linejoin: miter; stroke-linecap: square\"/>\n   </g>\n  </g>\n </g>\n <defs>\n  <clipPath id=\"p163bcf9e67\">\n   <rect x=\"34.240625\" y=\"7.2\" width=\"279\" height=\"138.6\"/>\n  </clipPath>\n </defs>\n</svg>\n"
          },
          "metadata": {}
        }
      ],
      "source": [
        "x = torch.arange(-8.0, 8.0, 0.1, requires_grad=True)\n",
        "y = torch.relu(x)\n",
        "d2l.plot(x.detach(), y.detach(), 'x', 'relu(x)', figsize=(5, 2.5))"
      ]
    },
    {
      "cell_type": "markdown",
      "id": "afa62b43",
      "metadata": {
        "id": "afa62b43",
        "origin_pos": 11
      },
      "source": [
        "When the input is negative,\n",
        "the derivative of the ReLU function is 0,\n",
        "and when the input is positive,\n",
        "the derivative of the ReLU function is 1.\n",
        "Note that the ReLU function is not differentiable\n",
        "when the input takes value precisely equal to 0.\n",
        "In these cases, we default to the left-hand-side\n",
        "derivative and say that the derivative is 0 when the input is 0.\n",
        "We can get away with this because\n",
        "the input may never actually be zero (mathematicians would\n",
        "say that it is nondifferentiable on a set of measure zero).\n",
        "There is an old adage that if subtle boundary conditions matter,\n",
        "we are probably doing (*real*) mathematics, not engineering.\n",
        "That conventional wisdom may apply here, or at least, the fact that\n",
        "we are not performing constrained optimization :cite:`Mangasarian.1965,Rockafellar.1970`.\n",
        "We plot the derivative of the ReLU function below.\n"
      ]
    },
    {
      "cell_type": "code",
      "execution_count": null,
      "id": "1d36fda0",
      "metadata": {
        "execution": {
          "iopub.execute_input": "2023-08-18T19:38:44.152064Z",
          "iopub.status.busy": "2023-08-18T19:38:44.150649Z",
          "iopub.status.idle": "2023-08-18T19:38:44.554556Z",
          "shell.execute_reply": "2023-08-18T19:38:44.552066Z"
        },
        "id": "1d36fda0",
        "origin_pos": 13,
        "outputId": "f18e0278-4062-4e66-f208-4a6a78c8d4e9",
        "tab": [
          "pytorch"
        ],
        "colab": {
          "base_uri": "https://localhost:8080/",
          "height": 266
        }
      },
      "outputs": [
        {
          "output_type": "display_data",
          "data": {
            "text/plain": [
              "<Figure size 500x250 with 1 Axes>"
            ],
            "image/svg+xml": "<?xml version=\"1.0\" encoding=\"utf-8\" standalone=\"no\"?>\n<!DOCTYPE svg PUBLIC \"-//W3C//DTD SVG 1.1//EN\"\n  \"http://www.w3.org/Graphics/SVG/1.1/DTD/svg11.dtd\">\n<svg xmlns:xlink=\"http://www.w3.org/1999/xlink\" width=\"329.98125pt\" height=\"183.35625pt\" viewBox=\"0 0 329.98125 183.35625\" xmlns=\"http://www.w3.org/2000/svg\" version=\"1.1\">\n <metadata>\n  <rdf:RDF xmlns:dc=\"http://purl.org/dc/elements/1.1/\" xmlns:cc=\"http://creativecommons.org/ns#\" xmlns:rdf=\"http://www.w3.org/1999/02/22-rdf-syntax-ns#\">\n   <cc:Work>\n    <dc:type rdf:resource=\"http://purl.org/dc/dcmitype/StillImage\"/>\n    <dc:date>2024-09-13T08:32:23.977603</dc:date>\n    <dc:format>image/svg+xml</dc:format>\n    <dc:creator>\n     <cc:Agent>\n      <dc:title>Matplotlib v3.7.2, https://matplotlib.org/</dc:title>\n     </cc:Agent>\n    </dc:creator>\n   </cc:Work>\n  </rdf:RDF>\n </metadata>\n <defs>\n  <style type=\"text/css\">*{stroke-linejoin: round; stroke-linecap: butt}</style>\n </defs>\n <g id=\"figure_1\">\n  <g id=\"patch_1\">\n   <path d=\"M 0 183.35625 \nL 329.98125 183.35625 \nL 329.98125 0 \nL 0 0 \nz\n\" style=\"fill: #ffffff\"/>\n  </g>\n  <g id=\"axes_1\">\n   <g id=\"patch_2\">\n    <path d=\"M 43.78125 145.8 \nL 322.78125 145.8 \nL 322.78125 7.2 \nL 43.78125 7.2 \nz\n\" style=\"fill: #ffffff\"/>\n   </g>\n   <g id=\"matplotlib.axis_1\">\n    <g id=\"xtick_1\">\n     <g id=\"line2d_1\">\n      <path d=\"M 56.463068 145.8 \nL 56.463068 7.2 \n\" clip-path=\"url(#p0c7c21766d)\" style=\"fill: none; stroke: #b0b0b0; stroke-width: 0.8; stroke-linecap: square\"/>\n     </g>\n     <g id=\"line2d_2\">\n      <defs>\n       <path id=\"m3d80ca26fc\" d=\"M 0 0 \nL 0 3.5 \n\" style=\"stroke: #000000; stroke-width: 0.8\"/>\n      </defs>\n      <g>\n       <use xlink:href=\"#m3d80ca26fc\" x=\"56.463068\" y=\"145.8\" style=\"stroke: #000000; stroke-width: 0.8\"/>\n      </g>\n     </g>\n     <g id=\"text_1\">\n      <!-- −8 -->\n      <g transform=\"translate(49.091974 160.398438) scale(0.1 -0.1)\">\n       <defs>\n        <path id=\"DejaVuSans-2212\" d=\"M 678 2272 \nL 4684 2272 \nL 4684 1741 \nL 678 1741 \nL 678 2272 \nz\n\" transform=\"scale(0.015625)\"/>\n        <path id=\"DejaVuSans-38\" d=\"M 2034 2216 \nQ 1584 2216 1326 1975 \nQ 1069 1734 1069 1313 \nQ 1069 891 1326 650 \nQ 1584 409 2034 409 \nQ 2484 409 2743 651 \nQ 3003 894 3003 1313 \nQ 3003 1734 2745 1975 \nQ 2488 2216 2034 2216 \nz\nM 1403 2484 \nQ 997 2584 770 2862 \nQ 544 3141 544 3541 \nQ 544 4100 942 4425 \nQ 1341 4750 2034 4750 \nQ 2731 4750 3128 4425 \nQ 3525 4100 3525 3541 \nQ 3525 3141 3298 2862 \nQ 3072 2584 2669 2484 \nQ 3125 2378 3379 2068 \nQ 3634 1759 3634 1313 \nQ 3634 634 3220 271 \nQ 2806 -91 2034 -91 \nQ 1263 -91 848 271 \nQ 434 634 434 1313 \nQ 434 1759 690 2068 \nQ 947 2378 1403 2484 \nz\nM 1172 3481 \nQ 1172 3119 1398 2916 \nQ 1625 2713 2034 2713 \nQ 2441 2713 2670 2916 \nQ 2900 3119 2900 3481 \nQ 2900 3844 2670 4047 \nQ 2441 4250 2034 4250 \nQ 1625 4250 1398 4047 \nQ 1172 3844 1172 3481 \nz\n\" transform=\"scale(0.015625)\"/>\n       </defs>\n       <use xlink:href=\"#DejaVuSans-2212\"/>\n       <use xlink:href=\"#DejaVuSans-38\" x=\"83.789062\"/>\n      </g>\n     </g>\n    </g>\n    <g id=\"xtick_2\">\n     <g id=\"line2d_3\">\n      <path d=\"M 88.367014 145.8 \nL 88.367014 7.2 \n\" clip-path=\"url(#p0c7c21766d)\" style=\"fill: none; stroke: #b0b0b0; stroke-width: 0.8; stroke-linecap: square\"/>\n     </g>\n     <g id=\"line2d_4\">\n      <g>\n       <use xlink:href=\"#m3d80ca26fc\" x=\"88.367014\" y=\"145.8\" style=\"stroke: #000000; stroke-width: 0.8\"/>\n      </g>\n     </g>\n     <g id=\"text_2\">\n      <!-- −6 -->\n      <g transform=\"translate(80.99592 160.398438) scale(0.1 -0.1)\">\n       <defs>\n        <path id=\"DejaVuSans-36\" d=\"M 2113 2584 \nQ 1688 2584 1439 2293 \nQ 1191 2003 1191 1497 \nQ 1191 994 1439 701 \nQ 1688 409 2113 409 \nQ 2538 409 2786 701 \nQ 3034 994 3034 1497 \nQ 3034 2003 2786 2293 \nQ 2538 2584 2113 2584 \nz\nM 3366 4563 \nL 3366 3988 \nQ 3128 4100 2886 4159 \nQ 2644 4219 2406 4219 \nQ 1781 4219 1451 3797 \nQ 1122 3375 1075 2522 \nQ 1259 2794 1537 2939 \nQ 1816 3084 2150 3084 \nQ 2853 3084 3261 2657 \nQ 3669 2231 3669 1497 \nQ 3669 778 3244 343 \nQ 2819 -91 2113 -91 \nQ 1303 -91 875 529 \nQ 447 1150 447 2328 \nQ 447 3434 972 4092 \nQ 1497 4750 2381 4750 \nQ 2619 4750 2861 4703 \nQ 3103 4656 3366 4563 \nz\n\" transform=\"scale(0.015625)\"/>\n       </defs>\n       <use xlink:href=\"#DejaVuSans-2212\"/>\n       <use xlink:href=\"#DejaVuSans-36\" x=\"83.789062\"/>\n      </g>\n     </g>\n    </g>\n    <g id=\"xtick_3\">\n     <g id=\"line2d_5\">\n      <path d=\"M 120.27096 145.8 \nL 120.27096 7.2 \n\" clip-path=\"url(#p0c7c21766d)\" style=\"fill: none; stroke: #b0b0b0; stroke-width: 0.8; stroke-linecap: square\"/>\n     </g>\n     <g id=\"line2d_6\">\n      <g>\n       <use xlink:href=\"#m3d80ca26fc\" x=\"120.27096\" y=\"145.8\" style=\"stroke: #000000; stroke-width: 0.8\"/>\n      </g>\n     </g>\n     <g id=\"text_3\">\n      <!-- −4 -->\n      <g transform=\"translate(112.899866 160.398438) scale(0.1 -0.1)\">\n       <defs>\n        <path id=\"DejaVuSans-34\" d=\"M 2419 4116 \nL 825 1625 \nL 2419 1625 \nL 2419 4116 \nz\nM 2253 4666 \nL 3047 4666 \nL 3047 1625 \nL 3713 1625 \nL 3713 1100 \nL 3047 1100 \nL 3047 0 \nL 2419 0 \nL 2419 1100 \nL 313 1100 \nL 313 1709 \nL 2253 4666 \nz\n\" transform=\"scale(0.015625)\"/>\n       </defs>\n       <use xlink:href=\"#DejaVuSans-2212\"/>\n       <use xlink:href=\"#DejaVuSans-34\" x=\"83.789062\"/>\n      </g>\n     </g>\n    </g>\n    <g id=\"xtick_4\">\n     <g id=\"line2d_7\">\n      <path d=\"M 152.174906 145.8 \nL 152.174906 7.2 \n\" clip-path=\"url(#p0c7c21766d)\" style=\"fill: none; stroke: #b0b0b0; stroke-width: 0.8; stroke-linecap: square\"/>\n     </g>\n     <g id=\"line2d_8\">\n      <g>\n       <use xlink:href=\"#m3d80ca26fc\" x=\"152.174906\" y=\"145.8\" style=\"stroke: #000000; stroke-width: 0.8\"/>\n      </g>\n     </g>\n     <g id=\"text_4\">\n      <!-- −2 -->\n      <g transform=\"translate(144.803812 160.398438) scale(0.1 -0.1)\">\n       <defs>\n        <path id=\"DejaVuSans-32\" d=\"M 1228 531 \nL 3431 531 \nL 3431 0 \nL 469 0 \nL 469 531 \nQ 828 903 1448 1529 \nQ 2069 2156 2228 2338 \nQ 2531 2678 2651 2914 \nQ 2772 3150 2772 3378 \nQ 2772 3750 2511 3984 \nQ 2250 4219 1831 4219 \nQ 1534 4219 1204 4116 \nQ 875 4013 500 3803 \nL 500 4441 \nQ 881 4594 1212 4672 \nQ 1544 4750 1819 4750 \nQ 2544 4750 2975 4387 \nQ 3406 4025 3406 3419 \nQ 3406 3131 3298 2873 \nQ 3191 2616 2906 2266 \nQ 2828 2175 2409 1742 \nQ 1991 1309 1228 531 \nz\n\" transform=\"scale(0.015625)\"/>\n       </defs>\n       <use xlink:href=\"#DejaVuSans-2212\"/>\n       <use xlink:href=\"#DejaVuSans-32\" x=\"83.789062\"/>\n      </g>\n     </g>\n    </g>\n    <g id=\"xtick_5\">\n     <g id=\"line2d_9\">\n      <path d=\"M 184.078852 145.8 \nL 184.078852 7.2 \n\" clip-path=\"url(#p0c7c21766d)\" style=\"fill: none; stroke: #b0b0b0; stroke-width: 0.8; stroke-linecap: square\"/>\n     </g>\n     <g id=\"line2d_10\">\n      <g>\n       <use xlink:href=\"#m3d80ca26fc\" x=\"184.078852\" y=\"145.8\" style=\"stroke: #000000; stroke-width: 0.8\"/>\n      </g>\n     </g>\n     <g id=\"text_5\">\n      <!-- 0 -->\n      <g transform=\"translate(180.897602 160.398438) scale(0.1 -0.1)\">\n       <defs>\n        <path id=\"DejaVuSans-30\" d=\"M 2034 4250 \nQ 1547 4250 1301 3770 \nQ 1056 3291 1056 2328 \nQ 1056 1369 1301 889 \nQ 1547 409 2034 409 \nQ 2525 409 2770 889 \nQ 3016 1369 3016 2328 \nQ 3016 3291 2770 3770 \nQ 2525 4250 2034 4250 \nz\nM 2034 4750 \nQ 2819 4750 3233 4129 \nQ 3647 3509 3647 2328 \nQ 3647 1150 3233 529 \nQ 2819 -91 2034 -91 \nQ 1250 -91 836 529 \nQ 422 1150 422 2328 \nQ 422 3509 836 4129 \nQ 1250 4750 2034 4750 \nz\n\" transform=\"scale(0.015625)\"/>\n       </defs>\n       <use xlink:href=\"#DejaVuSans-30\"/>\n      </g>\n     </g>\n    </g>\n    <g id=\"xtick_6\">\n     <g id=\"line2d_11\">\n      <path d=\"M 215.982798 145.8 \nL 215.982798 7.2 \n\" clip-path=\"url(#p0c7c21766d)\" style=\"fill: none; stroke: #b0b0b0; stroke-width: 0.8; stroke-linecap: square\"/>\n     </g>\n     <g id=\"line2d_12\">\n      <g>\n       <use xlink:href=\"#m3d80ca26fc\" x=\"215.982798\" y=\"145.8\" style=\"stroke: #000000; stroke-width: 0.8\"/>\n      </g>\n     </g>\n     <g id=\"text_6\">\n      <!-- 2 -->\n      <g transform=\"translate(212.801548 160.398438) scale(0.1 -0.1)\">\n       <use xlink:href=\"#DejaVuSans-32\"/>\n      </g>\n     </g>\n    </g>\n    <g id=\"xtick_7\">\n     <g id=\"line2d_13\">\n      <path d=\"M 247.886743 145.8 \nL 247.886743 7.2 \n\" clip-path=\"url(#p0c7c21766d)\" style=\"fill: none; stroke: #b0b0b0; stroke-width: 0.8; stroke-linecap: square\"/>\n     </g>\n     <g id=\"line2d_14\">\n      <g>\n       <use xlink:href=\"#m3d80ca26fc\" x=\"247.886743\" y=\"145.8\" style=\"stroke: #000000; stroke-width: 0.8\"/>\n      </g>\n     </g>\n     <g id=\"text_7\">\n      <!-- 4 -->\n      <g transform=\"translate(244.705493 160.398438) scale(0.1 -0.1)\">\n       <use xlink:href=\"#DejaVuSans-34\"/>\n      </g>\n     </g>\n    </g>\n    <g id=\"xtick_8\">\n     <g id=\"line2d_15\">\n      <path d=\"M 279.790689 145.8 \nL 279.790689 7.2 \n\" clip-path=\"url(#p0c7c21766d)\" style=\"fill: none; stroke: #b0b0b0; stroke-width: 0.8; stroke-linecap: square\"/>\n     </g>\n     <g id=\"line2d_16\">\n      <g>\n       <use xlink:href=\"#m3d80ca26fc\" x=\"279.790689\" y=\"145.8\" style=\"stroke: #000000; stroke-width: 0.8\"/>\n      </g>\n     </g>\n     <g id=\"text_8\">\n      <!-- 6 -->\n      <g transform=\"translate(276.609439 160.398438) scale(0.1 -0.1)\">\n       <use xlink:href=\"#DejaVuSans-36\"/>\n      </g>\n     </g>\n    </g>\n    <g id=\"xtick_9\">\n     <g id=\"line2d_17\">\n      <path d=\"M 311.694635 145.8 \nL 311.694635 7.2 \n\" clip-path=\"url(#p0c7c21766d)\" style=\"fill: none; stroke: #b0b0b0; stroke-width: 0.8; stroke-linecap: square\"/>\n     </g>\n     <g id=\"line2d_18\">\n      <g>\n       <use xlink:href=\"#m3d80ca26fc\" x=\"311.694635\" y=\"145.8\" style=\"stroke: #000000; stroke-width: 0.8\"/>\n      </g>\n     </g>\n     <g id=\"text_9\">\n      <!-- 8 -->\n      <g transform=\"translate(308.513385 160.398438) scale(0.1 -0.1)\">\n       <use xlink:href=\"#DejaVuSans-38\"/>\n      </g>\n     </g>\n    </g>\n    <g id=\"text_10\">\n     <!-- x -->\n     <g transform=\"translate(180.321875 174.076563) scale(0.1 -0.1)\">\n      <defs>\n       <path id=\"DejaVuSans-78\" d=\"M 3513 3500 \nL 2247 1797 \nL 3578 0 \nL 2900 0 \nL 1881 1375 \nL 863 0 \nL 184 0 \nL 1544 1831 \nL 300 3500 \nL 978 3500 \nL 1906 2253 \nL 2834 3500 \nL 3513 3500 \nz\n\" transform=\"scale(0.015625)\"/>\n      </defs>\n      <use xlink:href=\"#DejaVuSans-78\"/>\n     </g>\n    </g>\n   </g>\n   <g id=\"matplotlib.axis_2\">\n    <g id=\"ytick_1\">\n     <g id=\"line2d_19\">\n      <path d=\"M 43.78125 139.5 \nL 322.78125 139.5 \n\" clip-path=\"url(#p0c7c21766d)\" style=\"fill: none; stroke: #b0b0b0; stroke-width: 0.8; stroke-linecap: square\"/>\n     </g>\n     <g id=\"line2d_20\">\n      <defs>\n       <path id=\"md03f24f002\" d=\"M 0 0 \nL -3.5 0 \n\" style=\"stroke: #000000; stroke-width: 0.8\"/>\n      </defs>\n      <g>\n       <use xlink:href=\"#md03f24f002\" x=\"43.78125\" y=\"139.5\" style=\"stroke: #000000; stroke-width: 0.8\"/>\n      </g>\n     </g>\n     <g id=\"text_11\">\n      <!-- 0.0 -->\n      <g transform=\"translate(20.878125 143.299219) scale(0.1 -0.1)\">\n       <defs>\n        <path id=\"DejaVuSans-2e\" d=\"M 684 794 \nL 1344 794 \nL 1344 0 \nL 684 0 \nL 684 794 \nz\n\" transform=\"scale(0.015625)\"/>\n       </defs>\n       <use xlink:href=\"#DejaVuSans-30\"/>\n       <use xlink:href=\"#DejaVuSans-2e\" x=\"63.623047\"/>\n       <use xlink:href=\"#DejaVuSans-30\" x=\"95.410156\"/>\n      </g>\n     </g>\n    </g>\n    <g id=\"ytick_2\">\n     <g id=\"line2d_21\">\n      <path d=\"M 43.78125 114.3 \nL 322.78125 114.3 \n\" clip-path=\"url(#p0c7c21766d)\" style=\"fill: none; stroke: #b0b0b0; stroke-width: 0.8; stroke-linecap: square\"/>\n     </g>\n     <g id=\"line2d_22\">\n      <g>\n       <use xlink:href=\"#md03f24f002\" x=\"43.78125\" y=\"114.3\" style=\"stroke: #000000; stroke-width: 0.8\"/>\n      </g>\n     </g>\n     <g id=\"text_12\">\n      <!-- 0.2 -->\n      <g transform=\"translate(20.878125 118.099219) scale(0.1 -0.1)\">\n       <use xlink:href=\"#DejaVuSans-30\"/>\n       <use xlink:href=\"#DejaVuSans-2e\" x=\"63.623047\"/>\n       <use xlink:href=\"#DejaVuSans-32\" x=\"95.410156\"/>\n      </g>\n     </g>\n    </g>\n    <g id=\"ytick_3\">\n     <g id=\"line2d_23\">\n      <path d=\"M 43.78125 89.1 \nL 322.78125 89.1 \n\" clip-path=\"url(#p0c7c21766d)\" style=\"fill: none; stroke: #b0b0b0; stroke-width: 0.8; stroke-linecap: square\"/>\n     </g>\n     <g id=\"line2d_24\">\n      <g>\n       <use xlink:href=\"#md03f24f002\" x=\"43.78125\" y=\"89.1\" style=\"stroke: #000000; stroke-width: 0.8\"/>\n      </g>\n     </g>\n     <g id=\"text_13\">\n      <!-- 0.4 -->\n      <g transform=\"translate(20.878125 92.899219) scale(0.1 -0.1)\">\n       <use xlink:href=\"#DejaVuSans-30\"/>\n       <use xlink:href=\"#DejaVuSans-2e\" x=\"63.623047\"/>\n       <use xlink:href=\"#DejaVuSans-34\" x=\"95.410156\"/>\n      </g>\n     </g>\n    </g>\n    <g id=\"ytick_4\">\n     <g id=\"line2d_25\">\n      <path d=\"M 43.78125 63.9 \nL 322.78125 63.9 \n\" clip-path=\"url(#p0c7c21766d)\" style=\"fill: none; stroke: #b0b0b0; stroke-width: 0.8; stroke-linecap: square\"/>\n     </g>\n     <g id=\"line2d_26\">\n      <g>\n       <use xlink:href=\"#md03f24f002\" x=\"43.78125\" y=\"63.9\" style=\"stroke: #000000; stroke-width: 0.8\"/>\n      </g>\n     </g>\n     <g id=\"text_14\">\n      <!-- 0.6 -->\n      <g transform=\"translate(20.878125 67.699219) scale(0.1 -0.1)\">\n       <use xlink:href=\"#DejaVuSans-30\"/>\n       <use xlink:href=\"#DejaVuSans-2e\" x=\"63.623047\"/>\n       <use xlink:href=\"#DejaVuSans-36\" x=\"95.410156\"/>\n      </g>\n     </g>\n    </g>\n    <g id=\"ytick_5\">\n     <g id=\"line2d_27\">\n      <path d=\"M 43.78125 38.7 \nL 322.78125 38.7 \n\" clip-path=\"url(#p0c7c21766d)\" style=\"fill: none; stroke: #b0b0b0; stroke-width: 0.8; stroke-linecap: square\"/>\n     </g>\n     <g id=\"line2d_28\">\n      <g>\n       <use xlink:href=\"#md03f24f002\" x=\"43.78125\" y=\"38.7\" style=\"stroke: #000000; stroke-width: 0.8\"/>\n      </g>\n     </g>\n     <g id=\"text_15\">\n      <!-- 0.8 -->\n      <g transform=\"translate(20.878125 42.499219) scale(0.1 -0.1)\">\n       <use xlink:href=\"#DejaVuSans-30\"/>\n       <use xlink:href=\"#DejaVuSans-2e\" x=\"63.623047\"/>\n       <use xlink:href=\"#DejaVuSans-38\" x=\"95.410156\"/>\n      </g>\n     </g>\n    </g>\n    <g id=\"ytick_6\">\n     <g id=\"line2d_29\">\n      <path d=\"M 43.78125 13.5 \nL 322.78125 13.5 \n\" clip-path=\"url(#p0c7c21766d)\" style=\"fill: none; stroke: #b0b0b0; stroke-width: 0.8; stroke-linecap: square\"/>\n     </g>\n     <g id=\"line2d_30\">\n      <g>\n       <use xlink:href=\"#md03f24f002\" x=\"43.78125\" y=\"13.5\" style=\"stroke: #000000; stroke-width: 0.8\"/>\n      </g>\n     </g>\n     <g id=\"text_16\">\n      <!-- 1.0 -->\n      <g transform=\"translate(20.878125 17.299219) scale(0.1 -0.1)\">\n       <defs>\n        <path id=\"DejaVuSans-31\" d=\"M 794 531 \nL 1825 531 \nL 1825 4091 \nL 703 3866 \nL 703 4441 \nL 1819 4666 \nL 2450 4666 \nL 2450 531 \nL 3481 531 \nL 3481 0 \nL 794 0 \nL 794 531 \nz\n\" transform=\"scale(0.015625)\"/>\n       </defs>\n       <use xlink:href=\"#DejaVuSans-31\"/>\n       <use xlink:href=\"#DejaVuSans-2e\" x=\"63.623047\"/>\n       <use xlink:href=\"#DejaVuSans-30\" x=\"95.410156\"/>\n      </g>\n     </g>\n    </g>\n    <g id=\"text_17\">\n     <!-- grad of relu -->\n     <g transform=\"translate(14.798438 105.542969) rotate(-90) scale(0.1 -0.1)\">\n      <defs>\n       <path id=\"DejaVuSans-67\" d=\"M 2906 1791 \nQ 2906 2416 2648 2759 \nQ 2391 3103 1925 3103 \nQ 1463 3103 1205 2759 \nQ 947 2416 947 1791 \nQ 947 1169 1205 825 \nQ 1463 481 1925 481 \nQ 2391 481 2648 825 \nQ 2906 1169 2906 1791 \nz\nM 3481 434 \nQ 3481 -459 3084 -895 \nQ 2688 -1331 1869 -1331 \nQ 1566 -1331 1297 -1286 \nQ 1028 -1241 775 -1147 \nL 775 -588 \nQ 1028 -725 1275 -790 \nQ 1522 -856 1778 -856 \nQ 2344 -856 2625 -561 \nQ 2906 -266 2906 331 \nL 2906 616 \nQ 2728 306 2450 153 \nQ 2172 0 1784 0 \nQ 1141 0 747 490 \nQ 353 981 353 1791 \nQ 353 2603 747 3093 \nQ 1141 3584 1784 3584 \nQ 2172 3584 2450 3431 \nQ 2728 3278 2906 2969 \nL 2906 3500 \nL 3481 3500 \nL 3481 434 \nz\n\" transform=\"scale(0.015625)\"/>\n       <path id=\"DejaVuSans-72\" d=\"M 2631 2963 \nQ 2534 3019 2420 3045 \nQ 2306 3072 2169 3072 \nQ 1681 3072 1420 2755 \nQ 1159 2438 1159 1844 \nL 1159 0 \nL 581 0 \nL 581 3500 \nL 1159 3500 \nL 1159 2956 \nQ 1341 3275 1631 3429 \nQ 1922 3584 2338 3584 \nQ 2397 3584 2469 3576 \nQ 2541 3569 2628 3553 \nL 2631 2963 \nz\n\" transform=\"scale(0.015625)\"/>\n       <path id=\"DejaVuSans-61\" d=\"M 2194 1759 \nQ 1497 1759 1228 1600 \nQ 959 1441 959 1056 \nQ 959 750 1161 570 \nQ 1363 391 1709 391 \nQ 2188 391 2477 730 \nQ 2766 1069 2766 1631 \nL 2766 1759 \nL 2194 1759 \nz\nM 3341 1997 \nL 3341 0 \nL 2766 0 \nL 2766 531 \nQ 2569 213 2275 61 \nQ 1981 -91 1556 -91 \nQ 1019 -91 701 211 \nQ 384 513 384 1019 \nQ 384 1609 779 1909 \nQ 1175 2209 1959 2209 \nL 2766 2209 \nL 2766 2266 \nQ 2766 2663 2505 2880 \nQ 2244 3097 1772 3097 \nQ 1472 3097 1187 3025 \nQ 903 2953 641 2809 \nL 641 3341 \nQ 956 3463 1253 3523 \nQ 1550 3584 1831 3584 \nQ 2591 3584 2966 3190 \nQ 3341 2797 3341 1997 \nz\n\" transform=\"scale(0.015625)\"/>\n       <path id=\"DejaVuSans-64\" d=\"M 2906 2969 \nL 2906 4863 \nL 3481 4863 \nL 3481 0 \nL 2906 0 \nL 2906 525 \nQ 2725 213 2448 61 \nQ 2172 -91 1784 -91 \nQ 1150 -91 751 415 \nQ 353 922 353 1747 \nQ 353 2572 751 3078 \nQ 1150 3584 1784 3584 \nQ 2172 3584 2448 3432 \nQ 2725 3281 2906 2969 \nz\nM 947 1747 \nQ 947 1113 1208 752 \nQ 1469 391 1925 391 \nQ 2381 391 2643 752 \nQ 2906 1113 2906 1747 \nQ 2906 2381 2643 2742 \nQ 2381 3103 1925 3103 \nQ 1469 3103 1208 2742 \nQ 947 2381 947 1747 \nz\n\" transform=\"scale(0.015625)\"/>\n       <path id=\"DejaVuSans-20\" transform=\"scale(0.015625)\"/>\n       <path id=\"DejaVuSans-6f\" d=\"M 1959 3097 \nQ 1497 3097 1228 2736 \nQ 959 2375 959 1747 \nQ 959 1119 1226 758 \nQ 1494 397 1959 397 \nQ 2419 397 2687 759 \nQ 2956 1122 2956 1747 \nQ 2956 2369 2687 2733 \nQ 2419 3097 1959 3097 \nz\nM 1959 3584 \nQ 2709 3584 3137 3096 \nQ 3566 2609 3566 1747 \nQ 3566 888 3137 398 \nQ 2709 -91 1959 -91 \nQ 1206 -91 779 398 \nQ 353 888 353 1747 \nQ 353 2609 779 3096 \nQ 1206 3584 1959 3584 \nz\n\" transform=\"scale(0.015625)\"/>\n       <path id=\"DejaVuSans-66\" d=\"M 2375 4863 \nL 2375 4384 \nL 1825 4384 \nQ 1516 4384 1395 4259 \nQ 1275 4134 1275 3809 \nL 1275 3500 \nL 2222 3500 \nL 2222 3053 \nL 1275 3053 \nL 1275 0 \nL 697 0 \nL 697 3053 \nL 147 3053 \nL 147 3500 \nL 697 3500 \nL 697 3744 \nQ 697 4328 969 4595 \nQ 1241 4863 1831 4863 \nL 2375 4863 \nz\n\" transform=\"scale(0.015625)\"/>\n       <path id=\"DejaVuSans-65\" d=\"M 3597 1894 \nL 3597 1613 \nL 953 1613 \nQ 991 1019 1311 708 \nQ 1631 397 2203 397 \nQ 2534 397 2845 478 \nQ 3156 559 3463 722 \nL 3463 178 \nQ 3153 47 2828 -22 \nQ 2503 -91 2169 -91 \nQ 1331 -91 842 396 \nQ 353 884 353 1716 \nQ 353 2575 817 3079 \nQ 1281 3584 2069 3584 \nQ 2775 3584 3186 3129 \nQ 3597 2675 3597 1894 \nz\nM 3022 2063 \nQ 3016 2534 2758 2815 \nQ 2500 3097 2075 3097 \nQ 1594 3097 1305 2825 \nQ 1016 2553 972 2059 \nL 3022 2063 \nz\n\" transform=\"scale(0.015625)\"/>\n       <path id=\"DejaVuSans-6c\" d=\"M 603 4863 \nL 1178 4863 \nL 1178 0 \nL 603 0 \nL 603 4863 \nz\n\" transform=\"scale(0.015625)\"/>\n       <path id=\"DejaVuSans-75\" d=\"M 544 1381 \nL 544 3500 \nL 1119 3500 \nL 1119 1403 \nQ 1119 906 1312 657 \nQ 1506 409 1894 409 \nQ 2359 409 2629 706 \nQ 2900 1003 2900 1516 \nL 2900 3500 \nL 3475 3500 \nL 3475 0 \nL 2900 0 \nL 2900 538 \nQ 2691 219 2414 64 \nQ 2138 -91 1772 -91 \nQ 1169 -91 856 284 \nQ 544 659 544 1381 \nz\nM 1991 3584 \nL 1991 3584 \nz\n\" transform=\"scale(0.015625)\"/>\n      </defs>\n      <use xlink:href=\"#DejaVuSans-67\"/>\n      <use xlink:href=\"#DejaVuSans-72\" x=\"63.476562\"/>\n      <use xlink:href=\"#DejaVuSans-61\" x=\"104.589844\"/>\n      <use xlink:href=\"#DejaVuSans-64\" x=\"165.869141\"/>\n      <use xlink:href=\"#DejaVuSans-20\" x=\"229.345703\"/>\n      <use xlink:href=\"#DejaVuSans-6f\" x=\"261.132812\"/>\n      <use xlink:href=\"#DejaVuSans-66\" x=\"322.314453\"/>\n      <use xlink:href=\"#DejaVuSans-20\" x=\"357.519531\"/>\n      <use xlink:href=\"#DejaVuSans-72\" x=\"389.306641\"/>\n      <use xlink:href=\"#DejaVuSans-65\" x=\"428.169922\"/>\n      <use xlink:href=\"#DejaVuSans-6c\" x=\"489.693359\"/>\n      <use xlink:href=\"#DejaVuSans-75\" x=\"517.476562\"/>\n     </g>\n    </g>\n   </g>\n   <g id=\"line2d_31\">\n    <path d=\"M 56.463068 139.5 \nL 182.483654 139.5 \nL 184.078852 13.5 \nL 310.099432 13.5 \nL 310.099432 13.5 \n\" clip-path=\"url(#p0c7c21766d)\" style=\"fill: none; stroke: #1f77b4; stroke-width: 1.5; stroke-linecap: square\"/>\n   </g>\n   <g id=\"patch_3\">\n    <path d=\"M 43.78125 145.8 \nL 43.78125 7.2 \n\" style=\"fill: none; stroke: #000000; stroke-width: 0.8; stroke-linejoin: miter; stroke-linecap: square\"/>\n   </g>\n   <g id=\"patch_4\">\n    <path d=\"M 322.78125 145.8 \nL 322.78125 7.2 \n\" style=\"fill: none; stroke: #000000; stroke-width: 0.8; stroke-linejoin: miter; stroke-linecap: square\"/>\n   </g>\n   <g id=\"patch_5\">\n    <path d=\"M 43.78125 145.8 \nL 322.78125 145.8 \n\" style=\"fill: none; stroke: #000000; stroke-width: 0.8; stroke-linejoin: miter; stroke-linecap: square\"/>\n   </g>\n   <g id=\"patch_6\">\n    <path d=\"M 43.78125 7.2 \nL 322.78125 7.2 \n\" style=\"fill: none; stroke: #000000; stroke-width: 0.8; stroke-linejoin: miter; stroke-linecap: square\"/>\n   </g>\n  </g>\n </g>\n <defs>\n  <clipPath id=\"p0c7c21766d\">\n   <rect x=\"43.78125\" y=\"7.2\" width=\"279\" height=\"138.6\"/>\n  </clipPath>\n </defs>\n</svg>\n"
          },
          "metadata": {}
        }
      ],
      "source": [
        "y.backward(torch.ones_like(x), retain_graph=True)\n",
        "d2l.plot(x.detach(), x.grad, 'x', 'grad of relu', figsize=(5, 2.5))"
      ]
    },
    {
      "cell_type": "markdown",
      "id": "27673d35",
      "metadata": {
        "id": "27673d35",
        "origin_pos": 16
      },
      "source": [
        "The reason for using ReLU is that\n",
        "its derivatives are particularly well behaved:\n",
        "either they vanish or they just let the argument through.\n",
        "This makes optimization better behaved\n",
        "and it mitigated the well-documented problem\n",
        "of vanishing gradients that plagued\n",
        "previous versions of neural networks (more on this later).\n",
        "\n",
        "Note that there are many variants to the ReLU function,\n",
        "including the *parametrized ReLU* (*pReLU*) function :cite:`He.Zhang.Ren.ea.2015`.\n",
        "This variation adds a linear term to ReLU,\n",
        "so some information still gets through,\n",
        "even when the argument is negative:\n",
        "\n",
        "$$\\operatorname{pReLU}(x) = \\max(0, x) + \\alpha \\min(0, x).$$\n",
        "\n",
        "### Sigmoid Function\n",
        "\n",
        "[**The *sigmoid function* transforms those inputs**]\n",
        "whose values lie in the domain $\\mathbb{R}$,\n",
        "(**to outputs that lie on the interval (0, 1).**)\n",
        "For that reason, the sigmoid is\n",
        "often called a *squashing function*:\n",
        "it squashes any input in the range (-inf, inf)\n",
        "to some value in the range (0, 1):\n",
        "\n",
        "$$\\operatorname{sigmoid}(x) = \\frac{1}{1 + \\exp(-x)}.$$\n",
        "\n",
        "In the earliest neural networks, scientists\n",
        "were interested in modeling biological neurons\n",
        "that either *fire* or *do not fire*.\n",
        "Thus the pioneers of this field,\n",
        "going all the way back to McCulloch and Pitts,\n",
        "the inventors of the artificial neuron,\n",
        "focused on thresholding units :cite:`McCulloch.Pitts.1943`.\n",
        "A thresholding activation takes value 0\n",
        "when its input is below some threshold\n",
        "and value 1 when the input exceeds the threshold.\n",
        "\n",
        "When attention shifted to gradient-based learning,\n",
        "the sigmoid function was a natural choice\n",
        "because it is a smooth, differentiable\n",
        "approximation to a thresholding unit.\n",
        "Sigmoids are still widely used as\n",
        "activation functions on the output units\n",
        "when we want to interpret the outputs as probabilities\n",
        "for binary classification problems: you can think of the sigmoid as a special case of the softmax.\n",
        "However, the sigmoid has largely been replaced\n",
        "by the simpler and more easily trainable ReLU\n",
        "for most use in hidden layers. Much of this has to do\n",
        "with the fact that the sigmoid poses challenges for optimization\n",
        ":cite:`LeCun.Bottou.Orr.ea.1998` since its gradient vanishes for large positive *and* negative arguments.\n",
        "This can lead to plateaus that are difficult to escape from.\n",
        "Nonetheless sigmoids are important. In later chapters (e.g., :numref:`sec_lstm`) on recurrent neural networks,\n",
        "we will describe architectures that leverage sigmoid units\n",
        "to control the flow of information across time.\n",
        "\n",
        "Below, we plot the sigmoid function.\n",
        "Note that when the input is close to 0,\n",
        "the sigmoid function approaches\n",
        "a linear transformation.\n"
      ]
    },
    {
      "cell_type": "code",
      "execution_count": null,
      "id": "f75a16d6",
      "metadata": {
        "execution": {
          "iopub.execute_input": "2023-08-18T19:38:44.563423Z",
          "iopub.status.busy": "2023-08-18T19:38:44.559371Z",
          "iopub.status.idle": "2023-08-18T19:38:44.872663Z",
          "shell.execute_reply": "2023-08-18T19:38:44.870181Z"
        },
        "id": "f75a16d6",
        "origin_pos": 18,
        "outputId": "dac09b22-7125-43ac-8866-a88b03826a68",
        "tab": [
          "pytorch"
        ],
        "colab": {
          "base_uri": "https://localhost:8080/",
          "height": 266
        }
      },
      "outputs": [
        {
          "output_type": "display_data",
          "data": {
            "text/plain": [
              "<Figure size 500x250 with 1 Axes>"
            ],
            "image/svg+xml": "<?xml version=\"1.0\" encoding=\"utf-8\" standalone=\"no\"?>\n<!DOCTYPE svg PUBLIC \"-//W3C//DTD SVG 1.1//EN\"\n  \"http://www.w3.org/Graphics/SVG/1.1/DTD/svg11.dtd\">\n<svg xmlns:xlink=\"http://www.w3.org/1999/xlink\" width=\"329.98125pt\" height=\"183.35625pt\" viewBox=\"0 0 329.98125 183.35625\" xmlns=\"http://www.w3.org/2000/svg\" version=\"1.1\">\n <metadata>\n  <rdf:RDF xmlns:dc=\"http://purl.org/dc/elements/1.1/\" xmlns:cc=\"http://creativecommons.org/ns#\" xmlns:rdf=\"http://www.w3.org/1999/02/22-rdf-syntax-ns#\">\n   <cc:Work>\n    <dc:type rdf:resource=\"http://purl.org/dc/dcmitype/StillImage\"/>\n    <dc:date>2024-09-13T08:32:24.635371</dc:date>\n    <dc:format>image/svg+xml</dc:format>\n    <dc:creator>\n     <cc:Agent>\n      <dc:title>Matplotlib v3.7.2, https://matplotlib.org/</dc:title>\n     </cc:Agent>\n    </dc:creator>\n   </cc:Work>\n  </rdf:RDF>\n </metadata>\n <defs>\n  <style type=\"text/css\">*{stroke-linejoin: round; stroke-linecap: butt}</style>\n </defs>\n <g id=\"figure_1\">\n  <g id=\"patch_1\">\n   <path d=\"M 0 183.35625 \nL 329.98125 183.35625 \nL 329.98125 0 \nL 0 0 \nz\n\" style=\"fill: #ffffff\"/>\n  </g>\n  <g id=\"axes_1\">\n   <g id=\"patch_2\">\n    <path d=\"M 43.78125 145.8 \nL 322.78125 145.8 \nL 322.78125 7.2 \nL 43.78125 7.2 \nz\n\" style=\"fill: #ffffff\"/>\n   </g>\n   <g id=\"matplotlib.axis_1\">\n    <g id=\"xtick_1\">\n     <g id=\"line2d_1\">\n      <path d=\"M 56.463068 145.8 \nL 56.463068 7.2 \n\" clip-path=\"url(#p81a95e3a8b)\" style=\"fill: none; stroke: #b0b0b0; stroke-width: 0.8; stroke-linecap: square\"/>\n     </g>\n     <g id=\"line2d_2\">\n      <defs>\n       <path id=\"m8f689d9af2\" d=\"M 0 0 \nL 0 3.5 \n\" style=\"stroke: #000000; stroke-width: 0.8\"/>\n      </defs>\n      <g>\n       <use xlink:href=\"#m8f689d9af2\" x=\"56.463068\" y=\"145.8\" style=\"stroke: #000000; stroke-width: 0.8\"/>\n      </g>\n     </g>\n     <g id=\"text_1\">\n      <!-- −8 -->\n      <g transform=\"translate(49.091974 160.398438) scale(0.1 -0.1)\">\n       <defs>\n        <path id=\"DejaVuSans-2212\" d=\"M 678 2272 \nL 4684 2272 \nL 4684 1741 \nL 678 1741 \nL 678 2272 \nz\n\" transform=\"scale(0.015625)\"/>\n        <path id=\"DejaVuSans-38\" d=\"M 2034 2216 \nQ 1584 2216 1326 1975 \nQ 1069 1734 1069 1313 \nQ 1069 891 1326 650 \nQ 1584 409 2034 409 \nQ 2484 409 2743 651 \nQ 3003 894 3003 1313 \nQ 3003 1734 2745 1975 \nQ 2488 2216 2034 2216 \nz\nM 1403 2484 \nQ 997 2584 770 2862 \nQ 544 3141 544 3541 \nQ 544 4100 942 4425 \nQ 1341 4750 2034 4750 \nQ 2731 4750 3128 4425 \nQ 3525 4100 3525 3541 \nQ 3525 3141 3298 2862 \nQ 3072 2584 2669 2484 \nQ 3125 2378 3379 2068 \nQ 3634 1759 3634 1313 \nQ 3634 634 3220 271 \nQ 2806 -91 2034 -91 \nQ 1263 -91 848 271 \nQ 434 634 434 1313 \nQ 434 1759 690 2068 \nQ 947 2378 1403 2484 \nz\nM 1172 3481 \nQ 1172 3119 1398 2916 \nQ 1625 2713 2034 2713 \nQ 2441 2713 2670 2916 \nQ 2900 3119 2900 3481 \nQ 2900 3844 2670 4047 \nQ 2441 4250 2034 4250 \nQ 1625 4250 1398 4047 \nQ 1172 3844 1172 3481 \nz\n\" transform=\"scale(0.015625)\"/>\n       </defs>\n       <use xlink:href=\"#DejaVuSans-2212\"/>\n       <use xlink:href=\"#DejaVuSans-38\" x=\"83.789062\"/>\n      </g>\n     </g>\n    </g>\n    <g id=\"xtick_2\">\n     <g id=\"line2d_3\">\n      <path d=\"M 88.367014 145.8 \nL 88.367014 7.2 \n\" clip-path=\"url(#p81a95e3a8b)\" style=\"fill: none; stroke: #b0b0b0; stroke-width: 0.8; stroke-linecap: square\"/>\n     </g>\n     <g id=\"line2d_4\">\n      <g>\n       <use xlink:href=\"#m8f689d9af2\" x=\"88.367014\" y=\"145.8\" style=\"stroke: #000000; stroke-width: 0.8\"/>\n      </g>\n     </g>\n     <g id=\"text_2\">\n      <!-- −6 -->\n      <g transform=\"translate(80.99592 160.398438) scale(0.1 -0.1)\">\n       <defs>\n        <path id=\"DejaVuSans-36\" d=\"M 2113 2584 \nQ 1688 2584 1439 2293 \nQ 1191 2003 1191 1497 \nQ 1191 994 1439 701 \nQ 1688 409 2113 409 \nQ 2538 409 2786 701 \nQ 3034 994 3034 1497 \nQ 3034 2003 2786 2293 \nQ 2538 2584 2113 2584 \nz\nM 3366 4563 \nL 3366 3988 \nQ 3128 4100 2886 4159 \nQ 2644 4219 2406 4219 \nQ 1781 4219 1451 3797 \nQ 1122 3375 1075 2522 \nQ 1259 2794 1537 2939 \nQ 1816 3084 2150 3084 \nQ 2853 3084 3261 2657 \nQ 3669 2231 3669 1497 \nQ 3669 778 3244 343 \nQ 2819 -91 2113 -91 \nQ 1303 -91 875 529 \nQ 447 1150 447 2328 \nQ 447 3434 972 4092 \nQ 1497 4750 2381 4750 \nQ 2619 4750 2861 4703 \nQ 3103 4656 3366 4563 \nz\n\" transform=\"scale(0.015625)\"/>\n       </defs>\n       <use xlink:href=\"#DejaVuSans-2212\"/>\n       <use xlink:href=\"#DejaVuSans-36\" x=\"83.789062\"/>\n      </g>\n     </g>\n    </g>\n    <g id=\"xtick_3\">\n     <g id=\"line2d_5\">\n      <path d=\"M 120.27096 145.8 \nL 120.27096 7.2 \n\" clip-path=\"url(#p81a95e3a8b)\" style=\"fill: none; stroke: #b0b0b0; stroke-width: 0.8; stroke-linecap: square\"/>\n     </g>\n     <g id=\"line2d_6\">\n      <g>\n       <use xlink:href=\"#m8f689d9af2\" x=\"120.27096\" y=\"145.8\" style=\"stroke: #000000; stroke-width: 0.8\"/>\n      </g>\n     </g>\n     <g id=\"text_3\">\n      <!-- −4 -->\n      <g transform=\"translate(112.899866 160.398438) scale(0.1 -0.1)\">\n       <defs>\n        <path id=\"DejaVuSans-34\" d=\"M 2419 4116 \nL 825 1625 \nL 2419 1625 \nL 2419 4116 \nz\nM 2253 4666 \nL 3047 4666 \nL 3047 1625 \nL 3713 1625 \nL 3713 1100 \nL 3047 1100 \nL 3047 0 \nL 2419 0 \nL 2419 1100 \nL 313 1100 \nL 313 1709 \nL 2253 4666 \nz\n\" transform=\"scale(0.015625)\"/>\n       </defs>\n       <use xlink:href=\"#DejaVuSans-2212\"/>\n       <use xlink:href=\"#DejaVuSans-34\" x=\"83.789062\"/>\n      </g>\n     </g>\n    </g>\n    <g id=\"xtick_4\">\n     <g id=\"line2d_7\">\n      <path d=\"M 152.174906 145.8 \nL 152.174906 7.2 \n\" clip-path=\"url(#p81a95e3a8b)\" style=\"fill: none; stroke: #b0b0b0; stroke-width: 0.8; stroke-linecap: square\"/>\n     </g>\n     <g id=\"line2d_8\">\n      <g>\n       <use xlink:href=\"#m8f689d9af2\" x=\"152.174906\" y=\"145.8\" style=\"stroke: #000000; stroke-width: 0.8\"/>\n      </g>\n     </g>\n     <g id=\"text_4\">\n      <!-- −2 -->\n      <g transform=\"translate(144.803812 160.398438) scale(0.1 -0.1)\">\n       <defs>\n        <path id=\"DejaVuSans-32\" d=\"M 1228 531 \nL 3431 531 \nL 3431 0 \nL 469 0 \nL 469 531 \nQ 828 903 1448 1529 \nQ 2069 2156 2228 2338 \nQ 2531 2678 2651 2914 \nQ 2772 3150 2772 3378 \nQ 2772 3750 2511 3984 \nQ 2250 4219 1831 4219 \nQ 1534 4219 1204 4116 \nQ 875 4013 500 3803 \nL 500 4441 \nQ 881 4594 1212 4672 \nQ 1544 4750 1819 4750 \nQ 2544 4750 2975 4387 \nQ 3406 4025 3406 3419 \nQ 3406 3131 3298 2873 \nQ 3191 2616 2906 2266 \nQ 2828 2175 2409 1742 \nQ 1991 1309 1228 531 \nz\n\" transform=\"scale(0.015625)\"/>\n       </defs>\n       <use xlink:href=\"#DejaVuSans-2212\"/>\n       <use xlink:href=\"#DejaVuSans-32\" x=\"83.789062\"/>\n      </g>\n     </g>\n    </g>\n    <g id=\"xtick_5\">\n     <g id=\"line2d_9\">\n      <path d=\"M 184.078852 145.8 \nL 184.078852 7.2 \n\" clip-path=\"url(#p81a95e3a8b)\" style=\"fill: none; stroke: #b0b0b0; stroke-width: 0.8; stroke-linecap: square\"/>\n     </g>\n     <g id=\"line2d_10\">\n      <g>\n       <use xlink:href=\"#m8f689d9af2\" x=\"184.078852\" y=\"145.8\" style=\"stroke: #000000; stroke-width: 0.8\"/>\n      </g>\n     </g>\n     <g id=\"text_5\">\n      <!-- 0 -->\n      <g transform=\"translate(180.897602 160.398438) scale(0.1 -0.1)\">\n       <defs>\n        <path id=\"DejaVuSans-30\" d=\"M 2034 4250 \nQ 1547 4250 1301 3770 \nQ 1056 3291 1056 2328 \nQ 1056 1369 1301 889 \nQ 1547 409 2034 409 \nQ 2525 409 2770 889 \nQ 3016 1369 3016 2328 \nQ 3016 3291 2770 3770 \nQ 2525 4250 2034 4250 \nz\nM 2034 4750 \nQ 2819 4750 3233 4129 \nQ 3647 3509 3647 2328 \nQ 3647 1150 3233 529 \nQ 2819 -91 2034 -91 \nQ 1250 -91 836 529 \nQ 422 1150 422 2328 \nQ 422 3509 836 4129 \nQ 1250 4750 2034 4750 \nz\n\" transform=\"scale(0.015625)\"/>\n       </defs>\n       <use xlink:href=\"#DejaVuSans-30\"/>\n      </g>\n     </g>\n    </g>\n    <g id=\"xtick_6\">\n     <g id=\"line2d_11\">\n      <path d=\"M 215.982798 145.8 \nL 215.982798 7.2 \n\" clip-path=\"url(#p81a95e3a8b)\" style=\"fill: none; stroke: #b0b0b0; stroke-width: 0.8; stroke-linecap: square\"/>\n     </g>\n     <g id=\"line2d_12\">\n      <g>\n       <use xlink:href=\"#m8f689d9af2\" x=\"215.982798\" y=\"145.8\" style=\"stroke: #000000; stroke-width: 0.8\"/>\n      </g>\n     </g>\n     <g id=\"text_6\">\n      <!-- 2 -->\n      <g transform=\"translate(212.801548 160.398438) scale(0.1 -0.1)\">\n       <use xlink:href=\"#DejaVuSans-32\"/>\n      </g>\n     </g>\n    </g>\n    <g id=\"xtick_7\">\n     <g id=\"line2d_13\">\n      <path d=\"M 247.886743 145.8 \nL 247.886743 7.2 \n\" clip-path=\"url(#p81a95e3a8b)\" style=\"fill: none; stroke: #b0b0b0; stroke-width: 0.8; stroke-linecap: square\"/>\n     </g>\n     <g id=\"line2d_14\">\n      <g>\n       <use xlink:href=\"#m8f689d9af2\" x=\"247.886743\" y=\"145.8\" style=\"stroke: #000000; stroke-width: 0.8\"/>\n      </g>\n     </g>\n     <g id=\"text_7\">\n      <!-- 4 -->\n      <g transform=\"translate(244.705493 160.398438) scale(0.1 -0.1)\">\n       <use xlink:href=\"#DejaVuSans-34\"/>\n      </g>\n     </g>\n    </g>\n    <g id=\"xtick_8\">\n     <g id=\"line2d_15\">\n      <path d=\"M 279.790689 145.8 \nL 279.790689 7.2 \n\" clip-path=\"url(#p81a95e3a8b)\" style=\"fill: none; stroke: #b0b0b0; stroke-width: 0.8; stroke-linecap: square\"/>\n     </g>\n     <g id=\"line2d_16\">\n      <g>\n       <use xlink:href=\"#m8f689d9af2\" x=\"279.790689\" y=\"145.8\" style=\"stroke: #000000; stroke-width: 0.8\"/>\n      </g>\n     </g>\n     <g id=\"text_8\">\n      <!-- 6 -->\n      <g transform=\"translate(276.609439 160.398438) scale(0.1 -0.1)\">\n       <use xlink:href=\"#DejaVuSans-36\"/>\n      </g>\n     </g>\n    </g>\n    <g id=\"xtick_9\">\n     <g id=\"line2d_17\">\n      <path d=\"M 311.694635 145.8 \nL 311.694635 7.2 \n\" clip-path=\"url(#p81a95e3a8b)\" style=\"fill: none; stroke: #b0b0b0; stroke-width: 0.8; stroke-linecap: square\"/>\n     </g>\n     <g id=\"line2d_18\">\n      <g>\n       <use xlink:href=\"#m8f689d9af2\" x=\"311.694635\" y=\"145.8\" style=\"stroke: #000000; stroke-width: 0.8\"/>\n      </g>\n     </g>\n     <g id=\"text_9\">\n      <!-- 8 -->\n      <g transform=\"translate(308.513385 160.398438) scale(0.1 -0.1)\">\n       <use xlink:href=\"#DejaVuSans-38\"/>\n      </g>\n     </g>\n    </g>\n    <g id=\"text_10\">\n     <!-- x -->\n     <g transform=\"translate(180.321875 174.076563) scale(0.1 -0.1)\">\n      <defs>\n       <path id=\"DejaVuSans-78\" d=\"M 3513 3500 \nL 2247 1797 \nL 3578 0 \nL 2900 0 \nL 1881 1375 \nL 863 0 \nL 184 0 \nL 1544 1831 \nL 300 3500 \nL 978 3500 \nL 1906 2253 \nL 2834 3500 \nL 3513 3500 \nz\n\" transform=\"scale(0.015625)\"/>\n      </defs>\n      <use xlink:href=\"#DejaVuSans-78\"/>\n     </g>\n    </g>\n   </g>\n   <g id=\"matplotlib.axis_2\">\n    <g id=\"ytick_1\">\n     <g id=\"line2d_19\">\n      <path d=\"M 43.78125 139.542284 \nL 322.78125 139.542284 \n\" clip-path=\"url(#p81a95e3a8b)\" style=\"fill: none; stroke: #b0b0b0; stroke-width: 0.8; stroke-linecap: square\"/>\n     </g>\n     <g id=\"line2d_20\">\n      <defs>\n       <path id=\"m5e1c4254ad\" d=\"M 0 0 \nL -3.5 0 \n\" style=\"stroke: #000000; stroke-width: 0.8\"/>\n      </defs>\n      <g>\n       <use xlink:href=\"#m5e1c4254ad\" x=\"43.78125\" y=\"139.542284\" style=\"stroke: #000000; stroke-width: 0.8\"/>\n      </g>\n     </g>\n     <g id=\"text_11\">\n      <!-- 0.0 -->\n      <g transform=\"translate(20.878125 143.341503) scale(0.1 -0.1)\">\n       <defs>\n        <path id=\"DejaVuSans-2e\" d=\"M 684 794 \nL 1344 794 \nL 1344 0 \nL 684 0 \nL 684 794 \nz\n\" transform=\"scale(0.015625)\"/>\n       </defs>\n       <use xlink:href=\"#DejaVuSans-30\"/>\n       <use xlink:href=\"#DejaVuSans-2e\" x=\"63.623047\"/>\n       <use xlink:href=\"#DejaVuSans-30\" x=\"95.410156\"/>\n      </g>\n     </g>\n    </g>\n    <g id=\"ytick_2\">\n     <g id=\"line2d_21\">\n      <path d=\"M 43.78125 114.324481 \nL 322.78125 114.324481 \n\" clip-path=\"url(#p81a95e3a8b)\" style=\"fill: none; stroke: #b0b0b0; stroke-width: 0.8; stroke-linecap: square\"/>\n     </g>\n     <g id=\"line2d_22\">\n      <g>\n       <use xlink:href=\"#m5e1c4254ad\" x=\"43.78125\" y=\"114.324481\" style=\"stroke: #000000; stroke-width: 0.8\"/>\n      </g>\n     </g>\n     <g id=\"text_12\">\n      <!-- 0.2 -->\n      <g transform=\"translate(20.878125 118.1237) scale(0.1 -0.1)\">\n       <use xlink:href=\"#DejaVuSans-30\"/>\n       <use xlink:href=\"#DejaVuSans-2e\" x=\"63.623047\"/>\n       <use xlink:href=\"#DejaVuSans-32\" x=\"95.410156\"/>\n      </g>\n     </g>\n    </g>\n    <g id=\"ytick_3\">\n     <g id=\"line2d_23\">\n      <path d=\"M 43.78125 89.106678 \nL 322.78125 89.106678 \n\" clip-path=\"url(#p81a95e3a8b)\" style=\"fill: none; stroke: #b0b0b0; stroke-width: 0.8; stroke-linecap: square\"/>\n     </g>\n     <g id=\"line2d_24\">\n      <g>\n       <use xlink:href=\"#m5e1c4254ad\" x=\"43.78125\" y=\"89.106678\" style=\"stroke: #000000; stroke-width: 0.8\"/>\n      </g>\n     </g>\n     <g id=\"text_13\">\n      <!-- 0.4 -->\n      <g transform=\"translate(20.878125 92.905897) scale(0.1 -0.1)\">\n       <use xlink:href=\"#DejaVuSans-30\"/>\n       <use xlink:href=\"#DejaVuSans-2e\" x=\"63.623047\"/>\n       <use xlink:href=\"#DejaVuSans-34\" x=\"95.410156\"/>\n      </g>\n     </g>\n    </g>\n    <g id=\"ytick_4\">\n     <g id=\"line2d_25\">\n      <path d=\"M 43.78125 63.888875 \nL 322.78125 63.888875 \n\" clip-path=\"url(#p81a95e3a8b)\" style=\"fill: none; stroke: #b0b0b0; stroke-width: 0.8; stroke-linecap: square\"/>\n     </g>\n     <g id=\"line2d_26\">\n      <g>\n       <use xlink:href=\"#m5e1c4254ad\" x=\"43.78125\" y=\"63.888875\" style=\"stroke: #000000; stroke-width: 0.8\"/>\n      </g>\n     </g>\n     <g id=\"text_14\">\n      <!-- 0.6 -->\n      <g transform=\"translate(20.878125 67.688094) scale(0.1 -0.1)\">\n       <use xlink:href=\"#DejaVuSans-30\"/>\n       <use xlink:href=\"#DejaVuSans-2e\" x=\"63.623047\"/>\n       <use xlink:href=\"#DejaVuSans-36\" x=\"95.410156\"/>\n      </g>\n     </g>\n    </g>\n    <g id=\"ytick_5\">\n     <g id=\"line2d_27\">\n      <path d=\"M 43.78125 38.671072 \nL 322.78125 38.671072 \n\" clip-path=\"url(#p81a95e3a8b)\" style=\"fill: none; stroke: #b0b0b0; stroke-width: 0.8; stroke-linecap: square\"/>\n     </g>\n     <g id=\"line2d_28\">\n      <g>\n       <use xlink:href=\"#m5e1c4254ad\" x=\"43.78125\" y=\"38.671072\" style=\"stroke: #000000; stroke-width: 0.8\"/>\n      </g>\n     </g>\n     <g id=\"text_15\">\n      <!-- 0.8 -->\n      <g transform=\"translate(20.878125 42.47029) scale(0.1 -0.1)\">\n       <use xlink:href=\"#DejaVuSans-30\"/>\n       <use xlink:href=\"#DejaVuSans-2e\" x=\"63.623047\"/>\n       <use xlink:href=\"#DejaVuSans-38\" x=\"95.410156\"/>\n      </g>\n     </g>\n    </g>\n    <g id=\"ytick_6\">\n     <g id=\"line2d_29\">\n      <path d=\"M 43.78125 13.453269 \nL 322.78125 13.453269 \n\" clip-path=\"url(#p81a95e3a8b)\" style=\"fill: none; stroke: #b0b0b0; stroke-width: 0.8; stroke-linecap: square\"/>\n     </g>\n     <g id=\"line2d_30\">\n      <g>\n       <use xlink:href=\"#m5e1c4254ad\" x=\"43.78125\" y=\"13.453269\" style=\"stroke: #000000; stroke-width: 0.8\"/>\n      </g>\n     </g>\n     <g id=\"text_16\">\n      <!-- 1.0 -->\n      <g transform=\"translate(20.878125 17.252487) scale(0.1 -0.1)\">\n       <defs>\n        <path id=\"DejaVuSans-31\" d=\"M 794 531 \nL 1825 531 \nL 1825 4091 \nL 703 3866 \nL 703 4441 \nL 1819 4666 \nL 2450 4666 \nL 2450 531 \nL 3481 531 \nL 3481 0 \nL 794 0 \nL 794 531 \nz\n\" transform=\"scale(0.015625)\"/>\n       </defs>\n       <use xlink:href=\"#DejaVuSans-31\"/>\n       <use xlink:href=\"#DejaVuSans-2e\" x=\"63.623047\"/>\n       <use xlink:href=\"#DejaVuSans-30\" x=\"95.410156\"/>\n      </g>\n     </g>\n    </g>\n    <g id=\"text_17\">\n     <!-- sigmoid(x) -->\n     <g transform=\"translate(14.798438 103.021875) rotate(-90) scale(0.1 -0.1)\">\n      <defs>\n       <path id=\"DejaVuSans-73\" d=\"M 2834 3397 \nL 2834 2853 \nQ 2591 2978 2328 3040 \nQ 2066 3103 1784 3103 \nQ 1356 3103 1142 2972 \nQ 928 2841 928 2578 \nQ 928 2378 1081 2264 \nQ 1234 2150 1697 2047 \nL 1894 2003 \nQ 2506 1872 2764 1633 \nQ 3022 1394 3022 966 \nQ 3022 478 2636 193 \nQ 2250 -91 1575 -91 \nQ 1294 -91 989 -36 \nQ 684 19 347 128 \nL 347 722 \nQ 666 556 975 473 \nQ 1284 391 1588 391 \nQ 1994 391 2212 530 \nQ 2431 669 2431 922 \nQ 2431 1156 2273 1281 \nQ 2116 1406 1581 1522 \nL 1381 1569 \nQ 847 1681 609 1914 \nQ 372 2147 372 2553 \nQ 372 3047 722 3315 \nQ 1072 3584 1716 3584 \nQ 2034 3584 2315 3537 \nQ 2597 3491 2834 3397 \nz\n\" transform=\"scale(0.015625)\"/>\n       <path id=\"DejaVuSans-69\" d=\"M 603 3500 \nL 1178 3500 \nL 1178 0 \nL 603 0 \nL 603 3500 \nz\nM 603 4863 \nL 1178 4863 \nL 1178 4134 \nL 603 4134 \nL 603 4863 \nz\n\" transform=\"scale(0.015625)\"/>\n       <path id=\"DejaVuSans-67\" d=\"M 2906 1791 \nQ 2906 2416 2648 2759 \nQ 2391 3103 1925 3103 \nQ 1463 3103 1205 2759 \nQ 947 2416 947 1791 \nQ 947 1169 1205 825 \nQ 1463 481 1925 481 \nQ 2391 481 2648 825 \nQ 2906 1169 2906 1791 \nz\nM 3481 434 \nQ 3481 -459 3084 -895 \nQ 2688 -1331 1869 -1331 \nQ 1566 -1331 1297 -1286 \nQ 1028 -1241 775 -1147 \nL 775 -588 \nQ 1028 -725 1275 -790 \nQ 1522 -856 1778 -856 \nQ 2344 -856 2625 -561 \nQ 2906 -266 2906 331 \nL 2906 616 \nQ 2728 306 2450 153 \nQ 2172 0 1784 0 \nQ 1141 0 747 490 \nQ 353 981 353 1791 \nQ 353 2603 747 3093 \nQ 1141 3584 1784 3584 \nQ 2172 3584 2450 3431 \nQ 2728 3278 2906 2969 \nL 2906 3500 \nL 3481 3500 \nL 3481 434 \nz\n\" transform=\"scale(0.015625)\"/>\n       <path id=\"DejaVuSans-6d\" d=\"M 3328 2828 \nQ 3544 3216 3844 3400 \nQ 4144 3584 4550 3584 \nQ 5097 3584 5394 3201 \nQ 5691 2819 5691 2113 \nL 5691 0 \nL 5113 0 \nL 5113 2094 \nQ 5113 2597 4934 2840 \nQ 4756 3084 4391 3084 \nQ 3944 3084 3684 2787 \nQ 3425 2491 3425 1978 \nL 3425 0 \nL 2847 0 \nL 2847 2094 \nQ 2847 2600 2669 2842 \nQ 2491 3084 2119 3084 \nQ 1678 3084 1418 2786 \nQ 1159 2488 1159 1978 \nL 1159 0 \nL 581 0 \nL 581 3500 \nL 1159 3500 \nL 1159 2956 \nQ 1356 3278 1631 3431 \nQ 1906 3584 2284 3584 \nQ 2666 3584 2933 3390 \nQ 3200 3197 3328 2828 \nz\n\" transform=\"scale(0.015625)\"/>\n       <path id=\"DejaVuSans-6f\" d=\"M 1959 3097 \nQ 1497 3097 1228 2736 \nQ 959 2375 959 1747 \nQ 959 1119 1226 758 \nQ 1494 397 1959 397 \nQ 2419 397 2687 759 \nQ 2956 1122 2956 1747 \nQ 2956 2369 2687 2733 \nQ 2419 3097 1959 3097 \nz\nM 1959 3584 \nQ 2709 3584 3137 3096 \nQ 3566 2609 3566 1747 \nQ 3566 888 3137 398 \nQ 2709 -91 1959 -91 \nQ 1206 -91 779 398 \nQ 353 888 353 1747 \nQ 353 2609 779 3096 \nQ 1206 3584 1959 3584 \nz\n\" transform=\"scale(0.015625)\"/>\n       <path id=\"DejaVuSans-64\" d=\"M 2906 2969 \nL 2906 4863 \nL 3481 4863 \nL 3481 0 \nL 2906 0 \nL 2906 525 \nQ 2725 213 2448 61 \nQ 2172 -91 1784 -91 \nQ 1150 -91 751 415 \nQ 353 922 353 1747 \nQ 353 2572 751 3078 \nQ 1150 3584 1784 3584 \nQ 2172 3584 2448 3432 \nQ 2725 3281 2906 2969 \nz\nM 947 1747 \nQ 947 1113 1208 752 \nQ 1469 391 1925 391 \nQ 2381 391 2643 752 \nQ 2906 1113 2906 1747 \nQ 2906 2381 2643 2742 \nQ 2381 3103 1925 3103 \nQ 1469 3103 1208 2742 \nQ 947 2381 947 1747 \nz\n\" transform=\"scale(0.015625)\"/>\n       <path id=\"DejaVuSans-28\" d=\"M 1984 4856 \nQ 1566 4138 1362 3434 \nQ 1159 2731 1159 2009 \nQ 1159 1288 1364 580 \nQ 1569 -128 1984 -844 \nL 1484 -844 \nQ 1016 -109 783 600 \nQ 550 1309 550 2009 \nQ 550 2706 781 3412 \nQ 1013 4119 1484 4856 \nL 1984 4856 \nz\n\" transform=\"scale(0.015625)\"/>\n       <path id=\"DejaVuSans-29\" d=\"M 513 4856 \nL 1013 4856 \nQ 1481 4119 1714 3412 \nQ 1947 2706 1947 2009 \nQ 1947 1309 1714 600 \nQ 1481 -109 1013 -844 \nL 513 -844 \nQ 928 -128 1133 580 \nQ 1338 1288 1338 2009 \nQ 1338 2731 1133 3434 \nQ 928 4138 513 4856 \nz\n\" transform=\"scale(0.015625)\"/>\n      </defs>\n      <use xlink:href=\"#DejaVuSans-73\"/>\n      <use xlink:href=\"#DejaVuSans-69\" x=\"52.099609\"/>\n      <use xlink:href=\"#DejaVuSans-67\" x=\"79.882812\"/>\n      <use xlink:href=\"#DejaVuSans-6d\" x=\"143.359375\"/>\n      <use xlink:href=\"#DejaVuSans-6f\" x=\"240.771484\"/>\n      <use xlink:href=\"#DejaVuSans-69\" x=\"301.953125\"/>\n      <use xlink:href=\"#DejaVuSans-64\" x=\"329.736328\"/>\n      <use xlink:href=\"#DejaVuSans-28\" x=\"393.212891\"/>\n      <use xlink:href=\"#DejaVuSans-78\" x=\"432.226562\"/>\n      <use xlink:href=\"#DejaVuSans-29\" x=\"491.40625\"/>\n     </g>\n    </g>\n   </g>\n   <g id=\"line2d_31\">\n    <path d=\"M 56.463068 139.5 \nL 81.986223 139.333127 \nL 96.343001 139.029084 \nL 105.914183 138.610292 \nL 113.890169 138.013022 \nL 120.27096 137.27442 \nL 125.056551 136.500132 \nL 129.842142 135.470181 \nL 133.032538 134.603917 \nL 136.222933 133.562402 \nL 139.413328 132.314335 \nL 142.60372 130.82469 \nL 145.794115 129.055121 \nL 148.98451 126.964844 \nL 152.174906 124.512105 \nL 155.365299 121.656424 \nL 158.555695 118.361648 \nL 161.74609 114.599846 \nL 164.936483 110.355802 \nL 168.126879 105.631724 \nL 171.317273 100.451472 \nL 174.507668 94.863434 \nL 179.29326 85.884159 \nL 193.650036 58.132118 \nL 196.84043 52.54408 \nL 200.030825 47.363825 \nL 203.22122 42.639745 \nL 206.411613 38.395703 \nL 209.602009 34.633906 \nL 212.792404 31.339138 \nL 215.982798 28.483454 \nL 219.173193 26.030706 \nL 222.363588 23.94043 \nL 225.553984 22.170862 \nL 228.744379 20.681217 \nL 231.934771 19.433149 \nL 235.125166 18.391638 \nL 238.315561 17.525365 \nL 243.101152 16.495419 \nL 247.886743 15.721136 \nL 254.267534 14.982536 \nL 260.648325 14.482478 \nL 268.624311 14.079535 \nL 279.790689 13.765034 \nL 295.742662 13.568135 \nL 310.099432 13.5 \nL 310.099432 13.5 \n\" clip-path=\"url(#p81a95e3a8b)\" style=\"fill: none; stroke: #1f77b4; stroke-width: 1.5; stroke-linecap: square\"/>\n   </g>\n   <g id=\"patch_3\">\n    <path d=\"M 43.78125 145.8 \nL 43.78125 7.2 \n\" style=\"fill: none; stroke: #000000; stroke-width: 0.8; stroke-linejoin: miter; stroke-linecap: square\"/>\n   </g>\n   <g id=\"patch_4\">\n    <path d=\"M 322.78125 145.8 \nL 322.78125 7.2 \n\" style=\"fill: none; stroke: #000000; stroke-width: 0.8; stroke-linejoin: miter; stroke-linecap: square\"/>\n   </g>\n   <g id=\"patch_5\">\n    <path d=\"M 43.78125 145.8 \nL 322.78125 145.8 \n\" style=\"fill: none; stroke: #000000; stroke-width: 0.8; stroke-linejoin: miter; stroke-linecap: square\"/>\n   </g>\n   <g id=\"patch_6\">\n    <path d=\"M 43.78125 7.2 \nL 322.78125 7.2 \n\" style=\"fill: none; stroke: #000000; stroke-width: 0.8; stroke-linejoin: miter; stroke-linecap: square\"/>\n   </g>\n  </g>\n </g>\n <defs>\n  <clipPath id=\"p81a95e3a8b\">\n   <rect x=\"43.78125\" y=\"7.2\" width=\"279\" height=\"138.6\"/>\n  </clipPath>\n </defs>\n</svg>\n"
          },
          "metadata": {}
        }
      ],
      "source": [
        "y = torch.sigmoid(x)\n",
        "d2l.plot(x.detach(), y.detach(), 'x', 'sigmoid(x)', figsize=(5, 2.5))"
      ]
    },
    {
      "cell_type": "markdown",
      "id": "bae860f1",
      "metadata": {
        "id": "bae860f1",
        "origin_pos": 21
      },
      "source": [
        "The derivative of the sigmoid function is given by the following equation:\n",
        "\n",
        "$$\\frac{d}{dx} \\operatorname{sigmoid}(x) = \\frac{\\exp(-x)}{(1 + \\exp(-x))^2} = \\operatorname{sigmoid}(x)\\left(1-\\operatorname{sigmoid}(x)\\right).$$\n",
        "\n",
        "\n",
        "The derivative of the sigmoid function is plotted below.\n",
        "Note that when the input is 0,\n",
        "the derivative of the sigmoid function\n",
        "reaches a maximum of 0.25.\n",
        "As the input diverges from 0 in either direction,\n",
        "the derivative approaches 0.\n"
      ]
    },
    {
      "cell_type": "code",
      "execution_count": null,
      "id": "c4cc9493",
      "metadata": {
        "execution": {
          "iopub.execute_input": "2023-08-18T19:38:44.878332Z",
          "iopub.status.busy": "2023-08-18T19:38:44.877535Z",
          "iopub.status.idle": "2023-08-18T19:38:45.347828Z",
          "shell.execute_reply": "2023-08-18T19:38:45.346820Z"
        },
        "id": "c4cc9493",
        "origin_pos": 23,
        "outputId": "09d805c7-f5e8-44d4-c520-51ab697ab368",
        "tab": [
          "pytorch"
        ],
        "colab": {
          "base_uri": "https://localhost:8080/",
          "height": 266
        }
      },
      "outputs": [
        {
          "output_type": "display_data",
          "data": {
            "text/plain": [
              "<Figure size 500x250 with 1 Axes>"
            ],
            "image/svg+xml": "<?xml version=\"1.0\" encoding=\"utf-8\" standalone=\"no\"?>\n<!DOCTYPE svg PUBLIC \"-//W3C//DTD SVG 1.1//EN\"\n  \"http://www.w3.org/Graphics/SVG/1.1/DTD/svg11.dtd\">\n<svg xmlns:xlink=\"http://www.w3.org/1999/xlink\" width=\"336.34375pt\" height=\"183.35625pt\" viewBox=\"0 0 336.34375 183.35625\" xmlns=\"http://www.w3.org/2000/svg\" version=\"1.1\">\n <metadata>\n  <rdf:RDF xmlns:dc=\"http://purl.org/dc/elements/1.1/\" xmlns:cc=\"http://creativecommons.org/ns#\" xmlns:rdf=\"http://www.w3.org/1999/02/22-rdf-syntax-ns#\">\n   <cc:Work>\n    <dc:type rdf:resource=\"http://purl.org/dc/dcmitype/StillImage\"/>\n    <dc:date>2024-09-13T08:32:25.149577</dc:date>\n    <dc:format>image/svg+xml</dc:format>\n    <dc:creator>\n     <cc:Agent>\n      <dc:title>Matplotlib v3.7.2, https://matplotlib.org/</dc:title>\n     </cc:Agent>\n    </dc:creator>\n   </cc:Work>\n  </rdf:RDF>\n </metadata>\n <defs>\n  <style type=\"text/css\">*{stroke-linejoin: round; stroke-linecap: butt}</style>\n </defs>\n <g id=\"figure_1\">\n  <g id=\"patch_1\">\n   <path d=\"M 0 183.35625 \nL 336.34375 183.35625 \nL 336.34375 0 \nL 0 0 \nz\n\" style=\"fill: #ffffff\"/>\n  </g>\n  <g id=\"axes_1\">\n   <g id=\"patch_2\">\n    <path d=\"M 50.14375 145.8 \nL 329.14375 145.8 \nL 329.14375 7.2 \nL 50.14375 7.2 \nz\n\" style=\"fill: #ffffff\"/>\n   </g>\n   <g id=\"matplotlib.axis_1\">\n    <g id=\"xtick_1\">\n     <g id=\"line2d_1\">\n      <path d=\"M 62.825568 145.8 \nL 62.825568 7.2 \n\" clip-path=\"url(#pd75f762992)\" style=\"fill: none; stroke: #b0b0b0; stroke-width: 0.8; stroke-linecap: square\"/>\n     </g>\n     <g id=\"line2d_2\">\n      <defs>\n       <path id=\"m5fa5007340\" d=\"M 0 0 \nL 0 3.5 \n\" style=\"stroke: #000000; stroke-width: 0.8\"/>\n      </defs>\n      <g>\n       <use xlink:href=\"#m5fa5007340\" x=\"62.825568\" y=\"145.8\" style=\"stroke: #000000; stroke-width: 0.8\"/>\n      </g>\n     </g>\n     <g id=\"text_1\">\n      <!-- −8 -->\n      <g transform=\"translate(55.454474 160.398438) scale(0.1 -0.1)\">\n       <defs>\n        <path id=\"DejaVuSans-2212\" d=\"M 678 2272 \nL 4684 2272 \nL 4684 1741 \nL 678 1741 \nL 678 2272 \nz\n\" transform=\"scale(0.015625)\"/>\n        <path id=\"DejaVuSans-38\" d=\"M 2034 2216 \nQ 1584 2216 1326 1975 \nQ 1069 1734 1069 1313 \nQ 1069 891 1326 650 \nQ 1584 409 2034 409 \nQ 2484 409 2743 651 \nQ 3003 894 3003 1313 \nQ 3003 1734 2745 1975 \nQ 2488 2216 2034 2216 \nz\nM 1403 2484 \nQ 997 2584 770 2862 \nQ 544 3141 544 3541 \nQ 544 4100 942 4425 \nQ 1341 4750 2034 4750 \nQ 2731 4750 3128 4425 \nQ 3525 4100 3525 3541 \nQ 3525 3141 3298 2862 \nQ 3072 2584 2669 2484 \nQ 3125 2378 3379 2068 \nQ 3634 1759 3634 1313 \nQ 3634 634 3220 271 \nQ 2806 -91 2034 -91 \nQ 1263 -91 848 271 \nQ 434 634 434 1313 \nQ 434 1759 690 2068 \nQ 947 2378 1403 2484 \nz\nM 1172 3481 \nQ 1172 3119 1398 2916 \nQ 1625 2713 2034 2713 \nQ 2441 2713 2670 2916 \nQ 2900 3119 2900 3481 \nQ 2900 3844 2670 4047 \nQ 2441 4250 2034 4250 \nQ 1625 4250 1398 4047 \nQ 1172 3844 1172 3481 \nz\n\" transform=\"scale(0.015625)\"/>\n       </defs>\n       <use xlink:href=\"#DejaVuSans-2212\"/>\n       <use xlink:href=\"#DejaVuSans-38\" x=\"83.789062\"/>\n      </g>\n     </g>\n    </g>\n    <g id=\"xtick_2\">\n     <g id=\"line2d_3\">\n      <path d=\"M 94.729514 145.8 \nL 94.729514 7.2 \n\" clip-path=\"url(#pd75f762992)\" style=\"fill: none; stroke: #b0b0b0; stroke-width: 0.8; stroke-linecap: square\"/>\n     </g>\n     <g id=\"line2d_4\">\n      <g>\n       <use xlink:href=\"#m5fa5007340\" x=\"94.729514\" y=\"145.8\" style=\"stroke: #000000; stroke-width: 0.8\"/>\n      </g>\n     </g>\n     <g id=\"text_2\">\n      <!-- −6 -->\n      <g transform=\"translate(87.35842 160.398438) scale(0.1 -0.1)\">\n       <defs>\n        <path id=\"DejaVuSans-36\" d=\"M 2113 2584 \nQ 1688 2584 1439 2293 \nQ 1191 2003 1191 1497 \nQ 1191 994 1439 701 \nQ 1688 409 2113 409 \nQ 2538 409 2786 701 \nQ 3034 994 3034 1497 \nQ 3034 2003 2786 2293 \nQ 2538 2584 2113 2584 \nz\nM 3366 4563 \nL 3366 3988 \nQ 3128 4100 2886 4159 \nQ 2644 4219 2406 4219 \nQ 1781 4219 1451 3797 \nQ 1122 3375 1075 2522 \nQ 1259 2794 1537 2939 \nQ 1816 3084 2150 3084 \nQ 2853 3084 3261 2657 \nQ 3669 2231 3669 1497 \nQ 3669 778 3244 343 \nQ 2819 -91 2113 -91 \nQ 1303 -91 875 529 \nQ 447 1150 447 2328 \nQ 447 3434 972 4092 \nQ 1497 4750 2381 4750 \nQ 2619 4750 2861 4703 \nQ 3103 4656 3366 4563 \nz\n\" transform=\"scale(0.015625)\"/>\n       </defs>\n       <use xlink:href=\"#DejaVuSans-2212\"/>\n       <use xlink:href=\"#DejaVuSans-36\" x=\"83.789062\"/>\n      </g>\n     </g>\n    </g>\n    <g id=\"xtick_3\">\n     <g id=\"line2d_5\">\n      <path d=\"M 126.63346 145.8 \nL 126.63346 7.2 \n\" clip-path=\"url(#pd75f762992)\" style=\"fill: none; stroke: #b0b0b0; stroke-width: 0.8; stroke-linecap: square\"/>\n     </g>\n     <g id=\"line2d_6\">\n      <g>\n       <use xlink:href=\"#m5fa5007340\" x=\"126.63346\" y=\"145.8\" style=\"stroke: #000000; stroke-width: 0.8\"/>\n      </g>\n     </g>\n     <g id=\"text_3\">\n      <!-- −4 -->\n      <g transform=\"translate(119.262366 160.398438) scale(0.1 -0.1)\">\n       <defs>\n        <path id=\"DejaVuSans-34\" d=\"M 2419 4116 \nL 825 1625 \nL 2419 1625 \nL 2419 4116 \nz\nM 2253 4666 \nL 3047 4666 \nL 3047 1625 \nL 3713 1625 \nL 3713 1100 \nL 3047 1100 \nL 3047 0 \nL 2419 0 \nL 2419 1100 \nL 313 1100 \nL 313 1709 \nL 2253 4666 \nz\n\" transform=\"scale(0.015625)\"/>\n       </defs>\n       <use xlink:href=\"#DejaVuSans-2212\"/>\n       <use xlink:href=\"#DejaVuSans-34\" x=\"83.789062\"/>\n      </g>\n     </g>\n    </g>\n    <g id=\"xtick_4\">\n     <g id=\"line2d_7\">\n      <path d=\"M 158.537406 145.8 \nL 158.537406 7.2 \n\" clip-path=\"url(#pd75f762992)\" style=\"fill: none; stroke: #b0b0b0; stroke-width: 0.8; stroke-linecap: square\"/>\n     </g>\n     <g id=\"line2d_8\">\n      <g>\n       <use xlink:href=\"#m5fa5007340\" x=\"158.537406\" y=\"145.8\" style=\"stroke: #000000; stroke-width: 0.8\"/>\n      </g>\n     </g>\n     <g id=\"text_4\">\n      <!-- −2 -->\n      <g transform=\"translate(151.166312 160.398438) scale(0.1 -0.1)\">\n       <defs>\n        <path id=\"DejaVuSans-32\" d=\"M 1228 531 \nL 3431 531 \nL 3431 0 \nL 469 0 \nL 469 531 \nQ 828 903 1448 1529 \nQ 2069 2156 2228 2338 \nQ 2531 2678 2651 2914 \nQ 2772 3150 2772 3378 \nQ 2772 3750 2511 3984 \nQ 2250 4219 1831 4219 \nQ 1534 4219 1204 4116 \nQ 875 4013 500 3803 \nL 500 4441 \nQ 881 4594 1212 4672 \nQ 1544 4750 1819 4750 \nQ 2544 4750 2975 4387 \nQ 3406 4025 3406 3419 \nQ 3406 3131 3298 2873 \nQ 3191 2616 2906 2266 \nQ 2828 2175 2409 1742 \nQ 1991 1309 1228 531 \nz\n\" transform=\"scale(0.015625)\"/>\n       </defs>\n       <use xlink:href=\"#DejaVuSans-2212\"/>\n       <use xlink:href=\"#DejaVuSans-32\" x=\"83.789062\"/>\n      </g>\n     </g>\n    </g>\n    <g id=\"xtick_5\">\n     <g id=\"line2d_9\">\n      <path d=\"M 190.441352 145.8 \nL 190.441352 7.2 \n\" clip-path=\"url(#pd75f762992)\" style=\"fill: none; stroke: #b0b0b0; stroke-width: 0.8; stroke-linecap: square\"/>\n     </g>\n     <g id=\"line2d_10\">\n      <g>\n       <use xlink:href=\"#m5fa5007340\" x=\"190.441352\" y=\"145.8\" style=\"stroke: #000000; stroke-width: 0.8\"/>\n      </g>\n     </g>\n     <g id=\"text_5\">\n      <!-- 0 -->\n      <g transform=\"translate(187.260102 160.398438) scale(0.1 -0.1)\">\n       <defs>\n        <path id=\"DejaVuSans-30\" d=\"M 2034 4250 \nQ 1547 4250 1301 3770 \nQ 1056 3291 1056 2328 \nQ 1056 1369 1301 889 \nQ 1547 409 2034 409 \nQ 2525 409 2770 889 \nQ 3016 1369 3016 2328 \nQ 3016 3291 2770 3770 \nQ 2525 4250 2034 4250 \nz\nM 2034 4750 \nQ 2819 4750 3233 4129 \nQ 3647 3509 3647 2328 \nQ 3647 1150 3233 529 \nQ 2819 -91 2034 -91 \nQ 1250 -91 836 529 \nQ 422 1150 422 2328 \nQ 422 3509 836 4129 \nQ 1250 4750 2034 4750 \nz\n\" transform=\"scale(0.015625)\"/>\n       </defs>\n       <use xlink:href=\"#DejaVuSans-30\"/>\n      </g>\n     </g>\n    </g>\n    <g id=\"xtick_6\">\n     <g id=\"line2d_11\">\n      <path d=\"M 222.345298 145.8 \nL 222.345298 7.2 \n\" clip-path=\"url(#pd75f762992)\" style=\"fill: none; stroke: #b0b0b0; stroke-width: 0.8; stroke-linecap: square\"/>\n     </g>\n     <g id=\"line2d_12\">\n      <g>\n       <use xlink:href=\"#m5fa5007340\" x=\"222.345298\" y=\"145.8\" style=\"stroke: #000000; stroke-width: 0.8\"/>\n      </g>\n     </g>\n     <g id=\"text_6\">\n      <!-- 2 -->\n      <g transform=\"translate(219.164048 160.398438) scale(0.1 -0.1)\">\n       <use xlink:href=\"#DejaVuSans-32\"/>\n      </g>\n     </g>\n    </g>\n    <g id=\"xtick_7\">\n     <g id=\"line2d_13\">\n      <path d=\"M 254.249243 145.8 \nL 254.249243 7.2 \n\" clip-path=\"url(#pd75f762992)\" style=\"fill: none; stroke: #b0b0b0; stroke-width: 0.8; stroke-linecap: square\"/>\n     </g>\n     <g id=\"line2d_14\">\n      <g>\n       <use xlink:href=\"#m5fa5007340\" x=\"254.249243\" y=\"145.8\" style=\"stroke: #000000; stroke-width: 0.8\"/>\n      </g>\n     </g>\n     <g id=\"text_7\">\n      <!-- 4 -->\n      <g transform=\"translate(251.067993 160.398438) scale(0.1 -0.1)\">\n       <use xlink:href=\"#DejaVuSans-34\"/>\n      </g>\n     </g>\n    </g>\n    <g id=\"xtick_8\">\n     <g id=\"line2d_15\">\n      <path d=\"M 286.153189 145.8 \nL 286.153189 7.2 \n\" clip-path=\"url(#pd75f762992)\" style=\"fill: none; stroke: #b0b0b0; stroke-width: 0.8; stroke-linecap: square\"/>\n     </g>\n     <g id=\"line2d_16\">\n      <g>\n       <use xlink:href=\"#m5fa5007340\" x=\"286.153189\" y=\"145.8\" style=\"stroke: #000000; stroke-width: 0.8\"/>\n      </g>\n     </g>\n     <g id=\"text_8\">\n      <!-- 6 -->\n      <g transform=\"translate(282.971939 160.398438) scale(0.1 -0.1)\">\n       <use xlink:href=\"#DejaVuSans-36\"/>\n      </g>\n     </g>\n    </g>\n    <g id=\"xtick_9\">\n     <g id=\"line2d_17\">\n      <path d=\"M 318.057135 145.8 \nL 318.057135 7.2 \n\" clip-path=\"url(#pd75f762992)\" style=\"fill: none; stroke: #b0b0b0; stroke-width: 0.8; stroke-linecap: square\"/>\n     </g>\n     <g id=\"line2d_18\">\n      <g>\n       <use xlink:href=\"#m5fa5007340\" x=\"318.057135\" y=\"145.8\" style=\"stroke: #000000; stroke-width: 0.8\"/>\n      </g>\n     </g>\n     <g id=\"text_9\">\n      <!-- 8 -->\n      <g transform=\"translate(314.875885 160.398438) scale(0.1 -0.1)\">\n       <use xlink:href=\"#DejaVuSans-38\"/>\n      </g>\n     </g>\n    </g>\n    <g id=\"text_10\">\n     <!-- x -->\n     <g transform=\"translate(186.684375 174.076563) scale(0.1 -0.1)\">\n      <defs>\n       <path id=\"DejaVuSans-78\" d=\"M 3513 3500 \nL 2247 1797 \nL 3578 0 \nL 2900 0 \nL 1881 1375 \nL 863 0 \nL 184 0 \nL 1544 1831 \nL 300 3500 \nL 978 3500 \nL 1906 2253 \nL 2834 3500 \nL 3513 3500 \nz\n\" transform=\"scale(0.015625)\"/>\n      </defs>\n      <use xlink:href=\"#DejaVuSans-78\"/>\n     </g>\n    </g>\n   </g>\n   <g id=\"matplotlib.axis_2\">\n    <g id=\"ytick_1\">\n     <g id=\"line2d_19\">\n      <path d=\"M 50.14375 139.669187 \nL 329.14375 139.669187 \n\" clip-path=\"url(#pd75f762992)\" style=\"fill: none; stroke: #b0b0b0; stroke-width: 0.8; stroke-linecap: square\"/>\n     </g>\n     <g id=\"line2d_20\">\n      <defs>\n       <path id=\"m81915bc583\" d=\"M 0 0 \nL -3.5 0 \n\" style=\"stroke: #000000; stroke-width: 0.8\"/>\n      </defs>\n      <g>\n       <use xlink:href=\"#m81915bc583\" x=\"50.14375\" y=\"139.669187\" style=\"stroke: #000000; stroke-width: 0.8\"/>\n      </g>\n     </g>\n     <g id=\"text_11\">\n      <!-- 0.00 -->\n      <g transform=\"translate(20.878125 143.468405) scale(0.1 -0.1)\">\n       <defs>\n        <path id=\"DejaVuSans-2e\" d=\"M 684 794 \nL 1344 794 \nL 1344 0 \nL 684 0 \nL 684 794 \nz\n\" transform=\"scale(0.015625)\"/>\n       </defs>\n       <use xlink:href=\"#DejaVuSans-30\"/>\n       <use xlink:href=\"#DejaVuSans-2e\" x=\"63.623047\"/>\n       <use xlink:href=\"#DejaVuSans-30\" x=\"95.410156\"/>\n       <use xlink:href=\"#DejaVuSans-30\" x=\"159.033203\"/>\n      </g>\n     </g>\n    </g>\n    <g id=\"ytick_2\">\n     <g id=\"line2d_21\">\n      <path d=\"M 50.14375 114.435349 \nL 329.14375 114.435349 \n\" clip-path=\"url(#pd75f762992)\" style=\"fill: none; stroke: #b0b0b0; stroke-width: 0.8; stroke-linecap: square\"/>\n     </g>\n     <g id=\"line2d_22\">\n      <g>\n       <use xlink:href=\"#m81915bc583\" x=\"50.14375\" y=\"114.435349\" style=\"stroke: #000000; stroke-width: 0.8\"/>\n      </g>\n     </g>\n     <g id=\"text_12\">\n      <!-- 0.05 -->\n      <g transform=\"translate(20.878125 118.234568) scale(0.1 -0.1)\">\n       <defs>\n        <path id=\"DejaVuSans-35\" d=\"M 691 4666 \nL 3169 4666 \nL 3169 4134 \nL 1269 4134 \nL 1269 2991 \nQ 1406 3038 1543 3061 \nQ 1681 3084 1819 3084 \nQ 2600 3084 3056 2656 \nQ 3513 2228 3513 1497 \nQ 3513 744 3044 326 \nQ 2575 -91 1722 -91 \nQ 1428 -91 1123 -41 \nQ 819 9 494 109 \nL 494 744 \nQ 775 591 1075 516 \nQ 1375 441 1709 441 \nQ 2250 441 2565 725 \nQ 2881 1009 2881 1497 \nQ 2881 1984 2565 2268 \nQ 2250 2553 1709 2553 \nQ 1456 2553 1204 2497 \nQ 953 2441 691 2322 \nL 691 4666 \nz\n\" transform=\"scale(0.015625)\"/>\n       </defs>\n       <use xlink:href=\"#DejaVuSans-30\"/>\n       <use xlink:href=\"#DejaVuSans-2e\" x=\"63.623047\"/>\n       <use xlink:href=\"#DejaVuSans-30\" x=\"95.410156\"/>\n       <use xlink:href=\"#DejaVuSans-35\" x=\"159.033203\"/>\n      </g>\n     </g>\n    </g>\n    <g id=\"ytick_3\">\n     <g id=\"line2d_23\">\n      <path d=\"M 50.14375 89.201512 \nL 329.14375 89.201512 \n\" clip-path=\"url(#pd75f762992)\" style=\"fill: none; stroke: #b0b0b0; stroke-width: 0.8; stroke-linecap: square\"/>\n     </g>\n     <g id=\"line2d_24\">\n      <g>\n       <use xlink:href=\"#m81915bc583\" x=\"50.14375\" y=\"89.201512\" style=\"stroke: #000000; stroke-width: 0.8\"/>\n      </g>\n     </g>\n     <g id=\"text_13\">\n      <!-- 0.10 -->\n      <g transform=\"translate(20.878125 93.000731) scale(0.1 -0.1)\">\n       <defs>\n        <path id=\"DejaVuSans-31\" d=\"M 794 531 \nL 1825 531 \nL 1825 4091 \nL 703 3866 \nL 703 4441 \nL 1819 4666 \nL 2450 4666 \nL 2450 531 \nL 3481 531 \nL 3481 0 \nL 794 0 \nL 794 531 \nz\n\" transform=\"scale(0.015625)\"/>\n       </defs>\n       <use xlink:href=\"#DejaVuSans-30\"/>\n       <use xlink:href=\"#DejaVuSans-2e\" x=\"63.623047\"/>\n       <use xlink:href=\"#DejaVuSans-31\" x=\"95.410156\"/>\n       <use xlink:href=\"#DejaVuSans-30\" x=\"159.033203\"/>\n      </g>\n     </g>\n    </g>\n    <g id=\"ytick_4\">\n     <g id=\"line2d_25\">\n      <path d=\"M 50.14375 63.967675 \nL 329.14375 63.967675 \n\" clip-path=\"url(#pd75f762992)\" style=\"fill: none; stroke: #b0b0b0; stroke-width: 0.8; stroke-linecap: square\"/>\n     </g>\n     <g id=\"line2d_26\">\n      <g>\n       <use xlink:href=\"#m81915bc583\" x=\"50.14375\" y=\"63.967675\" style=\"stroke: #000000; stroke-width: 0.8\"/>\n      </g>\n     </g>\n     <g id=\"text_14\">\n      <!-- 0.15 -->\n      <g transform=\"translate(20.878125 67.766893) scale(0.1 -0.1)\">\n       <use xlink:href=\"#DejaVuSans-30\"/>\n       <use xlink:href=\"#DejaVuSans-2e\" x=\"63.623047\"/>\n       <use xlink:href=\"#DejaVuSans-31\" x=\"95.410156\"/>\n       <use xlink:href=\"#DejaVuSans-35\" x=\"159.033203\"/>\n      </g>\n     </g>\n    </g>\n    <g id=\"ytick_5\">\n     <g id=\"line2d_27\">\n      <path d=\"M 50.14375 38.733837 \nL 329.14375 38.733837 \n\" clip-path=\"url(#pd75f762992)\" style=\"fill: none; stroke: #b0b0b0; stroke-width: 0.8; stroke-linecap: square\"/>\n     </g>\n     <g id=\"line2d_28\">\n      <g>\n       <use xlink:href=\"#m81915bc583\" x=\"50.14375\" y=\"38.733837\" style=\"stroke: #000000; stroke-width: 0.8\"/>\n      </g>\n     </g>\n     <g id=\"text_15\">\n      <!-- 0.20 -->\n      <g transform=\"translate(20.878125 42.533056) scale(0.1 -0.1)\">\n       <use xlink:href=\"#DejaVuSans-30\"/>\n       <use xlink:href=\"#DejaVuSans-2e\" x=\"63.623047\"/>\n       <use xlink:href=\"#DejaVuSans-32\" x=\"95.410156\"/>\n       <use xlink:href=\"#DejaVuSans-30\" x=\"159.033203\"/>\n      </g>\n     </g>\n    </g>\n    <g id=\"ytick_6\">\n     <g id=\"line2d_29\">\n      <path d=\"M 50.14375 13.5 \nL 329.14375 13.5 \n\" clip-path=\"url(#pd75f762992)\" style=\"fill: none; stroke: #b0b0b0; stroke-width: 0.8; stroke-linecap: square\"/>\n     </g>\n     <g id=\"line2d_30\">\n      <g>\n       <use xlink:href=\"#m81915bc583\" x=\"50.14375\" y=\"13.5\" style=\"stroke: #000000; stroke-width: 0.8\"/>\n      </g>\n     </g>\n     <g id=\"text_16\">\n      <!-- 0.25 -->\n      <g transform=\"translate(20.878125 17.299219) scale(0.1 -0.1)\">\n       <use xlink:href=\"#DejaVuSans-30\"/>\n       <use xlink:href=\"#DejaVuSans-2e\" x=\"63.623047\"/>\n       <use xlink:href=\"#DejaVuSans-32\" x=\"95.410156\"/>\n       <use xlink:href=\"#DejaVuSans-35\" x=\"159.033203\"/>\n      </g>\n     </g>\n    </g>\n    <g id=\"text_17\">\n     <!-- grad of sigmoid -->\n     <g transform=\"translate(14.798438 115.626563) rotate(-90) scale(0.1 -0.1)\">\n      <defs>\n       <path id=\"DejaVuSans-67\" d=\"M 2906 1791 \nQ 2906 2416 2648 2759 \nQ 2391 3103 1925 3103 \nQ 1463 3103 1205 2759 \nQ 947 2416 947 1791 \nQ 947 1169 1205 825 \nQ 1463 481 1925 481 \nQ 2391 481 2648 825 \nQ 2906 1169 2906 1791 \nz\nM 3481 434 \nQ 3481 -459 3084 -895 \nQ 2688 -1331 1869 -1331 \nQ 1566 -1331 1297 -1286 \nQ 1028 -1241 775 -1147 \nL 775 -588 \nQ 1028 -725 1275 -790 \nQ 1522 -856 1778 -856 \nQ 2344 -856 2625 -561 \nQ 2906 -266 2906 331 \nL 2906 616 \nQ 2728 306 2450 153 \nQ 2172 0 1784 0 \nQ 1141 0 747 490 \nQ 353 981 353 1791 \nQ 353 2603 747 3093 \nQ 1141 3584 1784 3584 \nQ 2172 3584 2450 3431 \nQ 2728 3278 2906 2969 \nL 2906 3500 \nL 3481 3500 \nL 3481 434 \nz\n\" transform=\"scale(0.015625)\"/>\n       <path id=\"DejaVuSans-72\" d=\"M 2631 2963 \nQ 2534 3019 2420 3045 \nQ 2306 3072 2169 3072 \nQ 1681 3072 1420 2755 \nQ 1159 2438 1159 1844 \nL 1159 0 \nL 581 0 \nL 581 3500 \nL 1159 3500 \nL 1159 2956 \nQ 1341 3275 1631 3429 \nQ 1922 3584 2338 3584 \nQ 2397 3584 2469 3576 \nQ 2541 3569 2628 3553 \nL 2631 2963 \nz\n\" transform=\"scale(0.015625)\"/>\n       <path id=\"DejaVuSans-61\" d=\"M 2194 1759 \nQ 1497 1759 1228 1600 \nQ 959 1441 959 1056 \nQ 959 750 1161 570 \nQ 1363 391 1709 391 \nQ 2188 391 2477 730 \nQ 2766 1069 2766 1631 \nL 2766 1759 \nL 2194 1759 \nz\nM 3341 1997 \nL 3341 0 \nL 2766 0 \nL 2766 531 \nQ 2569 213 2275 61 \nQ 1981 -91 1556 -91 \nQ 1019 -91 701 211 \nQ 384 513 384 1019 \nQ 384 1609 779 1909 \nQ 1175 2209 1959 2209 \nL 2766 2209 \nL 2766 2266 \nQ 2766 2663 2505 2880 \nQ 2244 3097 1772 3097 \nQ 1472 3097 1187 3025 \nQ 903 2953 641 2809 \nL 641 3341 \nQ 956 3463 1253 3523 \nQ 1550 3584 1831 3584 \nQ 2591 3584 2966 3190 \nQ 3341 2797 3341 1997 \nz\n\" transform=\"scale(0.015625)\"/>\n       <path id=\"DejaVuSans-64\" d=\"M 2906 2969 \nL 2906 4863 \nL 3481 4863 \nL 3481 0 \nL 2906 0 \nL 2906 525 \nQ 2725 213 2448 61 \nQ 2172 -91 1784 -91 \nQ 1150 -91 751 415 \nQ 353 922 353 1747 \nQ 353 2572 751 3078 \nQ 1150 3584 1784 3584 \nQ 2172 3584 2448 3432 \nQ 2725 3281 2906 2969 \nz\nM 947 1747 \nQ 947 1113 1208 752 \nQ 1469 391 1925 391 \nQ 2381 391 2643 752 \nQ 2906 1113 2906 1747 \nQ 2906 2381 2643 2742 \nQ 2381 3103 1925 3103 \nQ 1469 3103 1208 2742 \nQ 947 2381 947 1747 \nz\n\" transform=\"scale(0.015625)\"/>\n       <path id=\"DejaVuSans-20\" transform=\"scale(0.015625)\"/>\n       <path id=\"DejaVuSans-6f\" d=\"M 1959 3097 \nQ 1497 3097 1228 2736 \nQ 959 2375 959 1747 \nQ 959 1119 1226 758 \nQ 1494 397 1959 397 \nQ 2419 397 2687 759 \nQ 2956 1122 2956 1747 \nQ 2956 2369 2687 2733 \nQ 2419 3097 1959 3097 \nz\nM 1959 3584 \nQ 2709 3584 3137 3096 \nQ 3566 2609 3566 1747 \nQ 3566 888 3137 398 \nQ 2709 -91 1959 -91 \nQ 1206 -91 779 398 \nQ 353 888 353 1747 \nQ 353 2609 779 3096 \nQ 1206 3584 1959 3584 \nz\n\" transform=\"scale(0.015625)\"/>\n       <path id=\"DejaVuSans-66\" d=\"M 2375 4863 \nL 2375 4384 \nL 1825 4384 \nQ 1516 4384 1395 4259 \nQ 1275 4134 1275 3809 \nL 1275 3500 \nL 2222 3500 \nL 2222 3053 \nL 1275 3053 \nL 1275 0 \nL 697 0 \nL 697 3053 \nL 147 3053 \nL 147 3500 \nL 697 3500 \nL 697 3744 \nQ 697 4328 969 4595 \nQ 1241 4863 1831 4863 \nL 2375 4863 \nz\n\" transform=\"scale(0.015625)\"/>\n       <path id=\"DejaVuSans-73\" d=\"M 2834 3397 \nL 2834 2853 \nQ 2591 2978 2328 3040 \nQ 2066 3103 1784 3103 \nQ 1356 3103 1142 2972 \nQ 928 2841 928 2578 \nQ 928 2378 1081 2264 \nQ 1234 2150 1697 2047 \nL 1894 2003 \nQ 2506 1872 2764 1633 \nQ 3022 1394 3022 966 \nQ 3022 478 2636 193 \nQ 2250 -91 1575 -91 \nQ 1294 -91 989 -36 \nQ 684 19 347 128 \nL 347 722 \nQ 666 556 975 473 \nQ 1284 391 1588 391 \nQ 1994 391 2212 530 \nQ 2431 669 2431 922 \nQ 2431 1156 2273 1281 \nQ 2116 1406 1581 1522 \nL 1381 1569 \nQ 847 1681 609 1914 \nQ 372 2147 372 2553 \nQ 372 3047 722 3315 \nQ 1072 3584 1716 3584 \nQ 2034 3584 2315 3537 \nQ 2597 3491 2834 3397 \nz\n\" transform=\"scale(0.015625)\"/>\n       <path id=\"DejaVuSans-69\" d=\"M 603 3500 \nL 1178 3500 \nL 1178 0 \nL 603 0 \nL 603 3500 \nz\nM 603 4863 \nL 1178 4863 \nL 1178 4134 \nL 603 4134 \nL 603 4863 \nz\n\" transform=\"scale(0.015625)\"/>\n       <path id=\"DejaVuSans-6d\" d=\"M 3328 2828 \nQ 3544 3216 3844 3400 \nQ 4144 3584 4550 3584 \nQ 5097 3584 5394 3201 \nQ 5691 2819 5691 2113 \nL 5691 0 \nL 5113 0 \nL 5113 2094 \nQ 5113 2597 4934 2840 \nQ 4756 3084 4391 3084 \nQ 3944 3084 3684 2787 \nQ 3425 2491 3425 1978 \nL 3425 0 \nL 2847 0 \nL 2847 2094 \nQ 2847 2600 2669 2842 \nQ 2491 3084 2119 3084 \nQ 1678 3084 1418 2786 \nQ 1159 2488 1159 1978 \nL 1159 0 \nL 581 0 \nL 581 3500 \nL 1159 3500 \nL 1159 2956 \nQ 1356 3278 1631 3431 \nQ 1906 3584 2284 3584 \nQ 2666 3584 2933 3390 \nQ 3200 3197 3328 2828 \nz\n\" transform=\"scale(0.015625)\"/>\n      </defs>\n      <use xlink:href=\"#DejaVuSans-67\"/>\n      <use xlink:href=\"#DejaVuSans-72\" x=\"63.476562\"/>\n      <use xlink:href=\"#DejaVuSans-61\" x=\"104.589844\"/>\n      <use xlink:href=\"#DejaVuSans-64\" x=\"165.869141\"/>\n      <use xlink:href=\"#DejaVuSans-20\" x=\"229.345703\"/>\n      <use xlink:href=\"#DejaVuSans-6f\" x=\"261.132812\"/>\n      <use xlink:href=\"#DejaVuSans-66\" x=\"322.314453\"/>\n      <use xlink:href=\"#DejaVuSans-20\" x=\"357.519531\"/>\n      <use xlink:href=\"#DejaVuSans-73\" x=\"389.306641\"/>\n      <use xlink:href=\"#DejaVuSans-69\" x=\"441.40625\"/>\n      <use xlink:href=\"#DejaVuSans-67\" x=\"469.189453\"/>\n      <use xlink:href=\"#DejaVuSans-6d\" x=\"532.666016\"/>\n      <use xlink:href=\"#DejaVuSans-6f\" x=\"630.078125\"/>\n      <use xlink:href=\"#DejaVuSans-69\" x=\"691.259766\"/>\n      <use xlink:href=\"#DejaVuSans-64\" x=\"719.042969\"/>\n     </g>\n    </g>\n   </g>\n   <g id=\"line2d_31\">\n    <path d=\"M 62.825568 139.5 \nL 77.182345 139.253462 \nL 86.753528 138.912712 \nL 94.729514 138.424397 \nL 101.110305 137.816687 \nL 105.8959 137.175007 \nL 110.681487 136.314067 \nL 115.467074 135.161385 \nL 118.657473 134.185253 \nL 121.847865 133.003565 \nL 125.038257 131.575826 \nL 128.228656 129.854907 \nL 131.419051 127.786619 \nL 134.609446 125.309608 \nL 137.799842 122.355806 \nL 140.990233 118.851768 \nL 144.180629 114.721215 \nL 147.371024 109.889367 \nL 150.561419 104.289473 \nL 153.751811 97.872081 \nL 156.942206 90.617285 \nL 160.132602 82.549746 \nL 163.322997 73.755506 \nL 168.10859 59.584618 \nL 174.489379 40.443712 \nL 177.679773 31.713935 \nL 179.274971 27.775856 \nL 180.870168 24.207097 \nL 182.465365 21.068279 \nL 184.060562 18.415173 \nL 185.65576 16.296758 \nL 187.250957 14.753321 \nL 188.846154 13.814889 \nL 190.441352 13.5 \nL 192.036549 13.814896 \nL 193.631746 14.753328 \nL 195.226944 16.296758 \nL 196.822141 18.415173 \nL 198.417338 21.068279 \nL 200.012536 24.207097 \nL 201.607733 27.775848 \nL 203.20293 31.713935 \nL 206.393325 40.44372 \nL 211.178916 54.732931 \nL 215.964509 69.133646 \nL 219.154904 78.235198 \nL 222.345298 86.681345 \nL 225.535693 94.349061 \nL 228.726088 101.185068 \nL 231.916484 107.189056 \nL 235.106879 112.397409 \nL 238.297271 116.869579 \nL 241.487666 120.677302 \nL 244.678061 123.89682 \nL 247.868457 126.603296 \nL 251.058848 128.867818 \nL 254.249243 130.755216 \nL 257.439635 132.323237 \nL 260.630034 133.622466 \nL 263.820426 134.696712 \nL 267.010825 135.583359 \nL 271.79642 136.629496 \nL 276.582007 137.410223 \nL 281.367594 137.991793 \nL 287.748385 138.54229 \nL 295.724372 138.98448 \nL 306.89075 139.328718 \nL 316.461932 139.482212 \nL 316.461932 139.482212 \n\" clip-path=\"url(#pd75f762992)\" style=\"fill: none; stroke: #1f77b4; stroke-width: 1.5; stroke-linecap: square\"/>\n   </g>\n   <g id=\"patch_3\">\n    <path d=\"M 50.14375 145.8 \nL 50.14375 7.2 \n\" style=\"fill: none; stroke: #000000; stroke-width: 0.8; stroke-linejoin: miter; stroke-linecap: square\"/>\n   </g>\n   <g id=\"patch_4\">\n    <path d=\"M 329.14375 145.8 \nL 329.14375 7.2 \n\" style=\"fill: none; stroke: #000000; stroke-width: 0.8; stroke-linejoin: miter; stroke-linecap: square\"/>\n   </g>\n   <g id=\"patch_5\">\n    <path d=\"M 50.14375 145.8 \nL 329.14375 145.8 \n\" style=\"fill: none; stroke: #000000; stroke-width: 0.8; stroke-linejoin: miter; stroke-linecap: square\"/>\n   </g>\n   <g id=\"patch_6\">\n    <path d=\"M 50.14375 7.2 \nL 329.14375 7.2 \n\" style=\"fill: none; stroke: #000000; stroke-width: 0.8; stroke-linejoin: miter; stroke-linecap: square\"/>\n   </g>\n  </g>\n </g>\n <defs>\n  <clipPath id=\"pd75f762992\">\n   <rect x=\"50.14375\" y=\"7.2\" width=\"279\" height=\"138.6\"/>\n  </clipPath>\n </defs>\n</svg>\n"
          },
          "metadata": {}
        }
      ],
      "source": [
        "# Clear out previous gradients\n",
        "x.grad.data.zero_()\n",
        "y.backward(torch.ones_like(x),retain_graph=True)\n",
        "d2l.plot(x.detach(), x.grad, 'x', 'grad of sigmoid', figsize=(5, 2.5))"
      ]
    },
    {
      "cell_type": "markdown",
      "id": "22e15b1f",
      "metadata": {
        "id": "22e15b1f",
        "origin_pos": 26
      },
      "source": [
        "### Tanh Function\n",
        ":label:`subsec_tanh`\n",
        "\n",
        "Like the sigmoid function, [**the tanh (hyperbolic tangent)\n",
        "function also squashes its inputs**],\n",
        "transforming them into elements on the interval (**between $-1$ and $1$**):\n",
        "\n",
        "$$\\operatorname{tanh}(x) = \\frac{1 - \\exp(-2x)}{1 + \\exp(-2x)}.$$\n",
        "\n",
        "We plot the tanh function below. Note that as input nears 0, the tanh function approaches a linear transformation. Although the shape of the function is similar to that of the sigmoid function, the tanh function exhibits point symmetry about the origin of the coordinate system :cite:`Kalman.Kwasny.1992`.\n"
      ]
    },
    {
      "cell_type": "code",
      "execution_count": null,
      "id": "59cc5dc6",
      "metadata": {
        "execution": {
          "iopub.execute_input": "2023-08-18T19:38:45.353701Z",
          "iopub.status.busy": "2023-08-18T19:38:45.352955Z",
          "iopub.status.idle": "2023-08-18T19:38:45.679220Z",
          "shell.execute_reply": "2023-08-18T19:38:45.677327Z"
        },
        "id": "59cc5dc6",
        "origin_pos": 28,
        "outputId": "50563bc9-dc2f-4bc3-9e5a-d2e6ffe28ea5",
        "tab": [
          "pytorch"
        ],
        "colab": {
          "base_uri": "https://localhost:8080/",
          "height": 266
        }
      },
      "outputs": [
        {
          "output_type": "display_data",
          "data": {
            "text/plain": [
              "<Figure size 500x250 with 1 Axes>"
            ],
            "image/svg+xml": "<?xml version=\"1.0\" encoding=\"utf-8\" standalone=\"no\"?>\n<!DOCTYPE svg PUBLIC \"-//W3C//DTD SVG 1.1//EN\"\n  \"http://www.w3.org/Graphics/SVG/1.1/DTD/svg11.dtd\">\n<svg xmlns:xlink=\"http://www.w3.org/1999/xlink\" width=\"338.360937pt\" height=\"183.35625pt\" viewBox=\"0 0 338.360937 183.35625\" xmlns=\"http://www.w3.org/2000/svg\" version=\"1.1\">\n <metadata>\n  <rdf:RDF xmlns:dc=\"http://purl.org/dc/elements/1.1/\" xmlns:cc=\"http://creativecommons.org/ns#\" xmlns:rdf=\"http://www.w3.org/1999/02/22-rdf-syntax-ns#\">\n   <cc:Work>\n    <dc:type rdf:resource=\"http://purl.org/dc/dcmitype/StillImage\"/>\n    <dc:date>2024-09-13T08:32:25.686916</dc:date>\n    <dc:format>image/svg+xml</dc:format>\n    <dc:creator>\n     <cc:Agent>\n      <dc:title>Matplotlib v3.7.2, https://matplotlib.org/</dc:title>\n     </cc:Agent>\n    </dc:creator>\n   </cc:Work>\n  </rdf:RDF>\n </metadata>\n <defs>\n  <style type=\"text/css\">*{stroke-linejoin: round; stroke-linecap: butt}</style>\n </defs>\n <g id=\"figure_1\">\n  <g id=\"patch_1\">\n   <path d=\"M 0 183.35625 \nL 338.360937 183.35625 \nL 338.360937 0 \nL 0 0 \nz\n\" style=\"fill: #ffffff\"/>\n  </g>\n  <g id=\"axes_1\">\n   <g id=\"patch_2\">\n    <path d=\"M 52.160938 145.8 \nL 331.160937 145.8 \nL 331.160937 7.2 \nL 52.160938 7.2 \nz\n\" style=\"fill: #ffffff\"/>\n   </g>\n   <g id=\"matplotlib.axis_1\">\n    <g id=\"xtick_1\">\n     <g id=\"line2d_1\">\n      <path d=\"M 64.842756 145.8 \nL 64.842756 7.2 \n\" clip-path=\"url(#pcabbec411c)\" style=\"fill: none; stroke: #b0b0b0; stroke-width: 0.8; stroke-linecap: square\"/>\n     </g>\n     <g id=\"line2d_2\">\n      <defs>\n       <path id=\"m3bd2676317\" d=\"M 0 0 \nL 0 3.5 \n\" style=\"stroke: #000000; stroke-width: 0.8\"/>\n      </defs>\n      <g>\n       <use xlink:href=\"#m3bd2676317\" x=\"64.842756\" y=\"145.8\" style=\"stroke: #000000; stroke-width: 0.8\"/>\n      </g>\n     </g>\n     <g id=\"text_1\">\n      <!-- −8 -->\n      <g transform=\"translate(57.471662 160.398438) scale(0.1 -0.1)\">\n       <defs>\n        <path id=\"DejaVuSans-2212\" d=\"M 678 2272 \nL 4684 2272 \nL 4684 1741 \nL 678 1741 \nL 678 2272 \nz\n\" transform=\"scale(0.015625)\"/>\n        <path id=\"DejaVuSans-38\" d=\"M 2034 2216 \nQ 1584 2216 1326 1975 \nQ 1069 1734 1069 1313 \nQ 1069 891 1326 650 \nQ 1584 409 2034 409 \nQ 2484 409 2743 651 \nQ 3003 894 3003 1313 \nQ 3003 1734 2745 1975 \nQ 2488 2216 2034 2216 \nz\nM 1403 2484 \nQ 997 2584 770 2862 \nQ 544 3141 544 3541 \nQ 544 4100 942 4425 \nQ 1341 4750 2034 4750 \nQ 2731 4750 3128 4425 \nQ 3525 4100 3525 3541 \nQ 3525 3141 3298 2862 \nQ 3072 2584 2669 2484 \nQ 3125 2378 3379 2068 \nQ 3634 1759 3634 1313 \nQ 3634 634 3220 271 \nQ 2806 -91 2034 -91 \nQ 1263 -91 848 271 \nQ 434 634 434 1313 \nQ 434 1759 690 2068 \nQ 947 2378 1403 2484 \nz\nM 1172 3481 \nQ 1172 3119 1398 2916 \nQ 1625 2713 2034 2713 \nQ 2441 2713 2670 2916 \nQ 2900 3119 2900 3481 \nQ 2900 3844 2670 4047 \nQ 2441 4250 2034 4250 \nQ 1625 4250 1398 4047 \nQ 1172 3844 1172 3481 \nz\n\" transform=\"scale(0.015625)\"/>\n       </defs>\n       <use xlink:href=\"#DejaVuSans-2212\"/>\n       <use xlink:href=\"#DejaVuSans-38\" x=\"83.789062\"/>\n      </g>\n     </g>\n    </g>\n    <g id=\"xtick_2\">\n     <g id=\"line2d_3\">\n      <path d=\"M 96.746702 145.8 \nL 96.746702 7.2 \n\" clip-path=\"url(#pcabbec411c)\" style=\"fill: none; stroke: #b0b0b0; stroke-width: 0.8; stroke-linecap: square\"/>\n     </g>\n     <g id=\"line2d_4\">\n      <g>\n       <use xlink:href=\"#m3bd2676317\" x=\"96.746702\" y=\"145.8\" style=\"stroke: #000000; stroke-width: 0.8\"/>\n      </g>\n     </g>\n     <g id=\"text_2\">\n      <!-- −6 -->\n      <g transform=\"translate(89.375608 160.398438) scale(0.1 -0.1)\">\n       <defs>\n        <path id=\"DejaVuSans-36\" d=\"M 2113 2584 \nQ 1688 2584 1439 2293 \nQ 1191 2003 1191 1497 \nQ 1191 994 1439 701 \nQ 1688 409 2113 409 \nQ 2538 409 2786 701 \nQ 3034 994 3034 1497 \nQ 3034 2003 2786 2293 \nQ 2538 2584 2113 2584 \nz\nM 3366 4563 \nL 3366 3988 \nQ 3128 4100 2886 4159 \nQ 2644 4219 2406 4219 \nQ 1781 4219 1451 3797 \nQ 1122 3375 1075 2522 \nQ 1259 2794 1537 2939 \nQ 1816 3084 2150 3084 \nQ 2853 3084 3261 2657 \nQ 3669 2231 3669 1497 \nQ 3669 778 3244 343 \nQ 2819 -91 2113 -91 \nQ 1303 -91 875 529 \nQ 447 1150 447 2328 \nQ 447 3434 972 4092 \nQ 1497 4750 2381 4750 \nQ 2619 4750 2861 4703 \nQ 3103 4656 3366 4563 \nz\n\" transform=\"scale(0.015625)\"/>\n       </defs>\n       <use xlink:href=\"#DejaVuSans-2212\"/>\n       <use xlink:href=\"#DejaVuSans-36\" x=\"83.789062\"/>\n      </g>\n     </g>\n    </g>\n    <g id=\"xtick_3\">\n     <g id=\"line2d_5\">\n      <path d=\"M 128.650647 145.8 \nL 128.650647 7.2 \n\" clip-path=\"url(#pcabbec411c)\" style=\"fill: none; stroke: #b0b0b0; stroke-width: 0.8; stroke-linecap: square\"/>\n     </g>\n     <g id=\"line2d_6\">\n      <g>\n       <use xlink:href=\"#m3bd2676317\" x=\"128.650647\" y=\"145.8\" style=\"stroke: #000000; stroke-width: 0.8\"/>\n      </g>\n     </g>\n     <g id=\"text_3\">\n      <!-- −4 -->\n      <g transform=\"translate(121.279554 160.398438) scale(0.1 -0.1)\">\n       <defs>\n        <path id=\"DejaVuSans-34\" d=\"M 2419 4116 \nL 825 1625 \nL 2419 1625 \nL 2419 4116 \nz\nM 2253 4666 \nL 3047 4666 \nL 3047 1625 \nL 3713 1625 \nL 3713 1100 \nL 3047 1100 \nL 3047 0 \nL 2419 0 \nL 2419 1100 \nL 313 1100 \nL 313 1709 \nL 2253 4666 \nz\n\" transform=\"scale(0.015625)\"/>\n       </defs>\n       <use xlink:href=\"#DejaVuSans-2212\"/>\n       <use xlink:href=\"#DejaVuSans-34\" x=\"83.789062\"/>\n      </g>\n     </g>\n    </g>\n    <g id=\"xtick_4\">\n     <g id=\"line2d_7\">\n      <path d=\"M 160.554593 145.8 \nL 160.554593 7.2 \n\" clip-path=\"url(#pcabbec411c)\" style=\"fill: none; stroke: #b0b0b0; stroke-width: 0.8; stroke-linecap: square\"/>\n     </g>\n     <g id=\"line2d_8\">\n      <g>\n       <use xlink:href=\"#m3bd2676317\" x=\"160.554593\" y=\"145.8\" style=\"stroke: #000000; stroke-width: 0.8\"/>\n      </g>\n     </g>\n     <g id=\"text_4\">\n      <!-- −2 -->\n      <g transform=\"translate(153.1835 160.398438) scale(0.1 -0.1)\">\n       <defs>\n        <path id=\"DejaVuSans-32\" d=\"M 1228 531 \nL 3431 531 \nL 3431 0 \nL 469 0 \nL 469 531 \nQ 828 903 1448 1529 \nQ 2069 2156 2228 2338 \nQ 2531 2678 2651 2914 \nQ 2772 3150 2772 3378 \nQ 2772 3750 2511 3984 \nQ 2250 4219 1831 4219 \nQ 1534 4219 1204 4116 \nQ 875 4013 500 3803 \nL 500 4441 \nQ 881 4594 1212 4672 \nQ 1544 4750 1819 4750 \nQ 2544 4750 2975 4387 \nQ 3406 4025 3406 3419 \nQ 3406 3131 3298 2873 \nQ 3191 2616 2906 2266 \nQ 2828 2175 2409 1742 \nQ 1991 1309 1228 531 \nz\n\" transform=\"scale(0.015625)\"/>\n       </defs>\n       <use xlink:href=\"#DejaVuSans-2212\"/>\n       <use xlink:href=\"#DejaVuSans-32\" x=\"83.789062\"/>\n      </g>\n     </g>\n    </g>\n    <g id=\"xtick_5\">\n     <g id=\"line2d_9\">\n      <path d=\"M 192.458539 145.8 \nL 192.458539 7.2 \n\" clip-path=\"url(#pcabbec411c)\" style=\"fill: none; stroke: #b0b0b0; stroke-width: 0.8; stroke-linecap: square\"/>\n     </g>\n     <g id=\"line2d_10\">\n      <g>\n       <use xlink:href=\"#m3bd2676317\" x=\"192.458539\" y=\"145.8\" style=\"stroke: #000000; stroke-width: 0.8\"/>\n      </g>\n     </g>\n     <g id=\"text_5\">\n      <!-- 0 -->\n      <g transform=\"translate(189.277289 160.398438) scale(0.1 -0.1)\">\n       <defs>\n        <path id=\"DejaVuSans-30\" d=\"M 2034 4250 \nQ 1547 4250 1301 3770 \nQ 1056 3291 1056 2328 \nQ 1056 1369 1301 889 \nQ 1547 409 2034 409 \nQ 2525 409 2770 889 \nQ 3016 1369 3016 2328 \nQ 3016 3291 2770 3770 \nQ 2525 4250 2034 4250 \nz\nM 2034 4750 \nQ 2819 4750 3233 4129 \nQ 3647 3509 3647 2328 \nQ 3647 1150 3233 529 \nQ 2819 -91 2034 -91 \nQ 1250 -91 836 529 \nQ 422 1150 422 2328 \nQ 422 3509 836 4129 \nQ 1250 4750 2034 4750 \nz\n\" transform=\"scale(0.015625)\"/>\n       </defs>\n       <use xlink:href=\"#DejaVuSans-30\"/>\n      </g>\n     </g>\n    </g>\n    <g id=\"xtick_6\">\n     <g id=\"line2d_11\">\n      <path d=\"M 224.362485 145.8 \nL 224.362485 7.2 \n\" clip-path=\"url(#pcabbec411c)\" style=\"fill: none; stroke: #b0b0b0; stroke-width: 0.8; stroke-linecap: square\"/>\n     </g>\n     <g id=\"line2d_12\">\n      <g>\n       <use xlink:href=\"#m3bd2676317\" x=\"224.362485\" y=\"145.8\" style=\"stroke: #000000; stroke-width: 0.8\"/>\n      </g>\n     </g>\n     <g id=\"text_6\">\n      <!-- 2 -->\n      <g transform=\"translate(221.181235 160.398438) scale(0.1 -0.1)\">\n       <use xlink:href=\"#DejaVuSans-32\"/>\n      </g>\n     </g>\n    </g>\n    <g id=\"xtick_7\">\n     <g id=\"line2d_13\">\n      <path d=\"M 256.266431 145.8 \nL 256.266431 7.2 \n\" clip-path=\"url(#pcabbec411c)\" style=\"fill: none; stroke: #b0b0b0; stroke-width: 0.8; stroke-linecap: square\"/>\n     </g>\n     <g id=\"line2d_14\">\n      <g>\n       <use xlink:href=\"#m3bd2676317\" x=\"256.266431\" y=\"145.8\" style=\"stroke: #000000; stroke-width: 0.8\"/>\n      </g>\n     </g>\n     <g id=\"text_7\">\n      <!-- 4 -->\n      <g transform=\"translate(253.085181 160.398438) scale(0.1 -0.1)\">\n       <use xlink:href=\"#DejaVuSans-34\"/>\n      </g>\n     </g>\n    </g>\n    <g id=\"xtick_8\">\n     <g id=\"line2d_15\">\n      <path d=\"M 288.170377 145.8 \nL 288.170377 7.2 \n\" clip-path=\"url(#pcabbec411c)\" style=\"fill: none; stroke: #b0b0b0; stroke-width: 0.8; stroke-linecap: square\"/>\n     </g>\n     <g id=\"line2d_16\">\n      <g>\n       <use xlink:href=\"#m3bd2676317\" x=\"288.170377\" y=\"145.8\" style=\"stroke: #000000; stroke-width: 0.8\"/>\n      </g>\n     </g>\n     <g id=\"text_8\">\n      <!-- 6 -->\n      <g transform=\"translate(284.989127 160.398438) scale(0.1 -0.1)\">\n       <use xlink:href=\"#DejaVuSans-36\"/>\n      </g>\n     </g>\n    </g>\n    <g id=\"xtick_9\">\n     <g id=\"line2d_17\">\n      <path d=\"M 320.074323 145.8 \nL 320.074323 7.2 \n\" clip-path=\"url(#pcabbec411c)\" style=\"fill: none; stroke: #b0b0b0; stroke-width: 0.8; stroke-linecap: square\"/>\n     </g>\n     <g id=\"line2d_18\">\n      <g>\n       <use xlink:href=\"#m3bd2676317\" x=\"320.074323\" y=\"145.8\" style=\"stroke: #000000; stroke-width: 0.8\"/>\n      </g>\n     </g>\n     <g id=\"text_9\">\n      <!-- 8 -->\n      <g transform=\"translate(316.893073 160.398438) scale(0.1 -0.1)\">\n       <use xlink:href=\"#DejaVuSans-38\"/>\n      </g>\n     </g>\n    </g>\n    <g id=\"text_10\">\n     <!-- x -->\n     <g transform=\"translate(188.701562 174.076563) scale(0.1 -0.1)\">\n      <defs>\n       <path id=\"DejaVuSans-78\" d=\"M 3513 3500 \nL 2247 1797 \nL 3578 0 \nL 2900 0 \nL 1881 1375 \nL 863 0 \nL 184 0 \nL 1544 1831 \nL 300 3500 \nL 978 3500 \nL 1906 2253 \nL 2834 3500 \nL 3513 3500 \nz\n\" transform=\"scale(0.015625)\"/>\n      </defs>\n      <use xlink:href=\"#DejaVuSans-78\"/>\n     </g>\n    </g>\n   </g>\n   <g id=\"matplotlib.axis_2\">\n    <g id=\"ytick_1\">\n     <g id=\"line2d_19\">\n      <path d=\"M 52.160938 139.500015 \nL 331.160937 139.500015 \n\" clip-path=\"url(#pcabbec411c)\" style=\"fill: none; stroke: #b0b0b0; stroke-width: 0.8; stroke-linecap: square\"/>\n     </g>\n     <g id=\"line2d_20\">\n      <defs>\n       <path id=\"m61e044de34\" d=\"M 0 0 \nL -3.5 0 \n\" style=\"stroke: #000000; stroke-width: 0.8\"/>\n      </defs>\n      <g>\n       <use xlink:href=\"#m61e044de34\" x=\"52.160938\" y=\"139.500015\" style=\"stroke: #000000; stroke-width: 0.8\"/>\n      </g>\n     </g>\n     <g id=\"text_11\">\n      <!-- −1.0 -->\n      <g transform=\"translate(20.878125 143.299234) scale(0.1 -0.1)\">\n       <defs>\n        <path id=\"DejaVuSans-31\" d=\"M 794 531 \nL 1825 531 \nL 1825 4091 \nL 703 3866 \nL 703 4441 \nL 1819 4666 \nL 2450 4666 \nL 2450 531 \nL 3481 531 \nL 3481 0 \nL 794 0 \nL 794 531 \nz\n\" transform=\"scale(0.015625)\"/>\n        <path id=\"DejaVuSans-2e\" d=\"M 684 794 \nL 1344 794 \nL 1344 0 \nL 684 0 \nL 684 794 \nz\n\" transform=\"scale(0.015625)\"/>\n       </defs>\n       <use xlink:href=\"#DejaVuSans-2212\"/>\n       <use xlink:href=\"#DejaVuSans-31\" x=\"83.789062\"/>\n       <use xlink:href=\"#DejaVuSans-2e\" x=\"147.412109\"/>\n       <use xlink:href=\"#DejaVuSans-30\" x=\"179.199219\"/>\n      </g>\n     </g>\n    </g>\n    <g id=\"ytick_2\">\n     <g id=\"line2d_21\">\n      <path d=\"M 52.160938 108.000007 \nL 331.160937 108.000007 \n\" clip-path=\"url(#pcabbec411c)\" style=\"fill: none; stroke: #b0b0b0; stroke-width: 0.8; stroke-linecap: square\"/>\n     </g>\n     <g id=\"line2d_22\">\n      <g>\n       <use xlink:href=\"#m61e044de34\" x=\"52.160938\" y=\"108.000007\" style=\"stroke: #000000; stroke-width: 0.8\"/>\n      </g>\n     </g>\n     <g id=\"text_12\">\n      <!-- −0.5 -->\n      <g transform=\"translate(20.878125 111.799225) scale(0.1 -0.1)\">\n       <defs>\n        <path id=\"DejaVuSans-35\" d=\"M 691 4666 \nL 3169 4666 \nL 3169 4134 \nL 1269 4134 \nL 1269 2991 \nQ 1406 3038 1543 3061 \nQ 1681 3084 1819 3084 \nQ 2600 3084 3056 2656 \nQ 3513 2228 3513 1497 \nQ 3513 744 3044 326 \nQ 2575 -91 1722 -91 \nQ 1428 -91 1123 -41 \nQ 819 9 494 109 \nL 494 744 \nQ 775 591 1075 516 \nQ 1375 441 1709 441 \nQ 2250 441 2565 725 \nQ 2881 1009 2881 1497 \nQ 2881 1984 2565 2268 \nQ 2250 2553 1709 2553 \nQ 1456 2553 1204 2497 \nQ 953 2441 691 2322 \nL 691 4666 \nz\n\" transform=\"scale(0.015625)\"/>\n       </defs>\n       <use xlink:href=\"#DejaVuSans-2212\"/>\n       <use xlink:href=\"#DejaVuSans-30\" x=\"83.789062\"/>\n       <use xlink:href=\"#DejaVuSans-2e\" x=\"147.412109\"/>\n       <use xlink:href=\"#DejaVuSans-35\" x=\"179.199219\"/>\n      </g>\n     </g>\n    </g>\n    <g id=\"ytick_3\">\n     <g id=\"line2d_23\">\n      <path d=\"M 52.160938 76.499998 \nL 331.160937 76.499998 \n\" clip-path=\"url(#pcabbec411c)\" style=\"fill: none; stroke: #b0b0b0; stroke-width: 0.8; stroke-linecap: square\"/>\n     </g>\n     <g id=\"line2d_24\">\n      <g>\n       <use xlink:href=\"#m61e044de34\" x=\"52.160938\" y=\"76.499998\" style=\"stroke: #000000; stroke-width: 0.8\"/>\n      </g>\n     </g>\n     <g id=\"text_13\">\n      <!-- 0.0 -->\n      <g transform=\"translate(29.257812 80.299217) scale(0.1 -0.1)\">\n       <use xlink:href=\"#DejaVuSans-30\"/>\n       <use xlink:href=\"#DejaVuSans-2e\" x=\"63.623047\"/>\n       <use xlink:href=\"#DejaVuSans-30\" x=\"95.410156\"/>\n      </g>\n     </g>\n    </g>\n    <g id=\"ytick_4\">\n     <g id=\"line2d_25\">\n      <path d=\"M 52.160938 44.99999 \nL 331.160937 44.99999 \n\" clip-path=\"url(#pcabbec411c)\" style=\"fill: none; stroke: #b0b0b0; stroke-width: 0.8; stroke-linecap: square\"/>\n     </g>\n     <g id=\"line2d_26\">\n      <g>\n       <use xlink:href=\"#m61e044de34\" x=\"52.160938\" y=\"44.99999\" style=\"stroke: #000000; stroke-width: 0.8\"/>\n      </g>\n     </g>\n     <g id=\"text_14\">\n      <!-- 0.5 -->\n      <g transform=\"translate(29.257812 48.799208) scale(0.1 -0.1)\">\n       <use xlink:href=\"#DejaVuSans-30\"/>\n       <use xlink:href=\"#DejaVuSans-2e\" x=\"63.623047\"/>\n       <use xlink:href=\"#DejaVuSans-35\" x=\"95.410156\"/>\n      </g>\n     </g>\n    </g>\n    <g id=\"ytick_5\">\n     <g id=\"line2d_27\">\n      <path d=\"M 52.160938 13.499981 \nL 331.160937 13.499981 \n\" clip-path=\"url(#pcabbec411c)\" style=\"fill: none; stroke: #b0b0b0; stroke-width: 0.8; stroke-linecap: square\"/>\n     </g>\n     <g id=\"line2d_28\">\n      <g>\n       <use xlink:href=\"#m61e044de34\" x=\"52.160938\" y=\"13.499981\" style=\"stroke: #000000; stroke-width: 0.8\"/>\n      </g>\n     </g>\n     <g id=\"text_15\">\n      <!-- 1.0 -->\n      <g transform=\"translate(29.257812 17.2992) scale(0.1 -0.1)\">\n       <use xlink:href=\"#DejaVuSans-31\"/>\n       <use xlink:href=\"#DejaVuSans-2e\" x=\"63.623047\"/>\n       <use xlink:href=\"#DejaVuSans-30\" x=\"95.410156\"/>\n      </g>\n     </g>\n    </g>\n    <g id=\"text_16\">\n     <!-- tanh(x) -->\n     <g transform=\"translate(14.798437 94.722656) rotate(-90) scale(0.1 -0.1)\">\n      <defs>\n       <path id=\"DejaVuSans-74\" d=\"M 1172 4494 \nL 1172 3500 \nL 2356 3500 \nL 2356 3053 \nL 1172 3053 \nL 1172 1153 \nQ 1172 725 1289 603 \nQ 1406 481 1766 481 \nL 2356 481 \nL 2356 0 \nL 1766 0 \nQ 1100 0 847 248 \nQ 594 497 594 1153 \nL 594 3053 \nL 172 3053 \nL 172 3500 \nL 594 3500 \nL 594 4494 \nL 1172 4494 \nz\n\" transform=\"scale(0.015625)\"/>\n       <path id=\"DejaVuSans-61\" d=\"M 2194 1759 \nQ 1497 1759 1228 1600 \nQ 959 1441 959 1056 \nQ 959 750 1161 570 \nQ 1363 391 1709 391 \nQ 2188 391 2477 730 \nQ 2766 1069 2766 1631 \nL 2766 1759 \nL 2194 1759 \nz\nM 3341 1997 \nL 3341 0 \nL 2766 0 \nL 2766 531 \nQ 2569 213 2275 61 \nQ 1981 -91 1556 -91 \nQ 1019 -91 701 211 \nQ 384 513 384 1019 \nQ 384 1609 779 1909 \nQ 1175 2209 1959 2209 \nL 2766 2209 \nL 2766 2266 \nQ 2766 2663 2505 2880 \nQ 2244 3097 1772 3097 \nQ 1472 3097 1187 3025 \nQ 903 2953 641 2809 \nL 641 3341 \nQ 956 3463 1253 3523 \nQ 1550 3584 1831 3584 \nQ 2591 3584 2966 3190 \nQ 3341 2797 3341 1997 \nz\n\" transform=\"scale(0.015625)\"/>\n       <path id=\"DejaVuSans-6e\" d=\"M 3513 2113 \nL 3513 0 \nL 2938 0 \nL 2938 2094 \nQ 2938 2591 2744 2837 \nQ 2550 3084 2163 3084 \nQ 1697 3084 1428 2787 \nQ 1159 2491 1159 1978 \nL 1159 0 \nL 581 0 \nL 581 3500 \nL 1159 3500 \nL 1159 2956 \nQ 1366 3272 1645 3428 \nQ 1925 3584 2291 3584 \nQ 2894 3584 3203 3211 \nQ 3513 2838 3513 2113 \nz\n\" transform=\"scale(0.015625)\"/>\n       <path id=\"DejaVuSans-68\" d=\"M 3513 2113 \nL 3513 0 \nL 2938 0 \nL 2938 2094 \nQ 2938 2591 2744 2837 \nQ 2550 3084 2163 3084 \nQ 1697 3084 1428 2787 \nQ 1159 2491 1159 1978 \nL 1159 0 \nL 581 0 \nL 581 4863 \nL 1159 4863 \nL 1159 2956 \nQ 1366 3272 1645 3428 \nQ 1925 3584 2291 3584 \nQ 2894 3584 3203 3211 \nQ 3513 2838 3513 2113 \nz\n\" transform=\"scale(0.015625)\"/>\n       <path id=\"DejaVuSans-28\" d=\"M 1984 4856 \nQ 1566 4138 1362 3434 \nQ 1159 2731 1159 2009 \nQ 1159 1288 1364 580 \nQ 1569 -128 1984 -844 \nL 1484 -844 \nQ 1016 -109 783 600 \nQ 550 1309 550 2009 \nQ 550 2706 781 3412 \nQ 1013 4119 1484 4856 \nL 1984 4856 \nz\n\" transform=\"scale(0.015625)\"/>\n       <path id=\"DejaVuSans-29\" d=\"M 513 4856 \nL 1013 4856 \nQ 1481 4119 1714 3412 \nQ 1947 2706 1947 2009 \nQ 1947 1309 1714 600 \nQ 1481 -109 1013 -844 \nL 513 -844 \nQ 928 -128 1133 580 \nQ 1338 1288 1338 2009 \nQ 1338 2731 1133 3434 \nQ 928 4138 513 4856 \nz\n\" transform=\"scale(0.015625)\"/>\n      </defs>\n      <use xlink:href=\"#DejaVuSans-74\"/>\n      <use xlink:href=\"#DejaVuSans-61\" x=\"39.208984\"/>\n      <use xlink:href=\"#DejaVuSans-6e\" x=\"100.488281\"/>\n      <use xlink:href=\"#DejaVuSans-68\" x=\"163.867188\"/>\n      <use xlink:href=\"#DejaVuSans-28\" x=\"227.246094\"/>\n      <use xlink:href=\"#DejaVuSans-78\" x=\"266.259766\"/>\n      <use xlink:href=\"#DejaVuSans-29\" x=\"325.439453\"/>\n     </g>\n    </g>\n   </g>\n   <g id=\"line2d_29\">\n    <path d=\"M 64.842756 139.5 \nL 135.031438 139.406014 \nL 144.60262 139.188466 \nL 150.983407 138.80874 \nL 155.768998 138.246088 \nL 158.959394 137.638487 \nL 162.149789 136.742976 \nL 163.744987 136.148793 \nL 165.340184 135.430785 \nL 166.935382 134.565131 \nL 168.53058 133.524354 \nL 170.125777 132.277168 \nL 171.720973 130.788573 \nL 173.316171 129.020255 \nL 174.911369 126.93145 \nL 176.506566 124.480444 \nL 178.101763 121.626776 \nL 179.696961 118.334325 \nL 181.292158 114.575179 \nL 182.887355 110.334131 \nL 184.482553 105.613387 \nL 186.07775 100.43679 \nL 189.268144 88.934648 \nL 197.244131 58.147297 \nL 198.839328 52.563206 \nL 200.434526 47.386609 \nL 202.029723 42.665865 \nL 203.62492 38.424817 \nL 205.220118 34.665672 \nL 206.815315 31.373221 \nL 208.410512 28.519552 \nL 210.00571 26.068546 \nL 211.600907 23.979742 \nL 213.196103 22.211427 \nL 214.791301 20.722829 \nL 216.386499 19.475642 \nL 217.981696 18.434865 \nL 219.576894 17.569211 \nL 221.172092 16.851203 \nL 224.362485 15.766244 \nL 227.55288 15.028165 \nL 230.743276 14.528464 \nL 235.528867 14.066512 \nL 241.909658 13.75517 \nL 251.48084 13.576953 \nL 272.218404 13.5057 \nL 318.479119 13.5 \nL 318.479119 13.5 \n\" clip-path=\"url(#pcabbec411c)\" style=\"fill: none; stroke: #1f77b4; stroke-width: 1.5; stroke-linecap: square\"/>\n   </g>\n   <g id=\"patch_3\">\n    <path d=\"M 52.160938 145.8 \nL 52.160938 7.2 \n\" style=\"fill: none; stroke: #000000; stroke-width: 0.8; stroke-linejoin: miter; stroke-linecap: square\"/>\n   </g>\n   <g id=\"patch_4\">\n    <path d=\"M 331.160937 145.8 \nL 331.160937 7.2 \n\" style=\"fill: none; stroke: #000000; stroke-width: 0.8; stroke-linejoin: miter; stroke-linecap: square\"/>\n   </g>\n   <g id=\"patch_5\">\n    <path d=\"M 52.160938 145.8 \nL 331.160938 145.8 \n\" style=\"fill: none; stroke: #000000; stroke-width: 0.8; stroke-linejoin: miter; stroke-linecap: square\"/>\n   </g>\n   <g id=\"patch_6\">\n    <path d=\"M 52.160938 7.2 \nL 331.160938 7.2 \n\" style=\"fill: none; stroke: #000000; stroke-width: 0.8; stroke-linejoin: miter; stroke-linecap: square\"/>\n   </g>\n  </g>\n </g>\n <defs>\n  <clipPath id=\"pcabbec411c\">\n   <rect x=\"52.160938\" y=\"7.2\" width=\"279\" height=\"138.6\"/>\n  </clipPath>\n </defs>\n</svg>\n"
          },
          "metadata": {}
        }
      ],
      "source": [
        "y = torch.tanh(x)\n",
        "d2l.plot(x.detach(), y.detach(), 'x', 'tanh(x)', figsize=(5, 2.5))"
      ]
    },
    {
      "cell_type": "markdown",
      "id": "e99087ab",
      "metadata": {
        "id": "e99087ab",
        "origin_pos": 31
      },
      "source": [
        "The derivative of the tanh function is:\n",
        "\n",
        "$$\\frac{d}{dx} \\operatorname{tanh}(x) = 1 - \\operatorname{tanh}^2(x).$$\n",
        "\n",
        "It is plotted below.\n",
        "As the input nears 0,\n",
        "the derivative of the tanh function approaches a maximum of 1.\n",
        "And as we saw with the sigmoid function,\n",
        "as input moves away from 0 in either direction,\n",
        "the derivative of the tanh function approaches 0.\n"
      ]
    },
    {
      "cell_type": "code",
      "execution_count": null,
      "id": "fef45e56",
      "metadata": {
        "execution": {
          "iopub.execute_input": "2023-08-18T19:38:45.684265Z",
          "iopub.status.busy": "2023-08-18T19:38:45.683296Z",
          "iopub.status.idle": "2023-08-18T19:38:46.004038Z",
          "shell.execute_reply": "2023-08-18T19:38:46.001327Z"
        },
        "id": "fef45e56",
        "origin_pos": 33,
        "outputId": "4926bcb8-6bfd-480b-a361-22408348838f",
        "tab": [
          "pytorch"
        ],
        "colab": {
          "base_uri": "https://localhost:8080/",
          "height": 266
        }
      },
      "outputs": [
        {
          "output_type": "display_data",
          "data": {
            "text/plain": [
              "<Figure size 500x250 with 1 Axes>"
            ],
            "image/svg+xml": "<?xml version=\"1.0\" encoding=\"utf-8\" standalone=\"no\"?>\n<!DOCTYPE svg PUBLIC \"-//W3C//DTD SVG 1.1//EN\"\n  \"http://www.w3.org/Graphics/SVG/1.1/DTD/svg11.dtd\">\n<svg xmlns:xlink=\"http://www.w3.org/1999/xlink\" width=\"329.98125pt\" height=\"183.35625pt\" viewBox=\"0 0 329.98125 183.35625\" xmlns=\"http://www.w3.org/2000/svg\" version=\"1.1\">\n <metadata>\n  <rdf:RDF xmlns:dc=\"http://purl.org/dc/elements/1.1/\" xmlns:cc=\"http://creativecommons.org/ns#\" xmlns:rdf=\"http://www.w3.org/1999/02/22-rdf-syntax-ns#\">\n   <cc:Work>\n    <dc:type rdf:resource=\"http://purl.org/dc/dcmitype/StillImage\"/>\n    <dc:date>2024-09-13T08:32:26.234638</dc:date>\n    <dc:format>image/svg+xml</dc:format>\n    <dc:creator>\n     <cc:Agent>\n      <dc:title>Matplotlib v3.7.2, https://matplotlib.org/</dc:title>\n     </cc:Agent>\n    </dc:creator>\n   </cc:Work>\n  </rdf:RDF>\n </metadata>\n <defs>\n  <style type=\"text/css\">*{stroke-linejoin: round; stroke-linecap: butt}</style>\n </defs>\n <g id=\"figure_1\">\n  <g id=\"patch_1\">\n   <path d=\"M 0 183.35625 \nL 329.98125 183.35625 \nL 329.98125 0 \nL 0 0 \nz\n\" style=\"fill: #ffffff\"/>\n  </g>\n  <g id=\"axes_1\">\n   <g id=\"patch_2\">\n    <path d=\"M 43.78125 145.8 \nL 322.78125 145.8 \nL 322.78125 7.2 \nL 43.78125 7.2 \nz\n\" style=\"fill: #ffffff\"/>\n   </g>\n   <g id=\"matplotlib.axis_1\">\n    <g id=\"xtick_1\">\n     <g id=\"line2d_1\">\n      <path d=\"M 56.463068 145.8 \nL 56.463068 7.2 \n\" clip-path=\"url(#p3d7cbab214)\" style=\"fill: none; stroke: #b0b0b0; stroke-width: 0.8; stroke-linecap: square\"/>\n     </g>\n     <g id=\"line2d_2\">\n      <defs>\n       <path id=\"m4746c459b3\" d=\"M 0 0 \nL 0 3.5 \n\" style=\"stroke: #000000; stroke-width: 0.8\"/>\n      </defs>\n      <g>\n       <use xlink:href=\"#m4746c459b3\" x=\"56.463068\" y=\"145.8\" style=\"stroke: #000000; stroke-width: 0.8\"/>\n      </g>\n     </g>\n     <g id=\"text_1\">\n      <!-- −8 -->\n      <g transform=\"translate(49.091974 160.398438) scale(0.1 -0.1)\">\n       <defs>\n        <path id=\"DejaVuSans-2212\" d=\"M 678 2272 \nL 4684 2272 \nL 4684 1741 \nL 678 1741 \nL 678 2272 \nz\n\" transform=\"scale(0.015625)\"/>\n        <path id=\"DejaVuSans-38\" d=\"M 2034 2216 \nQ 1584 2216 1326 1975 \nQ 1069 1734 1069 1313 \nQ 1069 891 1326 650 \nQ 1584 409 2034 409 \nQ 2484 409 2743 651 \nQ 3003 894 3003 1313 \nQ 3003 1734 2745 1975 \nQ 2488 2216 2034 2216 \nz\nM 1403 2484 \nQ 997 2584 770 2862 \nQ 544 3141 544 3541 \nQ 544 4100 942 4425 \nQ 1341 4750 2034 4750 \nQ 2731 4750 3128 4425 \nQ 3525 4100 3525 3541 \nQ 3525 3141 3298 2862 \nQ 3072 2584 2669 2484 \nQ 3125 2378 3379 2068 \nQ 3634 1759 3634 1313 \nQ 3634 634 3220 271 \nQ 2806 -91 2034 -91 \nQ 1263 -91 848 271 \nQ 434 634 434 1313 \nQ 434 1759 690 2068 \nQ 947 2378 1403 2484 \nz\nM 1172 3481 \nQ 1172 3119 1398 2916 \nQ 1625 2713 2034 2713 \nQ 2441 2713 2670 2916 \nQ 2900 3119 2900 3481 \nQ 2900 3844 2670 4047 \nQ 2441 4250 2034 4250 \nQ 1625 4250 1398 4047 \nQ 1172 3844 1172 3481 \nz\n\" transform=\"scale(0.015625)\"/>\n       </defs>\n       <use xlink:href=\"#DejaVuSans-2212\"/>\n       <use xlink:href=\"#DejaVuSans-38\" x=\"83.789062\"/>\n      </g>\n     </g>\n    </g>\n    <g id=\"xtick_2\">\n     <g id=\"line2d_3\">\n      <path d=\"M 88.367014 145.8 \nL 88.367014 7.2 \n\" clip-path=\"url(#p3d7cbab214)\" style=\"fill: none; stroke: #b0b0b0; stroke-width: 0.8; stroke-linecap: square\"/>\n     </g>\n     <g id=\"line2d_4\">\n      <g>\n       <use xlink:href=\"#m4746c459b3\" x=\"88.367014\" y=\"145.8\" style=\"stroke: #000000; stroke-width: 0.8\"/>\n      </g>\n     </g>\n     <g id=\"text_2\">\n      <!-- −6 -->\n      <g transform=\"translate(80.99592 160.398438) scale(0.1 -0.1)\">\n       <defs>\n        <path id=\"DejaVuSans-36\" d=\"M 2113 2584 \nQ 1688 2584 1439 2293 \nQ 1191 2003 1191 1497 \nQ 1191 994 1439 701 \nQ 1688 409 2113 409 \nQ 2538 409 2786 701 \nQ 3034 994 3034 1497 \nQ 3034 2003 2786 2293 \nQ 2538 2584 2113 2584 \nz\nM 3366 4563 \nL 3366 3988 \nQ 3128 4100 2886 4159 \nQ 2644 4219 2406 4219 \nQ 1781 4219 1451 3797 \nQ 1122 3375 1075 2522 \nQ 1259 2794 1537 2939 \nQ 1816 3084 2150 3084 \nQ 2853 3084 3261 2657 \nQ 3669 2231 3669 1497 \nQ 3669 778 3244 343 \nQ 2819 -91 2113 -91 \nQ 1303 -91 875 529 \nQ 447 1150 447 2328 \nQ 447 3434 972 4092 \nQ 1497 4750 2381 4750 \nQ 2619 4750 2861 4703 \nQ 3103 4656 3366 4563 \nz\n\" transform=\"scale(0.015625)\"/>\n       </defs>\n       <use xlink:href=\"#DejaVuSans-2212\"/>\n       <use xlink:href=\"#DejaVuSans-36\" x=\"83.789062\"/>\n      </g>\n     </g>\n    </g>\n    <g id=\"xtick_3\">\n     <g id=\"line2d_5\">\n      <path d=\"M 120.27096 145.8 \nL 120.27096 7.2 \n\" clip-path=\"url(#p3d7cbab214)\" style=\"fill: none; stroke: #b0b0b0; stroke-width: 0.8; stroke-linecap: square\"/>\n     </g>\n     <g id=\"line2d_6\">\n      <g>\n       <use xlink:href=\"#m4746c459b3\" x=\"120.27096\" y=\"145.8\" style=\"stroke: #000000; stroke-width: 0.8\"/>\n      </g>\n     </g>\n     <g id=\"text_3\">\n      <!-- −4 -->\n      <g transform=\"translate(112.899866 160.398438) scale(0.1 -0.1)\">\n       <defs>\n        <path id=\"DejaVuSans-34\" d=\"M 2419 4116 \nL 825 1625 \nL 2419 1625 \nL 2419 4116 \nz\nM 2253 4666 \nL 3047 4666 \nL 3047 1625 \nL 3713 1625 \nL 3713 1100 \nL 3047 1100 \nL 3047 0 \nL 2419 0 \nL 2419 1100 \nL 313 1100 \nL 313 1709 \nL 2253 4666 \nz\n\" transform=\"scale(0.015625)\"/>\n       </defs>\n       <use xlink:href=\"#DejaVuSans-2212\"/>\n       <use xlink:href=\"#DejaVuSans-34\" x=\"83.789062\"/>\n      </g>\n     </g>\n    </g>\n    <g id=\"xtick_4\">\n     <g id=\"line2d_7\">\n      <path d=\"M 152.174906 145.8 \nL 152.174906 7.2 \n\" clip-path=\"url(#p3d7cbab214)\" style=\"fill: none; stroke: #b0b0b0; stroke-width: 0.8; stroke-linecap: square\"/>\n     </g>\n     <g id=\"line2d_8\">\n      <g>\n       <use xlink:href=\"#m4746c459b3\" x=\"152.174906\" y=\"145.8\" style=\"stroke: #000000; stroke-width: 0.8\"/>\n      </g>\n     </g>\n     <g id=\"text_4\">\n      <!-- −2 -->\n      <g transform=\"translate(144.803812 160.398438) scale(0.1 -0.1)\">\n       <defs>\n        <path id=\"DejaVuSans-32\" d=\"M 1228 531 \nL 3431 531 \nL 3431 0 \nL 469 0 \nL 469 531 \nQ 828 903 1448 1529 \nQ 2069 2156 2228 2338 \nQ 2531 2678 2651 2914 \nQ 2772 3150 2772 3378 \nQ 2772 3750 2511 3984 \nQ 2250 4219 1831 4219 \nQ 1534 4219 1204 4116 \nQ 875 4013 500 3803 \nL 500 4441 \nQ 881 4594 1212 4672 \nQ 1544 4750 1819 4750 \nQ 2544 4750 2975 4387 \nQ 3406 4025 3406 3419 \nQ 3406 3131 3298 2873 \nQ 3191 2616 2906 2266 \nQ 2828 2175 2409 1742 \nQ 1991 1309 1228 531 \nz\n\" transform=\"scale(0.015625)\"/>\n       </defs>\n       <use xlink:href=\"#DejaVuSans-2212\"/>\n       <use xlink:href=\"#DejaVuSans-32\" x=\"83.789062\"/>\n      </g>\n     </g>\n    </g>\n    <g id=\"xtick_5\">\n     <g id=\"line2d_9\">\n      <path d=\"M 184.078852 145.8 \nL 184.078852 7.2 \n\" clip-path=\"url(#p3d7cbab214)\" style=\"fill: none; stroke: #b0b0b0; stroke-width: 0.8; stroke-linecap: square\"/>\n     </g>\n     <g id=\"line2d_10\">\n      <g>\n       <use xlink:href=\"#m4746c459b3\" x=\"184.078852\" y=\"145.8\" style=\"stroke: #000000; stroke-width: 0.8\"/>\n      </g>\n     </g>\n     <g id=\"text_5\">\n      <!-- 0 -->\n      <g transform=\"translate(180.897602 160.398438) scale(0.1 -0.1)\">\n       <defs>\n        <path id=\"DejaVuSans-30\" d=\"M 2034 4250 \nQ 1547 4250 1301 3770 \nQ 1056 3291 1056 2328 \nQ 1056 1369 1301 889 \nQ 1547 409 2034 409 \nQ 2525 409 2770 889 \nQ 3016 1369 3016 2328 \nQ 3016 3291 2770 3770 \nQ 2525 4250 2034 4250 \nz\nM 2034 4750 \nQ 2819 4750 3233 4129 \nQ 3647 3509 3647 2328 \nQ 3647 1150 3233 529 \nQ 2819 -91 2034 -91 \nQ 1250 -91 836 529 \nQ 422 1150 422 2328 \nQ 422 3509 836 4129 \nQ 1250 4750 2034 4750 \nz\n\" transform=\"scale(0.015625)\"/>\n       </defs>\n       <use xlink:href=\"#DejaVuSans-30\"/>\n      </g>\n     </g>\n    </g>\n    <g id=\"xtick_6\">\n     <g id=\"line2d_11\">\n      <path d=\"M 215.982798 145.8 \nL 215.982798 7.2 \n\" clip-path=\"url(#p3d7cbab214)\" style=\"fill: none; stroke: #b0b0b0; stroke-width: 0.8; stroke-linecap: square\"/>\n     </g>\n     <g id=\"line2d_12\">\n      <g>\n       <use xlink:href=\"#m4746c459b3\" x=\"215.982798\" y=\"145.8\" style=\"stroke: #000000; stroke-width: 0.8\"/>\n      </g>\n     </g>\n     <g id=\"text_6\">\n      <!-- 2 -->\n      <g transform=\"translate(212.801548 160.398438) scale(0.1 -0.1)\">\n       <use xlink:href=\"#DejaVuSans-32\"/>\n      </g>\n     </g>\n    </g>\n    <g id=\"xtick_7\">\n     <g id=\"line2d_13\">\n      <path d=\"M 247.886743 145.8 \nL 247.886743 7.2 \n\" clip-path=\"url(#p3d7cbab214)\" style=\"fill: none; stroke: #b0b0b0; stroke-width: 0.8; stroke-linecap: square\"/>\n     </g>\n     <g id=\"line2d_14\">\n      <g>\n       <use xlink:href=\"#m4746c459b3\" x=\"247.886743\" y=\"145.8\" style=\"stroke: #000000; stroke-width: 0.8\"/>\n      </g>\n     </g>\n     <g id=\"text_7\">\n      <!-- 4 -->\n      <g transform=\"translate(244.705493 160.398438) scale(0.1 -0.1)\">\n       <use xlink:href=\"#DejaVuSans-34\"/>\n      </g>\n     </g>\n    </g>\n    <g id=\"xtick_8\">\n     <g id=\"line2d_15\">\n      <path d=\"M 279.790689 145.8 \nL 279.790689 7.2 \n\" clip-path=\"url(#p3d7cbab214)\" style=\"fill: none; stroke: #b0b0b0; stroke-width: 0.8; stroke-linecap: square\"/>\n     </g>\n     <g id=\"line2d_16\">\n      <g>\n       <use xlink:href=\"#m4746c459b3\" x=\"279.790689\" y=\"145.8\" style=\"stroke: #000000; stroke-width: 0.8\"/>\n      </g>\n     </g>\n     <g id=\"text_8\">\n      <!-- 6 -->\n      <g transform=\"translate(276.609439 160.398438) scale(0.1 -0.1)\">\n       <use xlink:href=\"#DejaVuSans-36\"/>\n      </g>\n     </g>\n    </g>\n    <g id=\"xtick_9\">\n     <g id=\"line2d_17\">\n      <path d=\"M 311.694635 145.8 \nL 311.694635 7.2 \n\" clip-path=\"url(#p3d7cbab214)\" style=\"fill: none; stroke: #b0b0b0; stroke-width: 0.8; stroke-linecap: square\"/>\n     </g>\n     <g id=\"line2d_18\">\n      <g>\n       <use xlink:href=\"#m4746c459b3\" x=\"311.694635\" y=\"145.8\" style=\"stroke: #000000; stroke-width: 0.8\"/>\n      </g>\n     </g>\n     <g id=\"text_9\">\n      <!-- 8 -->\n      <g transform=\"translate(308.513385 160.398438) scale(0.1 -0.1)\">\n       <use xlink:href=\"#DejaVuSans-38\"/>\n      </g>\n     </g>\n    </g>\n    <g id=\"text_10\">\n     <!-- x -->\n     <g transform=\"translate(180.321875 174.076563) scale(0.1 -0.1)\">\n      <defs>\n       <path id=\"DejaVuSans-78\" d=\"M 3513 3500 \nL 2247 1797 \nL 3578 0 \nL 2900 0 \nL 1881 1375 \nL 863 0 \nL 184 0 \nL 1544 1831 \nL 300 3500 \nL 978 3500 \nL 1906 2253 \nL 2834 3500 \nL 3513 3500 \nz\n\" transform=\"scale(0.015625)\"/>\n      </defs>\n      <use xlink:href=\"#DejaVuSans-78\"/>\n     </g>\n    </g>\n   </g>\n   <g id=\"matplotlib.axis_2\">\n    <g id=\"ytick_1\">\n     <g id=\"line2d_19\">\n      <path d=\"M 43.78125 139.50006 \nL 322.78125 139.50006 \n\" clip-path=\"url(#p3d7cbab214)\" style=\"fill: none; stroke: #b0b0b0; stroke-width: 0.8; stroke-linecap: square\"/>\n     </g>\n     <g id=\"line2d_20\">\n      <defs>\n       <path id=\"m22fdd73593\" d=\"M 0 0 \nL -3.5 0 \n\" style=\"stroke: #000000; stroke-width: 0.8\"/>\n      </defs>\n      <g>\n       <use xlink:href=\"#m22fdd73593\" x=\"43.78125\" y=\"139.50006\" style=\"stroke: #000000; stroke-width: 0.8\"/>\n      </g>\n     </g>\n     <g id=\"text_11\">\n      <!-- 0.0 -->\n      <g transform=\"translate(20.878125 143.299279) scale(0.1 -0.1)\">\n       <defs>\n        <path id=\"DejaVuSans-2e\" d=\"M 684 794 \nL 1344 794 \nL 1344 0 \nL 684 0 \nL 684 794 \nz\n\" transform=\"scale(0.015625)\"/>\n       </defs>\n       <use xlink:href=\"#DejaVuSans-30\"/>\n       <use xlink:href=\"#DejaVuSans-2e\" x=\"63.623047\"/>\n       <use xlink:href=\"#DejaVuSans-30\" x=\"95.410156\"/>\n      </g>\n     </g>\n    </g>\n    <g id=\"ytick_2\">\n     <g id=\"line2d_21\">\n      <path d=\"M 43.78125 114.300048 \nL 322.78125 114.300048 \n\" clip-path=\"url(#p3d7cbab214)\" style=\"fill: none; stroke: #b0b0b0; stroke-width: 0.8; stroke-linecap: square\"/>\n     </g>\n     <g id=\"line2d_22\">\n      <g>\n       <use xlink:href=\"#m22fdd73593\" x=\"43.78125\" y=\"114.300048\" style=\"stroke: #000000; stroke-width: 0.8\"/>\n      </g>\n     </g>\n     <g id=\"text_12\">\n      <!-- 0.2 -->\n      <g transform=\"translate(20.878125 118.099267) scale(0.1 -0.1)\">\n       <use xlink:href=\"#DejaVuSans-30\"/>\n       <use xlink:href=\"#DejaVuSans-2e\" x=\"63.623047\"/>\n       <use xlink:href=\"#DejaVuSans-32\" x=\"95.410156\"/>\n      </g>\n     </g>\n    </g>\n    <g id=\"ytick_3\">\n     <g id=\"line2d_23\">\n      <path d=\"M 43.78125 89.100036 \nL 322.78125 89.100036 \n\" clip-path=\"url(#p3d7cbab214)\" style=\"fill: none; stroke: #b0b0b0; stroke-width: 0.8; stroke-linecap: square\"/>\n     </g>\n     <g id=\"line2d_24\">\n      <g>\n       <use xlink:href=\"#m22fdd73593\" x=\"43.78125\" y=\"89.100036\" style=\"stroke: #000000; stroke-width: 0.8\"/>\n      </g>\n     </g>\n     <g id=\"text_13\">\n      <!-- 0.4 -->\n      <g transform=\"translate(20.878125 92.899255) scale(0.1 -0.1)\">\n       <use xlink:href=\"#DejaVuSans-30\"/>\n       <use xlink:href=\"#DejaVuSans-2e\" x=\"63.623047\"/>\n       <use xlink:href=\"#DejaVuSans-34\" x=\"95.410156\"/>\n      </g>\n     </g>\n    </g>\n    <g id=\"ytick_4\">\n     <g id=\"line2d_25\">\n      <path d=\"M 43.78125 63.900024 \nL 322.78125 63.900024 \n\" clip-path=\"url(#p3d7cbab214)\" style=\"fill: none; stroke: #b0b0b0; stroke-width: 0.8; stroke-linecap: square\"/>\n     </g>\n     <g id=\"line2d_26\">\n      <g>\n       <use xlink:href=\"#m22fdd73593\" x=\"43.78125\" y=\"63.900024\" style=\"stroke: #000000; stroke-width: 0.8\"/>\n      </g>\n     </g>\n     <g id=\"text_14\">\n      <!-- 0.6 -->\n      <g transform=\"translate(20.878125 67.699243) scale(0.1 -0.1)\">\n       <use xlink:href=\"#DejaVuSans-30\"/>\n       <use xlink:href=\"#DejaVuSans-2e\" x=\"63.623047\"/>\n       <use xlink:href=\"#DejaVuSans-36\" x=\"95.410156\"/>\n      </g>\n     </g>\n    </g>\n    <g id=\"ytick_5\">\n     <g id=\"line2d_27\">\n      <path d=\"M 43.78125 38.700012 \nL 322.78125 38.700012 \n\" clip-path=\"url(#p3d7cbab214)\" style=\"fill: none; stroke: #b0b0b0; stroke-width: 0.8; stroke-linecap: square\"/>\n     </g>\n     <g id=\"line2d_28\">\n      <g>\n       <use xlink:href=\"#m22fdd73593\" x=\"43.78125\" y=\"38.700012\" style=\"stroke: #000000; stroke-width: 0.8\"/>\n      </g>\n     </g>\n     <g id=\"text_15\">\n      <!-- 0.8 -->\n      <g transform=\"translate(20.878125 42.499231) scale(0.1 -0.1)\">\n       <use xlink:href=\"#DejaVuSans-30\"/>\n       <use xlink:href=\"#DejaVuSans-2e\" x=\"63.623047\"/>\n       <use xlink:href=\"#DejaVuSans-38\" x=\"95.410156\"/>\n      </g>\n     </g>\n    </g>\n    <g id=\"ytick_6\">\n     <g id=\"line2d_29\">\n      <path d=\"M 43.78125 13.5 \nL 322.78125 13.5 \n\" clip-path=\"url(#p3d7cbab214)\" style=\"fill: none; stroke: #b0b0b0; stroke-width: 0.8; stroke-linecap: square\"/>\n     </g>\n     <g id=\"line2d_30\">\n      <g>\n       <use xlink:href=\"#m22fdd73593\" x=\"43.78125\" y=\"13.5\" style=\"stroke: #000000; stroke-width: 0.8\"/>\n      </g>\n     </g>\n     <g id=\"text_16\">\n      <!-- 1.0 -->\n      <g transform=\"translate(20.878125 17.299219) scale(0.1 -0.1)\">\n       <defs>\n        <path id=\"DejaVuSans-31\" d=\"M 794 531 \nL 1825 531 \nL 1825 4091 \nL 703 3866 \nL 703 4441 \nL 1819 4666 \nL 2450 4666 \nL 2450 531 \nL 3481 531 \nL 3481 0 \nL 794 0 \nL 794 531 \nz\n\" transform=\"scale(0.015625)\"/>\n       </defs>\n       <use xlink:href=\"#DejaVuSans-31\"/>\n       <use xlink:href=\"#DejaVuSans-2e\" x=\"63.623047\"/>\n       <use xlink:href=\"#DejaVuSans-30\" x=\"95.410156\"/>\n      </g>\n     </g>\n    </g>\n    <g id=\"text_17\">\n     <!-- grad of tanh -->\n     <g transform=\"translate(14.798438 107.327344) rotate(-90) scale(0.1 -0.1)\">\n      <defs>\n       <path id=\"DejaVuSans-67\" d=\"M 2906 1791 \nQ 2906 2416 2648 2759 \nQ 2391 3103 1925 3103 \nQ 1463 3103 1205 2759 \nQ 947 2416 947 1791 \nQ 947 1169 1205 825 \nQ 1463 481 1925 481 \nQ 2391 481 2648 825 \nQ 2906 1169 2906 1791 \nz\nM 3481 434 \nQ 3481 -459 3084 -895 \nQ 2688 -1331 1869 -1331 \nQ 1566 -1331 1297 -1286 \nQ 1028 -1241 775 -1147 \nL 775 -588 \nQ 1028 -725 1275 -790 \nQ 1522 -856 1778 -856 \nQ 2344 -856 2625 -561 \nQ 2906 -266 2906 331 \nL 2906 616 \nQ 2728 306 2450 153 \nQ 2172 0 1784 0 \nQ 1141 0 747 490 \nQ 353 981 353 1791 \nQ 353 2603 747 3093 \nQ 1141 3584 1784 3584 \nQ 2172 3584 2450 3431 \nQ 2728 3278 2906 2969 \nL 2906 3500 \nL 3481 3500 \nL 3481 434 \nz\n\" transform=\"scale(0.015625)\"/>\n       <path id=\"DejaVuSans-72\" d=\"M 2631 2963 \nQ 2534 3019 2420 3045 \nQ 2306 3072 2169 3072 \nQ 1681 3072 1420 2755 \nQ 1159 2438 1159 1844 \nL 1159 0 \nL 581 0 \nL 581 3500 \nL 1159 3500 \nL 1159 2956 \nQ 1341 3275 1631 3429 \nQ 1922 3584 2338 3584 \nQ 2397 3584 2469 3576 \nQ 2541 3569 2628 3553 \nL 2631 2963 \nz\n\" transform=\"scale(0.015625)\"/>\n       <path id=\"DejaVuSans-61\" d=\"M 2194 1759 \nQ 1497 1759 1228 1600 \nQ 959 1441 959 1056 \nQ 959 750 1161 570 \nQ 1363 391 1709 391 \nQ 2188 391 2477 730 \nQ 2766 1069 2766 1631 \nL 2766 1759 \nL 2194 1759 \nz\nM 3341 1997 \nL 3341 0 \nL 2766 0 \nL 2766 531 \nQ 2569 213 2275 61 \nQ 1981 -91 1556 -91 \nQ 1019 -91 701 211 \nQ 384 513 384 1019 \nQ 384 1609 779 1909 \nQ 1175 2209 1959 2209 \nL 2766 2209 \nL 2766 2266 \nQ 2766 2663 2505 2880 \nQ 2244 3097 1772 3097 \nQ 1472 3097 1187 3025 \nQ 903 2953 641 2809 \nL 641 3341 \nQ 956 3463 1253 3523 \nQ 1550 3584 1831 3584 \nQ 2591 3584 2966 3190 \nQ 3341 2797 3341 1997 \nz\n\" transform=\"scale(0.015625)\"/>\n       <path id=\"DejaVuSans-64\" d=\"M 2906 2969 \nL 2906 4863 \nL 3481 4863 \nL 3481 0 \nL 2906 0 \nL 2906 525 \nQ 2725 213 2448 61 \nQ 2172 -91 1784 -91 \nQ 1150 -91 751 415 \nQ 353 922 353 1747 \nQ 353 2572 751 3078 \nQ 1150 3584 1784 3584 \nQ 2172 3584 2448 3432 \nQ 2725 3281 2906 2969 \nz\nM 947 1747 \nQ 947 1113 1208 752 \nQ 1469 391 1925 391 \nQ 2381 391 2643 752 \nQ 2906 1113 2906 1747 \nQ 2906 2381 2643 2742 \nQ 2381 3103 1925 3103 \nQ 1469 3103 1208 2742 \nQ 947 2381 947 1747 \nz\n\" transform=\"scale(0.015625)\"/>\n       <path id=\"DejaVuSans-20\" transform=\"scale(0.015625)\"/>\n       <path id=\"DejaVuSans-6f\" d=\"M 1959 3097 \nQ 1497 3097 1228 2736 \nQ 959 2375 959 1747 \nQ 959 1119 1226 758 \nQ 1494 397 1959 397 \nQ 2419 397 2687 759 \nQ 2956 1122 2956 1747 \nQ 2956 2369 2687 2733 \nQ 2419 3097 1959 3097 \nz\nM 1959 3584 \nQ 2709 3584 3137 3096 \nQ 3566 2609 3566 1747 \nQ 3566 888 3137 398 \nQ 2709 -91 1959 -91 \nQ 1206 -91 779 398 \nQ 353 888 353 1747 \nQ 353 2609 779 3096 \nQ 1206 3584 1959 3584 \nz\n\" transform=\"scale(0.015625)\"/>\n       <path id=\"DejaVuSans-66\" d=\"M 2375 4863 \nL 2375 4384 \nL 1825 4384 \nQ 1516 4384 1395 4259 \nQ 1275 4134 1275 3809 \nL 1275 3500 \nL 2222 3500 \nL 2222 3053 \nL 1275 3053 \nL 1275 0 \nL 697 0 \nL 697 3053 \nL 147 3053 \nL 147 3500 \nL 697 3500 \nL 697 3744 \nQ 697 4328 969 4595 \nQ 1241 4863 1831 4863 \nL 2375 4863 \nz\n\" transform=\"scale(0.015625)\"/>\n       <path id=\"DejaVuSans-74\" d=\"M 1172 4494 \nL 1172 3500 \nL 2356 3500 \nL 2356 3053 \nL 1172 3053 \nL 1172 1153 \nQ 1172 725 1289 603 \nQ 1406 481 1766 481 \nL 2356 481 \nL 2356 0 \nL 1766 0 \nQ 1100 0 847 248 \nQ 594 497 594 1153 \nL 594 3053 \nL 172 3053 \nL 172 3500 \nL 594 3500 \nL 594 4494 \nL 1172 4494 \nz\n\" transform=\"scale(0.015625)\"/>\n       <path id=\"DejaVuSans-6e\" d=\"M 3513 2113 \nL 3513 0 \nL 2938 0 \nL 2938 2094 \nQ 2938 2591 2744 2837 \nQ 2550 3084 2163 3084 \nQ 1697 3084 1428 2787 \nQ 1159 2491 1159 1978 \nL 1159 0 \nL 581 0 \nL 581 3500 \nL 1159 3500 \nL 1159 2956 \nQ 1366 3272 1645 3428 \nQ 1925 3584 2291 3584 \nQ 2894 3584 3203 3211 \nQ 3513 2838 3513 2113 \nz\n\" transform=\"scale(0.015625)\"/>\n       <path id=\"DejaVuSans-68\" d=\"M 3513 2113 \nL 3513 0 \nL 2938 0 \nL 2938 2094 \nQ 2938 2591 2744 2837 \nQ 2550 3084 2163 3084 \nQ 1697 3084 1428 2787 \nQ 1159 2491 1159 1978 \nL 1159 0 \nL 581 0 \nL 581 4863 \nL 1159 4863 \nL 1159 2956 \nQ 1366 3272 1645 3428 \nQ 1925 3584 2291 3584 \nQ 2894 3584 3203 3211 \nQ 3513 2838 3513 2113 \nz\n\" transform=\"scale(0.015625)\"/>\n      </defs>\n      <use xlink:href=\"#DejaVuSans-67\"/>\n      <use xlink:href=\"#DejaVuSans-72\" x=\"63.476562\"/>\n      <use xlink:href=\"#DejaVuSans-61\" x=\"104.589844\"/>\n      <use xlink:href=\"#DejaVuSans-64\" x=\"165.869141\"/>\n      <use xlink:href=\"#DejaVuSans-20\" x=\"229.345703\"/>\n      <use xlink:href=\"#DejaVuSans-6f\" x=\"261.132812\"/>\n      <use xlink:href=\"#DejaVuSans-66\" x=\"322.314453\"/>\n      <use xlink:href=\"#DejaVuSans-20\" x=\"357.519531\"/>\n      <use xlink:href=\"#DejaVuSans-74\" x=\"389.306641\"/>\n      <use xlink:href=\"#DejaVuSans-61\" x=\"428.515625\"/>\n      <use xlink:href=\"#DejaVuSans-6e\" x=\"489.794922\"/>\n      <use xlink:href=\"#DejaVuSans-68\" x=\"553.173828\"/>\n     </g>\n    </g>\n   </g>\n   <g id=\"line2d_31\">\n    <path d=\"M 56.463068 139.5 \nL 115.485365 139.407311 \nL 125.056551 139.19236 \nL 131.437342 138.816301 \nL 136.222933 138.256946 \nL 139.413328 137.650037 \nL 142.60372 136.750129 \nL 144.198919 136.149435 \nL 145.794115 135.419709 \nL 147.389311 134.534266 \nL 148.98451 133.46146 \nL 150.579706 132.163957 \nL 152.174906 130.598053 \nL 153.770102 128.713213 \nL 155.365299 126.451699 \nL 156.960497 123.748808 \nL 158.555695 120.533634 \nL 160.150892 116.731015 \nL 161.74609 112.264839 \nL 163.341286 107.063468 \nL 164.936483 101.067529 \nL 166.531681 94.240673 \nL 168.126879 86.583273 \nL 169.722075 78.148441 \nL 172.912471 59.522835 \nL 176.102865 40.407602 \nL 177.698062 31.68952 \nL 179.29326 24.192751 \nL 180.888457 18.408584 \nL 182.483654 14.751648 \nL 184.078852 13.5 \nL 185.674049 14.751648 \nL 187.269246 18.408584 \nL 188.864444 24.192751 \nL 190.459641 31.68952 \nL 192.054838 40.407602 \nL 198.435628 78.148441 \nL 200.030825 86.583273 \nL 201.626022 94.240673 \nL 203.22122 101.067529 \nL 204.816416 107.063453 \nL 206.411613 112.264839 \nL 208.006811 116.731015 \nL 209.602009 120.533634 \nL 211.197206 123.748808 \nL 212.792404 126.451699 \nL 214.3876 128.713199 \nL 215.982798 130.598053 \nL 217.577993 132.163957 \nL 219.173193 133.46146 \nL 220.768389 134.534266 \nL 222.363588 135.419709 \nL 223.958784 136.149435 \nL 227.149179 137.244125 \nL 230.339575 137.983373 \nL 233.52997 138.481373 \nL 238.315561 138.939958 \nL 244.696348 139.248084 \nL 254.267534 139.424113 \nL 275.005094 139.494412 \nL 310.099432 139.499985 \nL 310.099432 139.499985 \n\" clip-path=\"url(#p3d7cbab214)\" style=\"fill: none; stroke: #1f77b4; stroke-width: 1.5; stroke-linecap: square\"/>\n   </g>\n   <g id=\"patch_3\">\n    <path d=\"M 43.78125 145.8 \nL 43.78125 7.2 \n\" style=\"fill: none; stroke: #000000; stroke-width: 0.8; stroke-linejoin: miter; stroke-linecap: square\"/>\n   </g>\n   <g id=\"patch_4\">\n    <path d=\"M 322.78125 145.8 \nL 322.78125 7.2 \n\" style=\"fill: none; stroke: #000000; stroke-width: 0.8; stroke-linejoin: miter; stroke-linecap: square\"/>\n   </g>\n   <g id=\"patch_5\">\n    <path d=\"M 43.78125 145.8 \nL 322.78125 145.8 \n\" style=\"fill: none; stroke: #000000; stroke-width: 0.8; stroke-linejoin: miter; stroke-linecap: square\"/>\n   </g>\n   <g id=\"patch_6\">\n    <path d=\"M 43.78125 7.2 \nL 322.78125 7.2 \n\" style=\"fill: none; stroke: #000000; stroke-width: 0.8; stroke-linejoin: miter; stroke-linecap: square\"/>\n   </g>\n  </g>\n </g>\n <defs>\n  <clipPath id=\"p3d7cbab214\">\n   <rect x=\"43.78125\" y=\"7.2\" width=\"279\" height=\"138.6\"/>\n  </clipPath>\n </defs>\n</svg>\n"
          },
          "metadata": {}
        }
      ],
      "source": [
        "# Clear out previous gradients\n",
        "x.grad.data.zero_()\n",
        "y.backward(torch.ones_like(x),retain_graph=True)\n",
        "d2l.plot(x.detach(), x.grad, 'x', 'grad of tanh', figsize=(5, 2.5))"
      ]
    },
    {
      "cell_type": "markdown",
      "id": "32968a6b",
      "metadata": {
        "id": "32968a6b",
        "origin_pos": 36
      },
      "source": [
        "## Summary and Discussion\n",
        "\n",
        "We now know how to incorporate nonlinearities\n",
        "to build expressive multilayer neural network architectures.\n",
        "As a side note, your knowledge already\n",
        "puts you in command of a similar toolkit\n",
        "to a practitioner circa 1990.\n",
        "In some ways, you have an advantage\n",
        "over anyone working back then,\n",
        "because you can leverage powerful\n",
        "open-source deep learning frameworks\n",
        "to build models rapidly, using only a few lines of code.\n",
        "Previously, training these networks\n",
        "required researchers to code up layers and derivatives\n",
        "explicitly in C, Fortran, or even Lisp (in the case of LeNet).\n",
        "\n",
        "A secondary benefit is that ReLU is significantly more amenable to\n",
        "optimization than the sigmoid or the tanh function. One could argue\n",
        "that this was one of the key innovations that helped the resurgence\n",
        "of deep learning over the past decade. Note, though, that research in\n",
        "activation functions has not stopped.\n",
        "For instance,\n",
        "the GELU (Gaussian error linear unit)\n",
        "activation function $x \\Phi(x)$ by :citet:`Hendrycks.Gimpel.2016` ($\\Phi(x)$\n",
        "is the standard Gaussian cumulative distribution function)\n",
        "and\n",
        "the Swish activation\n",
        "function $\\sigma(x) = x \\operatorname{sigmoid}(\\beta x)$ as proposed in :citet:`Ramachandran.Zoph.Le.2017` can yield better accuracy\n",
        "in many cases.\n",
        "\n",
        "## Exercises\n",
        "\n",
        "1. Show that adding layers to a *linear* deep network, i.e., a network without\n",
        "   nonlinearity $\\sigma$ can never increase the expressive power of the network.\n",
        "   Give an example where it actively reduces it.\n",
        "1. Compute the derivative of the pReLU activation function.\n",
        "1. Compute the derivative of the Swish activation function $x \\operatorname{sigmoid}(\\beta x)$.\n",
        "1. Show that an MLP using only ReLU (or pReLU) constructs a\n",
        "   continuous piecewise linear function.\n",
        "1. Sigmoid and tanh are very similar.\n",
        "    1. Show that $\\operatorname{tanh}(x) + 1 = 2 \\operatorname{sigmoid}(2x)$.\n",
        "    1. Prove that the function classes parametrized by both nonlinearities are identical. Hint: affine layers have bias terms, too.\n",
        "1. Assume that we have a nonlinearity that applies to one minibatch at a time, such as the batch normalization :cite:`Ioffe.Szegedy.2015`. What kinds of problems do you expect this to cause?\n",
        "1. Provide an example where the gradients vanish for the sigmoid activation function.\n"
      ]
    },
    {
      "cell_type": "markdown",
      "id": "ce04909b",
      "metadata": {
        "id": "ce04909b",
        "origin_pos": 38,
        "tab": [
          "pytorch"
        ]
      },
      "source": [
        "[Discussions](https://discuss.d2l.ai/t/91)\n"
      ]
    },
    {
      "cell_type": "markdown",
      "id": "6c7d6da4",
      "metadata": {
        "id": "6c7d6da4"
      },
      "source": [
        "The following additional libraries are needed to run this\n",
        "notebook. Note that running on Colab is experimental, please report a Github\n",
        "issue if you have any problem."
      ]
    },
    {
      "cell_type": "markdown",
      "id": "3333804c",
      "metadata": {
        "id": "3333804c",
        "origin_pos": 1
      },
      "source": [
        "# Implementation of Multilayer Perceptrons\n",
        ":label:`sec_mlp-implementation`\n",
        "\n",
        "Multilayer perceptrons (MLPs) are not much more complex to implement than simple linear models. The key conceptual\n",
        "difference is that we now concatenate multiple layers.\n"
      ]
    },
    {
      "cell_type": "code",
      "execution_count": null,
      "id": "87926c3b",
      "metadata": {
        "execution": {
          "iopub.execute_input": "2023-08-18T19:41:22.340655Z",
          "iopub.status.busy": "2023-08-18T19:41:22.340381Z",
          "iopub.status.idle": "2023-08-18T19:41:25.449640Z",
          "shell.execute_reply": "2023-08-18T19:41:25.448607Z"
        },
        "id": "87926c3b",
        "origin_pos": 3,
        "tab": [
          "pytorch"
        ]
      },
      "outputs": [],
      "source": [
        "import torch\n",
        "from torch import nn\n",
        "from d2l import torch as d2l"
      ]
    },
    {
      "cell_type": "markdown",
      "id": "1f2763e5",
      "metadata": {
        "id": "1f2763e5",
        "origin_pos": 6
      },
      "source": [
        "## Implementation from Scratch\n",
        "\n",
        "Let's begin again by implementing such a network from scratch.\n",
        "\n",
        "### Initializing Model Parameters\n",
        "\n",
        "Recall that Fashion-MNIST contains 10 classes,\n",
        "and that each image consists of a $28 \\times 28 = 784$\n",
        "grid of grayscale pixel values.\n",
        "As before we will disregard the spatial structure\n",
        "among the pixels for now,\n",
        "so we can think of this as a classification dataset\n",
        "with 784 input features and 10 classes.\n",
        "To begin, we will [**implement an MLP\n",
        "with one hidden layer and 256 hidden units.**]\n",
        "Both the number of layers and their width are adjustable\n",
        "(they are considered hyperparameters).\n",
        "Typically, we choose the layer widths to be divisible by larger powers of 2.\n",
        "This is computationally efficient due to the way\n",
        "memory is allocated and addressed in hardware.\n",
        "\n",
        "Again, we will represent our parameters with several tensors.\n",
        "Note that *for every layer*, we must keep track of\n",
        "one weight matrix and one bias vector.\n",
        "As always, we allocate memory\n",
        "for the gradients of the loss with respect to these parameters.\n"
      ]
    },
    {
      "cell_type": "markdown",
      "id": "08aa4fb7",
      "metadata": {
        "id": "08aa4fb7",
        "origin_pos": 8,
        "tab": [
          "pytorch"
        ]
      },
      "source": [
        "In the code below we use `nn.Parameter`\n",
        "to automatically register\n",
        "a class attribute as a parameter to be tracked by `autograd` (:numref:`sec_autograd`).\n"
      ]
    },
    {
      "cell_type": "code",
      "execution_count": null,
      "id": "bcccd30d",
      "metadata": {
        "execution": {
          "iopub.execute_input": "2023-08-18T19:41:25.459844Z",
          "iopub.status.busy": "2023-08-18T19:41:25.459149Z",
          "iopub.status.idle": "2023-08-18T19:41:25.472859Z",
          "shell.execute_reply": "2023-08-18T19:41:25.471738Z"
        },
        "id": "bcccd30d",
        "origin_pos": 12,
        "tab": [
          "pytorch"
        ]
      },
      "outputs": [],
      "source": [
        "class MLPScratch(d2l.Classifier):\n",
        "    def __init__(self, num_inputs, num_outputs, num_hiddens, lr, sigma=0.01):\n",
        "        super().__init__()\n",
        "        self.save_hyperparameters()\n",
        "        self.W1 = nn.Parameter(torch.randn(num_inputs, num_hiddens) * sigma)\n",
        "        self.b1 = nn.Parameter(torch.zeros(num_hiddens))\n",
        "        self.W2 = nn.Parameter(torch.randn(num_hiddens, num_outputs) * sigma)\n",
        "        self.b2 = nn.Parameter(torch.zeros(num_outputs))"
      ]
    },
    {
      "cell_type": "markdown",
      "id": "49aeeb41",
      "metadata": {
        "id": "49aeeb41",
        "origin_pos": 15
      },
      "source": [
        "### Model\n",
        "\n",
        "To make sure we know how everything works,\n",
        "we will [**implement the ReLU activation**] ourselves\n",
        "rather than invoking the built-in `relu` function directly.\n"
      ]
    },
    {
      "cell_type": "code",
      "execution_count": null,
      "id": "2af157bb",
      "metadata": {
        "execution": {
          "iopub.execute_input": "2023-08-18T19:41:25.477923Z",
          "iopub.status.busy": "2023-08-18T19:41:25.477044Z",
          "iopub.status.idle": "2023-08-18T19:41:25.482976Z",
          "shell.execute_reply": "2023-08-18T19:41:25.481963Z"
        },
        "id": "2af157bb",
        "origin_pos": 17,
        "tab": [
          "pytorch"
        ]
      },
      "outputs": [],
      "source": [
        "def relu(X):\n",
        "    a = torch.zeros_like(X)\n",
        "    return torch.max(X, a)"
      ]
    },
    {
      "cell_type": "markdown",
      "id": "3f8bd74c",
      "metadata": {
        "id": "3f8bd74c",
        "origin_pos": 20
      },
      "source": [
        "Since we are disregarding spatial structure,\n",
        "we `reshape` each two-dimensional image into\n",
        "a flat vector of length  `num_inputs`.\n",
        "Finally, we (**implement our model**)\n",
        "with just a few lines of code. Since we use the framework built-in autograd this is all that it takes.\n"
      ]
    },
    {
      "cell_type": "code",
      "execution_count": null,
      "id": "7438b40c",
      "metadata": {
        "execution": {
          "iopub.execute_input": "2023-08-18T19:41:25.492513Z",
          "iopub.status.busy": "2023-08-18T19:41:25.491685Z",
          "iopub.status.idle": "2023-08-18T19:41:25.498375Z",
          "shell.execute_reply": "2023-08-18T19:41:25.497344Z"
        },
        "id": "7438b40c",
        "origin_pos": 21,
        "tab": [
          "pytorch"
        ]
      },
      "outputs": [],
      "source": [
        "@d2l.add_to_class(MLPScratch)\n",
        "def forward(self, X):\n",
        "    X = X.reshape((-1, self.num_inputs))\n",
        "    H = relu(torch.matmul(X, self.W1) + self.b1)\n",
        "    return torch.matmul(H, self.W2) + self.b2"
      ]
    },
    {
      "cell_type": "markdown",
      "id": "f07056fc",
      "metadata": {
        "id": "f07056fc",
        "origin_pos": 22
      },
      "source": [
        "### Training\n",
        "\n",
        "Fortunately, [**the training loop for MLPs\n",
        "is exactly the same as for softmax regression.**] We define the model, data, and trainer, then finally invoke the `fit` method on model and data.\n"
      ]
    },
    {
      "cell_type": "code",
      "execution_count": null,
      "id": "82d57362",
      "metadata": {
        "execution": {
          "iopub.execute_input": "2023-08-18T19:41:25.502740Z",
          "iopub.status.busy": "2023-08-18T19:41:25.502096Z",
          "iopub.status.idle": "2023-08-18T19:42:19.146140Z",
          "shell.execute_reply": "2023-08-18T19:42:19.144962Z"
        },
        "id": "82d57362",
        "origin_pos": 23,
        "outputId": "2a9de02d-d6e8-420e-9136-52f35c9ea441",
        "tab": [
          "pytorch"
        ],
        "colab": {
          "base_uri": "https://localhost:8080/",
          "height": 266
        }
      },
      "outputs": [
        {
          "output_type": "display_data",
          "data": {
            "text/plain": [
              "<Figure size 350x250 with 1 Axes>"
            ],
            "image/svg+xml": "<?xml version=\"1.0\" encoding=\"utf-8\" standalone=\"no\"?>\n<!DOCTYPE svg PUBLIC \"-//W3C//DTD SVG 1.1//EN\"\n  \"http://www.w3.org/Graphics/SVG/1.1/DTD/svg11.dtd\">\n<svg xmlns:xlink=\"http://www.w3.org/1999/xlink\" width=\"238.965625pt\" height=\"183.35625pt\" viewBox=\"0 0 238.965625 183.35625\" xmlns=\"http://www.w3.org/2000/svg\" version=\"1.1\">\n <metadata>\n  <rdf:RDF xmlns:dc=\"http://purl.org/dc/elements/1.1/\" xmlns:cc=\"http://creativecommons.org/ns#\" xmlns:rdf=\"http://www.w3.org/1999/02/22-rdf-syntax-ns#\">\n   <cc:Work>\n    <dc:type rdf:resource=\"http://purl.org/dc/dcmitype/StillImage\"/>\n    <dc:date>2024-09-13T08:34:51.034429</dc:date>\n    <dc:format>image/svg+xml</dc:format>\n    <dc:creator>\n     <cc:Agent>\n      <dc:title>Matplotlib v3.7.2, https://matplotlib.org/</dc:title>\n     </cc:Agent>\n    </dc:creator>\n   </cc:Work>\n  </rdf:RDF>\n </metadata>\n <defs>\n  <style type=\"text/css\">*{stroke-linejoin: round; stroke-linecap: butt}</style>\n </defs>\n <g id=\"figure_1\">\n  <g id=\"patch_1\">\n   <path d=\"M 0 183.35625 \nL 238.965625 183.35625 \nL 238.965625 0 \nL 0 0 \nz\n\" style=\"fill: #ffffff\"/>\n  </g>\n  <g id=\"axes_1\">\n   <g id=\"patch_2\">\n    <path d=\"M 30.103125 145.8 \nL 225.403125 145.8 \nL 225.403125 7.2 \nL 30.103125 7.2 \nz\n\" style=\"fill: #ffffff\"/>\n   </g>\n   <g id=\"matplotlib.axis_1\">\n    <g id=\"xtick_1\">\n     <g id=\"line2d_1\">\n      <defs>\n       <path id=\"m49d21d7526\" d=\"M 0 0 \nL 0 3.5 \n\" style=\"stroke: #000000; stroke-width: 0.8\"/>\n      </defs>\n      <g>\n       <use xlink:href=\"#m49d21d7526\" x=\"30.103125\" y=\"145.8\" style=\"stroke: #000000; stroke-width: 0.8\"/>\n      </g>\n     </g>\n     <g id=\"text_1\">\n      <!-- 0 -->\n      <g transform=\"translate(26.921875 160.398438) scale(0.1 -0.1)\">\n       <defs>\n        <path id=\"DejaVuSans-30\" d=\"M 2034 4250 \nQ 1547 4250 1301 3770 \nQ 1056 3291 1056 2328 \nQ 1056 1369 1301 889 \nQ 1547 409 2034 409 \nQ 2525 409 2770 889 \nQ 3016 1369 3016 2328 \nQ 3016 3291 2770 3770 \nQ 2525 4250 2034 4250 \nz\nM 2034 4750 \nQ 2819 4750 3233 4129 \nQ 3647 3509 3647 2328 \nQ 3647 1150 3233 529 \nQ 2819 -91 2034 -91 \nQ 1250 -91 836 529 \nQ 422 1150 422 2328 \nQ 422 3509 836 4129 \nQ 1250 4750 2034 4750 \nz\n\" transform=\"scale(0.015625)\"/>\n       </defs>\n       <use xlink:href=\"#DejaVuSans-30\"/>\n      </g>\n     </g>\n    </g>\n    <g id=\"xtick_2\">\n     <g id=\"line2d_2\">\n      <g>\n       <use xlink:href=\"#m49d21d7526\" x=\"69.163125\" y=\"145.8\" style=\"stroke: #000000; stroke-width: 0.8\"/>\n      </g>\n     </g>\n     <g id=\"text_2\">\n      <!-- 2 -->\n      <g transform=\"translate(65.981875 160.398438) scale(0.1 -0.1)\">\n       <defs>\n        <path id=\"DejaVuSans-32\" d=\"M 1228 531 \nL 3431 531 \nL 3431 0 \nL 469 0 \nL 469 531 \nQ 828 903 1448 1529 \nQ 2069 2156 2228 2338 \nQ 2531 2678 2651 2914 \nQ 2772 3150 2772 3378 \nQ 2772 3750 2511 3984 \nQ 2250 4219 1831 4219 \nQ 1534 4219 1204 4116 \nQ 875 4013 500 3803 \nL 500 4441 \nQ 881 4594 1212 4672 \nQ 1544 4750 1819 4750 \nQ 2544 4750 2975 4387 \nQ 3406 4025 3406 3419 \nQ 3406 3131 3298 2873 \nQ 3191 2616 2906 2266 \nQ 2828 2175 2409 1742 \nQ 1991 1309 1228 531 \nz\n\" transform=\"scale(0.015625)\"/>\n       </defs>\n       <use xlink:href=\"#DejaVuSans-32\"/>\n      </g>\n     </g>\n    </g>\n    <g id=\"xtick_3\">\n     <g id=\"line2d_3\">\n      <g>\n       <use xlink:href=\"#m49d21d7526\" x=\"108.223125\" y=\"145.8\" style=\"stroke: #000000; stroke-width: 0.8\"/>\n      </g>\n     </g>\n     <g id=\"text_3\">\n      <!-- 4 -->\n      <g transform=\"translate(105.041875 160.398438) scale(0.1 -0.1)\">\n       <defs>\n        <path id=\"DejaVuSans-34\" d=\"M 2419 4116 \nL 825 1625 \nL 2419 1625 \nL 2419 4116 \nz\nM 2253 4666 \nL 3047 4666 \nL 3047 1625 \nL 3713 1625 \nL 3713 1100 \nL 3047 1100 \nL 3047 0 \nL 2419 0 \nL 2419 1100 \nL 313 1100 \nL 313 1709 \nL 2253 4666 \nz\n\" transform=\"scale(0.015625)\"/>\n       </defs>\n       <use xlink:href=\"#DejaVuSans-34\"/>\n      </g>\n     </g>\n    </g>\n    <g id=\"xtick_4\">\n     <g id=\"line2d_4\">\n      <g>\n       <use xlink:href=\"#m49d21d7526\" x=\"147.283125\" y=\"145.8\" style=\"stroke: #000000; stroke-width: 0.8\"/>\n      </g>\n     </g>\n     <g id=\"text_4\">\n      <!-- 6 -->\n      <g transform=\"translate(144.101875 160.398438) scale(0.1 -0.1)\">\n       <defs>\n        <path id=\"DejaVuSans-36\" d=\"M 2113 2584 \nQ 1688 2584 1439 2293 \nQ 1191 2003 1191 1497 \nQ 1191 994 1439 701 \nQ 1688 409 2113 409 \nQ 2538 409 2786 701 \nQ 3034 994 3034 1497 \nQ 3034 2003 2786 2293 \nQ 2538 2584 2113 2584 \nz\nM 3366 4563 \nL 3366 3988 \nQ 3128 4100 2886 4159 \nQ 2644 4219 2406 4219 \nQ 1781 4219 1451 3797 \nQ 1122 3375 1075 2522 \nQ 1259 2794 1537 2939 \nQ 1816 3084 2150 3084 \nQ 2853 3084 3261 2657 \nQ 3669 2231 3669 1497 \nQ 3669 778 3244 343 \nQ 2819 -91 2113 -91 \nQ 1303 -91 875 529 \nQ 447 1150 447 2328 \nQ 447 3434 972 4092 \nQ 1497 4750 2381 4750 \nQ 2619 4750 2861 4703 \nQ 3103 4656 3366 4563 \nz\n\" transform=\"scale(0.015625)\"/>\n       </defs>\n       <use xlink:href=\"#DejaVuSans-36\"/>\n      </g>\n     </g>\n    </g>\n    <g id=\"xtick_5\">\n     <g id=\"line2d_5\">\n      <g>\n       <use xlink:href=\"#m49d21d7526\" x=\"186.343125\" y=\"145.8\" style=\"stroke: #000000; stroke-width: 0.8\"/>\n      </g>\n     </g>\n     <g id=\"text_5\">\n      <!-- 8 -->\n      <g transform=\"translate(183.161875 160.398438) scale(0.1 -0.1)\">\n       <defs>\n        <path id=\"DejaVuSans-38\" d=\"M 2034 2216 \nQ 1584 2216 1326 1975 \nQ 1069 1734 1069 1313 \nQ 1069 891 1326 650 \nQ 1584 409 2034 409 \nQ 2484 409 2743 651 \nQ 3003 894 3003 1313 \nQ 3003 1734 2745 1975 \nQ 2488 2216 2034 2216 \nz\nM 1403 2484 \nQ 997 2584 770 2862 \nQ 544 3141 544 3541 \nQ 544 4100 942 4425 \nQ 1341 4750 2034 4750 \nQ 2731 4750 3128 4425 \nQ 3525 4100 3525 3541 \nQ 3525 3141 3298 2862 \nQ 3072 2584 2669 2484 \nQ 3125 2378 3379 2068 \nQ 3634 1759 3634 1313 \nQ 3634 634 3220 271 \nQ 2806 -91 2034 -91 \nQ 1263 -91 848 271 \nQ 434 634 434 1313 \nQ 434 1759 690 2068 \nQ 947 2378 1403 2484 \nz\nM 1172 3481 \nQ 1172 3119 1398 2916 \nQ 1625 2713 2034 2713 \nQ 2441 2713 2670 2916 \nQ 2900 3119 2900 3481 \nQ 2900 3844 2670 4047 \nQ 2441 4250 2034 4250 \nQ 1625 4250 1398 4047 \nQ 1172 3844 1172 3481 \nz\n\" transform=\"scale(0.015625)\"/>\n       </defs>\n       <use xlink:href=\"#DejaVuSans-38\"/>\n      </g>\n     </g>\n    </g>\n    <g id=\"xtick_6\">\n     <g id=\"line2d_6\">\n      <g>\n       <use xlink:href=\"#m49d21d7526\" x=\"225.403125\" y=\"145.8\" style=\"stroke: #000000; stroke-width: 0.8\"/>\n      </g>\n     </g>\n     <g id=\"text_6\">\n      <!-- 10 -->\n      <g transform=\"translate(219.040625 160.398438) scale(0.1 -0.1)\">\n       <defs>\n        <path id=\"DejaVuSans-31\" d=\"M 794 531 \nL 1825 531 \nL 1825 4091 \nL 703 3866 \nL 703 4441 \nL 1819 4666 \nL 2450 4666 \nL 2450 531 \nL 3481 531 \nL 3481 0 \nL 794 0 \nL 794 531 \nz\n\" transform=\"scale(0.015625)\"/>\n       </defs>\n       <use xlink:href=\"#DejaVuSans-31\"/>\n       <use xlink:href=\"#DejaVuSans-30\" x=\"63.623047\"/>\n      </g>\n     </g>\n    </g>\n    <g id=\"text_7\">\n     <!-- epoch -->\n     <g transform=\"translate(112.525 174.076563) scale(0.1 -0.1)\">\n      <defs>\n       <path id=\"DejaVuSans-65\" d=\"M 3597 1894 \nL 3597 1613 \nL 953 1613 \nQ 991 1019 1311 708 \nQ 1631 397 2203 397 \nQ 2534 397 2845 478 \nQ 3156 559 3463 722 \nL 3463 178 \nQ 3153 47 2828 -22 \nQ 2503 -91 2169 -91 \nQ 1331 -91 842 396 \nQ 353 884 353 1716 \nQ 353 2575 817 3079 \nQ 1281 3584 2069 3584 \nQ 2775 3584 3186 3129 \nQ 3597 2675 3597 1894 \nz\nM 3022 2063 \nQ 3016 2534 2758 2815 \nQ 2500 3097 2075 3097 \nQ 1594 3097 1305 2825 \nQ 1016 2553 972 2059 \nL 3022 2063 \nz\n\" transform=\"scale(0.015625)\"/>\n       <path id=\"DejaVuSans-70\" d=\"M 1159 525 \nL 1159 -1331 \nL 581 -1331 \nL 581 3500 \nL 1159 3500 \nL 1159 2969 \nQ 1341 3281 1617 3432 \nQ 1894 3584 2278 3584 \nQ 2916 3584 3314 3078 \nQ 3713 2572 3713 1747 \nQ 3713 922 3314 415 \nQ 2916 -91 2278 -91 \nQ 1894 -91 1617 61 \nQ 1341 213 1159 525 \nz\nM 3116 1747 \nQ 3116 2381 2855 2742 \nQ 2594 3103 2138 3103 \nQ 1681 3103 1420 2742 \nQ 1159 2381 1159 1747 \nQ 1159 1113 1420 752 \nQ 1681 391 2138 391 \nQ 2594 391 2855 752 \nQ 3116 1113 3116 1747 \nz\n\" transform=\"scale(0.015625)\"/>\n       <path id=\"DejaVuSans-6f\" d=\"M 1959 3097 \nQ 1497 3097 1228 2736 \nQ 959 2375 959 1747 \nQ 959 1119 1226 758 \nQ 1494 397 1959 397 \nQ 2419 397 2687 759 \nQ 2956 1122 2956 1747 \nQ 2956 2369 2687 2733 \nQ 2419 3097 1959 3097 \nz\nM 1959 3584 \nQ 2709 3584 3137 3096 \nQ 3566 2609 3566 1747 \nQ 3566 888 3137 398 \nQ 2709 -91 1959 -91 \nQ 1206 -91 779 398 \nQ 353 888 353 1747 \nQ 353 2609 779 3096 \nQ 1206 3584 1959 3584 \nz\n\" transform=\"scale(0.015625)\"/>\n       <path id=\"DejaVuSans-63\" d=\"M 3122 3366 \nL 3122 2828 \nQ 2878 2963 2633 3030 \nQ 2388 3097 2138 3097 \nQ 1578 3097 1268 2742 \nQ 959 2388 959 1747 \nQ 959 1106 1268 751 \nQ 1578 397 2138 397 \nQ 2388 397 2633 464 \nQ 2878 531 3122 666 \nL 3122 134 \nQ 2881 22 2623 -34 \nQ 2366 -91 2075 -91 \nQ 1284 -91 818 406 \nQ 353 903 353 1747 \nQ 353 2603 823 3093 \nQ 1294 3584 2113 3584 \nQ 2378 3584 2631 3529 \nQ 2884 3475 3122 3366 \nz\n\" transform=\"scale(0.015625)\"/>\n       <path id=\"DejaVuSans-68\" d=\"M 3513 2113 \nL 3513 0 \nL 2938 0 \nL 2938 2094 \nQ 2938 2591 2744 2837 \nQ 2550 3084 2163 3084 \nQ 1697 3084 1428 2787 \nQ 1159 2491 1159 1978 \nL 1159 0 \nL 581 0 \nL 581 4863 \nL 1159 4863 \nL 1159 2956 \nQ 1366 3272 1645 3428 \nQ 1925 3584 2291 3584 \nQ 2894 3584 3203 3211 \nQ 3513 2838 3513 2113 \nz\n\" transform=\"scale(0.015625)\"/>\n      </defs>\n      <use xlink:href=\"#DejaVuSans-65\"/>\n      <use xlink:href=\"#DejaVuSans-70\" x=\"61.523438\"/>\n      <use xlink:href=\"#DejaVuSans-6f\" x=\"125\"/>\n      <use xlink:href=\"#DejaVuSans-63\" x=\"186.181641\"/>\n      <use xlink:href=\"#DejaVuSans-68\" x=\"241.162109\"/>\n     </g>\n    </g>\n   </g>\n   <g id=\"matplotlib.axis_2\">\n    <g id=\"ytick_1\">\n     <g id=\"line2d_7\">\n      <defs>\n       <path id=\"m3452a26239\" d=\"M 0 0 \nL -3.5 0 \n\" style=\"stroke: #000000; stroke-width: 0.8\"/>\n      </defs>\n      <g>\n       <use xlink:href=\"#m3452a26239\" x=\"30.103125\" y=\"137.085187\" style=\"stroke: #000000; stroke-width: 0.8\"/>\n      </g>\n     </g>\n     <g id=\"text_8\">\n      <!-- 0.4 -->\n      <g transform=\"translate(7.2 140.884405) scale(0.1 -0.1)\">\n       <defs>\n        <path id=\"DejaVuSans-2e\" d=\"M 684 794 \nL 1344 794 \nL 1344 0 \nL 684 0 \nL 684 794 \nz\n\" transform=\"scale(0.015625)\"/>\n       </defs>\n       <use xlink:href=\"#DejaVuSans-30\"/>\n       <use xlink:href=\"#DejaVuSans-2e\" x=\"63.623047\"/>\n       <use xlink:href=\"#DejaVuSans-34\" x=\"95.410156\"/>\n      </g>\n     </g>\n    </g>\n    <g id=\"ytick_2\">\n     <g id=\"line2d_8\">\n      <g>\n       <use xlink:href=\"#m3452a26239\" x=\"30.103125\" y=\"110.592389\" style=\"stroke: #000000; stroke-width: 0.8\"/>\n      </g>\n     </g>\n     <g id=\"text_9\">\n      <!-- 0.6 -->\n      <g transform=\"translate(7.2 114.391608) scale(0.1 -0.1)\">\n       <use xlink:href=\"#DejaVuSans-30\"/>\n       <use xlink:href=\"#DejaVuSans-2e\" x=\"63.623047\"/>\n       <use xlink:href=\"#DejaVuSans-36\" x=\"95.410156\"/>\n      </g>\n     </g>\n    </g>\n    <g id=\"ytick_3\">\n     <g id=\"line2d_9\">\n      <g>\n       <use xlink:href=\"#m3452a26239\" x=\"30.103125\" y=\"84.099592\" style=\"stroke: #000000; stroke-width: 0.8\"/>\n      </g>\n     </g>\n     <g id=\"text_10\">\n      <!-- 0.8 -->\n      <g transform=\"translate(7.2 87.898811) scale(0.1 -0.1)\">\n       <use xlink:href=\"#DejaVuSans-30\"/>\n       <use xlink:href=\"#DejaVuSans-2e\" x=\"63.623047\"/>\n       <use xlink:href=\"#DejaVuSans-38\" x=\"95.410156\"/>\n      </g>\n     </g>\n    </g>\n    <g id=\"ytick_4\">\n     <g id=\"line2d_10\">\n      <g>\n       <use xlink:href=\"#m3452a26239\" x=\"30.103125\" y=\"57.606795\" style=\"stroke: #000000; stroke-width: 0.8\"/>\n      </g>\n     </g>\n     <g id=\"text_11\">\n      <!-- 1.0 -->\n      <g transform=\"translate(7.2 61.406014) scale(0.1 -0.1)\">\n       <use xlink:href=\"#DejaVuSans-31\"/>\n       <use xlink:href=\"#DejaVuSans-2e\" x=\"63.623047\"/>\n       <use xlink:href=\"#DejaVuSans-30\" x=\"95.410156\"/>\n      </g>\n     </g>\n    </g>\n    <g id=\"ytick_5\">\n     <g id=\"line2d_11\">\n      <g>\n       <use xlink:href=\"#m3452a26239\" x=\"30.103125\" y=\"31.113998\" style=\"stroke: #000000; stroke-width: 0.8\"/>\n      </g>\n     </g>\n     <g id=\"text_12\">\n      <!-- 1.2 -->\n      <g transform=\"translate(7.2 34.913217) scale(0.1 -0.1)\">\n       <use xlink:href=\"#DejaVuSans-31\"/>\n       <use xlink:href=\"#DejaVuSans-2e\" x=\"63.623047\"/>\n       <use xlink:href=\"#DejaVuSans-32\" x=\"95.410156\"/>\n      </g>\n     </g>\n    </g>\n   </g>\n   <g id=\"line2d_12\">\n    <path d=\"M 34.923295 13.5 \n\" clip-path=\"url(#p1b1746e8a6)\" style=\"fill: none; stroke: #1f77b4; stroke-width: 1.5; stroke-linecap: square\"/>\n   </g>\n   <g id=\"line2d_13\">\n    <path d=\"M 34.923295 13.5 \nL 44.646742 91.309749 \n\" clip-path=\"url(#p1b1746e8a6)\" style=\"fill: none; stroke: #1f77b4; stroke-width: 1.5; stroke-linecap: square\"/>\n   </g>\n   <g id=\"line2d_14\">\n    <path d=\"M 34.923295 13.5 \nL 44.646742 91.309749 \n\" clip-path=\"url(#p1b1746e8a6)\" style=\"fill: none; stroke: #1f77b4; stroke-width: 1.5; stroke-linecap: square\"/>\n   </g>\n   <g id=\"line2d_15\">\n    <path d=\"M 49.633125 82.386667 \n\" clip-path=\"url(#p1b1746e8a6)\" style=\"fill: none; stroke-dasharray: 5.55,2.4; stroke-dashoffset: 0; stroke: #ff7f0e; stroke-width: 1.5\"/>\n   </g>\n   <g id=\"line2d_16\"/>\n   <g id=\"line2d_17\">\n    <path d=\"M 34.923295 13.5 \nL 44.646742 91.309749 \n\" clip-path=\"url(#p1b1746e8a6)\" style=\"fill: none; stroke: #1f77b4; stroke-width: 1.5; stroke-linecap: square\"/>\n   </g>\n   <g id=\"line2d_18\">\n    <path d=\"M 49.633125 82.386667 \n\" clip-path=\"url(#p1b1746e8a6)\" style=\"fill: none; stroke-dasharray: 5.55,2.4; stroke-dashoffset: 0; stroke: #ff7f0e; stroke-width: 1.5\"/>\n   </g>\n   <g id=\"line2d_19\">\n    <path d=\"M 49.633125 95.030458 \n\" clip-path=\"url(#p1b1746e8a6)\" style=\"fill: none; stroke-dasharray: 9.6,2.4,1.5,2.4; stroke-dashoffset: 0; stroke: #2ca02c; stroke-width: 1.5\"/>\n   </g>\n   <g id=\"line2d_20\">\n    <path d=\"M 34.923295 13.5 \nL 44.646742 91.309749 \nL 54.370189 105.71207 \n\" clip-path=\"url(#p1b1746e8a6)\" style=\"fill: none; stroke: #1f77b4; stroke-width: 1.5; stroke-linecap: square\"/>\n   </g>\n   <g id=\"line2d_21\">\n    <path d=\"M 49.633125 82.386667 \n\" clip-path=\"url(#p1b1746e8a6)\" style=\"fill: none; stroke-dasharray: 5.55,2.4; stroke-dashoffset: 0; stroke: #ff7f0e; stroke-width: 1.5\"/>\n   </g>\n   <g id=\"line2d_22\">\n    <path d=\"M 49.633125 95.030458 \n\" clip-path=\"url(#p1b1746e8a6)\" style=\"fill: none; stroke-dasharray: 9.6,2.4,1.5,2.4; stroke-dashoffset: 0; stroke: #2ca02c; stroke-width: 1.5\"/>\n   </g>\n   <g id=\"line2d_23\">\n    <path d=\"M 34.923295 13.5 \nL 44.646742 91.309749 \nL 54.370189 105.71207 \nL 64.093636 116.020812 \n\" clip-path=\"url(#p1b1746e8a6)\" style=\"fill: none; stroke: #1f77b4; stroke-width: 1.5; stroke-linecap: square\"/>\n   </g>\n   <g id=\"line2d_24\">\n    <path d=\"M 49.633125 82.386667 \n\" clip-path=\"url(#p1b1746e8a6)\" style=\"fill: none; stroke-dasharray: 5.55,2.4; stroke-dashoffset: 0; stroke: #ff7f0e; stroke-width: 1.5\"/>\n   </g>\n   <g id=\"line2d_25\">\n    <path d=\"M 49.633125 95.030458 \n\" clip-path=\"url(#p1b1746e8a6)\" style=\"fill: none; stroke-dasharray: 9.6,2.4,1.5,2.4; stroke-dashoffset: 0; stroke: #2ca02c; stroke-width: 1.5\"/>\n   </g>\n   <g id=\"line2d_26\">\n    <path d=\"M 34.923295 13.5 \nL 44.646742 91.309749 \nL 54.370189 105.71207 \nL 64.093636 116.020812 \n\" clip-path=\"url(#p1b1746e8a6)\" style=\"fill: none; stroke: #1f77b4; stroke-width: 1.5; stroke-linecap: square\"/>\n   </g>\n   <g id=\"line2d_27\">\n    <path d=\"M 49.633125 82.386667 \nL 69.163125 113.947614 \n\" clip-path=\"url(#p1b1746e8a6)\" style=\"fill: none; stroke-dasharray: 5.55,2.4; stroke-dashoffset: 0; stroke: #ff7f0e; stroke-width: 1.5\"/>\n   </g>\n   <g id=\"line2d_28\">\n    <path d=\"M 49.633125 95.030458 \n\" clip-path=\"url(#p1b1746e8a6)\" style=\"fill: none; stroke-dasharray: 9.6,2.4,1.5,2.4; stroke-dashoffset: 0; stroke: #2ca02c; stroke-width: 1.5\"/>\n   </g>\n   <g id=\"line2d_29\">\n    <path d=\"M 34.923295 13.5 \nL 44.646742 91.309749 \nL 54.370189 105.71207 \nL 64.093636 116.020812 \n\" clip-path=\"url(#p1b1746e8a6)\" style=\"fill: none; stroke: #1f77b4; stroke-width: 1.5; stroke-linecap: square\"/>\n   </g>\n   <g id=\"line2d_30\">\n    <path d=\"M 49.633125 82.386667 \nL 69.163125 113.947614 \n\" clip-path=\"url(#p1b1746e8a6)\" style=\"fill: none; stroke-dasharray: 5.55,2.4; stroke-dashoffset: 0; stroke: #ff7f0e; stroke-width: 1.5\"/>\n   </g>\n   <g id=\"line2d_31\">\n    <path d=\"M 49.633125 95.030458 \nL 69.163125 85.237955 \n\" clip-path=\"url(#p1b1746e8a6)\" style=\"fill: none; stroke-dasharray: 9.6,2.4,1.5,2.4; stroke-dashoffset: 0; stroke: #2ca02c; stroke-width: 1.5\"/>\n   </g>\n   <g id=\"line2d_32\">\n    <path d=\"M 34.923295 13.5 \nL 44.646742 91.309749 \nL 54.370189 105.71207 \nL 64.093636 116.020812 \nL 73.817082 120.798578 \n\" clip-path=\"url(#p1b1746e8a6)\" style=\"fill: none; stroke: #1f77b4; stroke-width: 1.5; stroke-linecap: square\"/>\n   </g>\n   <g id=\"line2d_33\">\n    <path d=\"M 49.633125 82.386667 \nL 69.163125 113.947614 \n\" clip-path=\"url(#p1b1746e8a6)\" style=\"fill: none; stroke-dasharray: 5.55,2.4; stroke-dashoffset: 0; stroke: #ff7f0e; stroke-width: 1.5\"/>\n   </g>\n   <g id=\"line2d_34\">\n    <path d=\"M 49.633125 95.030458 \nL 69.163125 85.237955 \n\" clip-path=\"url(#p1b1746e8a6)\" style=\"fill: none; stroke-dasharray: 9.6,2.4,1.5,2.4; stroke-dashoffset: 0; stroke: #2ca02c; stroke-width: 1.5\"/>\n   </g>\n   <g id=\"line2d_35\">\n    <path d=\"M 34.923295 13.5 \nL 44.646742 91.309749 \nL 54.370189 105.71207 \nL 64.093636 116.020812 \nL 73.817082 120.798578 \nL 83.540529 122.364126 \n\" clip-path=\"url(#p1b1746e8a6)\" style=\"fill: none; stroke: #1f77b4; stroke-width: 1.5; stroke-linecap: square\"/>\n   </g>\n   <g id=\"line2d_36\">\n    <path d=\"M 49.633125 82.386667 \nL 69.163125 113.947614 \n\" clip-path=\"url(#p1b1746e8a6)\" style=\"fill: none; stroke-dasharray: 5.55,2.4; stroke-dashoffset: 0; stroke: #ff7f0e; stroke-width: 1.5\"/>\n   </g>\n   <g id=\"line2d_37\">\n    <path d=\"M 49.633125 95.030458 \nL 69.163125 85.237955 \n\" clip-path=\"url(#p1b1746e8a6)\" style=\"fill: none; stroke-dasharray: 9.6,2.4,1.5,2.4; stroke-dashoffset: 0; stroke: #2ca02c; stroke-width: 1.5\"/>\n   </g>\n   <g id=\"line2d_38\">\n    <path d=\"M 34.923295 13.5 \nL 44.646742 91.309749 \nL 54.370189 105.71207 \nL 64.093636 116.020812 \nL 73.817082 120.798578 \nL 83.540529 122.364126 \n\" clip-path=\"url(#p1b1746e8a6)\" style=\"fill: none; stroke: #1f77b4; stroke-width: 1.5; stroke-linecap: square\"/>\n   </g>\n   <g id=\"line2d_39\">\n    <path d=\"M 49.633125 82.386667 \nL 69.163125 113.947614 \nL 88.693125 121.1944 \n\" clip-path=\"url(#p1b1746e8a6)\" style=\"fill: none; stroke-dasharray: 5.55,2.4; stroke-dashoffset: 0; stroke: #ff7f0e; stroke-width: 1.5\"/>\n   </g>\n   <g id=\"line2d_40\">\n    <path d=\"M 49.633125 95.030458 \nL 69.163125 85.237955 \n\" clip-path=\"url(#p1b1746e8a6)\" style=\"fill: none; stroke-dasharray: 9.6,2.4,1.5,2.4; stroke-dashoffset: 0; stroke: #2ca02c; stroke-width: 1.5\"/>\n   </g>\n   <g id=\"line2d_41\">\n    <path d=\"M 34.923295 13.5 \nL 44.646742 91.309749 \nL 54.370189 105.71207 \nL 64.093636 116.020812 \nL 73.817082 120.798578 \nL 83.540529 122.364126 \n\" clip-path=\"url(#p1b1746e8a6)\" style=\"fill: none; stroke: #1f77b4; stroke-width: 1.5; stroke-linecap: square\"/>\n   </g>\n   <g id=\"line2d_42\">\n    <path d=\"M 49.633125 82.386667 \nL 69.163125 113.947614 \nL 88.693125 121.1944 \n\" clip-path=\"url(#p1b1746e8a6)\" style=\"fill: none; stroke-dasharray: 5.55,2.4; stroke-dashoffset: 0; stroke: #ff7f0e; stroke-width: 1.5\"/>\n   </g>\n   <g id=\"line2d_43\">\n    <path d=\"M 49.633125 95.030458 \nL 69.163125 85.237955 \nL 88.693125 82.223882 \n\" clip-path=\"url(#p1b1746e8a6)\" style=\"fill: none; stroke-dasharray: 9.6,2.4,1.5,2.4; stroke-dashoffset: 0; stroke: #2ca02c; stroke-width: 1.5\"/>\n   </g>\n   <g id=\"line2d_44\">\n    <path d=\"M 34.923295 13.5 \nL 44.646742 91.309749 \nL 54.370189 105.71207 \nL 64.093636 116.020812 \nL 73.817082 120.798578 \nL 83.540529 122.364126 \nL 93.263976 125.817975 \n\" clip-path=\"url(#p1b1746e8a6)\" style=\"fill: none; stroke: #1f77b4; stroke-width: 1.5; stroke-linecap: square\"/>\n   </g>\n   <g id=\"line2d_45\">\n    <path d=\"M 49.633125 82.386667 \nL 69.163125 113.947614 \nL 88.693125 121.1944 \n\" clip-path=\"url(#p1b1746e8a6)\" style=\"fill: none; stroke-dasharray: 5.55,2.4; stroke-dashoffset: 0; stroke: #ff7f0e; stroke-width: 1.5\"/>\n   </g>\n   <g id=\"line2d_46\">\n    <path d=\"M 49.633125 95.030458 \nL 69.163125 85.237955 \nL 88.693125 82.223882 \n\" clip-path=\"url(#p1b1746e8a6)\" style=\"fill: none; stroke-dasharray: 9.6,2.4,1.5,2.4; stroke-dashoffset: 0; stroke: #2ca02c; stroke-width: 1.5\"/>\n   </g>\n   <g id=\"line2d_47\">\n    <path d=\"M 34.923295 13.5 \nL 44.646742 91.309749 \nL 54.370189 105.71207 \nL 64.093636 116.020812 \nL 73.817082 120.798578 \nL 83.540529 122.364126 \nL 93.263976 125.817975 \nL 102.987423 127.030383 \n\" clip-path=\"url(#p1b1746e8a6)\" style=\"fill: none; stroke: #1f77b4; stroke-width: 1.5; stroke-linecap: square\"/>\n   </g>\n   <g id=\"line2d_48\">\n    <path d=\"M 49.633125 82.386667 \nL 69.163125 113.947614 \nL 88.693125 121.1944 \n\" clip-path=\"url(#p1b1746e8a6)\" style=\"fill: none; stroke-dasharray: 5.55,2.4; stroke-dashoffset: 0; stroke: #ff7f0e; stroke-width: 1.5\"/>\n   </g>\n   <g id=\"line2d_49\">\n    <path d=\"M 49.633125 95.030458 \nL 69.163125 85.237955 \nL 88.693125 82.223882 \n\" clip-path=\"url(#p1b1746e8a6)\" style=\"fill: none; stroke-dasharray: 9.6,2.4,1.5,2.4; stroke-dashoffset: 0; stroke: #2ca02c; stroke-width: 1.5\"/>\n   </g>\n   <g id=\"line2d_50\">\n    <path d=\"M 34.923295 13.5 \nL 44.646742 91.309749 \nL 54.370189 105.71207 \nL 64.093636 116.020812 \nL 73.817082 120.798578 \nL 83.540529 122.364126 \nL 93.263976 125.817975 \nL 102.987423 127.030383 \n\" clip-path=\"url(#p1b1746e8a6)\" style=\"fill: none; stroke: #1f77b4; stroke-width: 1.5; stroke-linecap: square\"/>\n   </g>\n   <g id=\"line2d_51\">\n    <path d=\"M 49.633125 82.386667 \nL 69.163125 113.947614 \nL 88.693125 121.1944 \nL 108.223125 124.171979 \n\" clip-path=\"url(#p1b1746e8a6)\" style=\"fill: none; stroke-dasharray: 5.55,2.4; stroke-dashoffset: 0; stroke: #ff7f0e; stroke-width: 1.5\"/>\n   </g>\n   <g id=\"line2d_52\">\n    <path d=\"M 49.633125 95.030458 \nL 69.163125 85.237955 \nL 88.693125 82.223882 \n\" clip-path=\"url(#p1b1746e8a6)\" style=\"fill: none; stroke-dasharray: 9.6,2.4,1.5,2.4; stroke-dashoffset: 0; stroke: #2ca02c; stroke-width: 1.5\"/>\n   </g>\n   <g id=\"line2d_53\">\n    <path d=\"M 34.923295 13.5 \nL 44.646742 91.309749 \nL 54.370189 105.71207 \nL 64.093636 116.020812 \nL 73.817082 120.798578 \nL 83.540529 122.364126 \nL 93.263976 125.817975 \nL 102.987423 127.030383 \n\" clip-path=\"url(#p1b1746e8a6)\" style=\"fill: none; stroke: #1f77b4; stroke-width: 1.5; stroke-linecap: square\"/>\n   </g>\n   <g id=\"line2d_54\">\n    <path d=\"M 49.633125 82.386667 \nL 69.163125 113.947614 \nL 88.693125 121.1944 \nL 108.223125 124.171979 \n\" clip-path=\"url(#p1b1746e8a6)\" style=\"fill: none; stroke-dasharray: 5.55,2.4; stroke-dashoffset: 0; stroke: #ff7f0e; stroke-width: 1.5\"/>\n   </g>\n   <g id=\"line2d_55\">\n    <path d=\"M 49.633125 95.030458 \nL 69.163125 85.237955 \nL 88.693125 82.223882 \nL 108.223125 80.60689 \n\" clip-path=\"url(#p1b1746e8a6)\" style=\"fill: none; stroke-dasharray: 9.6,2.4,1.5,2.4; stroke-dashoffset: 0; stroke: #2ca02c; stroke-width: 1.5\"/>\n   </g>\n   <g id=\"line2d_56\">\n    <path d=\"M 34.923295 13.5 \nL 44.646742 91.309749 \nL 54.370189 105.71207 \nL 64.093636 116.020812 \nL 73.817082 120.798578 \nL 83.540529 122.364126 \nL 93.263976 125.817975 \nL 102.987423 127.030383 \nL 112.71087 128.589615 \n\" clip-path=\"url(#p1b1746e8a6)\" style=\"fill: none; stroke: #1f77b4; stroke-width: 1.5; stroke-linecap: square\"/>\n   </g>\n   <g id=\"line2d_57\">\n    <path d=\"M 49.633125 82.386667 \nL 69.163125 113.947614 \nL 88.693125 121.1944 \nL 108.223125 124.171979 \n\" clip-path=\"url(#p1b1746e8a6)\" style=\"fill: none; stroke-dasharray: 5.55,2.4; stroke-dashoffset: 0; stroke: #ff7f0e; stroke-width: 1.5\"/>\n   </g>\n   <g id=\"line2d_58\">\n    <path d=\"M 49.633125 95.030458 \nL 69.163125 85.237955 \nL 88.693125 82.223882 \nL 108.223125 80.60689 \n\" clip-path=\"url(#p1b1746e8a6)\" style=\"fill: none; stroke-dasharray: 9.6,2.4,1.5,2.4; stroke-dashoffset: 0; stroke: #2ca02c; stroke-width: 1.5\"/>\n   </g>\n   <g id=\"line2d_59\">\n    <path d=\"M 34.923295 13.5 \nL 44.646742 91.309749 \nL 54.370189 105.71207 \nL 64.093636 116.020812 \nL 73.817082 120.798578 \nL 83.540529 122.364126 \nL 93.263976 125.817975 \nL 102.987423 127.030383 \nL 112.71087 128.589615 \nL 122.434316 130.285337 \n\" clip-path=\"url(#p1b1746e8a6)\" style=\"fill: none; stroke: #1f77b4; stroke-width: 1.5; stroke-linecap: square\"/>\n   </g>\n   <g id=\"line2d_60\">\n    <path d=\"M 49.633125 82.386667 \nL 69.163125 113.947614 \nL 88.693125 121.1944 \nL 108.223125 124.171979 \n\" clip-path=\"url(#p1b1746e8a6)\" style=\"fill: none; stroke-dasharray: 5.55,2.4; stroke-dashoffset: 0; stroke: #ff7f0e; stroke-width: 1.5\"/>\n   </g>\n   <g id=\"line2d_61\">\n    <path d=\"M 49.633125 95.030458 \nL 69.163125 85.237955 \nL 88.693125 82.223882 \nL 108.223125 80.60689 \n\" clip-path=\"url(#p1b1746e8a6)\" style=\"fill: none; stroke-dasharray: 9.6,2.4,1.5,2.4; stroke-dashoffset: 0; stroke: #2ca02c; stroke-width: 1.5\"/>\n   </g>\n   <g id=\"line2d_62\">\n    <path d=\"M 34.923295 13.5 \nL 44.646742 91.309749 \nL 54.370189 105.71207 \nL 64.093636 116.020812 \nL 73.817082 120.798578 \nL 83.540529 122.364126 \nL 93.263976 125.817975 \nL 102.987423 127.030383 \nL 112.71087 128.589615 \nL 122.434316 130.285337 \n\" clip-path=\"url(#p1b1746e8a6)\" style=\"fill: none; stroke: #1f77b4; stroke-width: 1.5; stroke-linecap: square\"/>\n   </g>\n   <g id=\"line2d_63\">\n    <path d=\"M 49.633125 82.386667 \nL 69.163125 113.947614 \nL 88.693125 121.1944 \nL 108.223125 124.171979 \nL 127.753125 125.006658 \n\" clip-path=\"url(#p1b1746e8a6)\" style=\"fill: none; stroke-dasharray: 5.55,2.4; stroke-dashoffset: 0; stroke: #ff7f0e; stroke-width: 1.5\"/>\n   </g>\n   <g id=\"line2d_64\">\n    <path d=\"M 49.633125 95.030458 \nL 69.163125 85.237955 \nL 88.693125 82.223882 \nL 108.223125 80.60689 \n\" clip-path=\"url(#p1b1746e8a6)\" style=\"fill: none; stroke-dasharray: 9.6,2.4,1.5,2.4; stroke-dashoffset: 0; stroke: #2ca02c; stroke-width: 1.5\"/>\n   </g>\n   <g id=\"line2d_65\">\n    <path d=\"M 34.923295 13.5 \nL 44.646742 91.309749 \nL 54.370189 105.71207 \nL 64.093636 116.020812 \nL 73.817082 120.798578 \nL 83.540529 122.364126 \nL 93.263976 125.817975 \nL 102.987423 127.030383 \nL 112.71087 128.589615 \nL 122.434316 130.285337 \n\" clip-path=\"url(#p1b1746e8a6)\" style=\"fill: none; stroke: #1f77b4; stroke-width: 1.5; stroke-linecap: square\"/>\n   </g>\n   <g id=\"line2d_66\">\n    <path d=\"M 49.633125 82.386667 \nL 69.163125 113.947614 \nL 88.693125 121.1944 \nL 108.223125 124.171979 \nL 127.753125 125.006658 \n\" clip-path=\"url(#p1b1746e8a6)\" style=\"fill: none; stroke-dasharray: 5.55,2.4; stroke-dashoffset: 0; stroke: #ff7f0e; stroke-width: 1.5\"/>\n   </g>\n   <g id=\"line2d_67\">\n    <path d=\"M 49.633125 95.030458 \nL 69.163125 85.237955 \nL 88.693125 82.223882 \nL 108.223125 80.60689 \nL 127.753125 81.214879 \n\" clip-path=\"url(#p1b1746e8a6)\" style=\"fill: none; stroke-dasharray: 9.6,2.4,1.5,2.4; stroke-dashoffset: 0; stroke: #2ca02c; stroke-width: 1.5\"/>\n   </g>\n   <g id=\"line2d_68\">\n    <path d=\"M 34.923295 13.5 \nL 44.646742 91.309749 \nL 54.370189 105.71207 \nL 64.093636 116.020812 \nL 73.817082 120.798578 \nL 83.540529 122.364126 \nL 93.263976 125.817975 \nL 102.987423 127.030383 \nL 112.71087 128.589615 \nL 122.434316 130.285337 \nL 132.157763 131.877287 \n\" clip-path=\"url(#p1b1746e8a6)\" style=\"fill: none; stroke: #1f77b4; stroke-width: 1.5; stroke-linecap: square\"/>\n   </g>\n   <g id=\"line2d_69\">\n    <path d=\"M 49.633125 82.386667 \nL 69.163125 113.947614 \nL 88.693125 121.1944 \nL 108.223125 124.171979 \nL 127.753125 125.006658 \n\" clip-path=\"url(#p1b1746e8a6)\" style=\"fill: none; stroke-dasharray: 5.55,2.4; stroke-dashoffset: 0; stroke: #ff7f0e; stroke-width: 1.5\"/>\n   </g>\n   <g id=\"line2d_70\">\n    <path d=\"M 49.633125 95.030458 \nL 69.163125 85.237955 \nL 88.693125 82.223882 \nL 108.223125 80.60689 \nL 127.753125 81.214879 \n\" clip-path=\"url(#p1b1746e8a6)\" style=\"fill: none; stroke-dasharray: 9.6,2.4,1.5,2.4; stroke-dashoffset: 0; stroke: #2ca02c; stroke-width: 1.5\"/>\n   </g>\n   <g id=\"line2d_71\">\n    <path d=\"M 34.923295 13.5 \nL 44.646742 91.309749 \nL 54.370189 105.71207 \nL 64.093636 116.020812 \nL 73.817082 120.798578 \nL 83.540529 122.364126 \nL 93.263976 125.817975 \nL 102.987423 127.030383 \nL 112.71087 128.589615 \nL 122.434316 130.285337 \nL 132.157763 131.877287 \nL 141.88121 133.526898 \n\" clip-path=\"url(#p1b1746e8a6)\" style=\"fill: none; stroke: #1f77b4; stroke-width: 1.5; stroke-linecap: square\"/>\n   </g>\n   <g id=\"line2d_72\">\n    <path d=\"M 49.633125 82.386667 \nL 69.163125 113.947614 \nL 88.693125 121.1944 \nL 108.223125 124.171979 \nL 127.753125 125.006658 \n\" clip-path=\"url(#p1b1746e8a6)\" style=\"fill: none; stroke-dasharray: 5.55,2.4; stroke-dashoffset: 0; stroke: #ff7f0e; stroke-width: 1.5\"/>\n   </g>\n   <g id=\"line2d_73\">\n    <path d=\"M 49.633125 95.030458 \nL 69.163125 85.237955 \nL 88.693125 82.223882 \nL 108.223125 80.60689 \nL 127.753125 81.214879 \n\" clip-path=\"url(#p1b1746e8a6)\" style=\"fill: none; stroke-dasharray: 9.6,2.4,1.5,2.4; stroke-dashoffset: 0; stroke: #2ca02c; stroke-width: 1.5\"/>\n   </g>\n   <g id=\"line2d_74\">\n    <path d=\"M 34.923295 13.5 \nL 44.646742 91.309749 \nL 54.370189 105.71207 \nL 64.093636 116.020812 \nL 73.817082 120.798578 \nL 83.540529 122.364126 \nL 93.263976 125.817975 \nL 102.987423 127.030383 \nL 112.71087 128.589615 \nL 122.434316 130.285337 \nL 132.157763 131.877287 \nL 141.88121 133.526898 \n\" clip-path=\"url(#p1b1746e8a6)\" style=\"fill: none; stroke: #1f77b4; stroke-width: 1.5; stroke-linecap: square\"/>\n   </g>\n   <g id=\"line2d_75\">\n    <path d=\"M 49.633125 82.386667 \nL 69.163125 113.947614 \nL 88.693125 121.1944 \nL 108.223125 124.171979 \nL 127.753125 125.006658 \nL 147.283125 131.606596 \n\" clip-path=\"url(#p1b1746e8a6)\" style=\"fill: none; stroke-dasharray: 5.55,2.4; stroke-dashoffset: 0; stroke: #ff7f0e; stroke-width: 1.5\"/>\n   </g>\n   <g id=\"line2d_76\">\n    <path d=\"M 49.633125 95.030458 \nL 69.163125 85.237955 \nL 88.693125 82.223882 \nL 108.223125 80.60689 \nL 127.753125 81.214879 \n\" clip-path=\"url(#p1b1746e8a6)\" style=\"fill: none; stroke-dasharray: 9.6,2.4,1.5,2.4; stroke-dashoffset: 0; stroke: #2ca02c; stroke-width: 1.5\"/>\n   </g>\n   <g id=\"line2d_77\">\n    <path d=\"M 34.923295 13.5 \nL 44.646742 91.309749 \nL 54.370189 105.71207 \nL 64.093636 116.020812 \nL 73.817082 120.798578 \nL 83.540529 122.364126 \nL 93.263976 125.817975 \nL 102.987423 127.030383 \nL 112.71087 128.589615 \nL 122.434316 130.285337 \nL 132.157763 131.877287 \nL 141.88121 133.526898 \n\" clip-path=\"url(#p1b1746e8a6)\" style=\"fill: none; stroke: #1f77b4; stroke-width: 1.5; stroke-linecap: square\"/>\n   </g>\n   <g id=\"line2d_78\">\n    <path d=\"M 49.633125 82.386667 \nL 69.163125 113.947614 \nL 88.693125 121.1944 \nL 108.223125 124.171979 \nL 127.753125 125.006658 \nL 147.283125 131.606596 \n\" clip-path=\"url(#p1b1746e8a6)\" style=\"fill: none; stroke-dasharray: 5.55,2.4; stroke-dashoffset: 0; stroke: #ff7f0e; stroke-width: 1.5\"/>\n   </g>\n   <g id=\"line2d_79\">\n    <path d=\"M 49.633125 95.030458 \nL 69.163125 85.237955 \nL 88.693125 82.223882 \nL 108.223125 80.60689 \nL 127.753125 81.214879 \nL 147.283125 78.666499 \n\" clip-path=\"url(#p1b1746e8a6)\" style=\"fill: none; stroke-dasharray: 9.6,2.4,1.5,2.4; stroke-dashoffset: 0; stroke: #2ca02c; stroke-width: 1.5\"/>\n   </g>\n   <g id=\"line2d_80\">\n    <path d=\"M 34.923295 13.5 \nL 44.646742 91.309749 \nL 54.370189 105.71207 \nL 64.093636 116.020812 \nL 73.817082 120.798578 \nL 83.540529 122.364126 \nL 93.263976 125.817975 \nL 102.987423 127.030383 \nL 112.71087 128.589615 \nL 122.434316 130.285337 \nL 132.157763 131.877287 \nL 141.88121 133.526898 \nL 151.604657 134.813171 \n\" clip-path=\"url(#p1b1746e8a6)\" style=\"fill: none; stroke: #1f77b4; stroke-width: 1.5; stroke-linecap: square\"/>\n   </g>\n   <g id=\"line2d_81\">\n    <path d=\"M 49.633125 82.386667 \nL 69.163125 113.947614 \nL 88.693125 121.1944 \nL 108.223125 124.171979 \nL 127.753125 125.006658 \nL 147.283125 131.606596 \n\" clip-path=\"url(#p1b1746e8a6)\" style=\"fill: none; stroke-dasharray: 5.55,2.4; stroke-dashoffset: 0; stroke: #ff7f0e; stroke-width: 1.5\"/>\n   </g>\n   <g id=\"line2d_82\">\n    <path d=\"M 49.633125 95.030458 \nL 69.163125 85.237955 \nL 88.693125 82.223882 \nL 108.223125 80.60689 \nL 127.753125 81.214879 \nL 147.283125 78.666499 \n\" clip-path=\"url(#p1b1746e8a6)\" style=\"fill: none; stroke-dasharray: 9.6,2.4,1.5,2.4; stroke-dashoffset: 0; stroke: #2ca02c; stroke-width: 1.5\"/>\n   </g>\n   <g id=\"line2d_83\">\n    <path d=\"M 34.923295 13.5 \nL 44.646742 91.309749 \nL 54.370189 105.71207 \nL 64.093636 116.020812 \nL 73.817082 120.798578 \nL 83.540529 122.364126 \nL 93.263976 125.817975 \nL 102.987423 127.030383 \nL 112.71087 128.589615 \nL 122.434316 130.285337 \nL 132.157763 131.877287 \nL 141.88121 133.526898 \nL 151.604657 134.813171 \nL 161.328104 135.290181 \n\" clip-path=\"url(#p1b1746e8a6)\" style=\"fill: none; stroke: #1f77b4; stroke-width: 1.5; stroke-linecap: square\"/>\n   </g>\n   <g id=\"line2d_84\">\n    <path d=\"M 49.633125 82.386667 \nL 69.163125 113.947614 \nL 88.693125 121.1944 \nL 108.223125 124.171979 \nL 127.753125 125.006658 \nL 147.283125 131.606596 \n\" clip-path=\"url(#p1b1746e8a6)\" style=\"fill: none; stroke-dasharray: 5.55,2.4; stroke-dashoffset: 0; stroke: #ff7f0e; stroke-width: 1.5\"/>\n   </g>\n   <g id=\"line2d_85\">\n    <path d=\"M 49.633125 95.030458 \nL 69.163125 85.237955 \nL 88.693125 82.223882 \nL 108.223125 80.60689 \nL 127.753125 81.214879 \nL 147.283125 78.666499 \n\" clip-path=\"url(#p1b1746e8a6)\" style=\"fill: none; stroke-dasharray: 9.6,2.4,1.5,2.4; stroke-dashoffset: 0; stroke: #2ca02c; stroke-width: 1.5\"/>\n   </g>\n   <g id=\"line2d_86\">\n    <path d=\"M 34.923295 13.5 \nL 44.646742 91.309749 \nL 54.370189 105.71207 \nL 64.093636 116.020812 \nL 73.817082 120.798578 \nL 83.540529 122.364126 \nL 93.263976 125.817975 \nL 102.987423 127.030383 \nL 112.71087 128.589615 \nL 122.434316 130.285337 \nL 132.157763 131.877287 \nL 141.88121 133.526898 \nL 151.604657 134.813171 \nL 161.328104 135.290181 \n\" clip-path=\"url(#p1b1746e8a6)\" style=\"fill: none; stroke: #1f77b4; stroke-width: 1.5; stroke-linecap: square\"/>\n   </g>\n   <g id=\"line2d_87\">\n    <path d=\"M 49.633125 82.386667 \nL 69.163125 113.947614 \nL 88.693125 121.1944 \nL 108.223125 124.171979 \nL 127.753125 125.006658 \nL 147.283125 131.606596 \nL 166.813125 127.087436 \n\" clip-path=\"url(#p1b1746e8a6)\" style=\"fill: none; stroke-dasharray: 5.55,2.4; stroke-dashoffset: 0; stroke: #ff7f0e; stroke-width: 1.5\"/>\n   </g>\n   <g id=\"line2d_88\">\n    <path d=\"M 49.633125 95.030458 \nL 69.163125 85.237955 \nL 88.693125 82.223882 \nL 108.223125 80.60689 \nL 127.753125 81.214879 \nL 147.283125 78.666499 \n\" clip-path=\"url(#p1b1746e8a6)\" style=\"fill: none; stroke-dasharray: 9.6,2.4,1.5,2.4; stroke-dashoffset: 0; stroke: #2ca02c; stroke-width: 1.5\"/>\n   </g>\n   <g id=\"line2d_89\">\n    <path d=\"M 34.923295 13.5 \nL 44.646742 91.309749 \nL 54.370189 105.71207 \nL 64.093636 116.020812 \nL 73.817082 120.798578 \nL 83.540529 122.364126 \nL 93.263976 125.817975 \nL 102.987423 127.030383 \nL 112.71087 128.589615 \nL 122.434316 130.285337 \nL 132.157763 131.877287 \nL 141.88121 133.526898 \nL 151.604657 134.813171 \nL 161.328104 135.290181 \n\" clip-path=\"url(#p1b1746e8a6)\" style=\"fill: none; stroke: #1f77b4; stroke-width: 1.5; stroke-linecap: square\"/>\n   </g>\n   <g id=\"line2d_90\">\n    <path d=\"M 49.633125 82.386667 \nL 69.163125 113.947614 \nL 88.693125 121.1944 \nL 108.223125 124.171979 \nL 127.753125 125.006658 \nL 147.283125 131.606596 \nL 166.813125 127.087436 \n\" clip-path=\"url(#p1b1746e8a6)\" style=\"fill: none; stroke-dasharray: 5.55,2.4; stroke-dashoffset: 0; stroke: #ff7f0e; stroke-width: 1.5\"/>\n   </g>\n   <g id=\"line2d_91\">\n    <path d=\"M 49.633125 95.030458 \nL 69.163125 85.237955 \nL 88.693125 82.223882 \nL 108.223125 80.60689 \nL 127.753125 81.214879 \nL 147.283125 78.666499 \nL 166.813125 79.71431 \n\" clip-path=\"url(#p1b1746e8a6)\" style=\"fill: none; stroke-dasharray: 9.6,2.4,1.5,2.4; stroke-dashoffset: 0; stroke: #2ca02c; stroke-width: 1.5\"/>\n   </g>\n   <g id=\"line2d_92\">\n    <path d=\"M 34.923295 13.5 \nL 44.646742 91.309749 \nL 54.370189 105.71207 \nL 64.093636 116.020812 \nL 73.817082 120.798578 \nL 83.540529 122.364126 \nL 93.263976 125.817975 \nL 102.987423 127.030383 \nL 112.71087 128.589615 \nL 122.434316 130.285337 \nL 132.157763 131.877287 \nL 141.88121 133.526898 \nL 151.604657 134.813171 \nL 161.328104 135.290181 \nL 171.051551 134.337513 \n\" clip-path=\"url(#p1b1746e8a6)\" style=\"fill: none; stroke: #1f77b4; stroke-width: 1.5; stroke-linecap: square\"/>\n   </g>\n   <g id=\"line2d_93\">\n    <path d=\"M 49.633125 82.386667 \nL 69.163125 113.947614 \nL 88.693125 121.1944 \nL 108.223125 124.171979 \nL 127.753125 125.006658 \nL 147.283125 131.606596 \nL 166.813125 127.087436 \n\" clip-path=\"url(#p1b1746e8a6)\" style=\"fill: none; stroke-dasharray: 5.55,2.4; stroke-dashoffset: 0; stroke: #ff7f0e; stroke-width: 1.5\"/>\n   </g>\n   <g id=\"line2d_94\">\n    <path d=\"M 49.633125 95.030458 \nL 69.163125 85.237955 \nL 88.693125 82.223882 \nL 108.223125 80.60689 \nL 127.753125 81.214879 \nL 147.283125 78.666499 \nL 166.813125 79.71431 \n\" clip-path=\"url(#p1b1746e8a6)\" style=\"fill: none; stroke-dasharray: 9.6,2.4,1.5,2.4; stroke-dashoffset: 0; stroke: #2ca02c; stroke-width: 1.5\"/>\n   </g>\n   <g id=\"line2d_95\">\n    <path d=\"M 34.923295 13.5 \nL 44.646742 91.309749 \nL 54.370189 105.71207 \nL 64.093636 116.020812 \nL 73.817082 120.798578 \nL 83.540529 122.364126 \nL 93.263976 125.817975 \nL 102.987423 127.030383 \nL 112.71087 128.589615 \nL 122.434316 130.285337 \nL 132.157763 131.877287 \nL 141.88121 133.526898 \nL 151.604657 134.813171 \nL 161.328104 135.290181 \nL 171.051551 134.337513 \nL 180.774997 138.418419 \n\" clip-path=\"url(#p1b1746e8a6)\" style=\"fill: none; stroke: #1f77b4; stroke-width: 1.5; stroke-linecap: square\"/>\n   </g>\n   <g id=\"line2d_96\">\n    <path d=\"M 49.633125 82.386667 \nL 69.163125 113.947614 \nL 88.693125 121.1944 \nL 108.223125 124.171979 \nL 127.753125 125.006658 \nL 147.283125 131.606596 \nL 166.813125 127.087436 \n\" clip-path=\"url(#p1b1746e8a6)\" style=\"fill: none; stroke-dasharray: 5.55,2.4; stroke-dashoffset: 0; stroke: #ff7f0e; stroke-width: 1.5\"/>\n   </g>\n   <g id=\"line2d_97\">\n    <path d=\"M 49.633125 95.030458 \nL 69.163125 85.237955 \nL 88.693125 82.223882 \nL 108.223125 80.60689 \nL 127.753125 81.214879 \nL 147.283125 78.666499 \nL 166.813125 79.71431 \n\" clip-path=\"url(#p1b1746e8a6)\" style=\"fill: none; stroke-dasharray: 9.6,2.4,1.5,2.4; stroke-dashoffset: 0; stroke: #2ca02c; stroke-width: 1.5\"/>\n   </g>\n   <g id=\"line2d_98\">\n    <path d=\"M 34.923295 13.5 \nL 44.646742 91.309749 \nL 54.370189 105.71207 \nL 64.093636 116.020812 \nL 73.817082 120.798578 \nL 83.540529 122.364126 \nL 93.263976 125.817975 \nL 102.987423 127.030383 \nL 112.71087 128.589615 \nL 122.434316 130.285337 \nL 132.157763 131.877287 \nL 141.88121 133.526898 \nL 151.604657 134.813171 \nL 161.328104 135.290181 \nL 171.051551 134.337513 \nL 180.774997 138.418419 \n\" clip-path=\"url(#p1b1746e8a6)\" style=\"fill: none; stroke: #1f77b4; stroke-width: 1.5; stroke-linecap: square\"/>\n   </g>\n   <g id=\"line2d_99\">\n    <path d=\"M 49.633125 82.386667 \nL 69.163125 113.947614 \nL 88.693125 121.1944 \nL 108.223125 124.171979 \nL 127.753125 125.006658 \nL 147.283125 131.606596 \nL 166.813125 127.087436 \nL 186.343125 132.423088 \n\" clip-path=\"url(#p1b1746e8a6)\" style=\"fill: none; stroke-dasharray: 5.55,2.4; stroke-dashoffset: 0; stroke: #ff7f0e; stroke-width: 1.5\"/>\n   </g>\n   <g id=\"line2d_100\">\n    <path d=\"M 49.633125 95.030458 \nL 69.163125 85.237955 \nL 88.693125 82.223882 \nL 108.223125 80.60689 \nL 127.753125 81.214879 \nL 147.283125 78.666499 \nL 166.813125 79.71431 \n\" clip-path=\"url(#p1b1746e8a6)\" style=\"fill: none; stroke-dasharray: 9.6,2.4,1.5,2.4; stroke-dashoffset: 0; stroke: #2ca02c; stroke-width: 1.5\"/>\n   </g>\n   <g id=\"line2d_101\">\n    <path d=\"M 34.923295 13.5 \nL 44.646742 91.309749 \nL 54.370189 105.71207 \nL 64.093636 116.020812 \nL 73.817082 120.798578 \nL 83.540529 122.364126 \nL 93.263976 125.817975 \nL 102.987423 127.030383 \nL 112.71087 128.589615 \nL 122.434316 130.285337 \nL 132.157763 131.877287 \nL 141.88121 133.526898 \nL 151.604657 134.813171 \nL 161.328104 135.290181 \nL 171.051551 134.337513 \nL 180.774997 138.418419 \n\" clip-path=\"url(#p1b1746e8a6)\" style=\"fill: none; stroke: #1f77b4; stroke-width: 1.5; stroke-linecap: square\"/>\n   </g>\n   <g id=\"line2d_102\">\n    <path d=\"M 49.633125 82.386667 \nL 69.163125 113.947614 \nL 88.693125 121.1944 \nL 108.223125 124.171979 \nL 127.753125 125.006658 \nL 147.283125 131.606596 \nL 166.813125 127.087436 \nL 186.343125 132.423088 \n\" clip-path=\"url(#p1b1746e8a6)\" style=\"fill: none; stroke-dasharray: 5.55,2.4; stroke-dashoffset: 0; stroke: #ff7f0e; stroke-width: 1.5\"/>\n   </g>\n   <g id=\"line2d_103\">\n    <path d=\"M 49.633125 95.030458 \nL 69.163125 85.237955 \nL 88.693125 82.223882 \nL 108.223125 80.60689 \nL 127.753125 81.214879 \nL 147.283125 78.666499 \nL 166.813125 79.71431 \nL 186.343125 78.40778 \n\" clip-path=\"url(#p1b1746e8a6)\" style=\"fill: none; stroke-dasharray: 9.6,2.4,1.5,2.4; stroke-dashoffset: 0; stroke: #2ca02c; stroke-width: 1.5\"/>\n   </g>\n   <g id=\"line2d_104\">\n    <path d=\"M 34.923295 13.5 \nL 44.646742 91.309749 \nL 54.370189 105.71207 \nL 64.093636 116.020812 \nL 73.817082 120.798578 \nL 83.540529 122.364126 \nL 93.263976 125.817975 \nL 102.987423 127.030383 \nL 112.71087 128.589615 \nL 122.434316 130.285337 \nL 132.157763 131.877287 \nL 141.88121 133.526898 \nL 151.604657 134.813171 \nL 161.328104 135.290181 \nL 171.051551 134.337513 \nL 180.774997 138.418419 \nL 190.498444 138.074831 \n\" clip-path=\"url(#p1b1746e8a6)\" style=\"fill: none; stroke: #1f77b4; stroke-width: 1.5; stroke-linecap: square\"/>\n   </g>\n   <g id=\"line2d_105\">\n    <path d=\"M 49.633125 82.386667 \nL 69.163125 113.947614 \nL 88.693125 121.1944 \nL 108.223125 124.171979 \nL 127.753125 125.006658 \nL 147.283125 131.606596 \nL 166.813125 127.087436 \nL 186.343125 132.423088 \n\" clip-path=\"url(#p1b1746e8a6)\" style=\"fill: none; stroke-dasharray: 5.55,2.4; stroke-dashoffset: 0; stroke: #ff7f0e; stroke-width: 1.5\"/>\n   </g>\n   <g id=\"line2d_106\">\n    <path d=\"M 49.633125 95.030458 \nL 69.163125 85.237955 \nL 88.693125 82.223882 \nL 108.223125 80.60689 \nL 127.753125 81.214879 \nL 147.283125 78.666499 \nL 166.813125 79.71431 \nL 186.343125 78.40778 \n\" clip-path=\"url(#p1b1746e8a6)\" style=\"fill: none; stroke-dasharray: 9.6,2.4,1.5,2.4; stroke-dashoffset: 0; stroke: #2ca02c; stroke-width: 1.5\"/>\n   </g>\n   <g id=\"line2d_107\">\n    <path d=\"M 34.923295 13.5 \nL 44.646742 91.309749 \nL 54.370189 105.71207 \nL 64.093636 116.020812 \nL 73.817082 120.798578 \nL 83.540529 122.364126 \nL 93.263976 125.817975 \nL 102.987423 127.030383 \nL 112.71087 128.589615 \nL 122.434316 130.285337 \nL 132.157763 131.877287 \nL 141.88121 133.526898 \nL 151.604657 134.813171 \nL 161.328104 135.290181 \nL 171.051551 134.337513 \nL 180.774997 138.418419 \nL 190.498444 138.074831 \nL 200.221891 138.992215 \n\" clip-path=\"url(#p1b1746e8a6)\" style=\"fill: none; stroke: #1f77b4; stroke-width: 1.5; stroke-linecap: square\"/>\n   </g>\n   <g id=\"line2d_108\">\n    <path d=\"M 49.633125 82.386667 \nL 69.163125 113.947614 \nL 88.693125 121.1944 \nL 108.223125 124.171979 \nL 127.753125 125.006658 \nL 147.283125 131.606596 \nL 166.813125 127.087436 \nL 186.343125 132.423088 \n\" clip-path=\"url(#p1b1746e8a6)\" style=\"fill: none; stroke-dasharray: 5.55,2.4; stroke-dashoffset: 0; stroke: #ff7f0e; stroke-width: 1.5\"/>\n   </g>\n   <g id=\"line2d_109\">\n    <path d=\"M 49.633125 95.030458 \nL 69.163125 85.237955 \nL 88.693125 82.223882 \nL 108.223125 80.60689 \nL 127.753125 81.214879 \nL 147.283125 78.666499 \nL 166.813125 79.71431 \nL 186.343125 78.40778 \n\" clip-path=\"url(#p1b1746e8a6)\" style=\"fill: none; stroke-dasharray: 9.6,2.4,1.5,2.4; stroke-dashoffset: 0; stroke: #2ca02c; stroke-width: 1.5\"/>\n   </g>\n   <g id=\"line2d_110\">\n    <path d=\"M 34.923295 13.5 \nL 44.646742 91.309749 \nL 54.370189 105.71207 \nL 64.093636 116.020812 \nL 73.817082 120.798578 \nL 83.540529 122.364126 \nL 93.263976 125.817975 \nL 102.987423 127.030383 \nL 112.71087 128.589615 \nL 122.434316 130.285337 \nL 132.157763 131.877287 \nL 141.88121 133.526898 \nL 151.604657 134.813171 \nL 161.328104 135.290181 \nL 171.051551 134.337513 \nL 180.774997 138.418419 \nL 190.498444 138.074831 \nL 200.221891 138.992215 \n\" clip-path=\"url(#p1b1746e8a6)\" style=\"fill: none; stroke: #1f77b4; stroke-width: 1.5; stroke-linecap: square\"/>\n   </g>\n   <g id=\"line2d_111\">\n    <path d=\"M 49.633125 82.386667 \nL 69.163125 113.947614 \nL 88.693125 121.1944 \nL 108.223125 124.171979 \nL 127.753125 125.006658 \nL 147.283125 131.606596 \nL 166.813125 127.087436 \nL 186.343125 132.423088 \nL 205.873125 130.124799 \n\" clip-path=\"url(#p1b1746e8a6)\" style=\"fill: none; stroke-dasharray: 5.55,2.4; stroke-dashoffset: 0; stroke: #ff7f0e; stroke-width: 1.5\"/>\n   </g>\n   <g id=\"line2d_112\">\n    <path d=\"M 49.633125 95.030458 \nL 69.163125 85.237955 \nL 88.693125 82.223882 \nL 108.223125 80.60689 \nL 127.753125 81.214879 \nL 147.283125 78.666499 \nL 166.813125 79.71431 \nL 186.343125 78.40778 \n\" clip-path=\"url(#p1b1746e8a6)\" style=\"fill: none; stroke-dasharray: 9.6,2.4,1.5,2.4; stroke-dashoffset: 0; stroke: #2ca02c; stroke-width: 1.5\"/>\n   </g>\n   <g id=\"line2d_113\">\n    <path d=\"M 34.923295 13.5 \nL 44.646742 91.309749 \nL 54.370189 105.71207 \nL 64.093636 116.020812 \nL 73.817082 120.798578 \nL 83.540529 122.364126 \nL 93.263976 125.817975 \nL 102.987423 127.030383 \nL 112.71087 128.589615 \nL 122.434316 130.285337 \nL 132.157763 131.877287 \nL 141.88121 133.526898 \nL 151.604657 134.813171 \nL 161.328104 135.290181 \nL 171.051551 134.337513 \nL 180.774997 138.418419 \nL 190.498444 138.074831 \nL 200.221891 138.992215 \n\" clip-path=\"url(#p1b1746e8a6)\" style=\"fill: none; stroke: #1f77b4; stroke-width: 1.5; stroke-linecap: square\"/>\n   </g>\n   <g id=\"line2d_114\">\n    <path d=\"M 49.633125 82.386667 \nL 69.163125 113.947614 \nL 88.693125 121.1944 \nL 108.223125 124.171979 \nL 127.753125 125.006658 \nL 147.283125 131.606596 \nL 166.813125 127.087436 \nL 186.343125 132.423088 \nL 205.873125 130.124799 \n\" clip-path=\"url(#p1b1746e8a6)\" style=\"fill: none; stroke-dasharray: 5.55,2.4; stroke-dashoffset: 0; stroke: #ff7f0e; stroke-width: 1.5\"/>\n   </g>\n   <g id=\"line2d_115\">\n    <path d=\"M 49.633125 95.030458 \nL 69.163125 85.237955 \nL 88.693125 82.223882 \nL 108.223125 80.60689 \nL 127.753125 81.214879 \nL 147.283125 78.666499 \nL 166.813125 79.71431 \nL 186.343125 78.40778 \nL 205.873125 78.899346 \n\" clip-path=\"url(#p1b1746e8a6)\" style=\"fill: none; stroke-dasharray: 9.6,2.4,1.5,2.4; stroke-dashoffset: 0; stroke: #2ca02c; stroke-width: 1.5\"/>\n   </g>\n   <g id=\"line2d_116\">\n    <path d=\"M 34.923295 13.5 \nL 44.646742 91.309749 \nL 54.370189 105.71207 \nL 64.093636 116.020812 \nL 73.817082 120.798578 \nL 83.540529 122.364126 \nL 93.263976 125.817975 \nL 102.987423 127.030383 \nL 112.71087 128.589615 \nL 122.434316 130.285337 \nL 132.157763 131.877287 \nL 141.88121 133.526898 \nL 151.604657 134.813171 \nL 161.328104 135.290181 \nL 171.051551 134.337513 \nL 180.774997 138.418419 \nL 190.498444 138.074831 \nL 200.221891 138.992215 \nL 209.945338 139.166757 \n\" clip-path=\"url(#p1b1746e8a6)\" style=\"fill: none; stroke: #1f77b4; stroke-width: 1.5; stroke-linecap: square\"/>\n   </g>\n   <g id=\"line2d_117\">\n    <path d=\"M 49.633125 82.386667 \nL 69.163125 113.947614 \nL 88.693125 121.1944 \nL 108.223125 124.171979 \nL 127.753125 125.006658 \nL 147.283125 131.606596 \nL 166.813125 127.087436 \nL 186.343125 132.423088 \nL 205.873125 130.124799 \n\" clip-path=\"url(#p1b1746e8a6)\" style=\"fill: none; stroke-dasharray: 5.55,2.4; stroke-dashoffset: 0; stroke: #ff7f0e; stroke-width: 1.5\"/>\n   </g>\n   <g id=\"line2d_118\">\n    <path d=\"M 49.633125 95.030458 \nL 69.163125 85.237955 \nL 88.693125 82.223882 \nL 108.223125 80.60689 \nL 127.753125 81.214879 \nL 147.283125 78.666499 \nL 166.813125 79.71431 \nL 186.343125 78.40778 \nL 205.873125 78.899346 \n\" clip-path=\"url(#p1b1746e8a6)\" style=\"fill: none; stroke-dasharray: 9.6,2.4,1.5,2.4; stroke-dashoffset: 0; stroke: #2ca02c; stroke-width: 1.5\"/>\n   </g>\n   <g id=\"line2d_119\">\n    <path d=\"M 34.923295 13.5 \nL 44.646742 91.309749 \nL 54.370189 105.71207 \nL 64.093636 116.020812 \nL 73.817082 120.798578 \nL 83.540529 122.364126 \nL 93.263976 125.817975 \nL 102.987423 127.030383 \nL 112.71087 128.589615 \nL 122.434316 130.285337 \nL 132.157763 131.877287 \nL 141.88121 133.526898 \nL 151.604657 134.813171 \nL 161.328104 135.290181 \nL 171.051551 134.337513 \nL 180.774997 138.418419 \nL 190.498444 138.074831 \nL 200.221891 138.992215 \nL 209.945338 139.166757 \nL 219.668785 139.5 \n\" clip-path=\"url(#p1b1746e8a6)\" style=\"fill: none; stroke: #1f77b4; stroke-width: 1.5; stroke-linecap: square\"/>\n   </g>\n   <g id=\"line2d_120\">\n    <path d=\"M 49.633125 82.386667 \nL 69.163125 113.947614 \nL 88.693125 121.1944 \nL 108.223125 124.171979 \nL 127.753125 125.006658 \nL 147.283125 131.606596 \nL 166.813125 127.087436 \nL 186.343125 132.423088 \nL 205.873125 130.124799 \n\" clip-path=\"url(#p1b1746e8a6)\" style=\"fill: none; stroke-dasharray: 5.55,2.4; stroke-dashoffset: 0; stroke: #ff7f0e; stroke-width: 1.5\"/>\n   </g>\n   <g id=\"line2d_121\">\n    <path d=\"M 49.633125 95.030458 \nL 69.163125 85.237955 \nL 88.693125 82.223882 \nL 108.223125 80.60689 \nL 127.753125 81.214879 \nL 147.283125 78.666499 \nL 166.813125 79.71431 \nL 186.343125 78.40778 \nL 205.873125 78.899346 \n\" clip-path=\"url(#p1b1746e8a6)\" style=\"fill: none; stroke-dasharray: 9.6,2.4,1.5,2.4; stroke-dashoffset: 0; stroke: #2ca02c; stroke-width: 1.5\"/>\n   </g>\n   <g id=\"line2d_122\">\n    <path d=\"M 34.923295 13.5 \nL 44.646742 91.309749 \nL 54.370189 105.71207 \nL 64.093636 116.020812 \nL 73.817082 120.798578 \nL 83.540529 122.364126 \nL 93.263976 125.817975 \nL 102.987423 127.030383 \nL 112.71087 128.589615 \nL 122.434316 130.285337 \nL 132.157763 131.877287 \nL 141.88121 133.526898 \nL 151.604657 134.813171 \nL 161.328104 135.290181 \nL 171.051551 134.337513 \nL 180.774997 138.418419 \nL 190.498444 138.074831 \nL 200.221891 138.992215 \nL 209.945338 139.166757 \nL 219.668785 139.5 \n\" clip-path=\"url(#p1b1746e8a6)\" style=\"fill: none; stroke: #1f77b4; stroke-width: 1.5; stroke-linecap: square\"/>\n   </g>\n   <g id=\"line2d_123\">\n    <path d=\"M 49.633125 82.386667 \nL 69.163125 113.947614 \nL 88.693125 121.1944 \nL 108.223125 124.171979 \nL 127.753125 125.006658 \nL 147.283125 131.606596 \nL 166.813125 127.087436 \nL 186.343125 132.423088 \nL 205.873125 130.124799 \nL 225.403125 133.768105 \n\" clip-path=\"url(#p1b1746e8a6)\" style=\"fill: none; stroke-dasharray: 5.55,2.4; stroke-dashoffset: 0; stroke: #ff7f0e; stroke-width: 1.5\"/>\n   </g>\n   <g id=\"line2d_124\">\n    <path d=\"M 49.633125 95.030458 \nL 69.163125 85.237955 \nL 88.693125 82.223882 \nL 108.223125 80.60689 \nL 127.753125 81.214879 \nL 147.283125 78.666499 \nL 166.813125 79.71431 \nL 186.343125 78.40778 \nL 205.873125 78.899346 \n\" clip-path=\"url(#p1b1746e8a6)\" style=\"fill: none; stroke-dasharray: 9.6,2.4,1.5,2.4; stroke-dashoffset: 0; stroke: #2ca02c; stroke-width: 1.5\"/>\n   </g>\n   <g id=\"line2d_125\">\n    <path d=\"M 34.923295 13.5 \nL 44.646742 91.309749 \nL 54.370189 105.71207 \nL 64.093636 116.020812 \nL 73.817082 120.798578 \nL 83.540529 122.364126 \nL 93.263976 125.817975 \nL 102.987423 127.030383 \nL 112.71087 128.589615 \nL 122.434316 130.285337 \nL 132.157763 131.877287 \nL 141.88121 133.526898 \nL 151.604657 134.813171 \nL 161.328104 135.290181 \nL 171.051551 134.337513 \nL 180.774997 138.418419 \nL 190.498444 138.074831 \nL 200.221891 138.992215 \nL 209.945338 139.166757 \nL 219.668785 139.5 \n\" clip-path=\"url(#p1b1746e8a6)\" style=\"fill: none; stroke: #1f77b4; stroke-width: 1.5; stroke-linecap: square\"/>\n   </g>\n   <g id=\"line2d_126\">\n    <path d=\"M 49.633125 82.386667 \nL 69.163125 113.947614 \nL 88.693125 121.1944 \nL 108.223125 124.171979 \nL 127.753125 125.006658 \nL 147.283125 131.606596 \nL 166.813125 127.087436 \nL 186.343125 132.423088 \nL 205.873125 130.124799 \nL 225.403125 133.768105 \n\" clip-path=\"url(#p1b1746e8a6)\" style=\"fill: none; stroke-dasharray: 5.55,2.4; stroke-dashoffset: 0; stroke: #ff7f0e; stroke-width: 1.5\"/>\n   </g>\n   <g id=\"line2d_127\">\n    <path d=\"M 49.633125 95.030458 \nL 69.163125 85.237955 \nL 88.693125 82.223882 \nL 108.223125 80.60689 \nL 127.753125 81.214879 \nL 147.283125 78.666499 \nL 166.813125 79.71431 \nL 186.343125 78.40778 \nL 205.873125 78.899346 \nL 225.403125 77.838599 \n\" clip-path=\"url(#p1b1746e8a6)\" style=\"fill: none; stroke-dasharray: 9.6,2.4,1.5,2.4; stroke-dashoffset: 0; stroke: #2ca02c; stroke-width: 1.5\"/>\n   </g>\n   <g id=\"patch_3\">\n    <path d=\"M 30.103125 145.8 \nL 30.103125 7.2 \n\" style=\"fill: none; stroke: #000000; stroke-width: 0.8; stroke-linejoin: miter; stroke-linecap: square\"/>\n   </g>\n   <g id=\"patch_4\">\n    <path d=\"M 225.403125 145.8 \nL 225.403125 7.2 \n\" style=\"fill: none; stroke: #000000; stroke-width: 0.8; stroke-linejoin: miter; stroke-linecap: square\"/>\n   </g>\n   <g id=\"patch_5\">\n    <path d=\"M 30.103125 145.8 \nL 225.403125 145.8 \n\" style=\"fill: none; stroke: #000000; stroke-width: 0.8; stroke-linejoin: miter; stroke-linecap: square\"/>\n   </g>\n   <g id=\"patch_6\">\n    <path d=\"M 30.103125 7.2 \nL 225.403125 7.2 \n\" style=\"fill: none; stroke: #000000; stroke-width: 0.8; stroke-linejoin: miter; stroke-linecap: square\"/>\n   </g>\n   <g id=\"legend_1\">\n    <g id=\"patch_7\">\n     <path d=\"M 138.8125 60.06875 \nL 218.403125 60.06875 \nQ 220.403125 60.06875 220.403125 58.06875 \nL 220.403125 14.2 \nQ 220.403125 12.2 218.403125 12.2 \nL 138.8125 12.2 \nQ 136.8125 12.2 136.8125 14.2 \nL 136.8125 58.06875 \nQ 136.8125 60.06875 138.8125 60.06875 \nz\n\" style=\"fill: #ffffff; opacity: 0.8; stroke: #cccccc; stroke-linejoin: miter\"/>\n    </g>\n    <g id=\"line2d_128\">\n     <path d=\"M 140.8125 20.298438 \nL 150.8125 20.298438 \nL 160.8125 20.298438 \n\" style=\"fill: none; stroke: #1f77b4; stroke-width: 1.5; stroke-linecap: square\"/>\n    </g>\n    <g id=\"text_13\">\n     <!-- train_loss -->\n     <g transform=\"translate(168.8125 23.798438) scale(0.1 -0.1)\">\n      <defs>\n       <path id=\"DejaVuSans-74\" d=\"M 1172 4494 \nL 1172 3500 \nL 2356 3500 \nL 2356 3053 \nL 1172 3053 \nL 1172 1153 \nQ 1172 725 1289 603 \nQ 1406 481 1766 481 \nL 2356 481 \nL 2356 0 \nL 1766 0 \nQ 1100 0 847 248 \nQ 594 497 594 1153 \nL 594 3053 \nL 172 3053 \nL 172 3500 \nL 594 3500 \nL 594 4494 \nL 1172 4494 \nz\n\" transform=\"scale(0.015625)\"/>\n       <path id=\"DejaVuSans-72\" d=\"M 2631 2963 \nQ 2534 3019 2420 3045 \nQ 2306 3072 2169 3072 \nQ 1681 3072 1420 2755 \nQ 1159 2438 1159 1844 \nL 1159 0 \nL 581 0 \nL 581 3500 \nL 1159 3500 \nL 1159 2956 \nQ 1341 3275 1631 3429 \nQ 1922 3584 2338 3584 \nQ 2397 3584 2469 3576 \nQ 2541 3569 2628 3553 \nL 2631 2963 \nz\n\" transform=\"scale(0.015625)\"/>\n       <path id=\"DejaVuSans-61\" d=\"M 2194 1759 \nQ 1497 1759 1228 1600 \nQ 959 1441 959 1056 \nQ 959 750 1161 570 \nQ 1363 391 1709 391 \nQ 2188 391 2477 730 \nQ 2766 1069 2766 1631 \nL 2766 1759 \nL 2194 1759 \nz\nM 3341 1997 \nL 3341 0 \nL 2766 0 \nL 2766 531 \nQ 2569 213 2275 61 \nQ 1981 -91 1556 -91 \nQ 1019 -91 701 211 \nQ 384 513 384 1019 \nQ 384 1609 779 1909 \nQ 1175 2209 1959 2209 \nL 2766 2209 \nL 2766 2266 \nQ 2766 2663 2505 2880 \nQ 2244 3097 1772 3097 \nQ 1472 3097 1187 3025 \nQ 903 2953 641 2809 \nL 641 3341 \nQ 956 3463 1253 3523 \nQ 1550 3584 1831 3584 \nQ 2591 3584 2966 3190 \nQ 3341 2797 3341 1997 \nz\n\" transform=\"scale(0.015625)\"/>\n       <path id=\"DejaVuSans-69\" d=\"M 603 3500 \nL 1178 3500 \nL 1178 0 \nL 603 0 \nL 603 3500 \nz\nM 603 4863 \nL 1178 4863 \nL 1178 4134 \nL 603 4134 \nL 603 4863 \nz\n\" transform=\"scale(0.015625)\"/>\n       <path id=\"DejaVuSans-6e\" d=\"M 3513 2113 \nL 3513 0 \nL 2938 0 \nL 2938 2094 \nQ 2938 2591 2744 2837 \nQ 2550 3084 2163 3084 \nQ 1697 3084 1428 2787 \nQ 1159 2491 1159 1978 \nL 1159 0 \nL 581 0 \nL 581 3500 \nL 1159 3500 \nL 1159 2956 \nQ 1366 3272 1645 3428 \nQ 1925 3584 2291 3584 \nQ 2894 3584 3203 3211 \nQ 3513 2838 3513 2113 \nz\n\" transform=\"scale(0.015625)\"/>\n       <path id=\"DejaVuSans-5f\" d=\"M 3263 -1063 \nL 3263 -1509 \nL -63 -1509 \nL -63 -1063 \nL 3263 -1063 \nz\n\" transform=\"scale(0.015625)\"/>\n       <path id=\"DejaVuSans-6c\" d=\"M 603 4863 \nL 1178 4863 \nL 1178 0 \nL 603 0 \nL 603 4863 \nz\n\" transform=\"scale(0.015625)\"/>\n       <path id=\"DejaVuSans-73\" d=\"M 2834 3397 \nL 2834 2853 \nQ 2591 2978 2328 3040 \nQ 2066 3103 1784 3103 \nQ 1356 3103 1142 2972 \nQ 928 2841 928 2578 \nQ 928 2378 1081 2264 \nQ 1234 2150 1697 2047 \nL 1894 2003 \nQ 2506 1872 2764 1633 \nQ 3022 1394 3022 966 \nQ 3022 478 2636 193 \nQ 2250 -91 1575 -91 \nQ 1294 -91 989 -36 \nQ 684 19 347 128 \nL 347 722 \nQ 666 556 975 473 \nQ 1284 391 1588 391 \nQ 1994 391 2212 530 \nQ 2431 669 2431 922 \nQ 2431 1156 2273 1281 \nQ 2116 1406 1581 1522 \nL 1381 1569 \nQ 847 1681 609 1914 \nQ 372 2147 372 2553 \nQ 372 3047 722 3315 \nQ 1072 3584 1716 3584 \nQ 2034 3584 2315 3537 \nQ 2597 3491 2834 3397 \nz\n\" transform=\"scale(0.015625)\"/>\n      </defs>\n      <use xlink:href=\"#DejaVuSans-74\"/>\n      <use xlink:href=\"#DejaVuSans-72\" x=\"39.208984\"/>\n      <use xlink:href=\"#DejaVuSans-61\" x=\"80.322266\"/>\n      <use xlink:href=\"#DejaVuSans-69\" x=\"141.601562\"/>\n      <use xlink:href=\"#DejaVuSans-6e\" x=\"169.384766\"/>\n      <use xlink:href=\"#DejaVuSans-5f\" x=\"232.763672\"/>\n      <use xlink:href=\"#DejaVuSans-6c\" x=\"282.763672\"/>\n      <use xlink:href=\"#DejaVuSans-6f\" x=\"310.546875\"/>\n      <use xlink:href=\"#DejaVuSans-73\" x=\"371.728516\"/>\n      <use xlink:href=\"#DejaVuSans-73\" x=\"423.828125\"/>\n     </g>\n    </g>\n    <g id=\"line2d_129\">\n     <path d=\"M 140.8125 35.254688 \nL 150.8125 35.254688 \nL 160.8125 35.254688 \n\" style=\"fill: none; stroke-dasharray: 5.55,2.4; stroke-dashoffset: 0; stroke: #ff7f0e; stroke-width: 1.5\"/>\n    </g>\n    <g id=\"text_14\">\n     <!-- val_loss -->\n     <g transform=\"translate(168.8125 38.754688) scale(0.1 -0.1)\">\n      <defs>\n       <path id=\"DejaVuSans-76\" d=\"M 191 3500 \nL 800 3500 \nL 1894 563 \nL 2988 3500 \nL 3597 3500 \nL 2284 0 \nL 1503 0 \nL 191 3500 \nz\n\" transform=\"scale(0.015625)\"/>\n      </defs>\n      <use xlink:href=\"#DejaVuSans-76\"/>\n      <use xlink:href=\"#DejaVuSans-61\" x=\"59.179688\"/>\n      <use xlink:href=\"#DejaVuSans-6c\" x=\"120.458984\"/>\n      <use xlink:href=\"#DejaVuSans-5f\" x=\"148.242188\"/>\n      <use xlink:href=\"#DejaVuSans-6c\" x=\"198.242188\"/>\n      <use xlink:href=\"#DejaVuSans-6f\" x=\"226.025391\"/>\n      <use xlink:href=\"#DejaVuSans-73\" x=\"287.207031\"/>\n      <use xlink:href=\"#DejaVuSans-73\" x=\"339.306641\"/>\n     </g>\n    </g>\n    <g id=\"line2d_130\">\n     <path d=\"M 140.8125 50.210938 \nL 150.8125 50.210938 \nL 160.8125 50.210938 \n\" style=\"fill: none; stroke-dasharray: 9.6,2.4,1.5,2.4; stroke-dashoffset: 0; stroke: #2ca02c; stroke-width: 1.5\"/>\n    </g>\n    <g id=\"text_15\">\n     <!-- val_acc -->\n     <g transform=\"translate(168.8125 53.710938) scale(0.1 -0.1)\">\n      <use xlink:href=\"#DejaVuSans-76\"/>\n      <use xlink:href=\"#DejaVuSans-61\" x=\"59.179688\"/>\n      <use xlink:href=\"#DejaVuSans-6c\" x=\"120.458984\"/>\n      <use xlink:href=\"#DejaVuSans-5f\" x=\"148.242188\"/>\n      <use xlink:href=\"#DejaVuSans-61\" x=\"198.242188\"/>\n      <use xlink:href=\"#DejaVuSans-63\" x=\"259.521484\"/>\n      <use xlink:href=\"#DejaVuSans-63\" x=\"314.501953\"/>\n     </g>\n    </g>\n   </g>\n  </g>\n </g>\n <defs>\n  <clipPath id=\"p1b1746e8a6\">\n   <rect x=\"30.103125\" y=\"7.2\" width=\"195.3\" height=\"138.6\"/>\n  </clipPath>\n </defs>\n</svg>\n"
          },
          "metadata": {}
        }
      ],
      "source": [
        "model = MLPScratch(num_inputs=784, num_outputs=10, num_hiddens=256, lr=0.1)\n",
        "data = d2l.FashionMNIST(batch_size=256)\n",
        "trainer = d2l.Trainer(max_epochs=10)\n",
        "trainer.fit(model, data)"
      ]
    },
    {
      "cell_type": "markdown",
      "id": "0c068a33",
      "metadata": {
        "id": "0c068a33",
        "origin_pos": 24
      },
      "source": [
        "## Concise Implementation\n",
        "\n",
        "As you might expect, by relying on the high-level APIs, we can implement MLPs even more concisely.\n",
        "\n",
        "### Model\n",
        "\n",
        "Compared with our concise implementation\n",
        "of softmax regression implementation\n",
        "(:numref:`sec_softmax_concise`),\n",
        "the only difference is that we add\n",
        "*two* fully connected layers where we previously added only *one*.\n",
        "The first is [**the hidden layer**],\n",
        "the second is the output layer.\n"
      ]
    },
    {
      "cell_type": "code",
      "execution_count": null,
      "id": "a5087507",
      "metadata": {
        "execution": {
          "iopub.execute_input": "2023-08-18T19:42:19.152096Z",
          "iopub.status.busy": "2023-08-18T19:42:19.151778Z",
          "iopub.status.idle": "2023-08-18T19:42:19.157644Z",
          "shell.execute_reply": "2023-08-18T19:42:19.156631Z"
        },
        "id": "a5087507",
        "origin_pos": 26,
        "tab": [
          "pytorch"
        ]
      },
      "outputs": [],
      "source": [
        "class MLP(d2l.Classifier):\n",
        "    def __init__(self, num_outputs, num_hiddens, lr):\n",
        "        super().__init__()\n",
        "        self.save_hyperparameters()\n",
        "        self.net = nn.Sequential(nn.Flatten(), nn.LazyLinear(num_hiddens),\n",
        "                                 nn.ReLU(), nn.LazyLinear(num_outputs))"
      ]
    },
    {
      "cell_type": "markdown",
      "id": "c5fb2be8",
      "metadata": {
        "id": "c5fb2be8",
        "origin_pos": 29
      },
      "source": [
        "Previously, we defined `forward` methods for models to transform input using the model parameters.\n",
        "These operations are essentially a pipeline:\n",
        "you take an input and\n",
        "apply a transformation (e.g.,\n",
        "matrix multiplication with weights followed by bias addition),\n",
        "then repetitively use the output of the current transformation as\n",
        "input to the next transformation.\n",
        "However, you may have noticed that\n",
        "no `forward` method is defined here.\n",
        "In fact, `MLP` inherits the `forward` method from the `Module` class (:numref:`subsec_oo-design-models`) to\n",
        "simply invoke `self.net(X)` (`X` is input),\n",
        "which is now defined as a sequence of transformations\n",
        "via the `Sequential` class.\n",
        "The `Sequential` class abstracts the forward process\n",
        "enabling us to focus on the transformations.\n",
        "We will further discuss how the `Sequential` class works in :numref:`subsec_model-construction-sequential`.\n",
        "\n",
        "\n",
        "### Training\n",
        "\n",
        "[**The training loop**] is exactly the same\n",
        "as when we implemented softmax regression.\n",
        "This modularity enables us to separate\n",
        "matters concerning the model architecture\n",
        "from orthogonal considerations.\n"
      ]
    },
    {
      "cell_type": "code",
      "execution_count": null,
      "id": "baf391c1",
      "metadata": {
        "execution": {
          "iopub.execute_input": "2023-08-18T19:42:19.162133Z",
          "iopub.status.busy": "2023-08-18T19:42:19.161837Z",
          "iopub.status.idle": "2023-08-18T19:43:16.475813Z",
          "shell.execute_reply": "2023-08-18T19:43:16.474574Z"
        },
        "id": "baf391c1",
        "origin_pos": 30,
        "outputId": "b27a3487-418c-48f8-f0df-946277eb872c",
        "tab": [
          "pytorch"
        ],
        "colab": {
          "base_uri": "https://localhost:8080/",
          "height": 266
        }
      },
      "outputs": [
        {
          "output_type": "display_data",
          "data": {
            "text/plain": [
              "<Figure size 350x250 with 1 Axes>"
            ],
            "image/svg+xml": "<?xml version=\"1.0\" encoding=\"utf-8\" standalone=\"no\"?>\n<!DOCTYPE svg PUBLIC \"-//W3C//DTD SVG 1.1//EN\"\n  \"http://www.w3.org/Graphics/SVG/1.1/DTD/svg11.dtd\">\n<svg xmlns:xlink=\"http://www.w3.org/1999/xlink\" width=\"238.965625pt\" height=\"183.35625pt\" viewBox=\"0 0 238.965625 183.35625\" xmlns=\"http://www.w3.org/2000/svg\" version=\"1.1\">\n <metadata>\n  <rdf:RDF xmlns:dc=\"http://purl.org/dc/elements/1.1/\" xmlns:cc=\"http://creativecommons.org/ns#\" xmlns:rdf=\"http://www.w3.org/1999/02/22-rdf-syntax-ns#\">\n   <cc:Work>\n    <dc:type rdf:resource=\"http://purl.org/dc/dcmitype/StillImage\"/>\n    <dc:date>2024-09-13T08:37:17.729674</dc:date>\n    <dc:format>image/svg+xml</dc:format>\n    <dc:creator>\n     <cc:Agent>\n      <dc:title>Matplotlib v3.7.2, https://matplotlib.org/</dc:title>\n     </cc:Agent>\n    </dc:creator>\n   </cc:Work>\n  </rdf:RDF>\n </metadata>\n <defs>\n  <style type=\"text/css\">*{stroke-linejoin: round; stroke-linecap: butt}</style>\n </defs>\n <g id=\"figure_1\">\n  <g id=\"patch_1\">\n   <path d=\"M 0 183.35625 \nL 238.965625 183.35625 \nL 238.965625 0 \nL 0 0 \nz\n\" style=\"fill: #ffffff\"/>\n  </g>\n  <g id=\"axes_1\">\n   <g id=\"patch_2\">\n    <path d=\"M 30.103125 145.8 \nL 225.403125 145.8 \nL 225.403125 7.2 \nL 30.103125 7.2 \nz\n\" style=\"fill: #ffffff\"/>\n   </g>\n   <g id=\"matplotlib.axis_1\">\n    <g id=\"xtick_1\">\n     <g id=\"line2d_1\">\n      <defs>\n       <path id=\"m3ca0ea111b\" d=\"M 0 0 \nL 0 3.5 \n\" style=\"stroke: #000000; stroke-width: 0.8\"/>\n      </defs>\n      <g>\n       <use xlink:href=\"#m3ca0ea111b\" x=\"30.103125\" y=\"145.8\" style=\"stroke: #000000; stroke-width: 0.8\"/>\n      </g>\n     </g>\n     <g id=\"text_1\">\n      <!-- 0 -->\n      <g transform=\"translate(26.921875 160.398438) scale(0.1 -0.1)\">\n       <defs>\n        <path id=\"DejaVuSans-30\" d=\"M 2034 4250 \nQ 1547 4250 1301 3770 \nQ 1056 3291 1056 2328 \nQ 1056 1369 1301 889 \nQ 1547 409 2034 409 \nQ 2525 409 2770 889 \nQ 3016 1369 3016 2328 \nQ 3016 3291 2770 3770 \nQ 2525 4250 2034 4250 \nz\nM 2034 4750 \nQ 2819 4750 3233 4129 \nQ 3647 3509 3647 2328 \nQ 3647 1150 3233 529 \nQ 2819 -91 2034 -91 \nQ 1250 -91 836 529 \nQ 422 1150 422 2328 \nQ 422 3509 836 4129 \nQ 1250 4750 2034 4750 \nz\n\" transform=\"scale(0.015625)\"/>\n       </defs>\n       <use xlink:href=\"#DejaVuSans-30\"/>\n      </g>\n     </g>\n    </g>\n    <g id=\"xtick_2\">\n     <g id=\"line2d_2\">\n      <g>\n       <use xlink:href=\"#m3ca0ea111b\" x=\"69.163125\" y=\"145.8\" style=\"stroke: #000000; stroke-width: 0.8\"/>\n      </g>\n     </g>\n     <g id=\"text_2\">\n      <!-- 2 -->\n      <g transform=\"translate(65.981875 160.398438) scale(0.1 -0.1)\">\n       <defs>\n        <path id=\"DejaVuSans-32\" d=\"M 1228 531 \nL 3431 531 \nL 3431 0 \nL 469 0 \nL 469 531 \nQ 828 903 1448 1529 \nQ 2069 2156 2228 2338 \nQ 2531 2678 2651 2914 \nQ 2772 3150 2772 3378 \nQ 2772 3750 2511 3984 \nQ 2250 4219 1831 4219 \nQ 1534 4219 1204 4116 \nQ 875 4013 500 3803 \nL 500 4441 \nQ 881 4594 1212 4672 \nQ 1544 4750 1819 4750 \nQ 2544 4750 2975 4387 \nQ 3406 4025 3406 3419 \nQ 3406 3131 3298 2873 \nQ 3191 2616 2906 2266 \nQ 2828 2175 2409 1742 \nQ 1991 1309 1228 531 \nz\n\" transform=\"scale(0.015625)\"/>\n       </defs>\n       <use xlink:href=\"#DejaVuSans-32\"/>\n      </g>\n     </g>\n    </g>\n    <g id=\"xtick_3\">\n     <g id=\"line2d_3\">\n      <g>\n       <use xlink:href=\"#m3ca0ea111b\" x=\"108.223125\" y=\"145.8\" style=\"stroke: #000000; stroke-width: 0.8\"/>\n      </g>\n     </g>\n     <g id=\"text_3\">\n      <!-- 4 -->\n      <g transform=\"translate(105.041875 160.398438) scale(0.1 -0.1)\">\n       <defs>\n        <path id=\"DejaVuSans-34\" d=\"M 2419 4116 \nL 825 1625 \nL 2419 1625 \nL 2419 4116 \nz\nM 2253 4666 \nL 3047 4666 \nL 3047 1625 \nL 3713 1625 \nL 3713 1100 \nL 3047 1100 \nL 3047 0 \nL 2419 0 \nL 2419 1100 \nL 313 1100 \nL 313 1709 \nL 2253 4666 \nz\n\" transform=\"scale(0.015625)\"/>\n       </defs>\n       <use xlink:href=\"#DejaVuSans-34\"/>\n      </g>\n     </g>\n    </g>\n    <g id=\"xtick_4\">\n     <g id=\"line2d_4\">\n      <g>\n       <use xlink:href=\"#m3ca0ea111b\" x=\"147.283125\" y=\"145.8\" style=\"stroke: #000000; stroke-width: 0.8\"/>\n      </g>\n     </g>\n     <g id=\"text_4\">\n      <!-- 6 -->\n      <g transform=\"translate(144.101875 160.398438) scale(0.1 -0.1)\">\n       <defs>\n        <path id=\"DejaVuSans-36\" d=\"M 2113 2584 \nQ 1688 2584 1439 2293 \nQ 1191 2003 1191 1497 \nQ 1191 994 1439 701 \nQ 1688 409 2113 409 \nQ 2538 409 2786 701 \nQ 3034 994 3034 1497 \nQ 3034 2003 2786 2293 \nQ 2538 2584 2113 2584 \nz\nM 3366 4563 \nL 3366 3988 \nQ 3128 4100 2886 4159 \nQ 2644 4219 2406 4219 \nQ 1781 4219 1451 3797 \nQ 1122 3375 1075 2522 \nQ 1259 2794 1537 2939 \nQ 1816 3084 2150 3084 \nQ 2853 3084 3261 2657 \nQ 3669 2231 3669 1497 \nQ 3669 778 3244 343 \nQ 2819 -91 2113 -91 \nQ 1303 -91 875 529 \nQ 447 1150 447 2328 \nQ 447 3434 972 4092 \nQ 1497 4750 2381 4750 \nQ 2619 4750 2861 4703 \nQ 3103 4656 3366 4563 \nz\n\" transform=\"scale(0.015625)\"/>\n       </defs>\n       <use xlink:href=\"#DejaVuSans-36\"/>\n      </g>\n     </g>\n    </g>\n    <g id=\"xtick_5\">\n     <g id=\"line2d_5\">\n      <g>\n       <use xlink:href=\"#m3ca0ea111b\" x=\"186.343125\" y=\"145.8\" style=\"stroke: #000000; stroke-width: 0.8\"/>\n      </g>\n     </g>\n     <g id=\"text_5\">\n      <!-- 8 -->\n      <g transform=\"translate(183.161875 160.398438) scale(0.1 -0.1)\">\n       <defs>\n        <path id=\"DejaVuSans-38\" d=\"M 2034 2216 \nQ 1584 2216 1326 1975 \nQ 1069 1734 1069 1313 \nQ 1069 891 1326 650 \nQ 1584 409 2034 409 \nQ 2484 409 2743 651 \nQ 3003 894 3003 1313 \nQ 3003 1734 2745 1975 \nQ 2488 2216 2034 2216 \nz\nM 1403 2484 \nQ 997 2584 770 2862 \nQ 544 3141 544 3541 \nQ 544 4100 942 4425 \nQ 1341 4750 2034 4750 \nQ 2731 4750 3128 4425 \nQ 3525 4100 3525 3541 \nQ 3525 3141 3298 2862 \nQ 3072 2584 2669 2484 \nQ 3125 2378 3379 2068 \nQ 3634 1759 3634 1313 \nQ 3634 634 3220 271 \nQ 2806 -91 2034 -91 \nQ 1263 -91 848 271 \nQ 434 634 434 1313 \nQ 434 1759 690 2068 \nQ 947 2378 1403 2484 \nz\nM 1172 3481 \nQ 1172 3119 1398 2916 \nQ 1625 2713 2034 2713 \nQ 2441 2713 2670 2916 \nQ 2900 3119 2900 3481 \nQ 2900 3844 2670 4047 \nQ 2441 4250 2034 4250 \nQ 1625 4250 1398 4047 \nQ 1172 3844 1172 3481 \nz\n\" transform=\"scale(0.015625)\"/>\n       </defs>\n       <use xlink:href=\"#DejaVuSans-38\"/>\n      </g>\n     </g>\n    </g>\n    <g id=\"xtick_6\">\n     <g id=\"line2d_6\">\n      <g>\n       <use xlink:href=\"#m3ca0ea111b\" x=\"225.403125\" y=\"145.8\" style=\"stroke: #000000; stroke-width: 0.8\"/>\n      </g>\n     </g>\n     <g id=\"text_6\">\n      <!-- 10 -->\n      <g transform=\"translate(219.040625 160.398438) scale(0.1 -0.1)\">\n       <defs>\n        <path id=\"DejaVuSans-31\" d=\"M 794 531 \nL 1825 531 \nL 1825 4091 \nL 703 3866 \nL 703 4441 \nL 1819 4666 \nL 2450 4666 \nL 2450 531 \nL 3481 531 \nL 3481 0 \nL 794 0 \nL 794 531 \nz\n\" transform=\"scale(0.015625)\"/>\n       </defs>\n       <use xlink:href=\"#DejaVuSans-31\"/>\n       <use xlink:href=\"#DejaVuSans-30\" x=\"63.623047\"/>\n      </g>\n     </g>\n    </g>\n    <g id=\"text_7\">\n     <!-- epoch -->\n     <g transform=\"translate(112.525 174.076563) scale(0.1 -0.1)\">\n      <defs>\n       <path id=\"DejaVuSans-65\" d=\"M 3597 1894 \nL 3597 1613 \nL 953 1613 \nQ 991 1019 1311 708 \nQ 1631 397 2203 397 \nQ 2534 397 2845 478 \nQ 3156 559 3463 722 \nL 3463 178 \nQ 3153 47 2828 -22 \nQ 2503 -91 2169 -91 \nQ 1331 -91 842 396 \nQ 353 884 353 1716 \nQ 353 2575 817 3079 \nQ 1281 3584 2069 3584 \nQ 2775 3584 3186 3129 \nQ 3597 2675 3597 1894 \nz\nM 3022 2063 \nQ 3016 2534 2758 2815 \nQ 2500 3097 2075 3097 \nQ 1594 3097 1305 2825 \nQ 1016 2553 972 2059 \nL 3022 2063 \nz\n\" transform=\"scale(0.015625)\"/>\n       <path id=\"DejaVuSans-70\" d=\"M 1159 525 \nL 1159 -1331 \nL 581 -1331 \nL 581 3500 \nL 1159 3500 \nL 1159 2969 \nQ 1341 3281 1617 3432 \nQ 1894 3584 2278 3584 \nQ 2916 3584 3314 3078 \nQ 3713 2572 3713 1747 \nQ 3713 922 3314 415 \nQ 2916 -91 2278 -91 \nQ 1894 -91 1617 61 \nQ 1341 213 1159 525 \nz\nM 3116 1747 \nQ 3116 2381 2855 2742 \nQ 2594 3103 2138 3103 \nQ 1681 3103 1420 2742 \nQ 1159 2381 1159 1747 \nQ 1159 1113 1420 752 \nQ 1681 391 2138 391 \nQ 2594 391 2855 752 \nQ 3116 1113 3116 1747 \nz\n\" transform=\"scale(0.015625)\"/>\n       <path id=\"DejaVuSans-6f\" d=\"M 1959 3097 \nQ 1497 3097 1228 2736 \nQ 959 2375 959 1747 \nQ 959 1119 1226 758 \nQ 1494 397 1959 397 \nQ 2419 397 2687 759 \nQ 2956 1122 2956 1747 \nQ 2956 2369 2687 2733 \nQ 2419 3097 1959 3097 \nz\nM 1959 3584 \nQ 2709 3584 3137 3096 \nQ 3566 2609 3566 1747 \nQ 3566 888 3137 398 \nQ 2709 -91 1959 -91 \nQ 1206 -91 779 398 \nQ 353 888 353 1747 \nQ 353 2609 779 3096 \nQ 1206 3584 1959 3584 \nz\n\" transform=\"scale(0.015625)\"/>\n       <path id=\"DejaVuSans-63\" d=\"M 3122 3366 \nL 3122 2828 \nQ 2878 2963 2633 3030 \nQ 2388 3097 2138 3097 \nQ 1578 3097 1268 2742 \nQ 959 2388 959 1747 \nQ 959 1106 1268 751 \nQ 1578 397 2138 397 \nQ 2388 397 2633 464 \nQ 2878 531 3122 666 \nL 3122 134 \nQ 2881 22 2623 -34 \nQ 2366 -91 2075 -91 \nQ 1284 -91 818 406 \nQ 353 903 353 1747 \nQ 353 2603 823 3093 \nQ 1294 3584 2113 3584 \nQ 2378 3584 2631 3529 \nQ 2884 3475 3122 3366 \nz\n\" transform=\"scale(0.015625)\"/>\n       <path id=\"DejaVuSans-68\" d=\"M 3513 2113 \nL 3513 0 \nL 2938 0 \nL 2938 2094 \nQ 2938 2591 2744 2837 \nQ 2550 3084 2163 3084 \nQ 1697 3084 1428 2787 \nQ 1159 2491 1159 1978 \nL 1159 0 \nL 581 0 \nL 581 4863 \nL 1159 4863 \nL 1159 2956 \nQ 1366 3272 1645 3428 \nQ 1925 3584 2291 3584 \nQ 2894 3584 3203 3211 \nQ 3513 2838 3513 2113 \nz\n\" transform=\"scale(0.015625)\"/>\n      </defs>\n      <use xlink:href=\"#DejaVuSans-65\"/>\n      <use xlink:href=\"#DejaVuSans-70\" x=\"61.523438\"/>\n      <use xlink:href=\"#DejaVuSans-6f\" x=\"125\"/>\n      <use xlink:href=\"#DejaVuSans-63\" x=\"186.181641\"/>\n      <use xlink:href=\"#DejaVuSans-68\" x=\"241.162109\"/>\n     </g>\n    </g>\n   </g>\n   <g id=\"matplotlib.axis_2\">\n    <g id=\"ytick_1\">\n     <g id=\"line2d_7\">\n      <defs>\n       <path id=\"m0e3fb589ca\" d=\"M 0 0 \nL -3.5 0 \n\" style=\"stroke: #000000; stroke-width: 0.8\"/>\n      </defs>\n      <g>\n       <use xlink:href=\"#m0e3fb589ca\" x=\"30.103125\" y=\"133.437051\" style=\"stroke: #000000; stroke-width: 0.8\"/>\n      </g>\n     </g>\n     <g id=\"text_8\">\n      <!-- 0.4 -->\n      <g transform=\"translate(7.2 137.23627) scale(0.1 -0.1)\">\n       <defs>\n        <path id=\"DejaVuSans-2e\" d=\"M 684 794 \nL 1344 794 \nL 1344 0 \nL 684 0 \nL 684 794 \nz\n\" transform=\"scale(0.015625)\"/>\n       </defs>\n       <use xlink:href=\"#DejaVuSans-30\"/>\n       <use xlink:href=\"#DejaVuSans-2e\" x=\"63.623047\"/>\n       <use xlink:href=\"#DejaVuSans-34\" x=\"95.410156\"/>\n      </g>\n     </g>\n    </g>\n    <g id=\"ytick_2\">\n     <g id=\"line2d_8\">\n      <g>\n       <use xlink:href=\"#m0e3fb589ca\" x=\"30.103125\" y=\"97.59456\" style=\"stroke: #000000; stroke-width: 0.8\"/>\n      </g>\n     </g>\n     <g id=\"text_9\">\n      <!-- 0.6 -->\n      <g transform=\"translate(7.2 101.393779) scale(0.1 -0.1)\">\n       <use xlink:href=\"#DejaVuSans-30\"/>\n       <use xlink:href=\"#DejaVuSans-2e\" x=\"63.623047\"/>\n       <use xlink:href=\"#DejaVuSans-36\" x=\"95.410156\"/>\n      </g>\n     </g>\n    </g>\n    <g id=\"ytick_3\">\n     <g id=\"line2d_9\">\n      <g>\n       <use xlink:href=\"#m0e3fb589ca\" x=\"30.103125\" y=\"61.752069\" style=\"stroke: #000000; stroke-width: 0.8\"/>\n      </g>\n     </g>\n     <g id=\"text_10\">\n      <!-- 0.8 -->\n      <g transform=\"translate(7.2 65.551288) scale(0.1 -0.1)\">\n       <use xlink:href=\"#DejaVuSans-30\"/>\n       <use xlink:href=\"#DejaVuSans-2e\" x=\"63.623047\"/>\n       <use xlink:href=\"#DejaVuSans-38\" x=\"95.410156\"/>\n      </g>\n     </g>\n    </g>\n    <g id=\"ytick_4\">\n     <g id=\"line2d_10\">\n      <g>\n       <use xlink:href=\"#m0e3fb589ca\" x=\"30.103125\" y=\"25.909578\" style=\"stroke: #000000; stroke-width: 0.8\"/>\n      </g>\n     </g>\n     <g id=\"text_11\">\n      <!-- 1.0 -->\n      <g transform=\"translate(7.2 29.708797) scale(0.1 -0.1)\">\n       <use xlink:href=\"#DejaVuSans-31\"/>\n       <use xlink:href=\"#DejaVuSans-2e\" x=\"63.623047\"/>\n       <use xlink:href=\"#DejaVuSans-30\" x=\"95.410156\"/>\n      </g>\n     </g>\n    </g>\n   </g>\n   <g id=\"line2d_11\">\n    <path d=\"M 34.923295 13.5 \n\" clip-path=\"url(#p5f8eafafb3)\" style=\"fill: none; stroke: #1f77b4; stroke-width: 1.5; stroke-linecap: square\"/>\n   </g>\n   <g id=\"line2d_12\">\n    <path d=\"M 34.923295 13.5 \nL 44.646742 86.636699 \n\" clip-path=\"url(#p5f8eafafb3)\" style=\"fill: none; stroke: #1f77b4; stroke-width: 1.5; stroke-linecap: square\"/>\n   </g>\n   <g id=\"line2d_13\">\n    <path d=\"M 34.923295 13.5 \nL 44.646742 86.636699 \n\" clip-path=\"url(#p5f8eafafb3)\" style=\"fill: none; stroke: #1f77b4; stroke-width: 1.5; stroke-linecap: square\"/>\n   </g>\n   <g id=\"line2d_14\">\n    <path d=\"M 49.633125 92.702358 \n\" clip-path=\"url(#p5f8eafafb3)\" style=\"fill: none; stroke-dasharray: 5.55,2.4; stroke-dashoffset: 0; stroke: #ff7f0e; stroke-width: 1.5\"/>\n   </g>\n   <g id=\"line2d_15\"/>\n   <g id=\"line2d_16\">\n    <path d=\"M 34.923295 13.5 \nL 44.646742 86.636699 \n\" clip-path=\"url(#p5f8eafafb3)\" style=\"fill: none; stroke: #1f77b4; stroke-width: 1.5; stroke-linecap: square\"/>\n   </g>\n   <g id=\"line2d_17\">\n    <path d=\"M 49.633125 92.702358 \n\" clip-path=\"url(#p5f8eafafb3)\" style=\"fill: none; stroke-dasharray: 5.55,2.4; stroke-dashoffset: 0; stroke: #ff7f0e; stroke-width: 1.5\"/>\n   </g>\n   <g id=\"line2d_18\">\n    <path d=\"M 49.633125 66.879925 \n\" clip-path=\"url(#p5f8eafafb3)\" style=\"fill: none; stroke-dasharray: 9.6,2.4,1.5,2.4; stroke-dashoffset: 0; stroke: #2ca02c; stroke-width: 1.5\"/>\n   </g>\n   <g id=\"line2d_19\">\n    <path d=\"M 34.923295 13.5 \nL 44.646742 86.636699 \nL 54.370189 101.792829 \n\" clip-path=\"url(#p5f8eafafb3)\" style=\"fill: none; stroke: #1f77b4; stroke-width: 1.5; stroke-linecap: square\"/>\n   </g>\n   <g id=\"line2d_20\">\n    <path d=\"M 49.633125 92.702358 \n\" clip-path=\"url(#p5f8eafafb3)\" style=\"fill: none; stroke-dasharray: 5.55,2.4; stroke-dashoffset: 0; stroke: #ff7f0e; stroke-width: 1.5\"/>\n   </g>\n   <g id=\"line2d_21\">\n    <path d=\"M 49.633125 66.879925 \n\" clip-path=\"url(#p5f8eafafb3)\" style=\"fill: none; stroke-dasharray: 9.6,2.4,1.5,2.4; stroke-dashoffset: 0; stroke: #2ca02c; stroke-width: 1.5\"/>\n   </g>\n   <g id=\"line2d_22\">\n    <path d=\"M 34.923295 13.5 \nL 44.646742 86.636699 \nL 54.370189 101.792829 \nL 64.093636 108.853757 \n\" clip-path=\"url(#p5f8eafafb3)\" style=\"fill: none; stroke: #1f77b4; stroke-width: 1.5; stroke-linecap: square\"/>\n   </g>\n   <g id=\"line2d_23\">\n    <path d=\"M 49.633125 92.702358 \n\" clip-path=\"url(#p5f8eafafb3)\" style=\"fill: none; stroke-dasharray: 5.55,2.4; stroke-dashoffset: 0; stroke: #ff7f0e; stroke-width: 1.5\"/>\n   </g>\n   <g id=\"line2d_24\">\n    <path d=\"M 49.633125 66.879925 \n\" clip-path=\"url(#p5f8eafafb3)\" style=\"fill: none; stroke-dasharray: 9.6,2.4,1.5,2.4; stroke-dashoffset: 0; stroke: #2ca02c; stroke-width: 1.5\"/>\n   </g>\n   <g id=\"line2d_25\">\n    <path d=\"M 34.923295 13.5 \nL 44.646742 86.636699 \nL 54.370189 101.792829 \nL 64.093636 108.853757 \n\" clip-path=\"url(#p5f8eafafb3)\" style=\"fill: none; stroke: #1f77b4; stroke-width: 1.5; stroke-linecap: square\"/>\n   </g>\n   <g id=\"line2d_26\">\n    <path d=\"M 49.633125 92.702358 \nL 69.163125 105.0826 \n\" clip-path=\"url(#p5f8eafafb3)\" style=\"fill: none; stroke-dasharray: 5.55,2.4; stroke-dashoffset: 0; stroke: #ff7f0e; stroke-width: 1.5\"/>\n   </g>\n   <g id=\"line2d_27\">\n    <path d=\"M 49.633125 66.879925 \n\" clip-path=\"url(#p5f8eafafb3)\" style=\"fill: none; stroke-dasharray: 9.6,2.4,1.5,2.4; stroke-dashoffset: 0; stroke: #2ca02c; stroke-width: 1.5\"/>\n   </g>\n   <g id=\"line2d_28\">\n    <path d=\"M 34.923295 13.5 \nL 44.646742 86.636699 \nL 54.370189 101.792829 \nL 64.093636 108.853757 \n\" clip-path=\"url(#p5f8eafafb3)\" style=\"fill: none; stroke: #1f77b4; stroke-width: 1.5; stroke-linecap: square\"/>\n   </g>\n   <g id=\"line2d_29\">\n    <path d=\"M 49.633125 92.702358 \nL 69.163125 105.0826 \n\" clip-path=\"url(#p5f8eafafb3)\" style=\"fill: none; stroke-dasharray: 5.55,2.4; stroke-dashoffset: 0; stroke: #ff7f0e; stroke-width: 1.5\"/>\n   </g>\n   <g id=\"line2d_30\">\n    <path d=\"M 49.633125 66.879925 \nL 69.163125 61.244534 \n\" clip-path=\"url(#p5f8eafafb3)\" style=\"fill: none; stroke-dasharray: 9.6,2.4,1.5,2.4; stroke-dashoffset: 0; stroke: #2ca02c; stroke-width: 1.5\"/>\n   </g>\n   <g id=\"line2d_31\">\n    <path d=\"M 34.923295 13.5 \nL 44.646742 86.636699 \nL 54.370189 101.792829 \nL 64.093636 108.853757 \nL 73.817082 116.519485 \n\" clip-path=\"url(#p5f8eafafb3)\" style=\"fill: none; stroke: #1f77b4; stroke-width: 1.5; stroke-linecap: square\"/>\n   </g>\n   <g id=\"line2d_32\">\n    <path d=\"M 49.633125 92.702358 \nL 69.163125 105.0826 \n\" clip-path=\"url(#p5f8eafafb3)\" style=\"fill: none; stroke-dasharray: 5.55,2.4; stroke-dashoffset: 0; stroke: #ff7f0e; stroke-width: 1.5\"/>\n   </g>\n   <g id=\"line2d_33\">\n    <path d=\"M 49.633125 66.879925 \nL 69.163125 61.244534 \n\" clip-path=\"url(#p5f8eafafb3)\" style=\"fill: none; stroke-dasharray: 9.6,2.4,1.5,2.4; stroke-dashoffset: 0; stroke: #2ca02c; stroke-width: 1.5\"/>\n   </g>\n   <g id=\"line2d_34\">\n    <path d=\"M 34.923295 13.5 \nL 44.646742 86.636699 \nL 54.370189 101.792829 \nL 64.093636 108.853757 \nL 73.817082 116.519485 \nL 83.540529 116.272193 \n\" clip-path=\"url(#p5f8eafafb3)\" style=\"fill: none; stroke: #1f77b4; stroke-width: 1.5; stroke-linecap: square\"/>\n   </g>\n   <g id=\"line2d_35\">\n    <path d=\"M 49.633125 92.702358 \nL 69.163125 105.0826 \n\" clip-path=\"url(#p5f8eafafb3)\" style=\"fill: none; stroke-dasharray: 5.55,2.4; stroke-dashoffset: 0; stroke: #ff7f0e; stroke-width: 1.5\"/>\n   </g>\n   <g id=\"line2d_36\">\n    <path d=\"M 49.633125 66.879925 \nL 69.163125 61.244534 \n\" clip-path=\"url(#p5f8eafafb3)\" style=\"fill: none; stroke-dasharray: 9.6,2.4,1.5,2.4; stroke-dashoffset: 0; stroke: #2ca02c; stroke-width: 1.5\"/>\n   </g>\n   <g id=\"line2d_37\">\n    <path d=\"M 34.923295 13.5 \nL 44.646742 86.636699 \nL 54.370189 101.792829 \nL 64.093636 108.853757 \nL 73.817082 116.519485 \nL 83.540529 116.272193 \n\" clip-path=\"url(#p5f8eafafb3)\" style=\"fill: none; stroke: #1f77b4; stroke-width: 1.5; stroke-linecap: square\"/>\n   </g>\n   <g id=\"line2d_38\">\n    <path d=\"M 49.633125 92.702358 \nL 69.163125 105.0826 \nL 88.693125 114.682391 \n\" clip-path=\"url(#p5f8eafafb3)\" style=\"fill: none; stroke-dasharray: 5.55,2.4; stroke-dashoffset: 0; stroke: #ff7f0e; stroke-width: 1.5\"/>\n   </g>\n   <g id=\"line2d_39\">\n    <path d=\"M 49.633125 66.879925 \nL 69.163125 61.244534 \n\" clip-path=\"url(#p5f8eafafb3)\" style=\"fill: none; stroke-dasharray: 9.6,2.4,1.5,2.4; stroke-dashoffset: 0; stroke: #2ca02c; stroke-width: 1.5\"/>\n   </g>\n   <g id=\"line2d_40\">\n    <path d=\"M 34.923295 13.5 \nL 44.646742 86.636699 \nL 54.370189 101.792829 \nL 64.093636 108.853757 \nL 73.817082 116.519485 \nL 83.540529 116.272193 \n\" clip-path=\"url(#p5f8eafafb3)\" style=\"fill: none; stroke: #1f77b4; stroke-width: 1.5; stroke-linecap: square\"/>\n   </g>\n   <g id=\"line2d_41\">\n    <path d=\"M 49.633125 92.702358 \nL 69.163125 105.0826 \nL 88.693125 114.682391 \n\" clip-path=\"url(#p5f8eafafb3)\" style=\"fill: none; stroke-dasharray: 5.55,2.4; stroke-dashoffset: 0; stroke: #ff7f0e; stroke-width: 1.5\"/>\n   </g>\n   <g id=\"line2d_42\">\n    <path d=\"M 49.633125 66.879925 \nL 69.163125 61.244534 \nL 88.693125 57.674286 \n\" clip-path=\"url(#p5f8eafafb3)\" style=\"fill: none; stroke-dasharray: 9.6,2.4,1.5,2.4; stroke-dashoffset: 0; stroke: #2ca02c; stroke-width: 1.5\"/>\n   </g>\n   <g id=\"line2d_43\">\n    <path d=\"M 34.923295 13.5 \nL 44.646742 86.636699 \nL 54.370189 101.792829 \nL 64.093636 108.853757 \nL 73.817082 116.519485 \nL 83.540529 116.272193 \nL 93.263976 120.185474 \n\" clip-path=\"url(#p5f8eafafb3)\" style=\"fill: none; stroke: #1f77b4; stroke-width: 1.5; stroke-linecap: square\"/>\n   </g>\n   <g id=\"line2d_44\">\n    <path d=\"M 49.633125 92.702358 \nL 69.163125 105.0826 \nL 88.693125 114.682391 \n\" clip-path=\"url(#p5f8eafafb3)\" style=\"fill: none; stroke-dasharray: 5.55,2.4; stroke-dashoffset: 0; stroke: #ff7f0e; stroke-width: 1.5\"/>\n   </g>\n   <g id=\"line2d_45\">\n    <path d=\"M 49.633125 66.879925 \nL 69.163125 61.244534 \nL 88.693125 57.674286 \n\" clip-path=\"url(#p5f8eafafb3)\" style=\"fill: none; stroke-dasharray: 9.6,2.4,1.5,2.4; stroke-dashoffset: 0; stroke: #2ca02c; stroke-width: 1.5\"/>\n   </g>\n   <g id=\"line2d_46\">\n    <path d=\"M 34.923295 13.5 \nL 44.646742 86.636699 \nL 54.370189 101.792829 \nL 64.093636 108.853757 \nL 73.817082 116.519485 \nL 83.540529 116.272193 \nL 93.263976 120.185474 \nL 102.987423 125.689845 \n\" clip-path=\"url(#p5f8eafafb3)\" style=\"fill: none; stroke: #1f77b4; stroke-width: 1.5; stroke-linecap: square\"/>\n   </g>\n   <g id=\"line2d_47\">\n    <path d=\"M 49.633125 92.702358 \nL 69.163125 105.0826 \nL 88.693125 114.682391 \n\" clip-path=\"url(#p5f8eafafb3)\" style=\"fill: none; stroke-dasharray: 5.55,2.4; stroke-dashoffset: 0; stroke: #ff7f0e; stroke-width: 1.5\"/>\n   </g>\n   <g id=\"line2d_48\">\n    <path d=\"M 49.633125 66.879925 \nL 69.163125 61.244534 \nL 88.693125 57.674286 \n\" clip-path=\"url(#p5f8eafafb3)\" style=\"fill: none; stroke-dasharray: 9.6,2.4,1.5,2.4; stroke-dashoffset: 0; stroke: #2ca02c; stroke-width: 1.5\"/>\n   </g>\n   <g id=\"line2d_49\">\n    <path d=\"M 34.923295 13.5 \nL 44.646742 86.636699 \nL 54.370189 101.792829 \nL 64.093636 108.853757 \nL 73.817082 116.519485 \nL 83.540529 116.272193 \nL 93.263976 120.185474 \nL 102.987423 125.689845 \n\" clip-path=\"url(#p5f8eafafb3)\" style=\"fill: none; stroke: #1f77b4; stroke-width: 1.5; stroke-linecap: square\"/>\n   </g>\n   <g id=\"line2d_50\">\n    <path d=\"M 49.633125 92.702358 \nL 69.163125 105.0826 \nL 88.693125 114.682391 \nL 108.223125 122.498723 \n\" clip-path=\"url(#p5f8eafafb3)\" style=\"fill: none; stroke-dasharray: 5.55,2.4; stroke-dashoffset: 0; stroke: #ff7f0e; stroke-width: 1.5\"/>\n   </g>\n   <g id=\"line2d_51\">\n    <path d=\"M 49.633125 66.879925 \nL 69.163125 61.244534 \nL 88.693125 57.674286 \n\" clip-path=\"url(#p5f8eafafb3)\" style=\"fill: none; stroke-dasharray: 9.6,2.4,1.5,2.4; stroke-dashoffset: 0; stroke: #2ca02c; stroke-width: 1.5\"/>\n   </g>\n   <g id=\"line2d_52\">\n    <path d=\"M 34.923295 13.5 \nL 44.646742 86.636699 \nL 54.370189 101.792829 \nL 64.093636 108.853757 \nL 73.817082 116.519485 \nL 83.540529 116.272193 \nL 93.263976 120.185474 \nL 102.987423 125.689845 \n\" clip-path=\"url(#p5f8eafafb3)\" style=\"fill: none; stroke: #1f77b4; stroke-width: 1.5; stroke-linecap: square\"/>\n   </g>\n   <g id=\"line2d_53\">\n    <path d=\"M 49.633125 92.702358 \nL 69.163125 105.0826 \nL 88.693125 114.682391 \nL 108.223125 122.498723 \n\" clip-path=\"url(#p5f8eafafb3)\" style=\"fill: none; stroke-dasharray: 5.55,2.4; stroke-dashoffset: 0; stroke: #ff7f0e; stroke-width: 1.5\"/>\n   </g>\n   <g id=\"line2d_54\">\n    <path d=\"M 49.633125 66.879925 \nL 69.163125 61.244534 \nL 88.693125 57.674286 \nL 108.223125 54.629074 \n\" clip-path=\"url(#p5f8eafafb3)\" style=\"fill: none; stroke-dasharray: 9.6,2.4,1.5,2.4; stroke-dashoffset: 0; stroke: #2ca02c; stroke-width: 1.5\"/>\n   </g>\n   <g id=\"line2d_55\">\n    <path d=\"M 34.923295 13.5 \nL 44.646742 86.636699 \nL 54.370189 101.792829 \nL 64.093636 108.853757 \nL 73.817082 116.519485 \nL 83.540529 116.272193 \nL 93.263976 120.185474 \nL 102.987423 125.689845 \nL 112.71087 126.448238 \n\" clip-path=\"url(#p5f8eafafb3)\" style=\"fill: none; stroke: #1f77b4; stroke-width: 1.5; stroke-linecap: square\"/>\n   </g>\n   <g id=\"line2d_56\">\n    <path d=\"M 49.633125 92.702358 \nL 69.163125 105.0826 \nL 88.693125 114.682391 \nL 108.223125 122.498723 \n\" clip-path=\"url(#p5f8eafafb3)\" style=\"fill: none; stroke-dasharray: 5.55,2.4; stroke-dashoffset: 0; stroke: #ff7f0e; stroke-width: 1.5\"/>\n   </g>\n   <g id=\"line2d_57\">\n    <path d=\"M 49.633125 66.879925 \nL 69.163125 61.244534 \nL 88.693125 57.674286 \nL 108.223125 54.629074 \n\" clip-path=\"url(#p5f8eafafb3)\" style=\"fill: none; stroke-dasharray: 9.6,2.4,1.5,2.4; stroke-dashoffset: 0; stroke: #2ca02c; stroke-width: 1.5\"/>\n   </g>\n   <g id=\"line2d_58\">\n    <path d=\"M 34.923295 13.5 \nL 44.646742 86.636699 \nL 54.370189 101.792829 \nL 64.093636 108.853757 \nL 73.817082 116.519485 \nL 83.540529 116.272193 \nL 93.263976 120.185474 \nL 102.987423 125.689845 \nL 112.71087 126.448238 \nL 122.434316 128.537793 \n\" clip-path=\"url(#p5f8eafafb3)\" style=\"fill: none; stroke: #1f77b4; stroke-width: 1.5; stroke-linecap: square\"/>\n   </g>\n   <g id=\"line2d_59\">\n    <path d=\"M 49.633125 92.702358 \nL 69.163125 105.0826 \nL 88.693125 114.682391 \nL 108.223125 122.498723 \n\" clip-path=\"url(#p5f8eafafb3)\" style=\"fill: none; stroke-dasharray: 5.55,2.4; stroke-dashoffset: 0; stroke: #ff7f0e; stroke-width: 1.5\"/>\n   </g>\n   <g id=\"line2d_60\">\n    <path d=\"M 49.633125 66.879925 \nL 69.163125 61.244534 \nL 88.693125 57.674286 \nL 108.223125 54.629074 \n\" clip-path=\"url(#p5f8eafafb3)\" style=\"fill: none; stroke-dasharray: 9.6,2.4,1.5,2.4; stroke-dashoffset: 0; stroke: #2ca02c; stroke-width: 1.5\"/>\n   </g>\n   <g id=\"line2d_61\">\n    <path d=\"M 34.923295 13.5 \nL 44.646742 86.636699 \nL 54.370189 101.792829 \nL 64.093636 108.853757 \nL 73.817082 116.519485 \nL 83.540529 116.272193 \nL 93.263976 120.185474 \nL 102.987423 125.689845 \nL 112.71087 126.448238 \nL 122.434316 128.537793 \n\" clip-path=\"url(#p5f8eafafb3)\" style=\"fill: none; stroke: #1f77b4; stroke-width: 1.5; stroke-linecap: square\"/>\n   </g>\n   <g id=\"line2d_62\">\n    <path d=\"M 49.633125 92.702358 \nL 69.163125 105.0826 \nL 88.693125 114.682391 \nL 108.223125 122.498723 \nL 127.753125 123.40787 \n\" clip-path=\"url(#p5f8eafafb3)\" style=\"fill: none; stroke-dasharray: 5.55,2.4; stroke-dashoffset: 0; stroke: #ff7f0e; stroke-width: 1.5\"/>\n   </g>\n   <g id=\"line2d_63\">\n    <path d=\"M 49.633125 66.879925 \nL 69.163125 61.244534 \nL 88.693125 57.674286 \nL 108.223125 54.629074 \n\" clip-path=\"url(#p5f8eafafb3)\" style=\"fill: none; stroke-dasharray: 9.6,2.4,1.5,2.4; stroke-dashoffset: 0; stroke: #2ca02c; stroke-width: 1.5\"/>\n   </g>\n   <g id=\"line2d_64\">\n    <path d=\"M 34.923295 13.5 \nL 44.646742 86.636699 \nL 54.370189 101.792829 \nL 64.093636 108.853757 \nL 73.817082 116.519485 \nL 83.540529 116.272193 \nL 93.263976 120.185474 \nL 102.987423 125.689845 \nL 112.71087 126.448238 \nL 122.434316 128.537793 \n\" clip-path=\"url(#p5f8eafafb3)\" style=\"fill: none; stroke: #1f77b4; stroke-width: 1.5; stroke-linecap: square\"/>\n   </g>\n   <g id=\"line2d_65\">\n    <path d=\"M 49.633125 92.702358 \nL 69.163125 105.0826 \nL 88.693125 114.682391 \nL 108.223125 122.498723 \nL 127.753125 123.40787 \n\" clip-path=\"url(#p5f8eafafb3)\" style=\"fill: none; stroke-dasharray: 5.55,2.4; stroke-dashoffset: 0; stroke: #ff7f0e; stroke-width: 1.5\"/>\n   </g>\n   <g id=\"line2d_66\">\n    <path d=\"M 49.633125 66.879925 \nL 69.163125 61.244534 \nL 88.693125 57.674286 \nL 108.223125 54.629074 \nL 127.753125 55.119108 \n\" clip-path=\"url(#p5f8eafafb3)\" style=\"fill: none; stroke-dasharray: 9.6,2.4,1.5,2.4; stroke-dashoffset: 0; stroke: #2ca02c; stroke-width: 1.5\"/>\n   </g>\n   <g id=\"line2d_67\">\n    <path d=\"M 34.923295 13.5 \nL 44.646742 86.636699 \nL 54.370189 101.792829 \nL 64.093636 108.853757 \nL 73.817082 116.519485 \nL 83.540529 116.272193 \nL 93.263976 120.185474 \nL 102.987423 125.689845 \nL 112.71087 126.448238 \nL 122.434316 128.537793 \nL 132.157763 129.590757 \n\" clip-path=\"url(#p5f8eafafb3)\" style=\"fill: none; stroke: #1f77b4; stroke-width: 1.5; stroke-linecap: square\"/>\n   </g>\n   <g id=\"line2d_68\">\n    <path d=\"M 49.633125 92.702358 \nL 69.163125 105.0826 \nL 88.693125 114.682391 \nL 108.223125 122.498723 \nL 127.753125 123.40787 \n\" clip-path=\"url(#p5f8eafafb3)\" style=\"fill: none; stroke-dasharray: 5.55,2.4; stroke-dashoffset: 0; stroke: #ff7f0e; stroke-width: 1.5\"/>\n   </g>\n   <g id=\"line2d_69\">\n    <path d=\"M 49.633125 66.879925 \nL 69.163125 61.244534 \nL 88.693125 57.674286 \nL 108.223125 54.629074 \nL 127.753125 55.119108 \n\" clip-path=\"url(#p5f8eafafb3)\" style=\"fill: none; stroke-dasharray: 9.6,2.4,1.5,2.4; stroke-dashoffset: 0; stroke: #2ca02c; stroke-width: 1.5\"/>\n   </g>\n   <g id=\"line2d_70\">\n    <path d=\"M 34.923295 13.5 \nL 44.646742 86.636699 \nL 54.370189 101.792829 \nL 64.093636 108.853757 \nL 73.817082 116.519485 \nL 83.540529 116.272193 \nL 93.263976 120.185474 \nL 102.987423 125.689845 \nL 112.71087 126.448238 \nL 122.434316 128.537793 \nL 132.157763 129.590757 \nL 141.88121 131.080081 \n\" clip-path=\"url(#p5f8eafafb3)\" style=\"fill: none; stroke: #1f77b4; stroke-width: 1.5; stroke-linecap: square\"/>\n   </g>\n   <g id=\"line2d_71\">\n    <path d=\"M 49.633125 92.702358 \nL 69.163125 105.0826 \nL 88.693125 114.682391 \nL 108.223125 122.498723 \nL 127.753125 123.40787 \n\" clip-path=\"url(#p5f8eafafb3)\" style=\"fill: none; stroke-dasharray: 5.55,2.4; stroke-dashoffset: 0; stroke: #ff7f0e; stroke-width: 1.5\"/>\n   </g>\n   <g id=\"line2d_72\">\n    <path d=\"M 49.633125 66.879925 \nL 69.163125 61.244534 \nL 88.693125 57.674286 \nL 108.223125 54.629074 \nL 127.753125 55.119108 \n\" clip-path=\"url(#p5f8eafafb3)\" style=\"fill: none; stroke-dasharray: 9.6,2.4,1.5,2.4; stroke-dashoffset: 0; stroke: #2ca02c; stroke-width: 1.5\"/>\n   </g>\n   <g id=\"line2d_73\">\n    <path d=\"M 34.923295 13.5 \nL 44.646742 86.636699 \nL 54.370189 101.792829 \nL 64.093636 108.853757 \nL 73.817082 116.519485 \nL 83.540529 116.272193 \nL 93.263976 120.185474 \nL 102.987423 125.689845 \nL 112.71087 126.448238 \nL 122.434316 128.537793 \nL 132.157763 129.590757 \nL 141.88121 131.080081 \n\" clip-path=\"url(#p5f8eafafb3)\" style=\"fill: none; stroke: #1f77b4; stroke-width: 1.5; stroke-linecap: square\"/>\n   </g>\n   <g id=\"line2d_74\">\n    <path d=\"M 49.633125 92.702358 \nL 69.163125 105.0826 \nL 88.693125 114.682391 \nL 108.223125 122.498723 \nL 127.753125 123.40787 \nL 147.283125 120.510514 \n\" clip-path=\"url(#p5f8eafafb3)\" style=\"fill: none; stroke-dasharray: 5.55,2.4; stroke-dashoffset: 0; stroke: #ff7f0e; stroke-width: 1.5\"/>\n   </g>\n   <g id=\"line2d_75\">\n    <path d=\"M 49.633125 66.879925 \nL 69.163125 61.244534 \nL 88.693125 57.674286 \nL 108.223125 54.629074 \nL 127.753125 55.119108 \n\" clip-path=\"url(#p5f8eafafb3)\" style=\"fill: none; stroke-dasharray: 9.6,2.4,1.5,2.4; stroke-dashoffset: 0; stroke: #2ca02c; stroke-width: 1.5\"/>\n   </g>\n   <g id=\"line2d_76\">\n    <path d=\"M 34.923295 13.5 \nL 44.646742 86.636699 \nL 54.370189 101.792829 \nL 64.093636 108.853757 \nL 73.817082 116.519485 \nL 83.540529 116.272193 \nL 93.263976 120.185474 \nL 102.987423 125.689845 \nL 112.71087 126.448238 \nL 122.434316 128.537793 \nL 132.157763 129.590757 \nL 141.88121 131.080081 \n\" clip-path=\"url(#p5f8eafafb3)\" style=\"fill: none; stroke: #1f77b4; stroke-width: 1.5; stroke-linecap: square\"/>\n   </g>\n   <g id=\"line2d_77\">\n    <path d=\"M 49.633125 92.702358 \nL 69.163125 105.0826 \nL 88.693125 114.682391 \nL 108.223125 122.498723 \nL 127.753125 123.40787 \nL 147.283125 120.510514 \n\" clip-path=\"url(#p5f8eafafb3)\" style=\"fill: none; stroke-dasharray: 5.55,2.4; stroke-dashoffset: 0; stroke: #ff7f0e; stroke-width: 1.5\"/>\n   </g>\n   <g id=\"line2d_78\">\n    <path d=\"M 49.633125 66.879925 \nL 69.163125 61.244534 \nL 88.693125 57.674286 \nL 108.223125 54.629074 \nL 127.753125 55.119108 \nL 147.283125 56.344193 \n\" clip-path=\"url(#p5f8eafafb3)\" style=\"fill: none; stroke-dasharray: 9.6,2.4,1.5,2.4; stroke-dashoffset: 0; stroke: #2ca02c; stroke-width: 1.5\"/>\n   </g>\n   <g id=\"line2d_79\">\n    <path d=\"M 34.923295 13.5 \nL 44.646742 86.636699 \nL 54.370189 101.792829 \nL 64.093636 108.853757 \nL 73.817082 116.519485 \nL 83.540529 116.272193 \nL 93.263976 120.185474 \nL 102.987423 125.689845 \nL 112.71087 126.448238 \nL 122.434316 128.537793 \nL 132.157763 129.590757 \nL 141.88121 131.080081 \nL 151.604657 131.265051 \n\" clip-path=\"url(#p5f8eafafb3)\" style=\"fill: none; stroke: #1f77b4; stroke-width: 1.5; stroke-linecap: square\"/>\n   </g>\n   <g id=\"line2d_80\">\n    <path d=\"M 49.633125 92.702358 \nL 69.163125 105.0826 \nL 88.693125 114.682391 \nL 108.223125 122.498723 \nL 127.753125 123.40787 \nL 147.283125 120.510514 \n\" clip-path=\"url(#p5f8eafafb3)\" style=\"fill: none; stroke-dasharray: 5.55,2.4; stroke-dashoffset: 0; stroke: #ff7f0e; stroke-width: 1.5\"/>\n   </g>\n   <g id=\"line2d_81\">\n    <path d=\"M 49.633125 66.879925 \nL 69.163125 61.244534 \nL 88.693125 57.674286 \nL 108.223125 54.629074 \nL 127.753125 55.119108 \nL 147.283125 56.344193 \n\" clip-path=\"url(#p5f8eafafb3)\" style=\"fill: none; stroke-dasharray: 9.6,2.4,1.5,2.4; stroke-dashoffset: 0; stroke: #2ca02c; stroke-width: 1.5\"/>\n   </g>\n   <g id=\"line2d_82\">\n    <path d=\"M 34.923295 13.5 \nL 44.646742 86.636699 \nL 54.370189 101.792829 \nL 64.093636 108.853757 \nL 73.817082 116.519485 \nL 83.540529 116.272193 \nL 93.263976 120.185474 \nL 102.987423 125.689845 \nL 112.71087 126.448238 \nL 122.434316 128.537793 \nL 132.157763 129.590757 \nL 141.88121 131.080081 \nL 151.604657 131.265051 \nL 161.328104 134.245237 \n\" clip-path=\"url(#p5f8eafafb3)\" style=\"fill: none; stroke: #1f77b4; stroke-width: 1.5; stroke-linecap: square\"/>\n   </g>\n   <g id=\"line2d_83\">\n    <path d=\"M 49.633125 92.702358 \nL 69.163125 105.0826 \nL 88.693125 114.682391 \nL 108.223125 122.498723 \nL 127.753125 123.40787 \nL 147.283125 120.510514 \n\" clip-path=\"url(#p5f8eafafb3)\" style=\"fill: none; stroke-dasharray: 5.55,2.4; stroke-dashoffset: 0; stroke: #ff7f0e; stroke-width: 1.5\"/>\n   </g>\n   <g id=\"line2d_84\">\n    <path d=\"M 49.633125 66.879925 \nL 69.163125 61.244534 \nL 88.693125 57.674286 \nL 108.223125 54.629074 \nL 127.753125 55.119108 \nL 147.283125 56.344193 \n\" clip-path=\"url(#p5f8eafafb3)\" style=\"fill: none; stroke-dasharray: 9.6,2.4,1.5,2.4; stroke-dashoffset: 0; stroke: #2ca02c; stroke-width: 1.5\"/>\n   </g>\n   <g id=\"line2d_85\">\n    <path d=\"M 34.923295 13.5 \nL 44.646742 86.636699 \nL 54.370189 101.792829 \nL 64.093636 108.853757 \nL 73.817082 116.519485 \nL 83.540529 116.272193 \nL 93.263976 120.185474 \nL 102.987423 125.689845 \nL 112.71087 126.448238 \nL 122.434316 128.537793 \nL 132.157763 129.590757 \nL 141.88121 131.080081 \nL 151.604657 131.265051 \nL 161.328104 134.245237 \n\" clip-path=\"url(#p5f8eafafb3)\" style=\"fill: none; stroke: #1f77b4; stroke-width: 1.5; stroke-linecap: square\"/>\n   </g>\n   <g id=\"line2d_86\">\n    <path d=\"M 49.633125 92.702358 \nL 69.163125 105.0826 \nL 88.693125 114.682391 \nL 108.223125 122.498723 \nL 127.753125 123.40787 \nL 147.283125 120.510514 \nL 166.813125 126.756567 \n\" clip-path=\"url(#p5f8eafafb3)\" style=\"fill: none; stroke-dasharray: 5.55,2.4; stroke-dashoffset: 0; stroke: #ff7f0e; stroke-width: 1.5\"/>\n   </g>\n   <g id=\"line2d_87\">\n    <path d=\"M 49.633125 66.879925 \nL 69.163125 61.244534 \nL 88.693125 57.674286 \nL 108.223125 54.629074 \nL 127.753125 55.119108 \nL 147.283125 56.344193 \n\" clip-path=\"url(#p5f8eafafb3)\" style=\"fill: none; stroke-dasharray: 9.6,2.4,1.5,2.4; stroke-dashoffset: 0; stroke: #2ca02c; stroke-width: 1.5\"/>\n   </g>\n   <g id=\"line2d_88\">\n    <path d=\"M 34.923295 13.5 \nL 44.646742 86.636699 \nL 54.370189 101.792829 \nL 64.093636 108.853757 \nL 73.817082 116.519485 \nL 83.540529 116.272193 \nL 93.263976 120.185474 \nL 102.987423 125.689845 \nL 112.71087 126.448238 \nL 122.434316 128.537793 \nL 132.157763 129.590757 \nL 141.88121 131.080081 \nL 151.604657 131.265051 \nL 161.328104 134.245237 \n\" clip-path=\"url(#p5f8eafafb3)\" style=\"fill: none; stroke: #1f77b4; stroke-width: 1.5; stroke-linecap: square\"/>\n   </g>\n   <g id=\"line2d_89\">\n    <path d=\"M 49.633125 92.702358 \nL 69.163125 105.0826 \nL 88.693125 114.682391 \nL 108.223125 122.498723 \nL 127.753125 123.40787 \nL 147.283125 120.510514 \nL 166.813125 126.756567 \n\" clip-path=\"url(#p5f8eafafb3)\" style=\"fill: none; stroke-dasharray: 5.55,2.4; stroke-dashoffset: 0; stroke: #ff7f0e; stroke-width: 1.5\"/>\n   </g>\n   <g id=\"line2d_90\">\n    <path d=\"M 49.633125 66.879925 \nL 69.163125 61.244534 \nL 88.693125 57.674286 \nL 108.223125 54.629074 \nL 127.753125 55.119108 \nL 147.283125 56.344193 \nL 166.813125 54.646575 \n\" clip-path=\"url(#p5f8eafafb3)\" style=\"fill: none; stroke-dasharray: 9.6,2.4,1.5,2.4; stroke-dashoffset: 0; stroke: #2ca02c; stroke-width: 1.5\"/>\n   </g>\n   <g id=\"line2d_91\">\n    <path d=\"M 34.923295 13.5 \nL 44.646742 86.636699 \nL 54.370189 101.792829 \nL 64.093636 108.853757 \nL 73.817082 116.519485 \nL 83.540529 116.272193 \nL 93.263976 120.185474 \nL 102.987423 125.689845 \nL 112.71087 126.448238 \nL 122.434316 128.537793 \nL 132.157763 129.590757 \nL 141.88121 131.080081 \nL 151.604657 131.265051 \nL 161.328104 134.245237 \nL 171.051551 135.427899 \n\" clip-path=\"url(#p5f8eafafb3)\" style=\"fill: none; stroke: #1f77b4; stroke-width: 1.5; stroke-linecap: square\"/>\n   </g>\n   <g id=\"line2d_92\">\n    <path d=\"M 49.633125 92.702358 \nL 69.163125 105.0826 \nL 88.693125 114.682391 \nL 108.223125 122.498723 \nL 127.753125 123.40787 \nL 147.283125 120.510514 \nL 166.813125 126.756567 \n\" clip-path=\"url(#p5f8eafafb3)\" style=\"fill: none; stroke-dasharray: 5.55,2.4; stroke-dashoffset: 0; stroke: #ff7f0e; stroke-width: 1.5\"/>\n   </g>\n   <g id=\"line2d_93\">\n    <path d=\"M 49.633125 66.879925 \nL 69.163125 61.244534 \nL 88.693125 57.674286 \nL 108.223125 54.629074 \nL 127.753125 55.119108 \nL 147.283125 56.344193 \nL 166.813125 54.646575 \n\" clip-path=\"url(#p5f8eafafb3)\" style=\"fill: none; stroke-dasharray: 9.6,2.4,1.5,2.4; stroke-dashoffset: 0; stroke: #2ca02c; stroke-width: 1.5\"/>\n   </g>\n   <g id=\"line2d_94\">\n    <path d=\"M 34.923295 13.5 \nL 44.646742 86.636699 \nL 54.370189 101.792829 \nL 64.093636 108.853757 \nL 73.817082 116.519485 \nL 83.540529 116.272193 \nL 93.263976 120.185474 \nL 102.987423 125.689845 \nL 112.71087 126.448238 \nL 122.434316 128.537793 \nL 132.157763 129.590757 \nL 141.88121 131.080081 \nL 151.604657 131.265051 \nL 161.328104 134.245237 \nL 171.051551 135.427899 \nL 180.774997 135.075268 \n\" clip-path=\"url(#p5f8eafafb3)\" style=\"fill: none; stroke: #1f77b4; stroke-width: 1.5; stroke-linecap: square\"/>\n   </g>\n   <g id=\"line2d_95\">\n    <path d=\"M 49.633125 92.702358 \nL 69.163125 105.0826 \nL 88.693125 114.682391 \nL 108.223125 122.498723 \nL 127.753125 123.40787 \nL 147.283125 120.510514 \nL 166.813125 126.756567 \n\" clip-path=\"url(#p5f8eafafb3)\" style=\"fill: none; stroke-dasharray: 5.55,2.4; stroke-dashoffset: 0; stroke: #ff7f0e; stroke-width: 1.5\"/>\n   </g>\n   <g id=\"line2d_96\">\n    <path d=\"M 49.633125 66.879925 \nL 69.163125 61.244534 \nL 88.693125 57.674286 \nL 108.223125 54.629074 \nL 127.753125 55.119108 \nL 147.283125 56.344193 \nL 166.813125 54.646575 \n\" clip-path=\"url(#p5f8eafafb3)\" style=\"fill: none; stroke-dasharray: 9.6,2.4,1.5,2.4; stroke-dashoffset: 0; stroke: #2ca02c; stroke-width: 1.5\"/>\n   </g>\n   <g id=\"line2d_97\">\n    <path d=\"M 34.923295 13.5 \nL 44.646742 86.636699 \nL 54.370189 101.792829 \nL 64.093636 108.853757 \nL 73.817082 116.519485 \nL 83.540529 116.272193 \nL 93.263976 120.185474 \nL 102.987423 125.689845 \nL 112.71087 126.448238 \nL 122.434316 128.537793 \nL 132.157763 129.590757 \nL 141.88121 131.080081 \nL 151.604657 131.265051 \nL 161.328104 134.245237 \nL 171.051551 135.427899 \nL 180.774997 135.075268 \n\" clip-path=\"url(#p5f8eafafb3)\" style=\"fill: none; stroke: #1f77b4; stroke-width: 1.5; stroke-linecap: square\"/>\n   </g>\n   <g id=\"line2d_98\">\n    <path d=\"M 49.633125 92.702358 \nL 69.163125 105.0826 \nL 88.693125 114.682391 \nL 108.223125 122.498723 \nL 127.753125 123.40787 \nL 147.283125 120.510514 \nL 166.813125 126.756567 \nL 186.343125 128.44725 \n\" clip-path=\"url(#p5f8eafafb3)\" style=\"fill: none; stroke-dasharray: 5.55,2.4; stroke-dashoffset: 0; stroke: #ff7f0e; stroke-width: 1.5\"/>\n   </g>\n   <g id=\"line2d_99\">\n    <path d=\"M 49.633125 66.879925 \nL 69.163125 61.244534 \nL 88.693125 57.674286 \nL 108.223125 54.629074 \nL 127.753125 55.119108 \nL 147.283125 56.344193 \nL 166.813125 54.646575 \n\" clip-path=\"url(#p5f8eafafb3)\" style=\"fill: none; stroke-dasharray: 9.6,2.4,1.5,2.4; stroke-dashoffset: 0; stroke: #2ca02c; stroke-width: 1.5\"/>\n   </g>\n   <g id=\"line2d_100\">\n    <path d=\"M 34.923295 13.5 \nL 44.646742 86.636699 \nL 54.370189 101.792829 \nL 64.093636 108.853757 \nL 73.817082 116.519485 \nL 83.540529 116.272193 \nL 93.263976 120.185474 \nL 102.987423 125.689845 \nL 112.71087 126.448238 \nL 122.434316 128.537793 \nL 132.157763 129.590757 \nL 141.88121 131.080081 \nL 151.604657 131.265051 \nL 161.328104 134.245237 \nL 171.051551 135.427899 \nL 180.774997 135.075268 \n\" clip-path=\"url(#p5f8eafafb3)\" style=\"fill: none; stroke: #1f77b4; stroke-width: 1.5; stroke-linecap: square\"/>\n   </g>\n   <g id=\"line2d_101\">\n    <path d=\"M 49.633125 92.702358 \nL 69.163125 105.0826 \nL 88.693125 114.682391 \nL 108.223125 122.498723 \nL 127.753125 123.40787 \nL 147.283125 120.510514 \nL 166.813125 126.756567 \nL 186.343125 128.44725 \n\" clip-path=\"url(#p5f8eafafb3)\" style=\"fill: none; stroke-dasharray: 5.55,2.4; stroke-dashoffset: 0; stroke: #ff7f0e; stroke-width: 1.5\"/>\n   </g>\n   <g id=\"line2d_102\">\n    <path d=\"M 49.633125 66.879925 \nL 69.163125 61.244534 \nL 88.693125 57.674286 \nL 108.223125 54.629074 \nL 127.753125 55.119108 \nL 147.283125 56.344193 \nL 166.813125 54.646575 \nL 186.343125 53.228977 \n\" clip-path=\"url(#p5f8eafafb3)\" style=\"fill: none; stroke-dasharray: 9.6,2.4,1.5,2.4; stroke-dashoffset: 0; stroke: #2ca02c; stroke-width: 1.5\"/>\n   </g>\n   <g id=\"line2d_103\">\n    <path d=\"M 34.923295 13.5 \nL 44.646742 86.636699 \nL 54.370189 101.792829 \nL 64.093636 108.853757 \nL 73.817082 116.519485 \nL 83.540529 116.272193 \nL 93.263976 120.185474 \nL 102.987423 125.689845 \nL 112.71087 126.448238 \nL 122.434316 128.537793 \nL 132.157763 129.590757 \nL 141.88121 131.080081 \nL 151.604657 131.265051 \nL 161.328104 134.245237 \nL 171.051551 135.427899 \nL 180.774997 135.075268 \nL 190.498444 135.962575 \n\" clip-path=\"url(#p5f8eafafb3)\" style=\"fill: none; stroke: #1f77b4; stroke-width: 1.5; stroke-linecap: square\"/>\n   </g>\n   <g id=\"line2d_104\">\n    <path d=\"M 49.633125 92.702358 \nL 69.163125 105.0826 \nL 88.693125 114.682391 \nL 108.223125 122.498723 \nL 127.753125 123.40787 \nL 147.283125 120.510514 \nL 166.813125 126.756567 \nL 186.343125 128.44725 \n\" clip-path=\"url(#p5f8eafafb3)\" style=\"fill: none; stroke-dasharray: 5.55,2.4; stroke-dashoffset: 0; stroke: #ff7f0e; stroke-width: 1.5\"/>\n   </g>\n   <g id=\"line2d_105\">\n    <path d=\"M 49.633125 66.879925 \nL 69.163125 61.244534 \nL 88.693125 57.674286 \nL 108.223125 54.629074 \nL 127.753125 55.119108 \nL 147.283125 56.344193 \nL 166.813125 54.646575 \nL 186.343125 53.228977 \n\" clip-path=\"url(#p5f8eafafb3)\" style=\"fill: none; stroke-dasharray: 9.6,2.4,1.5,2.4; stroke-dashoffset: 0; stroke: #2ca02c; stroke-width: 1.5\"/>\n   </g>\n   <g id=\"line2d_106\">\n    <path d=\"M 34.923295 13.5 \nL 44.646742 86.636699 \nL 54.370189 101.792829 \nL 64.093636 108.853757 \nL 73.817082 116.519485 \nL 83.540529 116.272193 \nL 93.263976 120.185474 \nL 102.987423 125.689845 \nL 112.71087 126.448238 \nL 122.434316 128.537793 \nL 132.157763 129.590757 \nL 141.88121 131.080081 \nL 151.604657 131.265051 \nL 161.328104 134.245237 \nL 171.051551 135.427899 \nL 180.774997 135.075268 \nL 190.498444 135.962575 \nL 200.221891 138.141696 \n\" clip-path=\"url(#p5f8eafafb3)\" style=\"fill: none; stroke: #1f77b4; stroke-width: 1.5; stroke-linecap: square\"/>\n   </g>\n   <g id=\"line2d_107\">\n    <path d=\"M 49.633125 92.702358 \nL 69.163125 105.0826 \nL 88.693125 114.682391 \nL 108.223125 122.498723 \nL 127.753125 123.40787 \nL 147.283125 120.510514 \nL 166.813125 126.756567 \nL 186.343125 128.44725 \n\" clip-path=\"url(#p5f8eafafb3)\" style=\"fill: none; stroke-dasharray: 5.55,2.4; stroke-dashoffset: 0; stroke: #ff7f0e; stroke-width: 1.5\"/>\n   </g>\n   <g id=\"line2d_108\">\n    <path d=\"M 49.633125 66.879925 \nL 69.163125 61.244534 \nL 88.693125 57.674286 \nL 108.223125 54.629074 \nL 127.753125 55.119108 \nL 147.283125 56.344193 \nL 166.813125 54.646575 \nL 186.343125 53.228977 \n\" clip-path=\"url(#p5f8eafafb3)\" style=\"fill: none; stroke-dasharray: 9.6,2.4,1.5,2.4; stroke-dashoffset: 0; stroke: #2ca02c; stroke-width: 1.5\"/>\n   </g>\n   <g id=\"line2d_109\">\n    <path d=\"M 34.923295 13.5 \nL 44.646742 86.636699 \nL 54.370189 101.792829 \nL 64.093636 108.853757 \nL 73.817082 116.519485 \nL 83.540529 116.272193 \nL 93.263976 120.185474 \nL 102.987423 125.689845 \nL 112.71087 126.448238 \nL 122.434316 128.537793 \nL 132.157763 129.590757 \nL 141.88121 131.080081 \nL 151.604657 131.265051 \nL 161.328104 134.245237 \nL 171.051551 135.427899 \nL 180.774997 135.075268 \nL 190.498444 135.962575 \nL 200.221891 138.141696 \n\" clip-path=\"url(#p5f8eafafb3)\" style=\"fill: none; stroke: #1f77b4; stroke-width: 1.5; stroke-linecap: square\"/>\n   </g>\n   <g id=\"line2d_110\">\n    <path d=\"M 49.633125 92.702358 \nL 69.163125 105.0826 \nL 88.693125 114.682391 \nL 108.223125 122.498723 \nL 127.753125 123.40787 \nL 147.283125 120.510514 \nL 166.813125 126.756567 \nL 186.343125 128.44725 \nL 205.873125 126.471051 \n\" clip-path=\"url(#p5f8eafafb3)\" style=\"fill: none; stroke-dasharray: 5.55,2.4; stroke-dashoffset: 0; stroke: #ff7f0e; stroke-width: 1.5\"/>\n   </g>\n   <g id=\"line2d_111\">\n    <path d=\"M 49.633125 66.879925 \nL 69.163125 61.244534 \nL 88.693125 57.674286 \nL 108.223125 54.629074 \nL 127.753125 55.119108 \nL 147.283125 56.344193 \nL 166.813125 54.646575 \nL 186.343125 53.228977 \n\" clip-path=\"url(#p5f8eafafb3)\" style=\"fill: none; stroke-dasharray: 9.6,2.4,1.5,2.4; stroke-dashoffset: 0; stroke: #2ca02c; stroke-width: 1.5\"/>\n   </g>\n   <g id=\"line2d_112\">\n    <path d=\"M 34.923295 13.5 \nL 44.646742 86.636699 \nL 54.370189 101.792829 \nL 64.093636 108.853757 \nL 73.817082 116.519485 \nL 83.540529 116.272193 \nL 93.263976 120.185474 \nL 102.987423 125.689845 \nL 112.71087 126.448238 \nL 122.434316 128.537793 \nL 132.157763 129.590757 \nL 141.88121 131.080081 \nL 151.604657 131.265051 \nL 161.328104 134.245237 \nL 171.051551 135.427899 \nL 180.774997 135.075268 \nL 190.498444 135.962575 \nL 200.221891 138.141696 \n\" clip-path=\"url(#p5f8eafafb3)\" style=\"fill: none; stroke: #1f77b4; stroke-width: 1.5; stroke-linecap: square\"/>\n   </g>\n   <g id=\"line2d_113\">\n    <path d=\"M 49.633125 92.702358 \nL 69.163125 105.0826 \nL 88.693125 114.682391 \nL 108.223125 122.498723 \nL 127.753125 123.40787 \nL 147.283125 120.510514 \nL 166.813125 126.756567 \nL 186.343125 128.44725 \nL 205.873125 126.471051 \n\" clip-path=\"url(#p5f8eafafb3)\" style=\"fill: none; stroke-dasharray: 5.55,2.4; stroke-dashoffset: 0; stroke: #ff7f0e; stroke-width: 1.5\"/>\n   </g>\n   <g id=\"line2d_114\">\n    <path d=\"M 49.633125 66.879925 \nL 69.163125 61.244534 \nL 88.693125 57.674286 \nL 108.223125 54.629074 \nL 127.753125 55.119108 \nL 147.283125 56.344193 \nL 166.813125 54.646575 \nL 186.343125 53.228977 \nL 205.873125 53.754013 \n\" clip-path=\"url(#p5f8eafafb3)\" style=\"fill: none; stroke-dasharray: 9.6,2.4,1.5,2.4; stroke-dashoffset: 0; stroke: #2ca02c; stroke-width: 1.5\"/>\n   </g>\n   <g id=\"line2d_115\">\n    <path d=\"M 34.923295 13.5 \nL 44.646742 86.636699 \nL 54.370189 101.792829 \nL 64.093636 108.853757 \nL 73.817082 116.519485 \nL 83.540529 116.272193 \nL 93.263976 120.185474 \nL 102.987423 125.689845 \nL 112.71087 126.448238 \nL 122.434316 128.537793 \nL 132.157763 129.590757 \nL 141.88121 131.080081 \nL 151.604657 131.265051 \nL 161.328104 134.245237 \nL 171.051551 135.427899 \nL 180.774997 135.075268 \nL 190.498444 135.962575 \nL 200.221891 138.141696 \nL 209.945338 137.364804 \n\" clip-path=\"url(#p5f8eafafb3)\" style=\"fill: none; stroke: #1f77b4; stroke-width: 1.5; stroke-linecap: square\"/>\n   </g>\n   <g id=\"line2d_116\">\n    <path d=\"M 49.633125 92.702358 \nL 69.163125 105.0826 \nL 88.693125 114.682391 \nL 108.223125 122.498723 \nL 127.753125 123.40787 \nL 147.283125 120.510514 \nL 166.813125 126.756567 \nL 186.343125 128.44725 \nL 205.873125 126.471051 \n\" clip-path=\"url(#p5f8eafafb3)\" style=\"fill: none; stroke-dasharray: 5.55,2.4; stroke-dashoffset: 0; stroke: #ff7f0e; stroke-width: 1.5\"/>\n   </g>\n   <g id=\"line2d_117\">\n    <path d=\"M 49.633125 66.879925 \nL 69.163125 61.244534 \nL 88.693125 57.674286 \nL 108.223125 54.629074 \nL 127.753125 55.119108 \nL 147.283125 56.344193 \nL 166.813125 54.646575 \nL 186.343125 53.228977 \nL 205.873125 53.754013 \n\" clip-path=\"url(#p5f8eafafb3)\" style=\"fill: none; stroke-dasharray: 9.6,2.4,1.5,2.4; stroke-dashoffset: 0; stroke: #2ca02c; stroke-width: 1.5\"/>\n   </g>\n   <g id=\"line2d_118\">\n    <path d=\"M 34.923295 13.5 \nL 44.646742 86.636699 \nL 54.370189 101.792829 \nL 64.093636 108.853757 \nL 73.817082 116.519485 \nL 83.540529 116.272193 \nL 93.263976 120.185474 \nL 102.987423 125.689845 \nL 112.71087 126.448238 \nL 122.434316 128.537793 \nL 132.157763 129.590757 \nL 141.88121 131.080081 \nL 151.604657 131.265051 \nL 161.328104 134.245237 \nL 171.051551 135.427899 \nL 180.774997 135.075268 \nL 190.498444 135.962575 \nL 200.221891 138.141696 \nL 209.945338 137.364804 \nL 219.668785 139.5 \n\" clip-path=\"url(#p5f8eafafb3)\" style=\"fill: none; stroke: #1f77b4; stroke-width: 1.5; stroke-linecap: square\"/>\n   </g>\n   <g id=\"line2d_119\">\n    <path d=\"M 49.633125 92.702358 \nL 69.163125 105.0826 \nL 88.693125 114.682391 \nL 108.223125 122.498723 \nL 127.753125 123.40787 \nL 147.283125 120.510514 \nL 166.813125 126.756567 \nL 186.343125 128.44725 \nL 205.873125 126.471051 \n\" clip-path=\"url(#p5f8eafafb3)\" style=\"fill: none; stroke-dasharray: 5.55,2.4; stroke-dashoffset: 0; stroke: #ff7f0e; stroke-width: 1.5\"/>\n   </g>\n   <g id=\"line2d_120\">\n    <path d=\"M 49.633125 66.879925 \nL 69.163125 61.244534 \nL 88.693125 57.674286 \nL 108.223125 54.629074 \nL 127.753125 55.119108 \nL 147.283125 56.344193 \nL 166.813125 54.646575 \nL 186.343125 53.228977 \nL 205.873125 53.754013 \n\" clip-path=\"url(#p5f8eafafb3)\" style=\"fill: none; stroke-dasharray: 9.6,2.4,1.5,2.4; stroke-dashoffset: 0; stroke: #2ca02c; stroke-width: 1.5\"/>\n   </g>\n   <g id=\"line2d_121\">\n    <path d=\"M 34.923295 13.5 \nL 44.646742 86.636699 \nL 54.370189 101.792829 \nL 64.093636 108.853757 \nL 73.817082 116.519485 \nL 83.540529 116.272193 \nL 93.263976 120.185474 \nL 102.987423 125.689845 \nL 112.71087 126.448238 \nL 122.434316 128.537793 \nL 132.157763 129.590757 \nL 141.88121 131.080081 \nL 151.604657 131.265051 \nL 161.328104 134.245237 \nL 171.051551 135.427899 \nL 180.774997 135.075268 \nL 190.498444 135.962575 \nL 200.221891 138.141696 \nL 209.945338 137.364804 \nL 219.668785 139.5 \n\" clip-path=\"url(#p5f8eafafb3)\" style=\"fill: none; stroke: #1f77b4; stroke-width: 1.5; stroke-linecap: square\"/>\n   </g>\n   <g id=\"line2d_122\">\n    <path d=\"M 49.633125 92.702358 \nL 69.163125 105.0826 \nL 88.693125 114.682391 \nL 108.223125 122.498723 \nL 127.753125 123.40787 \nL 147.283125 120.510514 \nL 166.813125 126.756567 \nL 186.343125 128.44725 \nL 205.873125 126.471051 \nL 225.403125 130.277673 \n\" clip-path=\"url(#p5f8eafafb3)\" style=\"fill: none; stroke-dasharray: 5.55,2.4; stroke-dashoffset: 0; stroke: #ff7f0e; stroke-width: 1.5\"/>\n   </g>\n   <g id=\"line2d_123\">\n    <path d=\"M 49.633125 66.879925 \nL 69.163125 61.244534 \nL 88.693125 57.674286 \nL 108.223125 54.629074 \nL 127.753125 55.119108 \nL 147.283125 56.344193 \nL 166.813125 54.646575 \nL 186.343125 53.228977 \nL 205.873125 53.754013 \n\" clip-path=\"url(#p5f8eafafb3)\" style=\"fill: none; stroke-dasharray: 9.6,2.4,1.5,2.4; stroke-dashoffset: 0; stroke: #2ca02c; stroke-width: 1.5\"/>\n   </g>\n   <g id=\"line2d_124\">\n    <path d=\"M 34.923295 13.5 \nL 44.646742 86.636699 \nL 54.370189 101.792829 \nL 64.093636 108.853757 \nL 73.817082 116.519485 \nL 83.540529 116.272193 \nL 93.263976 120.185474 \nL 102.987423 125.689845 \nL 112.71087 126.448238 \nL 122.434316 128.537793 \nL 132.157763 129.590757 \nL 141.88121 131.080081 \nL 151.604657 131.265051 \nL 161.328104 134.245237 \nL 171.051551 135.427899 \nL 180.774997 135.075268 \nL 190.498444 135.962575 \nL 200.221891 138.141696 \nL 209.945338 137.364804 \nL 219.668785 139.5 \n\" clip-path=\"url(#p5f8eafafb3)\" style=\"fill: none; stroke: #1f77b4; stroke-width: 1.5; stroke-linecap: square\"/>\n   </g>\n   <g id=\"line2d_125\">\n    <path d=\"M 49.633125 92.702358 \nL 69.163125 105.0826 \nL 88.693125 114.682391 \nL 108.223125 122.498723 \nL 127.753125 123.40787 \nL 147.283125 120.510514 \nL 166.813125 126.756567 \nL 186.343125 128.44725 \nL 205.873125 126.471051 \nL 225.403125 130.277673 \n\" clip-path=\"url(#p5f8eafafb3)\" style=\"fill: none; stroke-dasharray: 5.55,2.4; stroke-dashoffset: 0; stroke: #ff7f0e; stroke-width: 1.5\"/>\n   </g>\n   <g id=\"line2d_126\">\n    <path d=\"M 49.633125 66.879925 \nL 69.163125 61.244534 \nL 88.693125 57.674286 \nL 108.223125 54.629074 \nL 127.753125 55.119108 \nL 147.283125 56.344193 \nL 166.813125 54.646575 \nL 186.343125 53.228977 \nL 205.873125 53.754013 \nL 225.403125 52.913955 \n\" clip-path=\"url(#p5f8eafafb3)\" style=\"fill: none; stroke-dasharray: 9.6,2.4,1.5,2.4; stroke-dashoffset: 0; stroke: #2ca02c; stroke-width: 1.5\"/>\n   </g>\n   <g id=\"patch_3\">\n    <path d=\"M 30.103125 145.8 \nL 30.103125 7.2 \n\" style=\"fill: none; stroke: #000000; stroke-width: 0.8; stroke-linejoin: miter; stroke-linecap: square\"/>\n   </g>\n   <g id=\"patch_4\">\n    <path d=\"M 225.403125 145.8 \nL 225.403125 7.2 \n\" style=\"fill: none; stroke: #000000; stroke-width: 0.8; stroke-linejoin: miter; stroke-linecap: square\"/>\n   </g>\n   <g id=\"patch_5\">\n    <path d=\"M 30.103125 145.8 \nL 225.403125 145.8 \n\" style=\"fill: none; stroke: #000000; stroke-width: 0.8; stroke-linejoin: miter; stroke-linecap: square\"/>\n   </g>\n   <g id=\"patch_6\">\n    <path d=\"M 30.103125 7.2 \nL 225.403125 7.2 \n\" style=\"fill: none; stroke: #000000; stroke-width: 0.8; stroke-linejoin: miter; stroke-linecap: square\"/>\n   </g>\n   <g id=\"legend_1\">\n    <g id=\"patch_7\">\n     <path d=\"M 138.8125 60.06875 \nL 218.403125 60.06875 \nQ 220.403125 60.06875 220.403125 58.06875 \nL 220.403125 14.2 \nQ 220.403125 12.2 218.403125 12.2 \nL 138.8125 12.2 \nQ 136.8125 12.2 136.8125 14.2 \nL 136.8125 58.06875 \nQ 136.8125 60.06875 138.8125 60.06875 \nz\n\" style=\"fill: #ffffff; opacity: 0.8; stroke: #cccccc; stroke-linejoin: miter\"/>\n    </g>\n    <g id=\"line2d_127\">\n     <path d=\"M 140.8125 20.298438 \nL 150.8125 20.298438 \nL 160.8125 20.298438 \n\" style=\"fill: none; stroke: #1f77b4; stroke-width: 1.5; stroke-linecap: square\"/>\n    </g>\n    <g id=\"text_12\">\n     <!-- train_loss -->\n     <g transform=\"translate(168.8125 23.798438) scale(0.1 -0.1)\">\n      <defs>\n       <path id=\"DejaVuSans-74\" d=\"M 1172 4494 \nL 1172 3500 \nL 2356 3500 \nL 2356 3053 \nL 1172 3053 \nL 1172 1153 \nQ 1172 725 1289 603 \nQ 1406 481 1766 481 \nL 2356 481 \nL 2356 0 \nL 1766 0 \nQ 1100 0 847 248 \nQ 594 497 594 1153 \nL 594 3053 \nL 172 3053 \nL 172 3500 \nL 594 3500 \nL 594 4494 \nL 1172 4494 \nz\n\" transform=\"scale(0.015625)\"/>\n       <path id=\"DejaVuSans-72\" d=\"M 2631 2963 \nQ 2534 3019 2420 3045 \nQ 2306 3072 2169 3072 \nQ 1681 3072 1420 2755 \nQ 1159 2438 1159 1844 \nL 1159 0 \nL 581 0 \nL 581 3500 \nL 1159 3500 \nL 1159 2956 \nQ 1341 3275 1631 3429 \nQ 1922 3584 2338 3584 \nQ 2397 3584 2469 3576 \nQ 2541 3569 2628 3553 \nL 2631 2963 \nz\n\" transform=\"scale(0.015625)\"/>\n       <path id=\"DejaVuSans-61\" d=\"M 2194 1759 \nQ 1497 1759 1228 1600 \nQ 959 1441 959 1056 \nQ 959 750 1161 570 \nQ 1363 391 1709 391 \nQ 2188 391 2477 730 \nQ 2766 1069 2766 1631 \nL 2766 1759 \nL 2194 1759 \nz\nM 3341 1997 \nL 3341 0 \nL 2766 0 \nL 2766 531 \nQ 2569 213 2275 61 \nQ 1981 -91 1556 -91 \nQ 1019 -91 701 211 \nQ 384 513 384 1019 \nQ 384 1609 779 1909 \nQ 1175 2209 1959 2209 \nL 2766 2209 \nL 2766 2266 \nQ 2766 2663 2505 2880 \nQ 2244 3097 1772 3097 \nQ 1472 3097 1187 3025 \nQ 903 2953 641 2809 \nL 641 3341 \nQ 956 3463 1253 3523 \nQ 1550 3584 1831 3584 \nQ 2591 3584 2966 3190 \nQ 3341 2797 3341 1997 \nz\n\" transform=\"scale(0.015625)\"/>\n       <path id=\"DejaVuSans-69\" d=\"M 603 3500 \nL 1178 3500 \nL 1178 0 \nL 603 0 \nL 603 3500 \nz\nM 603 4863 \nL 1178 4863 \nL 1178 4134 \nL 603 4134 \nL 603 4863 \nz\n\" transform=\"scale(0.015625)\"/>\n       <path id=\"DejaVuSans-6e\" d=\"M 3513 2113 \nL 3513 0 \nL 2938 0 \nL 2938 2094 \nQ 2938 2591 2744 2837 \nQ 2550 3084 2163 3084 \nQ 1697 3084 1428 2787 \nQ 1159 2491 1159 1978 \nL 1159 0 \nL 581 0 \nL 581 3500 \nL 1159 3500 \nL 1159 2956 \nQ 1366 3272 1645 3428 \nQ 1925 3584 2291 3584 \nQ 2894 3584 3203 3211 \nQ 3513 2838 3513 2113 \nz\n\" transform=\"scale(0.015625)\"/>\n       <path id=\"DejaVuSans-5f\" d=\"M 3263 -1063 \nL 3263 -1509 \nL -63 -1509 \nL -63 -1063 \nL 3263 -1063 \nz\n\" transform=\"scale(0.015625)\"/>\n       <path id=\"DejaVuSans-6c\" d=\"M 603 4863 \nL 1178 4863 \nL 1178 0 \nL 603 0 \nL 603 4863 \nz\n\" transform=\"scale(0.015625)\"/>\n       <path id=\"DejaVuSans-73\" d=\"M 2834 3397 \nL 2834 2853 \nQ 2591 2978 2328 3040 \nQ 2066 3103 1784 3103 \nQ 1356 3103 1142 2972 \nQ 928 2841 928 2578 \nQ 928 2378 1081 2264 \nQ 1234 2150 1697 2047 \nL 1894 2003 \nQ 2506 1872 2764 1633 \nQ 3022 1394 3022 966 \nQ 3022 478 2636 193 \nQ 2250 -91 1575 -91 \nQ 1294 -91 989 -36 \nQ 684 19 347 128 \nL 347 722 \nQ 666 556 975 473 \nQ 1284 391 1588 391 \nQ 1994 391 2212 530 \nQ 2431 669 2431 922 \nQ 2431 1156 2273 1281 \nQ 2116 1406 1581 1522 \nL 1381 1569 \nQ 847 1681 609 1914 \nQ 372 2147 372 2553 \nQ 372 3047 722 3315 \nQ 1072 3584 1716 3584 \nQ 2034 3584 2315 3537 \nQ 2597 3491 2834 3397 \nz\n\" transform=\"scale(0.015625)\"/>\n      </defs>\n      <use xlink:href=\"#DejaVuSans-74\"/>\n      <use xlink:href=\"#DejaVuSans-72\" x=\"39.208984\"/>\n      <use xlink:href=\"#DejaVuSans-61\" x=\"80.322266\"/>\n      <use xlink:href=\"#DejaVuSans-69\" x=\"141.601562\"/>\n      <use xlink:href=\"#DejaVuSans-6e\" x=\"169.384766\"/>\n      <use xlink:href=\"#DejaVuSans-5f\" x=\"232.763672\"/>\n      <use xlink:href=\"#DejaVuSans-6c\" x=\"282.763672\"/>\n      <use xlink:href=\"#DejaVuSans-6f\" x=\"310.546875\"/>\n      <use xlink:href=\"#DejaVuSans-73\" x=\"371.728516\"/>\n      <use xlink:href=\"#DejaVuSans-73\" x=\"423.828125\"/>\n     </g>\n    </g>\n    <g id=\"line2d_128\">\n     <path d=\"M 140.8125 35.254688 \nL 150.8125 35.254688 \nL 160.8125 35.254688 \n\" style=\"fill: none; stroke-dasharray: 5.55,2.4; stroke-dashoffset: 0; stroke: #ff7f0e; stroke-width: 1.5\"/>\n    </g>\n    <g id=\"text_13\">\n     <!-- val_loss -->\n     <g transform=\"translate(168.8125 38.754688) scale(0.1 -0.1)\">\n      <defs>\n       <path id=\"DejaVuSans-76\" d=\"M 191 3500 \nL 800 3500 \nL 1894 563 \nL 2988 3500 \nL 3597 3500 \nL 2284 0 \nL 1503 0 \nL 191 3500 \nz\n\" transform=\"scale(0.015625)\"/>\n      </defs>\n      <use xlink:href=\"#DejaVuSans-76\"/>\n      <use xlink:href=\"#DejaVuSans-61\" x=\"59.179688\"/>\n      <use xlink:href=\"#DejaVuSans-6c\" x=\"120.458984\"/>\n      <use xlink:href=\"#DejaVuSans-5f\" x=\"148.242188\"/>\n      <use xlink:href=\"#DejaVuSans-6c\" x=\"198.242188\"/>\n      <use xlink:href=\"#DejaVuSans-6f\" x=\"226.025391\"/>\n      <use xlink:href=\"#DejaVuSans-73\" x=\"287.207031\"/>\n      <use xlink:href=\"#DejaVuSans-73\" x=\"339.306641\"/>\n     </g>\n    </g>\n    <g id=\"line2d_129\">\n     <path d=\"M 140.8125 50.210938 \nL 150.8125 50.210938 \nL 160.8125 50.210938 \n\" style=\"fill: none; stroke-dasharray: 9.6,2.4,1.5,2.4; stroke-dashoffset: 0; stroke: #2ca02c; stroke-width: 1.5\"/>\n    </g>\n    <g id=\"text_14\">\n     <!-- val_acc -->\n     <g transform=\"translate(168.8125 53.710938) scale(0.1 -0.1)\">\n      <use xlink:href=\"#DejaVuSans-76\"/>\n      <use xlink:href=\"#DejaVuSans-61\" x=\"59.179688\"/>\n      <use xlink:href=\"#DejaVuSans-6c\" x=\"120.458984\"/>\n      <use xlink:href=\"#DejaVuSans-5f\" x=\"148.242188\"/>\n      <use xlink:href=\"#DejaVuSans-61\" x=\"198.242188\"/>\n      <use xlink:href=\"#DejaVuSans-63\" x=\"259.521484\"/>\n      <use xlink:href=\"#DejaVuSans-63\" x=\"314.501953\"/>\n     </g>\n    </g>\n   </g>\n  </g>\n </g>\n <defs>\n  <clipPath id=\"p5f8eafafb3\">\n   <rect x=\"30.103125\" y=\"7.2\" width=\"195.3\" height=\"138.6\"/>\n  </clipPath>\n </defs>\n</svg>\n"
          },
          "metadata": {}
        }
      ],
      "source": [
        "model = MLP(num_outputs=10, num_hiddens=256, lr=0.1)\n",
        "trainer.fit(model, data)"
      ]
    },
    {
      "cell_type": "markdown",
      "id": "8b353853",
      "metadata": {
        "id": "8b353853",
        "origin_pos": 31
      },
      "source": [
        "## Summary\n",
        "\n",
        "Now that we have more practice in designing deep networks, the step from a single to multiple layers of deep networks does not pose such a significant challenge any longer. In particular, we can reuse the training algorithm and data loader. Note, though, that implementing MLPs from scratch is nonetheless messy: naming and keeping track of the model parameters makes it difficult to extend models. For instance, imagine wanting to insert another layer between layers 42 and 43. This might now be layer 42b, unless we are willing to perform sequential renaming. Moreover, if we implement the network from scratch, it is much more difficult for the framework to perform meaningful performance optimizations.\n",
        "\n",
        "Nonetheless, you have now reached the state of the art of the late 1980s when fully connected deep networks were the method of choice for neural network modeling. Our next conceptual step will be to consider images. Before we do so, we need to review a number of statistical basics and details on how to compute models efficiently.\n",
        "\n",
        "\n",
        "## Exercises\n",
        "\n",
        "1. Change the number of hidden units `num_hiddens` and plot how its number affects the accuracy of the model. What is the best value of this hyperparameter?\n",
        "1. Try adding a hidden layer to see how it affects the results.\n",
        "1. Why is it a bad idea to insert a hidden layer with a single neuron? What could go wrong?\n",
        "1. How does changing the learning rate alter your results? With all other parameters fixed, which learning rate gives you the best results? How does this relate to the number of epochs?\n",
        "1. Let's optimize over all hyperparameters jointly, i.e., learning rate, number of epochs, number of hidden layers, and number of hidden units per layer.\n",
        "    1. What is the best result you can get by optimizing over all of them?\n",
        "    1. Why it is much more challenging to deal with multiple hyperparameters?\n",
        "    1. Describe an efficient strategy for optimizing over multiple parameters jointly.\n",
        "1. Compare the speed of the framework and the from-scratch implementation for a challenging problem. How does it change with the complexity of the network?\n",
        "1. Measure the speed of tensor--matrix multiplications for well-aligned and misaligned matrices. For instance, test for matrices with dimension 1024, 1025, 1026, 1028, and 1032.\n",
        "    1. How does this change between GPUs and CPUs?\n",
        "    1. Determine the memory bus width of your CPU and GPU.\n",
        "1. Try out different activation functions. Which one works best?\n",
        "1. Is there a difference between weight initializations of the network? Does it matter?\n"
      ]
    },
    {
      "cell_type": "markdown",
      "id": "60c1e284",
      "metadata": {
        "id": "60c1e284",
        "origin_pos": 33,
        "tab": [
          "pytorch"
        ]
      },
      "source": [
        "[Discussions](https://discuss.d2l.ai/t/93)\n"
      ]
    },
    {
      "cell_type": "markdown",
      "id": "40d6b8e7",
      "metadata": {
        "id": "40d6b8e7",
        "origin_pos": 0
      },
      "source": [
        "# Forward Propagation, Backward Propagation, and Computational Graphs\n",
        ":label:`sec_backprop`\n",
        "\n",
        "So far, we have trained our models\n",
        "with minibatch stochastic gradient descent.\n",
        "However, when we implemented the algorithm,\n",
        "we only worried about the calculations involved\n",
        "in *forward propagation* through the model.\n",
        "When it came time to calculate the gradients,\n",
        "we just invoked the backpropagation function provided by the deep learning framework.\n",
        "\n",
        "The automatic calculation of gradients\n",
        "profoundly simplifies\n",
        "the implementation of deep learning algorithms.\n",
        "Before automatic differentiation,\n",
        "even small changes to complicated models required\n",
        "recalculating complicated derivatives by hand.\n",
        "Surprisingly often, academic papers had to allocate\n",
        "numerous pages to deriving update rules.\n",
        "While we must continue to rely on automatic differentiation\n",
        "so we can focus on the interesting parts,\n",
        "you ought to know how these gradients\n",
        "are calculated under the hood\n",
        "if you want to go beyond a shallow\n",
        "understanding of deep learning.\n",
        "\n",
        "In this section, we take a deep dive\n",
        "into the details of *backward propagation*\n",
        "(more commonly called *backpropagation*).\n",
        "To convey some insight for both the\n",
        "techniques and their implementations,\n",
        "we rely on some basic mathematics and computational graphs.\n",
        "To start, we focus our exposition on\n",
        "a one-hidden-layer MLP\n",
        "with weight decay ($\\ell_2$ regularization, to be described in subsequent chapters).\n",
        "\n",
        "## Forward Propagation\n",
        "\n",
        "*Forward propagation* (or *forward pass*) refers to the calculation and storage\n",
        "of intermediate variables (including outputs)\n",
        "for a neural network in order\n",
        "from the input layer to the output layer.\n",
        "We now work step-by-step through the mechanics\n",
        "of a neural network with one hidden layer.\n",
        "This may seem tedious but in the eternal words\n",
        "of funk virtuoso James Brown,\n",
        "you must \"pay the cost to be the boss\".\n",
        "\n",
        "\n",
        "For the sake of simplicity, let's assume\n",
        "that the input example is $\\mathbf{x}\\in \\mathbb{R}^d$\n",
        "and that our hidden layer does not include a bias term.\n",
        "Here the intermediate variable is:\n",
        "\n",
        "$$\\mathbf{z}= \\mathbf{W}^{(1)} \\mathbf{x},$$\n",
        "\n",
        "where $\\mathbf{W}^{(1)} \\in \\mathbb{R}^{h \\times d}$\n",
        "is the weight parameter of the hidden layer.\n",
        "After running the intermediate variable\n",
        "$\\mathbf{z}\\in \\mathbb{R}^h$ through the\n",
        "activation function $\\phi$\n",
        "we obtain our hidden activation vector of length $h$:\n",
        "\n",
        "$$\\mathbf{h}= \\phi (\\mathbf{z}).$$\n",
        "\n",
        "The hidden layer output $\\mathbf{h}$\n",
        "is also an intermediate variable.\n",
        "Assuming that the parameters of the output layer\n",
        "possess only a weight of\n",
        "$\\mathbf{W}^{(2)} \\in \\mathbb{R}^{q \\times h}$,\n",
        "we can obtain an output layer variable\n",
        "with a vector of length $q$:\n",
        "\n",
        "$$\\mathbf{o}= \\mathbf{W}^{(2)} \\mathbf{h}.$$\n",
        "\n",
        "Assuming that the loss function is $l$\n",
        "and the example label is $y$,\n",
        "we can then calculate the loss term\n",
        "for a single data example,\n",
        "\n",
        "$$L = l(\\mathbf{o}, y).$$\n",
        "\n",
        "As we will see the definition of $\\ell_2$ regularization\n",
        "to be introduced later,\n",
        "given the hyperparameter $\\lambda$,\n",
        "the regularization term is\n",
        "\n",
        "$$s = \\frac{\\lambda}{2} \\left(\\|\\mathbf{W}^{(1)}\\|_\\textrm{F}^2 + \\|\\mathbf{W}^{(2)}\\|_\\textrm{F}^2\\right),$$\n",
        ":eqlabel:`eq_forward-s`\n",
        "\n",
        "where the Frobenius norm of the matrix\n",
        "is simply the $\\ell_2$ norm applied\n",
        "after flattening the matrix into a vector.\n",
        "Finally, the model's regularized loss\n",
        "on a given data example is:\n",
        "\n",
        "$$J = L + s.$$\n",
        "\n",
        "We refer to $J$ as the *objective function*\n",
        "in the following discussion.\n",
        "\n",
        "\n",
        "## Computational Graph of Forward Propagation\n",
        "\n",
        "Plotting *computational graphs* helps us visualize\n",
        "the dependencies of operators\n",
        "and variables within the calculation.\n",
        ":numref:`fig_forward` contains the graph associated\n",
        "with the simple network described above,\n",
        "where squares denote variables and circles denote operators.\n",
        "The lower-left corner signifies the input\n",
        "and the upper-right corner is the output.\n",
        "Notice that the directions of the arrows\n",
        "(which illustrate data flow)\n",
        "are primarily rightward and upward.\n",
        "\n",
        "![Computational graph of forward propagation.](http://d2l.ai/_images/forward.svg)\n",
        ":label:`fig_forward`\n",
        "\n",
        "## Backpropagation\n",
        "\n",
        "*Backpropagation* refers to the method of calculating\n",
        "the gradient of neural network parameters.\n",
        "In short, the method traverses the network in reverse order,\n",
        "from the output to the input layer,\n",
        "according to the *chain rule* from calculus.\n",
        "The algorithm stores any intermediate variables\n",
        "(partial derivatives)\n",
        "required while calculating the gradient\n",
        "with respect to some parameters.\n",
        "Assume that we have functions\n",
        "$\\mathsf{Y}=f(\\mathsf{X})$\n",
        "and $\\mathsf{Z}=g(\\mathsf{Y})$,\n",
        "in which the input and the output\n",
        "$\\mathsf{X}, \\mathsf{Y}, \\mathsf{Z}$\n",
        "are tensors of arbitrary shapes.\n",
        "By using the chain rule,\n",
        "we can compute the derivative\n",
        "of $\\mathsf{Z}$ with respect to $\\mathsf{X}$ via\n",
        "\n",
        "$$\\frac{\\partial \\mathsf{Z}}{\\partial \\mathsf{X}} = \\textrm{prod}\\left(\\frac{\\partial \\mathsf{Z}}{\\partial \\mathsf{Y}}, \\frac{\\partial \\mathsf{Y}}{\\partial \\mathsf{X}}\\right).$$\n",
        "\n",
        "Here we use the $\\textrm{prod}$ operator\n",
        "to multiply its arguments\n",
        "after the necessary operations,\n",
        "such as transposition and swapping input positions,\n",
        "have been carried out.\n",
        "For vectors, this is straightforward:\n",
        "it is simply matrix--matrix multiplication.\n",
        "For higher dimensional tensors,\n",
        "we use the appropriate counterpart.\n",
        "The operator $\\textrm{prod}$ hides all the notational overhead.\n",
        "\n",
        "Recall that\n",
        "the parameters of the simple network with one hidden layer,\n",
        "whose computational graph is in :numref:`fig_forward`,\n",
        "are $\\mathbf{W}^{(1)}$ and $\\mathbf{W}^{(2)}$.\n",
        "The objective of backpropagation is to\n",
        "calculate the gradients $\\partial J/\\partial \\mathbf{W}^{(1)}$\n",
        "and $\\partial J/\\partial \\mathbf{W}^{(2)}$.\n",
        "To accomplish this, we apply the chain rule\n",
        "and calculate, in turn, the gradient of\n",
        "each intermediate variable and parameter.\n",
        "The order of calculations are reversed\n",
        "relative to those performed in forward propagation,\n",
        "since we need to start with the outcome of the computational graph\n",
        "and work our way towards the parameters.\n",
        "The first step is to calculate the gradients\n",
        "of the objective function $J=L+s$\n",
        "with respect to the loss term $L$\n",
        "and the regularization term $s$:\n",
        "\n",
        "$$\\frac{\\partial J}{\\partial L} = 1 \\; \\textrm{and} \\; \\frac{\\partial J}{\\partial s} = 1.$$\n",
        "\n",
        "Next, we compute the gradient of the objective function\n",
        "with respect to variable of the output layer $\\mathbf{o}$\n",
        "according to the chain rule:\n",
        "\n",
        "$$\n",
        "\\frac{\\partial J}{\\partial \\mathbf{o}}\n",
        "= \\textrm{prod}\\left(\\frac{\\partial J}{\\partial L}, \\frac{\\partial L}{\\partial \\mathbf{o}}\\right)\n",
        "= \\frac{\\partial L}{\\partial \\mathbf{o}}\n",
        "\\in \\mathbb{R}^q.\n",
        "$$\n",
        "\n",
        "Next, we calculate the gradients\n",
        "of the regularization term\n",
        "with respect to both parameters:\n",
        "\n",
        "$$\\frac{\\partial s}{\\partial \\mathbf{W}^{(1)}} = \\lambda \\mathbf{W}^{(1)}\n",
        "\\; \\textrm{and} \\;\n",
        "\\frac{\\partial s}{\\partial \\mathbf{W}^{(2)}} = \\lambda \\mathbf{W}^{(2)}.$$\n",
        "\n",
        "Now we are able to calculate the gradient\n",
        "$\\partial J/\\partial \\mathbf{W}^{(2)} \\in \\mathbb{R}^{q \\times h}$\n",
        "of the model parameters closest to the output layer.\n",
        "Using the chain rule yields:\n",
        "\n",
        "$$\\frac{\\partial J}{\\partial \\mathbf{W}^{(2)}}= \\textrm{prod}\\left(\\frac{\\partial J}{\\partial \\mathbf{o}}, \\frac{\\partial \\mathbf{o}}{\\partial \\mathbf{W}^{(2)}}\\right) + \\textrm{prod}\\left(\\frac{\\partial J}{\\partial s}, \\frac{\\partial s}{\\partial \\mathbf{W}^{(2)}}\\right)= \\frac{\\partial J}{\\partial \\mathbf{o}} \\mathbf{h}^\\top + \\lambda \\mathbf{W}^{(2)}.$$\n",
        ":eqlabel:`eq_backprop-J-h`\n",
        "\n",
        "To obtain the gradient with respect to $\\mathbf{W}^{(1)}$\n",
        "we need to continue backpropagation\n",
        "along the output layer to the hidden layer.\n",
        "The gradient with respect to the hidden layer output\n",
        "$\\partial J/\\partial \\mathbf{h} \\in \\mathbb{R}^h$ is given by\n",
        "\n",
        "\n",
        "$$\n",
        "\\frac{\\partial J}{\\partial \\mathbf{h}}\n",
        "= \\textrm{prod}\\left(\\frac{\\partial J}{\\partial \\mathbf{o}}, \\frac{\\partial \\mathbf{o}}{\\partial \\mathbf{h}}\\right)\n",
        "= {\\mathbf{W}^{(2)}}^\\top \\frac{\\partial J}{\\partial \\mathbf{o}}.\n",
        "$$\n",
        "\n",
        "Since the activation function $\\phi$ applies elementwise,\n",
        "calculating the gradient $\\partial J/\\partial \\mathbf{z} \\in \\mathbb{R}^h$\n",
        "of the intermediate variable $\\mathbf{z}$\n",
        "requires that we use the elementwise multiplication operator,\n",
        "which we denote by $\\odot$:\n",
        "\n",
        "$$\n",
        "\\frac{\\partial J}{\\partial \\mathbf{z}}\n",
        "= \\textrm{prod}\\left(\\frac{\\partial J}{\\partial \\mathbf{h}}, \\frac{\\partial \\mathbf{h}}{\\partial \\mathbf{z}}\\right)\n",
        "= \\frac{\\partial J}{\\partial \\mathbf{h}} \\odot \\phi'\\left(\\mathbf{z}\\right).\n",
        "$$\n",
        "\n",
        "Finally, we can obtain the gradient\n",
        "$\\partial J/\\partial \\mathbf{W}^{(1)} \\in \\mathbb{R}^{h \\times d}$\n",
        "of the model parameters closest to the input layer.\n",
        "According to the chain rule, we get\n",
        "\n",
        "$$\n",
        "\\frac{\\partial J}{\\partial \\mathbf{W}^{(1)}}\n",
        "= \\textrm{prod}\\left(\\frac{\\partial J}{\\partial \\mathbf{z}}, \\frac{\\partial \\mathbf{z}}{\\partial \\mathbf{W}^{(1)}}\\right) + \\textrm{prod}\\left(\\frac{\\partial J}{\\partial s}, \\frac{\\partial s}{\\partial \\mathbf{W}^{(1)}}\\right)\n",
        "= \\frac{\\partial J}{\\partial \\mathbf{z}} \\mathbf{x}^\\top + \\lambda \\mathbf{W}^{(1)}.\n",
        "$$\n",
        "\n",
        "\n",
        "\n",
        "## Training Neural Networks\n",
        "\n",
        "When training neural networks,\n",
        "forward and backward propagation depend on each other.\n",
        "In particular, for forward propagation,\n",
        "we traverse the computational graph in the direction of dependencies\n",
        "and compute all the variables on its path.\n",
        "These are then used for backpropagation\n",
        "where the compute order on the graph is reversed.\n",
        "\n",
        "Take the aforementioned simple network as an illustrative example.\n",
        "On the one hand,\n",
        "computing the regularization term :eqref:`eq_forward-s`\n",
        "during forward propagation\n",
        "depends on the current values of model parameters $\\mathbf{W}^{(1)}$ and $\\mathbf{W}^{(2)}$.\n",
        "They are given by the optimization algorithm according to backpropagation in the most recent iteration.\n",
        "On the other hand,\n",
        "the gradient calculation for the parameter\n",
        ":eqref:`eq_backprop-J-h` during backpropagation\n",
        "depends on the current value of the hidden layer output $\\mathbf{h}$,\n",
        "which is given by forward propagation.\n",
        "\n",
        "\n",
        "Therefore when training neural networks, once model parameters are initialized,\n",
        "we alternate forward propagation with backpropagation,\n",
        "updating model parameters using gradients given by backpropagation.\n",
        "Note that backpropagation reuses the stored intermediate values from forward propagation to avoid duplicate calculations.\n",
        "One of the consequences is that we need to retain\n",
        "the intermediate values until backpropagation is complete.\n",
        "This is also one of the reasons why training\n",
        "requires significantly more memory than plain prediction.\n",
        "Besides, the size of such intermediate values is roughly\n",
        "proportional to the number of network layers and the batch size.\n",
        "Thus,\n",
        "training deeper networks using larger batch sizes\n",
        "more easily leads to *out-of-memory* errors.\n",
        "\n",
        "\n",
        "## Summary\n",
        "\n",
        "Forward propagation sequentially calculates and stores intermediate variables within the computational graph defined by the neural network. It proceeds from the input to the output layer.\n",
        "Backpropagation sequentially calculates and stores the gradients of intermediate variables and parameters within the neural network in the reversed order.\n",
        "When training deep learning models, forward propagation and backpropagation are interdependent,\n",
        "and training requires significantly more memory than prediction.\n",
        "\n",
        "\n",
        "## Exercises\n",
        "\n",
        "1. Assume that the inputs $\\mathbf{X}$ to some scalar function $f$ are $n \\times m$ matrices. What is the dimensionality of the gradient of $f$ with respect to $\\mathbf{X}$?\n",
        "1. Add a bias to the hidden layer of the model described in this section (you do not need to include bias in the regularization term).\n",
        "    1. Draw the corresponding computational graph.\n",
        "    1. Derive the forward and backward propagation equations.\n",
        "1. Compute the memory footprint for training and prediction in the model described in this section.\n",
        "1. Assume that you want to compute second derivatives. What happens to the computational graph? How long do you expect the calculation to take?\n",
        "1. Assume that the computational graph is too large for your GPU.\n",
        "    1. Can you partition it over more than one GPU?\n",
        "    1. What are the advantages and disadvantages over training on a smaller minibatch?\n",
        "\n",
        "[Discussions](https://discuss.d2l.ai/t/102)\n"
      ]
    },
    {
      "cell_type": "markdown",
      "id": "1463d976",
      "metadata": {
        "id": "1463d976"
      },
      "source": [
        "The following additional libraries are needed to run this\n",
        "notebook. Note that running on Colab is experimental, please report a Github\n",
        "issue if you have any problem."
      ]
    },
    {
      "cell_type": "markdown",
      "id": "625d329c",
      "metadata": {
        "id": "625d329c",
        "origin_pos": 1
      },
      "source": [
        "# Numerical Stability and Initialization\n",
        ":label:`sec_numerical_stability`\n",
        "\n",
        "\n",
        "Thus far, every model that we have implemented\n",
        "required that we initialize its parameters\n",
        "according to some pre-specified distribution.\n",
        "Until now, we took the initialization scheme for granted,\n",
        "glossing over the details of how these choices are made.\n",
        "You might have even gotten the impression that these choices\n",
        "are not especially important.\n",
        "On the contrary, the choice of initialization scheme\n",
        "plays a significant role in neural network learning,\n",
        "and it can be crucial for maintaining numerical stability.\n",
        "Moreover, these choices can be tied up in interesting ways\n",
        "with the choice of the nonlinear activation function.\n",
        "Which function we choose and how we initialize parameters\n",
        "can determine how quickly our optimization algorithm converges.\n",
        "Poor choices here can cause us to encounter\n",
        "exploding or vanishing gradients while training.\n",
        "In this section, we delve into these topics in greater detail\n",
        "and discuss some useful heuristics\n",
        "that you will find useful\n",
        "throughout your career in deep learning.\n"
      ]
    },
    {
      "cell_type": "code",
      "execution_count": null,
      "id": "b508135e",
      "metadata": {
        "execution": {
          "iopub.execute_input": "2023-08-18T19:43:19.444553Z",
          "iopub.status.busy": "2023-08-18T19:43:19.443902Z",
          "iopub.status.idle": "2023-08-18T19:43:22.266893Z",
          "shell.execute_reply": "2023-08-18T19:43:22.265631Z"
        },
        "id": "b508135e",
        "origin_pos": 3,
        "tab": [
          "pytorch"
        ]
      },
      "outputs": [],
      "source": [
        "%matplotlib inline\n",
        "import torch\n",
        "from d2l import torch as d2l"
      ]
    },
    {
      "cell_type": "markdown",
      "id": "262d79ee",
      "metadata": {
        "id": "262d79ee",
        "origin_pos": 6
      },
      "source": [
        "## Vanishing and Exploding Gradients\n",
        "\n",
        "Consider a deep network with $L$ layers,\n",
        "input $\\mathbf{x}$ and output $\\mathbf{o}$.\n",
        "With each layer $l$ defined by a transformation $f_l$\n",
        "parametrized by weights $\\mathbf{W}^{(l)}$,\n",
        "whose hidden layer output is $\\mathbf{h}^{(l)}$ (let $\\mathbf{h}^{(0)} = \\mathbf{x}$),\n",
        "our network can be expressed as:\n",
        "\n",
        "$$\\mathbf{h}^{(l)} = f_l (\\mathbf{h}^{(l-1)}) \\textrm{ and thus } \\mathbf{o} = f_L \\circ \\cdots \\circ f_1(\\mathbf{x}).$$\n",
        "\n",
        "If all the hidden layer output and the input are vectors,\n",
        "we can write the gradient of $\\mathbf{o}$ with respect to\n",
        "any set of parameters $\\mathbf{W}^{(l)}$ as follows:\n",
        "\n",
        "$$\\partial_{\\mathbf{W}^{(l)}} \\mathbf{o} = \\underbrace{\\partial_{\\mathbf{h}^{(L-1)}} \\mathbf{h}^{(L)}}_{ \\mathbf{M}^{(L)} \\stackrel{\\textrm{def}}{=}} \\cdots \\underbrace{\\partial_{\\mathbf{h}^{(l)}} \\mathbf{h}^{(l+1)}}_{ \\mathbf{M}^{(l+1)} \\stackrel{\\textrm{def}}{=}} \\underbrace{\\partial_{\\mathbf{W}^{(l)}} \\mathbf{h}^{(l)}}_{ \\mathbf{v}^{(l)} \\stackrel{\\textrm{def}}{=}}.$$\n",
        "\n",
        "In other words, this gradient is\n",
        "the product of $L-l$ matrices\n",
        "$\\mathbf{M}^{(L)} \\cdots \\mathbf{M}^{(l+1)}$\n",
        "and the gradient vector $\\mathbf{v}^{(l)}$.\n",
        "Thus we are susceptible to the same\n",
        "problems of numerical underflow that often crop up\n",
        "when multiplying together too many probabilities.\n",
        "When dealing with probabilities, a common trick is to\n",
        "switch into log-space, i.e., shifting\n",
        "pressure from the mantissa to the exponent\n",
        "of the numerical representation.\n",
        "Unfortunately, our problem above is more serious:\n",
        "initially the matrices $\\mathbf{M}^{(l)}$ may have a wide variety of eigenvalues.\n",
        "They might be small or large, and\n",
        "their product might be *very large* or *very small*.\n",
        "\n",
        "The risks posed by unstable gradients\n",
        "go beyond numerical representation.\n",
        "Gradients of unpredictable magnitude\n",
        "also threaten the stability of our optimization algorithms.\n",
        "We may be facing parameter updates that are either\n",
        "(i) excessively large, destroying our model\n",
        "(the *exploding gradient* problem);\n",
        "or (ii) excessively small\n",
        "(the *vanishing gradient* problem),\n",
        "rendering learning impossible as parameters\n",
        "hardly move on each update.\n",
        "\n",
        "\n",
        "### (**Vanishing Gradients**)\n",
        "\n",
        "One frequent culprit causing the vanishing gradient problem\n",
        "is the choice of the activation function $\\sigma$\n",
        "that is appended following each layer's linear operations.\n",
        "Historically, the sigmoid function\n",
        "$1/(1 + \\exp(-x))$ (introduced in :numref:`sec_mlp`)\n",
        "was popular because it resembles a thresholding function.\n",
        "Since early artificial neural networks were inspired\n",
        "by biological neural networks,\n",
        "the idea of neurons that fire either *fully* or *not at all*\n",
        "(like biological neurons) seemed appealing.\n",
        "Let's take a closer look at the sigmoid\n",
        "to see why it can cause vanishing gradients.\n"
      ]
    },
    {
      "cell_type": "code",
      "execution_count": null,
      "id": "80946a84",
      "metadata": {
        "execution": {
          "iopub.execute_input": "2023-08-18T19:43:22.272259Z",
          "iopub.status.busy": "2023-08-18T19:43:22.271870Z",
          "iopub.status.idle": "2023-08-18T19:43:22.638228Z",
          "shell.execute_reply": "2023-08-18T19:43:22.637370Z"
        },
        "id": "80946a84",
        "origin_pos": 8,
        "outputId": "3023831d-49ff-4720-8d5a-9e4e2184c6b8",
        "tab": [
          "pytorch"
        ],
        "colab": {
          "base_uri": "https://localhost:8080/",
          "height": 248
        }
      },
      "outputs": [
        {
          "output_type": "display_data",
          "data": {
            "text/plain": [
              "<Figure size 450x250 with 1 Axes>"
            ],
            "image/svg+xml": "<?xml version=\"1.0\" encoding=\"utf-8\" standalone=\"no\"?>\n<!DOCTYPE svg PUBLIC \"-//W3C//DTD SVG 1.1//EN\"\n  \"http://www.w3.org/Graphics/SVG/1.1/DTD/svg11.dtd\">\n<svg xmlns:xlink=\"http://www.w3.org/1999/xlink\" width=\"288.403125pt\" height=\"169.678125pt\" viewBox=\"0 0 288.403125 169.678125\" xmlns=\"http://www.w3.org/2000/svg\" version=\"1.1\">\n <metadata>\n  <rdf:RDF xmlns:dc=\"http://purl.org/dc/elements/1.1/\" xmlns:cc=\"http://creativecommons.org/ns#\" xmlns:rdf=\"http://www.w3.org/1999/02/22-rdf-syntax-ns#\">\n   <cc:Work>\n    <dc:type rdf:resource=\"http://purl.org/dc/dcmitype/StillImage\"/>\n    <dc:date>2024-09-13T08:37:18.222415</dc:date>\n    <dc:format>image/svg+xml</dc:format>\n    <dc:creator>\n     <cc:Agent>\n      <dc:title>Matplotlib v3.7.2, https://matplotlib.org/</dc:title>\n     </cc:Agent>\n    </dc:creator>\n   </cc:Work>\n  </rdf:RDF>\n </metadata>\n <defs>\n  <style type=\"text/css\">*{stroke-linejoin: round; stroke-linecap: butt}</style>\n </defs>\n <g id=\"figure_1\">\n  <g id=\"patch_1\">\n   <path d=\"M 0 169.678125 \nL 288.403125 169.678125 \nL 288.403125 0 \nL 0 0 \nz\n\" style=\"fill: #ffffff\"/>\n  </g>\n  <g id=\"axes_1\">\n   <g id=\"patch_2\">\n    <path d=\"M 30.103125 145.8 \nL 281.203125 145.8 \nL 281.203125 7.2 \nL 30.103125 7.2 \nz\n\" style=\"fill: #ffffff\"/>\n   </g>\n   <g id=\"matplotlib.axis_1\">\n    <g id=\"xtick_1\">\n     <g id=\"line2d_1\">\n      <path d=\"M 48.695149 145.8 \nL 48.695149 7.2 \n\" clip-path=\"url(#p5afb80fac7)\" style=\"fill: none; stroke: #b0b0b0; stroke-width: 0.8; stroke-linecap: square\"/>\n     </g>\n     <g id=\"line2d_2\">\n      <defs>\n       <path id=\"mc2033218d9\" d=\"M 0 0 \nL 0 3.5 \n\" style=\"stroke: #000000; stroke-width: 0.8\"/>\n      </defs>\n      <g>\n       <use xlink:href=\"#mc2033218d9\" x=\"48.695149\" y=\"145.8\" style=\"stroke: #000000; stroke-width: 0.8\"/>\n      </g>\n     </g>\n     <g id=\"text_1\">\n      <!-- −7.5 -->\n      <g transform=\"translate(36.553743 160.398438) scale(0.1 -0.1)\">\n       <defs>\n        <path id=\"DejaVuSans-2212\" d=\"M 678 2272 \nL 4684 2272 \nL 4684 1741 \nL 678 1741 \nL 678 2272 \nz\n\" transform=\"scale(0.015625)\"/>\n        <path id=\"DejaVuSans-37\" d=\"M 525 4666 \nL 3525 4666 \nL 3525 4397 \nL 1831 0 \nL 1172 0 \nL 2766 4134 \nL 525 4134 \nL 525 4666 \nz\n\" transform=\"scale(0.015625)\"/>\n        <path id=\"DejaVuSans-2e\" d=\"M 684 794 \nL 1344 794 \nL 1344 0 \nL 684 0 \nL 684 794 \nz\n\" transform=\"scale(0.015625)\"/>\n        <path id=\"DejaVuSans-35\" d=\"M 691 4666 \nL 3169 4666 \nL 3169 4134 \nL 1269 4134 \nL 1269 2991 \nQ 1406 3038 1543 3061 \nQ 1681 3084 1819 3084 \nQ 2600 3084 3056 2656 \nQ 3513 2228 3513 1497 \nQ 3513 744 3044 326 \nQ 2575 -91 1722 -91 \nQ 1428 -91 1123 -41 \nQ 819 9 494 109 \nL 494 744 \nQ 775 591 1075 516 \nQ 1375 441 1709 441 \nQ 2250 441 2565 725 \nQ 2881 1009 2881 1497 \nQ 2881 1984 2565 2268 \nQ 2250 2553 1709 2553 \nQ 1456 2553 1204 2497 \nQ 953 2441 691 2322 \nL 691 4666 \nz\n\" transform=\"scale(0.015625)\"/>\n       </defs>\n       <use xlink:href=\"#DejaVuSans-2212\"/>\n       <use xlink:href=\"#DejaVuSans-37\" x=\"83.789062\"/>\n       <use xlink:href=\"#DejaVuSans-2e\" x=\"147.412109\"/>\n       <use xlink:href=\"#DejaVuSans-35\" x=\"179.199219\"/>\n      </g>\n     </g>\n    </g>\n    <g id=\"xtick_2\">\n     <g id=\"line2d_3\">\n      <path d=\"M 84.587088 145.8 \nL 84.587088 7.2 \n\" clip-path=\"url(#p5afb80fac7)\" style=\"fill: none; stroke: #b0b0b0; stroke-width: 0.8; stroke-linecap: square\"/>\n     </g>\n     <g id=\"line2d_4\">\n      <g>\n       <use xlink:href=\"#mc2033218d9\" x=\"84.587088\" y=\"145.8\" style=\"stroke: #000000; stroke-width: 0.8\"/>\n      </g>\n     </g>\n     <g id=\"text_2\">\n      <!-- −5.0 -->\n      <g transform=\"translate(72.445682 160.398438) scale(0.1 -0.1)\">\n       <defs>\n        <path id=\"DejaVuSans-30\" d=\"M 2034 4250 \nQ 1547 4250 1301 3770 \nQ 1056 3291 1056 2328 \nQ 1056 1369 1301 889 \nQ 1547 409 2034 409 \nQ 2525 409 2770 889 \nQ 3016 1369 3016 2328 \nQ 3016 3291 2770 3770 \nQ 2525 4250 2034 4250 \nz\nM 2034 4750 \nQ 2819 4750 3233 4129 \nQ 3647 3509 3647 2328 \nQ 3647 1150 3233 529 \nQ 2819 -91 2034 -91 \nQ 1250 -91 836 529 \nQ 422 1150 422 2328 \nQ 422 3509 836 4129 \nQ 1250 4750 2034 4750 \nz\n\" transform=\"scale(0.015625)\"/>\n       </defs>\n       <use xlink:href=\"#DejaVuSans-2212\"/>\n       <use xlink:href=\"#DejaVuSans-35\" x=\"83.789062\"/>\n       <use xlink:href=\"#DejaVuSans-2e\" x=\"147.412109\"/>\n       <use xlink:href=\"#DejaVuSans-30\" x=\"179.199219\"/>\n      </g>\n     </g>\n    </g>\n    <g id=\"xtick_3\">\n     <g id=\"line2d_5\">\n      <path d=\"M 120.479027 145.8 \nL 120.479027 7.2 \n\" clip-path=\"url(#p5afb80fac7)\" style=\"fill: none; stroke: #b0b0b0; stroke-width: 0.8; stroke-linecap: square\"/>\n     </g>\n     <g id=\"line2d_6\">\n      <g>\n       <use xlink:href=\"#mc2033218d9\" x=\"120.479027\" y=\"145.8\" style=\"stroke: #000000; stroke-width: 0.8\"/>\n      </g>\n     </g>\n     <g id=\"text_3\">\n      <!-- −2.5 -->\n      <g transform=\"translate(108.337621 160.398438) scale(0.1 -0.1)\">\n       <defs>\n        <path id=\"DejaVuSans-32\" d=\"M 1228 531 \nL 3431 531 \nL 3431 0 \nL 469 0 \nL 469 531 \nQ 828 903 1448 1529 \nQ 2069 2156 2228 2338 \nQ 2531 2678 2651 2914 \nQ 2772 3150 2772 3378 \nQ 2772 3750 2511 3984 \nQ 2250 4219 1831 4219 \nQ 1534 4219 1204 4116 \nQ 875 4013 500 3803 \nL 500 4441 \nQ 881 4594 1212 4672 \nQ 1544 4750 1819 4750 \nQ 2544 4750 2975 4387 \nQ 3406 4025 3406 3419 \nQ 3406 3131 3298 2873 \nQ 3191 2616 2906 2266 \nQ 2828 2175 2409 1742 \nQ 1991 1309 1228 531 \nz\n\" transform=\"scale(0.015625)\"/>\n       </defs>\n       <use xlink:href=\"#DejaVuSans-2212\"/>\n       <use xlink:href=\"#DejaVuSans-32\" x=\"83.789062\"/>\n       <use xlink:href=\"#DejaVuSans-2e\" x=\"147.412109\"/>\n       <use xlink:href=\"#DejaVuSans-35\" x=\"179.199219\"/>\n      </g>\n     </g>\n    </g>\n    <g id=\"xtick_4\">\n     <g id=\"line2d_7\">\n      <path d=\"M 156.370967 145.8 \nL 156.370967 7.2 \n\" clip-path=\"url(#p5afb80fac7)\" style=\"fill: none; stroke: #b0b0b0; stroke-width: 0.8; stroke-linecap: square\"/>\n     </g>\n     <g id=\"line2d_8\">\n      <g>\n       <use xlink:href=\"#mc2033218d9\" x=\"156.370967\" y=\"145.8\" style=\"stroke: #000000; stroke-width: 0.8\"/>\n      </g>\n     </g>\n     <g id=\"text_4\">\n      <!-- 0.0 -->\n      <g transform=\"translate(148.419404 160.398438) scale(0.1 -0.1)\">\n       <use xlink:href=\"#DejaVuSans-30\"/>\n       <use xlink:href=\"#DejaVuSans-2e\" x=\"63.623047\"/>\n       <use xlink:href=\"#DejaVuSans-30\" x=\"95.410156\"/>\n      </g>\n     </g>\n    </g>\n    <g id=\"xtick_5\">\n     <g id=\"line2d_9\">\n      <path d=\"M 192.262906 145.8 \nL 192.262906 7.2 \n\" clip-path=\"url(#p5afb80fac7)\" style=\"fill: none; stroke: #b0b0b0; stroke-width: 0.8; stroke-linecap: square\"/>\n     </g>\n     <g id=\"line2d_10\">\n      <g>\n       <use xlink:href=\"#mc2033218d9\" x=\"192.262906\" y=\"145.8\" style=\"stroke: #000000; stroke-width: 0.8\"/>\n      </g>\n     </g>\n     <g id=\"text_5\">\n      <!-- 2.5 -->\n      <g transform=\"translate(184.311343 160.398438) scale(0.1 -0.1)\">\n       <use xlink:href=\"#DejaVuSans-32\"/>\n       <use xlink:href=\"#DejaVuSans-2e\" x=\"63.623047\"/>\n       <use xlink:href=\"#DejaVuSans-35\" x=\"95.410156\"/>\n      </g>\n     </g>\n    </g>\n    <g id=\"xtick_6\">\n     <g id=\"line2d_11\">\n      <path d=\"M 228.154845 145.8 \nL 228.154845 7.2 \n\" clip-path=\"url(#p5afb80fac7)\" style=\"fill: none; stroke: #b0b0b0; stroke-width: 0.8; stroke-linecap: square\"/>\n     </g>\n     <g id=\"line2d_12\">\n      <g>\n       <use xlink:href=\"#mc2033218d9\" x=\"228.154845\" y=\"145.8\" style=\"stroke: #000000; stroke-width: 0.8\"/>\n      </g>\n     </g>\n     <g id=\"text_6\">\n      <!-- 5.0 -->\n      <g transform=\"translate(220.203282 160.398438) scale(0.1 -0.1)\">\n       <use xlink:href=\"#DejaVuSans-35\"/>\n       <use xlink:href=\"#DejaVuSans-2e\" x=\"63.623047\"/>\n       <use xlink:href=\"#DejaVuSans-30\" x=\"95.410156\"/>\n      </g>\n     </g>\n    </g>\n    <g id=\"xtick_7\">\n     <g id=\"line2d_13\">\n      <path d=\"M 264.046784 145.8 \nL 264.046784 7.2 \n\" clip-path=\"url(#p5afb80fac7)\" style=\"fill: none; stroke: #b0b0b0; stroke-width: 0.8; stroke-linecap: square\"/>\n     </g>\n     <g id=\"line2d_14\">\n      <g>\n       <use xlink:href=\"#mc2033218d9\" x=\"264.046784\" y=\"145.8\" style=\"stroke: #000000; stroke-width: 0.8\"/>\n      </g>\n     </g>\n     <g id=\"text_7\">\n      <!-- 7.5 -->\n      <g transform=\"translate(256.095221 160.398438) scale(0.1 -0.1)\">\n       <use xlink:href=\"#DejaVuSans-37\"/>\n       <use xlink:href=\"#DejaVuSans-2e\" x=\"63.623047\"/>\n       <use xlink:href=\"#DejaVuSans-35\" x=\"95.410156\"/>\n      </g>\n     </g>\n    </g>\n   </g>\n   <g id=\"matplotlib.axis_2\">\n    <g id=\"ytick_1\">\n     <g id=\"line2d_15\">\n      <path d=\"M 30.103125 139.54227 \nL 281.203125 139.54227 \n\" clip-path=\"url(#p5afb80fac7)\" style=\"fill: none; stroke: #b0b0b0; stroke-width: 0.8; stroke-linecap: square\"/>\n     </g>\n     <g id=\"line2d_16\">\n      <defs>\n       <path id=\"ma88c43ee51\" d=\"M 0 0 \nL -3.5 0 \n\" style=\"stroke: #000000; stroke-width: 0.8\"/>\n      </defs>\n      <g>\n       <use xlink:href=\"#ma88c43ee51\" x=\"30.103125\" y=\"139.54227\" style=\"stroke: #000000; stroke-width: 0.8\"/>\n      </g>\n     </g>\n     <g id=\"text_8\">\n      <!-- 0.0 -->\n      <g transform=\"translate(7.2 143.341489) scale(0.1 -0.1)\">\n       <use xlink:href=\"#DejaVuSans-30\"/>\n       <use xlink:href=\"#DejaVuSans-2e\" x=\"63.623047\"/>\n       <use xlink:href=\"#DejaVuSans-30\" x=\"95.410156\"/>\n      </g>\n     </g>\n    </g>\n    <g id=\"ytick_2\">\n     <g id=\"line2d_17\">\n      <path d=\"M 30.103125 114.32447 \nL 281.203125 114.32447 \n\" clip-path=\"url(#p5afb80fac7)\" style=\"fill: none; stroke: #b0b0b0; stroke-width: 0.8; stroke-linecap: square\"/>\n     </g>\n     <g id=\"line2d_18\">\n      <g>\n       <use xlink:href=\"#ma88c43ee51\" x=\"30.103125\" y=\"114.32447\" style=\"stroke: #000000; stroke-width: 0.8\"/>\n      </g>\n     </g>\n     <g id=\"text_9\">\n      <!-- 0.2 -->\n      <g transform=\"translate(7.2 118.123688) scale(0.1 -0.1)\">\n       <use xlink:href=\"#DejaVuSans-30\"/>\n       <use xlink:href=\"#DejaVuSans-2e\" x=\"63.623047\"/>\n       <use xlink:href=\"#DejaVuSans-32\" x=\"95.410156\"/>\n      </g>\n     </g>\n    </g>\n    <g id=\"ytick_3\">\n     <g id=\"line2d_19\">\n      <path d=\"M 30.103125 89.106669 \nL 281.203125 89.106669 \n\" clip-path=\"url(#p5afb80fac7)\" style=\"fill: none; stroke: #b0b0b0; stroke-width: 0.8; stroke-linecap: square\"/>\n     </g>\n     <g id=\"line2d_20\">\n      <g>\n       <use xlink:href=\"#ma88c43ee51\" x=\"30.103125\" y=\"89.106669\" style=\"stroke: #000000; stroke-width: 0.8\"/>\n      </g>\n     </g>\n     <g id=\"text_10\">\n      <!-- 0.4 -->\n      <g transform=\"translate(7.2 92.905888) scale(0.1 -0.1)\">\n       <defs>\n        <path id=\"DejaVuSans-34\" d=\"M 2419 4116 \nL 825 1625 \nL 2419 1625 \nL 2419 4116 \nz\nM 2253 4666 \nL 3047 4666 \nL 3047 1625 \nL 3713 1625 \nL 3713 1100 \nL 3047 1100 \nL 3047 0 \nL 2419 0 \nL 2419 1100 \nL 313 1100 \nL 313 1709 \nL 2253 4666 \nz\n\" transform=\"scale(0.015625)\"/>\n       </defs>\n       <use xlink:href=\"#DejaVuSans-30\"/>\n       <use xlink:href=\"#DejaVuSans-2e\" x=\"63.623047\"/>\n       <use xlink:href=\"#DejaVuSans-34\" x=\"95.410156\"/>\n      </g>\n     </g>\n    </g>\n    <g id=\"ytick_4\">\n     <g id=\"line2d_21\">\n      <path d=\"M 30.103125 63.888869 \nL 281.203125 63.888869 \n\" clip-path=\"url(#p5afb80fac7)\" style=\"fill: none; stroke: #b0b0b0; stroke-width: 0.8; stroke-linecap: square\"/>\n     </g>\n     <g id=\"line2d_22\">\n      <g>\n       <use xlink:href=\"#ma88c43ee51\" x=\"30.103125\" y=\"63.888869\" style=\"stroke: #000000; stroke-width: 0.8\"/>\n      </g>\n     </g>\n     <g id=\"text_11\">\n      <!-- 0.6 -->\n      <g transform=\"translate(7.2 67.688088) scale(0.1 -0.1)\">\n       <defs>\n        <path id=\"DejaVuSans-36\" d=\"M 2113 2584 \nQ 1688 2584 1439 2293 \nQ 1191 2003 1191 1497 \nQ 1191 994 1439 701 \nQ 1688 409 2113 409 \nQ 2538 409 2786 701 \nQ 3034 994 3034 1497 \nQ 3034 2003 2786 2293 \nQ 2538 2584 2113 2584 \nz\nM 3366 4563 \nL 3366 3988 \nQ 3128 4100 2886 4159 \nQ 2644 4219 2406 4219 \nQ 1781 4219 1451 3797 \nQ 1122 3375 1075 2522 \nQ 1259 2794 1537 2939 \nQ 1816 3084 2150 3084 \nQ 2853 3084 3261 2657 \nQ 3669 2231 3669 1497 \nQ 3669 778 3244 343 \nQ 2819 -91 2113 -91 \nQ 1303 -91 875 529 \nQ 447 1150 447 2328 \nQ 447 3434 972 4092 \nQ 1497 4750 2381 4750 \nQ 2619 4750 2861 4703 \nQ 3103 4656 3366 4563 \nz\n\" transform=\"scale(0.015625)\"/>\n       </defs>\n       <use xlink:href=\"#DejaVuSans-30\"/>\n       <use xlink:href=\"#DejaVuSans-2e\" x=\"63.623047\"/>\n       <use xlink:href=\"#DejaVuSans-36\" x=\"95.410156\"/>\n      </g>\n     </g>\n    </g>\n    <g id=\"ytick_5\">\n     <g id=\"line2d_23\">\n      <path d=\"M 30.103125 38.671069 \nL 281.203125 38.671069 \n\" clip-path=\"url(#p5afb80fac7)\" style=\"fill: none; stroke: #b0b0b0; stroke-width: 0.8; stroke-linecap: square\"/>\n     </g>\n     <g id=\"line2d_24\">\n      <g>\n       <use xlink:href=\"#ma88c43ee51\" x=\"30.103125\" y=\"38.671069\" style=\"stroke: #000000; stroke-width: 0.8\"/>\n      </g>\n     </g>\n     <g id=\"text_12\">\n      <!-- 0.8 -->\n      <g transform=\"translate(7.2 42.470288) scale(0.1 -0.1)\">\n       <defs>\n        <path id=\"DejaVuSans-38\" d=\"M 2034 2216 \nQ 1584 2216 1326 1975 \nQ 1069 1734 1069 1313 \nQ 1069 891 1326 650 \nQ 1584 409 2034 409 \nQ 2484 409 2743 651 \nQ 3003 894 3003 1313 \nQ 3003 1734 2745 1975 \nQ 2488 2216 2034 2216 \nz\nM 1403 2484 \nQ 997 2584 770 2862 \nQ 544 3141 544 3541 \nQ 544 4100 942 4425 \nQ 1341 4750 2034 4750 \nQ 2731 4750 3128 4425 \nQ 3525 4100 3525 3541 \nQ 3525 3141 3298 2862 \nQ 3072 2584 2669 2484 \nQ 3125 2378 3379 2068 \nQ 3634 1759 3634 1313 \nQ 3634 634 3220 271 \nQ 2806 -91 2034 -91 \nQ 1263 -91 848 271 \nQ 434 634 434 1313 \nQ 434 1759 690 2068 \nQ 947 2378 1403 2484 \nz\nM 1172 3481 \nQ 1172 3119 1398 2916 \nQ 1625 2713 2034 2713 \nQ 2441 2713 2670 2916 \nQ 2900 3119 2900 3481 \nQ 2900 3844 2670 4047 \nQ 2441 4250 2034 4250 \nQ 1625 4250 1398 4047 \nQ 1172 3844 1172 3481 \nz\n\" transform=\"scale(0.015625)\"/>\n       </defs>\n       <use xlink:href=\"#DejaVuSans-30\"/>\n       <use xlink:href=\"#DejaVuSans-2e\" x=\"63.623047\"/>\n       <use xlink:href=\"#DejaVuSans-38\" x=\"95.410156\"/>\n      </g>\n     </g>\n    </g>\n    <g id=\"ytick_6\">\n     <g id=\"line2d_25\">\n      <path d=\"M 30.103125 13.453269 \nL 281.203125 13.453269 \n\" clip-path=\"url(#p5afb80fac7)\" style=\"fill: none; stroke: #b0b0b0; stroke-width: 0.8; stroke-linecap: square\"/>\n     </g>\n     <g id=\"line2d_26\">\n      <g>\n       <use xlink:href=\"#ma88c43ee51\" x=\"30.103125\" y=\"13.453269\" style=\"stroke: #000000; stroke-width: 0.8\"/>\n      </g>\n     </g>\n     <g id=\"text_13\">\n      <!-- 1.0 -->\n      <g transform=\"translate(7.2 17.252487) scale(0.1 -0.1)\">\n       <defs>\n        <path id=\"DejaVuSans-31\" d=\"M 794 531 \nL 1825 531 \nL 1825 4091 \nL 703 3866 \nL 703 4441 \nL 1819 4666 \nL 2450 4666 \nL 2450 531 \nL 3481 531 \nL 3481 0 \nL 794 0 \nL 794 531 \nz\n\" transform=\"scale(0.015625)\"/>\n       </defs>\n       <use xlink:href=\"#DejaVuSans-31\"/>\n       <use xlink:href=\"#DejaVuSans-2e\" x=\"63.623047\"/>\n       <use xlink:href=\"#DejaVuSans-30\" x=\"95.410156\"/>\n      </g>\n     </g>\n    </g>\n   </g>\n   <g id=\"line2d_27\">\n    <path d=\"M 41.516761 139.499986 \nL 64.487601 139.333113 \nL 77.4087 139.02907 \nL 86.022764 138.610278 \nL 93.201152 138.013008 \nL 98.943864 137.274407 \nL 103.250896 136.500118 \nL 107.557928 135.470167 \nL 110.429284 134.603903 \nL 113.30064 133.562389 \nL 116.171995 132.314322 \nL 119.043348 130.824677 \nL 121.914704 129.055108 \nL 124.786059 126.964831 \nL 127.657415 124.512093 \nL 130.528769 121.656412 \nL 133.400125 118.361636 \nL 136.271481 114.599835 \nL 139.142835 110.355791 \nL 142.014191 105.631713 \nL 144.885546 100.451463 \nL 147.756901 94.863425 \nL 152.063934 85.88415 \nL 164.985032 58.132113 \nL 167.856387 52.544076 \nL 170.727742 47.363821 \nL 173.599098 42.639742 \nL 176.470452 38.3957 \nL 179.341808 34.633904 \nL 182.213164 31.339136 \nL 185.084518 28.483452 \nL 187.955874 26.030704 \nL 190.827229 23.940429 \nL 193.698585 22.170861 \nL 196.569941 20.681216 \nL 199.441293 19.433149 \nL 202.312649 18.391637 \nL 205.184005 17.525364 \nL 209.491037 16.495419 \nL 213.798069 15.721135 \nL 219.540781 14.982536 \nL 225.283492 14.482477 \nL 232.46188 14.079534 \nL 242.51162 13.765034 \nL 256.868396 13.568135 \nL 269.789489 13.5 \nL 269.789489 13.5 \n\" clip-path=\"url(#p5afb80fac7)\" style=\"fill: none; stroke: #1f77b4; stroke-width: 1.5; stroke-linecap: square\"/>\n   </g>\n   <g id=\"line2d_28\">\n    <path d=\"M 41.516761 139.5 \nL 64.487601 139.33346 \nL 77.4087 139.031159 \nL 86.022764 138.617167 \nL 93.201152 138.031555 \nL 98.943864 137.315197 \nL 103.250896 136.573516 \nL 107.557928 135.601678 \nL 111.86496 134.341223 \nL 114.736316 133.309241 \nL 117.607672 132.102046 \nL 120.479027 130.702963 \nL 123.35038 129.099634 \nL 126.221736 127.287088 \nL 129.093091 125.271485 \nL 133.400125 121.919593 \nL 144.885546 112.570609 \nL 147.756901 110.695092 \nL 150.628256 109.248032 \nL 152.063934 108.718765 \nL 153.499611 108.333151 \nL 154.935289 108.098692 \nL 156.370967 108.02002 \nL 157.806644 108.098694 \nL 159.242322 108.333152 \nL 160.677999 108.718765 \nL 162.113677 109.248032 \nL 164.985032 110.695092 \nL 167.856387 112.570609 \nL 170.727742 114.751668 \nL 176.470452 119.533852 \nL 180.777486 123.074328 \nL 185.084518 126.303728 \nL 187.955874 128.219439 \nL 190.827229 129.927355 \nL 193.698585 131.427398 \nL 196.569941 132.728658 \nL 199.441293 133.84599 \nL 203.748325 135.216679 \nL 208.055361 136.277873 \nL 212.362393 137.090267 \nL 216.669421 137.70695 \nL 222.412133 138.299941 \nL 229.590528 138.78283 \nL 238.204585 139.123188 \nL 251.125684 139.371202 \nL 269.789489 139.495556 \nL 269.789489 139.495556 \n\" clip-path=\"url(#p5afb80fac7)\" style=\"fill: none; stroke-dasharray: 5.55,2.4; stroke-dashoffset: 0; stroke: #bf00bf; stroke-width: 1.5\"/>\n   </g>\n   <g id=\"patch_3\">\n    <path d=\"M 30.103125 145.8 \nL 30.103125 7.2 \n\" style=\"fill: none; stroke: #000000; stroke-width: 0.8; stroke-linejoin: miter; stroke-linecap: square\"/>\n   </g>\n   <g id=\"patch_4\">\n    <path d=\"M 281.203125 145.8 \nL 281.203125 7.2 \n\" style=\"fill: none; stroke: #000000; stroke-width: 0.8; stroke-linejoin: miter; stroke-linecap: square\"/>\n   </g>\n   <g id=\"patch_5\">\n    <path d=\"M 30.103125 145.8 \nL 281.203125 145.8 \n\" style=\"fill: none; stroke: #000000; stroke-width: 0.8; stroke-linejoin: miter; stroke-linecap: square\"/>\n   </g>\n   <g id=\"patch_6\">\n    <path d=\"M 30.103125 7.2 \nL 281.203125 7.2 \n\" style=\"fill: none; stroke: #000000; stroke-width: 0.8; stroke-linejoin: miter; stroke-linecap: square\"/>\n   </g>\n   <g id=\"legend_1\">\n    <g id=\"patch_7\">\n     <path d=\"M 37.103125 44.55625 \nL 111.228125 44.55625 \nQ 113.228125 44.55625 113.228125 42.55625 \nL 113.228125 14.2 \nQ 113.228125 12.2 111.228125 12.2 \nL 37.103125 12.2 \nQ 35.103125 12.2 35.103125 14.2 \nL 35.103125 42.55625 \nQ 35.103125 44.55625 37.103125 44.55625 \nz\n\" style=\"fill: #ffffff; opacity: 0.8; stroke: #cccccc; stroke-linejoin: miter\"/>\n    </g>\n    <g id=\"line2d_29\">\n     <path d=\"M 39.103125 20.298438 \nL 49.103125 20.298438 \nL 59.103125 20.298438 \n\" style=\"fill: none; stroke: #1f77b4; stroke-width: 1.5; stroke-linecap: square\"/>\n    </g>\n    <g id=\"text_14\">\n     <!-- sigmoid -->\n     <g transform=\"translate(67.103125 23.798438) scale(0.1 -0.1)\">\n      <defs>\n       <path id=\"DejaVuSans-73\" d=\"M 2834 3397 \nL 2834 2853 \nQ 2591 2978 2328 3040 \nQ 2066 3103 1784 3103 \nQ 1356 3103 1142 2972 \nQ 928 2841 928 2578 \nQ 928 2378 1081 2264 \nQ 1234 2150 1697 2047 \nL 1894 2003 \nQ 2506 1872 2764 1633 \nQ 3022 1394 3022 966 \nQ 3022 478 2636 193 \nQ 2250 -91 1575 -91 \nQ 1294 -91 989 -36 \nQ 684 19 347 128 \nL 347 722 \nQ 666 556 975 473 \nQ 1284 391 1588 391 \nQ 1994 391 2212 530 \nQ 2431 669 2431 922 \nQ 2431 1156 2273 1281 \nQ 2116 1406 1581 1522 \nL 1381 1569 \nQ 847 1681 609 1914 \nQ 372 2147 372 2553 \nQ 372 3047 722 3315 \nQ 1072 3584 1716 3584 \nQ 2034 3584 2315 3537 \nQ 2597 3491 2834 3397 \nz\n\" transform=\"scale(0.015625)\"/>\n       <path id=\"DejaVuSans-69\" d=\"M 603 3500 \nL 1178 3500 \nL 1178 0 \nL 603 0 \nL 603 3500 \nz\nM 603 4863 \nL 1178 4863 \nL 1178 4134 \nL 603 4134 \nL 603 4863 \nz\n\" transform=\"scale(0.015625)\"/>\n       <path id=\"DejaVuSans-67\" d=\"M 2906 1791 \nQ 2906 2416 2648 2759 \nQ 2391 3103 1925 3103 \nQ 1463 3103 1205 2759 \nQ 947 2416 947 1791 \nQ 947 1169 1205 825 \nQ 1463 481 1925 481 \nQ 2391 481 2648 825 \nQ 2906 1169 2906 1791 \nz\nM 3481 434 \nQ 3481 -459 3084 -895 \nQ 2688 -1331 1869 -1331 \nQ 1566 -1331 1297 -1286 \nQ 1028 -1241 775 -1147 \nL 775 -588 \nQ 1028 -725 1275 -790 \nQ 1522 -856 1778 -856 \nQ 2344 -856 2625 -561 \nQ 2906 -266 2906 331 \nL 2906 616 \nQ 2728 306 2450 153 \nQ 2172 0 1784 0 \nQ 1141 0 747 490 \nQ 353 981 353 1791 \nQ 353 2603 747 3093 \nQ 1141 3584 1784 3584 \nQ 2172 3584 2450 3431 \nQ 2728 3278 2906 2969 \nL 2906 3500 \nL 3481 3500 \nL 3481 434 \nz\n\" transform=\"scale(0.015625)\"/>\n       <path id=\"DejaVuSans-6d\" d=\"M 3328 2828 \nQ 3544 3216 3844 3400 \nQ 4144 3584 4550 3584 \nQ 5097 3584 5394 3201 \nQ 5691 2819 5691 2113 \nL 5691 0 \nL 5113 0 \nL 5113 2094 \nQ 5113 2597 4934 2840 \nQ 4756 3084 4391 3084 \nQ 3944 3084 3684 2787 \nQ 3425 2491 3425 1978 \nL 3425 0 \nL 2847 0 \nL 2847 2094 \nQ 2847 2600 2669 2842 \nQ 2491 3084 2119 3084 \nQ 1678 3084 1418 2786 \nQ 1159 2488 1159 1978 \nL 1159 0 \nL 581 0 \nL 581 3500 \nL 1159 3500 \nL 1159 2956 \nQ 1356 3278 1631 3431 \nQ 1906 3584 2284 3584 \nQ 2666 3584 2933 3390 \nQ 3200 3197 3328 2828 \nz\n\" transform=\"scale(0.015625)\"/>\n       <path id=\"DejaVuSans-6f\" d=\"M 1959 3097 \nQ 1497 3097 1228 2736 \nQ 959 2375 959 1747 \nQ 959 1119 1226 758 \nQ 1494 397 1959 397 \nQ 2419 397 2687 759 \nQ 2956 1122 2956 1747 \nQ 2956 2369 2687 2733 \nQ 2419 3097 1959 3097 \nz\nM 1959 3584 \nQ 2709 3584 3137 3096 \nQ 3566 2609 3566 1747 \nQ 3566 888 3137 398 \nQ 2709 -91 1959 -91 \nQ 1206 -91 779 398 \nQ 353 888 353 1747 \nQ 353 2609 779 3096 \nQ 1206 3584 1959 3584 \nz\n\" transform=\"scale(0.015625)\"/>\n       <path id=\"DejaVuSans-64\" d=\"M 2906 2969 \nL 2906 4863 \nL 3481 4863 \nL 3481 0 \nL 2906 0 \nL 2906 525 \nQ 2725 213 2448 61 \nQ 2172 -91 1784 -91 \nQ 1150 -91 751 415 \nQ 353 922 353 1747 \nQ 353 2572 751 3078 \nQ 1150 3584 1784 3584 \nQ 2172 3584 2448 3432 \nQ 2725 3281 2906 2969 \nz\nM 947 1747 \nQ 947 1113 1208 752 \nQ 1469 391 1925 391 \nQ 2381 391 2643 752 \nQ 2906 1113 2906 1747 \nQ 2906 2381 2643 2742 \nQ 2381 3103 1925 3103 \nQ 1469 3103 1208 2742 \nQ 947 2381 947 1747 \nz\n\" transform=\"scale(0.015625)\"/>\n      </defs>\n      <use xlink:href=\"#DejaVuSans-73\"/>\n      <use xlink:href=\"#DejaVuSans-69\" x=\"52.099609\"/>\n      <use xlink:href=\"#DejaVuSans-67\" x=\"79.882812\"/>\n      <use xlink:href=\"#DejaVuSans-6d\" x=\"143.359375\"/>\n      <use xlink:href=\"#DejaVuSans-6f\" x=\"240.771484\"/>\n      <use xlink:href=\"#DejaVuSans-69\" x=\"301.953125\"/>\n      <use xlink:href=\"#DejaVuSans-64\" x=\"329.736328\"/>\n     </g>\n    </g>\n    <g id=\"line2d_30\">\n     <path d=\"M 39.103125 34.976563 \nL 49.103125 34.976563 \nL 59.103125 34.976563 \n\" style=\"fill: none; stroke-dasharray: 5.55,2.4; stroke-dashoffset: 0; stroke: #bf00bf; stroke-width: 1.5\"/>\n    </g>\n    <g id=\"text_15\">\n     <!-- gradient -->\n     <g transform=\"translate(67.103125 38.476563) scale(0.1 -0.1)\">\n      <defs>\n       <path id=\"DejaVuSans-72\" d=\"M 2631 2963 \nQ 2534 3019 2420 3045 \nQ 2306 3072 2169 3072 \nQ 1681 3072 1420 2755 \nQ 1159 2438 1159 1844 \nL 1159 0 \nL 581 0 \nL 581 3500 \nL 1159 3500 \nL 1159 2956 \nQ 1341 3275 1631 3429 \nQ 1922 3584 2338 3584 \nQ 2397 3584 2469 3576 \nQ 2541 3569 2628 3553 \nL 2631 2963 \nz\n\" transform=\"scale(0.015625)\"/>\n       <path id=\"DejaVuSans-61\" d=\"M 2194 1759 \nQ 1497 1759 1228 1600 \nQ 959 1441 959 1056 \nQ 959 750 1161 570 \nQ 1363 391 1709 391 \nQ 2188 391 2477 730 \nQ 2766 1069 2766 1631 \nL 2766 1759 \nL 2194 1759 \nz\nM 3341 1997 \nL 3341 0 \nL 2766 0 \nL 2766 531 \nQ 2569 213 2275 61 \nQ 1981 -91 1556 -91 \nQ 1019 -91 701 211 \nQ 384 513 384 1019 \nQ 384 1609 779 1909 \nQ 1175 2209 1959 2209 \nL 2766 2209 \nL 2766 2266 \nQ 2766 2663 2505 2880 \nQ 2244 3097 1772 3097 \nQ 1472 3097 1187 3025 \nQ 903 2953 641 2809 \nL 641 3341 \nQ 956 3463 1253 3523 \nQ 1550 3584 1831 3584 \nQ 2591 3584 2966 3190 \nQ 3341 2797 3341 1997 \nz\n\" transform=\"scale(0.015625)\"/>\n       <path id=\"DejaVuSans-65\" d=\"M 3597 1894 \nL 3597 1613 \nL 953 1613 \nQ 991 1019 1311 708 \nQ 1631 397 2203 397 \nQ 2534 397 2845 478 \nQ 3156 559 3463 722 \nL 3463 178 \nQ 3153 47 2828 -22 \nQ 2503 -91 2169 -91 \nQ 1331 -91 842 396 \nQ 353 884 353 1716 \nQ 353 2575 817 3079 \nQ 1281 3584 2069 3584 \nQ 2775 3584 3186 3129 \nQ 3597 2675 3597 1894 \nz\nM 3022 2063 \nQ 3016 2534 2758 2815 \nQ 2500 3097 2075 3097 \nQ 1594 3097 1305 2825 \nQ 1016 2553 972 2059 \nL 3022 2063 \nz\n\" transform=\"scale(0.015625)\"/>\n       <path id=\"DejaVuSans-6e\" d=\"M 3513 2113 \nL 3513 0 \nL 2938 0 \nL 2938 2094 \nQ 2938 2591 2744 2837 \nQ 2550 3084 2163 3084 \nQ 1697 3084 1428 2787 \nQ 1159 2491 1159 1978 \nL 1159 0 \nL 581 0 \nL 581 3500 \nL 1159 3500 \nL 1159 2956 \nQ 1366 3272 1645 3428 \nQ 1925 3584 2291 3584 \nQ 2894 3584 3203 3211 \nQ 3513 2838 3513 2113 \nz\n\" transform=\"scale(0.015625)\"/>\n       <path id=\"DejaVuSans-74\" d=\"M 1172 4494 \nL 1172 3500 \nL 2356 3500 \nL 2356 3053 \nL 1172 3053 \nL 1172 1153 \nQ 1172 725 1289 603 \nQ 1406 481 1766 481 \nL 2356 481 \nL 2356 0 \nL 1766 0 \nQ 1100 0 847 248 \nQ 594 497 594 1153 \nL 594 3053 \nL 172 3053 \nL 172 3500 \nL 594 3500 \nL 594 4494 \nL 1172 4494 \nz\n\" transform=\"scale(0.015625)\"/>\n      </defs>\n      <use xlink:href=\"#DejaVuSans-67\"/>\n      <use xlink:href=\"#DejaVuSans-72\" x=\"63.476562\"/>\n      <use xlink:href=\"#DejaVuSans-61\" x=\"104.589844\"/>\n      <use xlink:href=\"#DejaVuSans-64\" x=\"165.869141\"/>\n      <use xlink:href=\"#DejaVuSans-69\" x=\"229.345703\"/>\n      <use xlink:href=\"#DejaVuSans-65\" x=\"257.128906\"/>\n      <use xlink:href=\"#DejaVuSans-6e\" x=\"318.652344\"/>\n      <use xlink:href=\"#DejaVuSans-74\" x=\"382.03125\"/>\n     </g>\n    </g>\n   </g>\n  </g>\n </g>\n <defs>\n  <clipPath id=\"p5afb80fac7\">\n   <rect x=\"30.103125\" y=\"7.2\" width=\"251.1\" height=\"138.6\"/>\n  </clipPath>\n </defs>\n</svg>\n"
          },
          "metadata": {}
        }
      ],
      "source": [
        "x = torch.arange(-8.0, 8.0, 0.1, requires_grad=True)\n",
        "y = torch.sigmoid(x)\n",
        "y.backward(torch.ones_like(x))\n",
        "\n",
        "d2l.plot(x.detach().numpy(), [y.detach().numpy(), x.grad.numpy()],\n",
        "         legend=['sigmoid', 'gradient'], figsize=(4.5, 2.5))"
      ]
    },
    {
      "cell_type": "markdown",
      "id": "c4770b55",
      "metadata": {
        "id": "c4770b55",
        "origin_pos": 11
      },
      "source": [
        "As you can see, (**the sigmoid's gradient vanishes\n",
        "both when its inputs are large and when they are small**).\n",
        "Moreover, when backpropagating through many layers,\n",
        "unless we are in the Goldilocks zone, where\n",
        "the inputs to many of the sigmoids are close to zero,\n",
        "the gradients of the overall product may vanish.\n",
        "When our network boasts many layers,\n",
        "unless we are careful, the gradient\n",
        "will likely be cut off at some layer.\n",
        "Indeed, this problem used to plague deep network training.\n",
        "Consequently, ReLUs, which are more stable\n",
        "(but less neurally plausible),\n",
        "have emerged as the default choice for practitioners.\n",
        "\n",
        "\n",
        "### [**Exploding Gradients**]\n",
        "\n",
        "The opposite problem, when gradients explode,\n",
        "can be similarly vexing.\n",
        "To illustrate this a bit better,\n",
        "we draw 100 Gaussian random matrices\n",
        "and multiply them with some initial matrix.\n",
        "For the scale that we picked\n",
        "(the choice of the variance $\\sigma^2=1$),\n",
        "the matrix product explodes.\n",
        "When this happens because of the initialization\n",
        "of a deep network, we have no chance of getting\n",
        "a gradient descent optimizer to converge.\n"
      ]
    },
    {
      "cell_type": "code",
      "execution_count": null,
      "id": "debf7ebc",
      "metadata": {
        "execution": {
          "iopub.execute_input": "2023-08-18T19:43:22.642610Z",
          "iopub.status.busy": "2023-08-18T19:43:22.642013Z",
          "iopub.status.idle": "2023-08-18T19:43:22.655626Z",
          "shell.execute_reply": "2023-08-18T19:43:22.654378Z"
        },
        "id": "debf7ebc",
        "origin_pos": 13,
        "outputId": "5c329abc-4d2e-4e37-b295-1d0a4f90746d",
        "tab": [
          "pytorch"
        ],
        "colab": {
          "base_uri": "https://localhost:8080/"
        }
      },
      "outputs": [
        {
          "output_type": "stream",
          "name": "stdout",
          "text": [
            "a single matrix \n",
            " tensor([[-0.1540, -0.0207, -0.8019,  0.7721],\n",
            "        [-0.4799, -0.2961,  0.1809,  0.3742],\n",
            "        [-0.9772,  0.3902,  1.8449, -0.3007],\n",
            "        [ 0.8004, -0.2607,  1.2065, -1.0769]])\n",
            "after multiplying 100 matrices\n",
            " tensor([[-2.5776e+19, -2.1695e+21, -6.3642e+20,  2.5017e+21],\n",
            "        [ 2.1732e+19,  1.8778e+21,  5.4976e+20, -2.1624e+21],\n",
            "        [ 1.1852e+20,  1.0039e+22,  2.9436e+21, -1.1572e+22],\n",
            "        [ 1.4751e+19,  1.2198e+21,  3.5831e+20, -1.4078e+21]])\n"
          ]
        }
      ],
      "source": [
        "M = torch.normal(0, 1, size=(4, 4))\n",
        "print('a single matrix \\n',M)\n",
        "for i in range(100):\n",
        "    M = M @ torch.normal(0, 1, size=(4, 4))\n",
        "print('after multiplying 100 matrices\\n', M)"
      ]
    },
    {
      "cell_type": "markdown",
      "id": "c356bb9b",
      "metadata": {
        "id": "c356bb9b",
        "origin_pos": 16
      },
      "source": [
        "### Breaking the Symmetry\n",
        "\n",
        "Another problem in neural network design\n",
        "is the symmetry inherent in their parametrization.\n",
        "Assume that we have a simple MLP\n",
        "with one hidden layer and two units.\n",
        "In this case, we could permute the weights $\\mathbf{W}^{(1)}$\n",
        "of the first layer and likewise permute\n",
        "the weights of the output layer\n",
        "to obtain the same function.\n",
        "There is nothing special differentiating\n",
        "the first and second hidden units.\n",
        "In other words, we have permutation symmetry\n",
        "among the hidden units of each layer.\n",
        "\n",
        "This is more than just a theoretical nuisance.\n",
        "Consider the aforementioned one-hidden-layer MLP\n",
        "with two hidden units.\n",
        "For illustration,\n",
        "suppose that the output layer transforms the two hidden units into only one output unit.\n",
        "Imagine what would happen if we initialized\n",
        "all the parameters of the hidden layer\n",
        "as $\\mathbf{W}^{(1)} = c$ for some constant $c$.\n",
        "In this case, during forward propagation\n",
        "either hidden unit takes the same inputs and parameters\n",
        "producing the same activation\n",
        "which is fed to the output unit.\n",
        "During backpropagation,\n",
        "differentiating the output unit with respect to parameters $\\mathbf{W}^{(1)}$ gives a gradient all of whose elements take the same value.\n",
        "Thus, after gradient-based iteration (e.g., minibatch stochastic gradient descent),\n",
        "all the elements of $\\mathbf{W}^{(1)}$ still take the same value.\n",
        "Such iterations would\n",
        "never *break the symmetry* on their own\n",
        "and we might never be able to realize\n",
        "the network's expressive power.\n",
        "The hidden layer would behave\n",
        "as if it had only a single unit.\n",
        "Note that while minibatch stochastic gradient descent would not break this symmetry,\n",
        "dropout regularization (to be introduced later) would!\n",
        "\n",
        "\n",
        "## Parameter Initialization\n",
        "\n",
        "One way of addressing---or at least mitigating---the\n",
        "issues raised above is through careful initialization.\n",
        "As we will see later,\n",
        "additional care during optimization\n",
        "and suitable regularization can further enhance stability.\n",
        "\n",
        "\n",
        "### Default Initialization\n",
        "\n",
        "In the previous sections, e.g., in :numref:`sec_linear_concise`,\n",
        "we used a normal distribution\n",
        "to initialize the values of our weights.\n",
        "If we do not specify the initialization method, the framework will\n",
        "use a default random initialization method, which often works well in practice\n",
        "for moderate problem sizes.\n",
        "\n",
        "\n",
        "\n",
        "\n",
        "\n",
        "\n",
        "### Xavier Initialization\n",
        ":label:`subsec_xavier`\n",
        "\n",
        "Let's look at the scale distribution of\n",
        "an output $o_{i}$ for some fully connected layer\n",
        "*without nonlinearities*.\n",
        "With $n_\\textrm{in}$ inputs $x_j$\n",
        "and their associated weights $w_{ij}$ for this layer,\n",
        "an output is given by\n",
        "\n",
        "$$o_{i} = \\sum_{j=1}^{n_\\textrm{in}} w_{ij} x_j.$$\n",
        "\n",
        "The weights $w_{ij}$ are all drawn\n",
        "independently from the same distribution.\n",
        "Furthermore, let's assume that this distribution\n",
        "has zero mean and variance $\\sigma^2$.\n",
        "Note that this does not mean that the distribution has to be Gaussian,\n",
        "just that the mean and variance need to exist.\n",
        "For now, let's assume that the inputs to the layer $x_j$\n",
        "also have zero mean and variance $\\gamma^2$\n",
        "and that they are independent of $w_{ij}$ and independent of each other.\n",
        "In this case, we can compute the mean of $o_i$:\n",
        "\n",
        "$$\n",
        "\\begin{aligned}\n",
        "    E[o_i] & = \\sum_{j=1}^{n_\\textrm{in}} E[w_{ij} x_j] \\\\&= \\sum_{j=1}^{n_\\textrm{in}} E[w_{ij}] E[x_j] \\\\&= 0, \\end{aligned}$$\n",
        "\n",
        "and the variance:\n",
        "\n",
        "$$\n",
        "\\begin{aligned}\n",
        "    \\textrm{Var}[o_i] & = E[o_i^2] - (E[o_i])^2 \\\\\n",
        "        & = \\sum_{j=1}^{n_\\textrm{in}} E[w^2_{ij} x^2_j] - 0 \\\\\n",
        "        & = \\sum_{j=1}^{n_\\textrm{in}} E[w^2_{ij}] E[x^2_j] \\\\\n",
        "        & = n_\\textrm{in} \\sigma^2 \\gamma^2.\n",
        "\\end{aligned}\n",
        "$$\n",
        "\n",
        "One way to keep the variance fixed\n",
        "is to set $n_\\textrm{in} \\sigma^2 = 1$.\n",
        "Now consider backpropagation.\n",
        "There we face a similar problem,\n",
        "albeit with gradients being propagated from the layers closer to the output.\n",
        "Using the same reasoning as for forward propagation,\n",
        "we see that the gradients' variance can blow up\n",
        "unless $n_\\textrm{out} \\sigma^2 = 1$,\n",
        "where $n_\\textrm{out}$ is the number of outputs of this layer.\n",
        "This leaves us in a dilemma:\n",
        "we cannot possibly satisfy both conditions simultaneously.\n",
        "Instead, we simply try to satisfy:\n",
        "\n",
        "$$\n",
        "\\begin{aligned}\n",
        "\\frac{1}{2} (n_\\textrm{in} + n_\\textrm{out}) \\sigma^2 = 1 \\textrm{ or equivalently }\n",
        "\\sigma = \\sqrt{\\frac{2}{n_\\textrm{in} + n_\\textrm{out}}}.\n",
        "\\end{aligned}\n",
        "$$\n",
        "\n",
        "This is the reasoning underlying the now-standard\n",
        "and practically beneficial *Xavier initialization*,\n",
        "named after the first author of its creators :cite:`Glorot.Bengio.2010`.\n",
        "Typically, the Xavier initialization\n",
        "samples weights from a Gaussian distribution\n",
        "with zero mean and variance\n",
        "$\\sigma^2 = \\frac{2}{n_\\textrm{in} + n_\\textrm{out}}$.\n",
        "We can also adapt this to\n",
        "choose the variance when sampling weights\n",
        "from a uniform distribution.\n",
        "Note that the uniform distribution $U(-a, a)$ has variance $\\frac{a^2}{3}$.\n",
        "Plugging $\\frac{a^2}{3}$ into our condition on $\\sigma^2$\n",
        "prompts us to initialize according to\n",
        "\n",
        "$$U\\left(-\\sqrt{\\frac{6}{n_\\textrm{in} + n_\\textrm{out}}}, \\sqrt{\\frac{6}{n_\\textrm{in} + n_\\textrm{out}}}\\right).$$\n",
        "\n",
        "Though the assumption for nonexistence of nonlinearities\n",
        "in the above mathematical reasoning\n",
        "can be easily violated in neural networks,\n",
        "the Xavier initialization method\n",
        "turns out to work well in practice.\n",
        "\n",
        "\n",
        "### Beyond\n",
        "\n",
        "The reasoning above barely scratches the surface\n",
        "of modern approaches to parameter initialization.\n",
        "A deep learning framework often implements over a dozen different heuristics.\n",
        "Moreover, parameter initialization continues to be\n",
        "a hot area of fundamental research in deep learning.\n",
        "Among these are heuristics specialized for\n",
        "tied (shared) parameters, super-resolution,\n",
        "sequence models, and other situations.\n",
        "For instance,\n",
        ":citet:`Xiao.Bahri.Sohl-Dickstein.ea.2018` demonstrated the possibility of training\n",
        "10,000-layer neural networks without architectural tricks\n",
        "by using a carefully-designed initialization method.\n",
        "\n",
        "If the topic interests you we suggest\n",
        "a deep dive into this module's offerings,\n",
        "reading the papers that proposed and analyzed each heuristic,\n",
        "and then exploring the latest publications on the topic.\n",
        "Perhaps you will stumble across or even invent\n",
        "a clever idea and contribute an implementation to deep learning frameworks.\n",
        "\n",
        "\n",
        "## Summary\n",
        "\n",
        "Vanishing and exploding gradients are common issues in deep networks. Great care in parameter initialization is required to ensure that gradients and parameters remain well controlled.\n",
        "Initialization heuristics are needed to ensure that the initial gradients are neither too large nor too small.\n",
        "Random initialization is key to ensuring that symmetry is broken before optimization.\n",
        "Xavier initialization suggests that, for each layer, variance of any output is not affected by the number of inputs, and variance of any gradient is not affected by the number of outputs.\n",
        "ReLU activation functions mitigate the vanishing gradient problem. This can accelerate convergence.\n",
        "\n",
        "## Exercises\n",
        "\n",
        "1. Can you design other cases where a neural network might exhibit symmetry that needs breaking, besides the permutation symmetry in an MLP's layers?\n",
        "1. Can we initialize all weight parameters in linear regression or in softmax regression to the same value?\n",
        "1. Look up analytic bounds on the eigenvalues of the product of two matrices. What does this tell you about ensuring that gradients are well conditioned?\n",
        "1. If we know that some terms diverge, can we fix this after the fact? Look at the paper on layerwise adaptive rate scaling  for inspiration :cite:`You.Gitman.Ginsburg.2017`.\n"
      ]
    },
    {
      "cell_type": "markdown",
      "id": "703c0185",
      "metadata": {
        "id": "703c0185",
        "origin_pos": 18,
        "tab": [
          "pytorch"
        ]
      },
      "source": [
        "[Discussions](https://discuss.d2l.ai/t/104)\n"
      ]
    },
    {
      "cell_type": "markdown",
      "id": "00ea4628",
      "metadata": {
        "id": "00ea4628",
        "origin_pos": 0
      },
      "source": [
        "# Generalization in Deep Learning\n",
        "\n",
        "\n",
        "In :numref:`chap_regression` and :numref:`chap_classification`,\n",
        "we tackled regression and classification problems\n",
        "by fitting linear models to training data.\n",
        "In both cases, we provided practical algorithms\n",
        "for finding the parameters that maximized\n",
        "the likelihood of the observed training labels.\n",
        "And then, towards the end of each chapter,\n",
        "we recalled that fitting the training data\n",
        "was only an intermediate goal.\n",
        "Our real quest all along was to discover *general patterns*\n",
        "on the basis of which we can make accurate predictions\n",
        "even on new examples drawn from the same underlying population.\n",
        "Machine learning researchers are *consumers* of optimization algorithms.\n",
        "Sometimes, we must even develop new optimization algorithms.\n",
        "But at the end of the day, optimization is merely a means to an end.\n",
        "At its core, machine learning is a statistical discipline\n",
        "and we wish to optimize training loss only insofar\n",
        "as some statistical principle (known or unknown)\n",
        "leads the resulting models to generalize beyond the training set.\n",
        "\n",
        "\n",
        "On the bright side, it turns out that deep neural networks\n",
        "trained by stochastic gradient descent generalize remarkably well\n",
        "across myriad prediction problems, spanning computer vision;\n",
        "natural language processing; time series data; recommender systems;\n",
        "electronic health records; protein folding;\n",
        "value function approximation in video games\n",
        "and board games; and numerous other domains.\n",
        "On the downside, if you were looking\n",
        "for a straightforward account\n",
        "of either the optimization story\n",
        "(why we can fit them to training data)\n",
        "or the generalization story\n",
        "(why the resulting models generalize to unseen examples),\n",
        "then you might want to pour yourself a drink.\n",
        "While our procedures for optimizing linear models\n",
        "and the statistical properties of the solutions\n",
        "are both described well by a comprehensive body of theory,\n",
        "our understanding of deep learning\n",
        "still resembles the wild west on both fronts.\n",
        "\n",
        "Both the theory and practice of deep learning\n",
        "are rapidly evolving,\n",
        "with theorists adopting new strategies\n",
        "to explain what's going on,\n",
        "even as practitioners continue\n",
        "to innovate at a blistering pace,\n",
        "building arsenals of heuristics for training deep networks\n",
        "and a body of intuitions and folk knowledge\n",
        "that provide guidance for deciding\n",
        "which techniques to apply in which situations.\n",
        "\n",
        "The summary of the present moment is that the theory of deep learning\n",
        "has produced promising lines of attack and scattered fascinating results,\n",
        "but still appears far from a comprehensive account\n",
        "of both (i) why we are able to optimize neural networks\n",
        "and (ii) how models learned by gradient descent\n",
        "manage to generalize so well, even on high-dimensional tasks.\n",
        "However, in practice, (i) is seldom a problem\n",
        "(we can always find parameters that will fit all of our training data)\n",
        "and thus understanding generalization is far the bigger problem.\n",
        "On the other hand, even absent the comfort of a coherent scientific theory,\n",
        "practitioners have developed a large collection of techniques\n",
        "that may help you to produce models that generalize well in practice.\n",
        "While no pithy summary can possibly do justice\n",
        "to the vast topic of generalization in deep learning,\n",
        "and while the overall state of research is far from resolved,\n",
        "we hope, in this section, to present a broad overview\n",
        "of the state of research and practice.\n",
        "\n",
        "\n",
        "## Revisiting Overfitting and Regularization\n",
        "\n",
        "According to the \"no free lunch\" theorem of :citet:`wolpert1995no`,\n",
        "any learning algorithm generalizes better on data with certain distributions, and worse with other distributions.\n",
        "Thus, given a finite training set,\n",
        "a model relies on certain assumptions:\n",
        "to achieve human-level performance\n",
        "it may be useful to identify *inductive biases*\n",
        "that reflect how humans think about the world.\n",
        "Such inductive biases show preferences\n",
        "for solutions with certain properties.\n",
        "For example,\n",
        "a deep MLP has an inductive bias\n",
        "towards building up a complicated function by the composition of simpler functions.\n",
        "\n",
        "With machine learning models encoding inductive biases,\n",
        "our approach to training them\n",
        "typically consists of two phases: (i) fit the training data;\n",
        "and (ii) estimate the *generalization error*\n",
        "(the true error on the underlying population)\n",
        "by evaluating the model on holdout data.\n",
        "The difference between our fit on the training data\n",
        "and our fit on the test data is called the *generalization gap* and when this is large,\n",
        "we say that our models *overfit* to the training data.\n",
        "In extreme cases of overfitting,\n",
        "we might exactly fit the training data,\n",
        "even when the test error remains significant.\n",
        "And in the classical view,\n",
        "the interpretation is that our models are too complex,\n",
        "requiring that we either shrink the number of features,\n",
        "the number of nonzero parameters learned,\n",
        "or the size of the parameters as quantified.\n",
        "Recall the plot of model complexity compared with loss\n",
        "(:numref:`fig_capacity_vs_error`)\n",
        "from :numref:`sec_generalization_basics`.\n",
        "\n",
        "\n",
        "However deep learning complicates this picture in counterintuitive ways.\n",
        "First, for classification problems,\n",
        "our models are typically expressive enough\n",
        "to perfectly fit every training example,\n",
        "even in datasets consisting of millions\n",
        ":cite:`zhang2021understanding`.\n",
        "In the classical picture, we might think\n",
        "that this setting lies on the far right extreme\n",
        "of the model complexity axis,\n",
        "and that any improvements in generalization error\n",
        "must come by way of regularization,\n",
        "either by reducing the complexity of the model class,\n",
        "or by applying a penalty, severely constraining\n",
        "the set of values that our parameters might take.\n",
        "But that is where things start to get weird.\n",
        "\n",
        "Strangely, for many deep learning tasks\n",
        "(e.g., image recognition and text classification)\n",
        "we are typically choosing among model architectures,\n",
        "all of which can achieve arbitrarily low training loss\n",
        "(and zero training error).\n",
        "Because all models under consideration achieve zero training error,\n",
        "*the only avenue for further gains is to reduce overfitting*.\n",
        "Even stranger, it is often the case that\n",
        "despite fitting the training data perfectly,\n",
        "we can actually *reduce the generalization error*\n",
        "further by making the model *even more expressive*,\n",
        "e.g., adding layers, nodes, or training\n",
        "for a larger number of epochs.\n",
        "Stranger yet, the pattern relating the generalization gap\n",
        "to the *complexity* of the model (as captured, for example, in the depth or width of the networks)\n",
        "can be non-monotonic,\n",
        "with greater complexity hurting at first\n",
        "but subsequently helping in a so-called \"double-descent\" pattern\n",
        ":cite:`nakkiran2021deep`.\n",
        "Thus the deep learning practitioner possesses a bag of tricks,\n",
        "some of which seemingly restrict the model in some fashion\n",
        "and others that seemingly make it even more expressive,\n",
        "and all of which, in some sense, are applied to mitigate overfitting.\n",
        "\n",
        "Complicating things even further,\n",
        "while the guarantees provided by classical learning theory\n",
        "can be conservative even for classical models,\n",
        "they appear powerless to explain why it is\n",
        "that deep neural networks generalize in the first place.\n",
        "Because deep neural networks are capable of fitting\n",
        "arbitrary labels even for large datasets,\n",
        "and despite the use of familiar methods such as $\\ell_2$ regularization,\n",
        "traditional complexity-based generalization bounds,\n",
        "e.g., those based on the VC dimension\n",
        "or Rademacher complexity of a hypothesis class\n",
        "cannot explain why neural networks generalize.\n",
        "\n",
        "## Inspiration from Nonparametrics\n",
        "\n",
        "Approaching deep learning for the first time,\n",
        "it is tempting to think of them as parametric models.\n",
        "After all, the models *do* have millions of parameters.\n",
        "When we update the models, we update their parameters.\n",
        "When we save the models, we write their parameters to disk.\n",
        "However, mathematics and computer science are riddled\n",
        "with counterintuitive changes of perspective,\n",
        "and surprising isomorphisms between seemingly different problems.\n",
        "While neural networks clearly *have* parameters,\n",
        "in some ways it can be more fruitful\n",
        "to think of them as behaving like nonparametric models.\n",
        "So what precisely makes a model nonparametric?\n",
        "While the name covers a diverse set of approaches,\n",
        "one common theme is that nonparametric methods\n",
        "tend to have a level of complexity that grows\n",
        "as the amount of available data grows.\n",
        "\n",
        "Perhaps the simplest example of a nonparametric model\n",
        "is the $k$-nearest neighbor algorithm (we will cover more nonparametric models later, for example in :numref:`sec_attention-pooling`).\n",
        "Here, at training time,\n",
        "the learner simply memorizes the dataset.\n",
        "Then, at prediction time,\n",
        "when confronted with a new point $\\mathbf{x}$,\n",
        "the learner looks up the $k$ nearest neighbors\n",
        "(the $k$ points $\\mathbf{x}_i'$ that minimize\n",
        "some distance $d(\\mathbf{x}, \\mathbf{x}_i')$).\n",
        "When $k=1$, this algorithm is called $1$-nearest neighbors,\n",
        "and the algorithm will always achieve a training error of zero.\n",
        "That however, does not mean that the algorithm will not generalize.\n",
        "In fact, it turns out that under some mild conditions,\n",
        "the 1-nearest neighbor algorithm is consistent\n",
        "(eventually converging to the optimal predictor).\n",
        "\n",
        "\n",
        "Note that $1$-nearest neighbor requires that we specify\n",
        "some distance function $d$, or equivalently,\n",
        "that we specify some vector-valued basis function $\\phi(\\mathbf{x})$\n",
        "for featurizing our data.\n",
        "For any choice of the distance metric,\n",
        "we will achieve zero training error\n",
        "and eventually reach an optimal predictor,\n",
        "but different distance metrics $d$\n",
        "encode different inductive biases\n",
        "and with a finite amount of available data\n",
        "will yield different predictors.\n",
        "Different choices of the distance metric $d$\n",
        "represent different assumptions about the underlying patterns\n",
        "and the performance of the different predictors\n",
        "will depend on how compatible the assumptions\n",
        "are with the observed data.\n",
        "\n",
        "In a sense, because neural networks are over-parametrized,\n",
        "possessing many more parameters than are needed to fit the training data,\n",
        "they tend to *interpolate* the training data (fitting it perfectly)\n",
        "and thus behave, in some ways, more like nonparametric models.\n",
        "More recent theoretical research has established\n",
        "deep connection between large neural networks\n",
        "and nonparametric methods, notably kernel methods.\n",
        "In particular, :citet:`Jacot.Grabriel.Hongler.2018`\n",
        "demonstrated that in the limit, as multilayer perceptrons\n",
        "with randomly initialized weights grow infinitely wide,\n",
        "they become equivalent to (nonparametric) kernel methods\n",
        "for a specific choice of the kernel function\n",
        "(essentially, a distance function),\n",
        "which they call the neural tangent kernel.\n",
        "While current neural tangent kernel models may not fully explain\n",
        "the behavior of modern deep networks,\n",
        "their success as an analytical tool\n",
        "underscores the usefulness of nonparametric modeling\n",
        "for understanding the behavior of over-parametrized deep networks.\n",
        "\n",
        "\n",
        "## Early Stopping\n",
        "\n",
        "While deep neural networks are capable of fitting arbitrary labels,\n",
        "even when labels are assigned incorrectly or randomly\n",
        ":cite:`zhang2021understanding`,\n",
        "this capability only emerges over many iterations of training.\n",
        "A new line of work :cite:`Rolnick.Veit.Belongie.Shavit.2017`\n",
        "has revealed that in the setting of label noise,\n",
        "neural networks tend to fit cleanly labeled data first\n",
        "and only subsequently to interpolate the mislabeled data.\n",
        "Moreover, it has been established that this phenomenon\n",
        "translates directly into a guarantee on generalization:\n",
        "whenever a model has fitted the cleanly labeled data\n",
        "but not randomly labeled examples included in the training set,\n",
        "it has in fact generalized :cite:`Garg.Balakrishnan.Kolter.Lipton.2021`.\n",
        "\n",
        "Together these findings help to motivate *early stopping*,\n",
        "a classic technique for regularizing deep neural networks.\n",
        "Here, rather than directly constraining the values of the weights,\n",
        "one constrains the number of epochs of training.\n",
        "The most common way to determine the stopping criterion\n",
        "is to monitor validation error throughout training\n",
        "(typically by checking once after each epoch)\n",
        "and to cut off training when the validation error\n",
        "has not decreased by more than some small amount $\\epsilon$\n",
        "for some number of epochs.\n",
        "This is sometimes called a *patience criterion*.\n",
        "As well as the potential to lead to better generalization\n",
        "in the setting of noisy labels,\n",
        "another benefit of early stopping is the time saved.\n",
        "Once the patience criterion is met, one can terminate training.\n",
        "For large models that might require days of training\n",
        "simultaneously across eight or more GPUs,\n",
        "well-tuned early stopping can save researchers days of time\n",
        "and can save their employers many thousands of dollars.\n",
        "\n",
        "Notably, when there is no label noise and datasets are *realizable*\n",
        "(the classes are truly separable, e.g., distinguishing cats from dogs),\n",
        "early stopping tends not to lead to significant improvements in generalization.\n",
        "On the other hand, when there is label noise,\n",
        "or intrinsic variability in the label\n",
        "(e.g., predicting mortality among patients),\n",
        "early stopping is crucial.\n",
        "Training models until they interpolate noisy data is typically a bad idea.\n",
        "\n",
        "\n",
        "## Classical Regularization Methods for Deep Networks\n",
        "\n",
        "In :numref:`chap_regression`, we described\n",
        "several  classical regularization techniques\n",
        "for constraining the complexity of our models.\n",
        "In particular, :numref:`sec_weight_decay`\n",
        "introduced a method called weight decay,\n",
        "which consists of adding a regularization term to the loss function\n",
        "in order to penalize large values of the weights.\n",
        "Depending on which weight norm is penalized\n",
        "this technique is known either as ridge regularization (for $\\ell_2$ penalty)\n",
        "or lasso regularization (for an $\\ell_1$ penalty).\n",
        "In the classical analysis of these regularizers,\n",
        "they are considered as sufficiently restrictive on the values\n",
        "that the weights can take to prevent the model from fitting arbitrary labels.\n",
        "\n",
        "In deep learning implementations,\n",
        "weight decay remains a popular tool.\n",
        "However, researchers have noted\n",
        "that typical strengths of $\\ell_2$ regularization\n",
        "are insufficient to prevent the networks\n",
        "from interpolating the data :cite:`zhang2021understanding` and thus the benefits if interpreted\n",
        "as regularization might only make sense\n",
        "in combination with the early stopping criterion.\n",
        "Absent early stopping, it is possible\n",
        "that just like the number of layers\n",
        "or number of nodes (in deep learning)\n",
        "or the distance metric (in 1-nearest neighbor),\n",
        "these methods may lead to better generalization\n",
        "not because they meaningfully constrain\n",
        "the power of the neural network\n",
        "but rather because they somehow encode inductive biases\n",
        "that are better compatible with the patterns\n",
        "found in datasets of interests.\n",
        "Thus, classical regularizers remain popular\n",
        "in deep learning implementations,\n",
        "even if the theoretical rationale\n",
        "for their efficacy may be radically different.\n",
        "\n",
        "Notably, deep learning researchers have also built\n",
        "on techniques first popularized\n",
        "in classical regularization contexts,\n",
        "such as adding noise to model inputs.\n",
        "In the next section we will introduce\n",
        "the famous dropout technique\n",
        "(invented by :citet:`Srivastava.Hinton.Krizhevsky.ea.2014`),\n",
        "which has become a mainstay of deep learning,\n",
        "even as the theoretical basis for its efficacy\n",
        "remains similarly mysterious.\n",
        "\n",
        "\n",
        "## Summary\n",
        "\n",
        "Unlike classical linear models,\n",
        "which tend to have fewer parameters than examples,\n",
        "deep networks tend to be over-parametrized,\n",
        "and for most tasks are capable\n",
        "of perfectly fitting the training set.\n",
        "This *interpolation regime* challenges\n",
        "many hard fast-held intuitions.\n",
        "Functionally, neural networks look like parametric models.\n",
        "But thinking of them as nonparametric models\n",
        "can sometimes be a more reliable source of intuition.\n",
        "Because it is often the case that all deep networks under consideration\n",
        "are capable of fitting all of the training labels,\n",
        "nearly all gains must come by mitigating overfitting\n",
        "(closing the *generalization gap*).\n",
        "Paradoxically, the interventions\n",
        "that reduce the generalization gap\n",
        "sometimes appear to increase model complexity\n",
        "and at other times appear to decrease complexity.\n",
        "However, these methods seldom decrease complexity\n",
        "sufficiently for classical theory\n",
        "to explain the generalization of deep networks,\n",
        "and *why certain choices lead to improved generalization*\n",
        "remains for the most part a massive open question\n",
        "despite the concerted efforts of many brilliant researchers.\n",
        "\n",
        "\n",
        "## Exercises\n",
        "\n",
        "1. In what sense do traditional complexity-based measures fail to account for generalization of deep neural networks?\n",
        "1. Why might *early stopping* be considered a regularization technique?\n",
        "1. How do researchers typically determine the stopping criterion?\n",
        "1. What important factor seems to differentiate cases when early stopping leads to big improvements in generalization?\n",
        "1. Beyond generalization, describe another benefit of early stopping.\n",
        "\n",
        "[Discussions](https://discuss.d2l.ai/t/7473)\n"
      ]
    },
    {
      "cell_type": "markdown",
      "id": "2305fae7",
      "metadata": {
        "id": "2305fae7"
      },
      "source": [
        "The following additional libraries are needed to run this\n",
        "notebook. Note that running on Colab is experimental, please report a Github\n",
        "issue if you have any problem."
      ]
    },
    {
      "cell_type": "markdown",
      "id": "f4709271",
      "metadata": {
        "id": "f4709271",
        "origin_pos": 1
      },
      "source": [
        "# Dropout\n",
        ":label:`sec_dropout`\n",
        "\n",
        "\n",
        "Let's think briefly about what we\n",
        "expect from a good predictive model.\n",
        "We want it to peform well on unseen data.\n",
        "Classical generalization theory\n",
        "suggests that to close the gap between\n",
        "train and test performance,\n",
        "we should aim for a simple model.\n",
        "Simplicity can come in the form\n",
        "of a small number of dimensions.\n",
        "We explored this when discussing the\n",
        "monomial basis functions of linear models\n",
        "in :numref:`sec_generalization_basics`.\n",
        "Additionally, as we saw when discussing weight decay\n",
        "($\\ell_2$ regularization) in :numref:`sec_weight_decay`,\n",
        "the (inverse) norm of the parameters also\n",
        "represents a useful measure of simplicity.\n",
        "Another useful notion of simplicity is smoothness,\n",
        "i.e., that the function should not be sensitive\n",
        "to small changes to its inputs.\n",
        "For instance, when we classify images,\n",
        "we would expect that adding some random noise\n",
        "to the pixels should be mostly harmless.\n",
        "\n",
        ":citet:`Bishop.1995` formalized\n",
        "this idea when he proved that training with input noise\n",
        "is equivalent to Tikhonov regularization.\n",
        "This work drew a clear mathematical connection\n",
        "between the requirement that a function be smooth (and thus simple),\n",
        "and the requirement that it be resilient\n",
        "to perturbations in the input.\n",
        "\n",
        "Then, :citet:`Srivastava.Hinton.Krizhevsky.ea.2014`\n",
        "developed a clever idea for how to apply Bishop's idea\n",
        "to the internal layers of a network, too.\n",
        "Their idea, called *dropout*, involves\n",
        "injecting noise while computing\n",
        "each internal layer during forward propagation,\n",
        "and it has become a standard technique\n",
        "for training neural networks.\n",
        "The method is called *dropout* because we literally\n",
        "*drop out* some neurons during training.\n",
        "Throughout training, on each iteration,\n",
        "standard dropout consists of zeroing out\n",
        "some fraction of the nodes in each layer\n",
        "before calculating the subsequent layer.\n",
        "\n",
        "To be clear, we are imposing\n",
        "our own narrative with the link to Bishop.\n",
        "The original paper on dropout\n",
        "offers intuition through a surprising\n",
        "analogy to sexual reproduction.\n",
        "The authors argue that neural network overfitting\n",
        "is characterized by a state in which\n",
        "each layer relies on a specific\n",
        "pattern of activations in the previous layer,\n",
        "calling this condition *co-adaptation*.\n",
        "Dropout, they claim, breaks up co-adaptation\n",
        "just as sexual reproduction is argued to\n",
        "break up co-adapted genes.\n",
        "While such an justification of this theory is certainly up for debate,\n",
        "the dropout technique itself has proved enduring,\n",
        "and various forms of dropout are implemented\n",
        "in most deep learning libraries.\n",
        "\n",
        "\n",
        "The key challenge is how to inject this noise.\n",
        "One idea is to inject it in an *unbiased* manner\n",
        "so that the expected value of each layer---while fixing\n",
        "the others---equals the value it would have taken absent noise.\n",
        "In Bishop's work, he added Gaussian noise\n",
        "to the inputs to a linear model.\n",
        "At each training iteration, he added noise\n",
        "sampled from a distribution with mean zero\n",
        "$\\epsilon \\sim \\mathcal{N}(0,\\sigma^2)$ to the input $\\mathbf{x}$,\n",
        "yielding a perturbed point $\\mathbf{x}' = \\mathbf{x} + \\epsilon$.\n",
        "In expectation, $E[\\mathbf{x}'] = \\mathbf{x}$.\n",
        "\n",
        "In standard dropout regularization,\n",
        "one zeros out some fraction of the nodes in each layer\n",
        "and then *debiases* each layer by normalizing\n",
        "by the fraction of nodes that were retained (not dropped out).\n",
        "In other words,\n",
        "with *dropout probability* $p$,\n",
        "each intermediate activation $h$ is replaced by\n",
        "a random variable $h'$ as follows:\n",
        "\n",
        "$$\n",
        "\\begin{aligned}\n",
        "h' =\n",
        "\\begin{cases}\n",
        "    0 & \\textrm{ with probability } p \\\\\n",
        "    \\frac{h}{1-p} & \\textrm{ otherwise}\n",
        "\\end{cases}\n",
        "\\end{aligned}\n",
        "$$\n",
        "\n",
        "By design, the expectation remains unchanged, i.e., $E[h'] = h$.\n"
      ]
    },
    {
      "cell_type": "code",
      "execution_count": null,
      "id": "54feb90c",
      "metadata": {
        "execution": {
          "iopub.execute_input": "2023-08-18T19:33:10.343768Z",
          "iopub.status.busy": "2023-08-18T19:33:10.343431Z",
          "iopub.status.idle": "2023-08-18T19:33:13.572271Z",
          "shell.execute_reply": "2023-08-18T19:33:13.571155Z"
        },
        "id": "54feb90c",
        "origin_pos": 3,
        "tab": [
          "pytorch"
        ]
      },
      "outputs": [],
      "source": [
        "import torch\n",
        "from torch import nn\n",
        "from d2l import torch as d2l"
      ]
    },
    {
      "cell_type": "markdown",
      "id": "4a048453",
      "metadata": {
        "id": "4a048453",
        "origin_pos": 6
      },
      "source": [
        "## Dropout in Practice\n",
        "\n",
        "Recall the MLP with a hidden layer and five hidden units\n",
        "from :numref:`fig_mlp`.\n",
        "When we apply dropout to a hidden layer,\n",
        "zeroing out each hidden unit with probability $p$,\n",
        "the result can be viewed as a network\n",
        "containing only a subset of the original neurons.\n",
        "In :numref:`fig_dropout2`, $h_2$ and $h_5$ are removed.\n",
        "Consequently, the calculation of the outputs\n",
        "no longer depends on $h_2$ or $h_5$\n",
        "and their respective gradient also vanishes\n",
        "when performing backpropagation.\n",
        "In this way, the calculation of the output layer\n",
        "cannot be overly dependent on any\n",
        "one element of $h_1, \\ldots, h_5$.\n",
        "\n",
        "![MLP before and after dropout.](http://d2l.ai/_images/dropout2.svg)\n",
        ":label:`fig_dropout2`\n",
        "\n",
        "Typically, we disable dropout at test time.\n",
        "Given a trained model and a new example,\n",
        "we do not drop out any nodes\n",
        "and thus do not need to normalize.\n",
        "However, there are some exceptions:\n",
        "some researchers use dropout at test time as a heuristic\n",
        "for estimating the *uncertainty* of neural network predictions:\n",
        "if the predictions agree across many different dropout outputs,\n",
        "then we might say that the network is more confident.\n",
        "\n",
        "## Implementation from Scratch\n",
        "\n",
        "To implement the dropout function for a single layer,\n",
        "we must draw as many samples\n",
        "from a Bernoulli (binary) random variable\n",
        "as our layer has dimensions,\n",
        "where the random variable takes value $1$ (keep)\n",
        "with probability $1-p$ and $0$ (drop) with probability $p$.\n",
        "One easy way to implement this is to first draw samples\n",
        "from the uniform distribution $U[0, 1]$.\n",
        "Then we can keep those nodes for which the corresponding\n",
        "sample is greater than $p$, dropping the rest.\n",
        "\n",
        "In the following code, we (**implement a `dropout_layer` function\n",
        "that drops out the elements in the tensor input `X`\n",
        "with probability `dropout`**),\n",
        "rescaling the remainder as described above:\n",
        "dividing the survivors by `1.0-dropout`.\n"
      ]
    },
    {
      "cell_type": "code",
      "execution_count": null,
      "id": "dcda4b93",
      "metadata": {
        "execution": {
          "iopub.execute_input": "2023-08-18T19:33:13.577007Z",
          "iopub.status.busy": "2023-08-18T19:33:13.576588Z",
          "iopub.status.idle": "2023-08-18T19:33:13.582474Z",
          "shell.execute_reply": "2023-08-18T19:33:13.581632Z"
        },
        "id": "dcda4b93",
        "origin_pos": 8,
        "tab": [
          "pytorch"
        ]
      },
      "outputs": [],
      "source": [
        "def dropout_layer(X, dropout):\n",
        "    assert 0 <= dropout <= 1\n",
        "    if dropout == 1: return torch.zeros_like(X)\n",
        "    mask = (torch.rand(X.shape) > dropout).float()\n",
        "    return mask * X / (1.0 - dropout)"
      ]
    },
    {
      "cell_type": "markdown",
      "id": "7a0d5f19",
      "metadata": {
        "id": "7a0d5f19",
        "origin_pos": 11
      },
      "source": [
        "We can [**test out the `dropout_layer` function on a few examples**].\n",
        "In the following lines of code,\n",
        "we pass our input `X` through the dropout operation,\n",
        "with probabilities 0, 0.5, and 1, respectively.\n"
      ]
    },
    {
      "cell_type": "code",
      "execution_count": null,
      "id": "1effb931",
      "metadata": {
        "execution": {
          "iopub.execute_input": "2023-08-18T19:33:13.587061Z",
          "iopub.status.busy": "2023-08-18T19:33:13.586226Z",
          "iopub.status.idle": "2023-08-18T19:33:13.614970Z",
          "shell.execute_reply": "2023-08-18T19:33:13.614053Z"
        },
        "id": "1effb931",
        "origin_pos": 12,
        "outputId": "1896d2af-d6ed-4668-92d0-44075ef4f863",
        "tab": [
          "pytorch"
        ],
        "colab": {
          "base_uri": "https://localhost:8080/"
        }
      },
      "outputs": [
        {
          "output_type": "stream",
          "name": "stdout",
          "text": [
            "dropout_p = 0: tensor([[ 0.,  1.,  2.,  3.,  4.,  5.,  6.,  7.],\n",
            "        [ 8.,  9., 10., 11., 12., 13., 14., 15.]])\n",
            "dropout_p = 0.5: tensor([[ 0.,  2.,  4.,  6.,  8.,  0.,  0., 14.],\n",
            "        [ 0., 18.,  0.,  0.,  0.,  0.,  0., 30.]])\n",
            "dropout_p = 1: tensor([[0., 0., 0., 0., 0., 0., 0., 0.],\n",
            "        [0., 0., 0., 0., 0., 0., 0., 0.]])\n"
          ]
        }
      ],
      "source": [
        "X = torch.arange(16, dtype = torch.float32).reshape((2, 8))\n",
        "print('dropout_p = 0:', dropout_layer(X, 0))\n",
        "print('dropout_p = 0.5:', dropout_layer(X, 0.5))\n",
        "print('dropout_p = 1:', dropout_layer(X, 1))"
      ]
    },
    {
      "cell_type": "markdown",
      "id": "087cdc90",
      "metadata": {
        "id": "087cdc90",
        "origin_pos": 13
      },
      "source": [
        "### Defining the Model\n",
        "\n",
        "The model below applies dropout to the output\n",
        "of each hidden layer (following the activation function).\n",
        "We can set dropout probabilities for each layer separately.\n",
        "A common choice is to set\n",
        "a lower dropout probability closer to the input layer.\n",
        "We ensure that dropout is only active during training.\n"
      ]
    },
    {
      "cell_type": "code",
      "execution_count": null,
      "id": "a98d0264",
      "metadata": {
        "execution": {
          "iopub.execute_input": "2023-08-18T19:33:13.618877Z",
          "iopub.status.busy": "2023-08-18T19:33:13.618261Z",
          "iopub.status.idle": "2023-08-18T19:33:13.626219Z",
          "shell.execute_reply": "2023-08-18T19:33:13.625088Z"
        },
        "id": "a98d0264",
        "origin_pos": 15,
        "tab": [
          "pytorch"
        ]
      },
      "outputs": [],
      "source": [
        "class DropoutMLPScratch(d2l.Classifier):\n",
        "    def __init__(self, num_outputs, num_hiddens_1, num_hiddens_2,\n",
        "                 dropout_1, dropout_2, lr):\n",
        "        super().__init__()\n",
        "        self.save_hyperparameters()\n",
        "        self.lin1 = nn.LazyLinear(num_hiddens_1)\n",
        "        self.lin2 = nn.LazyLinear(num_hiddens_2)\n",
        "        self.lin3 = nn.LazyLinear(num_outputs)\n",
        "        self.relu = nn.ReLU()\n",
        "\n",
        "    def forward(self, X):\n",
        "        H1 = self.relu(self.lin1(X.reshape((X.shape[0], -1))))\n",
        "        if self.training:\n",
        "            H1 = dropout_layer(H1, self.dropout_1)\n",
        "        H2 = self.relu(self.lin2(H1))\n",
        "        if self.training:\n",
        "            H2 = dropout_layer(H2, self.dropout_2)\n",
        "        return self.lin3(H2)"
      ]
    },
    {
      "cell_type": "markdown",
      "id": "2793a6d2",
      "metadata": {
        "id": "2793a6d2",
        "origin_pos": 18
      },
      "source": [
        "### [**Training**]\n",
        "\n",
        "The following is similar to the training of MLPs described previously.\n"
      ]
    },
    {
      "cell_type": "code",
      "execution_count": null,
      "id": "12f6e01f",
      "metadata": {
        "execution": {
          "iopub.execute_input": "2023-08-18T19:33:13.630286Z",
          "iopub.status.busy": "2023-08-18T19:33:13.629522Z",
          "iopub.status.idle": "2023-08-18T19:34:13.198615Z",
          "shell.execute_reply": "2023-08-18T19:34:13.197238Z"
        },
        "id": "12f6e01f",
        "origin_pos": 19,
        "outputId": "32acbfcf-d948-4e6e-a9d4-a39bcfdbc8ec",
        "tab": [
          "pytorch"
        ],
        "colab": {
          "base_uri": "https://localhost:8080/",
          "height": 266
        }
      },
      "outputs": [
        {
          "output_type": "display_data",
          "data": {
            "text/plain": [
              "<Figure size 350x250 with 1 Axes>"
            ],
            "image/svg+xml": "<?xml version=\"1.0\" encoding=\"utf-8\" standalone=\"no\"?>\n<!DOCTYPE svg PUBLIC \"-//W3C//DTD SVG 1.1//EN\"\n  \"http://www.w3.org/Graphics/SVG/1.1/DTD/svg11.dtd\">\n<svg xmlns:xlink=\"http://www.w3.org/1999/xlink\" width=\"238.965625pt\" height=\"183.35625pt\" viewBox=\"0 0 238.965625 183.35625\" xmlns=\"http://www.w3.org/2000/svg\" version=\"1.1\">\n <metadata>\n  <rdf:RDF xmlns:dc=\"http://purl.org/dc/elements/1.1/\" xmlns:cc=\"http://creativecommons.org/ns#\" xmlns:rdf=\"http://www.w3.org/1999/02/22-rdf-syntax-ns#\">\n   <cc:Work>\n    <dc:type rdf:resource=\"http://purl.org/dc/dcmitype/StillImage\"/>\n    <dc:date>2024-09-13T08:40:05.622476</dc:date>\n    <dc:format>image/svg+xml</dc:format>\n    <dc:creator>\n     <cc:Agent>\n      <dc:title>Matplotlib v3.7.2, https://matplotlib.org/</dc:title>\n     </cc:Agent>\n    </dc:creator>\n   </cc:Work>\n  </rdf:RDF>\n </metadata>\n <defs>\n  <style type=\"text/css\">*{stroke-linejoin: round; stroke-linecap: butt}</style>\n </defs>\n <g id=\"figure_1\">\n  <g id=\"patch_1\">\n   <path d=\"M 0 183.35625 \nL 238.965625 183.35625 \nL 238.965625 0 \nL 0 0 \nz\n\" style=\"fill: #ffffff\"/>\n  </g>\n  <g id=\"axes_1\">\n   <g id=\"patch_2\">\n    <path d=\"M 30.103125 145.8 \nL 225.403125 145.8 \nL 225.403125 7.2 \nL 30.103125 7.2 \nz\n\" style=\"fill: #ffffff\"/>\n   </g>\n   <g id=\"matplotlib.axis_1\">\n    <g id=\"xtick_1\">\n     <g id=\"line2d_1\">\n      <defs>\n       <path id=\"mc81f83d470\" d=\"M 0 0 \nL 0 3.5 \n\" style=\"stroke: #000000; stroke-width: 0.8\"/>\n      </defs>\n      <g>\n       <use xlink:href=\"#mc81f83d470\" x=\"30.103125\" y=\"145.8\" style=\"stroke: #000000; stroke-width: 0.8\"/>\n      </g>\n     </g>\n     <g id=\"text_1\">\n      <!-- 0 -->\n      <g transform=\"translate(26.921875 160.398438) scale(0.1 -0.1)\">\n       <defs>\n        <path id=\"DejaVuSans-30\" d=\"M 2034 4250 \nQ 1547 4250 1301 3770 \nQ 1056 3291 1056 2328 \nQ 1056 1369 1301 889 \nQ 1547 409 2034 409 \nQ 2525 409 2770 889 \nQ 3016 1369 3016 2328 \nQ 3016 3291 2770 3770 \nQ 2525 4250 2034 4250 \nz\nM 2034 4750 \nQ 2819 4750 3233 4129 \nQ 3647 3509 3647 2328 \nQ 3647 1150 3233 529 \nQ 2819 -91 2034 -91 \nQ 1250 -91 836 529 \nQ 422 1150 422 2328 \nQ 422 3509 836 4129 \nQ 1250 4750 2034 4750 \nz\n\" transform=\"scale(0.015625)\"/>\n       </defs>\n       <use xlink:href=\"#DejaVuSans-30\"/>\n      </g>\n     </g>\n    </g>\n    <g id=\"xtick_2\">\n     <g id=\"line2d_2\">\n      <g>\n       <use xlink:href=\"#mc81f83d470\" x=\"69.163125\" y=\"145.8\" style=\"stroke: #000000; stroke-width: 0.8\"/>\n      </g>\n     </g>\n     <g id=\"text_2\">\n      <!-- 2 -->\n      <g transform=\"translate(65.981875 160.398438) scale(0.1 -0.1)\">\n       <defs>\n        <path id=\"DejaVuSans-32\" d=\"M 1228 531 \nL 3431 531 \nL 3431 0 \nL 469 0 \nL 469 531 \nQ 828 903 1448 1529 \nQ 2069 2156 2228 2338 \nQ 2531 2678 2651 2914 \nQ 2772 3150 2772 3378 \nQ 2772 3750 2511 3984 \nQ 2250 4219 1831 4219 \nQ 1534 4219 1204 4116 \nQ 875 4013 500 3803 \nL 500 4441 \nQ 881 4594 1212 4672 \nQ 1544 4750 1819 4750 \nQ 2544 4750 2975 4387 \nQ 3406 4025 3406 3419 \nQ 3406 3131 3298 2873 \nQ 3191 2616 2906 2266 \nQ 2828 2175 2409 1742 \nQ 1991 1309 1228 531 \nz\n\" transform=\"scale(0.015625)\"/>\n       </defs>\n       <use xlink:href=\"#DejaVuSans-32\"/>\n      </g>\n     </g>\n    </g>\n    <g id=\"xtick_3\">\n     <g id=\"line2d_3\">\n      <g>\n       <use xlink:href=\"#mc81f83d470\" x=\"108.223125\" y=\"145.8\" style=\"stroke: #000000; stroke-width: 0.8\"/>\n      </g>\n     </g>\n     <g id=\"text_3\">\n      <!-- 4 -->\n      <g transform=\"translate(105.041875 160.398438) scale(0.1 -0.1)\">\n       <defs>\n        <path id=\"DejaVuSans-34\" d=\"M 2419 4116 \nL 825 1625 \nL 2419 1625 \nL 2419 4116 \nz\nM 2253 4666 \nL 3047 4666 \nL 3047 1625 \nL 3713 1625 \nL 3713 1100 \nL 3047 1100 \nL 3047 0 \nL 2419 0 \nL 2419 1100 \nL 313 1100 \nL 313 1709 \nL 2253 4666 \nz\n\" transform=\"scale(0.015625)\"/>\n       </defs>\n       <use xlink:href=\"#DejaVuSans-34\"/>\n      </g>\n     </g>\n    </g>\n    <g id=\"xtick_4\">\n     <g id=\"line2d_4\">\n      <g>\n       <use xlink:href=\"#mc81f83d470\" x=\"147.283125\" y=\"145.8\" style=\"stroke: #000000; stroke-width: 0.8\"/>\n      </g>\n     </g>\n     <g id=\"text_4\">\n      <!-- 6 -->\n      <g transform=\"translate(144.101875 160.398438) scale(0.1 -0.1)\">\n       <defs>\n        <path id=\"DejaVuSans-36\" d=\"M 2113 2584 \nQ 1688 2584 1439 2293 \nQ 1191 2003 1191 1497 \nQ 1191 994 1439 701 \nQ 1688 409 2113 409 \nQ 2538 409 2786 701 \nQ 3034 994 3034 1497 \nQ 3034 2003 2786 2293 \nQ 2538 2584 2113 2584 \nz\nM 3366 4563 \nL 3366 3988 \nQ 3128 4100 2886 4159 \nQ 2644 4219 2406 4219 \nQ 1781 4219 1451 3797 \nQ 1122 3375 1075 2522 \nQ 1259 2794 1537 2939 \nQ 1816 3084 2150 3084 \nQ 2853 3084 3261 2657 \nQ 3669 2231 3669 1497 \nQ 3669 778 3244 343 \nQ 2819 -91 2113 -91 \nQ 1303 -91 875 529 \nQ 447 1150 447 2328 \nQ 447 3434 972 4092 \nQ 1497 4750 2381 4750 \nQ 2619 4750 2861 4703 \nQ 3103 4656 3366 4563 \nz\n\" transform=\"scale(0.015625)\"/>\n       </defs>\n       <use xlink:href=\"#DejaVuSans-36\"/>\n      </g>\n     </g>\n    </g>\n    <g id=\"xtick_5\">\n     <g id=\"line2d_5\">\n      <g>\n       <use xlink:href=\"#mc81f83d470\" x=\"186.343125\" y=\"145.8\" style=\"stroke: #000000; stroke-width: 0.8\"/>\n      </g>\n     </g>\n     <g id=\"text_5\">\n      <!-- 8 -->\n      <g transform=\"translate(183.161875 160.398438) scale(0.1 -0.1)\">\n       <defs>\n        <path id=\"DejaVuSans-38\" d=\"M 2034 2216 \nQ 1584 2216 1326 1975 \nQ 1069 1734 1069 1313 \nQ 1069 891 1326 650 \nQ 1584 409 2034 409 \nQ 2484 409 2743 651 \nQ 3003 894 3003 1313 \nQ 3003 1734 2745 1975 \nQ 2488 2216 2034 2216 \nz\nM 1403 2484 \nQ 997 2584 770 2862 \nQ 544 3141 544 3541 \nQ 544 4100 942 4425 \nQ 1341 4750 2034 4750 \nQ 2731 4750 3128 4425 \nQ 3525 4100 3525 3541 \nQ 3525 3141 3298 2862 \nQ 3072 2584 2669 2484 \nQ 3125 2378 3379 2068 \nQ 3634 1759 3634 1313 \nQ 3634 634 3220 271 \nQ 2806 -91 2034 -91 \nQ 1263 -91 848 271 \nQ 434 634 434 1313 \nQ 434 1759 690 2068 \nQ 947 2378 1403 2484 \nz\nM 1172 3481 \nQ 1172 3119 1398 2916 \nQ 1625 2713 2034 2713 \nQ 2441 2713 2670 2916 \nQ 2900 3119 2900 3481 \nQ 2900 3844 2670 4047 \nQ 2441 4250 2034 4250 \nQ 1625 4250 1398 4047 \nQ 1172 3844 1172 3481 \nz\n\" transform=\"scale(0.015625)\"/>\n       </defs>\n       <use xlink:href=\"#DejaVuSans-38\"/>\n      </g>\n     </g>\n    </g>\n    <g id=\"xtick_6\">\n     <g id=\"line2d_6\">\n      <g>\n       <use xlink:href=\"#mc81f83d470\" x=\"225.403125\" y=\"145.8\" style=\"stroke: #000000; stroke-width: 0.8\"/>\n      </g>\n     </g>\n     <g id=\"text_6\">\n      <!-- 10 -->\n      <g transform=\"translate(219.040625 160.398438) scale(0.1 -0.1)\">\n       <defs>\n        <path id=\"DejaVuSans-31\" d=\"M 794 531 \nL 1825 531 \nL 1825 4091 \nL 703 3866 \nL 703 4441 \nL 1819 4666 \nL 2450 4666 \nL 2450 531 \nL 3481 531 \nL 3481 0 \nL 794 0 \nL 794 531 \nz\n\" transform=\"scale(0.015625)\"/>\n       </defs>\n       <use xlink:href=\"#DejaVuSans-31\"/>\n       <use xlink:href=\"#DejaVuSans-30\" x=\"63.623047\"/>\n      </g>\n     </g>\n    </g>\n    <g id=\"text_7\">\n     <!-- epoch -->\n     <g transform=\"translate(112.525 174.076563) scale(0.1 -0.1)\">\n      <defs>\n       <path id=\"DejaVuSans-65\" d=\"M 3597 1894 \nL 3597 1613 \nL 953 1613 \nQ 991 1019 1311 708 \nQ 1631 397 2203 397 \nQ 2534 397 2845 478 \nQ 3156 559 3463 722 \nL 3463 178 \nQ 3153 47 2828 -22 \nQ 2503 -91 2169 -91 \nQ 1331 -91 842 396 \nQ 353 884 353 1716 \nQ 353 2575 817 3079 \nQ 1281 3584 2069 3584 \nQ 2775 3584 3186 3129 \nQ 3597 2675 3597 1894 \nz\nM 3022 2063 \nQ 3016 2534 2758 2815 \nQ 2500 3097 2075 3097 \nQ 1594 3097 1305 2825 \nQ 1016 2553 972 2059 \nL 3022 2063 \nz\n\" transform=\"scale(0.015625)\"/>\n       <path id=\"DejaVuSans-70\" d=\"M 1159 525 \nL 1159 -1331 \nL 581 -1331 \nL 581 3500 \nL 1159 3500 \nL 1159 2969 \nQ 1341 3281 1617 3432 \nQ 1894 3584 2278 3584 \nQ 2916 3584 3314 3078 \nQ 3713 2572 3713 1747 \nQ 3713 922 3314 415 \nQ 2916 -91 2278 -91 \nQ 1894 -91 1617 61 \nQ 1341 213 1159 525 \nz\nM 3116 1747 \nQ 3116 2381 2855 2742 \nQ 2594 3103 2138 3103 \nQ 1681 3103 1420 2742 \nQ 1159 2381 1159 1747 \nQ 1159 1113 1420 752 \nQ 1681 391 2138 391 \nQ 2594 391 2855 752 \nQ 3116 1113 3116 1747 \nz\n\" transform=\"scale(0.015625)\"/>\n       <path id=\"DejaVuSans-6f\" d=\"M 1959 3097 \nQ 1497 3097 1228 2736 \nQ 959 2375 959 1747 \nQ 959 1119 1226 758 \nQ 1494 397 1959 397 \nQ 2419 397 2687 759 \nQ 2956 1122 2956 1747 \nQ 2956 2369 2687 2733 \nQ 2419 3097 1959 3097 \nz\nM 1959 3584 \nQ 2709 3584 3137 3096 \nQ 3566 2609 3566 1747 \nQ 3566 888 3137 398 \nQ 2709 -91 1959 -91 \nQ 1206 -91 779 398 \nQ 353 888 353 1747 \nQ 353 2609 779 3096 \nQ 1206 3584 1959 3584 \nz\n\" transform=\"scale(0.015625)\"/>\n       <path id=\"DejaVuSans-63\" d=\"M 3122 3366 \nL 3122 2828 \nQ 2878 2963 2633 3030 \nQ 2388 3097 2138 3097 \nQ 1578 3097 1268 2742 \nQ 959 2388 959 1747 \nQ 959 1106 1268 751 \nQ 1578 397 2138 397 \nQ 2388 397 2633 464 \nQ 2878 531 3122 666 \nL 3122 134 \nQ 2881 22 2623 -34 \nQ 2366 -91 2075 -91 \nQ 1284 -91 818 406 \nQ 353 903 353 1747 \nQ 353 2603 823 3093 \nQ 1294 3584 2113 3584 \nQ 2378 3584 2631 3529 \nQ 2884 3475 3122 3366 \nz\n\" transform=\"scale(0.015625)\"/>\n       <path id=\"DejaVuSans-68\" d=\"M 3513 2113 \nL 3513 0 \nL 2938 0 \nL 2938 2094 \nQ 2938 2591 2744 2837 \nQ 2550 3084 2163 3084 \nQ 1697 3084 1428 2787 \nQ 1159 2491 1159 1978 \nL 1159 0 \nL 581 0 \nL 581 4863 \nL 1159 4863 \nL 1159 2956 \nQ 1366 3272 1645 3428 \nQ 1925 3584 2291 3584 \nQ 2894 3584 3203 3211 \nQ 3513 2838 3513 2113 \nz\n\" transform=\"scale(0.015625)\"/>\n      </defs>\n      <use xlink:href=\"#DejaVuSans-65\"/>\n      <use xlink:href=\"#DejaVuSans-70\" x=\"61.523438\"/>\n      <use xlink:href=\"#DejaVuSans-6f\" x=\"125\"/>\n      <use xlink:href=\"#DejaVuSans-63\" x=\"186.181641\"/>\n      <use xlink:href=\"#DejaVuSans-68\" x=\"241.162109\"/>\n     </g>\n    </g>\n   </g>\n   <g id=\"matplotlib.axis_2\">\n    <g id=\"ytick_1\">\n     <g id=\"line2d_7\">\n      <defs>\n       <path id=\"m0b73a8faf1\" d=\"M 0 0 \nL -3.5 0 \n\" style=\"stroke: #000000; stroke-width: 0.8\"/>\n      </defs>\n      <g>\n       <use xlink:href=\"#m0b73a8faf1\" x=\"30.103125\" y=\"139.182588\" style=\"stroke: #000000; stroke-width: 0.8\"/>\n      </g>\n     </g>\n     <g id=\"text_8\">\n      <!-- 0.4 -->\n      <g transform=\"translate(7.2 142.981807) scale(0.1 -0.1)\">\n       <defs>\n        <path id=\"DejaVuSans-2e\" d=\"M 684 794 \nL 1344 794 \nL 1344 0 \nL 684 0 \nL 684 794 \nz\n\" transform=\"scale(0.015625)\"/>\n       </defs>\n       <use xlink:href=\"#DejaVuSans-30\"/>\n       <use xlink:href=\"#DejaVuSans-2e\" x=\"63.623047\"/>\n       <use xlink:href=\"#DejaVuSans-34\" x=\"95.410156\"/>\n      </g>\n     </g>\n    </g>\n    <g id=\"ytick_2\">\n     <g id=\"line2d_8\">\n      <g>\n       <use xlink:href=\"#m0b73a8faf1\" x=\"30.103125\" y=\"115.846277\" style=\"stroke: #000000; stroke-width: 0.8\"/>\n      </g>\n     </g>\n     <g id=\"text_9\">\n      <!-- 0.6 -->\n      <g transform=\"translate(7.2 119.645496) scale(0.1 -0.1)\">\n       <use xlink:href=\"#DejaVuSans-30\"/>\n       <use xlink:href=\"#DejaVuSans-2e\" x=\"63.623047\"/>\n       <use xlink:href=\"#DejaVuSans-36\" x=\"95.410156\"/>\n      </g>\n     </g>\n    </g>\n    <g id=\"ytick_3\">\n     <g id=\"line2d_9\">\n      <g>\n       <use xlink:href=\"#m0b73a8faf1\" x=\"30.103125\" y=\"92.509967\" style=\"stroke: #000000; stroke-width: 0.8\"/>\n      </g>\n     </g>\n     <g id=\"text_10\">\n      <!-- 0.8 -->\n      <g transform=\"translate(7.2 96.309185) scale(0.1 -0.1)\">\n       <use xlink:href=\"#DejaVuSans-30\"/>\n       <use xlink:href=\"#DejaVuSans-2e\" x=\"63.623047\"/>\n       <use xlink:href=\"#DejaVuSans-38\" x=\"95.410156\"/>\n      </g>\n     </g>\n    </g>\n    <g id=\"ytick_4\">\n     <g id=\"line2d_10\">\n      <g>\n       <use xlink:href=\"#m0b73a8faf1\" x=\"30.103125\" y=\"69.173656\" style=\"stroke: #000000; stroke-width: 0.8\"/>\n      </g>\n     </g>\n     <g id=\"text_11\">\n      <!-- 1.0 -->\n      <g transform=\"translate(7.2 72.972875) scale(0.1 -0.1)\">\n       <use xlink:href=\"#DejaVuSans-31\"/>\n       <use xlink:href=\"#DejaVuSans-2e\" x=\"63.623047\"/>\n       <use xlink:href=\"#DejaVuSans-30\" x=\"95.410156\"/>\n      </g>\n     </g>\n    </g>\n    <g id=\"ytick_5\">\n     <g id=\"line2d_11\">\n      <g>\n       <use xlink:href=\"#m0b73a8faf1\" x=\"30.103125\" y=\"45.837345\" style=\"stroke: #000000; stroke-width: 0.8\"/>\n      </g>\n     </g>\n     <g id=\"text_12\">\n      <!-- 1.2 -->\n      <g transform=\"translate(7.2 49.636564) scale(0.1 -0.1)\">\n       <use xlink:href=\"#DejaVuSans-31\"/>\n       <use xlink:href=\"#DejaVuSans-2e\" x=\"63.623047\"/>\n       <use xlink:href=\"#DejaVuSans-32\" x=\"95.410156\"/>\n      </g>\n     </g>\n    </g>\n    <g id=\"ytick_6\">\n     <g id=\"line2d_12\">\n      <g>\n       <use xlink:href=\"#m0b73a8faf1\" x=\"30.103125\" y=\"22.501035\" style=\"stroke: #000000; stroke-width: 0.8\"/>\n      </g>\n     </g>\n     <g id=\"text_13\">\n      <!-- 1.4 -->\n      <g transform=\"translate(7.2 26.300253) scale(0.1 -0.1)\">\n       <use xlink:href=\"#DejaVuSans-31\"/>\n       <use xlink:href=\"#DejaVuSans-2e\" x=\"63.623047\"/>\n       <use xlink:href=\"#DejaVuSans-34\" x=\"95.410156\"/>\n      </g>\n     </g>\n    </g>\n   </g>\n   <g id=\"line2d_13\">\n    <path d=\"M 34.923295 13.5 \n\" clip-path=\"url(#pa3c6706740)\" style=\"fill: none; stroke: #1f77b4; stroke-width: 1.5; stroke-linecap: square\"/>\n   </g>\n   <g id=\"line2d_14\">\n    <path d=\"M 34.923295 13.5 \nL 44.646742 84.393123 \n\" clip-path=\"url(#pa3c6706740)\" style=\"fill: none; stroke: #1f77b4; stroke-width: 1.5; stroke-linecap: square\"/>\n   </g>\n   <g id=\"line2d_15\">\n    <path d=\"M 34.923295 13.5 \nL 44.646742 84.393123 \n\" clip-path=\"url(#pa3c6706740)\" style=\"fill: none; stroke: #1f77b4; stroke-width: 1.5; stroke-linecap: square\"/>\n   </g>\n   <g id=\"line2d_16\">\n    <path d=\"M 49.633125 102.779445 \n\" clip-path=\"url(#pa3c6706740)\" style=\"fill: none; stroke-dasharray: 5.55,2.4; stroke-dashoffset: 0; stroke: #ff7f0e; stroke-width: 1.5\"/>\n   </g>\n   <g id=\"line2d_17\"/>\n   <g id=\"line2d_18\">\n    <path d=\"M 34.923295 13.5 \nL 44.646742 84.393123 \n\" clip-path=\"url(#pa3c6706740)\" style=\"fill: none; stroke: #1f77b4; stroke-width: 1.5; stroke-linecap: square\"/>\n   </g>\n   <g id=\"line2d_19\">\n    <path d=\"M 49.633125 102.779445 \n\" clip-path=\"url(#pa3c6706740)\" style=\"fill: none; stroke-dasharray: 5.55,2.4; stroke-dashoffset: 0; stroke: #ff7f0e; stroke-width: 1.5\"/>\n   </g>\n   <g id=\"line2d_20\">\n    <path d=\"M 49.633125 100.771112 \n\" clip-path=\"url(#pa3c6706740)\" style=\"fill: none; stroke-dasharray: 9.6,2.4,1.5,2.4; stroke-dashoffset: 0; stroke: #2ca02c; stroke-width: 1.5\"/>\n   </g>\n   <g id=\"line2d_21\">\n    <path d=\"M 34.923295 13.5 \nL 44.646742 84.393123 \nL 54.370189 99.116348 \n\" clip-path=\"url(#pa3c6706740)\" style=\"fill: none; stroke: #1f77b4; stroke-width: 1.5; stroke-linecap: square\"/>\n   </g>\n   <g id=\"line2d_22\">\n    <path d=\"M 49.633125 102.779445 \n\" clip-path=\"url(#pa3c6706740)\" style=\"fill: none; stroke-dasharray: 5.55,2.4; stroke-dashoffset: 0; stroke: #ff7f0e; stroke-width: 1.5\"/>\n   </g>\n   <g id=\"line2d_23\">\n    <path d=\"M 49.633125 100.771112 \n\" clip-path=\"url(#pa3c6706740)\" style=\"fill: none; stroke-dasharray: 9.6,2.4,1.5,2.4; stroke-dashoffset: 0; stroke: #2ca02c; stroke-width: 1.5\"/>\n   </g>\n   <g id=\"line2d_24\">\n    <path d=\"M 34.923295 13.5 \nL 44.646742 84.393123 \nL 54.370189 99.116348 \nL 64.093636 109.643288 \n\" clip-path=\"url(#pa3c6706740)\" style=\"fill: none; stroke: #1f77b4; stroke-width: 1.5; stroke-linecap: square\"/>\n   </g>\n   <g id=\"line2d_25\">\n    <path d=\"M 49.633125 102.779445 \n\" clip-path=\"url(#pa3c6706740)\" style=\"fill: none; stroke-dasharray: 5.55,2.4; stroke-dashoffset: 0; stroke: #ff7f0e; stroke-width: 1.5\"/>\n   </g>\n   <g id=\"line2d_26\">\n    <path d=\"M 49.633125 100.771112 \n\" clip-path=\"url(#pa3c6706740)\" style=\"fill: none; stroke-dasharray: 9.6,2.4,1.5,2.4; stroke-dashoffset: 0; stroke: #2ca02c; stroke-width: 1.5\"/>\n   </g>\n   <g id=\"line2d_27\">\n    <path d=\"M 34.923295 13.5 \nL 44.646742 84.393123 \nL 54.370189 99.116348 \nL 64.093636 109.643288 \n\" clip-path=\"url(#pa3c6706740)\" style=\"fill: none; stroke: #1f77b4; stroke-width: 1.5; stroke-linecap: square\"/>\n   </g>\n   <g id=\"line2d_28\">\n    <path d=\"M 49.633125 102.779445 \nL 69.163125 117.448944 \n\" clip-path=\"url(#pa3c6706740)\" style=\"fill: none; stroke-dasharray: 5.55,2.4; stroke-dashoffset: 0; stroke: #ff7f0e; stroke-width: 1.5\"/>\n   </g>\n   <g id=\"line2d_29\">\n    <path d=\"M 49.633125 100.771112 \n\" clip-path=\"url(#pa3c6706740)\" style=\"fill: none; stroke-dasharray: 9.6,2.4,1.5,2.4; stroke-dashoffset: 0; stroke: #2ca02c; stroke-width: 1.5\"/>\n   </g>\n   <g id=\"line2d_30\">\n    <path d=\"M 34.923295 13.5 \nL 44.646742 84.393123 \nL 54.370189 99.116348 \nL 64.093636 109.643288 \n\" clip-path=\"url(#pa3c6706740)\" style=\"fill: none; stroke: #1f77b4; stroke-width: 1.5; stroke-linecap: square\"/>\n   </g>\n   <g id=\"line2d_31\">\n    <path d=\"M 49.633125 102.779445 \nL 69.163125 117.448944 \n\" clip-path=\"url(#pa3c6706740)\" style=\"fill: none; stroke-dasharray: 5.55,2.4; stroke-dashoffset: 0; stroke: #ff7f0e; stroke-width: 1.5\"/>\n   </g>\n   <g id=\"line2d_32\">\n    <path d=\"M 49.633125 100.771112 \nL 69.163125 94.948429 \n\" clip-path=\"url(#pa3c6706740)\" style=\"fill: none; stroke-dasharray: 9.6,2.4,1.5,2.4; stroke-dashoffset: 0; stroke: #2ca02c; stroke-width: 1.5\"/>\n   </g>\n   <g id=\"line2d_33\">\n    <path d=\"M 34.923295 13.5 \nL 44.646742 84.393123 \nL 54.370189 99.116348 \nL 64.093636 109.643288 \nL 73.817082 114.557866 \n\" clip-path=\"url(#pa3c6706740)\" style=\"fill: none; stroke: #1f77b4; stroke-width: 1.5; stroke-linecap: square\"/>\n   </g>\n   <g id=\"line2d_34\">\n    <path d=\"M 49.633125 102.779445 \nL 69.163125 117.448944 \n\" clip-path=\"url(#pa3c6706740)\" style=\"fill: none; stroke-dasharray: 5.55,2.4; stroke-dashoffset: 0; stroke: #ff7f0e; stroke-width: 1.5\"/>\n   </g>\n   <g id=\"line2d_35\">\n    <path d=\"M 49.633125 100.771112 \nL 69.163125 94.948429 \n\" clip-path=\"url(#pa3c6706740)\" style=\"fill: none; stroke-dasharray: 9.6,2.4,1.5,2.4; stroke-dashoffset: 0; stroke: #2ca02c; stroke-width: 1.5\"/>\n   </g>\n   <g id=\"line2d_36\">\n    <path d=\"M 34.923295 13.5 \nL 44.646742 84.393123 \nL 54.370189 99.116348 \nL 64.093636 109.643288 \nL 73.817082 114.557866 \nL 83.540529 118.588012 \n\" clip-path=\"url(#pa3c6706740)\" style=\"fill: none; stroke: #1f77b4; stroke-width: 1.5; stroke-linecap: square\"/>\n   </g>\n   <g id=\"line2d_37\">\n    <path d=\"M 49.633125 102.779445 \nL 69.163125 117.448944 \n\" clip-path=\"url(#pa3c6706740)\" style=\"fill: none; stroke-dasharray: 5.55,2.4; stroke-dashoffset: 0; stroke: #ff7f0e; stroke-width: 1.5\"/>\n   </g>\n   <g id=\"line2d_38\">\n    <path d=\"M 49.633125 100.771112 \nL 69.163125 94.948429 \n\" clip-path=\"url(#pa3c6706740)\" style=\"fill: none; stroke-dasharray: 9.6,2.4,1.5,2.4; stroke-dashoffset: 0; stroke: #2ca02c; stroke-width: 1.5\"/>\n   </g>\n   <g id=\"line2d_39\">\n    <path d=\"M 34.923295 13.5 \nL 44.646742 84.393123 \nL 54.370189 99.116348 \nL 64.093636 109.643288 \nL 73.817082 114.557866 \nL 83.540529 118.588012 \n\" clip-path=\"url(#pa3c6706740)\" style=\"fill: none; stroke: #1f77b4; stroke-width: 1.5; stroke-linecap: square\"/>\n   </g>\n   <g id=\"line2d_40\">\n    <path d=\"M 49.633125 102.779445 \nL 69.163125 117.448944 \nL 88.693125 126.653101 \n\" clip-path=\"url(#pa3c6706740)\" style=\"fill: none; stroke-dasharray: 5.55,2.4; stroke-dashoffset: 0; stroke: #ff7f0e; stroke-width: 1.5\"/>\n   </g>\n   <g id=\"line2d_41\">\n    <path d=\"M 49.633125 100.771112 \nL 69.163125 94.948429 \n\" clip-path=\"url(#pa3c6706740)\" style=\"fill: none; stroke-dasharray: 9.6,2.4,1.5,2.4; stroke-dashoffset: 0; stroke: #2ca02c; stroke-width: 1.5\"/>\n   </g>\n   <g id=\"line2d_42\">\n    <path d=\"M 34.923295 13.5 \nL 44.646742 84.393123 \nL 54.370189 99.116348 \nL 64.093636 109.643288 \nL 73.817082 114.557866 \nL 83.540529 118.588012 \n\" clip-path=\"url(#pa3c6706740)\" style=\"fill: none; stroke: #1f77b4; stroke-width: 1.5; stroke-linecap: square\"/>\n   </g>\n   <g id=\"line2d_43\">\n    <path d=\"M 49.633125 102.779445 \nL 69.163125 117.448944 \nL 88.693125 126.653101 \n\" clip-path=\"url(#pa3c6706740)\" style=\"fill: none; stroke-dasharray: 5.55,2.4; stroke-dashoffset: 0; stroke: #ff7f0e; stroke-width: 1.5\"/>\n   </g>\n   <g id=\"line2d_44\">\n    <path d=\"M 49.633125 100.771112 \nL 69.163125 94.948429 \nL 88.693125 90.743791 \n\" clip-path=\"url(#pa3c6706740)\" style=\"fill: none; stroke-dasharray: 9.6,2.4,1.5,2.4; stroke-dashoffset: 0; stroke: #2ca02c; stroke-width: 1.5\"/>\n   </g>\n   <g id=\"line2d_45\">\n    <path d=\"M 34.923295 13.5 \nL 44.646742 84.393123 \nL 54.370189 99.116348 \nL 64.093636 109.643288 \nL 73.817082 114.557866 \nL 83.540529 118.588012 \nL 93.263976 123.027463 \n\" clip-path=\"url(#pa3c6706740)\" style=\"fill: none; stroke: #1f77b4; stroke-width: 1.5; stroke-linecap: square\"/>\n   </g>\n   <g id=\"line2d_46\">\n    <path d=\"M 49.633125 102.779445 \nL 69.163125 117.448944 \nL 88.693125 126.653101 \n\" clip-path=\"url(#pa3c6706740)\" style=\"fill: none; stroke-dasharray: 5.55,2.4; stroke-dashoffset: 0; stroke: #ff7f0e; stroke-width: 1.5\"/>\n   </g>\n   <g id=\"line2d_47\">\n    <path d=\"M 49.633125 100.771112 \nL 69.163125 94.948429 \nL 88.693125 90.743791 \n\" clip-path=\"url(#pa3c6706740)\" style=\"fill: none; stroke-dasharray: 9.6,2.4,1.5,2.4; stroke-dashoffset: 0; stroke: #2ca02c; stroke-width: 1.5\"/>\n   </g>\n   <g id=\"line2d_48\">\n    <path d=\"M 34.923295 13.5 \nL 44.646742 84.393123 \nL 54.370189 99.116348 \nL 64.093636 109.643288 \nL 73.817082 114.557866 \nL 83.540529 118.588012 \nL 93.263976 123.027463 \nL 102.987423 123.507101 \n\" clip-path=\"url(#pa3c6706740)\" style=\"fill: none; stroke: #1f77b4; stroke-width: 1.5; stroke-linecap: square\"/>\n   </g>\n   <g id=\"line2d_49\">\n    <path d=\"M 49.633125 102.779445 \nL 69.163125 117.448944 \nL 88.693125 126.653101 \n\" clip-path=\"url(#pa3c6706740)\" style=\"fill: none; stroke-dasharray: 5.55,2.4; stroke-dashoffset: 0; stroke: #ff7f0e; stroke-width: 1.5\"/>\n   </g>\n   <g id=\"line2d_50\">\n    <path d=\"M 49.633125 100.771112 \nL 69.163125 94.948429 \nL 88.693125 90.743791 \n\" clip-path=\"url(#pa3c6706740)\" style=\"fill: none; stroke-dasharray: 9.6,2.4,1.5,2.4; stroke-dashoffset: 0; stroke: #2ca02c; stroke-width: 1.5\"/>\n   </g>\n   <g id=\"line2d_51\">\n    <path d=\"M 34.923295 13.5 \nL 44.646742 84.393123 \nL 54.370189 99.116348 \nL 64.093636 109.643288 \nL 73.817082 114.557866 \nL 83.540529 118.588012 \nL 93.263976 123.027463 \nL 102.987423 123.507101 \n\" clip-path=\"url(#pa3c6706740)\" style=\"fill: none; stroke: #1f77b4; stroke-width: 1.5; stroke-linecap: square\"/>\n   </g>\n   <g id=\"line2d_52\">\n    <path d=\"M 49.633125 102.779445 \nL 69.163125 117.448944 \nL 88.693125 126.653101 \nL 108.223125 129.954286 \n\" clip-path=\"url(#pa3c6706740)\" style=\"fill: none; stroke-dasharray: 5.55,2.4; stroke-dashoffset: 0; stroke: #ff7f0e; stroke-width: 1.5\"/>\n   </g>\n   <g id=\"line2d_53\">\n    <path d=\"M 49.633125 100.771112 \nL 69.163125 94.948429 \nL 88.693125 90.743791 \n\" clip-path=\"url(#pa3c6706740)\" style=\"fill: none; stroke-dasharray: 9.6,2.4,1.5,2.4; stroke-dashoffset: 0; stroke: #2ca02c; stroke-width: 1.5\"/>\n   </g>\n   <g id=\"line2d_54\">\n    <path d=\"M 34.923295 13.5 \nL 44.646742 84.393123 \nL 54.370189 99.116348 \nL 64.093636 109.643288 \nL 73.817082 114.557866 \nL 83.540529 118.588012 \nL 93.263976 123.027463 \nL 102.987423 123.507101 \n\" clip-path=\"url(#pa3c6706740)\" style=\"fill: none; stroke: #1f77b4; stroke-width: 1.5; stroke-linecap: square\"/>\n   </g>\n   <g id=\"line2d_55\">\n    <path d=\"M 49.633125 102.779445 \nL 69.163125 117.448944 \nL 88.693125 126.653101 \nL 108.223125 129.954286 \n\" clip-path=\"url(#pa3c6706740)\" style=\"fill: none; stroke-dasharray: 5.55,2.4; stroke-dashoffset: 0; stroke: #ff7f0e; stroke-width: 1.5\"/>\n   </g>\n   <g id=\"line2d_56\">\n    <path d=\"M 49.633125 100.771112 \nL 69.163125 94.948429 \nL 88.693125 90.743791 \nL 108.223125 89.809427 \n\" clip-path=\"url(#pa3c6706740)\" style=\"fill: none; stroke-dasharray: 9.6,2.4,1.5,2.4; stroke-dashoffset: 0; stroke: #2ca02c; stroke-width: 1.5\"/>\n   </g>\n   <g id=\"line2d_57\">\n    <path d=\"M 34.923295 13.5 \nL 44.646742 84.393123 \nL 54.370189 99.116348 \nL 64.093636 109.643288 \nL 73.817082 114.557866 \nL 83.540529 118.588012 \nL 93.263976 123.027463 \nL 102.987423 123.507101 \nL 112.71087 127.084027 \n\" clip-path=\"url(#pa3c6706740)\" style=\"fill: none; stroke: #1f77b4; stroke-width: 1.5; stroke-linecap: square\"/>\n   </g>\n   <g id=\"line2d_58\">\n    <path d=\"M 49.633125 102.779445 \nL 69.163125 117.448944 \nL 88.693125 126.653101 \nL 108.223125 129.954286 \n\" clip-path=\"url(#pa3c6706740)\" style=\"fill: none; stroke-dasharray: 5.55,2.4; stroke-dashoffset: 0; stroke: #ff7f0e; stroke-width: 1.5\"/>\n   </g>\n   <g id=\"line2d_59\">\n    <path d=\"M 49.633125 100.771112 \nL 69.163125 94.948429 \nL 88.693125 90.743791 \nL 108.223125 89.809427 \n\" clip-path=\"url(#pa3c6706740)\" style=\"fill: none; stroke-dasharray: 9.6,2.4,1.5,2.4; stroke-dashoffset: 0; stroke: #2ca02c; stroke-width: 1.5\"/>\n   </g>\n   <g id=\"line2d_60\">\n    <path d=\"M 34.923295 13.5 \nL 44.646742 84.393123 \nL 54.370189 99.116348 \nL 64.093636 109.643288 \nL 73.817082 114.557866 \nL 83.540529 118.588012 \nL 93.263976 123.027463 \nL 102.987423 123.507101 \nL 112.71087 127.084027 \nL 122.434316 127.529881 \n\" clip-path=\"url(#pa3c6706740)\" style=\"fill: none; stroke: #1f77b4; stroke-width: 1.5; stroke-linecap: square\"/>\n   </g>\n   <g id=\"line2d_61\">\n    <path d=\"M 49.633125 102.779445 \nL 69.163125 117.448944 \nL 88.693125 126.653101 \nL 108.223125 129.954286 \n\" clip-path=\"url(#pa3c6706740)\" style=\"fill: none; stroke-dasharray: 5.55,2.4; stroke-dashoffset: 0; stroke: #ff7f0e; stroke-width: 1.5\"/>\n   </g>\n   <g id=\"line2d_62\">\n    <path d=\"M 49.633125 100.771112 \nL 69.163125 94.948429 \nL 88.693125 90.743791 \nL 108.223125 89.809427 \n\" clip-path=\"url(#pa3c6706740)\" style=\"fill: none; stroke-dasharray: 9.6,2.4,1.5,2.4; stroke-dashoffset: 0; stroke: #2ca02c; stroke-width: 1.5\"/>\n   </g>\n   <g id=\"line2d_63\">\n    <path d=\"M 34.923295 13.5 \nL 44.646742 84.393123 \nL 54.370189 99.116348 \nL 64.093636 109.643288 \nL 73.817082 114.557866 \nL 83.540529 118.588012 \nL 93.263976 123.027463 \nL 102.987423 123.507101 \nL 112.71087 127.084027 \nL 122.434316 127.529881 \n\" clip-path=\"url(#pa3c6706740)\" style=\"fill: none; stroke: #1f77b4; stroke-width: 1.5; stroke-linecap: square\"/>\n   </g>\n   <g id=\"line2d_64\">\n    <path d=\"M 49.633125 102.779445 \nL 69.163125 117.448944 \nL 88.693125 126.653101 \nL 108.223125 129.954286 \nL 127.753125 133.129914 \n\" clip-path=\"url(#pa3c6706740)\" style=\"fill: none; stroke-dasharray: 5.55,2.4; stroke-dashoffset: 0; stroke: #ff7f0e; stroke-width: 1.5\"/>\n   </g>\n   <g id=\"line2d_65\">\n    <path d=\"M 49.633125 100.771112 \nL 69.163125 94.948429 \nL 88.693125 90.743791 \nL 108.223125 89.809427 \n\" clip-path=\"url(#pa3c6706740)\" style=\"fill: none; stroke-dasharray: 9.6,2.4,1.5,2.4; stroke-dashoffset: 0; stroke: #2ca02c; stroke-width: 1.5\"/>\n   </g>\n   <g id=\"line2d_66\">\n    <path d=\"M 34.923295 13.5 \nL 44.646742 84.393123 \nL 54.370189 99.116348 \nL 64.093636 109.643288 \nL 73.817082 114.557866 \nL 83.540529 118.588012 \nL 93.263976 123.027463 \nL 102.987423 123.507101 \nL 112.71087 127.084027 \nL 122.434316 127.529881 \n\" clip-path=\"url(#pa3c6706740)\" style=\"fill: none; stroke: #1f77b4; stroke-width: 1.5; stroke-linecap: square\"/>\n   </g>\n   <g id=\"line2d_67\">\n    <path d=\"M 49.633125 102.779445 \nL 69.163125 117.448944 \nL 88.693125 126.653101 \nL 108.223125 129.954286 \nL 127.753125 133.129914 \n\" clip-path=\"url(#pa3c6706740)\" style=\"fill: none; stroke-dasharray: 5.55,2.4; stroke-dashoffset: 0; stroke: #ff7f0e; stroke-width: 1.5\"/>\n   </g>\n   <g id=\"line2d_68\">\n    <path d=\"M 49.633125 100.771112 \nL 69.163125 94.948429 \nL 88.693125 90.743791 \nL 108.223125 89.809427 \nL 127.753125 88.499038 \n\" clip-path=\"url(#pa3c6706740)\" style=\"fill: none; stroke-dasharray: 9.6,2.4,1.5,2.4; stroke-dashoffset: 0; stroke: #2ca02c; stroke-width: 1.5\"/>\n   </g>\n   <g id=\"line2d_69\">\n    <path d=\"M 34.923295 13.5 \nL 44.646742 84.393123 \nL 54.370189 99.116348 \nL 64.093636 109.643288 \nL 73.817082 114.557866 \nL 83.540529 118.588012 \nL 93.263976 123.027463 \nL 102.987423 123.507101 \nL 112.71087 127.084027 \nL 122.434316 127.529881 \nL 132.157763 131.134391 \n\" clip-path=\"url(#pa3c6706740)\" style=\"fill: none; stroke: #1f77b4; stroke-width: 1.5; stroke-linecap: square\"/>\n   </g>\n   <g id=\"line2d_70\">\n    <path d=\"M 49.633125 102.779445 \nL 69.163125 117.448944 \nL 88.693125 126.653101 \nL 108.223125 129.954286 \nL 127.753125 133.129914 \n\" clip-path=\"url(#pa3c6706740)\" style=\"fill: none; stroke-dasharray: 5.55,2.4; stroke-dashoffset: 0; stroke: #ff7f0e; stroke-width: 1.5\"/>\n   </g>\n   <g id=\"line2d_71\">\n    <path d=\"M 49.633125 100.771112 \nL 69.163125 94.948429 \nL 88.693125 90.743791 \nL 108.223125 89.809427 \nL 127.753125 88.499038 \n\" clip-path=\"url(#pa3c6706740)\" style=\"fill: none; stroke-dasharray: 9.6,2.4,1.5,2.4; stroke-dashoffset: 0; stroke: #2ca02c; stroke-width: 1.5\"/>\n   </g>\n   <g id=\"line2d_72\">\n    <path d=\"M 34.923295 13.5 \nL 44.646742 84.393123 \nL 54.370189 99.116348 \nL 64.093636 109.643288 \nL 73.817082 114.557866 \nL 83.540529 118.588012 \nL 93.263976 123.027463 \nL 102.987423 123.507101 \nL 112.71087 127.084027 \nL 122.434316 127.529881 \nL 132.157763 131.134391 \nL 141.88121 129.38551 \n\" clip-path=\"url(#pa3c6706740)\" style=\"fill: none; stroke: #1f77b4; stroke-width: 1.5; stroke-linecap: square\"/>\n   </g>\n   <g id=\"line2d_73\">\n    <path d=\"M 49.633125 102.779445 \nL 69.163125 117.448944 \nL 88.693125 126.653101 \nL 108.223125 129.954286 \nL 127.753125 133.129914 \n\" clip-path=\"url(#pa3c6706740)\" style=\"fill: none; stroke-dasharray: 5.55,2.4; stroke-dashoffset: 0; stroke: #ff7f0e; stroke-width: 1.5\"/>\n   </g>\n   <g id=\"line2d_74\">\n    <path d=\"M 49.633125 100.771112 \nL 69.163125 94.948429 \nL 88.693125 90.743791 \nL 108.223125 89.809427 \nL 127.753125 88.499038 \n\" clip-path=\"url(#pa3c6706740)\" style=\"fill: none; stroke-dasharray: 9.6,2.4,1.5,2.4; stroke-dashoffset: 0; stroke: #2ca02c; stroke-width: 1.5\"/>\n   </g>\n   <g id=\"line2d_75\">\n    <path d=\"M 34.923295 13.5 \nL 44.646742 84.393123 \nL 54.370189 99.116348 \nL 64.093636 109.643288 \nL 73.817082 114.557866 \nL 83.540529 118.588012 \nL 93.263976 123.027463 \nL 102.987423 123.507101 \nL 112.71087 127.084027 \nL 122.434316 127.529881 \nL 132.157763 131.134391 \nL 141.88121 129.38551 \n\" clip-path=\"url(#pa3c6706740)\" style=\"fill: none; stroke: #1f77b4; stroke-width: 1.5; stroke-linecap: square\"/>\n   </g>\n   <g id=\"line2d_76\">\n    <path d=\"M 49.633125 102.779445 \nL 69.163125 117.448944 \nL 88.693125 126.653101 \nL 108.223125 129.954286 \nL 127.753125 133.129914 \nL 147.283125 133.10105 \n\" clip-path=\"url(#pa3c6706740)\" style=\"fill: none; stroke-dasharray: 5.55,2.4; stroke-dashoffset: 0; stroke: #ff7f0e; stroke-width: 1.5\"/>\n   </g>\n   <g id=\"line2d_77\">\n    <path d=\"M 49.633125 100.771112 \nL 69.163125 94.948429 \nL 88.693125 90.743791 \nL 108.223125 89.809427 \nL 127.753125 88.499038 \n\" clip-path=\"url(#pa3c6706740)\" style=\"fill: none; stroke-dasharray: 9.6,2.4,1.5,2.4; stroke-dashoffset: 0; stroke: #2ca02c; stroke-width: 1.5\"/>\n   </g>\n   <g id=\"line2d_78\">\n    <path d=\"M 34.923295 13.5 \nL 44.646742 84.393123 \nL 54.370189 99.116348 \nL 64.093636 109.643288 \nL 73.817082 114.557866 \nL 83.540529 118.588012 \nL 93.263976 123.027463 \nL 102.987423 123.507101 \nL 112.71087 127.084027 \nL 122.434316 127.529881 \nL 132.157763 131.134391 \nL 141.88121 129.38551 \n\" clip-path=\"url(#pa3c6706740)\" style=\"fill: none; stroke: #1f77b4; stroke-width: 1.5; stroke-linecap: square\"/>\n   </g>\n   <g id=\"line2d_79\">\n    <path d=\"M 49.633125 102.779445 \nL 69.163125 117.448944 \nL 88.693125 126.653101 \nL 108.223125 129.954286 \nL 127.753125 133.129914 \nL 147.283125 133.10105 \n\" clip-path=\"url(#pa3c6706740)\" style=\"fill: none; stroke-dasharray: 5.55,2.4; stroke-dashoffset: 0; stroke: #ff7f0e; stroke-width: 1.5\"/>\n   </g>\n   <g id=\"line2d_80\">\n    <path d=\"M 49.633125 100.771112 \nL 69.163125 94.948429 \nL 88.693125 90.743791 \nL 108.223125 89.809427 \nL 127.753125 88.499038 \nL 147.283125 88.43067 \n\" clip-path=\"url(#pa3c6706740)\" style=\"fill: none; stroke-dasharray: 9.6,2.4,1.5,2.4; stroke-dashoffset: 0; stroke: #2ca02c; stroke-width: 1.5\"/>\n   </g>\n   <g id=\"line2d_81\">\n    <path d=\"M 34.923295 13.5 \nL 44.646742 84.393123 \nL 54.370189 99.116348 \nL 64.093636 109.643288 \nL 73.817082 114.557866 \nL 83.540529 118.588012 \nL 93.263976 123.027463 \nL 102.987423 123.507101 \nL 112.71087 127.084027 \nL 122.434316 127.529881 \nL 132.157763 131.134391 \nL 141.88121 129.38551 \nL 151.604657 132.092261 \n\" clip-path=\"url(#pa3c6706740)\" style=\"fill: none; stroke: #1f77b4; stroke-width: 1.5; stroke-linecap: square\"/>\n   </g>\n   <g id=\"line2d_82\">\n    <path d=\"M 49.633125 102.779445 \nL 69.163125 117.448944 \nL 88.693125 126.653101 \nL 108.223125 129.954286 \nL 127.753125 133.129914 \nL 147.283125 133.10105 \n\" clip-path=\"url(#pa3c6706740)\" style=\"fill: none; stroke-dasharray: 5.55,2.4; stroke-dashoffset: 0; stroke: #ff7f0e; stroke-width: 1.5\"/>\n   </g>\n   <g id=\"line2d_83\">\n    <path d=\"M 49.633125 100.771112 \nL 69.163125 94.948429 \nL 88.693125 90.743791 \nL 108.223125 89.809427 \nL 127.753125 88.499038 \nL 147.283125 88.43067 \n\" clip-path=\"url(#pa3c6706740)\" style=\"fill: none; stroke-dasharray: 9.6,2.4,1.5,2.4; stroke-dashoffset: 0; stroke: #2ca02c; stroke-width: 1.5\"/>\n   </g>\n   <g id=\"line2d_84\">\n    <path d=\"M 34.923295 13.5 \nL 44.646742 84.393123 \nL 54.370189 99.116348 \nL 64.093636 109.643288 \nL 73.817082 114.557866 \nL 83.540529 118.588012 \nL 93.263976 123.027463 \nL 102.987423 123.507101 \nL 112.71087 127.084027 \nL 122.434316 127.529881 \nL 132.157763 131.134391 \nL 141.88121 129.38551 \nL 151.604657 132.092261 \nL 161.328104 132.063239 \n\" clip-path=\"url(#pa3c6706740)\" style=\"fill: none; stroke: #1f77b4; stroke-width: 1.5; stroke-linecap: square\"/>\n   </g>\n   <g id=\"line2d_85\">\n    <path d=\"M 49.633125 102.779445 \nL 69.163125 117.448944 \nL 88.693125 126.653101 \nL 108.223125 129.954286 \nL 127.753125 133.129914 \nL 147.283125 133.10105 \n\" clip-path=\"url(#pa3c6706740)\" style=\"fill: none; stroke-dasharray: 5.55,2.4; stroke-dashoffset: 0; stroke: #ff7f0e; stroke-width: 1.5\"/>\n   </g>\n   <g id=\"line2d_86\">\n    <path d=\"M 49.633125 100.771112 \nL 69.163125 94.948429 \nL 88.693125 90.743791 \nL 108.223125 89.809427 \nL 127.753125 88.499038 \nL 147.283125 88.43067 \n\" clip-path=\"url(#pa3c6706740)\" style=\"fill: none; stroke-dasharray: 9.6,2.4,1.5,2.4; stroke-dashoffset: 0; stroke: #2ca02c; stroke-width: 1.5\"/>\n   </g>\n   <g id=\"line2d_87\">\n    <path d=\"M 34.923295 13.5 \nL 44.646742 84.393123 \nL 54.370189 99.116348 \nL 64.093636 109.643288 \nL 73.817082 114.557866 \nL 83.540529 118.588012 \nL 93.263976 123.027463 \nL 102.987423 123.507101 \nL 112.71087 127.084027 \nL 122.434316 127.529881 \nL 132.157763 131.134391 \nL 141.88121 129.38551 \nL 151.604657 132.092261 \nL 161.328104 132.063239 \n\" clip-path=\"url(#pa3c6706740)\" style=\"fill: none; stroke: #1f77b4; stroke-width: 1.5; stroke-linecap: square\"/>\n   </g>\n   <g id=\"line2d_88\">\n    <path d=\"M 49.633125 102.779445 \nL 69.163125 117.448944 \nL 88.693125 126.653101 \nL 108.223125 129.954286 \nL 127.753125 133.129914 \nL 147.283125 133.10105 \nL 166.813125 136.156936 \n\" clip-path=\"url(#pa3c6706740)\" style=\"fill: none; stroke-dasharray: 5.55,2.4; stroke-dashoffset: 0; stroke: #ff7f0e; stroke-width: 1.5\"/>\n   </g>\n   <g id=\"line2d_89\">\n    <path d=\"M 49.633125 100.771112 \nL 69.163125 94.948429 \nL 88.693125 90.743791 \nL 108.223125 89.809427 \nL 127.753125 88.499038 \nL 147.283125 88.43067 \n\" clip-path=\"url(#pa3c6706740)\" style=\"fill: none; stroke-dasharray: 9.6,2.4,1.5,2.4; stroke-dashoffset: 0; stroke: #2ca02c; stroke-width: 1.5\"/>\n   </g>\n   <g id=\"line2d_90\">\n    <path d=\"M 34.923295 13.5 \nL 44.646742 84.393123 \nL 54.370189 99.116348 \nL 64.093636 109.643288 \nL 73.817082 114.557866 \nL 83.540529 118.588012 \nL 93.263976 123.027463 \nL 102.987423 123.507101 \nL 112.71087 127.084027 \nL 122.434316 127.529881 \nL 132.157763 131.134391 \nL 141.88121 129.38551 \nL 151.604657 132.092261 \nL 161.328104 132.063239 \n\" clip-path=\"url(#pa3c6706740)\" style=\"fill: none; stroke: #1f77b4; stroke-width: 1.5; stroke-linecap: square\"/>\n   </g>\n   <g id=\"line2d_91\">\n    <path d=\"M 49.633125 102.779445 \nL 69.163125 117.448944 \nL 88.693125 126.653101 \nL 108.223125 129.954286 \nL 127.753125 133.129914 \nL 147.283125 133.10105 \nL 166.813125 136.156936 \n\" clip-path=\"url(#pa3c6706740)\" style=\"fill: none; stroke-dasharray: 5.55,2.4; stroke-dashoffset: 0; stroke: #ff7f0e; stroke-width: 1.5\"/>\n   </g>\n   <g id=\"line2d_92\">\n    <path d=\"M 49.633125 100.771112 \nL 69.163125 94.948429 \nL 88.693125 90.743791 \nL 108.223125 89.809427 \nL 127.753125 88.499038 \nL 147.283125 88.43067 \nL 166.813125 87.405149 \n\" clip-path=\"url(#pa3c6706740)\" style=\"fill: none; stroke-dasharray: 9.6,2.4,1.5,2.4; stroke-dashoffset: 0; stroke: #2ca02c; stroke-width: 1.5\"/>\n   </g>\n   <g id=\"line2d_93\">\n    <path d=\"M 34.923295 13.5 \nL 44.646742 84.393123 \nL 54.370189 99.116348 \nL 64.093636 109.643288 \nL 73.817082 114.557866 \nL 83.540529 118.588012 \nL 93.263976 123.027463 \nL 102.987423 123.507101 \nL 112.71087 127.084027 \nL 122.434316 127.529881 \nL 132.157763 131.134391 \nL 141.88121 129.38551 \nL 151.604657 132.092261 \nL 161.328104 132.063239 \nL 171.051551 134.173809 \n\" clip-path=\"url(#pa3c6706740)\" style=\"fill: none; stroke: #1f77b4; stroke-width: 1.5; stroke-linecap: square\"/>\n   </g>\n   <g id=\"line2d_94\">\n    <path d=\"M 49.633125 102.779445 \nL 69.163125 117.448944 \nL 88.693125 126.653101 \nL 108.223125 129.954286 \nL 127.753125 133.129914 \nL 147.283125 133.10105 \nL 166.813125 136.156936 \n\" clip-path=\"url(#pa3c6706740)\" style=\"fill: none; stroke-dasharray: 5.55,2.4; stroke-dashoffset: 0; stroke: #ff7f0e; stroke-width: 1.5\"/>\n   </g>\n   <g id=\"line2d_95\">\n    <path d=\"M 49.633125 100.771112 \nL 69.163125 94.948429 \nL 88.693125 90.743791 \nL 108.223125 89.809427 \nL 127.753125 88.499038 \nL 147.283125 88.43067 \nL 166.813125 87.405149 \n\" clip-path=\"url(#pa3c6706740)\" style=\"fill: none; stroke-dasharray: 9.6,2.4,1.5,2.4; stroke-dashoffset: 0; stroke: #2ca02c; stroke-width: 1.5\"/>\n   </g>\n   <g id=\"line2d_96\">\n    <path d=\"M 34.923295 13.5 \nL 44.646742 84.393123 \nL 54.370189 99.116348 \nL 64.093636 109.643288 \nL 73.817082 114.557866 \nL 83.540529 118.588012 \nL 93.263976 123.027463 \nL 102.987423 123.507101 \nL 112.71087 127.084027 \nL 122.434316 127.529881 \nL 132.157763 131.134391 \nL 141.88121 129.38551 \nL 151.604657 132.092261 \nL 161.328104 132.063239 \nL 171.051551 134.173809 \nL 180.774997 133.998844 \n\" clip-path=\"url(#pa3c6706740)\" style=\"fill: none; stroke: #1f77b4; stroke-width: 1.5; stroke-linecap: square\"/>\n   </g>\n   <g id=\"line2d_97\">\n    <path d=\"M 49.633125 102.779445 \nL 69.163125 117.448944 \nL 88.693125 126.653101 \nL 108.223125 129.954286 \nL 127.753125 133.129914 \nL 147.283125 133.10105 \nL 166.813125 136.156936 \n\" clip-path=\"url(#pa3c6706740)\" style=\"fill: none; stroke-dasharray: 5.55,2.4; stroke-dashoffset: 0; stroke: #ff7f0e; stroke-width: 1.5\"/>\n   </g>\n   <g id=\"line2d_98\">\n    <path d=\"M 49.633125 100.771112 \nL 69.163125 94.948429 \nL 88.693125 90.743791 \nL 108.223125 89.809427 \nL 127.753125 88.499038 \nL 147.283125 88.43067 \nL 166.813125 87.405149 \n\" clip-path=\"url(#pa3c6706740)\" style=\"fill: none; stroke-dasharray: 9.6,2.4,1.5,2.4; stroke-dashoffset: 0; stroke: #2ca02c; stroke-width: 1.5\"/>\n   </g>\n   <g id=\"line2d_99\">\n    <path d=\"M 34.923295 13.5 \nL 44.646742 84.393123 \nL 54.370189 99.116348 \nL 64.093636 109.643288 \nL 73.817082 114.557866 \nL 83.540529 118.588012 \nL 93.263976 123.027463 \nL 102.987423 123.507101 \nL 112.71087 127.084027 \nL 122.434316 127.529881 \nL 132.157763 131.134391 \nL 141.88121 129.38551 \nL 151.604657 132.092261 \nL 161.328104 132.063239 \nL 171.051551 134.173809 \nL 180.774997 133.998844 \n\" clip-path=\"url(#pa3c6706740)\" style=\"fill: none; stroke: #1f77b4; stroke-width: 1.5; stroke-linecap: square\"/>\n   </g>\n   <g id=\"line2d_100\">\n    <path d=\"M 49.633125 102.779445 \nL 69.163125 117.448944 \nL 88.693125 126.653101 \nL 108.223125 129.954286 \nL 127.753125 133.129914 \nL 147.283125 133.10105 \nL 166.813125 136.156936 \nL 186.343125 136.986342 \n\" clip-path=\"url(#pa3c6706740)\" style=\"fill: none; stroke-dasharray: 5.55,2.4; stroke-dashoffset: 0; stroke: #ff7f0e; stroke-width: 1.5\"/>\n   </g>\n   <g id=\"line2d_101\">\n    <path d=\"M 49.633125 100.771112 \nL 69.163125 94.948429 \nL 88.693125 90.743791 \nL 108.223125 89.809427 \nL 127.753125 88.499038 \nL 147.283125 88.43067 \nL 166.813125 87.405149 \n\" clip-path=\"url(#pa3c6706740)\" style=\"fill: none; stroke-dasharray: 9.6,2.4,1.5,2.4; stroke-dashoffset: 0; stroke: #2ca02c; stroke-width: 1.5\"/>\n   </g>\n   <g id=\"line2d_102\">\n    <path d=\"M 34.923295 13.5 \nL 44.646742 84.393123 \nL 54.370189 99.116348 \nL 64.093636 109.643288 \nL 73.817082 114.557866 \nL 83.540529 118.588012 \nL 93.263976 123.027463 \nL 102.987423 123.507101 \nL 112.71087 127.084027 \nL 122.434316 127.529881 \nL 132.157763 131.134391 \nL 141.88121 129.38551 \nL 151.604657 132.092261 \nL 161.328104 132.063239 \nL 171.051551 134.173809 \nL 180.774997 133.998844 \n\" clip-path=\"url(#pa3c6706740)\" style=\"fill: none; stroke: #1f77b4; stroke-width: 1.5; stroke-linecap: square\"/>\n   </g>\n   <g id=\"line2d_103\">\n    <path d=\"M 49.633125 102.779445 \nL 69.163125 117.448944 \nL 88.693125 126.653101 \nL 108.223125 129.954286 \nL 127.753125 133.129914 \nL 147.283125 133.10105 \nL 166.813125 136.156936 \nL 186.343125 136.986342 \n\" clip-path=\"url(#pa3c6706740)\" style=\"fill: none; stroke-dasharray: 5.55,2.4; stroke-dashoffset: 0; stroke: #ff7f0e; stroke-width: 1.5\"/>\n   </g>\n   <g id=\"line2d_104\">\n    <path d=\"M 49.633125 100.771112 \nL 69.163125 94.948429 \nL 88.693125 90.743791 \nL 108.223125 89.809427 \nL 127.753125 88.499038 \nL 147.283125 88.43067 \nL 166.813125 87.405149 \nL 186.343125 87.143071 \n\" clip-path=\"url(#pa3c6706740)\" style=\"fill: none; stroke-dasharray: 9.6,2.4,1.5,2.4; stroke-dashoffset: 0; stroke: #2ca02c; stroke-width: 1.5\"/>\n   </g>\n   <g id=\"line2d_105\">\n    <path d=\"M 34.923295 13.5 \nL 44.646742 84.393123 \nL 54.370189 99.116348 \nL 64.093636 109.643288 \nL 73.817082 114.557866 \nL 83.540529 118.588012 \nL 93.263976 123.027463 \nL 102.987423 123.507101 \nL 112.71087 127.084027 \nL 122.434316 127.529881 \nL 132.157763 131.134391 \nL 141.88121 129.38551 \nL 151.604657 132.092261 \nL 161.328104 132.063239 \nL 171.051551 134.173809 \nL 180.774997 133.998844 \nL 190.498444 135.159082 \n\" clip-path=\"url(#pa3c6706740)\" style=\"fill: none; stroke: #1f77b4; stroke-width: 1.5; stroke-linecap: square\"/>\n   </g>\n   <g id=\"line2d_106\">\n    <path d=\"M 49.633125 102.779445 \nL 69.163125 117.448944 \nL 88.693125 126.653101 \nL 108.223125 129.954286 \nL 127.753125 133.129914 \nL 147.283125 133.10105 \nL 166.813125 136.156936 \nL 186.343125 136.986342 \n\" clip-path=\"url(#pa3c6706740)\" style=\"fill: none; stroke-dasharray: 5.55,2.4; stroke-dashoffset: 0; stroke: #ff7f0e; stroke-width: 1.5\"/>\n   </g>\n   <g id=\"line2d_107\">\n    <path d=\"M 49.633125 100.771112 \nL 69.163125 94.948429 \nL 88.693125 90.743791 \nL 108.223125 89.809427 \nL 127.753125 88.499038 \nL 147.283125 88.43067 \nL 166.813125 87.405149 \nL 186.343125 87.143071 \n\" clip-path=\"url(#pa3c6706740)\" style=\"fill: none; stroke-dasharray: 9.6,2.4,1.5,2.4; stroke-dashoffset: 0; stroke: #2ca02c; stroke-width: 1.5\"/>\n   </g>\n   <g id=\"line2d_108\">\n    <path d=\"M 34.923295 13.5 \nL 44.646742 84.393123 \nL 54.370189 99.116348 \nL 64.093636 109.643288 \nL 73.817082 114.557866 \nL 83.540529 118.588012 \nL 93.263976 123.027463 \nL 102.987423 123.507101 \nL 112.71087 127.084027 \nL 122.434316 127.529881 \nL 132.157763 131.134391 \nL 141.88121 129.38551 \nL 151.604657 132.092261 \nL 161.328104 132.063239 \nL 171.051551 134.173809 \nL 180.774997 133.998844 \nL 190.498444 135.159082 \nL 200.221891 136.212453 \n\" clip-path=\"url(#pa3c6706740)\" style=\"fill: none; stroke: #1f77b4; stroke-width: 1.5; stroke-linecap: square\"/>\n   </g>\n   <g id=\"line2d_109\">\n    <path d=\"M 49.633125 102.779445 \nL 69.163125 117.448944 \nL 88.693125 126.653101 \nL 108.223125 129.954286 \nL 127.753125 133.129914 \nL 147.283125 133.10105 \nL 166.813125 136.156936 \nL 186.343125 136.986342 \n\" clip-path=\"url(#pa3c6706740)\" style=\"fill: none; stroke-dasharray: 5.55,2.4; stroke-dashoffset: 0; stroke: #ff7f0e; stroke-width: 1.5\"/>\n   </g>\n   <g id=\"line2d_110\">\n    <path d=\"M 49.633125 100.771112 \nL 69.163125 94.948429 \nL 88.693125 90.743791 \nL 108.223125 89.809427 \nL 127.753125 88.499038 \nL 147.283125 88.43067 \nL 166.813125 87.405149 \nL 186.343125 87.143071 \n\" clip-path=\"url(#pa3c6706740)\" style=\"fill: none; stroke-dasharray: 9.6,2.4,1.5,2.4; stroke-dashoffset: 0; stroke: #2ca02c; stroke-width: 1.5\"/>\n   </g>\n   <g id=\"line2d_111\">\n    <path d=\"M 34.923295 13.5 \nL 44.646742 84.393123 \nL 54.370189 99.116348 \nL 64.093636 109.643288 \nL 73.817082 114.557866 \nL 83.540529 118.588012 \nL 93.263976 123.027463 \nL 102.987423 123.507101 \nL 112.71087 127.084027 \nL 122.434316 127.529881 \nL 132.157763 131.134391 \nL 141.88121 129.38551 \nL 151.604657 132.092261 \nL 161.328104 132.063239 \nL 171.051551 134.173809 \nL 180.774997 133.998844 \nL 190.498444 135.159082 \nL 200.221891 136.212453 \n\" clip-path=\"url(#pa3c6706740)\" style=\"fill: none; stroke: #1f77b4; stroke-width: 1.5; stroke-linecap: square\"/>\n   </g>\n   <g id=\"line2d_112\">\n    <path d=\"M 49.633125 102.779445 \nL 69.163125 117.448944 \nL 88.693125 126.653101 \nL 108.223125 129.954286 \nL 127.753125 133.129914 \nL 147.283125 133.10105 \nL 166.813125 136.156936 \nL 186.343125 136.986342 \nL 205.873125 139.5 \n\" clip-path=\"url(#pa3c6706740)\" style=\"fill: none; stroke-dasharray: 5.55,2.4; stroke-dashoffset: 0; stroke: #ff7f0e; stroke-width: 1.5\"/>\n   </g>\n   <g id=\"line2d_113\">\n    <path d=\"M 49.633125 100.771112 \nL 69.163125 94.948429 \nL 88.693125 90.743791 \nL 108.223125 89.809427 \nL 127.753125 88.499038 \nL 147.283125 88.43067 \nL 166.813125 87.405149 \nL 186.343125 87.143071 \n\" clip-path=\"url(#pa3c6706740)\" style=\"fill: none; stroke-dasharray: 9.6,2.4,1.5,2.4; stroke-dashoffset: 0; stroke: #2ca02c; stroke-width: 1.5\"/>\n   </g>\n   <g id=\"line2d_114\">\n    <path d=\"M 34.923295 13.5 \nL 44.646742 84.393123 \nL 54.370189 99.116348 \nL 64.093636 109.643288 \nL 73.817082 114.557866 \nL 83.540529 118.588012 \nL 93.263976 123.027463 \nL 102.987423 123.507101 \nL 112.71087 127.084027 \nL 122.434316 127.529881 \nL 132.157763 131.134391 \nL 141.88121 129.38551 \nL 151.604657 132.092261 \nL 161.328104 132.063239 \nL 171.051551 134.173809 \nL 180.774997 133.998844 \nL 190.498444 135.159082 \nL 200.221891 136.212453 \n\" clip-path=\"url(#pa3c6706740)\" style=\"fill: none; stroke: #1f77b4; stroke-width: 1.5; stroke-linecap: square\"/>\n   </g>\n   <g id=\"line2d_115\">\n    <path d=\"M 49.633125 102.779445 \nL 69.163125 117.448944 \nL 88.693125 126.653101 \nL 108.223125 129.954286 \nL 127.753125 133.129914 \nL 147.283125 133.10105 \nL 166.813125 136.156936 \nL 186.343125 136.986342 \nL 205.873125 139.5 \n\" clip-path=\"url(#pa3c6706740)\" style=\"fill: none; stroke-dasharray: 5.55,2.4; stroke-dashoffset: 0; stroke: #ff7f0e; stroke-width: 1.5\"/>\n   </g>\n   <g id=\"line2d_116\">\n    <path d=\"M 49.633125 100.771112 \nL 69.163125 94.948429 \nL 88.693125 90.743791 \nL 108.223125 89.809427 \nL 127.753125 88.499038 \nL 147.283125 88.43067 \nL 166.813125 87.405149 \nL 186.343125 87.143071 \nL 205.873125 86.003603 \n\" clip-path=\"url(#pa3c6706740)\" style=\"fill: none; stroke-dasharray: 9.6,2.4,1.5,2.4; stroke-dashoffset: 0; stroke: #2ca02c; stroke-width: 1.5\"/>\n   </g>\n   <g id=\"line2d_117\">\n    <path d=\"M 34.923295 13.5 \nL 44.646742 84.393123 \nL 54.370189 99.116348 \nL 64.093636 109.643288 \nL 73.817082 114.557866 \nL 83.540529 118.588012 \nL 93.263976 123.027463 \nL 102.987423 123.507101 \nL 112.71087 127.084027 \nL 122.434316 127.529881 \nL 132.157763 131.134391 \nL 141.88121 129.38551 \nL 151.604657 132.092261 \nL 161.328104 132.063239 \nL 171.051551 134.173809 \nL 180.774997 133.998844 \nL 190.498444 135.159082 \nL 200.221891 136.212453 \nL 209.945338 137.178393 \n\" clip-path=\"url(#pa3c6706740)\" style=\"fill: none; stroke: #1f77b4; stroke-width: 1.5; stroke-linecap: square\"/>\n   </g>\n   <g id=\"line2d_118\">\n    <path d=\"M 49.633125 102.779445 \nL 69.163125 117.448944 \nL 88.693125 126.653101 \nL 108.223125 129.954286 \nL 127.753125 133.129914 \nL 147.283125 133.10105 \nL 166.813125 136.156936 \nL 186.343125 136.986342 \nL 205.873125 139.5 \n\" clip-path=\"url(#pa3c6706740)\" style=\"fill: none; stroke-dasharray: 5.55,2.4; stroke-dashoffset: 0; stroke: #ff7f0e; stroke-width: 1.5\"/>\n   </g>\n   <g id=\"line2d_119\">\n    <path d=\"M 49.633125 100.771112 \nL 69.163125 94.948429 \nL 88.693125 90.743791 \nL 108.223125 89.809427 \nL 127.753125 88.499038 \nL 147.283125 88.43067 \nL 166.813125 87.405149 \nL 186.343125 87.143071 \nL 205.873125 86.003603 \n\" clip-path=\"url(#pa3c6706740)\" style=\"fill: none; stroke-dasharray: 9.6,2.4,1.5,2.4; stroke-dashoffset: 0; stroke: #2ca02c; stroke-width: 1.5\"/>\n   </g>\n   <g id=\"line2d_120\">\n    <path d=\"M 34.923295 13.5 \nL 44.646742 84.393123 \nL 54.370189 99.116348 \nL 64.093636 109.643288 \nL 73.817082 114.557866 \nL 83.540529 118.588012 \nL 93.263976 123.027463 \nL 102.987423 123.507101 \nL 112.71087 127.084027 \nL 122.434316 127.529881 \nL 132.157763 131.134391 \nL 141.88121 129.38551 \nL 151.604657 132.092261 \nL 161.328104 132.063239 \nL 171.051551 134.173809 \nL 180.774997 133.998844 \nL 190.498444 135.159082 \nL 200.221891 136.212453 \nL 209.945338 137.178393 \nL 219.668785 136.199628 \n\" clip-path=\"url(#pa3c6706740)\" style=\"fill: none; stroke: #1f77b4; stroke-width: 1.5; stroke-linecap: square\"/>\n   </g>\n   <g id=\"line2d_121\">\n    <path d=\"M 49.633125 102.779445 \nL 69.163125 117.448944 \nL 88.693125 126.653101 \nL 108.223125 129.954286 \nL 127.753125 133.129914 \nL 147.283125 133.10105 \nL 166.813125 136.156936 \nL 186.343125 136.986342 \nL 205.873125 139.5 \n\" clip-path=\"url(#pa3c6706740)\" style=\"fill: none; stroke-dasharray: 5.55,2.4; stroke-dashoffset: 0; stroke: #ff7f0e; stroke-width: 1.5\"/>\n   </g>\n   <g id=\"line2d_122\">\n    <path d=\"M 49.633125 100.771112 \nL 69.163125 94.948429 \nL 88.693125 90.743791 \nL 108.223125 89.809427 \nL 127.753125 88.499038 \nL 147.283125 88.43067 \nL 166.813125 87.405149 \nL 186.343125 87.143071 \nL 205.873125 86.003603 \n\" clip-path=\"url(#pa3c6706740)\" style=\"fill: none; stroke-dasharray: 9.6,2.4,1.5,2.4; stroke-dashoffset: 0; stroke: #2ca02c; stroke-width: 1.5\"/>\n   </g>\n   <g id=\"line2d_123\">\n    <path d=\"M 34.923295 13.5 \nL 44.646742 84.393123 \nL 54.370189 99.116348 \nL 64.093636 109.643288 \nL 73.817082 114.557866 \nL 83.540529 118.588012 \nL 93.263976 123.027463 \nL 102.987423 123.507101 \nL 112.71087 127.084027 \nL 122.434316 127.529881 \nL 132.157763 131.134391 \nL 141.88121 129.38551 \nL 151.604657 132.092261 \nL 161.328104 132.063239 \nL 171.051551 134.173809 \nL 180.774997 133.998844 \nL 190.498444 135.159082 \nL 200.221891 136.212453 \nL 209.945338 137.178393 \nL 219.668785 136.199628 \n\" clip-path=\"url(#pa3c6706740)\" style=\"fill: none; stroke: #1f77b4; stroke-width: 1.5; stroke-linecap: square\"/>\n   </g>\n   <g id=\"line2d_124\">\n    <path d=\"M 49.633125 102.779445 \nL 69.163125 117.448944 \nL 88.693125 126.653101 \nL 108.223125 129.954286 \nL 127.753125 133.129914 \nL 147.283125 133.10105 \nL 166.813125 136.156936 \nL 186.343125 136.986342 \nL 205.873125 139.5 \nL 225.403125 137.352182 \n\" clip-path=\"url(#pa3c6706740)\" style=\"fill: none; stroke-dasharray: 5.55,2.4; stroke-dashoffset: 0; stroke: #ff7f0e; stroke-width: 1.5\"/>\n   </g>\n   <g id=\"line2d_125\">\n    <path d=\"M 49.633125 100.771112 \nL 69.163125 94.948429 \nL 88.693125 90.743791 \nL 108.223125 89.809427 \nL 127.753125 88.499038 \nL 147.283125 88.43067 \nL 166.813125 87.405149 \nL 186.343125 87.143071 \nL 205.873125 86.003603 \n\" clip-path=\"url(#pa3c6706740)\" style=\"fill: none; stroke-dasharray: 9.6,2.4,1.5,2.4; stroke-dashoffset: 0; stroke: #2ca02c; stroke-width: 1.5\"/>\n   </g>\n   <g id=\"line2d_126\">\n    <path d=\"M 34.923295 13.5 \nL 44.646742 84.393123 \nL 54.370189 99.116348 \nL 64.093636 109.643288 \nL 73.817082 114.557866 \nL 83.540529 118.588012 \nL 93.263976 123.027463 \nL 102.987423 123.507101 \nL 112.71087 127.084027 \nL 122.434316 127.529881 \nL 132.157763 131.134391 \nL 141.88121 129.38551 \nL 151.604657 132.092261 \nL 161.328104 132.063239 \nL 171.051551 134.173809 \nL 180.774997 133.998844 \nL 190.498444 135.159082 \nL 200.221891 136.212453 \nL 209.945338 137.178393 \nL 219.668785 136.199628 \n\" clip-path=\"url(#pa3c6706740)\" style=\"fill: none; stroke: #1f77b4; stroke-width: 1.5; stroke-linecap: square\"/>\n   </g>\n   <g id=\"line2d_127\">\n    <path d=\"M 49.633125 102.779445 \nL 69.163125 117.448944 \nL 88.693125 126.653101 \nL 108.223125 129.954286 \nL 127.753125 133.129914 \nL 147.283125 133.10105 \nL 166.813125 136.156936 \nL 186.343125 136.986342 \nL 205.873125 139.5 \nL 225.403125 137.352182 \n\" clip-path=\"url(#pa3c6706740)\" style=\"fill: none; stroke-dasharray: 5.55,2.4; stroke-dashoffset: 0; stroke: #ff7f0e; stroke-width: 1.5\"/>\n   </g>\n   <g id=\"line2d_128\">\n    <path d=\"M 49.633125 100.771112 \nL 69.163125 94.948429 \nL 88.693125 90.743791 \nL 108.223125 89.809427 \nL 127.753125 88.499038 \nL 147.283125 88.43067 \nL 166.813125 87.405149 \nL 186.343125 87.143071 \nL 205.873125 86.003603 \nL 225.403125 86.812625 \n\" clip-path=\"url(#pa3c6706740)\" style=\"fill: none; stroke-dasharray: 9.6,2.4,1.5,2.4; stroke-dashoffset: 0; stroke: #2ca02c; stroke-width: 1.5\"/>\n   </g>\n   <g id=\"patch_3\">\n    <path d=\"M 30.103125 145.8 \nL 30.103125 7.2 \n\" style=\"fill: none; stroke: #000000; stroke-width: 0.8; stroke-linejoin: miter; stroke-linecap: square\"/>\n   </g>\n   <g id=\"patch_4\">\n    <path d=\"M 225.403125 145.8 \nL 225.403125 7.2 \n\" style=\"fill: none; stroke: #000000; stroke-width: 0.8; stroke-linejoin: miter; stroke-linecap: square\"/>\n   </g>\n   <g id=\"patch_5\">\n    <path d=\"M 30.103125 145.8 \nL 225.403125 145.8 \n\" style=\"fill: none; stroke: #000000; stroke-width: 0.8; stroke-linejoin: miter; stroke-linecap: square\"/>\n   </g>\n   <g id=\"patch_6\">\n    <path d=\"M 30.103125 7.2 \nL 225.403125 7.2 \n\" style=\"fill: none; stroke: #000000; stroke-width: 0.8; stroke-linejoin: miter; stroke-linecap: square\"/>\n   </g>\n   <g id=\"legend_1\">\n    <g id=\"patch_7\">\n     <path d=\"M 138.8125 60.06875 \nL 218.403125 60.06875 \nQ 220.403125 60.06875 220.403125 58.06875 \nL 220.403125 14.2 \nQ 220.403125 12.2 218.403125 12.2 \nL 138.8125 12.2 \nQ 136.8125 12.2 136.8125 14.2 \nL 136.8125 58.06875 \nQ 136.8125 60.06875 138.8125 60.06875 \nz\n\" style=\"fill: #ffffff; opacity: 0.8; stroke: #cccccc; stroke-linejoin: miter\"/>\n    </g>\n    <g id=\"line2d_129\">\n     <path d=\"M 140.8125 20.298438 \nL 150.8125 20.298438 \nL 160.8125 20.298438 \n\" style=\"fill: none; stroke: #1f77b4; stroke-width: 1.5; stroke-linecap: square\"/>\n    </g>\n    <g id=\"text_14\">\n     <!-- train_loss -->\n     <g transform=\"translate(168.8125 23.798438) scale(0.1 -0.1)\">\n      <defs>\n       <path id=\"DejaVuSans-74\" d=\"M 1172 4494 \nL 1172 3500 \nL 2356 3500 \nL 2356 3053 \nL 1172 3053 \nL 1172 1153 \nQ 1172 725 1289 603 \nQ 1406 481 1766 481 \nL 2356 481 \nL 2356 0 \nL 1766 0 \nQ 1100 0 847 248 \nQ 594 497 594 1153 \nL 594 3053 \nL 172 3053 \nL 172 3500 \nL 594 3500 \nL 594 4494 \nL 1172 4494 \nz\n\" transform=\"scale(0.015625)\"/>\n       <path id=\"DejaVuSans-72\" d=\"M 2631 2963 \nQ 2534 3019 2420 3045 \nQ 2306 3072 2169 3072 \nQ 1681 3072 1420 2755 \nQ 1159 2438 1159 1844 \nL 1159 0 \nL 581 0 \nL 581 3500 \nL 1159 3500 \nL 1159 2956 \nQ 1341 3275 1631 3429 \nQ 1922 3584 2338 3584 \nQ 2397 3584 2469 3576 \nQ 2541 3569 2628 3553 \nL 2631 2963 \nz\n\" transform=\"scale(0.015625)\"/>\n       <path id=\"DejaVuSans-61\" d=\"M 2194 1759 \nQ 1497 1759 1228 1600 \nQ 959 1441 959 1056 \nQ 959 750 1161 570 \nQ 1363 391 1709 391 \nQ 2188 391 2477 730 \nQ 2766 1069 2766 1631 \nL 2766 1759 \nL 2194 1759 \nz\nM 3341 1997 \nL 3341 0 \nL 2766 0 \nL 2766 531 \nQ 2569 213 2275 61 \nQ 1981 -91 1556 -91 \nQ 1019 -91 701 211 \nQ 384 513 384 1019 \nQ 384 1609 779 1909 \nQ 1175 2209 1959 2209 \nL 2766 2209 \nL 2766 2266 \nQ 2766 2663 2505 2880 \nQ 2244 3097 1772 3097 \nQ 1472 3097 1187 3025 \nQ 903 2953 641 2809 \nL 641 3341 \nQ 956 3463 1253 3523 \nQ 1550 3584 1831 3584 \nQ 2591 3584 2966 3190 \nQ 3341 2797 3341 1997 \nz\n\" transform=\"scale(0.015625)\"/>\n       <path id=\"DejaVuSans-69\" d=\"M 603 3500 \nL 1178 3500 \nL 1178 0 \nL 603 0 \nL 603 3500 \nz\nM 603 4863 \nL 1178 4863 \nL 1178 4134 \nL 603 4134 \nL 603 4863 \nz\n\" transform=\"scale(0.015625)\"/>\n       <path id=\"DejaVuSans-6e\" d=\"M 3513 2113 \nL 3513 0 \nL 2938 0 \nL 2938 2094 \nQ 2938 2591 2744 2837 \nQ 2550 3084 2163 3084 \nQ 1697 3084 1428 2787 \nQ 1159 2491 1159 1978 \nL 1159 0 \nL 581 0 \nL 581 3500 \nL 1159 3500 \nL 1159 2956 \nQ 1366 3272 1645 3428 \nQ 1925 3584 2291 3584 \nQ 2894 3584 3203 3211 \nQ 3513 2838 3513 2113 \nz\n\" transform=\"scale(0.015625)\"/>\n       <path id=\"DejaVuSans-5f\" d=\"M 3263 -1063 \nL 3263 -1509 \nL -63 -1509 \nL -63 -1063 \nL 3263 -1063 \nz\n\" transform=\"scale(0.015625)\"/>\n       <path id=\"DejaVuSans-6c\" d=\"M 603 4863 \nL 1178 4863 \nL 1178 0 \nL 603 0 \nL 603 4863 \nz\n\" transform=\"scale(0.015625)\"/>\n       <path id=\"DejaVuSans-73\" d=\"M 2834 3397 \nL 2834 2853 \nQ 2591 2978 2328 3040 \nQ 2066 3103 1784 3103 \nQ 1356 3103 1142 2972 \nQ 928 2841 928 2578 \nQ 928 2378 1081 2264 \nQ 1234 2150 1697 2047 \nL 1894 2003 \nQ 2506 1872 2764 1633 \nQ 3022 1394 3022 966 \nQ 3022 478 2636 193 \nQ 2250 -91 1575 -91 \nQ 1294 -91 989 -36 \nQ 684 19 347 128 \nL 347 722 \nQ 666 556 975 473 \nQ 1284 391 1588 391 \nQ 1994 391 2212 530 \nQ 2431 669 2431 922 \nQ 2431 1156 2273 1281 \nQ 2116 1406 1581 1522 \nL 1381 1569 \nQ 847 1681 609 1914 \nQ 372 2147 372 2553 \nQ 372 3047 722 3315 \nQ 1072 3584 1716 3584 \nQ 2034 3584 2315 3537 \nQ 2597 3491 2834 3397 \nz\n\" transform=\"scale(0.015625)\"/>\n      </defs>\n      <use xlink:href=\"#DejaVuSans-74\"/>\n      <use xlink:href=\"#DejaVuSans-72\" x=\"39.208984\"/>\n      <use xlink:href=\"#DejaVuSans-61\" x=\"80.322266\"/>\n      <use xlink:href=\"#DejaVuSans-69\" x=\"141.601562\"/>\n      <use xlink:href=\"#DejaVuSans-6e\" x=\"169.384766\"/>\n      <use xlink:href=\"#DejaVuSans-5f\" x=\"232.763672\"/>\n      <use xlink:href=\"#DejaVuSans-6c\" x=\"282.763672\"/>\n      <use xlink:href=\"#DejaVuSans-6f\" x=\"310.546875\"/>\n      <use xlink:href=\"#DejaVuSans-73\" x=\"371.728516\"/>\n      <use xlink:href=\"#DejaVuSans-73\" x=\"423.828125\"/>\n     </g>\n    </g>\n    <g id=\"line2d_130\">\n     <path d=\"M 140.8125 35.254688 \nL 150.8125 35.254688 \nL 160.8125 35.254688 \n\" style=\"fill: none; stroke-dasharray: 5.55,2.4; stroke-dashoffset: 0; stroke: #ff7f0e; stroke-width: 1.5\"/>\n    </g>\n    <g id=\"text_15\">\n     <!-- val_loss -->\n     <g transform=\"translate(168.8125 38.754688) scale(0.1 -0.1)\">\n      <defs>\n       <path id=\"DejaVuSans-76\" d=\"M 191 3500 \nL 800 3500 \nL 1894 563 \nL 2988 3500 \nL 3597 3500 \nL 2284 0 \nL 1503 0 \nL 191 3500 \nz\n\" transform=\"scale(0.015625)\"/>\n      </defs>\n      <use xlink:href=\"#DejaVuSans-76\"/>\n      <use xlink:href=\"#DejaVuSans-61\" x=\"59.179688\"/>\n      <use xlink:href=\"#DejaVuSans-6c\" x=\"120.458984\"/>\n      <use xlink:href=\"#DejaVuSans-5f\" x=\"148.242188\"/>\n      <use xlink:href=\"#DejaVuSans-6c\" x=\"198.242188\"/>\n      <use xlink:href=\"#DejaVuSans-6f\" x=\"226.025391\"/>\n      <use xlink:href=\"#DejaVuSans-73\" x=\"287.207031\"/>\n      <use xlink:href=\"#DejaVuSans-73\" x=\"339.306641\"/>\n     </g>\n    </g>\n    <g id=\"line2d_131\">\n     <path d=\"M 140.8125 50.210938 \nL 150.8125 50.210938 \nL 160.8125 50.210938 \n\" style=\"fill: none; stroke-dasharray: 9.6,2.4,1.5,2.4; stroke-dashoffset: 0; stroke: #2ca02c; stroke-width: 1.5\"/>\n    </g>\n    <g id=\"text_16\">\n     <!-- val_acc -->\n     <g transform=\"translate(168.8125 53.710938) scale(0.1 -0.1)\">\n      <use xlink:href=\"#DejaVuSans-76\"/>\n      <use xlink:href=\"#DejaVuSans-61\" x=\"59.179688\"/>\n      <use xlink:href=\"#DejaVuSans-6c\" x=\"120.458984\"/>\n      <use xlink:href=\"#DejaVuSans-5f\" x=\"148.242188\"/>\n      <use xlink:href=\"#DejaVuSans-61\" x=\"198.242188\"/>\n      <use xlink:href=\"#DejaVuSans-63\" x=\"259.521484\"/>\n      <use xlink:href=\"#DejaVuSans-63\" x=\"314.501953\"/>\n     </g>\n    </g>\n   </g>\n  </g>\n </g>\n <defs>\n  <clipPath id=\"pa3c6706740\">\n   <rect x=\"30.103125\" y=\"7.2\" width=\"195.3\" height=\"138.6\"/>\n  </clipPath>\n </defs>\n</svg>\n"
          },
          "metadata": {}
        }
      ],
      "source": [
        "hparams = {'num_outputs':10, 'num_hiddens_1':256, 'num_hiddens_2':256,\n",
        "           'dropout_1':0.5, 'dropout_2':0.5, 'lr':0.1}\n",
        "model = DropoutMLPScratch(**hparams)\n",
        "data = d2l.FashionMNIST(batch_size=256)\n",
        "trainer = d2l.Trainer(max_epochs=10)\n",
        "trainer.fit(model, data)"
      ]
    },
    {
      "cell_type": "markdown",
      "id": "101c89c1",
      "metadata": {
        "id": "101c89c1",
        "origin_pos": 20
      },
      "source": [
        "## [**Concise Implementation**]\n",
        "\n",
        "With high-level APIs, all we need to do is add a `Dropout` layer\n",
        "after each fully connected layer,\n",
        "passing in the dropout probability\n",
        "as the only argument to its constructor.\n",
        "During training, the `Dropout` layer will randomly\n",
        "drop out outputs of the previous layer\n",
        "(or equivalently, the inputs to the subsequent layer)\n",
        "according to the specified dropout probability.\n",
        "When not in training mode,\n",
        "the `Dropout` layer simply passes the data through during testing.\n"
      ]
    },
    {
      "cell_type": "code",
      "execution_count": null,
      "id": "224bafde",
      "metadata": {
        "execution": {
          "iopub.execute_input": "2023-08-18T19:34:13.202812Z",
          "iopub.status.busy": "2023-08-18T19:34:13.202080Z",
          "iopub.status.idle": "2023-08-18T19:34:13.208377Z",
          "shell.execute_reply": "2023-08-18T19:34:13.207307Z"
        },
        "id": "224bafde",
        "origin_pos": 22,
        "tab": [
          "pytorch"
        ]
      },
      "outputs": [],
      "source": [
        "class DropoutMLP(d2l.Classifier):\n",
        "    def __init__(self, num_outputs, num_hiddens_1, num_hiddens_2,\n",
        "                 dropout_1, dropout_2, lr):\n",
        "        super().__init__()\n",
        "        self.save_hyperparameters()\n",
        "        self.net = nn.Sequential(\n",
        "            nn.Flatten(), nn.LazyLinear(num_hiddens_1), nn.ReLU(),\n",
        "            nn.Dropout(dropout_1), nn.LazyLinear(num_hiddens_2), nn.ReLU(),\n",
        "            nn.Dropout(dropout_2), nn.LazyLinear(num_outputs))"
      ]
    },
    {
      "cell_type": "markdown",
      "id": "877d8ec2",
      "metadata": {
        "id": "877d8ec2",
        "origin_pos": 27
      },
      "source": [
        "Next, we [**train the model**].\n"
      ]
    },
    {
      "cell_type": "code",
      "execution_count": null,
      "id": "d9e0ea94",
      "metadata": {
        "execution": {
          "iopub.execute_input": "2023-08-18T19:34:13.212381Z",
          "iopub.status.busy": "2023-08-18T19:34:13.211782Z",
          "iopub.status.idle": "2023-08-18T19:35:25.030389Z",
          "shell.execute_reply": "2023-08-18T19:35:25.029011Z"
        },
        "id": "d9e0ea94",
        "origin_pos": 28,
        "outputId": "838e360c-47f5-4c8b-db9e-64df619a8eda",
        "tab": [
          "pytorch"
        ],
        "colab": {
          "base_uri": "https://localhost:8080/",
          "height": 266
        }
      },
      "outputs": [
        {
          "output_type": "display_data",
          "data": {
            "text/plain": [
              "<Figure size 350x250 with 1 Axes>"
            ],
            "image/svg+xml": "<?xml version=\"1.0\" encoding=\"utf-8\" standalone=\"no\"?>\n<!DOCTYPE svg PUBLIC \"-//W3C//DTD SVG 1.1//EN\"\n  \"http://www.w3.org/Graphics/SVG/1.1/DTD/svg11.dtd\">\n<svg xmlns:xlink=\"http://www.w3.org/1999/xlink\" width=\"238.965625pt\" height=\"183.35625pt\" viewBox=\"0 0 238.965625 183.35625\" xmlns=\"http://www.w3.org/2000/svg\" version=\"1.1\">\n <metadata>\n  <rdf:RDF xmlns:dc=\"http://purl.org/dc/elements/1.1/\" xmlns:cc=\"http://creativecommons.org/ns#\" xmlns:rdf=\"http://www.w3.org/1999/02/22-rdf-syntax-ns#\">\n   <cc:Work>\n    <dc:type rdf:resource=\"http://purl.org/dc/dcmitype/StillImage\"/>\n    <dc:date>2024-09-13T08:42:43.783267</dc:date>\n    <dc:format>image/svg+xml</dc:format>\n    <dc:creator>\n     <cc:Agent>\n      <dc:title>Matplotlib v3.7.2, https://matplotlib.org/</dc:title>\n     </cc:Agent>\n    </dc:creator>\n   </cc:Work>\n  </rdf:RDF>\n </metadata>\n <defs>\n  <style type=\"text/css\">*{stroke-linejoin: round; stroke-linecap: butt}</style>\n </defs>\n <g id=\"figure_1\">\n  <g id=\"patch_1\">\n   <path d=\"M 0 183.35625 \nL 238.965625 183.35625 \nL 238.965625 0 \nL 0 0 \nz\n\" style=\"fill: #ffffff\"/>\n  </g>\n  <g id=\"axes_1\">\n   <g id=\"patch_2\">\n    <path d=\"M 30.103125 145.8 \nL 225.403125 145.8 \nL 225.403125 7.2 \nL 30.103125 7.2 \nz\n\" style=\"fill: #ffffff\"/>\n   </g>\n   <g id=\"matplotlib.axis_1\">\n    <g id=\"xtick_1\">\n     <g id=\"line2d_1\">\n      <defs>\n       <path id=\"m0f44e2a021\" d=\"M 0 0 \nL 0 3.5 \n\" style=\"stroke: #000000; stroke-width: 0.8\"/>\n      </defs>\n      <g>\n       <use xlink:href=\"#m0f44e2a021\" x=\"30.103125\" y=\"145.8\" style=\"stroke: #000000; stroke-width: 0.8\"/>\n      </g>\n     </g>\n     <g id=\"text_1\">\n      <!-- 0 -->\n      <g transform=\"translate(26.921875 160.398438) scale(0.1 -0.1)\">\n       <defs>\n        <path id=\"DejaVuSans-30\" d=\"M 2034 4250 \nQ 1547 4250 1301 3770 \nQ 1056 3291 1056 2328 \nQ 1056 1369 1301 889 \nQ 1547 409 2034 409 \nQ 2525 409 2770 889 \nQ 3016 1369 3016 2328 \nQ 3016 3291 2770 3770 \nQ 2525 4250 2034 4250 \nz\nM 2034 4750 \nQ 2819 4750 3233 4129 \nQ 3647 3509 3647 2328 \nQ 3647 1150 3233 529 \nQ 2819 -91 2034 -91 \nQ 1250 -91 836 529 \nQ 422 1150 422 2328 \nQ 422 3509 836 4129 \nQ 1250 4750 2034 4750 \nz\n\" transform=\"scale(0.015625)\"/>\n       </defs>\n       <use xlink:href=\"#DejaVuSans-30\"/>\n      </g>\n     </g>\n    </g>\n    <g id=\"xtick_2\">\n     <g id=\"line2d_2\">\n      <g>\n       <use xlink:href=\"#m0f44e2a021\" x=\"69.163125\" y=\"145.8\" style=\"stroke: #000000; stroke-width: 0.8\"/>\n      </g>\n     </g>\n     <g id=\"text_2\">\n      <!-- 2 -->\n      <g transform=\"translate(65.981875 160.398438) scale(0.1 -0.1)\">\n       <defs>\n        <path id=\"DejaVuSans-32\" d=\"M 1228 531 \nL 3431 531 \nL 3431 0 \nL 469 0 \nL 469 531 \nQ 828 903 1448 1529 \nQ 2069 2156 2228 2338 \nQ 2531 2678 2651 2914 \nQ 2772 3150 2772 3378 \nQ 2772 3750 2511 3984 \nQ 2250 4219 1831 4219 \nQ 1534 4219 1204 4116 \nQ 875 4013 500 3803 \nL 500 4441 \nQ 881 4594 1212 4672 \nQ 1544 4750 1819 4750 \nQ 2544 4750 2975 4387 \nQ 3406 4025 3406 3419 \nQ 3406 3131 3298 2873 \nQ 3191 2616 2906 2266 \nQ 2828 2175 2409 1742 \nQ 1991 1309 1228 531 \nz\n\" transform=\"scale(0.015625)\"/>\n       </defs>\n       <use xlink:href=\"#DejaVuSans-32\"/>\n      </g>\n     </g>\n    </g>\n    <g id=\"xtick_3\">\n     <g id=\"line2d_3\">\n      <g>\n       <use xlink:href=\"#m0f44e2a021\" x=\"108.223125\" y=\"145.8\" style=\"stroke: #000000; stroke-width: 0.8\"/>\n      </g>\n     </g>\n     <g id=\"text_3\">\n      <!-- 4 -->\n      <g transform=\"translate(105.041875 160.398438) scale(0.1 -0.1)\">\n       <defs>\n        <path id=\"DejaVuSans-34\" d=\"M 2419 4116 \nL 825 1625 \nL 2419 1625 \nL 2419 4116 \nz\nM 2253 4666 \nL 3047 4666 \nL 3047 1625 \nL 3713 1625 \nL 3713 1100 \nL 3047 1100 \nL 3047 0 \nL 2419 0 \nL 2419 1100 \nL 313 1100 \nL 313 1709 \nL 2253 4666 \nz\n\" transform=\"scale(0.015625)\"/>\n       </defs>\n       <use xlink:href=\"#DejaVuSans-34\"/>\n      </g>\n     </g>\n    </g>\n    <g id=\"xtick_4\">\n     <g id=\"line2d_4\">\n      <g>\n       <use xlink:href=\"#m0f44e2a021\" x=\"147.283125\" y=\"145.8\" style=\"stroke: #000000; stroke-width: 0.8\"/>\n      </g>\n     </g>\n     <g id=\"text_4\">\n      <!-- 6 -->\n      <g transform=\"translate(144.101875 160.398438) scale(0.1 -0.1)\">\n       <defs>\n        <path id=\"DejaVuSans-36\" d=\"M 2113 2584 \nQ 1688 2584 1439 2293 \nQ 1191 2003 1191 1497 \nQ 1191 994 1439 701 \nQ 1688 409 2113 409 \nQ 2538 409 2786 701 \nQ 3034 994 3034 1497 \nQ 3034 2003 2786 2293 \nQ 2538 2584 2113 2584 \nz\nM 3366 4563 \nL 3366 3988 \nQ 3128 4100 2886 4159 \nQ 2644 4219 2406 4219 \nQ 1781 4219 1451 3797 \nQ 1122 3375 1075 2522 \nQ 1259 2794 1537 2939 \nQ 1816 3084 2150 3084 \nQ 2853 3084 3261 2657 \nQ 3669 2231 3669 1497 \nQ 3669 778 3244 343 \nQ 2819 -91 2113 -91 \nQ 1303 -91 875 529 \nQ 447 1150 447 2328 \nQ 447 3434 972 4092 \nQ 1497 4750 2381 4750 \nQ 2619 4750 2861 4703 \nQ 3103 4656 3366 4563 \nz\n\" transform=\"scale(0.015625)\"/>\n       </defs>\n       <use xlink:href=\"#DejaVuSans-36\"/>\n      </g>\n     </g>\n    </g>\n    <g id=\"xtick_5\">\n     <g id=\"line2d_5\">\n      <g>\n       <use xlink:href=\"#m0f44e2a021\" x=\"186.343125\" y=\"145.8\" style=\"stroke: #000000; stroke-width: 0.8\"/>\n      </g>\n     </g>\n     <g id=\"text_5\">\n      <!-- 8 -->\n      <g transform=\"translate(183.161875 160.398438) scale(0.1 -0.1)\">\n       <defs>\n        <path id=\"DejaVuSans-38\" d=\"M 2034 2216 \nQ 1584 2216 1326 1975 \nQ 1069 1734 1069 1313 \nQ 1069 891 1326 650 \nQ 1584 409 2034 409 \nQ 2484 409 2743 651 \nQ 3003 894 3003 1313 \nQ 3003 1734 2745 1975 \nQ 2488 2216 2034 2216 \nz\nM 1403 2484 \nQ 997 2584 770 2862 \nQ 544 3141 544 3541 \nQ 544 4100 942 4425 \nQ 1341 4750 2034 4750 \nQ 2731 4750 3128 4425 \nQ 3525 4100 3525 3541 \nQ 3525 3141 3298 2862 \nQ 3072 2584 2669 2484 \nQ 3125 2378 3379 2068 \nQ 3634 1759 3634 1313 \nQ 3634 634 3220 271 \nQ 2806 -91 2034 -91 \nQ 1263 -91 848 271 \nQ 434 634 434 1313 \nQ 434 1759 690 2068 \nQ 947 2378 1403 2484 \nz\nM 1172 3481 \nQ 1172 3119 1398 2916 \nQ 1625 2713 2034 2713 \nQ 2441 2713 2670 2916 \nQ 2900 3119 2900 3481 \nQ 2900 3844 2670 4047 \nQ 2441 4250 2034 4250 \nQ 1625 4250 1398 4047 \nQ 1172 3844 1172 3481 \nz\n\" transform=\"scale(0.015625)\"/>\n       </defs>\n       <use xlink:href=\"#DejaVuSans-38\"/>\n      </g>\n     </g>\n    </g>\n    <g id=\"xtick_6\">\n     <g id=\"line2d_6\">\n      <g>\n       <use xlink:href=\"#m0f44e2a021\" x=\"225.403125\" y=\"145.8\" style=\"stroke: #000000; stroke-width: 0.8\"/>\n      </g>\n     </g>\n     <g id=\"text_6\">\n      <!-- 10 -->\n      <g transform=\"translate(219.040625 160.398438) scale(0.1 -0.1)\">\n       <defs>\n        <path id=\"DejaVuSans-31\" d=\"M 794 531 \nL 1825 531 \nL 1825 4091 \nL 703 3866 \nL 703 4441 \nL 1819 4666 \nL 2450 4666 \nL 2450 531 \nL 3481 531 \nL 3481 0 \nL 794 0 \nL 794 531 \nz\n\" transform=\"scale(0.015625)\"/>\n       </defs>\n       <use xlink:href=\"#DejaVuSans-31\"/>\n       <use xlink:href=\"#DejaVuSans-30\" x=\"63.623047\"/>\n      </g>\n     </g>\n    </g>\n    <g id=\"text_7\">\n     <!-- epoch -->\n     <g transform=\"translate(112.525 174.076563) scale(0.1 -0.1)\">\n      <defs>\n       <path id=\"DejaVuSans-65\" d=\"M 3597 1894 \nL 3597 1613 \nL 953 1613 \nQ 991 1019 1311 708 \nQ 1631 397 2203 397 \nQ 2534 397 2845 478 \nQ 3156 559 3463 722 \nL 3463 178 \nQ 3153 47 2828 -22 \nQ 2503 -91 2169 -91 \nQ 1331 -91 842 396 \nQ 353 884 353 1716 \nQ 353 2575 817 3079 \nQ 1281 3584 2069 3584 \nQ 2775 3584 3186 3129 \nQ 3597 2675 3597 1894 \nz\nM 3022 2063 \nQ 3016 2534 2758 2815 \nQ 2500 3097 2075 3097 \nQ 1594 3097 1305 2825 \nQ 1016 2553 972 2059 \nL 3022 2063 \nz\n\" transform=\"scale(0.015625)\"/>\n       <path id=\"DejaVuSans-70\" d=\"M 1159 525 \nL 1159 -1331 \nL 581 -1331 \nL 581 3500 \nL 1159 3500 \nL 1159 2969 \nQ 1341 3281 1617 3432 \nQ 1894 3584 2278 3584 \nQ 2916 3584 3314 3078 \nQ 3713 2572 3713 1747 \nQ 3713 922 3314 415 \nQ 2916 -91 2278 -91 \nQ 1894 -91 1617 61 \nQ 1341 213 1159 525 \nz\nM 3116 1747 \nQ 3116 2381 2855 2742 \nQ 2594 3103 2138 3103 \nQ 1681 3103 1420 2742 \nQ 1159 2381 1159 1747 \nQ 1159 1113 1420 752 \nQ 1681 391 2138 391 \nQ 2594 391 2855 752 \nQ 3116 1113 3116 1747 \nz\n\" transform=\"scale(0.015625)\"/>\n       <path id=\"DejaVuSans-6f\" d=\"M 1959 3097 \nQ 1497 3097 1228 2736 \nQ 959 2375 959 1747 \nQ 959 1119 1226 758 \nQ 1494 397 1959 397 \nQ 2419 397 2687 759 \nQ 2956 1122 2956 1747 \nQ 2956 2369 2687 2733 \nQ 2419 3097 1959 3097 \nz\nM 1959 3584 \nQ 2709 3584 3137 3096 \nQ 3566 2609 3566 1747 \nQ 3566 888 3137 398 \nQ 2709 -91 1959 -91 \nQ 1206 -91 779 398 \nQ 353 888 353 1747 \nQ 353 2609 779 3096 \nQ 1206 3584 1959 3584 \nz\n\" transform=\"scale(0.015625)\"/>\n       <path id=\"DejaVuSans-63\" d=\"M 3122 3366 \nL 3122 2828 \nQ 2878 2963 2633 3030 \nQ 2388 3097 2138 3097 \nQ 1578 3097 1268 2742 \nQ 959 2388 959 1747 \nQ 959 1106 1268 751 \nQ 1578 397 2138 397 \nQ 2388 397 2633 464 \nQ 2878 531 3122 666 \nL 3122 134 \nQ 2881 22 2623 -34 \nQ 2366 -91 2075 -91 \nQ 1284 -91 818 406 \nQ 353 903 353 1747 \nQ 353 2603 823 3093 \nQ 1294 3584 2113 3584 \nQ 2378 3584 2631 3529 \nQ 2884 3475 3122 3366 \nz\n\" transform=\"scale(0.015625)\"/>\n       <path id=\"DejaVuSans-68\" d=\"M 3513 2113 \nL 3513 0 \nL 2938 0 \nL 2938 2094 \nQ 2938 2591 2744 2837 \nQ 2550 3084 2163 3084 \nQ 1697 3084 1428 2787 \nQ 1159 2491 1159 1978 \nL 1159 0 \nL 581 0 \nL 581 4863 \nL 1159 4863 \nL 1159 2956 \nQ 1366 3272 1645 3428 \nQ 1925 3584 2291 3584 \nQ 2894 3584 3203 3211 \nQ 3513 2838 3513 2113 \nz\n\" transform=\"scale(0.015625)\"/>\n      </defs>\n      <use xlink:href=\"#DejaVuSans-65\"/>\n      <use xlink:href=\"#DejaVuSans-70\" x=\"61.523438\"/>\n      <use xlink:href=\"#DejaVuSans-6f\" x=\"125\"/>\n      <use xlink:href=\"#DejaVuSans-63\" x=\"186.181641\"/>\n      <use xlink:href=\"#DejaVuSans-68\" x=\"241.162109\"/>\n     </g>\n    </g>\n   </g>\n   <g id=\"matplotlib.axis_2\">\n    <g id=\"ytick_1\">\n     <g id=\"line2d_7\">\n      <defs>\n       <path id=\"ma1a6fb3e33\" d=\"M 0 0 \nL -3.5 0 \n\" style=\"stroke: #000000; stroke-width: 0.8\"/>\n      </defs>\n      <g>\n       <use xlink:href=\"#ma1a6fb3e33\" x=\"30.103125\" y=\"141.008872\" style=\"stroke: #000000; stroke-width: 0.8\"/>\n      </g>\n     </g>\n     <g id=\"text_8\">\n      <!-- 0.4 -->\n      <g transform=\"translate(7.2 144.808091) scale(0.1 -0.1)\">\n       <defs>\n        <path id=\"DejaVuSans-2e\" d=\"M 684 794 \nL 1344 794 \nL 1344 0 \nL 684 0 \nL 684 794 \nz\n\" transform=\"scale(0.015625)\"/>\n       </defs>\n       <use xlink:href=\"#DejaVuSans-30\"/>\n       <use xlink:href=\"#DejaVuSans-2e\" x=\"63.623047\"/>\n       <use xlink:href=\"#DejaVuSans-34\" x=\"95.410156\"/>\n      </g>\n     </g>\n    </g>\n    <g id=\"ytick_2\">\n     <g id=\"line2d_8\">\n      <g>\n       <use xlink:href=\"#ma1a6fb3e33\" x=\"30.103125\" y=\"117.369451\" style=\"stroke: #000000; stroke-width: 0.8\"/>\n      </g>\n     </g>\n     <g id=\"text_9\">\n      <!-- 0.6 -->\n      <g transform=\"translate(7.2 121.16867) scale(0.1 -0.1)\">\n       <use xlink:href=\"#DejaVuSans-30\"/>\n       <use xlink:href=\"#DejaVuSans-2e\" x=\"63.623047\"/>\n       <use xlink:href=\"#DejaVuSans-36\" x=\"95.410156\"/>\n      </g>\n     </g>\n    </g>\n    <g id=\"ytick_3\">\n     <g id=\"line2d_9\">\n      <g>\n       <use xlink:href=\"#ma1a6fb3e33\" x=\"30.103125\" y=\"93.730031\" style=\"stroke: #000000; stroke-width: 0.8\"/>\n      </g>\n     </g>\n     <g id=\"text_10\">\n      <!-- 0.8 -->\n      <g transform=\"translate(7.2 97.529249) scale(0.1 -0.1)\">\n       <use xlink:href=\"#DejaVuSans-30\"/>\n       <use xlink:href=\"#DejaVuSans-2e\" x=\"63.623047\"/>\n       <use xlink:href=\"#DejaVuSans-38\" x=\"95.410156\"/>\n      </g>\n     </g>\n    </g>\n    <g id=\"ytick_4\">\n     <g id=\"line2d_10\">\n      <g>\n       <use xlink:href=\"#ma1a6fb3e33\" x=\"30.103125\" y=\"70.09061\" style=\"stroke: #000000; stroke-width: 0.8\"/>\n      </g>\n     </g>\n     <g id=\"text_11\">\n      <!-- 1.0 -->\n      <g transform=\"translate(7.2 73.889829) scale(0.1 -0.1)\">\n       <use xlink:href=\"#DejaVuSans-31\"/>\n       <use xlink:href=\"#DejaVuSans-2e\" x=\"63.623047\"/>\n       <use xlink:href=\"#DejaVuSans-30\" x=\"95.410156\"/>\n      </g>\n     </g>\n    </g>\n    <g id=\"ytick_5\">\n     <g id=\"line2d_11\">\n      <g>\n       <use xlink:href=\"#ma1a6fb3e33\" x=\"30.103125\" y=\"46.451189\" style=\"stroke: #000000; stroke-width: 0.8\"/>\n      </g>\n     </g>\n     <g id=\"text_12\">\n      <!-- 1.2 -->\n      <g transform=\"translate(7.2 50.250408) scale(0.1 -0.1)\">\n       <use xlink:href=\"#DejaVuSans-31\"/>\n       <use xlink:href=\"#DejaVuSans-2e\" x=\"63.623047\"/>\n       <use xlink:href=\"#DejaVuSans-32\" x=\"95.410156\"/>\n      </g>\n     </g>\n    </g>\n    <g id=\"ytick_6\">\n     <g id=\"line2d_12\">\n      <g>\n       <use xlink:href=\"#ma1a6fb3e33\" x=\"30.103125\" y=\"22.811769\" style=\"stroke: #000000; stroke-width: 0.8\"/>\n      </g>\n     </g>\n     <g id=\"text_13\">\n      <!-- 1.4 -->\n      <g transform=\"translate(7.2 26.610987) scale(0.1 -0.1)\">\n       <use xlink:href=\"#DejaVuSans-31\"/>\n       <use xlink:href=\"#DejaVuSans-2e\" x=\"63.623047\"/>\n       <use xlink:href=\"#DejaVuSans-34\" x=\"95.410156\"/>\n      </g>\n     </g>\n    </g>\n   </g>\n   <g id=\"line2d_13\">\n    <path d=\"M 34.923295 13.5 \n\" clip-path=\"url(#p43761366a0)\" style=\"fill: none; stroke: #1f77b4; stroke-width: 1.5; stroke-linecap: square\"/>\n   </g>\n   <g id=\"line2d_14\">\n    <path d=\"M 34.923295 13.5 \nL 44.646742 86.863213 \n\" clip-path=\"url(#p43761366a0)\" style=\"fill: none; stroke: #1f77b4; stroke-width: 1.5; stroke-linecap: square\"/>\n   </g>\n   <g id=\"line2d_15\">\n    <path d=\"M 34.923295 13.5 \nL 44.646742 86.863213 \n\" clip-path=\"url(#p43761366a0)\" style=\"fill: none; stroke: #1f77b4; stroke-width: 1.5; stroke-linecap: square\"/>\n   </g>\n   <g id=\"line2d_16\">\n    <path d=\"M 49.633125 106.187706 \n\" clip-path=\"url(#p43761366a0)\" style=\"fill: none; stroke-dasharray: 5.55,2.4; stroke-dashoffset: 0; stroke: #ff7f0e; stroke-width: 1.5\"/>\n   </g>\n   <g id=\"line2d_17\"/>\n   <g id=\"line2d_18\">\n    <path d=\"M 34.923295 13.5 \nL 44.646742 86.863213 \n\" clip-path=\"url(#p43761366a0)\" style=\"fill: none; stroke: #1f77b4; stroke-width: 1.5; stroke-linecap: square\"/>\n   </g>\n   <g id=\"line2d_19\">\n    <path d=\"M 49.633125 106.187706 \n\" clip-path=\"url(#p43761366a0)\" style=\"fill: none; stroke-dasharray: 5.55,2.4; stroke-dashoffset: 0; stroke: #ff7f0e; stroke-width: 1.5\"/>\n   </g>\n   <g id=\"line2d_20\">\n    <path d=\"M 49.633125 100.81724 \n\" clip-path=\"url(#p43761366a0)\" style=\"fill: none; stroke-dasharray: 9.6,2.4,1.5,2.4; stroke-dashoffset: 0; stroke: #2ca02c; stroke-width: 1.5\"/>\n   </g>\n   <g id=\"line2d_21\">\n    <path d=\"M 34.923295 13.5 \nL 44.646742 86.863213 \nL 54.370189 102.174487 \n\" clip-path=\"url(#p43761366a0)\" style=\"fill: none; stroke: #1f77b4; stroke-width: 1.5; stroke-linecap: square\"/>\n   </g>\n   <g id=\"line2d_22\">\n    <path d=\"M 49.633125 106.187706 \n\" clip-path=\"url(#p43761366a0)\" style=\"fill: none; stroke-dasharray: 5.55,2.4; stroke-dashoffset: 0; stroke: #ff7f0e; stroke-width: 1.5\"/>\n   </g>\n   <g id=\"line2d_23\">\n    <path d=\"M 49.633125 100.81724 \n\" clip-path=\"url(#p43761366a0)\" style=\"fill: none; stroke-dasharray: 9.6,2.4,1.5,2.4; stroke-dashoffset: 0; stroke: #2ca02c; stroke-width: 1.5\"/>\n   </g>\n   <g id=\"line2d_24\">\n    <path d=\"M 34.923295 13.5 \nL 44.646742 86.863213 \nL 54.370189 102.174487 \nL 64.093636 110.96658 \n\" clip-path=\"url(#p43761366a0)\" style=\"fill: none; stroke: #1f77b4; stroke-width: 1.5; stroke-linecap: square\"/>\n   </g>\n   <g id=\"line2d_25\">\n    <path d=\"M 49.633125 106.187706 \n\" clip-path=\"url(#p43761366a0)\" style=\"fill: none; stroke-dasharray: 5.55,2.4; stroke-dashoffset: 0; stroke: #ff7f0e; stroke-width: 1.5\"/>\n   </g>\n   <g id=\"line2d_26\">\n    <path d=\"M 49.633125 100.81724 \n\" clip-path=\"url(#p43761366a0)\" style=\"fill: none; stroke-dasharray: 9.6,2.4,1.5,2.4; stroke-dashoffset: 0; stroke: #2ca02c; stroke-width: 1.5\"/>\n   </g>\n   <g id=\"line2d_27\">\n    <path d=\"M 34.923295 13.5 \nL 44.646742 86.863213 \nL 54.370189 102.174487 \nL 64.093636 110.96658 \n\" clip-path=\"url(#p43761366a0)\" style=\"fill: none; stroke: #1f77b4; stroke-width: 1.5; stroke-linecap: square\"/>\n   </g>\n   <g id=\"line2d_28\">\n    <path d=\"M 49.633125 106.187706 \nL 69.163125 120.894706 \n\" clip-path=\"url(#p43761366a0)\" style=\"fill: none; stroke-dasharray: 5.55,2.4; stroke-dashoffset: 0; stroke: #ff7f0e; stroke-width: 1.5\"/>\n   </g>\n   <g id=\"line2d_29\">\n    <path d=\"M 49.633125 100.81724 \n\" clip-path=\"url(#p43761366a0)\" style=\"fill: none; stroke-dasharray: 9.6,2.4,1.5,2.4; stroke-dashoffset: 0; stroke: #2ca02c; stroke-width: 1.5\"/>\n   </g>\n   <g id=\"line2d_30\">\n    <path d=\"M 34.923295 13.5 \nL 44.646742 86.863213 \nL 54.370189 102.174487 \nL 64.093636 110.96658 \n\" clip-path=\"url(#p43761366a0)\" style=\"fill: none; stroke: #1f77b4; stroke-width: 1.5; stroke-linecap: square\"/>\n   </g>\n   <g id=\"line2d_31\">\n    <path d=\"M 49.633125 106.187706 \nL 69.163125 120.894706 \n\" clip-path=\"url(#p43761366a0)\" style=\"fill: none; stroke-dasharray: 5.55,2.4; stroke-dashoffset: 0; stroke: #ff7f0e; stroke-width: 1.5\"/>\n   </g>\n   <g id=\"line2d_32\">\n    <path d=\"M 49.633125 100.81724 \nL 69.163125 94.907384 \n\" clip-path=\"url(#p43761366a0)\" style=\"fill: none; stroke-dasharray: 9.6,2.4,1.5,2.4; stroke-dashoffset: 0; stroke: #2ca02c; stroke-width: 1.5\"/>\n   </g>\n   <g id=\"line2d_33\">\n    <path d=\"M 34.923295 13.5 \nL 44.646742 86.863213 \nL 54.370189 102.174487 \nL 64.093636 110.96658 \nL 73.817082 117.057269 \n\" clip-path=\"url(#p43761366a0)\" style=\"fill: none; stroke: #1f77b4; stroke-width: 1.5; stroke-linecap: square\"/>\n   </g>\n   <g id=\"line2d_34\">\n    <path d=\"M 49.633125 106.187706 \nL 69.163125 120.894706 \n\" clip-path=\"url(#p43761366a0)\" style=\"fill: none; stroke-dasharray: 5.55,2.4; stroke-dashoffset: 0; stroke: #ff7f0e; stroke-width: 1.5\"/>\n   </g>\n   <g id=\"line2d_35\">\n    <path d=\"M 49.633125 100.81724 \nL 69.163125 94.907384 \n\" clip-path=\"url(#p43761366a0)\" style=\"fill: none; stroke-dasharray: 9.6,2.4,1.5,2.4; stroke-dashoffset: 0; stroke: #2ca02c; stroke-width: 1.5\"/>\n   </g>\n   <g id=\"line2d_36\">\n    <path d=\"M 34.923295 13.5 \nL 44.646742 86.863213 \nL 54.370189 102.174487 \nL 64.093636 110.96658 \nL 73.817082 117.057269 \nL 83.540529 120.117442 \n\" clip-path=\"url(#p43761366a0)\" style=\"fill: none; stroke: #1f77b4; stroke-width: 1.5; stroke-linecap: square\"/>\n   </g>\n   <g id=\"line2d_37\">\n    <path d=\"M 49.633125 106.187706 \nL 69.163125 120.894706 \n\" clip-path=\"url(#p43761366a0)\" style=\"fill: none; stroke-dasharray: 5.55,2.4; stroke-dashoffset: 0; stroke: #ff7f0e; stroke-width: 1.5\"/>\n   </g>\n   <g id=\"line2d_38\">\n    <path d=\"M 49.633125 100.81724 \nL 69.163125 94.907384 \n\" clip-path=\"url(#p43761366a0)\" style=\"fill: none; stroke-dasharray: 9.6,2.4,1.5,2.4; stroke-dashoffset: 0; stroke: #2ca02c; stroke-width: 1.5\"/>\n   </g>\n   <g id=\"line2d_39\">\n    <path d=\"M 34.923295 13.5 \nL 44.646742 86.863213 \nL 54.370189 102.174487 \nL 64.093636 110.96658 \nL 73.817082 117.057269 \nL 83.540529 120.117442 \n\" clip-path=\"url(#p43761366a0)\" style=\"fill: none; stroke: #1f77b4; stroke-width: 1.5; stroke-linecap: square\"/>\n   </g>\n   <g id=\"line2d_40\">\n    <path d=\"M 49.633125 106.187706 \nL 69.163125 120.894706 \nL 88.693125 127.793403 \n\" clip-path=\"url(#p43761366a0)\" style=\"fill: none; stroke-dasharray: 5.55,2.4; stroke-dashoffset: 0; stroke: #ff7f0e; stroke-width: 1.5\"/>\n   </g>\n   <g id=\"line2d_41\">\n    <path d=\"M 49.633125 100.81724 \nL 69.163125 94.907384 \n\" clip-path=\"url(#p43761366a0)\" style=\"fill: none; stroke-dasharray: 9.6,2.4,1.5,2.4; stroke-dashoffset: 0; stroke: #2ca02c; stroke-width: 1.5\"/>\n   </g>\n   <g id=\"line2d_42\">\n    <path d=\"M 34.923295 13.5 \nL 44.646742 86.863213 \nL 54.370189 102.174487 \nL 64.093636 110.96658 \nL 73.817082 117.057269 \nL 83.540529 120.117442 \n\" clip-path=\"url(#p43761366a0)\" style=\"fill: none; stroke: #1f77b4; stroke-width: 1.5; stroke-linecap: square\"/>\n   </g>\n   <g id=\"line2d_43\">\n    <path d=\"M 49.633125 106.187706 \nL 69.163125 120.894706 \nL 88.693125 127.793403 \n\" clip-path=\"url(#p43761366a0)\" style=\"fill: none; stroke-dasharray: 5.55,2.4; stroke-dashoffset: 0; stroke: #ff7f0e; stroke-width: 1.5\"/>\n   </g>\n   <g id=\"line2d_44\">\n    <path d=\"M 49.633125 100.81724 \nL 69.163125 94.907384 \nL 88.693125 92.217939 \n\" clip-path=\"url(#p43761366a0)\" style=\"fill: none; stroke-dasharray: 9.6,2.4,1.5,2.4; stroke-dashoffset: 0; stroke: #2ca02c; stroke-width: 1.5\"/>\n   </g>\n   <g id=\"line2d_45\">\n    <path d=\"M 34.923295 13.5 \nL 44.646742 86.863213 \nL 54.370189 102.174487 \nL 64.093636 110.96658 \nL 73.817082 117.057269 \nL 83.540529 120.117442 \nL 93.263976 124.567959 \n\" clip-path=\"url(#p43761366a0)\" style=\"fill: none; stroke: #1f77b4; stroke-width: 1.5; stroke-linecap: square\"/>\n   </g>\n   <g id=\"line2d_46\">\n    <path d=\"M 49.633125 106.187706 \nL 69.163125 120.894706 \nL 88.693125 127.793403 \n\" clip-path=\"url(#p43761366a0)\" style=\"fill: none; stroke-dasharray: 5.55,2.4; stroke-dashoffset: 0; stroke: #ff7f0e; stroke-width: 1.5\"/>\n   </g>\n   <g id=\"line2d_47\">\n    <path d=\"M 49.633125 100.81724 \nL 69.163125 94.907384 \nL 88.693125 92.217939 \n\" clip-path=\"url(#p43761366a0)\" style=\"fill: none; stroke-dasharray: 9.6,2.4,1.5,2.4; stroke-dashoffset: 0; stroke: #2ca02c; stroke-width: 1.5\"/>\n   </g>\n   <g id=\"line2d_48\">\n    <path d=\"M 34.923295 13.5 \nL 44.646742 86.863213 \nL 54.370189 102.174487 \nL 64.093636 110.96658 \nL 73.817082 117.057269 \nL 83.540529 120.117442 \nL 93.263976 124.567959 \nL 102.987423 125.466294 \n\" clip-path=\"url(#p43761366a0)\" style=\"fill: none; stroke: #1f77b4; stroke-width: 1.5; stroke-linecap: square\"/>\n   </g>\n   <g id=\"line2d_49\">\n    <path d=\"M 49.633125 106.187706 \nL 69.163125 120.894706 \nL 88.693125 127.793403 \n\" clip-path=\"url(#p43761366a0)\" style=\"fill: none; stroke-dasharray: 5.55,2.4; stroke-dashoffset: 0; stroke: #ff7f0e; stroke-width: 1.5\"/>\n   </g>\n   <g id=\"line2d_50\">\n    <path d=\"M 49.633125 100.81724 \nL 69.163125 94.907384 \nL 88.693125 92.217939 \n\" clip-path=\"url(#p43761366a0)\" style=\"fill: none; stroke-dasharray: 9.6,2.4,1.5,2.4; stroke-dashoffset: 0; stroke: #2ca02c; stroke-width: 1.5\"/>\n   </g>\n   <g id=\"line2d_51\">\n    <path d=\"M 34.923295 13.5 \nL 44.646742 86.863213 \nL 54.370189 102.174487 \nL 64.093636 110.96658 \nL 73.817082 117.057269 \nL 83.540529 120.117442 \nL 93.263976 124.567959 \nL 102.987423 125.466294 \n\" clip-path=\"url(#p43761366a0)\" style=\"fill: none; stroke: #1f77b4; stroke-width: 1.5; stroke-linecap: square\"/>\n   </g>\n   <g id=\"line2d_52\">\n    <path d=\"M 49.633125 106.187706 \nL 69.163125 120.894706 \nL 88.693125 127.793403 \nL 108.223125 132.346737 \n\" clip-path=\"url(#p43761366a0)\" style=\"fill: none; stroke-dasharray: 5.55,2.4; stroke-dashoffset: 0; stroke: #ff7f0e; stroke-width: 1.5\"/>\n   </g>\n   <g id=\"line2d_53\">\n    <path d=\"M 49.633125 100.81724 \nL 69.163125 94.907384 \nL 88.693125 92.217939 \n\" clip-path=\"url(#p43761366a0)\" style=\"fill: none; stroke-dasharray: 9.6,2.4,1.5,2.4; stroke-dashoffset: 0; stroke: #2ca02c; stroke-width: 1.5\"/>\n   </g>\n   <g id=\"line2d_54\">\n    <path d=\"M 34.923295 13.5 \nL 44.646742 86.863213 \nL 54.370189 102.174487 \nL 64.093636 110.96658 \nL 73.817082 117.057269 \nL 83.540529 120.117442 \nL 93.263976 124.567959 \nL 102.987423 125.466294 \n\" clip-path=\"url(#p43761366a0)\" style=\"fill: none; stroke: #1f77b4; stroke-width: 1.5; stroke-linecap: square\"/>\n   </g>\n   <g id=\"line2d_55\">\n    <path d=\"M 49.633125 106.187706 \nL 69.163125 120.894706 \nL 88.693125 127.793403 \nL 108.223125 132.346737 \n\" clip-path=\"url(#p43761366a0)\" style=\"fill: none; stroke-dasharray: 5.55,2.4; stroke-dashoffset: 0; stroke: #ff7f0e; stroke-width: 1.5\"/>\n   </g>\n   <g id=\"line2d_56\">\n    <path d=\"M 49.633125 100.81724 \nL 69.163125 94.907384 \nL 88.693125 92.217939 \nL 108.223125 90.036371 \n\" clip-path=\"url(#p43761366a0)\" style=\"fill: none; stroke-dasharray: 9.6,2.4,1.5,2.4; stroke-dashoffset: 0; stroke: #2ca02c; stroke-width: 1.5\"/>\n   </g>\n   <g id=\"line2d_57\">\n    <path d=\"M 34.923295 13.5 \nL 44.646742 86.863213 \nL 54.370189 102.174487 \nL 64.093636 110.96658 \nL 73.817082 117.057269 \nL 83.540529 120.117442 \nL 93.263976 124.567959 \nL 102.987423 125.466294 \nL 112.71087 128.882084 \n\" clip-path=\"url(#p43761366a0)\" style=\"fill: none; stroke: #1f77b4; stroke-width: 1.5; stroke-linecap: square\"/>\n   </g>\n   <g id=\"line2d_58\">\n    <path d=\"M 49.633125 106.187706 \nL 69.163125 120.894706 \nL 88.693125 127.793403 \nL 108.223125 132.346737 \n\" clip-path=\"url(#p43761366a0)\" style=\"fill: none; stroke-dasharray: 5.55,2.4; stroke-dashoffset: 0; stroke: #ff7f0e; stroke-width: 1.5\"/>\n   </g>\n   <g id=\"line2d_59\">\n    <path d=\"M 49.633125 100.81724 \nL 69.163125 94.907384 \nL 88.693125 92.217939 \nL 108.223125 90.036371 \n\" clip-path=\"url(#p43761366a0)\" style=\"fill: none; stroke-dasharray: 9.6,2.4,1.5,2.4; stroke-dashoffset: 0; stroke: #2ca02c; stroke-width: 1.5\"/>\n   </g>\n   <g id=\"line2d_60\">\n    <path d=\"M 34.923295 13.5 \nL 44.646742 86.863213 \nL 54.370189 102.174487 \nL 64.093636 110.96658 \nL 73.817082 117.057269 \nL 83.540529 120.117442 \nL 93.263976 124.567959 \nL 102.987423 125.466294 \nL 112.71087 128.882084 \nL 122.434316 130.242876 \n\" clip-path=\"url(#p43761366a0)\" style=\"fill: none; stroke: #1f77b4; stroke-width: 1.5; stroke-linecap: square\"/>\n   </g>\n   <g id=\"line2d_61\">\n    <path d=\"M 49.633125 106.187706 \nL 69.163125 120.894706 \nL 88.693125 127.793403 \nL 108.223125 132.346737 \n\" clip-path=\"url(#p43761366a0)\" style=\"fill: none; stroke-dasharray: 5.55,2.4; stroke-dashoffset: 0; stroke: #ff7f0e; stroke-width: 1.5\"/>\n   </g>\n   <g id=\"line2d_62\">\n    <path d=\"M 49.633125 100.81724 \nL 69.163125 94.907384 \nL 88.693125 92.217939 \nL 108.223125 90.036371 \n\" clip-path=\"url(#p43761366a0)\" style=\"fill: none; stroke-dasharray: 9.6,2.4,1.5,2.4; stroke-dashoffset: 0; stroke: #2ca02c; stroke-width: 1.5\"/>\n   </g>\n   <g id=\"line2d_63\">\n    <path d=\"M 34.923295 13.5 \nL 44.646742 86.863213 \nL 54.370189 102.174487 \nL 64.093636 110.96658 \nL 73.817082 117.057269 \nL 83.540529 120.117442 \nL 93.263976 124.567959 \nL 102.987423 125.466294 \nL 112.71087 128.882084 \nL 122.434316 130.242876 \n\" clip-path=\"url(#p43761366a0)\" style=\"fill: none; stroke: #1f77b4; stroke-width: 1.5; stroke-linecap: square\"/>\n   </g>\n   <g id=\"line2d_64\">\n    <path d=\"M 49.633125 106.187706 \nL 69.163125 120.894706 \nL 88.693125 127.793403 \nL 108.223125 132.346737 \nL 127.753125 133.138631 \n\" clip-path=\"url(#p43761366a0)\" style=\"fill: none; stroke-dasharray: 5.55,2.4; stroke-dashoffset: 0; stroke: #ff7f0e; stroke-width: 1.5\"/>\n   </g>\n   <g id=\"line2d_65\">\n    <path d=\"M 49.633125 100.81724 \nL 69.163125 94.907384 \nL 88.693125 92.217939 \nL 108.223125 90.036371 \n\" clip-path=\"url(#p43761366a0)\" style=\"fill: none; stroke-dasharray: 9.6,2.4,1.5,2.4; stroke-dashoffset: 0; stroke: #2ca02c; stroke-width: 1.5\"/>\n   </g>\n   <g id=\"line2d_66\">\n    <path d=\"M 34.923295 13.5 \nL 44.646742 86.863213 \nL 54.370189 102.174487 \nL 64.093636 110.96658 \nL 73.817082 117.057269 \nL 83.540529 120.117442 \nL 93.263976 124.567959 \nL 102.987423 125.466294 \nL 112.71087 128.882084 \nL 122.434316 130.242876 \n\" clip-path=\"url(#p43761366a0)\" style=\"fill: none; stroke: #1f77b4; stroke-width: 1.5; stroke-linecap: square\"/>\n   </g>\n   <g id=\"line2d_67\">\n    <path d=\"M 49.633125 106.187706 \nL 69.163125 120.894706 \nL 88.693125 127.793403 \nL 108.223125 132.346737 \nL 127.753125 133.138631 \n\" clip-path=\"url(#p43761366a0)\" style=\"fill: none; stroke-dasharray: 5.55,2.4; stroke-dashoffset: 0; stroke: #ff7f0e; stroke-width: 1.5\"/>\n   </g>\n   <g id=\"line2d_68\">\n    <path d=\"M 49.633125 100.81724 \nL 69.163125 94.907384 \nL 88.693125 92.217939 \nL 108.223125 90.036371 \nL 127.753125 90.41728 \n\" clip-path=\"url(#p43761366a0)\" style=\"fill: none; stroke-dasharray: 9.6,2.4,1.5,2.4; stroke-dashoffset: 0; stroke: #2ca02c; stroke-width: 1.5\"/>\n   </g>\n   <g id=\"line2d_69\">\n    <path d=\"M 34.923295 13.5 \nL 44.646742 86.863213 \nL 54.370189 102.174487 \nL 64.093636 110.96658 \nL 73.817082 117.057269 \nL 83.540529 120.117442 \nL 93.263976 124.567959 \nL 102.987423 125.466294 \nL 112.71087 128.882084 \nL 122.434316 130.242876 \nL 132.157763 131.25451 \n\" clip-path=\"url(#p43761366a0)\" style=\"fill: none; stroke: #1f77b4; stroke-width: 1.5; stroke-linecap: square\"/>\n   </g>\n   <g id=\"line2d_70\">\n    <path d=\"M 49.633125 106.187706 \nL 69.163125 120.894706 \nL 88.693125 127.793403 \nL 108.223125 132.346737 \nL 127.753125 133.138631 \n\" clip-path=\"url(#p43761366a0)\" style=\"fill: none; stroke-dasharray: 5.55,2.4; stroke-dashoffset: 0; stroke: #ff7f0e; stroke-width: 1.5\"/>\n   </g>\n   <g id=\"line2d_71\">\n    <path d=\"M 49.633125 100.81724 \nL 69.163125 94.907384 \nL 88.693125 92.217939 \nL 108.223125 90.036371 \nL 127.753125 90.41728 \n\" clip-path=\"url(#p43761366a0)\" style=\"fill: none; stroke-dasharray: 9.6,2.4,1.5,2.4; stroke-dashoffset: 0; stroke: #2ca02c; stroke-width: 1.5\"/>\n   </g>\n   <g id=\"line2d_72\">\n    <path d=\"M 34.923295 13.5 \nL 44.646742 86.863213 \nL 54.370189 102.174487 \nL 64.093636 110.96658 \nL 73.817082 117.057269 \nL 83.540529 120.117442 \nL 93.263976 124.567959 \nL 102.987423 125.466294 \nL 112.71087 128.882084 \nL 122.434316 130.242876 \nL 132.157763 131.25451 \nL 141.88121 132.687969 \n\" clip-path=\"url(#p43761366a0)\" style=\"fill: none; stroke: #1f77b4; stroke-width: 1.5; stroke-linecap: square\"/>\n   </g>\n   <g id=\"line2d_73\">\n    <path d=\"M 49.633125 106.187706 \nL 69.163125 120.894706 \nL 88.693125 127.793403 \nL 108.223125 132.346737 \nL 127.753125 133.138631 \n\" clip-path=\"url(#p43761366a0)\" style=\"fill: none; stroke-dasharray: 5.55,2.4; stroke-dashoffset: 0; stroke: #ff7f0e; stroke-width: 1.5\"/>\n   </g>\n   <g id=\"line2d_74\">\n    <path d=\"M 49.633125 100.81724 \nL 69.163125 94.907384 \nL 88.693125 92.217939 \nL 108.223125 90.036371 \nL 127.753125 90.41728 \n\" clip-path=\"url(#p43761366a0)\" style=\"fill: none; stroke-dasharray: 9.6,2.4,1.5,2.4; stroke-dashoffset: 0; stroke: #2ca02c; stroke-width: 1.5\"/>\n   </g>\n   <g id=\"line2d_75\">\n    <path d=\"M 34.923295 13.5 \nL 44.646742 86.863213 \nL 54.370189 102.174487 \nL 64.093636 110.96658 \nL 73.817082 117.057269 \nL 83.540529 120.117442 \nL 93.263976 124.567959 \nL 102.987423 125.466294 \nL 112.71087 128.882084 \nL 122.434316 130.242876 \nL 132.157763 131.25451 \nL 141.88121 132.687969 \n\" clip-path=\"url(#p43761366a0)\" style=\"fill: none; stroke: #1f77b4; stroke-width: 1.5; stroke-linecap: square\"/>\n   </g>\n   <g id=\"line2d_76\">\n    <path d=\"M 49.633125 106.187706 \nL 69.163125 120.894706 \nL 88.693125 127.793403 \nL 108.223125 132.346737 \nL 127.753125 133.138631 \nL 147.283125 137.161184 \n\" clip-path=\"url(#p43761366a0)\" style=\"fill: none; stroke-dasharray: 5.55,2.4; stroke-dashoffset: 0; stroke: #ff7f0e; stroke-width: 1.5\"/>\n   </g>\n   <g id=\"line2d_77\">\n    <path d=\"M 49.633125 100.81724 \nL 69.163125 94.907384 \nL 88.693125 92.217939 \nL 108.223125 90.036371 \nL 127.753125 90.41728 \n\" clip-path=\"url(#p43761366a0)\" style=\"fill: none; stroke-dasharray: 9.6,2.4,1.5,2.4; stroke-dashoffset: 0; stroke: #2ca02c; stroke-width: 1.5\"/>\n   </g>\n   <g id=\"line2d_78\">\n    <path d=\"M 34.923295 13.5 \nL 44.646742 86.863213 \nL 54.370189 102.174487 \nL 64.093636 110.96658 \nL 73.817082 117.057269 \nL 83.540529 120.117442 \nL 93.263976 124.567959 \nL 102.987423 125.466294 \nL 112.71087 128.882084 \nL 122.434316 130.242876 \nL 132.157763 131.25451 \nL 141.88121 132.687969 \n\" clip-path=\"url(#p43761366a0)\" style=\"fill: none; stroke: #1f77b4; stroke-width: 1.5; stroke-linecap: square\"/>\n   </g>\n   <g id=\"line2d_79\">\n    <path d=\"M 49.633125 106.187706 \nL 69.163125 120.894706 \nL 88.693125 127.793403 \nL 108.223125 132.346737 \nL 127.753125 133.138631 \nL 147.283125 137.161184 \n\" clip-path=\"url(#p43761366a0)\" style=\"fill: none; stroke-dasharray: 5.55,2.4; stroke-dashoffset: 0; stroke: #ff7f0e; stroke-width: 1.5\"/>\n   </g>\n   <g id=\"line2d_80\">\n    <path d=\"M 49.633125 100.81724 \nL 69.163125 94.907384 \nL 88.693125 92.217939 \nL 108.223125 90.036371 \nL 127.753125 90.41728 \nL 147.283125 88.778218 \n\" clip-path=\"url(#p43761366a0)\" style=\"fill: none; stroke-dasharray: 9.6,2.4,1.5,2.4; stroke-dashoffset: 0; stroke: #2ca02c; stroke-width: 1.5\"/>\n   </g>\n   <g id=\"line2d_81\">\n    <path d=\"M 34.923295 13.5 \nL 44.646742 86.863213 \nL 54.370189 102.174487 \nL 64.093636 110.96658 \nL 73.817082 117.057269 \nL 83.540529 120.117442 \nL 93.263976 124.567959 \nL 102.987423 125.466294 \nL 112.71087 128.882084 \nL 122.434316 130.242876 \nL 132.157763 131.25451 \nL 141.88121 132.687969 \nL 151.604657 134.047942 \n\" clip-path=\"url(#p43761366a0)\" style=\"fill: none; stroke: #1f77b4; stroke-width: 1.5; stroke-linecap: square\"/>\n   </g>\n   <g id=\"line2d_82\">\n    <path d=\"M 49.633125 106.187706 \nL 69.163125 120.894706 \nL 88.693125 127.793403 \nL 108.223125 132.346737 \nL 127.753125 133.138631 \nL 147.283125 137.161184 \n\" clip-path=\"url(#p43761366a0)\" style=\"fill: none; stroke-dasharray: 5.55,2.4; stroke-dashoffset: 0; stroke: #ff7f0e; stroke-width: 1.5\"/>\n   </g>\n   <g id=\"line2d_83\">\n    <path d=\"M 49.633125 100.81724 \nL 69.163125 94.907384 \nL 88.693125 92.217939 \nL 108.223125 90.036371 \nL 127.753125 90.41728 \nL 147.283125 88.778218 \n\" clip-path=\"url(#p43761366a0)\" style=\"fill: none; stroke-dasharray: 9.6,2.4,1.5,2.4; stroke-dashoffset: 0; stroke: #2ca02c; stroke-width: 1.5\"/>\n   </g>\n   <g id=\"line2d_84\">\n    <path d=\"M 34.923295 13.5 \nL 44.646742 86.863213 \nL 54.370189 102.174487 \nL 64.093636 110.96658 \nL 73.817082 117.057269 \nL 83.540529 120.117442 \nL 93.263976 124.567959 \nL 102.987423 125.466294 \nL 112.71087 128.882084 \nL 122.434316 130.242876 \nL 132.157763 131.25451 \nL 141.88121 132.687969 \nL 151.604657 134.047942 \nL 161.328104 134.366115 \n\" clip-path=\"url(#p43761366a0)\" style=\"fill: none; stroke: #1f77b4; stroke-width: 1.5; stroke-linecap: square\"/>\n   </g>\n   <g id=\"line2d_85\">\n    <path d=\"M 49.633125 106.187706 \nL 69.163125 120.894706 \nL 88.693125 127.793403 \nL 108.223125 132.346737 \nL 127.753125 133.138631 \nL 147.283125 137.161184 \n\" clip-path=\"url(#p43761366a0)\" style=\"fill: none; stroke-dasharray: 5.55,2.4; stroke-dashoffset: 0; stroke: #ff7f0e; stroke-width: 1.5\"/>\n   </g>\n   <g id=\"line2d_86\">\n    <path d=\"M 49.633125 100.81724 \nL 69.163125 94.907384 \nL 88.693125 92.217939 \nL 108.223125 90.036371 \nL 127.753125 90.41728 \nL 147.283125 88.778218 \n\" clip-path=\"url(#p43761366a0)\" style=\"fill: none; stroke-dasharray: 9.6,2.4,1.5,2.4; stroke-dashoffset: 0; stroke: #2ca02c; stroke-width: 1.5\"/>\n   </g>\n   <g id=\"line2d_87\">\n    <path d=\"M 34.923295 13.5 \nL 44.646742 86.863213 \nL 54.370189 102.174487 \nL 64.093636 110.96658 \nL 73.817082 117.057269 \nL 83.540529 120.117442 \nL 93.263976 124.567959 \nL 102.987423 125.466294 \nL 112.71087 128.882084 \nL 122.434316 130.242876 \nL 132.157763 131.25451 \nL 141.88121 132.687969 \nL 151.604657 134.047942 \nL 161.328104 134.366115 \n\" clip-path=\"url(#p43761366a0)\" style=\"fill: none; stroke: #1f77b4; stroke-width: 1.5; stroke-linecap: square\"/>\n   </g>\n   <g id=\"line2d_88\">\n    <path d=\"M 49.633125 106.187706 \nL 69.163125 120.894706 \nL 88.693125 127.793403 \nL 108.223125 132.346737 \nL 127.753125 133.138631 \nL 147.283125 137.161184 \nL 166.813125 137.885313 \n\" clip-path=\"url(#p43761366a0)\" style=\"fill: none; stroke-dasharray: 5.55,2.4; stroke-dashoffset: 0; stroke: #ff7f0e; stroke-width: 1.5\"/>\n   </g>\n   <g id=\"line2d_89\">\n    <path d=\"M 49.633125 100.81724 \nL 69.163125 94.907384 \nL 88.693125 92.217939 \nL 108.223125 90.036371 \nL 127.753125 90.41728 \nL 147.283125 88.778218 \n\" clip-path=\"url(#p43761366a0)\" style=\"fill: none; stroke-dasharray: 9.6,2.4,1.5,2.4; stroke-dashoffset: 0; stroke: #2ca02c; stroke-width: 1.5\"/>\n   </g>\n   <g id=\"line2d_90\">\n    <path d=\"M 34.923295 13.5 \nL 44.646742 86.863213 \nL 54.370189 102.174487 \nL 64.093636 110.96658 \nL 73.817082 117.057269 \nL 83.540529 120.117442 \nL 93.263976 124.567959 \nL 102.987423 125.466294 \nL 112.71087 128.882084 \nL 122.434316 130.242876 \nL 132.157763 131.25451 \nL 141.88121 132.687969 \nL 151.604657 134.047942 \nL 161.328104 134.366115 \n\" clip-path=\"url(#p43761366a0)\" style=\"fill: none; stroke: #1f77b4; stroke-width: 1.5; stroke-linecap: square\"/>\n   </g>\n   <g id=\"line2d_91\">\n    <path d=\"M 49.633125 106.187706 \nL 69.163125 120.894706 \nL 88.693125 127.793403 \nL 108.223125 132.346737 \nL 127.753125 133.138631 \nL 147.283125 137.161184 \nL 166.813125 137.885313 \n\" clip-path=\"url(#p43761366a0)\" style=\"fill: none; stroke-dasharray: 5.55,2.4; stroke-dashoffset: 0; stroke: #ff7f0e; stroke-width: 1.5\"/>\n   </g>\n   <g id=\"line2d_92\">\n    <path d=\"M 49.633125 100.81724 \nL 69.163125 94.907384 \nL 88.693125 92.217939 \nL 108.223125 90.036371 \nL 127.753125 90.41728 \nL 147.283125 88.778218 \nL 166.813125 88.535822 \n\" clip-path=\"url(#p43761366a0)\" style=\"fill: none; stroke-dasharray: 9.6,2.4,1.5,2.4; stroke-dashoffset: 0; stroke: #2ca02c; stroke-width: 1.5\"/>\n   </g>\n   <g id=\"line2d_93\">\n    <path d=\"M 34.923295 13.5 \nL 44.646742 86.863213 \nL 54.370189 102.174487 \nL 64.093636 110.96658 \nL 73.817082 117.057269 \nL 83.540529 120.117442 \nL 93.263976 124.567959 \nL 102.987423 125.466294 \nL 112.71087 128.882084 \nL 122.434316 130.242876 \nL 132.157763 131.25451 \nL 141.88121 132.687969 \nL 151.604657 134.047942 \nL 161.328104 134.366115 \nL 171.051551 135.915679 \n\" clip-path=\"url(#p43761366a0)\" style=\"fill: none; stroke: #1f77b4; stroke-width: 1.5; stroke-linecap: square\"/>\n   </g>\n   <g id=\"line2d_94\">\n    <path d=\"M 49.633125 106.187706 \nL 69.163125 120.894706 \nL 88.693125 127.793403 \nL 108.223125 132.346737 \nL 127.753125 133.138631 \nL 147.283125 137.161184 \nL 166.813125 137.885313 \n\" clip-path=\"url(#p43761366a0)\" style=\"fill: none; stroke-dasharray: 5.55,2.4; stroke-dashoffset: 0; stroke: #ff7f0e; stroke-width: 1.5\"/>\n   </g>\n   <g id=\"line2d_95\">\n    <path d=\"M 49.633125 100.81724 \nL 69.163125 94.907384 \nL 88.693125 92.217939 \nL 108.223125 90.036371 \nL 127.753125 90.41728 \nL 147.283125 88.778218 \nL 166.813125 88.535822 \n\" clip-path=\"url(#p43761366a0)\" style=\"fill: none; stroke-dasharray: 9.6,2.4,1.5,2.4; stroke-dashoffset: 0; stroke: #2ca02c; stroke-width: 1.5\"/>\n   </g>\n   <g id=\"line2d_96\">\n    <path d=\"M 34.923295 13.5 \nL 44.646742 86.863213 \nL 54.370189 102.174487 \nL 64.093636 110.96658 \nL 73.817082 117.057269 \nL 83.540529 120.117442 \nL 93.263976 124.567959 \nL 102.987423 125.466294 \nL 112.71087 128.882084 \nL 122.434316 130.242876 \nL 132.157763 131.25451 \nL 141.88121 132.687969 \nL 151.604657 134.047942 \nL 161.328104 134.366115 \nL 171.051551 135.915679 \nL 180.774997 136.443445 \n\" clip-path=\"url(#p43761366a0)\" style=\"fill: none; stroke: #1f77b4; stroke-width: 1.5; stroke-linecap: square\"/>\n   </g>\n   <g id=\"line2d_97\">\n    <path d=\"M 49.633125 106.187706 \nL 69.163125 120.894706 \nL 88.693125 127.793403 \nL 108.223125 132.346737 \nL 127.753125 133.138631 \nL 147.283125 137.161184 \nL 166.813125 137.885313 \n\" clip-path=\"url(#p43761366a0)\" style=\"fill: none; stroke-dasharray: 5.55,2.4; stroke-dashoffset: 0; stroke: #ff7f0e; stroke-width: 1.5\"/>\n   </g>\n   <g id=\"line2d_98\">\n    <path d=\"M 49.633125 100.81724 \nL 69.163125 94.907384 \nL 88.693125 92.217939 \nL 108.223125 90.036371 \nL 127.753125 90.41728 \nL 147.283125 88.778218 \nL 166.813125 88.535822 \n\" clip-path=\"url(#p43761366a0)\" style=\"fill: none; stroke-dasharray: 9.6,2.4,1.5,2.4; stroke-dashoffset: 0; stroke: #2ca02c; stroke-width: 1.5\"/>\n   </g>\n   <g id=\"line2d_99\">\n    <path d=\"M 34.923295 13.5 \nL 44.646742 86.863213 \nL 54.370189 102.174487 \nL 64.093636 110.96658 \nL 73.817082 117.057269 \nL 83.540529 120.117442 \nL 93.263976 124.567959 \nL 102.987423 125.466294 \nL 112.71087 128.882084 \nL 122.434316 130.242876 \nL 132.157763 131.25451 \nL 141.88121 132.687969 \nL 151.604657 134.047942 \nL 161.328104 134.366115 \nL 171.051551 135.915679 \nL 180.774997 136.443445 \n\" clip-path=\"url(#p43761366a0)\" style=\"fill: none; stroke: #1f77b4; stroke-width: 1.5; stroke-linecap: square\"/>\n   </g>\n   <g id=\"line2d_100\">\n    <path d=\"M 49.633125 106.187706 \nL 69.163125 120.894706 \nL 88.693125 127.793403 \nL 108.223125 132.346737 \nL 127.753125 133.138631 \nL 147.283125 137.161184 \nL 166.813125 137.885313 \nL 186.343125 138.152996 \n\" clip-path=\"url(#p43761366a0)\" style=\"fill: none; stroke-dasharray: 5.55,2.4; stroke-dashoffset: 0; stroke: #ff7f0e; stroke-width: 1.5\"/>\n   </g>\n   <g id=\"line2d_101\">\n    <path d=\"M 49.633125 100.81724 \nL 69.163125 94.907384 \nL 88.693125 92.217939 \nL 108.223125 90.036371 \nL 127.753125 90.41728 \nL 147.283125 88.778218 \nL 166.813125 88.535822 \n\" clip-path=\"url(#p43761366a0)\" style=\"fill: none; stroke-dasharray: 9.6,2.4,1.5,2.4; stroke-dashoffset: 0; stroke: #2ca02c; stroke-width: 1.5\"/>\n   </g>\n   <g id=\"line2d_102\">\n    <path d=\"M 34.923295 13.5 \nL 44.646742 86.863213 \nL 54.370189 102.174487 \nL 64.093636 110.96658 \nL 73.817082 117.057269 \nL 83.540529 120.117442 \nL 93.263976 124.567959 \nL 102.987423 125.466294 \nL 112.71087 128.882084 \nL 122.434316 130.242876 \nL 132.157763 131.25451 \nL 141.88121 132.687969 \nL 151.604657 134.047942 \nL 161.328104 134.366115 \nL 171.051551 135.915679 \nL 180.774997 136.443445 \n\" clip-path=\"url(#p43761366a0)\" style=\"fill: none; stroke: #1f77b4; stroke-width: 1.5; stroke-linecap: square\"/>\n   </g>\n   <g id=\"line2d_103\">\n    <path d=\"M 49.633125 106.187706 \nL 69.163125 120.894706 \nL 88.693125 127.793403 \nL 108.223125 132.346737 \nL 127.753125 133.138631 \nL 147.283125 137.161184 \nL 166.813125 137.885313 \nL 186.343125 138.152996 \n\" clip-path=\"url(#p43761366a0)\" style=\"fill: none; stroke-dasharray: 5.55,2.4; stroke-dashoffset: 0; stroke: #ff7f0e; stroke-width: 1.5\"/>\n   </g>\n   <g id=\"line2d_104\">\n    <path d=\"M 49.633125 100.81724 \nL 69.163125 94.907384 \nL 88.693125 92.217939 \nL 108.223125 90.036371 \nL 127.753125 90.41728 \nL 147.283125 88.778218 \nL 166.813125 88.535822 \nL 186.343125 88.235712 \n\" clip-path=\"url(#p43761366a0)\" style=\"fill: none; stroke-dasharray: 9.6,2.4,1.5,2.4; stroke-dashoffset: 0; stroke: #2ca02c; stroke-width: 1.5\"/>\n   </g>\n   <g id=\"line2d_105\">\n    <path d=\"M 34.923295 13.5 \nL 44.646742 86.863213 \nL 54.370189 102.174487 \nL 64.093636 110.96658 \nL 73.817082 117.057269 \nL 83.540529 120.117442 \nL 93.263976 124.567959 \nL 102.987423 125.466294 \nL 112.71087 128.882084 \nL 122.434316 130.242876 \nL 132.157763 131.25451 \nL 141.88121 132.687969 \nL 151.604657 134.047942 \nL 161.328104 134.366115 \nL 171.051551 135.915679 \nL 180.774997 136.443445 \nL 190.498444 137.040603 \n\" clip-path=\"url(#p43761366a0)\" style=\"fill: none; stroke: #1f77b4; stroke-width: 1.5; stroke-linecap: square\"/>\n   </g>\n   <g id=\"line2d_106\">\n    <path d=\"M 49.633125 106.187706 \nL 69.163125 120.894706 \nL 88.693125 127.793403 \nL 108.223125 132.346737 \nL 127.753125 133.138631 \nL 147.283125 137.161184 \nL 166.813125 137.885313 \nL 186.343125 138.152996 \n\" clip-path=\"url(#p43761366a0)\" style=\"fill: none; stroke-dasharray: 5.55,2.4; stroke-dashoffset: 0; stroke: #ff7f0e; stroke-width: 1.5\"/>\n   </g>\n   <g id=\"line2d_107\">\n    <path d=\"M 49.633125 100.81724 \nL 69.163125 94.907384 \nL 88.693125 92.217939 \nL 108.223125 90.036371 \nL 127.753125 90.41728 \nL 147.283125 88.778218 \nL 166.813125 88.535822 \nL 186.343125 88.235712 \n\" clip-path=\"url(#p43761366a0)\" style=\"fill: none; stroke-dasharray: 9.6,2.4,1.5,2.4; stroke-dashoffset: 0; stroke: #2ca02c; stroke-width: 1.5\"/>\n   </g>\n   <g id=\"line2d_108\">\n    <path d=\"M 34.923295 13.5 \nL 44.646742 86.863213 \nL 54.370189 102.174487 \nL 64.093636 110.96658 \nL 73.817082 117.057269 \nL 83.540529 120.117442 \nL 93.263976 124.567959 \nL 102.987423 125.466294 \nL 112.71087 128.882084 \nL 122.434316 130.242876 \nL 132.157763 131.25451 \nL 141.88121 132.687969 \nL 151.604657 134.047942 \nL 161.328104 134.366115 \nL 171.051551 135.915679 \nL 180.774997 136.443445 \nL 190.498444 137.040603 \nL 200.221891 137.746375 \n\" clip-path=\"url(#p43761366a0)\" style=\"fill: none; stroke: #1f77b4; stroke-width: 1.5; stroke-linecap: square\"/>\n   </g>\n   <g id=\"line2d_109\">\n    <path d=\"M 49.633125 106.187706 \nL 69.163125 120.894706 \nL 88.693125 127.793403 \nL 108.223125 132.346737 \nL 127.753125 133.138631 \nL 147.283125 137.161184 \nL 166.813125 137.885313 \nL 186.343125 138.152996 \n\" clip-path=\"url(#p43761366a0)\" style=\"fill: none; stroke-dasharray: 5.55,2.4; stroke-dashoffset: 0; stroke: #ff7f0e; stroke-width: 1.5\"/>\n   </g>\n   <g id=\"line2d_110\">\n    <path d=\"M 49.633125 100.81724 \nL 69.163125 94.907384 \nL 88.693125 92.217939 \nL 108.223125 90.036371 \nL 127.753125 90.41728 \nL 147.283125 88.778218 \nL 166.813125 88.535822 \nL 186.343125 88.235712 \n\" clip-path=\"url(#p43761366a0)\" style=\"fill: none; stroke-dasharray: 9.6,2.4,1.5,2.4; stroke-dashoffset: 0; stroke: #2ca02c; stroke-width: 1.5\"/>\n   </g>\n   <g id=\"line2d_111\">\n    <path d=\"M 34.923295 13.5 \nL 44.646742 86.863213 \nL 54.370189 102.174487 \nL 64.093636 110.96658 \nL 73.817082 117.057269 \nL 83.540529 120.117442 \nL 93.263976 124.567959 \nL 102.987423 125.466294 \nL 112.71087 128.882084 \nL 122.434316 130.242876 \nL 132.157763 131.25451 \nL 141.88121 132.687969 \nL 151.604657 134.047942 \nL 161.328104 134.366115 \nL 171.051551 135.915679 \nL 180.774997 136.443445 \nL 190.498444 137.040603 \nL 200.221891 137.746375 \n\" clip-path=\"url(#p43761366a0)\" style=\"fill: none; stroke: #1f77b4; stroke-width: 1.5; stroke-linecap: square\"/>\n   </g>\n   <g id=\"line2d_112\">\n    <path d=\"M 49.633125 106.187706 \nL 69.163125 120.894706 \nL 88.693125 127.793403 \nL 108.223125 132.346737 \nL 127.753125 133.138631 \nL 147.283125 137.161184 \nL 166.813125 137.885313 \nL 186.343125 138.152996 \nL 205.873125 136.859222 \n\" clip-path=\"url(#p43761366a0)\" style=\"fill: none; stroke-dasharray: 5.55,2.4; stroke-dashoffset: 0; stroke: #ff7f0e; stroke-width: 1.5\"/>\n   </g>\n   <g id=\"line2d_113\">\n    <path d=\"M 49.633125 100.81724 \nL 69.163125 94.907384 \nL 88.693125 92.217939 \nL 108.223125 90.036371 \nL 127.753125 90.41728 \nL 147.283125 88.778218 \nL 166.813125 88.535822 \nL 186.343125 88.235712 \n\" clip-path=\"url(#p43761366a0)\" style=\"fill: none; stroke-dasharray: 9.6,2.4,1.5,2.4; stroke-dashoffset: 0; stroke: #2ca02c; stroke-width: 1.5\"/>\n   </g>\n   <g id=\"line2d_114\">\n    <path d=\"M 34.923295 13.5 \nL 44.646742 86.863213 \nL 54.370189 102.174487 \nL 64.093636 110.96658 \nL 73.817082 117.057269 \nL 83.540529 120.117442 \nL 93.263976 124.567959 \nL 102.987423 125.466294 \nL 112.71087 128.882084 \nL 122.434316 130.242876 \nL 132.157763 131.25451 \nL 141.88121 132.687969 \nL 151.604657 134.047942 \nL 161.328104 134.366115 \nL 171.051551 135.915679 \nL 180.774997 136.443445 \nL 190.498444 137.040603 \nL 200.221891 137.746375 \n\" clip-path=\"url(#p43761366a0)\" style=\"fill: none; stroke: #1f77b4; stroke-width: 1.5; stroke-linecap: square\"/>\n   </g>\n   <g id=\"line2d_115\">\n    <path d=\"M 49.633125 106.187706 \nL 69.163125 120.894706 \nL 88.693125 127.793403 \nL 108.223125 132.346737 \nL 127.753125 133.138631 \nL 147.283125 137.161184 \nL 166.813125 137.885313 \nL 186.343125 138.152996 \nL 205.873125 136.859222 \n\" clip-path=\"url(#p43761366a0)\" style=\"fill: none; stroke-dasharray: 5.55,2.4; stroke-dashoffset: 0; stroke: #ff7f0e; stroke-width: 1.5\"/>\n   </g>\n   <g id=\"line2d_116\">\n    <path d=\"M 49.633125 100.81724 \nL 69.163125 94.907384 \nL 88.693125 92.217939 \nL 108.223125 90.036371 \nL 127.753125 90.41728 \nL 147.283125 88.778218 \nL 166.813125 88.535822 \nL 186.343125 88.235712 \nL 205.873125 89.009072 \n\" clip-path=\"url(#p43761366a0)\" style=\"fill: none; stroke-dasharray: 9.6,2.4,1.5,2.4; stroke-dashoffset: 0; stroke: #2ca02c; stroke-width: 1.5\"/>\n   </g>\n   <g id=\"line2d_117\">\n    <path d=\"M 34.923295 13.5 \nL 44.646742 86.863213 \nL 54.370189 102.174487 \nL 64.093636 110.96658 \nL 73.817082 117.057269 \nL 83.540529 120.117442 \nL 93.263976 124.567959 \nL 102.987423 125.466294 \nL 112.71087 128.882084 \nL 122.434316 130.242876 \nL 132.157763 131.25451 \nL 141.88121 132.687969 \nL 151.604657 134.047942 \nL 161.328104 134.366115 \nL 171.051551 135.915679 \nL 180.774997 136.443445 \nL 190.498444 137.040603 \nL 200.221891 137.746375 \nL 209.945338 139.115796 \n\" clip-path=\"url(#p43761366a0)\" style=\"fill: none; stroke: #1f77b4; stroke-width: 1.5; stroke-linecap: square\"/>\n   </g>\n   <g id=\"line2d_118\">\n    <path d=\"M 49.633125 106.187706 \nL 69.163125 120.894706 \nL 88.693125 127.793403 \nL 108.223125 132.346737 \nL 127.753125 133.138631 \nL 147.283125 137.161184 \nL 166.813125 137.885313 \nL 186.343125 138.152996 \nL 205.873125 136.859222 \n\" clip-path=\"url(#p43761366a0)\" style=\"fill: none; stroke-dasharray: 5.55,2.4; stroke-dashoffset: 0; stroke: #ff7f0e; stroke-width: 1.5\"/>\n   </g>\n   <g id=\"line2d_119\">\n    <path d=\"M 49.633125 100.81724 \nL 69.163125 94.907384 \nL 88.693125 92.217939 \nL 108.223125 90.036371 \nL 127.753125 90.41728 \nL 147.283125 88.778218 \nL 166.813125 88.535822 \nL 186.343125 88.235712 \nL 205.873125 89.009072 \n\" clip-path=\"url(#p43761366a0)\" style=\"fill: none; stroke-dasharray: 9.6,2.4,1.5,2.4; stroke-dashoffset: 0; stroke: #2ca02c; stroke-width: 1.5\"/>\n   </g>\n   <g id=\"line2d_120\">\n    <path d=\"M 34.923295 13.5 \nL 44.646742 86.863213 \nL 54.370189 102.174487 \nL 64.093636 110.96658 \nL 73.817082 117.057269 \nL 83.540529 120.117442 \nL 93.263976 124.567959 \nL 102.987423 125.466294 \nL 112.71087 128.882084 \nL 122.434316 130.242876 \nL 132.157763 131.25451 \nL 141.88121 132.687969 \nL 151.604657 134.047942 \nL 161.328104 134.366115 \nL 171.051551 135.915679 \nL 180.774997 136.443445 \nL 190.498444 137.040603 \nL 200.221891 137.746375 \nL 209.945338 139.115796 \nL 219.668785 138.778527 \n\" clip-path=\"url(#p43761366a0)\" style=\"fill: none; stroke: #1f77b4; stroke-width: 1.5; stroke-linecap: square\"/>\n   </g>\n   <g id=\"line2d_121\">\n    <path d=\"M 49.633125 106.187706 \nL 69.163125 120.894706 \nL 88.693125 127.793403 \nL 108.223125 132.346737 \nL 127.753125 133.138631 \nL 147.283125 137.161184 \nL 166.813125 137.885313 \nL 186.343125 138.152996 \nL 205.873125 136.859222 \n\" clip-path=\"url(#p43761366a0)\" style=\"fill: none; stroke-dasharray: 5.55,2.4; stroke-dashoffset: 0; stroke: #ff7f0e; stroke-width: 1.5\"/>\n   </g>\n   <g id=\"line2d_122\">\n    <path d=\"M 49.633125 100.81724 \nL 69.163125 94.907384 \nL 88.693125 92.217939 \nL 108.223125 90.036371 \nL 127.753125 90.41728 \nL 147.283125 88.778218 \nL 166.813125 88.535822 \nL 186.343125 88.235712 \nL 205.873125 89.009072 \n\" clip-path=\"url(#p43761366a0)\" style=\"fill: none; stroke-dasharray: 9.6,2.4,1.5,2.4; stroke-dashoffset: 0; stroke: #2ca02c; stroke-width: 1.5\"/>\n   </g>\n   <g id=\"line2d_123\">\n    <path d=\"M 34.923295 13.5 \nL 44.646742 86.863213 \nL 54.370189 102.174487 \nL 64.093636 110.96658 \nL 73.817082 117.057269 \nL 83.540529 120.117442 \nL 93.263976 124.567959 \nL 102.987423 125.466294 \nL 112.71087 128.882084 \nL 122.434316 130.242876 \nL 132.157763 131.25451 \nL 141.88121 132.687969 \nL 151.604657 134.047942 \nL 161.328104 134.366115 \nL 171.051551 135.915679 \nL 180.774997 136.443445 \nL 190.498444 137.040603 \nL 200.221891 137.746375 \nL 209.945338 139.115796 \nL 219.668785 138.778527 \n\" clip-path=\"url(#p43761366a0)\" style=\"fill: none; stroke: #1f77b4; stroke-width: 1.5; stroke-linecap: square\"/>\n   </g>\n   <g id=\"line2d_124\">\n    <path d=\"M 49.633125 106.187706 \nL 69.163125 120.894706 \nL 88.693125 127.793403 \nL 108.223125 132.346737 \nL 127.753125 133.138631 \nL 147.283125 137.161184 \nL 166.813125 137.885313 \nL 186.343125 138.152996 \nL 205.873125 136.859222 \nL 225.403125 139.5 \n\" clip-path=\"url(#p43761366a0)\" style=\"fill: none; stroke-dasharray: 5.55,2.4; stroke-dashoffset: 0; stroke: #ff7f0e; stroke-width: 1.5\"/>\n   </g>\n   <g id=\"line2d_125\">\n    <path d=\"M 49.633125 100.81724 \nL 69.163125 94.907384 \nL 88.693125 92.217939 \nL 108.223125 90.036371 \nL 127.753125 90.41728 \nL 147.283125 88.778218 \nL 166.813125 88.535822 \nL 186.343125 88.235712 \nL 205.873125 89.009072 \n\" clip-path=\"url(#p43761366a0)\" style=\"fill: none; stroke-dasharray: 9.6,2.4,1.5,2.4; stroke-dashoffset: 0; stroke: #2ca02c; stroke-width: 1.5\"/>\n   </g>\n   <g id=\"line2d_126\">\n    <path d=\"M 34.923295 13.5 \nL 44.646742 86.863213 \nL 54.370189 102.174487 \nL 64.093636 110.96658 \nL 73.817082 117.057269 \nL 83.540529 120.117442 \nL 93.263976 124.567959 \nL 102.987423 125.466294 \nL 112.71087 128.882084 \nL 122.434316 130.242876 \nL 132.157763 131.25451 \nL 141.88121 132.687969 \nL 151.604657 134.047942 \nL 161.328104 134.366115 \nL 171.051551 135.915679 \nL 180.774997 136.443445 \nL 190.498444 137.040603 \nL 200.221891 137.746375 \nL 209.945338 139.115796 \nL 219.668785 138.778527 \n\" clip-path=\"url(#p43761366a0)\" style=\"fill: none; stroke: #1f77b4; stroke-width: 1.5; stroke-linecap: square\"/>\n   </g>\n   <g id=\"line2d_127\">\n    <path d=\"M 49.633125 106.187706 \nL 69.163125 120.894706 \nL 88.693125 127.793403 \nL 108.223125 132.346737 \nL 127.753125 133.138631 \nL 147.283125 137.161184 \nL 166.813125 137.885313 \nL 186.343125 138.152996 \nL 205.873125 136.859222 \nL 225.403125 139.5 \n\" clip-path=\"url(#p43761366a0)\" style=\"fill: none; stroke-dasharray: 5.55,2.4; stroke-dashoffset: 0; stroke: #ff7f0e; stroke-width: 1.5\"/>\n   </g>\n   <g id=\"line2d_128\">\n    <path d=\"M 49.633125 100.81724 \nL 69.163125 94.907384 \nL 88.693125 92.217939 \nL 108.223125 90.036371 \nL 127.753125 90.41728 \nL 147.283125 88.778218 \nL 166.813125 88.535822 \nL 186.343125 88.235712 \nL 205.873125 89.009072 \nL 225.403125 88.247255 \n\" clip-path=\"url(#p43761366a0)\" style=\"fill: none; stroke-dasharray: 9.6,2.4,1.5,2.4; stroke-dashoffset: 0; stroke: #2ca02c; stroke-width: 1.5\"/>\n   </g>\n   <g id=\"patch_3\">\n    <path d=\"M 30.103125 145.8 \nL 30.103125 7.2 \n\" style=\"fill: none; stroke: #000000; stroke-width: 0.8; stroke-linejoin: miter; stroke-linecap: square\"/>\n   </g>\n   <g id=\"patch_4\">\n    <path d=\"M 225.403125 145.8 \nL 225.403125 7.2 \n\" style=\"fill: none; stroke: #000000; stroke-width: 0.8; stroke-linejoin: miter; stroke-linecap: square\"/>\n   </g>\n   <g id=\"patch_5\">\n    <path d=\"M 30.103125 145.8 \nL 225.403125 145.8 \n\" style=\"fill: none; stroke: #000000; stroke-width: 0.8; stroke-linejoin: miter; stroke-linecap: square\"/>\n   </g>\n   <g id=\"patch_6\">\n    <path d=\"M 30.103125 7.2 \nL 225.403125 7.2 \n\" style=\"fill: none; stroke: #000000; stroke-width: 0.8; stroke-linejoin: miter; stroke-linecap: square\"/>\n   </g>\n   <g id=\"legend_1\">\n    <g id=\"patch_7\">\n     <path d=\"M 138.8125 60.06875 \nL 218.403125 60.06875 \nQ 220.403125 60.06875 220.403125 58.06875 \nL 220.403125 14.2 \nQ 220.403125 12.2 218.403125 12.2 \nL 138.8125 12.2 \nQ 136.8125 12.2 136.8125 14.2 \nL 136.8125 58.06875 \nQ 136.8125 60.06875 138.8125 60.06875 \nz\n\" style=\"fill: #ffffff; opacity: 0.8; stroke: #cccccc; stroke-linejoin: miter\"/>\n    </g>\n    <g id=\"line2d_129\">\n     <path d=\"M 140.8125 20.298438 \nL 150.8125 20.298438 \nL 160.8125 20.298438 \n\" style=\"fill: none; stroke: #1f77b4; stroke-width: 1.5; stroke-linecap: square\"/>\n    </g>\n    <g id=\"text_14\">\n     <!-- train_loss -->\n     <g transform=\"translate(168.8125 23.798438) scale(0.1 -0.1)\">\n      <defs>\n       <path id=\"DejaVuSans-74\" d=\"M 1172 4494 \nL 1172 3500 \nL 2356 3500 \nL 2356 3053 \nL 1172 3053 \nL 1172 1153 \nQ 1172 725 1289 603 \nQ 1406 481 1766 481 \nL 2356 481 \nL 2356 0 \nL 1766 0 \nQ 1100 0 847 248 \nQ 594 497 594 1153 \nL 594 3053 \nL 172 3053 \nL 172 3500 \nL 594 3500 \nL 594 4494 \nL 1172 4494 \nz\n\" transform=\"scale(0.015625)\"/>\n       <path id=\"DejaVuSans-72\" d=\"M 2631 2963 \nQ 2534 3019 2420 3045 \nQ 2306 3072 2169 3072 \nQ 1681 3072 1420 2755 \nQ 1159 2438 1159 1844 \nL 1159 0 \nL 581 0 \nL 581 3500 \nL 1159 3500 \nL 1159 2956 \nQ 1341 3275 1631 3429 \nQ 1922 3584 2338 3584 \nQ 2397 3584 2469 3576 \nQ 2541 3569 2628 3553 \nL 2631 2963 \nz\n\" transform=\"scale(0.015625)\"/>\n       <path id=\"DejaVuSans-61\" d=\"M 2194 1759 \nQ 1497 1759 1228 1600 \nQ 959 1441 959 1056 \nQ 959 750 1161 570 \nQ 1363 391 1709 391 \nQ 2188 391 2477 730 \nQ 2766 1069 2766 1631 \nL 2766 1759 \nL 2194 1759 \nz\nM 3341 1997 \nL 3341 0 \nL 2766 0 \nL 2766 531 \nQ 2569 213 2275 61 \nQ 1981 -91 1556 -91 \nQ 1019 -91 701 211 \nQ 384 513 384 1019 \nQ 384 1609 779 1909 \nQ 1175 2209 1959 2209 \nL 2766 2209 \nL 2766 2266 \nQ 2766 2663 2505 2880 \nQ 2244 3097 1772 3097 \nQ 1472 3097 1187 3025 \nQ 903 2953 641 2809 \nL 641 3341 \nQ 956 3463 1253 3523 \nQ 1550 3584 1831 3584 \nQ 2591 3584 2966 3190 \nQ 3341 2797 3341 1997 \nz\n\" transform=\"scale(0.015625)\"/>\n       <path id=\"DejaVuSans-69\" d=\"M 603 3500 \nL 1178 3500 \nL 1178 0 \nL 603 0 \nL 603 3500 \nz\nM 603 4863 \nL 1178 4863 \nL 1178 4134 \nL 603 4134 \nL 603 4863 \nz\n\" transform=\"scale(0.015625)\"/>\n       <path id=\"DejaVuSans-6e\" d=\"M 3513 2113 \nL 3513 0 \nL 2938 0 \nL 2938 2094 \nQ 2938 2591 2744 2837 \nQ 2550 3084 2163 3084 \nQ 1697 3084 1428 2787 \nQ 1159 2491 1159 1978 \nL 1159 0 \nL 581 0 \nL 581 3500 \nL 1159 3500 \nL 1159 2956 \nQ 1366 3272 1645 3428 \nQ 1925 3584 2291 3584 \nQ 2894 3584 3203 3211 \nQ 3513 2838 3513 2113 \nz\n\" transform=\"scale(0.015625)\"/>\n       <path id=\"DejaVuSans-5f\" d=\"M 3263 -1063 \nL 3263 -1509 \nL -63 -1509 \nL -63 -1063 \nL 3263 -1063 \nz\n\" transform=\"scale(0.015625)\"/>\n       <path id=\"DejaVuSans-6c\" d=\"M 603 4863 \nL 1178 4863 \nL 1178 0 \nL 603 0 \nL 603 4863 \nz\n\" transform=\"scale(0.015625)\"/>\n       <path id=\"DejaVuSans-73\" d=\"M 2834 3397 \nL 2834 2853 \nQ 2591 2978 2328 3040 \nQ 2066 3103 1784 3103 \nQ 1356 3103 1142 2972 \nQ 928 2841 928 2578 \nQ 928 2378 1081 2264 \nQ 1234 2150 1697 2047 \nL 1894 2003 \nQ 2506 1872 2764 1633 \nQ 3022 1394 3022 966 \nQ 3022 478 2636 193 \nQ 2250 -91 1575 -91 \nQ 1294 -91 989 -36 \nQ 684 19 347 128 \nL 347 722 \nQ 666 556 975 473 \nQ 1284 391 1588 391 \nQ 1994 391 2212 530 \nQ 2431 669 2431 922 \nQ 2431 1156 2273 1281 \nQ 2116 1406 1581 1522 \nL 1381 1569 \nQ 847 1681 609 1914 \nQ 372 2147 372 2553 \nQ 372 3047 722 3315 \nQ 1072 3584 1716 3584 \nQ 2034 3584 2315 3537 \nQ 2597 3491 2834 3397 \nz\n\" transform=\"scale(0.015625)\"/>\n      </defs>\n      <use xlink:href=\"#DejaVuSans-74\"/>\n      <use xlink:href=\"#DejaVuSans-72\" x=\"39.208984\"/>\n      <use xlink:href=\"#DejaVuSans-61\" x=\"80.322266\"/>\n      <use xlink:href=\"#DejaVuSans-69\" x=\"141.601562\"/>\n      <use xlink:href=\"#DejaVuSans-6e\" x=\"169.384766\"/>\n      <use xlink:href=\"#DejaVuSans-5f\" x=\"232.763672\"/>\n      <use xlink:href=\"#DejaVuSans-6c\" x=\"282.763672\"/>\n      <use xlink:href=\"#DejaVuSans-6f\" x=\"310.546875\"/>\n      <use xlink:href=\"#DejaVuSans-73\" x=\"371.728516\"/>\n      <use xlink:href=\"#DejaVuSans-73\" x=\"423.828125\"/>\n     </g>\n    </g>\n    <g id=\"line2d_130\">\n     <path d=\"M 140.8125 35.254688 \nL 150.8125 35.254688 \nL 160.8125 35.254688 \n\" style=\"fill: none; stroke-dasharray: 5.55,2.4; stroke-dashoffset: 0; stroke: #ff7f0e; stroke-width: 1.5\"/>\n    </g>\n    <g id=\"text_15\">\n     <!-- val_loss -->\n     <g transform=\"translate(168.8125 38.754688) scale(0.1 -0.1)\">\n      <defs>\n       <path id=\"DejaVuSans-76\" d=\"M 191 3500 \nL 800 3500 \nL 1894 563 \nL 2988 3500 \nL 3597 3500 \nL 2284 0 \nL 1503 0 \nL 191 3500 \nz\n\" transform=\"scale(0.015625)\"/>\n      </defs>\n      <use xlink:href=\"#DejaVuSans-76\"/>\n      <use xlink:href=\"#DejaVuSans-61\" x=\"59.179688\"/>\n      <use xlink:href=\"#DejaVuSans-6c\" x=\"120.458984\"/>\n      <use xlink:href=\"#DejaVuSans-5f\" x=\"148.242188\"/>\n      <use xlink:href=\"#DejaVuSans-6c\" x=\"198.242188\"/>\n      <use xlink:href=\"#DejaVuSans-6f\" x=\"226.025391\"/>\n      <use xlink:href=\"#DejaVuSans-73\" x=\"287.207031\"/>\n      <use xlink:href=\"#DejaVuSans-73\" x=\"339.306641\"/>\n     </g>\n    </g>\n    <g id=\"line2d_131\">\n     <path d=\"M 140.8125 50.210938 \nL 150.8125 50.210938 \nL 160.8125 50.210938 \n\" style=\"fill: none; stroke-dasharray: 9.6,2.4,1.5,2.4; stroke-dashoffset: 0; stroke: #2ca02c; stroke-width: 1.5\"/>\n    </g>\n    <g id=\"text_16\">\n     <!-- val_acc -->\n     <g transform=\"translate(168.8125 53.710938) scale(0.1 -0.1)\">\n      <use xlink:href=\"#DejaVuSans-76\"/>\n      <use xlink:href=\"#DejaVuSans-61\" x=\"59.179688\"/>\n      <use xlink:href=\"#DejaVuSans-6c\" x=\"120.458984\"/>\n      <use xlink:href=\"#DejaVuSans-5f\" x=\"148.242188\"/>\n      <use xlink:href=\"#DejaVuSans-61\" x=\"198.242188\"/>\n      <use xlink:href=\"#DejaVuSans-63\" x=\"259.521484\"/>\n      <use xlink:href=\"#DejaVuSans-63\" x=\"314.501953\"/>\n     </g>\n    </g>\n   </g>\n  </g>\n </g>\n <defs>\n  <clipPath id=\"p43761366a0\">\n   <rect x=\"30.103125\" y=\"7.2\" width=\"195.3\" height=\"138.6\"/>\n  </clipPath>\n </defs>\n</svg>\n"
          },
          "metadata": {}
        }
      ],
      "source": [
        "model = DropoutMLP(**hparams)\n",
        "trainer.fit(model, data)"
      ]
    },
    {
      "cell_type": "markdown",
      "id": "54985a45",
      "metadata": {
        "id": "54985a45",
        "origin_pos": 29
      },
      "source": [
        "## Summary\n",
        "\n",
        "Beyond controlling the number of dimensions and the size of the weight vector, dropout is yet another tool for avoiding overfitting. Often tools are used jointly.\n",
        "Note that dropout is\n",
        "used only during training:\n",
        "it replaces an activation $h$ with a random variable with expected value $h$.\n",
        "\n",
        "\n",
        "## Exercises\n",
        "\n",
        "1. What happens if you change the dropout probabilities for the first and second layers? In particular, what happens if you switch the ones for both layers? Design an experiment to answer these questions, describe your results quantitatively, and summarize the qualitative takeaways.\n",
        "1. Increase the number of epochs and compare the results obtained when using dropout with those when not using it.\n",
        "1. What is the variance of the activations in each hidden layer when dropout is and is not applied? Draw a plot to show how this quantity evolves over time for both models.\n",
        "1. Why is dropout not typically used at test time?\n",
        "1. Using the model in this section as an example, compare the effects of using dropout and weight decay. What happens when dropout and weight decay are used at the same time? Are the results additive? Are there diminished returns (or worse)? Do they cancel each other out?\n",
        "1. What happens if we apply dropout to the individual weights of the weight matrix rather than the activations?\n",
        "1. Invent another technique for injecting random noise at each layer that is different from the standard dropout technique. Can you develop a method that outperforms dropout on the Fashion-MNIST dataset (for a fixed architecture)?\n"
      ]
    },
    {
      "cell_type": "markdown",
      "id": "29eae3ea",
      "metadata": {
        "id": "29eae3ea",
        "origin_pos": 31,
        "tab": [
          "pytorch"
        ]
      },
      "source": [
        "[Discussions](https://discuss.d2l.ai/t/101)\n"
      ]
    },
    {
      "cell_type": "markdown",
      "id": "c6482746",
      "metadata": {
        "id": "c6482746"
      },
      "source": [
        "The following additional libraries are needed to run this\n",
        "notebook. Note that running on Colab is experimental, please report a Github\n",
        "issue if you have any problem."
      ]
    },
    {
      "cell_type": "markdown",
      "id": "0d9388b7",
      "metadata": {
        "id": "0d9388b7",
        "origin_pos": 1
      },
      "source": [
        "# Predicting House Prices on Kaggle\n",
        ":label:`sec_kaggle_house`\n",
        "\n",
        "Now that we have introduced some basic tools\n",
        "for building and training deep networks\n",
        "and regularizing them with techniques including\n",
        "weight decay and dropout,\n",
        "we are ready to put all this knowledge into practice\n",
        "by participating in a Kaggle competition.\n",
        "The house price prediction competition\n",
        "is a great place to start.\n",
        "The data is fairly generic and do not exhibit exotic structure\n",
        "that might require specialized models (as audio or video might).\n",
        "This dataset, collected by :citet:`De-Cock.2011`,\n",
        "covers house prices in Ames, Iowa from the period 2006--2010.\n",
        "It is considerably larger than the famous [Boston housing dataset](https://archive.ics.uci.edu/ml/machine-learning-databases/housing/housing.names) of Harrison and Rubinfeld (1978),\n",
        "boasting both more examples and more features.\n",
        "\n",
        "\n",
        "In this section, we will walk you through details of\n",
        "data preprocessing, model design, and hyperparameter selection.\n",
        "We hope that through a hands-on approach,\n",
        "you will gain some intuitions that will guide you\n",
        "in your career as a data scientist.\n"
      ]
    },
    {
      "cell_type": "code",
      "execution_count": null,
      "id": "1c33eb92",
      "metadata": {
        "execution": {
          "iopub.execute_input": "2023-08-18T19:32:21.587414Z",
          "iopub.status.busy": "2023-08-18T19:32:21.586752Z",
          "iopub.status.idle": "2023-08-18T19:32:24.821984Z",
          "shell.execute_reply": "2023-08-18T19:32:24.820834Z"
        },
        "id": "1c33eb92",
        "origin_pos": 3,
        "tab": [
          "pytorch"
        ]
      },
      "outputs": [],
      "source": [
        "%matplotlib inline\n",
        "import pandas as pd\n",
        "import torch\n",
        "from torch import nn\n",
        "from d2l import torch as d2l"
      ]
    },
    {
      "cell_type": "markdown",
      "id": "22637186",
      "metadata": {
        "id": "22637186",
        "origin_pos": 6
      },
      "source": [
        "## Downloading Data\n",
        "\n",
        "Throughout the book, we will train and test models\n",
        "on various downloaded datasets.\n",
        "Here, we (**implement two utility functions**)\n",
        "for downloading and extracting zip or tar files.\n",
        "Again, we skip implementation details of\n",
        "such utility functions.\n"
      ]
    },
    {
      "cell_type": "code",
      "execution_count": null,
      "id": "c5b9dd70",
      "metadata": {
        "attributes": {
          "classes": [],
          "id": "",
          "n": "2"
        },
        "execution": {
          "iopub.execute_input": "2023-08-18T19:32:24.826201Z",
          "iopub.status.busy": "2023-08-18T19:32:24.825720Z",
          "iopub.status.idle": "2023-08-18T19:32:24.831209Z",
          "shell.execute_reply": "2023-08-18T19:32:24.830384Z"
        },
        "id": "c5b9dd70",
        "origin_pos": 7,
        "tab": [
          "pytorch"
        ]
      },
      "outputs": [],
      "source": [
        "def download(url, folder, sha1_hash=None):\n",
        "    \"\"\"Download a file to folder and return the local filepath.\"\"\"\n",
        "\n",
        "def extract(filename, folder):\n",
        "    \"\"\"Extract a zip/tar file into folder.\"\"\""
      ]
    },
    {
      "cell_type": "markdown",
      "id": "ff0b2664",
      "metadata": {
        "id": "ff0b2664",
        "origin_pos": 8
      },
      "source": [
        "## Kaggle\n",
        "\n",
        "[Kaggle](https://www.kaggle.com) is a popular platform\n",
        "that hosts machine learning competitions.\n",
        "Each competition centers on a dataset and many\n",
        "are sponsored by stakeholders who offer prizes\n",
        "to the winning solutions.\n",
        "The platform helps users to interact\n",
        "via forums and shared code,\n",
        "fostering both collaboration and competition.\n",
        "While leaderboard chasing often spirals out of control,\n",
        "with researchers focusing myopically on preprocessing steps\n",
        "rather than asking fundamental questions,\n",
        "there is also tremendous value in the objectivity of a platform\n",
        "that facilitates direct quantitative comparisons\n",
        "among competing approaches as well as code sharing\n",
        "so that everyone can learn what did and did not work.\n",
        "If you want to participate in a Kaggle competition,\n",
        "you will first need to register for an account\n",
        "(see :numref:`fig_kaggle`).\n",
        "\n",
        "![The Kaggle website.](https://github.com/d2l-ai/d2l-pytorch-colab/blob/master/img/kaggle.png?raw=1)\n",
        ":width:`400px`\n",
        ":label:`fig_kaggle`\n",
        "\n",
        "On the house price prediction competition page, as illustrated\n",
        "in :numref:`fig_house_pricing`,\n",
        "you can find the dataset (under the \"Data\" tab),\n",
        "submit predictions, and see your ranking,\n",
        "The URL is right here:\n",
        "\n",
        "> https://www.kaggle.com/c/house-prices-advanced-regression-techniques\n",
        "\n",
        "![The house price prediction competition page.](https://github.com/d2l-ai/d2l-pytorch-colab/blob/master/img/house-pricing.png?raw=1)\n",
        ":width:`400px`\n",
        ":label:`fig_house_pricing`\n",
        "\n",
        "## Accessing and Reading the Dataset\n",
        "\n",
        "Note that the competition data is separated\n",
        "into training and test sets.\n",
        "Each record includes the property value of the house\n",
        "and attributes such as street type, year of construction,\n",
        "roof type, basement condition, etc.\n",
        "The features consist of various data types.\n",
        "For example, the year of construction\n",
        "is represented by an integer,\n",
        "the roof type by discrete categorical assignments,\n",
        "and other features by floating point numbers.\n",
        "And here is where reality complicates things:\n",
        "for some examples, some data is altogether missing\n",
        "with the missing value marked simply as \"na\".\n",
        "The price of each house is included\n",
        "for the training set only\n",
        "(it is a competition after all).\n",
        "We will want to partition the training set\n",
        "to create a validation set,\n",
        "but we only get to evaluate our models on the official test set\n",
        "after uploading predictions to Kaggle.\n",
        "The \"Data\" tab on the competition tab\n",
        "in :numref:`fig_house_pricing`\n",
        "has links for downloading the data.\n",
        "\n",
        "To get started, we will [**read in and process the data\n",
        "using `pandas`**], which we introduced in :numref:`sec_pandas`.\n",
        "For convenience, we can download and cache\n",
        "the Kaggle housing dataset.\n",
        "If a file corresponding to this dataset already exists in the cache directory and its SHA-1 matches `sha1_hash`, our code will use the cached file to avoid clogging up your Internet with redundant downloads.\n"
      ]
    },
    {
      "cell_type": "code",
      "execution_count": null,
      "id": "48c41477",
      "metadata": {
        "attributes": {
          "classes": [],
          "id": "",
          "n": "30"
        },
        "execution": {
          "iopub.execute_input": "2023-08-18T19:32:24.835437Z",
          "iopub.status.busy": "2023-08-18T19:32:24.834529Z",
          "iopub.status.idle": "2023-08-18T19:32:24.840555Z",
          "shell.execute_reply": "2023-08-18T19:32:24.839683Z"
        },
        "id": "48c41477",
        "origin_pos": 9,
        "tab": [
          "pytorch"
        ]
      },
      "outputs": [],
      "source": [
        "class KaggleHouse(d2l.DataModule):\n",
        "    def __init__(self, batch_size, train=None, val=None):\n",
        "        super().__init__()\n",
        "        self.save_hyperparameters()\n",
        "        if self.train is None:\n",
        "            self.raw_train = pd.read_csv(d2l.download(\n",
        "                d2l.DATA_URL + 'kaggle_house_pred_train.csv', self.root,\n",
        "                sha1_hash='585e9cc93e70b39160e7921475f9bcd7d31219ce'))\n",
        "            self.raw_val = pd.read_csv(d2l.download(\n",
        "                d2l.DATA_URL + 'kaggle_house_pred_test.csv', self.root,\n",
        "                sha1_hash='fa19780a7b011d9b009e8bff8e99922a8ee2eb90'))"
      ]
    },
    {
      "cell_type": "markdown",
      "id": "45dfab1b",
      "metadata": {
        "id": "45dfab1b",
        "origin_pos": 10
      },
      "source": [
        "The training dataset includes 1460 examples,\n",
        "80 features, and one label, while the validation data\n",
        "contains 1459 examples and 80 features.\n"
      ]
    },
    {
      "cell_type": "code",
      "execution_count": null,
      "id": "7e9e8f7c",
      "metadata": {
        "attributes": {
          "classes": [],
          "id": "",
          "n": "31"
        },
        "execution": {
          "iopub.execute_input": "2023-08-18T19:32:24.844705Z",
          "iopub.status.busy": "2023-08-18T19:32:24.843955Z",
          "iopub.status.idle": "2023-08-18T19:32:25.218067Z",
          "shell.execute_reply": "2023-08-18T19:32:25.217232Z"
        },
        "id": "7e9e8f7c",
        "origin_pos": 11,
        "outputId": "0f8dc18c-84ee-4465-e8ca-5bfe7a15e0e0",
        "tab": [
          "pytorch"
        ],
        "colab": {
          "base_uri": "https://localhost:8080/"
        }
      },
      "outputs": [
        {
          "output_type": "stream",
          "name": "stdout",
          "text": [
            "Downloading ../data/kaggle_house_pred_train.csv from http://d2l-data.s3-accelerate.amazonaws.com/kaggle_house_pred_train.csv...\n",
            "Downloading ../data/kaggle_house_pred_test.csv from http://d2l-data.s3-accelerate.amazonaws.com/kaggle_house_pred_test.csv...\n",
            "(1460, 81)\n",
            "(1459, 80)\n"
          ]
        }
      ],
      "source": [
        "data = KaggleHouse(batch_size=64)\n",
        "print(data.raw_train.shape)\n",
        "print(data.raw_val.shape)"
      ]
    },
    {
      "cell_type": "markdown",
      "id": "017e793e",
      "metadata": {
        "id": "017e793e",
        "origin_pos": 12
      },
      "source": [
        "## Data Preprocessing\n",
        "\n",
        "Let's [**take a look at the first four and final two features\n",
        "as well as the label (SalePrice)**] from the first four examples.\n"
      ]
    },
    {
      "cell_type": "code",
      "execution_count": null,
      "id": "92621a85",
      "metadata": {
        "attributes": {
          "classes": [],
          "id": "",
          "n": "10"
        },
        "execution": {
          "iopub.execute_input": "2023-08-18T19:32:25.221755Z",
          "iopub.status.busy": "2023-08-18T19:32:25.221161Z",
          "iopub.status.idle": "2023-08-18T19:32:25.230323Z",
          "shell.execute_reply": "2023-08-18T19:32:25.229502Z"
        },
        "id": "92621a85",
        "origin_pos": 13,
        "outputId": "0eab502b-a503-4c60-d809-b8e1953b3a88",
        "tab": [
          "pytorch"
        ],
        "colab": {
          "base_uri": "https://localhost:8080/"
        }
      },
      "outputs": [
        {
          "output_type": "stream",
          "name": "stdout",
          "text": [
            "   Id  MSSubClass MSZoning  LotFrontage SaleType SaleCondition  SalePrice\n",
            "0   1          60       RL         65.0       WD        Normal     208500\n",
            "1   2          20       RL         80.0       WD        Normal     181500\n",
            "2   3          60       RL         68.0       WD        Normal     223500\n",
            "3   4          70       RL         60.0       WD       Abnorml     140000\n"
          ]
        }
      ],
      "source": [
        "print(data.raw_train.iloc[:4, [0, 1, 2, 3, -3, -2, -1]])"
      ]
    },
    {
      "cell_type": "markdown",
      "id": "caf77495",
      "metadata": {
        "id": "caf77495",
        "origin_pos": 14
      },
      "source": [
        "We can see that in each example, the first feature is the identifier.\n",
        "This helps the model determine each training example.\n",
        "While this is convenient, it does not carry\n",
        "any information for prediction purposes.\n",
        "Hence, we will remove it from the dataset\n",
        "before feeding the data into the model.\n",
        "Furthermore, given a wide variety of data types,\n",
        "we will need to preprocess the data before we can start modeling.\n",
        "\n",
        "\n",
        "Let's start with the numerical features.\n",
        "First, we apply a heuristic,\n",
        "[**replacing all missing values\n",
        "by the corresponding feature's mean.**]\n",
        "Then, to put all features on a common scale,\n",
        "we (***standardize* the data by\n",
        "rescaling features to zero mean and unit variance**):\n",
        "\n",
        "$$x \\leftarrow \\frac{x - \\mu}{\\sigma},$$\n",
        "\n",
        "where $\\mu$ and $\\sigma$ denote mean and standard deviation, respectively.\n",
        "To verify that this indeed transforms\n",
        "our feature (variable) such that it has zero mean and unit variance,\n",
        "note that $E[\\frac{x-\\mu}{\\sigma}] = \\frac{\\mu - \\mu}{\\sigma} = 0$\n",
        "and that $E[(x-\\mu)^2] = (\\sigma^2 + \\mu^2) - 2\\mu^2+\\mu^2 = \\sigma^2$.\n",
        "Intuitively, we standardize the data\n",
        "for two reasons.\n",
        "First, it proves convenient for optimization.\n",
        "Second, because we do not know *a priori*\n",
        "which features will be relevant,\n",
        "we do not want to penalize coefficients\n",
        "assigned to one feature more than any other.\n",
        "\n",
        "[**Next we deal with discrete values.**]\n",
        "These include features such as \"MSZoning\".\n",
        "(**We replace them by a one-hot encoding**)\n",
        "in the same way that we earlier transformed\n",
        "multiclass labels into vectors (see :numref:`subsec_classification-problem`).\n",
        "For instance, \"MSZoning\" assumes the values \"RL\" and \"RM\".\n",
        "Dropping the \"MSZoning\" feature,\n",
        "two new indicator features\n",
        "\"MSZoning_RL\" and \"MSZoning_RM\" are created with values being either 0 or 1.\n",
        "According to one-hot encoding,\n",
        "if the original value of \"MSZoning\" is \"RL\",\n",
        "then \"MSZoning_RL\" is 1 and \"MSZoning_RM\" is 0.\n",
        "The `pandas` package does this automatically for us.\n"
      ]
    },
    {
      "cell_type": "code",
      "execution_count": null,
      "id": "11b2ad6e",
      "metadata": {
        "attributes": {
          "classes": [],
          "id": "",
          "n": "32"
        },
        "execution": {
          "iopub.execute_input": "2023-08-18T19:32:25.233625Z",
          "iopub.status.busy": "2023-08-18T19:32:25.233151Z",
          "iopub.status.idle": "2023-08-18T19:32:25.239490Z",
          "shell.execute_reply": "2023-08-18T19:32:25.238692Z"
        },
        "id": "11b2ad6e",
        "origin_pos": 15,
        "tab": [
          "pytorch"
        ]
      },
      "outputs": [],
      "source": [
        "@d2l.add_to_class(KaggleHouse)\n",
        "def preprocess(self):\n",
        "    # Remove the ID and label columns\n",
        "    label = 'SalePrice'\n",
        "    features = pd.concat(\n",
        "        (self.raw_train.drop(columns=['Id', label]),\n",
        "         self.raw_val.drop(columns=['Id'])))\n",
        "    # Standardize numerical columns\n",
        "    numeric_features = features.dtypes[features.dtypes!='object'].index\n",
        "    features[numeric_features] = features[numeric_features].apply(\n",
        "        lambda x: (x - x.mean()) / (x.std()))\n",
        "    # Replace NAN numerical features by 0\n",
        "    features[numeric_features] = features[numeric_features].fillna(0)\n",
        "    # Replace discrete features by one-hot encoding\n",
        "    features = pd.get_dummies(features, dummy_na=True)\n",
        "    # Save preprocessed features\n",
        "    self.train = features[:self.raw_train.shape[0]].copy()\n",
        "    self.train[label] = self.raw_train[label]\n",
        "    self.val = features[self.raw_train.shape[0]:].copy()"
      ]
    },
    {
      "cell_type": "markdown",
      "id": "3d38d0ed",
      "metadata": {
        "id": "3d38d0ed",
        "origin_pos": 16
      },
      "source": [
        "You can see that this conversion increases\n",
        "the number of features from 79 to 331 (excluding ID and label columns).\n"
      ]
    },
    {
      "cell_type": "code",
      "execution_count": null,
      "id": "a9e39c34",
      "metadata": {
        "attributes": {
          "classes": [],
          "id": "",
          "n": "33"
        },
        "execution": {
          "iopub.execute_input": "2023-08-18T19:32:25.242819Z",
          "iopub.status.busy": "2023-08-18T19:32:25.242192Z",
          "iopub.status.idle": "2023-08-18T19:32:25.356247Z",
          "shell.execute_reply": "2023-08-18T19:32:25.355251Z"
        },
        "id": "a9e39c34",
        "origin_pos": 17,
        "outputId": "7e2518b2-b3e9-4d4d-c089-ea32bc804824",
        "tab": [
          "pytorch"
        ],
        "colab": {
          "base_uri": "https://localhost:8080/"
        }
      },
      "outputs": [
        {
          "output_type": "execute_result",
          "data": {
            "text/plain": [
              "(1460, 331)"
            ]
          },
          "metadata": {},
          "execution_count": 33
        }
      ],
      "source": [
        "data.preprocess()\n",
        "data.train.shape"
      ]
    },
    {
      "cell_type": "markdown",
      "id": "4a4f19be",
      "metadata": {
        "id": "4a4f19be",
        "origin_pos": 18
      },
      "source": [
        "## Error Measure\n",
        "\n",
        "To get started we will train a linear model with squared loss. Not surprisingly, our linear model will not lead to a competition-winning submission but it does provide a sanity check to see whether there is meaningful information in the data. If we cannot do better than random guessing here, then there might be a good chance that we have a data processing bug. And if things work, the linear model will serve as a baseline giving us some intuition about how close the simple model gets to the best reported models, giving us a sense of how much gain we should expect from fancier models.\n",
        "\n",
        "With house prices, as with stock prices,\n",
        "we care about relative quantities\n",
        "more than absolute quantities.\n",
        "Thus [**we tend to care more about\n",
        "the relative error $\\frac{y - \\hat{y}}{y}$**]\n",
        "than about the absolute error $y - \\hat{y}$.\n",
        "For instance, if our prediction is off by \\$100,000\n",
        "when estimating the price of a house in rural Ohio,\n",
        "where the value of a typical house is \\$125,000,\n",
        "then we are probably doing a horrible job.\n",
        "On the other hand, if we err by this amount\n",
        "in Los Altos Hills, California,\n",
        "this might represent a stunningly accurate prediction\n",
        "(there, the median house price exceeds \\$4 million).\n",
        "\n",
        "(**One way to address this problem is to\n",
        "measure the discrepancy in the logarithm of the price estimates.**)\n",
        "In fact, this is also the official error measure\n",
        "used by the competition to evaluate the quality of submissions.\n",
        "After all, a small value $\\delta$ for $|\\log y - \\log \\hat{y}| \\leq \\delta$\n",
        "translates into $e^{-\\delta} \\leq \\frac{\\hat{y}}{y} \\leq e^\\delta$.\n",
        "This leads to the following root-mean-squared-error between the logarithm of the predicted price and the logarithm of the label price:\n",
        "\n",
        "$$\\sqrt{\\frac{1}{n}\\sum_{i=1}^n\\left(\\log y_i -\\log \\hat{y}_i\\right)^2}.$$\n"
      ]
    },
    {
      "cell_type": "code",
      "execution_count": null,
      "id": "22cee03d",
      "metadata": {
        "attributes": {
          "classes": [],
          "id": "",
          "n": "60"
        },
        "execution": {
          "iopub.execute_input": "2023-08-18T19:32:25.360088Z",
          "iopub.status.busy": "2023-08-18T19:32:25.359480Z",
          "iopub.status.idle": "2023-08-18T19:32:25.365132Z",
          "shell.execute_reply": "2023-08-18T19:32:25.364342Z"
        },
        "id": "22cee03d",
        "origin_pos": 19,
        "tab": [
          "pytorch"
        ]
      },
      "outputs": [],
      "source": [
        "@d2l.add_to_class(KaggleHouse)\n",
        "def get_dataloader(self, train):\n",
        "    label = 'SalePrice'\n",
        "    data = self.train if train else self.val\n",
        "    if label not in data: return\n",
        "    get_tensor = lambda x: torch.tensor(x.values.astype(float),\n",
        "                                      dtype=torch.float32)\n",
        "    # Logarithm of prices\n",
        "    tensors = (get_tensor(data.drop(columns=[label])),  # X\n",
        "               torch.log(get_tensor(data[label])).reshape((-1, 1)))  # Y\n",
        "    return self.get_tensorloader(tensors, train)"
      ]
    },
    {
      "cell_type": "markdown",
      "id": "737b03af",
      "metadata": {
        "id": "737b03af",
        "origin_pos": 20
      },
      "source": [
        "## $K$-Fold Cross-Validation\n",
        "\n",
        "You might recall that we introduced [**cross-validation**]\n",
        "in :numref:`subsec_generalization-model-selection`, where we discussed how to deal\n",
        "with model selection.\n",
        "We will put this to good use to select the model design\n",
        "and to adjust the hyperparameters.\n",
        "We first need a function that returns\n",
        "the $i^\\textrm{th}$ fold of the data\n",
        "in a $K$-fold cross-validation procedure.\n",
        "It proceeds by slicing out the $i^\\textrm{th}$ segment\n",
        "as validation data and returning the rest as training data.\n",
        "Note that this is not the most efficient way of handling data\n",
        "and we would definitely do something much smarter\n",
        "if our dataset was considerably larger.\n",
        "But this added complexity might obfuscate our code unnecessarily\n",
        "so we can safely omit it here owing to the simplicity of our problem.\n"
      ]
    },
    {
      "cell_type": "code",
      "execution_count": null,
      "id": "e6949856",
      "metadata": {
        "execution": {
          "iopub.execute_input": "2023-08-18T19:32:25.368517Z",
          "iopub.status.busy": "2023-08-18T19:32:25.367949Z",
          "iopub.status.idle": "2023-08-18T19:32:25.372985Z",
          "shell.execute_reply": "2023-08-18T19:32:25.372067Z"
        },
        "id": "e6949856",
        "origin_pos": 21,
        "tab": [
          "pytorch"
        ]
      },
      "outputs": [],
      "source": [
        "def k_fold_data(data, k):\n",
        "    rets = []\n",
        "    fold_size = data.train.shape[0] // k\n",
        "    for j in range(k):\n",
        "        idx = range(j * fold_size, (j+1) * fold_size)\n",
        "        rets.append(KaggleHouse(data.batch_size, data.train.drop(index=idx),\n",
        "                                data.train.loc[idx]))\n",
        "    return rets"
      ]
    },
    {
      "cell_type": "markdown",
      "id": "f7071050",
      "metadata": {
        "id": "f7071050",
        "origin_pos": 22
      },
      "source": [
        "[**The average validation error is returned**]\n",
        "when we train $K$ times in the $K$-fold cross-validation.\n"
      ]
    },
    {
      "cell_type": "code",
      "execution_count": null,
      "id": "c626ec24",
      "metadata": {
        "execution": {
          "iopub.execute_input": "2023-08-18T19:32:25.376435Z",
          "iopub.status.busy": "2023-08-18T19:32:25.375867Z",
          "iopub.status.idle": "2023-08-18T19:32:25.381314Z",
          "shell.execute_reply": "2023-08-18T19:32:25.380464Z"
        },
        "id": "c626ec24",
        "origin_pos": 23,
        "tab": [
          "pytorch"
        ]
      },
      "outputs": [],
      "source": [
        "def k_fold(trainer, data, k, lr):\n",
        "    val_loss, models = [], []\n",
        "    for i, data_fold in enumerate(k_fold_data(data, k)):\n",
        "        model = d2l.LinearRegression(lr)\n",
        "        model.board.yscale='log'\n",
        "        if i != 0: model.board.display = False\n",
        "        trainer.fit(model, data_fold)\n",
        "        val_loss.append(float(model.board.data['val_loss'][-1].y))\n",
        "        models.append(model)\n",
        "    print(f'average validation log mse = {sum(val_loss)/len(val_loss)}')\n",
        "    return models"
      ]
    },
    {
      "cell_type": "markdown",
      "id": "bcb1790f",
      "metadata": {
        "id": "bcb1790f",
        "origin_pos": 24
      },
      "source": [
        "## [**Model Selection**]\n",
        "\n",
        "In this example, we pick an untuned set of hyperparameters\n",
        "and leave it up to the reader to improve the model.\n",
        "Finding a good choice can take time,\n",
        "depending on how many variables one optimizes over.\n",
        "With a large enough dataset,\n",
        "and the normal sorts of hyperparameters,\n",
        "$K$-fold cross-validation tends to be\n",
        "reasonably resilient against multiple testing.\n",
        "However, if we try an unreasonably large number of options\n",
        "we might find that our validation\n",
        "performance is no longer representative of the true error.\n"
      ]
    },
    {
      "cell_type": "code",
      "execution_count": null,
      "id": "c86184c4",
      "metadata": {
        "execution": {
          "iopub.execute_input": "2023-08-18T19:32:25.384646Z",
          "iopub.status.busy": "2023-08-18T19:32:25.384079Z",
          "iopub.status.idle": "2023-08-18T19:32:37.095341Z",
          "shell.execute_reply": "2023-08-18T19:32:37.094054Z"
        },
        "id": "c86184c4",
        "origin_pos": 25,
        "outputId": "2fd31448-d3be-4add-b73c-313f7ca1ee2b",
        "tab": [
          "pytorch"
        ],
        "colab": {
          "base_uri": "https://localhost:8080/",
          "height": 283
        }
      },
      "outputs": [
        {
          "output_type": "stream",
          "name": "stdout",
          "text": [
            "average validation log mse = 0.1802935990691185\n"
          ]
        },
        {
          "output_type": "display_data",
          "data": {
            "text/plain": [
              "<Figure size 350x250 with 1 Axes>"
            ],
            "image/svg+xml": "<?xml version=\"1.0\" encoding=\"utf-8\" standalone=\"no\"?>\n<!DOCTYPE svg PUBLIC \"-//W3C//DTD SVG 1.1//EN\"\n  \"http://www.w3.org/Graphics/SVG/1.1/DTD/svg11.dtd\">\n<svg xmlns:xlink=\"http://www.w3.org/1999/xlink\" width=\"240.6625pt\" height=\"183.35625pt\" viewBox=\"0 0 240.6625 183.35625\" xmlns=\"http://www.w3.org/2000/svg\" version=\"1.1\">\n <metadata>\n  <rdf:RDF xmlns:dc=\"http://purl.org/dc/elements/1.1/\" xmlns:cc=\"http://creativecommons.org/ns#\" xmlns:rdf=\"http://www.w3.org/1999/02/22-rdf-syntax-ns#\">\n   <cc:Work>\n    <dc:type rdf:resource=\"http://purl.org/dc/dcmitype/StillImage\"/>\n    <dc:date>2024-09-13T08:43:00.398299</dc:date>\n    <dc:format>image/svg+xml</dc:format>\n    <dc:creator>\n     <cc:Agent>\n      <dc:title>Matplotlib v3.7.2, https://matplotlib.org/</dc:title>\n     </cc:Agent>\n    </dc:creator>\n   </cc:Work>\n  </rdf:RDF>\n </metadata>\n <defs>\n  <style type=\"text/css\">*{stroke-linejoin: round; stroke-linecap: butt}</style>\n </defs>\n <g id=\"figure_1\">\n  <g id=\"patch_1\">\n   <path d=\"M 0 183.35625 \nL 240.6625 183.35625 \nL 240.6625 0 \nL 0 0 \nz\n\" style=\"fill: #ffffff\"/>\n  </g>\n  <g id=\"axes_1\">\n   <g id=\"patch_2\">\n    <path d=\"M 31.8 145.8 \nL 227.1 145.8 \nL 227.1 7.2 \nL 31.8 7.2 \nz\n\" style=\"fill: #ffffff\"/>\n   </g>\n   <g id=\"matplotlib.axis_1\">\n    <g id=\"xtick_1\">\n     <g id=\"line2d_1\">\n      <defs>\n       <path id=\"mcb89a6c015\" d=\"M 0 0 \nL 0 3.5 \n\" style=\"stroke: #000000; stroke-width: 0.8\"/>\n      </defs>\n      <g>\n       <use xlink:href=\"#mcb89a6c015\" x=\"31.8\" y=\"145.8\" style=\"stroke: #000000; stroke-width: 0.8\"/>\n      </g>\n     </g>\n     <g id=\"text_1\">\n      <!-- 0 -->\n      <g transform=\"translate(28.61875 160.398438) scale(0.1 -0.1)\">\n       <defs>\n        <path id=\"DejaVuSans-30\" d=\"M 2034 4250 \nQ 1547 4250 1301 3770 \nQ 1056 3291 1056 2328 \nQ 1056 1369 1301 889 \nQ 1547 409 2034 409 \nQ 2525 409 2770 889 \nQ 3016 1369 3016 2328 \nQ 3016 3291 2770 3770 \nQ 2525 4250 2034 4250 \nz\nM 2034 4750 \nQ 2819 4750 3233 4129 \nQ 3647 3509 3647 2328 \nQ 3647 1150 3233 529 \nQ 2819 -91 2034 -91 \nQ 1250 -91 836 529 \nQ 422 1150 422 2328 \nQ 422 3509 836 4129 \nQ 1250 4750 2034 4750 \nz\n\" transform=\"scale(0.015625)\"/>\n       </defs>\n       <use xlink:href=\"#DejaVuSans-30\"/>\n      </g>\n     </g>\n    </g>\n    <g id=\"xtick_2\">\n     <g id=\"line2d_2\">\n      <g>\n       <use xlink:href=\"#mcb89a6c015\" x=\"70.86\" y=\"145.8\" style=\"stroke: #000000; stroke-width: 0.8\"/>\n      </g>\n     </g>\n     <g id=\"text_2\">\n      <!-- 2 -->\n      <g transform=\"translate(67.67875 160.398438) scale(0.1 -0.1)\">\n       <defs>\n        <path id=\"DejaVuSans-32\" d=\"M 1228 531 \nL 3431 531 \nL 3431 0 \nL 469 0 \nL 469 531 \nQ 828 903 1448 1529 \nQ 2069 2156 2228 2338 \nQ 2531 2678 2651 2914 \nQ 2772 3150 2772 3378 \nQ 2772 3750 2511 3984 \nQ 2250 4219 1831 4219 \nQ 1534 4219 1204 4116 \nQ 875 4013 500 3803 \nL 500 4441 \nQ 881 4594 1212 4672 \nQ 1544 4750 1819 4750 \nQ 2544 4750 2975 4387 \nQ 3406 4025 3406 3419 \nQ 3406 3131 3298 2873 \nQ 3191 2616 2906 2266 \nQ 2828 2175 2409 1742 \nQ 1991 1309 1228 531 \nz\n\" transform=\"scale(0.015625)\"/>\n       </defs>\n       <use xlink:href=\"#DejaVuSans-32\"/>\n      </g>\n     </g>\n    </g>\n    <g id=\"xtick_3\">\n     <g id=\"line2d_3\">\n      <g>\n       <use xlink:href=\"#mcb89a6c015\" x=\"109.92\" y=\"145.8\" style=\"stroke: #000000; stroke-width: 0.8\"/>\n      </g>\n     </g>\n     <g id=\"text_3\">\n      <!-- 4 -->\n      <g transform=\"translate(106.73875 160.398438) scale(0.1 -0.1)\">\n       <defs>\n        <path id=\"DejaVuSans-34\" d=\"M 2419 4116 \nL 825 1625 \nL 2419 1625 \nL 2419 4116 \nz\nM 2253 4666 \nL 3047 4666 \nL 3047 1625 \nL 3713 1625 \nL 3713 1100 \nL 3047 1100 \nL 3047 0 \nL 2419 0 \nL 2419 1100 \nL 313 1100 \nL 313 1709 \nL 2253 4666 \nz\n\" transform=\"scale(0.015625)\"/>\n       </defs>\n       <use xlink:href=\"#DejaVuSans-34\"/>\n      </g>\n     </g>\n    </g>\n    <g id=\"xtick_4\">\n     <g id=\"line2d_4\">\n      <g>\n       <use xlink:href=\"#mcb89a6c015\" x=\"148.98\" y=\"145.8\" style=\"stroke: #000000; stroke-width: 0.8\"/>\n      </g>\n     </g>\n     <g id=\"text_4\">\n      <!-- 6 -->\n      <g transform=\"translate(145.79875 160.398438) scale(0.1 -0.1)\">\n       <defs>\n        <path id=\"DejaVuSans-36\" d=\"M 2113 2584 \nQ 1688 2584 1439 2293 \nQ 1191 2003 1191 1497 \nQ 1191 994 1439 701 \nQ 1688 409 2113 409 \nQ 2538 409 2786 701 \nQ 3034 994 3034 1497 \nQ 3034 2003 2786 2293 \nQ 2538 2584 2113 2584 \nz\nM 3366 4563 \nL 3366 3988 \nQ 3128 4100 2886 4159 \nQ 2644 4219 2406 4219 \nQ 1781 4219 1451 3797 \nQ 1122 3375 1075 2522 \nQ 1259 2794 1537 2939 \nQ 1816 3084 2150 3084 \nQ 2853 3084 3261 2657 \nQ 3669 2231 3669 1497 \nQ 3669 778 3244 343 \nQ 2819 -91 2113 -91 \nQ 1303 -91 875 529 \nQ 447 1150 447 2328 \nQ 447 3434 972 4092 \nQ 1497 4750 2381 4750 \nQ 2619 4750 2861 4703 \nQ 3103 4656 3366 4563 \nz\n\" transform=\"scale(0.015625)\"/>\n       </defs>\n       <use xlink:href=\"#DejaVuSans-36\"/>\n      </g>\n     </g>\n    </g>\n    <g id=\"xtick_5\">\n     <g id=\"line2d_5\">\n      <g>\n       <use xlink:href=\"#mcb89a6c015\" x=\"188.04\" y=\"145.8\" style=\"stroke: #000000; stroke-width: 0.8\"/>\n      </g>\n     </g>\n     <g id=\"text_5\">\n      <!-- 8 -->\n      <g transform=\"translate(184.85875 160.398438) scale(0.1 -0.1)\">\n       <defs>\n        <path id=\"DejaVuSans-38\" d=\"M 2034 2216 \nQ 1584 2216 1326 1975 \nQ 1069 1734 1069 1313 \nQ 1069 891 1326 650 \nQ 1584 409 2034 409 \nQ 2484 409 2743 651 \nQ 3003 894 3003 1313 \nQ 3003 1734 2745 1975 \nQ 2488 2216 2034 2216 \nz\nM 1403 2484 \nQ 997 2584 770 2862 \nQ 544 3141 544 3541 \nQ 544 4100 942 4425 \nQ 1341 4750 2034 4750 \nQ 2731 4750 3128 4425 \nQ 3525 4100 3525 3541 \nQ 3525 3141 3298 2862 \nQ 3072 2584 2669 2484 \nQ 3125 2378 3379 2068 \nQ 3634 1759 3634 1313 \nQ 3634 634 3220 271 \nQ 2806 -91 2034 -91 \nQ 1263 -91 848 271 \nQ 434 634 434 1313 \nQ 434 1759 690 2068 \nQ 947 2378 1403 2484 \nz\nM 1172 3481 \nQ 1172 3119 1398 2916 \nQ 1625 2713 2034 2713 \nQ 2441 2713 2670 2916 \nQ 2900 3119 2900 3481 \nQ 2900 3844 2670 4047 \nQ 2441 4250 2034 4250 \nQ 1625 4250 1398 4047 \nQ 1172 3844 1172 3481 \nz\n\" transform=\"scale(0.015625)\"/>\n       </defs>\n       <use xlink:href=\"#DejaVuSans-38\"/>\n      </g>\n     </g>\n    </g>\n    <g id=\"xtick_6\">\n     <g id=\"line2d_6\">\n      <g>\n       <use xlink:href=\"#mcb89a6c015\" x=\"227.1\" y=\"145.8\" style=\"stroke: #000000; stroke-width: 0.8\"/>\n      </g>\n     </g>\n     <g id=\"text_6\">\n      <!-- 10 -->\n      <g transform=\"translate(220.7375 160.398438) scale(0.1 -0.1)\">\n       <defs>\n        <path id=\"DejaVuSans-31\" d=\"M 794 531 \nL 1825 531 \nL 1825 4091 \nL 703 3866 \nL 703 4441 \nL 1819 4666 \nL 2450 4666 \nL 2450 531 \nL 3481 531 \nL 3481 0 \nL 794 0 \nL 794 531 \nz\n\" transform=\"scale(0.015625)\"/>\n       </defs>\n       <use xlink:href=\"#DejaVuSans-31\"/>\n       <use xlink:href=\"#DejaVuSans-30\" x=\"63.623047\"/>\n      </g>\n     </g>\n    </g>\n    <g id=\"text_7\">\n     <!-- epoch -->\n     <g transform=\"translate(114.221875 174.076563) scale(0.1 -0.1)\">\n      <defs>\n       <path id=\"DejaVuSans-65\" d=\"M 3597 1894 \nL 3597 1613 \nL 953 1613 \nQ 991 1019 1311 708 \nQ 1631 397 2203 397 \nQ 2534 397 2845 478 \nQ 3156 559 3463 722 \nL 3463 178 \nQ 3153 47 2828 -22 \nQ 2503 -91 2169 -91 \nQ 1331 -91 842 396 \nQ 353 884 353 1716 \nQ 353 2575 817 3079 \nQ 1281 3584 2069 3584 \nQ 2775 3584 3186 3129 \nQ 3597 2675 3597 1894 \nz\nM 3022 2063 \nQ 3016 2534 2758 2815 \nQ 2500 3097 2075 3097 \nQ 1594 3097 1305 2825 \nQ 1016 2553 972 2059 \nL 3022 2063 \nz\n\" transform=\"scale(0.015625)\"/>\n       <path id=\"DejaVuSans-70\" d=\"M 1159 525 \nL 1159 -1331 \nL 581 -1331 \nL 581 3500 \nL 1159 3500 \nL 1159 2969 \nQ 1341 3281 1617 3432 \nQ 1894 3584 2278 3584 \nQ 2916 3584 3314 3078 \nQ 3713 2572 3713 1747 \nQ 3713 922 3314 415 \nQ 2916 -91 2278 -91 \nQ 1894 -91 1617 61 \nQ 1341 213 1159 525 \nz\nM 3116 1747 \nQ 3116 2381 2855 2742 \nQ 2594 3103 2138 3103 \nQ 1681 3103 1420 2742 \nQ 1159 2381 1159 1747 \nQ 1159 1113 1420 752 \nQ 1681 391 2138 391 \nQ 2594 391 2855 752 \nQ 3116 1113 3116 1747 \nz\n\" transform=\"scale(0.015625)\"/>\n       <path id=\"DejaVuSans-6f\" d=\"M 1959 3097 \nQ 1497 3097 1228 2736 \nQ 959 2375 959 1747 \nQ 959 1119 1226 758 \nQ 1494 397 1959 397 \nQ 2419 397 2687 759 \nQ 2956 1122 2956 1747 \nQ 2956 2369 2687 2733 \nQ 2419 3097 1959 3097 \nz\nM 1959 3584 \nQ 2709 3584 3137 3096 \nQ 3566 2609 3566 1747 \nQ 3566 888 3137 398 \nQ 2709 -91 1959 -91 \nQ 1206 -91 779 398 \nQ 353 888 353 1747 \nQ 353 2609 779 3096 \nQ 1206 3584 1959 3584 \nz\n\" transform=\"scale(0.015625)\"/>\n       <path id=\"DejaVuSans-63\" d=\"M 3122 3366 \nL 3122 2828 \nQ 2878 2963 2633 3030 \nQ 2388 3097 2138 3097 \nQ 1578 3097 1268 2742 \nQ 959 2388 959 1747 \nQ 959 1106 1268 751 \nQ 1578 397 2138 397 \nQ 2388 397 2633 464 \nQ 2878 531 3122 666 \nL 3122 134 \nQ 2881 22 2623 -34 \nQ 2366 -91 2075 -91 \nQ 1284 -91 818 406 \nQ 353 903 353 1747 \nQ 353 2603 823 3093 \nQ 1294 3584 2113 3584 \nQ 2378 3584 2631 3529 \nQ 2884 3475 3122 3366 \nz\n\" transform=\"scale(0.015625)\"/>\n       <path id=\"DejaVuSans-68\" d=\"M 3513 2113 \nL 3513 0 \nL 2938 0 \nL 2938 2094 \nQ 2938 2591 2744 2837 \nQ 2550 3084 2163 3084 \nQ 1697 3084 1428 2787 \nQ 1159 2491 1159 1978 \nL 1159 0 \nL 581 0 \nL 581 4863 \nL 1159 4863 \nL 1159 2956 \nQ 1366 3272 1645 3428 \nQ 1925 3584 2291 3584 \nQ 2894 3584 3203 3211 \nQ 3513 2838 3513 2113 \nz\n\" transform=\"scale(0.015625)\"/>\n      </defs>\n      <use xlink:href=\"#DejaVuSans-65\"/>\n      <use xlink:href=\"#DejaVuSans-70\" x=\"61.523438\"/>\n      <use xlink:href=\"#DejaVuSans-6f\" x=\"125\"/>\n      <use xlink:href=\"#DejaVuSans-63\" x=\"186.181641\"/>\n      <use xlink:href=\"#DejaVuSans-68\" x=\"241.162109\"/>\n     </g>\n    </g>\n   </g>\n   <g id=\"matplotlib.axis_2\">\n    <g id=\"ytick_1\">\n     <g id=\"line2d_7\">\n      <defs>\n       <path id=\"mfdf087ca91\" d=\"M 0 0 \nL -3.5 0 \n\" style=\"stroke: #000000; stroke-width: 0.8\"/>\n      </defs>\n      <g>\n       <use xlink:href=\"#mfdf087ca91\" x=\"31.8\" y=\"90.792185\" style=\"stroke: #000000; stroke-width: 0.8\"/>\n      </g>\n     </g>\n     <g id=\"text_8\">\n      <!-- $\\mathdefault{10^{0}}$ -->\n      <g transform=\"translate(7.2 94.591404) scale(0.1 -0.1)\">\n       <use xlink:href=\"#DejaVuSans-31\" transform=\"translate(0 0.765625)\"/>\n       <use xlink:href=\"#DejaVuSans-30\" transform=\"translate(63.623047 0.765625)\"/>\n       <use xlink:href=\"#DejaVuSans-30\" transform=\"translate(128.203125 39.046875) scale(0.7)\"/>\n      </g>\n     </g>\n    </g>\n    <g id=\"ytick_2\">\n     <g id=\"line2d_8\">\n      <g>\n       <use xlink:href=\"#mfdf087ca91\" x=\"31.8\" y=\"31.214087\" style=\"stroke: #000000; stroke-width: 0.8\"/>\n      </g>\n     </g>\n     <g id=\"text_9\">\n      <!-- $\\mathdefault{10^{1}}$ -->\n      <g transform=\"translate(7.2 35.013305) scale(0.1 -0.1)\">\n       <use xlink:href=\"#DejaVuSans-31\" transform=\"translate(0 0.684375)\"/>\n       <use xlink:href=\"#DejaVuSans-30\" transform=\"translate(63.623047 0.684375)\"/>\n       <use xlink:href=\"#DejaVuSans-31\" transform=\"translate(128.203125 38.965625) scale(0.7)\"/>\n      </g>\n     </g>\n    </g>\n    <g id=\"ytick_3\">\n     <g id=\"line2d_9\">\n      <defs>\n       <path id=\"mec3010e741\" d=\"M 0 0 \nL -2 0 \n\" style=\"stroke: #000000; stroke-width: 0.6\"/>\n      </defs>\n      <g>\n       <use xlink:href=\"#mec3010e741\" x=\"31.8\" y=\"132.435489\" style=\"stroke: #000000; stroke-width: 0.6\"/>\n      </g>\n     </g>\n    </g>\n    <g id=\"ytick_4\">\n     <g id=\"line2d_10\">\n      <g>\n       <use xlink:href=\"#mec3010e741\" x=\"31.8\" y=\"121.944307\" style=\"stroke: #000000; stroke-width: 0.6\"/>\n      </g>\n     </g>\n    </g>\n    <g id=\"ytick_5\">\n     <g id=\"line2d_11\">\n      <g>\n       <use xlink:href=\"#mec3010e741\" x=\"31.8\" y=\"114.500695\" style=\"stroke: #000000; stroke-width: 0.6\"/>\n      </g>\n     </g>\n    </g>\n    <g id=\"ytick_6\">\n     <g id=\"line2d_12\">\n      <g>\n       <use xlink:href=\"#mec3010e741\" x=\"31.8\" y=\"108.72698\" style=\"stroke: #000000; stroke-width: 0.6\"/>\n      </g>\n     </g>\n    </g>\n    <g id=\"ytick_7\">\n     <g id=\"line2d_13\">\n      <g>\n       <use xlink:href=\"#mec3010e741\" x=\"31.8\" y=\"104.009512\" style=\"stroke: #000000; stroke-width: 0.6\"/>\n      </g>\n     </g>\n    </g>\n    <g id=\"ytick_8\">\n     <g id=\"line2d_14\">\n      <g>\n       <use xlink:href=\"#mec3010e741\" x=\"31.8\" y=\"100.02095\" style=\"stroke: #000000; stroke-width: 0.6\"/>\n      </g>\n     </g>\n    </g>\n    <g id=\"ytick_9\">\n     <g id=\"line2d_15\">\n      <g>\n       <use xlink:href=\"#mec3010e741\" x=\"31.8\" y=\"96.5659\" style=\"stroke: #000000; stroke-width: 0.6\"/>\n      </g>\n     </g>\n    </g>\n    <g id=\"ytick_10\">\n     <g id=\"line2d_16\">\n      <g>\n       <use xlink:href=\"#mec3010e741\" x=\"31.8\" y=\"93.51833\" style=\"stroke: #000000; stroke-width: 0.6\"/>\n      </g>\n     </g>\n    </g>\n    <g id=\"ytick_11\">\n     <g id=\"line2d_17\">\n      <g>\n       <use xlink:href=\"#mec3010e741\" x=\"31.8\" y=\"72.857391\" style=\"stroke: #000000; stroke-width: 0.6\"/>\n      </g>\n     </g>\n    </g>\n    <g id=\"ytick_12\">\n     <g id=\"line2d_18\">\n      <g>\n       <use xlink:href=\"#mec3010e741\" x=\"31.8\" y=\"62.366208\" style=\"stroke: #000000; stroke-width: 0.6\"/>\n      </g>\n     </g>\n    </g>\n    <g id=\"ytick_13\">\n     <g id=\"line2d_19\">\n      <g>\n       <use xlink:href=\"#mec3010e741\" x=\"31.8\" y=\"54.922596\" style=\"stroke: #000000; stroke-width: 0.6\"/>\n      </g>\n     </g>\n    </g>\n    <g id=\"ytick_14\">\n     <g id=\"line2d_20\">\n      <g>\n       <use xlink:href=\"#mec3010e741\" x=\"31.8\" y=\"49.148881\" style=\"stroke: #000000; stroke-width: 0.6\"/>\n      </g>\n     </g>\n    </g>\n    <g id=\"ytick_15\">\n     <g id=\"line2d_21\">\n      <g>\n       <use xlink:href=\"#mec3010e741\" x=\"31.8\" y=\"44.431413\" style=\"stroke: #000000; stroke-width: 0.6\"/>\n      </g>\n     </g>\n    </g>\n    <g id=\"ytick_16\">\n     <g id=\"line2d_22\">\n      <g>\n       <use xlink:href=\"#mec3010e741\" x=\"31.8\" y=\"40.442851\" style=\"stroke: #000000; stroke-width: 0.6\"/>\n      </g>\n     </g>\n    </g>\n    <g id=\"ytick_17\">\n     <g id=\"line2d_23\">\n      <g>\n       <use xlink:href=\"#mec3010e741\" x=\"31.8\" y=\"36.987801\" style=\"stroke: #000000; stroke-width: 0.6\"/>\n      </g>\n     </g>\n    </g>\n    <g id=\"ytick_18\">\n     <g id=\"line2d_24\">\n      <g>\n       <use xlink:href=\"#mec3010e741\" x=\"31.8\" y=\"33.940231\" style=\"stroke: #000000; stroke-width: 0.6\"/>\n      </g>\n     </g>\n    </g>\n    <g id=\"ytick_19\">\n     <g id=\"line2d_25\">\n      <g>\n       <use xlink:href=\"#mec3010e741\" x=\"31.8\" y=\"13.279292\" style=\"stroke: #000000; stroke-width: 0.6\"/>\n      </g>\n     </g>\n    </g>\n   </g>\n   <g id=\"line2d_26\">\n    <path d=\"M 35.911579 13.5 \n\" clip-path=\"url(#pd8fb531d9c)\" style=\"fill: none; stroke: #1f77b4; stroke-width: 1.5; stroke-linecap: square\"/>\n   </g>\n   <g id=\"line2d_27\">\n    <path d=\"M 35.911579 13.5 \nL 45.162632 101.096981 \n\" clip-path=\"url(#pd8fb531d9c)\" style=\"fill: none; stroke: #1f77b4; stroke-width: 1.5; stroke-linecap: square\"/>\n   </g>\n   <g id=\"line2d_28\">\n    <path d=\"M 35.911579 13.5 \nL 45.162632 101.096981 \n\" clip-path=\"url(#pd8fb531d9c)\" style=\"fill: none; stroke: #1f77b4; stroke-width: 1.5; stroke-linecap: square\"/>\n   </g>\n   <g id=\"line2d_29\">\n    <path d=\"M 51.33 109.265815 \n\" clip-path=\"url(#pd8fb531d9c)\" style=\"fill: none; stroke-dasharray: 5.55,2.4; stroke-dashoffset: 0; stroke: #ff7f0e; stroke-width: 1.5\"/>\n   </g>\n   <g id=\"line2d_30\">\n    <path d=\"M 35.911579 13.5 \nL 45.162632 101.096981 \nL 54.413684 106.537699 \n\" clip-path=\"url(#pd8fb531d9c)\" style=\"fill: none; stroke: #1f77b4; stroke-width: 1.5; stroke-linecap: square\"/>\n   </g>\n   <g id=\"line2d_31\">\n    <path d=\"M 51.33 109.265815 \n\" clip-path=\"url(#pd8fb531d9c)\" style=\"fill: none; stroke-dasharray: 5.55,2.4; stroke-dashoffset: 0; stroke: #ff7f0e; stroke-width: 1.5\"/>\n   </g>\n   <g id=\"line2d_32\">\n    <path d=\"M 35.911579 13.5 \nL 45.162632 101.096981 \nL 54.413684 106.537699 \nL 63.664737 112.633125 \n\" clip-path=\"url(#pd8fb531d9c)\" style=\"fill: none; stroke: #1f77b4; stroke-width: 1.5; stroke-linecap: square\"/>\n   </g>\n   <g id=\"line2d_33\">\n    <path d=\"M 51.33 109.265815 \n\" clip-path=\"url(#pd8fb531d9c)\" style=\"fill: none; stroke-dasharray: 5.55,2.4; stroke-dashoffset: 0; stroke: #ff7f0e; stroke-width: 1.5\"/>\n   </g>\n   <g id=\"line2d_34\">\n    <path d=\"M 35.911579 13.5 \nL 45.162632 101.096981 \nL 54.413684 106.537699 \nL 63.664737 112.633125 \n\" clip-path=\"url(#pd8fb531d9c)\" style=\"fill: none; stroke: #1f77b4; stroke-width: 1.5; stroke-linecap: square\"/>\n   </g>\n   <g id=\"line2d_35\">\n    <path d=\"M 51.33 109.265815 \nL 70.86 115.861769 \n\" clip-path=\"url(#pd8fb531d9c)\" style=\"fill: none; stroke-dasharray: 5.55,2.4; stroke-dashoffset: 0; stroke: #ff7f0e; stroke-width: 1.5\"/>\n   </g>\n   <g id=\"line2d_36\">\n    <path d=\"M 35.911579 13.5 \nL 45.162632 101.096981 \nL 54.413684 106.537699 \nL 63.664737 112.633125 \nL 72.915789 116.995036 \n\" clip-path=\"url(#pd8fb531d9c)\" style=\"fill: none; stroke: #1f77b4; stroke-width: 1.5; stroke-linecap: square\"/>\n   </g>\n   <g id=\"line2d_37\">\n    <path d=\"M 51.33 109.265815 \nL 70.86 115.861769 \n\" clip-path=\"url(#pd8fb531d9c)\" style=\"fill: none; stroke-dasharray: 5.55,2.4; stroke-dashoffset: 0; stroke: #ff7f0e; stroke-width: 1.5\"/>\n   </g>\n   <g id=\"line2d_38\">\n    <path d=\"M 35.911579 13.5 \nL 45.162632 101.096981 \nL 54.413684 106.537699 \nL 63.664737 112.633125 \nL 72.915789 116.995036 \nL 82.166842 116.555707 \n\" clip-path=\"url(#pd8fb531d9c)\" style=\"fill: none; stroke: #1f77b4; stroke-width: 1.5; stroke-linecap: square\"/>\n   </g>\n   <g id=\"line2d_39\">\n    <path d=\"M 51.33 109.265815 \nL 70.86 115.861769 \n\" clip-path=\"url(#pd8fb531d9c)\" style=\"fill: none; stroke-dasharray: 5.55,2.4; stroke-dashoffset: 0; stroke: #ff7f0e; stroke-width: 1.5\"/>\n   </g>\n   <g id=\"line2d_40\">\n    <path d=\"M 35.911579 13.5 \nL 45.162632 101.096981 \nL 54.413684 106.537699 \nL 63.664737 112.633125 \nL 72.915789 116.995036 \nL 82.166842 116.555707 \n\" clip-path=\"url(#pd8fb531d9c)\" style=\"fill: none; stroke: #1f77b4; stroke-width: 1.5; stroke-linecap: square\"/>\n   </g>\n   <g id=\"line2d_41\">\n    <path d=\"M 51.33 109.265815 \nL 70.86 115.861769 \nL 90.39 120.493597 \n\" clip-path=\"url(#pd8fb531d9c)\" style=\"fill: none; stroke-dasharray: 5.55,2.4; stroke-dashoffset: 0; stroke: #ff7f0e; stroke-width: 1.5\"/>\n   </g>\n   <g id=\"line2d_42\">\n    <path d=\"M 35.911579 13.5 \nL 45.162632 101.096981 \nL 54.413684 106.537699 \nL 63.664737 112.633125 \nL 72.915789 116.995036 \nL 82.166842 116.555707 \nL 91.417895 119.521335 \n\" clip-path=\"url(#pd8fb531d9c)\" style=\"fill: none; stroke: #1f77b4; stroke-width: 1.5; stroke-linecap: square\"/>\n   </g>\n   <g id=\"line2d_43\">\n    <path d=\"M 51.33 109.265815 \nL 70.86 115.861769 \nL 90.39 120.493597 \n\" clip-path=\"url(#pd8fb531d9c)\" style=\"fill: none; stroke-dasharray: 5.55,2.4; stroke-dashoffset: 0; stroke: #ff7f0e; stroke-width: 1.5\"/>\n   </g>\n   <g id=\"line2d_44\">\n    <path d=\"M 35.911579 13.5 \nL 45.162632 101.096981 \nL 54.413684 106.537699 \nL 63.664737 112.633125 \nL 72.915789 116.995036 \nL 82.166842 116.555707 \nL 91.417895 119.521335 \nL 100.668947 123.987394 \n\" clip-path=\"url(#pd8fb531d9c)\" style=\"fill: none; stroke: #1f77b4; stroke-width: 1.5; stroke-linecap: square\"/>\n   </g>\n   <g id=\"line2d_45\">\n    <path d=\"M 51.33 109.265815 \nL 70.86 115.861769 \nL 90.39 120.493597 \n\" clip-path=\"url(#pd8fb531d9c)\" style=\"fill: none; stroke-dasharray: 5.55,2.4; stroke-dashoffset: 0; stroke: #ff7f0e; stroke-width: 1.5\"/>\n   </g>\n   <g id=\"line2d_46\">\n    <path d=\"M 35.911579 13.5 \nL 45.162632 101.096981 \nL 54.413684 106.537699 \nL 63.664737 112.633125 \nL 72.915789 116.995036 \nL 82.166842 116.555707 \nL 91.417895 119.521335 \nL 100.668947 123.987394 \n\" clip-path=\"url(#pd8fb531d9c)\" style=\"fill: none; stroke: #1f77b4; stroke-width: 1.5; stroke-linecap: square\"/>\n   </g>\n   <g id=\"line2d_47\">\n    <path d=\"M 51.33 109.265815 \nL 70.86 115.861769 \nL 90.39 120.493597 \nL 109.92 123.251659 \n\" clip-path=\"url(#pd8fb531d9c)\" style=\"fill: none; stroke-dasharray: 5.55,2.4; stroke-dashoffset: 0; stroke: #ff7f0e; stroke-width: 1.5\"/>\n   </g>\n   <g id=\"line2d_48\">\n    <path d=\"M 35.911579 13.5 \nL 45.162632 101.096981 \nL 54.413684 106.537699 \nL 63.664737 112.633125 \nL 72.915789 116.995036 \nL 82.166842 116.555707 \nL 91.417895 119.521335 \nL 100.668947 123.987394 \nL 109.92 119.811982 \n\" clip-path=\"url(#pd8fb531d9c)\" style=\"fill: none; stroke: #1f77b4; stroke-width: 1.5; stroke-linecap: square\"/>\n   </g>\n   <g id=\"line2d_49\">\n    <path d=\"M 51.33 109.265815 \nL 70.86 115.861769 \nL 90.39 120.493597 \nL 109.92 123.251659 \n\" clip-path=\"url(#pd8fb531d9c)\" style=\"fill: none; stroke-dasharray: 5.55,2.4; stroke-dashoffset: 0; stroke: #ff7f0e; stroke-width: 1.5\"/>\n   </g>\n   <g id=\"line2d_50\">\n    <path d=\"M 35.911579 13.5 \nL 45.162632 101.096981 \nL 54.413684 106.537699 \nL 63.664737 112.633125 \nL 72.915789 116.995036 \nL 82.166842 116.555707 \nL 91.417895 119.521335 \nL 100.668947 123.987394 \nL 109.92 119.811982 \nL 119.171053 127.583899 \n\" clip-path=\"url(#pd8fb531d9c)\" style=\"fill: none; stroke: #1f77b4; stroke-width: 1.5; stroke-linecap: square\"/>\n   </g>\n   <g id=\"line2d_51\">\n    <path d=\"M 51.33 109.265815 \nL 70.86 115.861769 \nL 90.39 120.493597 \nL 109.92 123.251659 \n\" clip-path=\"url(#pd8fb531d9c)\" style=\"fill: none; stroke-dasharray: 5.55,2.4; stroke-dashoffset: 0; stroke: #ff7f0e; stroke-width: 1.5\"/>\n   </g>\n   <g id=\"line2d_52\">\n    <path d=\"M 35.911579 13.5 \nL 45.162632 101.096981 \nL 54.413684 106.537699 \nL 63.664737 112.633125 \nL 72.915789 116.995036 \nL 82.166842 116.555707 \nL 91.417895 119.521335 \nL 100.668947 123.987394 \nL 109.92 119.811982 \nL 119.171053 127.583899 \n\" clip-path=\"url(#pd8fb531d9c)\" style=\"fill: none; stroke: #1f77b4; stroke-width: 1.5; stroke-linecap: square\"/>\n   </g>\n   <g id=\"line2d_53\">\n    <path d=\"M 51.33 109.265815 \nL 70.86 115.861769 \nL 90.39 120.493597 \nL 109.92 123.251659 \nL 129.45 127.27467 \n\" clip-path=\"url(#pd8fb531d9c)\" style=\"fill: none; stroke-dasharray: 5.55,2.4; stroke-dashoffset: 0; stroke: #ff7f0e; stroke-width: 1.5\"/>\n   </g>\n   <g id=\"line2d_54\">\n    <path d=\"M 35.911579 13.5 \nL 45.162632 101.096981 \nL 54.413684 106.537699 \nL 63.664737 112.633125 \nL 72.915789 116.995036 \nL 82.166842 116.555707 \nL 91.417895 119.521335 \nL 100.668947 123.987394 \nL 109.92 119.811982 \nL 119.171053 127.583899 \nL 128.422105 126.08147 \n\" clip-path=\"url(#pd8fb531d9c)\" style=\"fill: none; stroke: #1f77b4; stroke-width: 1.5; stroke-linecap: square\"/>\n   </g>\n   <g id=\"line2d_55\">\n    <path d=\"M 51.33 109.265815 \nL 70.86 115.861769 \nL 90.39 120.493597 \nL 109.92 123.251659 \nL 129.45 127.27467 \n\" clip-path=\"url(#pd8fb531d9c)\" style=\"fill: none; stroke-dasharray: 5.55,2.4; stroke-dashoffset: 0; stroke: #ff7f0e; stroke-width: 1.5\"/>\n   </g>\n   <g id=\"line2d_56\">\n    <path d=\"M 35.911579 13.5 \nL 45.162632 101.096981 \nL 54.413684 106.537699 \nL 63.664737 112.633125 \nL 72.915789 116.995036 \nL 82.166842 116.555707 \nL 91.417895 119.521335 \nL 100.668947 123.987394 \nL 109.92 119.811982 \nL 119.171053 127.583899 \nL 128.422105 126.08147 \nL 137.673158 126.896994 \n\" clip-path=\"url(#pd8fb531d9c)\" style=\"fill: none; stroke: #1f77b4; stroke-width: 1.5; stroke-linecap: square\"/>\n   </g>\n   <g id=\"line2d_57\">\n    <path d=\"M 51.33 109.265815 \nL 70.86 115.861769 \nL 90.39 120.493597 \nL 109.92 123.251659 \nL 129.45 127.27467 \n\" clip-path=\"url(#pd8fb531d9c)\" style=\"fill: none; stroke-dasharray: 5.55,2.4; stroke-dashoffset: 0; stroke: #ff7f0e; stroke-width: 1.5\"/>\n   </g>\n   <g id=\"line2d_58\">\n    <path d=\"M 35.911579 13.5 \nL 45.162632 101.096981 \nL 54.413684 106.537699 \nL 63.664737 112.633125 \nL 72.915789 116.995036 \nL 82.166842 116.555707 \nL 91.417895 119.521335 \nL 100.668947 123.987394 \nL 109.92 119.811982 \nL 119.171053 127.583899 \nL 128.422105 126.08147 \nL 137.673158 126.896994 \n\" clip-path=\"url(#pd8fb531d9c)\" style=\"fill: none; stroke: #1f77b4; stroke-width: 1.5; stroke-linecap: square\"/>\n   </g>\n   <g id=\"line2d_59\">\n    <path d=\"M 51.33 109.265815 \nL 70.86 115.861769 \nL 90.39 120.493597 \nL 109.92 123.251659 \nL 129.45 127.27467 \nL 148.98 130.262687 \n\" clip-path=\"url(#pd8fb531d9c)\" style=\"fill: none; stroke-dasharray: 5.55,2.4; stroke-dashoffset: 0; stroke: #ff7f0e; stroke-width: 1.5\"/>\n   </g>\n   <g id=\"line2d_60\">\n    <path d=\"M 35.911579 13.5 \nL 45.162632 101.096981 \nL 54.413684 106.537699 \nL 63.664737 112.633125 \nL 72.915789 116.995036 \nL 82.166842 116.555707 \nL 91.417895 119.521335 \nL 100.668947 123.987394 \nL 109.92 119.811982 \nL 119.171053 127.583899 \nL 128.422105 126.08147 \nL 137.673158 126.896994 \nL 146.924211 135.977231 \n\" clip-path=\"url(#pd8fb531d9c)\" style=\"fill: none; stroke: #1f77b4; stroke-width: 1.5; stroke-linecap: square\"/>\n   </g>\n   <g id=\"line2d_61\">\n    <path d=\"M 51.33 109.265815 \nL 70.86 115.861769 \nL 90.39 120.493597 \nL 109.92 123.251659 \nL 129.45 127.27467 \nL 148.98 130.262687 \n\" clip-path=\"url(#pd8fb531d9c)\" style=\"fill: none; stroke-dasharray: 5.55,2.4; stroke-dashoffset: 0; stroke: #ff7f0e; stroke-width: 1.5\"/>\n   </g>\n   <g id=\"line2d_62\">\n    <path d=\"M 35.911579 13.5 \nL 45.162632 101.096981 \nL 54.413684 106.537699 \nL 63.664737 112.633125 \nL 72.915789 116.995036 \nL 82.166842 116.555707 \nL 91.417895 119.521335 \nL 100.668947 123.987394 \nL 109.92 119.811982 \nL 119.171053 127.583899 \nL 128.422105 126.08147 \nL 137.673158 126.896994 \nL 146.924211 135.977231 \nL 156.175263 129.121048 \n\" clip-path=\"url(#pd8fb531d9c)\" style=\"fill: none; stroke: #1f77b4; stroke-width: 1.5; stroke-linecap: square\"/>\n   </g>\n   <g id=\"line2d_63\">\n    <path d=\"M 51.33 109.265815 \nL 70.86 115.861769 \nL 90.39 120.493597 \nL 109.92 123.251659 \nL 129.45 127.27467 \nL 148.98 130.262687 \n\" clip-path=\"url(#pd8fb531d9c)\" style=\"fill: none; stroke-dasharray: 5.55,2.4; stroke-dashoffset: 0; stroke: #ff7f0e; stroke-width: 1.5\"/>\n   </g>\n   <g id=\"line2d_64\">\n    <path d=\"M 35.911579 13.5 \nL 45.162632 101.096981 \nL 54.413684 106.537699 \nL 63.664737 112.633125 \nL 72.915789 116.995036 \nL 82.166842 116.555707 \nL 91.417895 119.521335 \nL 100.668947 123.987394 \nL 109.92 119.811982 \nL 119.171053 127.583899 \nL 128.422105 126.08147 \nL 137.673158 126.896994 \nL 146.924211 135.977231 \nL 156.175263 129.121048 \n\" clip-path=\"url(#pd8fb531d9c)\" style=\"fill: none; stroke: #1f77b4; stroke-width: 1.5; stroke-linecap: square\"/>\n   </g>\n   <g id=\"line2d_65\">\n    <path d=\"M 51.33 109.265815 \nL 70.86 115.861769 \nL 90.39 120.493597 \nL 109.92 123.251659 \nL 129.45 127.27467 \nL 148.98 130.262687 \nL 168.51 131.900239 \n\" clip-path=\"url(#pd8fb531d9c)\" style=\"fill: none; stroke-dasharray: 5.55,2.4; stroke-dashoffset: 0; stroke: #ff7f0e; stroke-width: 1.5\"/>\n   </g>\n   <g id=\"line2d_66\">\n    <path d=\"M 35.911579 13.5 \nL 45.162632 101.096981 \nL 54.413684 106.537699 \nL 63.664737 112.633125 \nL 72.915789 116.995036 \nL 82.166842 116.555707 \nL 91.417895 119.521335 \nL 100.668947 123.987394 \nL 109.92 119.811982 \nL 119.171053 127.583899 \nL 128.422105 126.08147 \nL 137.673158 126.896994 \nL 146.924211 135.977231 \nL 156.175263 129.121048 \nL 165.426316 133.237529 \n\" clip-path=\"url(#pd8fb531d9c)\" style=\"fill: none; stroke: #1f77b4; stroke-width: 1.5; stroke-linecap: square\"/>\n   </g>\n   <g id=\"line2d_67\">\n    <path d=\"M 51.33 109.265815 \nL 70.86 115.861769 \nL 90.39 120.493597 \nL 109.92 123.251659 \nL 129.45 127.27467 \nL 148.98 130.262687 \nL 168.51 131.900239 \n\" clip-path=\"url(#pd8fb531d9c)\" style=\"fill: none; stroke-dasharray: 5.55,2.4; stroke-dashoffset: 0; stroke: #ff7f0e; stroke-width: 1.5\"/>\n   </g>\n   <g id=\"line2d_68\">\n    <path d=\"M 35.911579 13.5 \nL 45.162632 101.096981 \nL 54.413684 106.537699 \nL 63.664737 112.633125 \nL 72.915789 116.995036 \nL 82.166842 116.555707 \nL 91.417895 119.521335 \nL 100.668947 123.987394 \nL 109.92 119.811982 \nL 119.171053 127.583899 \nL 128.422105 126.08147 \nL 137.673158 126.896994 \nL 146.924211 135.977231 \nL 156.175263 129.121048 \nL 165.426316 133.237529 \nL 174.677368 133.559964 \n\" clip-path=\"url(#pd8fb531d9c)\" style=\"fill: none; stroke: #1f77b4; stroke-width: 1.5; stroke-linecap: square\"/>\n   </g>\n   <g id=\"line2d_69\">\n    <path d=\"M 51.33 109.265815 \nL 70.86 115.861769 \nL 90.39 120.493597 \nL 109.92 123.251659 \nL 129.45 127.27467 \nL 148.98 130.262687 \nL 168.51 131.900239 \n\" clip-path=\"url(#pd8fb531d9c)\" style=\"fill: none; stroke-dasharray: 5.55,2.4; stroke-dashoffset: 0; stroke: #ff7f0e; stroke-width: 1.5\"/>\n   </g>\n   <g id=\"line2d_70\">\n    <path d=\"M 35.911579 13.5 \nL 45.162632 101.096981 \nL 54.413684 106.537699 \nL 63.664737 112.633125 \nL 72.915789 116.995036 \nL 82.166842 116.555707 \nL 91.417895 119.521335 \nL 100.668947 123.987394 \nL 109.92 119.811982 \nL 119.171053 127.583899 \nL 128.422105 126.08147 \nL 137.673158 126.896994 \nL 146.924211 135.977231 \nL 156.175263 129.121048 \nL 165.426316 133.237529 \nL 174.677368 133.559964 \n\" clip-path=\"url(#pd8fb531d9c)\" style=\"fill: none; stroke: #1f77b4; stroke-width: 1.5; stroke-linecap: square\"/>\n   </g>\n   <g id=\"line2d_71\">\n    <path d=\"M 51.33 109.265815 \nL 70.86 115.861769 \nL 90.39 120.493597 \nL 109.92 123.251659 \nL 129.45 127.27467 \nL 148.98 130.262687 \nL 168.51 131.900239 \nL 188.04 132.903751 \n\" clip-path=\"url(#pd8fb531d9c)\" style=\"fill: none; stroke-dasharray: 5.55,2.4; stroke-dashoffset: 0; stroke: #ff7f0e; stroke-width: 1.5\"/>\n   </g>\n   <g id=\"line2d_72\">\n    <path d=\"M 35.911579 13.5 \nL 45.162632 101.096981 \nL 54.413684 106.537699 \nL 63.664737 112.633125 \nL 72.915789 116.995036 \nL 82.166842 116.555707 \nL 91.417895 119.521335 \nL 100.668947 123.987394 \nL 109.92 119.811982 \nL 119.171053 127.583899 \nL 128.422105 126.08147 \nL 137.673158 126.896994 \nL 146.924211 135.977231 \nL 156.175263 129.121048 \nL 165.426316 133.237529 \nL 174.677368 133.559964 \nL 183.928421 134.342372 \n\" clip-path=\"url(#pd8fb531d9c)\" style=\"fill: none; stroke: #1f77b4; stroke-width: 1.5; stroke-linecap: square\"/>\n   </g>\n   <g id=\"line2d_73\">\n    <path d=\"M 51.33 109.265815 \nL 70.86 115.861769 \nL 90.39 120.493597 \nL 109.92 123.251659 \nL 129.45 127.27467 \nL 148.98 130.262687 \nL 168.51 131.900239 \nL 188.04 132.903751 \n\" clip-path=\"url(#pd8fb531d9c)\" style=\"fill: none; stroke-dasharray: 5.55,2.4; stroke-dashoffset: 0; stroke: #ff7f0e; stroke-width: 1.5\"/>\n   </g>\n   <g id=\"line2d_74\">\n    <path d=\"M 35.911579 13.5 \nL 45.162632 101.096981 \nL 54.413684 106.537699 \nL 63.664737 112.633125 \nL 72.915789 116.995036 \nL 82.166842 116.555707 \nL 91.417895 119.521335 \nL 100.668947 123.987394 \nL 109.92 119.811982 \nL 119.171053 127.583899 \nL 128.422105 126.08147 \nL 137.673158 126.896994 \nL 146.924211 135.977231 \nL 156.175263 129.121048 \nL 165.426316 133.237529 \nL 174.677368 133.559964 \nL 183.928421 134.342372 \nL 193.179474 135.881382 \n\" clip-path=\"url(#pd8fb531d9c)\" style=\"fill: none; stroke: #1f77b4; stroke-width: 1.5; stroke-linecap: square\"/>\n   </g>\n   <g id=\"line2d_75\">\n    <path d=\"M 51.33 109.265815 \nL 70.86 115.861769 \nL 90.39 120.493597 \nL 109.92 123.251659 \nL 129.45 127.27467 \nL 148.98 130.262687 \nL 168.51 131.900239 \nL 188.04 132.903751 \n\" clip-path=\"url(#pd8fb531d9c)\" style=\"fill: none; stroke-dasharray: 5.55,2.4; stroke-dashoffset: 0; stroke: #ff7f0e; stroke-width: 1.5\"/>\n   </g>\n   <g id=\"line2d_76\">\n    <path d=\"M 35.911579 13.5 \nL 45.162632 101.096981 \nL 54.413684 106.537699 \nL 63.664737 112.633125 \nL 72.915789 116.995036 \nL 82.166842 116.555707 \nL 91.417895 119.521335 \nL 100.668947 123.987394 \nL 109.92 119.811982 \nL 119.171053 127.583899 \nL 128.422105 126.08147 \nL 137.673158 126.896994 \nL 146.924211 135.977231 \nL 156.175263 129.121048 \nL 165.426316 133.237529 \nL 174.677368 133.559964 \nL 183.928421 134.342372 \nL 193.179474 135.881382 \nL 202.430526 136.718909 \n\" clip-path=\"url(#pd8fb531d9c)\" style=\"fill: none; stroke: #1f77b4; stroke-width: 1.5; stroke-linecap: square\"/>\n   </g>\n   <g id=\"line2d_77\">\n    <path d=\"M 51.33 109.265815 \nL 70.86 115.861769 \nL 90.39 120.493597 \nL 109.92 123.251659 \nL 129.45 127.27467 \nL 148.98 130.262687 \nL 168.51 131.900239 \nL 188.04 132.903751 \n\" clip-path=\"url(#pd8fb531d9c)\" style=\"fill: none; stroke-dasharray: 5.55,2.4; stroke-dashoffset: 0; stroke: #ff7f0e; stroke-width: 1.5\"/>\n   </g>\n   <g id=\"line2d_78\">\n    <path d=\"M 35.911579 13.5 \nL 45.162632 101.096981 \nL 54.413684 106.537699 \nL 63.664737 112.633125 \nL 72.915789 116.995036 \nL 82.166842 116.555707 \nL 91.417895 119.521335 \nL 100.668947 123.987394 \nL 109.92 119.811982 \nL 119.171053 127.583899 \nL 128.422105 126.08147 \nL 137.673158 126.896994 \nL 146.924211 135.977231 \nL 156.175263 129.121048 \nL 165.426316 133.237529 \nL 174.677368 133.559964 \nL 183.928421 134.342372 \nL 193.179474 135.881382 \nL 202.430526 136.718909 \n\" clip-path=\"url(#pd8fb531d9c)\" style=\"fill: none; stroke: #1f77b4; stroke-width: 1.5; stroke-linecap: square\"/>\n   </g>\n   <g id=\"line2d_79\">\n    <path d=\"M 51.33 109.265815 \nL 70.86 115.861769 \nL 90.39 120.493597 \nL 109.92 123.251659 \nL 129.45 127.27467 \nL 148.98 130.262687 \nL 168.51 131.900239 \nL 188.04 132.903751 \nL 207.57 133.170922 \n\" clip-path=\"url(#pd8fb531d9c)\" style=\"fill: none; stroke-dasharray: 5.55,2.4; stroke-dashoffset: 0; stroke: #ff7f0e; stroke-width: 1.5\"/>\n   </g>\n   <g id=\"line2d_80\">\n    <path d=\"M 35.911579 13.5 \nL 45.162632 101.096981 \nL 54.413684 106.537699 \nL 63.664737 112.633125 \nL 72.915789 116.995036 \nL 82.166842 116.555707 \nL 91.417895 119.521335 \nL 100.668947 123.987394 \nL 109.92 119.811982 \nL 119.171053 127.583899 \nL 128.422105 126.08147 \nL 137.673158 126.896994 \nL 146.924211 135.977231 \nL 156.175263 129.121048 \nL 165.426316 133.237529 \nL 174.677368 133.559964 \nL 183.928421 134.342372 \nL 193.179474 135.881382 \nL 202.430526 136.718909 \nL 211.681579 136.753196 \n\" clip-path=\"url(#pd8fb531d9c)\" style=\"fill: none; stroke: #1f77b4; stroke-width: 1.5; stroke-linecap: square\"/>\n   </g>\n   <g id=\"line2d_81\">\n    <path d=\"M 51.33 109.265815 \nL 70.86 115.861769 \nL 90.39 120.493597 \nL 109.92 123.251659 \nL 129.45 127.27467 \nL 148.98 130.262687 \nL 168.51 131.900239 \nL 188.04 132.903751 \nL 207.57 133.170922 \n\" clip-path=\"url(#pd8fb531d9c)\" style=\"fill: none; stroke-dasharray: 5.55,2.4; stroke-dashoffset: 0; stroke: #ff7f0e; stroke-width: 1.5\"/>\n   </g>\n   <g id=\"line2d_82\">\n    <path d=\"M 35.911579 13.5 \nL 45.162632 101.096981 \nL 54.413684 106.537699 \nL 63.664737 112.633125 \nL 72.915789 116.995036 \nL 82.166842 116.555707 \nL 91.417895 119.521335 \nL 100.668947 123.987394 \nL 109.92 119.811982 \nL 119.171053 127.583899 \nL 128.422105 126.08147 \nL 137.673158 126.896994 \nL 146.924211 135.977231 \nL 156.175263 129.121048 \nL 165.426316 133.237529 \nL 174.677368 133.559964 \nL 183.928421 134.342372 \nL 193.179474 135.881382 \nL 202.430526 136.718909 \nL 211.681579 136.753196 \nL 220.932632 139.5 \n\" clip-path=\"url(#pd8fb531d9c)\" style=\"fill: none; stroke: #1f77b4; stroke-width: 1.5; stroke-linecap: square\"/>\n   </g>\n   <g id=\"line2d_83\">\n    <path d=\"M 51.33 109.265815 \nL 70.86 115.861769 \nL 90.39 120.493597 \nL 109.92 123.251659 \nL 129.45 127.27467 \nL 148.98 130.262687 \nL 168.51 131.900239 \nL 188.04 132.903751 \nL 207.57 133.170922 \n\" clip-path=\"url(#pd8fb531d9c)\" style=\"fill: none; stroke-dasharray: 5.55,2.4; stroke-dashoffset: 0; stroke: #ff7f0e; stroke-width: 1.5\"/>\n   </g>\n   <g id=\"line2d_84\">\n    <path d=\"M 35.911579 13.5 \nL 45.162632 101.096981 \nL 54.413684 106.537699 \nL 63.664737 112.633125 \nL 72.915789 116.995036 \nL 82.166842 116.555707 \nL 91.417895 119.521335 \nL 100.668947 123.987394 \nL 109.92 119.811982 \nL 119.171053 127.583899 \nL 128.422105 126.08147 \nL 137.673158 126.896994 \nL 146.924211 135.977231 \nL 156.175263 129.121048 \nL 165.426316 133.237529 \nL 174.677368 133.559964 \nL 183.928421 134.342372 \nL 193.179474 135.881382 \nL 202.430526 136.718909 \nL 211.681579 136.753196 \nL 220.932632 139.5 \n\" clip-path=\"url(#pd8fb531d9c)\" style=\"fill: none; stroke: #1f77b4; stroke-width: 1.5; stroke-linecap: square\"/>\n   </g>\n   <g id=\"line2d_85\">\n    <path d=\"M 51.33 109.265815 \nL 70.86 115.861769 \nL 90.39 120.493597 \nL 109.92 123.251659 \nL 129.45 127.27467 \nL 148.98 130.262687 \nL 168.51 131.900239 \nL 188.04 132.903751 \nL 207.57 133.170922 \nL 227.1 136.893955 \n\" clip-path=\"url(#pd8fb531d9c)\" style=\"fill: none; stroke-dasharray: 5.55,2.4; stroke-dashoffset: 0; stroke: #ff7f0e; stroke-width: 1.5\"/>\n   </g>\n   <g id=\"patch_3\">\n    <path d=\"M 31.8 145.8 \nL 31.8 7.2 \n\" style=\"fill: none; stroke: #000000; stroke-width: 0.8; stroke-linejoin: miter; stroke-linecap: square\"/>\n   </g>\n   <g id=\"patch_4\">\n    <path d=\"M 227.1 145.8 \nL 227.1 7.2 \n\" style=\"fill: none; stroke: #000000; stroke-width: 0.8; stroke-linejoin: miter; stroke-linecap: square\"/>\n   </g>\n   <g id=\"patch_5\">\n    <path d=\"M 31.8 145.8 \nL 227.1 145.8 \n\" style=\"fill: none; stroke: #000000; stroke-width: 0.8; stroke-linejoin: miter; stroke-linecap: square\"/>\n   </g>\n   <g id=\"patch_6\">\n    <path d=\"M 31.8 7.2 \nL 227.1 7.2 \n\" style=\"fill: none; stroke: #000000; stroke-width: 0.8; stroke-linejoin: miter; stroke-linecap: square\"/>\n   </g>\n   <g id=\"legend_1\">\n    <g id=\"patch_7\">\n     <path d=\"M 140.509375 45.1125 \nL 220.1 45.1125 \nQ 222.1 45.1125 222.1 43.1125 \nL 222.1 14.2 \nQ 222.1 12.2 220.1 12.2 \nL 140.509375 12.2 \nQ 138.509375 12.2 138.509375 14.2 \nL 138.509375 43.1125 \nQ 138.509375 45.1125 140.509375 45.1125 \nz\n\" style=\"fill: #ffffff; opacity: 0.8; stroke: #cccccc; stroke-linejoin: miter\"/>\n    </g>\n    <g id=\"line2d_86\">\n     <path d=\"M 142.509375 20.298438 \nL 152.509375 20.298438 \nL 162.509375 20.298438 \n\" style=\"fill: none; stroke: #1f77b4; stroke-width: 1.5; stroke-linecap: square\"/>\n    </g>\n    <g id=\"text_10\">\n     <!-- train_loss -->\n     <g transform=\"translate(170.509375 23.798438) scale(0.1 -0.1)\">\n      <defs>\n       <path id=\"DejaVuSans-74\" d=\"M 1172 4494 \nL 1172 3500 \nL 2356 3500 \nL 2356 3053 \nL 1172 3053 \nL 1172 1153 \nQ 1172 725 1289 603 \nQ 1406 481 1766 481 \nL 2356 481 \nL 2356 0 \nL 1766 0 \nQ 1100 0 847 248 \nQ 594 497 594 1153 \nL 594 3053 \nL 172 3053 \nL 172 3500 \nL 594 3500 \nL 594 4494 \nL 1172 4494 \nz\n\" transform=\"scale(0.015625)\"/>\n       <path id=\"DejaVuSans-72\" d=\"M 2631 2963 \nQ 2534 3019 2420 3045 \nQ 2306 3072 2169 3072 \nQ 1681 3072 1420 2755 \nQ 1159 2438 1159 1844 \nL 1159 0 \nL 581 0 \nL 581 3500 \nL 1159 3500 \nL 1159 2956 \nQ 1341 3275 1631 3429 \nQ 1922 3584 2338 3584 \nQ 2397 3584 2469 3576 \nQ 2541 3569 2628 3553 \nL 2631 2963 \nz\n\" transform=\"scale(0.015625)\"/>\n       <path id=\"DejaVuSans-61\" d=\"M 2194 1759 \nQ 1497 1759 1228 1600 \nQ 959 1441 959 1056 \nQ 959 750 1161 570 \nQ 1363 391 1709 391 \nQ 2188 391 2477 730 \nQ 2766 1069 2766 1631 \nL 2766 1759 \nL 2194 1759 \nz\nM 3341 1997 \nL 3341 0 \nL 2766 0 \nL 2766 531 \nQ 2569 213 2275 61 \nQ 1981 -91 1556 -91 \nQ 1019 -91 701 211 \nQ 384 513 384 1019 \nQ 384 1609 779 1909 \nQ 1175 2209 1959 2209 \nL 2766 2209 \nL 2766 2266 \nQ 2766 2663 2505 2880 \nQ 2244 3097 1772 3097 \nQ 1472 3097 1187 3025 \nQ 903 2953 641 2809 \nL 641 3341 \nQ 956 3463 1253 3523 \nQ 1550 3584 1831 3584 \nQ 2591 3584 2966 3190 \nQ 3341 2797 3341 1997 \nz\n\" transform=\"scale(0.015625)\"/>\n       <path id=\"DejaVuSans-69\" d=\"M 603 3500 \nL 1178 3500 \nL 1178 0 \nL 603 0 \nL 603 3500 \nz\nM 603 4863 \nL 1178 4863 \nL 1178 4134 \nL 603 4134 \nL 603 4863 \nz\n\" transform=\"scale(0.015625)\"/>\n       <path id=\"DejaVuSans-6e\" d=\"M 3513 2113 \nL 3513 0 \nL 2938 0 \nL 2938 2094 \nQ 2938 2591 2744 2837 \nQ 2550 3084 2163 3084 \nQ 1697 3084 1428 2787 \nQ 1159 2491 1159 1978 \nL 1159 0 \nL 581 0 \nL 581 3500 \nL 1159 3500 \nL 1159 2956 \nQ 1366 3272 1645 3428 \nQ 1925 3584 2291 3584 \nQ 2894 3584 3203 3211 \nQ 3513 2838 3513 2113 \nz\n\" transform=\"scale(0.015625)\"/>\n       <path id=\"DejaVuSans-5f\" d=\"M 3263 -1063 \nL 3263 -1509 \nL -63 -1509 \nL -63 -1063 \nL 3263 -1063 \nz\n\" transform=\"scale(0.015625)\"/>\n       <path id=\"DejaVuSans-6c\" d=\"M 603 4863 \nL 1178 4863 \nL 1178 0 \nL 603 0 \nL 603 4863 \nz\n\" transform=\"scale(0.015625)\"/>\n       <path id=\"DejaVuSans-73\" d=\"M 2834 3397 \nL 2834 2853 \nQ 2591 2978 2328 3040 \nQ 2066 3103 1784 3103 \nQ 1356 3103 1142 2972 \nQ 928 2841 928 2578 \nQ 928 2378 1081 2264 \nQ 1234 2150 1697 2047 \nL 1894 2003 \nQ 2506 1872 2764 1633 \nQ 3022 1394 3022 966 \nQ 3022 478 2636 193 \nQ 2250 -91 1575 -91 \nQ 1294 -91 989 -36 \nQ 684 19 347 128 \nL 347 722 \nQ 666 556 975 473 \nQ 1284 391 1588 391 \nQ 1994 391 2212 530 \nQ 2431 669 2431 922 \nQ 2431 1156 2273 1281 \nQ 2116 1406 1581 1522 \nL 1381 1569 \nQ 847 1681 609 1914 \nQ 372 2147 372 2553 \nQ 372 3047 722 3315 \nQ 1072 3584 1716 3584 \nQ 2034 3584 2315 3537 \nQ 2597 3491 2834 3397 \nz\n\" transform=\"scale(0.015625)\"/>\n      </defs>\n      <use xlink:href=\"#DejaVuSans-74\"/>\n      <use xlink:href=\"#DejaVuSans-72\" x=\"39.208984\"/>\n      <use xlink:href=\"#DejaVuSans-61\" x=\"80.322266\"/>\n      <use xlink:href=\"#DejaVuSans-69\" x=\"141.601562\"/>\n      <use xlink:href=\"#DejaVuSans-6e\" x=\"169.384766\"/>\n      <use xlink:href=\"#DejaVuSans-5f\" x=\"232.763672\"/>\n      <use xlink:href=\"#DejaVuSans-6c\" x=\"282.763672\"/>\n      <use xlink:href=\"#DejaVuSans-6f\" x=\"310.546875\"/>\n      <use xlink:href=\"#DejaVuSans-73\" x=\"371.728516\"/>\n      <use xlink:href=\"#DejaVuSans-73\" x=\"423.828125\"/>\n     </g>\n    </g>\n    <g id=\"line2d_87\">\n     <path d=\"M 142.509375 35.254688 \nL 152.509375 35.254688 \nL 162.509375 35.254688 \n\" style=\"fill: none; stroke-dasharray: 5.55,2.4; stroke-dashoffset: 0; stroke: #ff7f0e; stroke-width: 1.5\"/>\n    </g>\n    <g id=\"text_11\">\n     <!-- val_loss -->\n     <g transform=\"translate(170.509375 38.754688) scale(0.1 -0.1)\">\n      <defs>\n       <path id=\"DejaVuSans-76\" d=\"M 191 3500 \nL 800 3500 \nL 1894 563 \nL 2988 3500 \nL 3597 3500 \nL 2284 0 \nL 1503 0 \nL 191 3500 \nz\n\" transform=\"scale(0.015625)\"/>\n      </defs>\n      <use xlink:href=\"#DejaVuSans-76\"/>\n      <use xlink:href=\"#DejaVuSans-61\" x=\"59.179688\"/>\n      <use xlink:href=\"#DejaVuSans-6c\" x=\"120.458984\"/>\n      <use xlink:href=\"#DejaVuSans-5f\" x=\"148.242188\"/>\n      <use xlink:href=\"#DejaVuSans-6c\" x=\"198.242188\"/>\n      <use xlink:href=\"#DejaVuSans-6f\" x=\"226.025391\"/>\n      <use xlink:href=\"#DejaVuSans-73\" x=\"287.207031\"/>\n      <use xlink:href=\"#DejaVuSans-73\" x=\"339.306641\"/>\n     </g>\n    </g>\n   </g>\n  </g>\n </g>\n <defs>\n  <clipPath id=\"pd8fb531d9c\">\n   <rect x=\"31.8\" y=\"7.2\" width=\"195.3\" height=\"138.6\"/>\n  </clipPath>\n </defs>\n</svg>\n"
          },
          "metadata": {}
        }
      ],
      "source": [
        "trainer = d2l.Trainer(max_epochs=10)\n",
        "models = k_fold(trainer, data, k=5, lr=0.01)"
      ]
    },
    {
      "cell_type": "markdown",
      "id": "158afa13",
      "metadata": {
        "id": "158afa13",
        "origin_pos": 26
      },
      "source": [
        "Notice that sometimes the number of training errors\n",
        "for a set of hyperparameters can be very low,\n",
        "even as the number of errors on $K$-fold cross-validation\n",
        "grows considerably higher.\n",
        "This indicates that we are overfitting.\n",
        "Throughout training you will want to monitor both numbers.\n",
        "Less overfitting might indicate that our data can support a more powerful model.\n",
        "Massive overfitting might suggest that we can gain\n",
        "by incorporating regularization techniques.\n",
        "\n",
        "##  [**Submitting Predictions on Kaggle**]\n",
        "\n",
        "Now that we know what a good choice of hyperparameters should be,\n",
        "we might\n",
        "calculate the average predictions\n",
        "on the test set\n",
        "by all the $K$ models.\n",
        "Saving the predictions in a csv file\n",
        "will simplify uploading the results to Kaggle.\n",
        "The following code will generate a file called `submission.csv`.\n"
      ]
    },
    {
      "cell_type": "code",
      "execution_count": null,
      "id": "f4a3bcde",
      "metadata": {
        "execution": {
          "iopub.execute_input": "2023-08-18T19:32:37.100208Z",
          "iopub.status.busy": "2023-08-18T19:32:37.099453Z",
          "iopub.status.idle": "2023-08-18T19:32:37.266811Z",
          "shell.execute_reply": "2023-08-18T19:32:37.265844Z"
        },
        "id": "f4a3bcde",
        "origin_pos": 27,
        "tab": [
          "pytorch"
        ]
      },
      "outputs": [],
      "source": [
        "preds = [model(torch.tensor(data.val.values.astype(float), dtype=torch.float32))\n",
        "         for model in models]\n",
        "# Taking exponentiation of predictions in the logarithm scale\n",
        "ensemble_preds = torch.exp(torch.cat(preds, 1)).mean(1)\n",
        "submission = pd.DataFrame({'Id':data.raw_val.Id,\n",
        "                           'SalePrice':ensemble_preds.detach().numpy()})\n",
        "submission.to_csv('submission.csv', index=False)"
      ]
    },
    {
      "cell_type": "markdown",
      "id": "206db870",
      "metadata": {
        "id": "206db870",
        "origin_pos": 28
      },
      "source": [
        "Next, as demonstrated in :numref:`fig_kaggle_submit2`,\n",
        "we can submit our predictions on Kaggle\n",
        "and see how they compare with the actual house prices (labels)\n",
        "on the test set.\n",
        "The steps are quite simple:\n",
        "\n",
        "* Log in to the Kaggle website and visit the house price prediction competition page.\n",
        "* Click the “Submit Predictions” or “Late Submission” button.\n",
        "* Click the “Upload Submission File” button in the dashed box at the bottom of the page and select the prediction file you wish to upload.\n",
        "* Click the “Make Submission” button at the bottom of the page to view your results.\n",
        "\n",
        "![Submitting data to Kaggle](https://github.com/d2l-ai/d2l-pytorch-colab/blob/master/img/kaggle-submit2.png?raw=1)\n",
        ":width:`400px`\n",
        ":label:`fig_kaggle_submit2`\n",
        "\n",
        "## Summary and Discussion\n",
        "\n",
        "Real data often contains a mix of different data types and needs to be preprocessed.\n",
        "Rescaling real-valued data to zero mean and unit variance is a good default. So is replacing missing values with their mean.\n",
        "Furthermore, transforming categorical features into indicator features allows us to treat them like one-hot vectors.\n",
        "When we tend to care more about\n",
        "the relative error than about the absolute error,\n",
        "we can\n",
        "measure the discrepancy in the logarithm of the prediction.\n",
        "To select the model and adjust the hyperparameters,\n",
        "we can use $K$-fold cross-validation .\n",
        "\n",
        "\n",
        "\n",
        "## Exercises\n",
        "\n",
        "1. Submit your predictions for this section to Kaggle. How good are they?\n",
        "1. Is it always a good idea to replace missing values by a mean? Hint: can you construct a situation where the values are not missing at random?\n",
        "1. Improve the score by tuning the hyperparameters through $K$-fold cross-validation.\n",
        "1. Improve the score by improving the model (e.g., layers, weight decay, and dropout).\n",
        "1. What happens if we do not standardize the continuous numerical features as we have done in this section?\n"
      ]
    },
    {
      "cell_type": "markdown",
      "id": "fe43aac4",
      "metadata": {
        "id": "fe43aac4",
        "origin_pos": 30,
        "tab": [
          "pytorch"
        ]
      },
      "source": [
        "[Discussions](https://discuss.d2l.ai/t/107)\n"
      ]
    }
  ],
  "metadata": {
    "colab": {
      "provenance": [],
      "include_colab_link": true
    },
    "kernelspec": {
      "display_name": "Python 3",
      "name": "python3"
    },
    "language_info": {
      "name": "python"
    },
    "required_libs": []
  },
  "nbformat": 4,
  "nbformat_minor": 5
}